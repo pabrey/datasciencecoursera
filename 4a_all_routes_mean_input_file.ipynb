{
  "nbformat": 4,
  "nbformat_minor": 0,
  "metadata": {
    "colab": {
      "name": "4a-all-routes-mean-input-file.ipynb",
      "version": "0.3.2",
      "provenance": [],
      "collapsed_sections": [],
      "toc_visible": true,
      "include_colab_link": true
    },
    "kernelspec": {
      "name": "python3",
      "display_name": "Python 3"
    }
  },
  "cells": [
    {
      "cell_type": "markdown",
      "metadata": {
        "id": "view-in-github",
        "colab_type": "text"
      },
      "source": [
        "<a href=\"https://colab.research.google.com/github/pabrey/datasciencecoursera/blob/master/4a_all_routes_mean_input_file.ipynb\" target=\"_parent\"><img src=\"https://colab.research.google.com/assets/colab-badge.svg\" alt=\"Open In Colab\"/></a>"
      ]
    },
    {
      "cell_type": "markdown",
      "metadata": {
        "id": "sKQ-IC2Q5rAn",
        "colab_type": "text"
      },
      "source": [
        "# Previous"
      ]
    },
    {
      "cell_type": "code",
      "metadata": {
        "id": "nvf8ZZH35eGx",
        "colab_type": "code",
        "colab": {}
      },
      "source": [
        "import pandas as pd\n",
        "import io\n",
        "import matplotlib.pyplot as plt\n",
        "import numpy as np\n",
        "import json\n",
        "from google.colab import files\n",
        "import time\n",
        "from datetime import datetime\n",
        "import math"
      ],
      "execution_count": 0,
      "outputs": []
    },
    {
      "cell_type": "code",
      "metadata": {
        "id": "UiWM6zi_53T_",
        "colab_type": "code",
        "outputId": "27375c45-e5a0-4a78-d04c-ff8bc17f0229",
        "colab": {
          "base_uri": "https://localhost:8080/",
          "height": 34
        }
      },
      "source": [
        "from google.colab import drive\n",
        "drive.mount('/content/drive')"
      ],
      "execution_count": 0,
      "outputs": [
        {
          "output_type": "stream",
          "text": [
            "Drive already mounted at /content/drive; to attempt to forcibly remount, call drive.mount(\"/content/drive\", force_remount=True).\n"
          ],
          "name": "stdout"
        }
      ]
    },
    {
      "cell_type": "markdown",
      "metadata": {
        "id": "BHjW4SsS55so",
        "colab_type": "text"
      },
      "source": [
        "# Create auxilary functions"
      ]
    },
    {
      "cell_type": "markdown",
      "metadata": {
        "id": "HUufM4ja58ZX",
        "colab_type": "text"
      },
      "source": [
        "## Create auxilary functions"
      ]
    },
    {
      "cell_type": "markdown",
      "metadata": {
        "id": "uggZrNp85_B1",
        "colab_type": "text"
      },
      "source": [
        "### confgiuration file"
      ]
    },
    {
      "cell_type": "code",
      "metadata": {
        "id": "IfVd6Cyg6CHG",
        "colab_type": "code",
        "outputId": "34bc33bf-85ea-4cf7-bc7f-e42e8a9cc4be",
        "colab": {
          "base_uri": "https://localhost:8080/",
          "height": 54
        }
      },
      "source": [
        "import json\n",
        "\n",
        "def create_single_conf_deterministic_node(mode, id, type_node, resolution, prority, resources,  releasingNodes = None ):\n",
        "  node =  {\n",
        "      \"Mode\": mode,\n",
        "      \"Id\": id,\n",
        "      \"Type\": type_node,\n",
        "      \"Distribution\": [\n",
        "        {\n",
        "          \"DistributionType\": {\n",
        "            \"SamplesEstimation\": {\n",
        "              \"Resolution\": resolution\n",
        "            }\n",
        "          },\n",
        "          \"Priority\": prority\n",
        "        }\n",
        "      ]\n",
        "    }\n",
        "  if releasingNodes!= None:\n",
        "     node.update({\"ReleasingNodes\": [releasingNodes]})\n",
        "  node.update({\"Resources\": resources})\n",
        "  return node\n",
        "\n",
        "\n",
        "def create_conf_list_nodes(node_list, resolution, prority, resources):\n",
        "  list_node = []\n",
        "  #to avoid duplicte create dictionary\n",
        "  node_dic = {}\n",
        "  for node in node_list:\n",
        "    if (node[1] not in node_dic):\n",
        "      node_dic[node[1]]= node\n",
        "  \n",
        "  for (key, node) in node_dic.items():\n",
        "    #node variables: mode, id, type, resloution, priority\n",
        "    list_node.append(create_single_conf_deterministic_node(node[0], node[1], node[2],  resolution, prority, resources))\n",
        "  return list_node\n",
        "  \n",
        "\n",
        "def create_config_file(list_nodes, fin_node):\n",
        "  x = {\n",
        "    \"ResultTimeDistance\": 3600,\n",
        "    \"ArrivalEstimate\": \n",
        "      {\n",
        "        \"ModelRelativePath\": \"src/main/resources/R/ratesEstimator/model.net\",\n",
        "        \"ScaleFactor\": 21\n",
        "      }, \n",
        "    \"Nodes\": list_nodes,\n",
        "    \"SinkId\": fin_node\n",
        "  }\n",
        "  # convert into JSON:\n",
        "  return json.dumps(x)\n",
        "\n",
        "resources = 1\n",
        "resolution = 1000\n",
        "# the result is a JSON string:\n",
        "#print(create_base_file())\n",
        "#print(create_single_deterministic_node(\"arrival\", \"LlegadaPersonas\" ,1, 20, 0, 1))\n",
        "list_node = []\n",
        "list_node.append((\"arrival\", \"LlegadaPersonas\" ,1, 10000, 0, 1))\n",
        "list_node.append((\"service\", \"Tornos\" ,5, 10000, 0, 2))\n",
        "list_node.append((\"service\", \"Tornos\" ,5, 10000, 0, 2))\n",
        "list_node.append((\"service\", \"PassiveNode\" ,2, 10000, 0, 1, \"Tornos\"))\n",
        "list_node.append((\"service\", \"ActividadPersona\" ,10000, 5, 0, 1))\n",
        "list_node.append((\"service\", \"FinPersona\" ,10000, 5, 0, 1))\n",
        "resolution_test = 1000\n",
        "prority_test = 1\n",
        "resources_test = 1\n",
        "\n",
        "last_node = list_node.pop()\n",
        "list_send = create_conf_list_nodes(list_node, resolution_test, prority_test, resources_test)\n",
        "result = create_config_file(list_send, last_node[1])\n",
        "\n",
        "print(result)"
      ],
      "execution_count": 0,
      "outputs": [
        {
          "output_type": "stream",
          "text": [
            "{\"ResultTimeDistance\": 3600, \"ArrivalEstimate\": {\"ModelRelativePath\": \"src/main/resources/R/ratesEstimator/model.net\", \"ScaleFactor\": 21}, \"Nodes\": [{\"Mode\": \"arrival\", \"Id\": \"LlegadaPersonas\", \"Type\": 1, \"Distribution\": [{\"DistributionType\": {\"SamplesEstimation\": {\"Resolution\": 1000}}, \"Priority\": 1}], \"Resources\": 1}, {\"Mode\": \"service\", \"Id\": \"Tornos\", \"Type\": 5, \"Distribution\": [{\"DistributionType\": {\"SamplesEstimation\": {\"Resolution\": 1000}}, \"Priority\": 1}], \"Resources\": 1}, {\"Mode\": \"service\", \"Id\": \"PassiveNode\", \"Type\": 2, \"Distribution\": [{\"DistributionType\": {\"SamplesEstimation\": {\"Resolution\": 1000}}, \"Priority\": 1}], \"Resources\": 1}, {\"Mode\": \"service\", \"Id\": \"ActividadPersona\", \"Type\": 10000, \"Distribution\": [{\"DistributionType\": {\"SamplesEstimation\": {\"Resolution\": 1000}}, \"Priority\": 1}], \"Resources\": 1}], \"SinkId\": \"FinPersona\"}\n"
          ],
          "name": "stdout"
        }
      ]
    },
    {
      "cell_type": "markdown",
      "metadata": {
        "id": "fyWrEdii6FL1",
        "colab_type": "text"
      },
      "source": [
        "## routes file"
      ]
    },
    {
      "cell_type": "code",
      "metadata": {
        "id": "Wqrbwmrt6JMO",
        "colab_type": "code",
        "outputId": "fc3f89a9-1889-4ce8-c4b7-5495e17b15b2",
        "colab": {
          "base_uri": "https://localhost:8080/",
          "height": 867
        }
      },
      "source": [
        "def create_file_routes(tinit, tsimulation, tmaxsimulation, samples):\n",
        "  x = {\n",
        "    \"InitialData\": {\n",
        "      \"SimulationConfig\": {\n",
        "        \"t_init\": tinit,\n",
        "        \"t_simulation\": tsimulation,\n",
        "        \"t_max_simulation\": tmaxsimulation\n",
        "      },\n",
        "      \"Samples\": {\n",
        "          \"User\": samples\n",
        "      },  \n",
        "      \"ArrivalSamples\": {\n",
        "        \"ArrivalTime\": []\n",
        "      },\n",
        "      \"Resource_update\": {}\n",
        "    }\n",
        "  }\n",
        "  return json.dumps(x)\n",
        "\n",
        "\n",
        "\n",
        "def create_routes_list_nodes(input_nodes):\n",
        "  \n",
        "  def add_data(nodes_user):  \n",
        "    \n",
        "      #ouput\n",
        "      tem_sal = []\n",
        "     \n",
        "      \n",
        "      lista_nodes_routes = nodes_user.values.tolist()\n",
        "     # last_node = lista_nodes_routes.pop()\n",
        "      for  node in lista_nodes_routes:       # print(node) 15\n",
        "        tem_sal.append({ \"NodeId\": node[0], \"ArrivalTime\": node[1], \"ServiceStartTime\": node[2], \"DepartureTime\": node[3] })  \n",
        "        \n",
        "      #tem_sal.append({ \"NodeId\":last_node[0]})\n",
        "      #factor of replication\n",
        "\n",
        "      replication = int(lista_nodes_routes[0][4])\n",
        "      \n",
        "      tem_user =    [{\"Priority\": 1,\"Step\": tem_sal }]  \n",
        "      return tem_user*replication\n",
        "      \n",
        "  sal_nodes = input_nodes.groupby(\"CASE_ID\")[ \"ACTIVITY\", \"ArrivalTime\", \"ServiceStartTime\", \"DepartureTime\", \"factor\"].apply(lambda x: add_data(x))\n",
        "  \n",
        "  tem_sal = []\n",
        "  for user_node in sal_nodes:\n",
        "    tem_sal.extend(user_node)\n",
        "  \n",
        "  return tem_sal\n",
        "\n",
        "\n",
        "data = [\n",
        "    [\"1\", \"LlegadaPersonas\", 100, 100, 120, 2],\n",
        "    [\"1\", \"Tornos\", 100, 100, 120, 2],\n",
        "    [\"1\", \"PassiveNode\", 100, 100, 120, 2],\n",
        "    [\"1\", \"ActividadPersona\", 100, 100, 120, 2], \n",
        "    [\"1\", \"Tornos\", 100, 100, 120, 2],\n",
        "    [\"1\", \"Fin\"],\n",
        "]\n",
        "input_nodes = pd.DataFrame(data, columns = [\"CASE_ID\", \"ACTIVITY\", \"ArrivalTime\", \"ServiceStartTime\", \"DepartureTime\", \"factor\"])\n",
        "list_nodes = create_routes_list_nodes(input_nodes  )\n",
        "list_nodes\n",
        "#result = create_file_routes(1, 60, 60, list_nodes)\n",
        "#print(result)"
      ],
      "execution_count": 0,
      "outputs": [
        {
          "output_type": "execute_result",
          "data": {
            "text/plain": [
              "[{'Priority': 1,\n",
              "  'Step': [{'ArrivalTime': 100.0,\n",
              "    'DepartureTime': 120.0,\n",
              "    'NodeId': 'LlegadaPersonas',\n",
              "    'ServiceStartTime': 100.0},\n",
              "   {'ArrivalTime': 100.0,\n",
              "    'DepartureTime': 120.0,\n",
              "    'NodeId': 'Tornos',\n",
              "    'ServiceStartTime': 100.0},\n",
              "   {'ArrivalTime': 100.0,\n",
              "    'DepartureTime': 120.0,\n",
              "    'NodeId': 'PassiveNode',\n",
              "    'ServiceStartTime': 100.0},\n",
              "   {'ArrivalTime': 100.0,\n",
              "    'DepartureTime': 120.0,\n",
              "    'NodeId': 'ActividadPersona',\n",
              "    'ServiceStartTime': 100.0},\n",
              "   {'ArrivalTime': 100.0,\n",
              "    'DepartureTime': 120.0,\n",
              "    'NodeId': 'Tornos',\n",
              "    'ServiceStartTime': 100.0},\n",
              "   {'ArrivalTime': nan,\n",
              "    'DepartureTime': nan,\n",
              "    'NodeId': 'Fin',\n",
              "    'ServiceStartTime': nan}]},\n",
              " {'Priority': 1,\n",
              "  'Step': [{'ArrivalTime': 100.0,\n",
              "    'DepartureTime': 120.0,\n",
              "    'NodeId': 'LlegadaPersonas',\n",
              "    'ServiceStartTime': 100.0},\n",
              "   {'ArrivalTime': 100.0,\n",
              "    'DepartureTime': 120.0,\n",
              "    'NodeId': 'Tornos',\n",
              "    'ServiceStartTime': 100.0},\n",
              "   {'ArrivalTime': 100.0,\n",
              "    'DepartureTime': 120.0,\n",
              "    'NodeId': 'PassiveNode',\n",
              "    'ServiceStartTime': 100.0},\n",
              "   {'ArrivalTime': 100.0,\n",
              "    'DepartureTime': 120.0,\n",
              "    'NodeId': 'ActividadPersona',\n",
              "    'ServiceStartTime': 100.0},\n",
              "   {'ArrivalTime': 100.0,\n",
              "    'DepartureTime': 120.0,\n",
              "    'NodeId': 'Tornos',\n",
              "    'ServiceStartTime': 100.0},\n",
              "   {'ArrivalTime': nan,\n",
              "    'DepartureTime': nan,\n",
              "    'NodeId': 'Fin',\n",
              "    'ServiceStartTime': nan}]}]"
            ]
          },
          "metadata": {
            "tags": []
          },
          "execution_count": 77
        }
      ]
    },
    {
      "cell_type": "markdown",
      "metadata": {
        "id": "LvrPdUhU6MYX",
        "colab_type": "text"
      },
      "source": [
        "## file join data functions"
      ]
    },
    {
      "cell_type": "code",
      "metadata": {
        "id": "mFyqyz6I6Omn",
        "colab_type": "code",
        "colab": {}
      },
      "source": [
        "def create_final_files(input_dataframe, t_init, t_simulation, t_max_simulation, resolution, prority, resources):\n",
        "  df_nodes = input_dataframe[[\"CASE_ID\", \"ACTIVITY\", \"ArrivalTime\", \"ServiceStartTime\", \"DepartureTime\", \"factor\"]].drop_duplicates()\n",
        "  list_nodes_routes = create_routes_list_nodes(df_nodes )\n",
        "  routes = create_file_routes(t_init, t_simulation, t_max_simulation, list_nodes_routes)\n",
        "  \n",
        "  filter_nodes = input_dataframe[[\"Mode\", \"ACTIVITY\", \"Type\", \"Resolution\", \"Priority\", \"Resources\", \"INDEX\" ]].drop_duplicates().sort_values([\"INDEX\"])\n",
        "  lista_nodes_cfg = filter_nodes.values.tolist()\n",
        "  last_node = lista_nodes_cfg.pop()\n",
        "  \n",
        "  \n",
        "  create_conf_list_nodes(list_node, resolution_test, prority_test, resources_test)\n",
        "  \n",
        "  list_send = create_conf_list_nodes(lista_nodes_cfg,  resolution, prority, resources)\n",
        "  cfg = create_config_file(list_send, last_node[1])\n",
        "  \n",
        "  return(routes, cfg)"
      ],
      "execution_count": 0,
      "outputs": []
    },
    {
      "cell_type": "markdown",
      "metadata": {
        "id": "NEePNaOW6RUA",
        "colab_type": "text"
      },
      "source": [
        "# Create example with data from prosae"
      ]
    },
    {
      "cell_type": "markdown",
      "metadata": {
        "id": "V_W3fV5u5NEa",
        "colab_type": "text"
      },
      "source": [
        "### load data"
      ]
    },
    {
      "cell_type": "code",
      "metadata": {
        "id": "Z3ZZWCk-5P-P",
        "colab_type": "code",
        "outputId": "9556d220-2906-47ae-c5d8-a85bc3489985",
        "colab": {
          "base_uri": "https://localhost:8080/",
          "height": 204
        }
      },
      "source": [
        "Location = 'drive/My Drive/data/prosae/original-log.csv'\n",
        "Separator = ';'\n",
        "df =  pd.read_csv(Location, sep=Separator)\n",
        "df.columns = [\"CASE_ID\", \"ACTIVITY\",\t\"DATE\",\t\"INDEX\",\t\"COLOR\"]\n",
        "df_order = df.sort_values(['CASE_ID', 'INDEX'])\n",
        "df_order.head()"
      ],
      "execution_count": 0,
      "outputs": [
        {
          "output_type": "execute_result",
          "data": {
            "text/html": [
              "<div>\n",
              "<style scoped>\n",
              "    .dataframe tbody tr th:only-of-type {\n",
              "        vertical-align: middle;\n",
              "    }\n",
              "\n",
              "    .dataframe tbody tr th {\n",
              "        vertical-align: top;\n",
              "    }\n",
              "\n",
              "    .dataframe thead th {\n",
              "        text-align: right;\n",
              "    }\n",
              "</style>\n",
              "<table border=\"1\" class=\"dataframe\">\n",
              "  <thead>\n",
              "    <tr style=\"text-align: right;\">\n",
              "      <th></th>\n",
              "      <th>CASE_ID</th>\n",
              "      <th>ACTIVITY</th>\n",
              "      <th>DATE</th>\n",
              "      <th>INDEX</th>\n",
              "      <th>COLOR</th>\n",
              "    </tr>\n",
              "  </thead>\n",
              "  <tbody>\n",
              "    <tr>\n",
              "      <th>0</th>\n",
              "      <td>173000001</td>\n",
              "      <td>ADMISION</td>\n",
              "      <td>01/01/2017 0:06</td>\n",
              "      <td>0</td>\n",
              "      <td>NaN</td>\n",
              "    </tr>\n",
              "    <tr>\n",
              "      <th>3</th>\n",
              "      <td>173000001</td>\n",
              "      <td>TRIAJE</td>\n",
              "      <td>01/01/2017 0:11</td>\n",
              "      <td>1</td>\n",
              "      <td>amarillo</td>\n",
              "    </tr>\n",
              "    <tr>\n",
              "      <th>16</th>\n",
              "      <td>173000001</td>\n",
              "      <td>ALTA</td>\n",
              "      <td>01/01/2017 0:58</td>\n",
              "      <td>2</td>\n",
              "      <td>NaN</td>\n",
              "    </tr>\n",
              "    <tr>\n",
              "      <th>1</th>\n",
              "      <td>173000002</td>\n",
              "      <td>ADMISION</td>\n",
              "      <td>01/01/2017 0:07</td>\n",
              "      <td>0</td>\n",
              "      <td>NaN</td>\n",
              "    </tr>\n",
              "    <tr>\n",
              "      <th>4</th>\n",
              "      <td>173000002</td>\n",
              "      <td>TRIAJE</td>\n",
              "      <td>01/01/2017 0:13</td>\n",
              "      <td>1</td>\n",
              "      <td>verde</td>\n",
              "    </tr>\n",
              "  </tbody>\n",
              "</table>\n",
              "</div>"
            ],
            "text/plain": [
              "      CASE_ID  ACTIVITY             DATE  INDEX     COLOR\n",
              "0   173000001  ADMISION  01/01/2017 0:06      0       NaN\n",
              "3   173000001    TRIAJE  01/01/2017 0:11      1  amarillo\n",
              "16  173000001      ALTA  01/01/2017 0:58      2       NaN\n",
              "1   173000002  ADMISION  01/01/2017 0:07      0       NaN\n",
              "4   173000002    TRIAJE  01/01/2017 0:13      1     verde"
            ]
          },
          "metadata": {
            "tags": []
          },
          "execution_count": 79
        }
      ]
    },
    {
      "cell_type": "code",
      "metadata": {
        "id": "4y3s8T7LKUBw",
        "colab_type": "code",
        "outputId": "45b2e981-f6df-4879-f78c-048f9649f02d",
        "colab": {
          "base_uri": "https://localhost:8080/",
          "height": 80
        }
      },
      "source": [
        "df_order.head(1)"
      ],
      "execution_count": 0,
      "outputs": [
        {
          "output_type": "execute_result",
          "data": {
            "text/html": [
              "<div>\n",
              "<style scoped>\n",
              "    .dataframe tbody tr th:only-of-type {\n",
              "        vertical-align: middle;\n",
              "    }\n",
              "\n",
              "    .dataframe tbody tr th {\n",
              "        vertical-align: top;\n",
              "    }\n",
              "\n",
              "    .dataframe thead th {\n",
              "        text-align: right;\n",
              "    }\n",
              "</style>\n",
              "<table border=\"1\" class=\"dataframe\">\n",
              "  <thead>\n",
              "    <tr style=\"text-align: right;\">\n",
              "      <th></th>\n",
              "      <th>CASE_ID</th>\n",
              "      <th>ACTIVITY</th>\n",
              "      <th>DATE</th>\n",
              "      <th>INDEX</th>\n",
              "      <th>COLOR</th>\n",
              "    </tr>\n",
              "  </thead>\n",
              "  <tbody>\n",
              "    <tr>\n",
              "      <th>0</th>\n",
              "      <td>173000001</td>\n",
              "      <td>ADMISION</td>\n",
              "      <td>01/01/2017 0:06</td>\n",
              "      <td>0</td>\n",
              "      <td>NaN</td>\n",
              "    </tr>\n",
              "  </tbody>\n",
              "</table>\n",
              "</div>"
            ],
            "text/plain": [
              "     CASE_ID  ACTIVITY             DATE  INDEX COLOR\n",
              "0  173000001  ADMISION  01/01/2017 0:06      0   NaN"
            ]
          },
          "metadata": {
            "tags": []
          },
          "execution_count": 80
        }
      ]
    },
    {
      "cell_type": "code",
      "metadata": {
        "id": "8TYiIA9rKZeY",
        "colab_type": "code",
        "outputId": "1554177a-1043-4059-bb98-27dd79aa6468",
        "colab": {
          "base_uri": "https://localhost:8080/",
          "height": 80
        }
      },
      "source": [
        "df_order.tail(1)"
      ],
      "execution_count": 0,
      "outputs": [
        {
          "output_type": "execute_result",
          "data": {
            "text/html": [
              "<div>\n",
              "<style scoped>\n",
              "    .dataframe tbody tr th:only-of-type {\n",
              "        vertical-align: middle;\n",
              "    }\n",
              "\n",
              "    .dataframe tbody tr th {\n",
              "        vertical-align: top;\n",
              "    }\n",
              "\n",
              "    .dataframe thead th {\n",
              "        text-align: right;\n",
              "    }\n",
              "</style>\n",
              "<table border=\"1\" class=\"dataframe\">\n",
              "  <thead>\n",
              "    <tr style=\"text-align: right;\">\n",
              "      <th></th>\n",
              "      <th>CASE_ID</th>\n",
              "      <th>ACTIVITY</th>\n",
              "      <th>DATE</th>\n",
              "      <th>INDEX</th>\n",
              "      <th>COLOR</th>\n",
              "    </tr>\n",
              "  </thead>\n",
              "  <tbody>\n",
              "    <tr>\n",
              "      <th>511875</th>\n",
              "      <td>173181031</td>\n",
              "      <td>ALTA</td>\n",
              "      <td>01/01/2018 2:35</td>\n",
              "      <td>2</td>\n",
              "      <td>NaN</td>\n",
              "    </tr>\n",
              "  </tbody>\n",
              "</table>\n",
              "</div>"
            ],
            "text/plain": [
              "          CASE_ID ACTIVITY             DATE  INDEX COLOR\n",
              "511875  173181031     ALTA  01/01/2018 2:35      2   NaN"
            ]
          },
          "metadata": {
            "tags": []
          },
          "execution_count": 8
        }
      ]
    },
    {
      "cell_type": "markdown",
      "metadata": {
        "id": "cJfuxh5W5uFj",
        "colab_type": "text"
      },
      "source": [
        "### create routes frame"
      ]
    },
    {
      "cell_type": "code",
      "metadata": {
        "id": "jbzKiJRd6TQO",
        "colab_type": "code",
        "outputId": "f7ab4bac-cdef-4988-d0ca-fffb2c8f0db3",
        "colab": {
          "base_uri": "https://localhost:8080/",
          "height": 204
        }
      },
      "source": [
        "\n",
        "# creamos  las columnas\n",
        "# join function => The join() method takes all items in an iterable and joins them into one string.\n",
        "# reset _index -> Pandas reset_index() is a method to reset index of a Data Frame. reset_index() method sets a list of integer ranging from 0 to length of data as index.\n",
        "df_routes = df_order.groupby('CASE_ID')['ACTIVITY'].agg(lambda x: ','.join(x)).reset_index()\n",
        "df_routes['SIZE'] = df_routes['ACTIVITY'].apply(lambda x: len(x.split(',')))\n",
        "\n",
        "df_routes.columns = ['CASE_ID', 'PATH', 'SIZE_PATH']\n",
        "df_routes['USER_PER_SIZE_PATH'] = df_routes.groupby('SIZE_PATH')[\"CASE_ID\"].transform(len)\n",
        "df_routes['USER_PER_PATH'] = df_routes.groupby('PATH')[\"CASE_ID\"].transform(len)\n",
        "df_routes.head()\n",
        "df_routes.reset_index()\n",
        "df_routes.head()"
      ],
      "execution_count": 0,
      "outputs": [
        {
          "output_type": "execute_result",
          "data": {
            "text/html": [
              "<div>\n",
              "<style scoped>\n",
              "    .dataframe tbody tr th:only-of-type {\n",
              "        vertical-align: middle;\n",
              "    }\n",
              "\n",
              "    .dataframe tbody tr th {\n",
              "        vertical-align: top;\n",
              "    }\n",
              "\n",
              "    .dataframe thead th {\n",
              "        text-align: right;\n",
              "    }\n",
              "</style>\n",
              "<table border=\"1\" class=\"dataframe\">\n",
              "  <thead>\n",
              "    <tr style=\"text-align: right;\">\n",
              "      <th></th>\n",
              "      <th>CASE_ID</th>\n",
              "      <th>PATH</th>\n",
              "      <th>SIZE_PATH</th>\n",
              "      <th>USER_PER_SIZE_PATH</th>\n",
              "      <th>USER_PER_PATH</th>\n",
              "    </tr>\n",
              "  </thead>\n",
              "  <tbody>\n",
              "    <tr>\n",
              "      <th>0</th>\n",
              "      <td>173000001</td>\n",
              "      <td>ADMISION,TRIAJE,ALTA</td>\n",
              "      <td>3</td>\n",
              "      <td>50387</td>\n",
              "      <td>50387</td>\n",
              "    </tr>\n",
              "    <tr>\n",
              "      <th>1</th>\n",
              "      <td>173000002</td>\n",
              "      <td>ADMISION,TRIAJE,RX SOLICITUD,RX EXPLORACION,ALTA</td>\n",
              "      <td>5</td>\n",
              "      <td>47810</td>\n",
              "      <td>47530</td>\n",
              "    </tr>\n",
              "    <tr>\n",
              "      <th>2</th>\n",
              "      <td>173000003</td>\n",
              "      <td>ADMISION,TRIAJE,RX SOLICITUD,RX EXPLORACION,ALTA</td>\n",
              "      <td>5</td>\n",
              "      <td>47810</td>\n",
              "      <td>47530</td>\n",
              "    </tr>\n",
              "    <tr>\n",
              "      <th>3</th>\n",
              "      <td>173000005</td>\n",
              "      <td>ADMISION,TRIAJE,RX SOLICITUD,RX EXPLORACION,ALTA</td>\n",
              "      <td>5</td>\n",
              "      <td>47810</td>\n",
              "      <td>47530</td>\n",
              "    </tr>\n",
              "    <tr>\n",
              "      <th>4</th>\n",
              "      <td>173000007</td>\n",
              "      <td>ADMISION,TRIAJE,RX SOLICITUD,RX EXPLORACION,ALTA</td>\n",
              "      <td>5</td>\n",
              "      <td>47810</td>\n",
              "      <td>47530</td>\n",
              "    </tr>\n",
              "  </tbody>\n",
              "</table>\n",
              "</div>"
            ],
            "text/plain": [
              "     CASE_ID  ... USER_PER_PATH\n",
              "0  173000001  ...         50387\n",
              "1  173000002  ...         47530\n",
              "2  173000003  ...         47530\n",
              "3  173000005  ...         47530\n",
              "4  173000007  ...         47530\n",
              "\n",
              "[5 rows x 5 columns]"
            ]
          },
          "metadata": {
            "tags": []
          },
          "execution_count": 81
        }
      ]
    },
    {
      "cell_type": "markdown",
      "metadata": {
        "id": "CF3OLZ2e6bLo",
        "colab_type": "text"
      },
      "source": [
        "let's check routes size"
      ]
    },
    {
      "cell_type": "code",
      "metadata": {
        "id": "UKD8Wwks6ehO",
        "colab_type": "code",
        "outputId": "808ff5d0-cdd8-470e-9ef5-d8343a366e70",
        "colab": {
          "base_uri": "https://localhost:8080/",
          "height": 633
        }
      },
      "source": [
        "print(\"min size path: \"+str(min(df_routes[\"SIZE_PATH\"])))\n",
        "print(\"Max size path: \"+str(max(df_routes[\"SIZE_PATH\"])))\n",
        "print(\"Mean size path: \"+str(df_routes[\"SIZE_PATH\"].mean()))\n",
        "print(\"MEdian size path: \"+str(df_routes[\"SIZE_PATH\"].median()))\n",
        "print(\"Num users per route mean: \"+str(df_routes[\"USER_PER_SIZE_PATH\"].mean()))\n",
        "print(\"Num users per route median: \"+str(df_routes[\"USER_PER_SIZE_PATH\"].median()))\n",
        "number_user = df_routes[\"USER_PER_SIZE_PATH\"].drop_duplicates().sum()\n",
        "print(\"Num users : \" + str(number_user))\n",
        "df_routes[\"PERCENTAGE_PER_SIZE\"] = df_routes[\"USER_PER_SIZE_PATH\"]/number_user\n",
        "df_routes[\"PERCENTAGE_PER_PATH\"] = df_routes[\"USER_PER_PATH\"]/number_user\n",
        "df_routes[[\"SIZE_PATH\", \"USER_PER_SIZE_PATH\", \"PERCENTAGE_PER_SIZE\"]].sort_values(\"SIZE_PATH\").drop_duplicates()"
      ],
      "execution_count": 0,
      "outputs": [
        {
          "output_type": "stream",
          "text": [
            "min size path: 3\n",
            "Max size path: 17\n",
            "Mean size path: 4.42453417222664\n",
            "MEdian size path: 5.0\n",
            "Num users per route mean: 42443.59784975974\n",
            "Num users per route median: 47810.0\n",
            "Num users : 115708\n"
          ],
          "name": "stdout"
        },
        {
          "output_type": "execute_result",
          "data": {
            "text/html": [
              "<div>\n",
              "<style scoped>\n",
              "    .dataframe tbody tr th:only-of-type {\n",
              "        vertical-align: middle;\n",
              "    }\n",
              "\n",
              "    .dataframe tbody tr th {\n",
              "        vertical-align: top;\n",
              "    }\n",
              "\n",
              "    .dataframe thead th {\n",
              "        text-align: right;\n",
              "    }\n",
              "</style>\n",
              "<table border=\"1\" class=\"dataframe\">\n",
              "  <thead>\n",
              "    <tr style=\"text-align: right;\">\n",
              "      <th></th>\n",
              "      <th>SIZE_PATH</th>\n",
              "      <th>USER_PER_SIZE_PATH</th>\n",
              "      <th>PERCENTAGE_PER_SIZE</th>\n",
              "    </tr>\n",
              "  </thead>\n",
              "  <tbody>\n",
              "    <tr>\n",
              "      <th>0</th>\n",
              "      <td>3</td>\n",
              "      <td>50387</td>\n",
              "      <td>0.435467</td>\n",
              "    </tr>\n",
              "    <tr>\n",
              "      <th>37082</th>\n",
              "      <td>4</td>\n",
              "      <td>1011</td>\n",
              "      <td>0.008738</td>\n",
              "    </tr>\n",
              "    <tr>\n",
              "      <th>77339</th>\n",
              "      <td>5</td>\n",
              "      <td>47810</td>\n",
              "      <td>0.413195</td>\n",
              "    </tr>\n",
              "    <tr>\n",
              "      <th>109401</th>\n",
              "      <td>6</td>\n",
              "      <td>7557</td>\n",
              "      <td>0.065311</td>\n",
              "    </tr>\n",
              "    <tr>\n",
              "      <th>2114</th>\n",
              "      <td>7</td>\n",
              "      <td>2746</td>\n",
              "      <td>0.023732</td>\n",
              "    </tr>\n",
              "    <tr>\n",
              "      <th>36664</th>\n",
              "      <td>8</td>\n",
              "      <td>4450</td>\n",
              "      <td>0.038459</td>\n",
              "    </tr>\n",
              "    <tr>\n",
              "      <th>97922</th>\n",
              "      <td>9</td>\n",
              "      <td>761</td>\n",
              "      <td>0.006577</td>\n",
              "    </tr>\n",
              "    <tr>\n",
              "      <th>34457</th>\n",
              "      <td>10</td>\n",
              "      <td>537</td>\n",
              "      <td>0.004641</td>\n",
              "    </tr>\n",
              "    <tr>\n",
              "      <th>51915</th>\n",
              "      <td>11</td>\n",
              "      <td>255</td>\n",
              "      <td>0.002204</td>\n",
              "    </tr>\n",
              "    <tr>\n",
              "      <th>104999</th>\n",
              "      <td>12</td>\n",
              "      <td>89</td>\n",
              "      <td>0.000769</td>\n",
              "    </tr>\n",
              "    <tr>\n",
              "      <th>95321</th>\n",
              "      <td>13</td>\n",
              "      <td>54</td>\n",
              "      <td>0.000467</td>\n",
              "    </tr>\n",
              "    <tr>\n",
              "      <th>12468</th>\n",
              "      <td>14</td>\n",
              "      <td>32</td>\n",
              "      <td>0.000277</td>\n",
              "    </tr>\n",
              "    <tr>\n",
              "      <th>76246</th>\n",
              "      <td>15</td>\n",
              "      <td>13</td>\n",
              "      <td>0.000112</td>\n",
              "    </tr>\n",
              "    <tr>\n",
              "      <th>14197</th>\n",
              "      <td>16</td>\n",
              "      <td>4</td>\n",
              "      <td>0.000035</td>\n",
              "    </tr>\n",
              "    <tr>\n",
              "      <th>90742</th>\n",
              "      <td>17</td>\n",
              "      <td>2</td>\n",
              "      <td>0.000017</td>\n",
              "    </tr>\n",
              "  </tbody>\n",
              "</table>\n",
              "</div>"
            ],
            "text/plain": [
              "        SIZE_PATH  USER_PER_SIZE_PATH  PERCENTAGE_PER_SIZE\n",
              "0               3               50387             0.435467\n",
              "37082           4                1011             0.008738\n",
              "77339           5               47810             0.413195\n",
              "109401          6                7557             0.065311\n",
              "2114            7                2746             0.023732\n",
              "36664           8                4450             0.038459\n",
              "97922           9                 761             0.006577\n",
              "34457          10                 537             0.004641\n",
              "51915          11                 255             0.002204\n",
              "104999         12                  89             0.000769\n",
              "95321          13                  54             0.000467\n",
              "12468          14                  32             0.000277\n",
              "76246          15                  13             0.000112\n",
              "14197          16                   4             0.000035\n",
              "90742          17                   2             0.000017"
            ]
          },
          "metadata": {
            "tags": []
          },
          "execution_count": 82
        }
      ]
    },
    {
      "cell_type": "code",
      "metadata": {
        "id": "A1ajXNC2_UG7",
        "colab_type": "code",
        "outputId": "9adb52ca-934c-44ed-95b5-c106e5be4ad8",
        "colab": {
          "base_uri": "https://localhost:8080/",
          "height": 514
        }
      },
      "source": [
        "df_routes[[\"PATH\",\"SIZE_PATH\",  \"USER_PER_SIZE_PATH\", \"PERCENTAGE_PER_SIZE\", \"USER_PER_PATH\", \"PERCENTAGE_PER_PATH\"]].drop_duplicates().sort_values(\"PERCENTAGE_PER_PATH\", ascending = False).head(15)"
      ],
      "execution_count": 0,
      "outputs": [
        {
          "output_type": "execute_result",
          "data": {
            "text/html": [
              "<div>\n",
              "<style scoped>\n",
              "    .dataframe tbody tr th:only-of-type {\n",
              "        vertical-align: middle;\n",
              "    }\n",
              "\n",
              "    .dataframe tbody tr th {\n",
              "        vertical-align: top;\n",
              "    }\n",
              "\n",
              "    .dataframe thead th {\n",
              "        text-align: right;\n",
              "    }\n",
              "</style>\n",
              "<table border=\"1\" class=\"dataframe\">\n",
              "  <thead>\n",
              "    <tr style=\"text-align: right;\">\n",
              "      <th></th>\n",
              "      <th>PATH</th>\n",
              "      <th>SIZE_PATH</th>\n",
              "      <th>USER_PER_SIZE_PATH</th>\n",
              "      <th>PERCENTAGE_PER_SIZE</th>\n",
              "      <th>USER_PER_PATH</th>\n",
              "      <th>PERCENTAGE_PER_PATH</th>\n",
              "    </tr>\n",
              "  </thead>\n",
              "  <tbody>\n",
              "    <tr>\n",
              "      <th>0</th>\n",
              "      <td>ADMISION,TRIAJE,ALTA</td>\n",
              "      <td>3</td>\n",
              "      <td>50387</td>\n",
              "      <td>0.435467</td>\n",
              "      <td>50387</td>\n",
              "      <td>0.435467</td>\n",
              "    </tr>\n",
              "    <tr>\n",
              "      <th>1</th>\n",
              "      <td>ADMISION,TRIAJE,RX SOLICITUD,RX EXPLORACION,ALTA</td>\n",
              "      <td>5</td>\n",
              "      <td>47810</td>\n",
              "      <td>0.413195</td>\n",
              "      <td>47530</td>\n",
              "      <td>0.410775</td>\n",
              "    </tr>\n",
              "    <tr>\n",
              "      <th>9</th>\n",
              "      <td>ADMISION,TRIAJE,RX SOLICITUD,RX EXPLORACION,RX...</td>\n",
              "      <td>6</td>\n",
              "      <td>7557</td>\n",
              "      <td>0.065311</td>\n",
              "      <td>7001</td>\n",
              "      <td>0.060506</td>\n",
              "    </tr>\n",
              "    <tr>\n",
              "      <th>130</th>\n",
              "      <td>ADMISION,TRIAJE,RX SOLICITUD,RX EXPLORACION,RX...</td>\n",
              "      <td>8</td>\n",
              "      <td>4450</td>\n",
              "      <td>0.038459</td>\n",
              "      <td>3314</td>\n",
              "      <td>0.028641</td>\n",
              "    </tr>\n",
              "    <tr>\n",
              "      <th>17</th>\n",
              "      <td>ADMISION,TRIAJE,RX SOLICITUD,RX EXPLORACION,RX...</td>\n",
              "      <td>7</td>\n",
              "      <td>2746</td>\n",
              "      <td>0.023732</td>\n",
              "      <td>1426</td>\n",
              "      <td>0.012324</td>\n",
              "    </tr>\n",
              "    <tr>\n",
              "      <th>24</th>\n",
              "      <td>ADMISION,TRIAJE,RX SOLICITUD,ALTA</td>\n",
              "      <td>4</td>\n",
              "      <td>1011</td>\n",
              "      <td>0.008738</td>\n",
              "      <td>841</td>\n",
              "      <td>0.007268</td>\n",
              "    </tr>\n",
              "    <tr>\n",
              "      <th>51</th>\n",
              "      <td>ADMISION,TRIAJE,RX SOLICITUD,RX EXPLORACION,RX...</td>\n",
              "      <td>8</td>\n",
              "      <td>4450</td>\n",
              "      <td>0.038459</td>\n",
              "      <td>581</td>\n",
              "      <td>0.005021</td>\n",
              "    </tr>\n",
              "    <tr>\n",
              "      <th>88</th>\n",
              "      <td>ADMISION,TRIAJE,RX SOLICITUD,RX EXPLORACION,IN...</td>\n",
              "      <td>7</td>\n",
              "      <td>2746</td>\n",
              "      <td>0.023732</td>\n",
              "      <td>581</td>\n",
              "      <td>0.005021</td>\n",
              "    </tr>\n",
              "    <tr>\n",
              "      <th>409</th>\n",
              "      <td>ADMISION,TRIAJE,RX SOLICITUD,RX EXPLORACION,RX...</td>\n",
              "      <td>7</td>\n",
              "      <td>2746</td>\n",
              "      <td>0.023732</td>\n",
              "      <td>498</td>\n",
              "      <td>0.004304</td>\n",
              "    </tr>\n",
              "    <tr>\n",
              "      <th>31</th>\n",
              "      <td>ADMISION,TRIAJE,RX SOLICITUD,RX EXPLORACION,RX...</td>\n",
              "      <td>6</td>\n",
              "      <td>7557</td>\n",
              "      <td>0.065311</td>\n",
              "      <td>344</td>\n",
              "      <td>0.002973</td>\n",
              "    </tr>\n",
              "    <tr>\n",
              "      <th>663</th>\n",
              "      <td>ADMISION,TRIAJE,RX SOLICITUD,RX EXPLORACION,RX...</td>\n",
              "      <td>9</td>\n",
              "      <td>761</td>\n",
              "      <td>0.006577</td>\n",
              "      <td>287</td>\n",
              "      <td>0.002480</td>\n",
              "    </tr>\n",
              "    <tr>\n",
              "      <th>366</th>\n",
              "      <td>ADMISION,TRIAJE,INTERCONSULTA,RESPUESTA,ALTA</td>\n",
              "      <td>5</td>\n",
              "      <td>47810</td>\n",
              "      <td>0.413195</td>\n",
              "      <td>273</td>\n",
              "      <td>0.002359</td>\n",
              "    </tr>\n",
              "    <tr>\n",
              "      <th>13</th>\n",
              "      <td>ADMISION,TRIAJE,RX SOLICITUD,RX EXPLORACION,RX...</td>\n",
              "      <td>8</td>\n",
              "      <td>4450</td>\n",
              "      <td>0.038459</td>\n",
              "      <td>257</td>\n",
              "      <td>0.002221</td>\n",
              "    </tr>\n",
              "    <tr>\n",
              "      <th>380</th>\n",
              "      <td>ADMISION,TRIAJE,RX SOLICITUD,RX EXPLORACION,IN...</td>\n",
              "      <td>6</td>\n",
              "      <td>7557</td>\n",
              "      <td>0.065311</td>\n",
              "      <td>179</td>\n",
              "      <td>0.001547</td>\n",
              "    </tr>\n",
              "    <tr>\n",
              "      <th>2626</th>\n",
              "      <td>ADMISION,TRIAJE,INTERCONSULTA,ALTA</td>\n",
              "      <td>4</td>\n",
              "      <td>1011</td>\n",
              "      <td>0.008738</td>\n",
              "      <td>170</td>\n",
              "      <td>0.001469</td>\n",
              "    </tr>\n",
              "  </tbody>\n",
              "</table>\n",
              "</div>"
            ],
            "text/plain": [
              "                                                   PATH  ...  PERCENTAGE_PER_PATH\n",
              "0                                  ADMISION,TRIAJE,ALTA  ...             0.435467\n",
              "1      ADMISION,TRIAJE,RX SOLICITUD,RX EXPLORACION,ALTA  ...             0.410775\n",
              "9     ADMISION,TRIAJE,RX SOLICITUD,RX EXPLORACION,RX...  ...             0.060506\n",
              "130   ADMISION,TRIAJE,RX SOLICITUD,RX EXPLORACION,RX...  ...             0.028641\n",
              "17    ADMISION,TRIAJE,RX SOLICITUD,RX EXPLORACION,RX...  ...             0.012324\n",
              "24                    ADMISION,TRIAJE,RX SOLICITUD,ALTA  ...             0.007268\n",
              "51    ADMISION,TRIAJE,RX SOLICITUD,RX EXPLORACION,RX...  ...             0.005021\n",
              "88    ADMISION,TRIAJE,RX SOLICITUD,RX EXPLORACION,IN...  ...             0.005021\n",
              "409   ADMISION,TRIAJE,RX SOLICITUD,RX EXPLORACION,RX...  ...             0.004304\n",
              "31    ADMISION,TRIAJE,RX SOLICITUD,RX EXPLORACION,RX...  ...             0.002973\n",
              "663   ADMISION,TRIAJE,RX SOLICITUD,RX EXPLORACION,RX...  ...             0.002480\n",
              "366        ADMISION,TRIAJE,INTERCONSULTA,RESPUESTA,ALTA  ...             0.002359\n",
              "13    ADMISION,TRIAJE,RX SOLICITUD,RX EXPLORACION,RX...  ...             0.002221\n",
              "380   ADMISION,TRIAJE,RX SOLICITUD,RX EXPLORACION,IN...  ...             0.001547\n",
              "2626                 ADMISION,TRIAJE,INTERCONSULTA,ALTA  ...             0.001469\n",
              "\n",
              "[15 rows x 6 columns]"
            ]
          },
          "metadata": {
            "tags": []
          },
          "execution_count": 83
        }
      ]
    },
    {
      "cell_type": "code",
      "metadata": {
        "id": "SSN-NavH_sEZ",
        "colab_type": "code",
        "outputId": "dcc5f468-736a-4003-f7f0-646b074f0e83",
        "colab": {
          "base_uri": "https://localhost:8080/",
          "height": 51
        }
      },
      "source": [
        "#check safety, sum must be 1\n",
        "print(sum(df_routes.groupby(\"SIZE_PATH\")[\"PERCENTAGE_PER_SIZE\"].min()))\n",
        "print(sum(df_routes.groupby(\"PATH\")[\"PERCENTAGE_PER_PATH\"].min()))"
      ],
      "execution_count": 0,
      "outputs": [
        {
          "output_type": "stream",
          "text": [
            "1.0\n",
            "1.00000000000001\n"
          ],
          "name": "stdout"
        }
      ]
    },
    {
      "cell_type": "markdown",
      "metadata": {
        "id": "hQwfwnxU-Ci4",
        "colab_type": "text"
      },
      "source": [
        "### and join data to create date and routes together"
      ]
    },
    {
      "cell_type": "markdown",
      "metadata": {
        "id": "-_aq8OjM-r_O",
        "colab_type": "text"
      },
      "source": [
        "and join data beacuase we want also the size and number of elements"
      ]
    },
    {
      "cell_type": "code",
      "metadata": {
        "id": "yBNr1TPc_D8m",
        "colab_type": "code",
        "outputId": "b124456d-1e7d-45be-fe50-cdbc1f60ae36",
        "colab": {
          "base_uri": "https://localhost:8080/",
          "height": 289
        }
      },
      "source": [
        "df_join = df.merge(df_routes).sort_values([\"CASE_ID\", \"DATE\"])\n",
        "df_join =  df_join[[\"CASE_ID\", \"ACTIVITY\", \"DATE\", \"INDEX\", \"PATH\", \"SIZE_PATH\", \"USER_PER_SIZE_PATH\", \"PERCENTAGE_PER_SIZE\",  \"USER_PER_PATH\", \"PERCENTAGE_PER_PATH\"]]\n",
        "df_join = df_join.sort_values(['CASE_ID', 'INDEX'])\n",
        "df_join.head()"
      ],
      "execution_count": 0,
      "outputs": [
        {
          "output_type": "execute_result",
          "data": {
            "text/html": [
              "<div>\n",
              "<style scoped>\n",
              "    .dataframe tbody tr th:only-of-type {\n",
              "        vertical-align: middle;\n",
              "    }\n",
              "\n",
              "    .dataframe tbody tr th {\n",
              "        vertical-align: top;\n",
              "    }\n",
              "\n",
              "    .dataframe thead th {\n",
              "        text-align: right;\n",
              "    }\n",
              "</style>\n",
              "<table border=\"1\" class=\"dataframe\">\n",
              "  <thead>\n",
              "    <tr style=\"text-align: right;\">\n",
              "      <th></th>\n",
              "      <th>CASE_ID</th>\n",
              "      <th>ACTIVITY</th>\n",
              "      <th>DATE</th>\n",
              "      <th>INDEX</th>\n",
              "      <th>PATH</th>\n",
              "      <th>SIZE_PATH</th>\n",
              "      <th>USER_PER_SIZE_PATH</th>\n",
              "      <th>PERCENTAGE_PER_SIZE</th>\n",
              "      <th>USER_PER_PATH</th>\n",
              "      <th>PERCENTAGE_PER_PATH</th>\n",
              "    </tr>\n",
              "  </thead>\n",
              "  <tbody>\n",
              "    <tr>\n",
              "      <th>0</th>\n",
              "      <td>173000001</td>\n",
              "      <td>ADMISION</td>\n",
              "      <td>01/01/2017 0:06</td>\n",
              "      <td>0</td>\n",
              "      <td>ADMISION,TRIAJE,ALTA</td>\n",
              "      <td>3</td>\n",
              "      <td>50387</td>\n",
              "      <td>0.435467</td>\n",
              "      <td>50387</td>\n",
              "      <td>0.435467</td>\n",
              "    </tr>\n",
              "    <tr>\n",
              "      <th>1</th>\n",
              "      <td>173000001</td>\n",
              "      <td>TRIAJE</td>\n",
              "      <td>01/01/2017 0:11</td>\n",
              "      <td>1</td>\n",
              "      <td>ADMISION,TRIAJE,ALTA</td>\n",
              "      <td>3</td>\n",
              "      <td>50387</td>\n",
              "      <td>0.435467</td>\n",
              "      <td>50387</td>\n",
              "      <td>0.435467</td>\n",
              "    </tr>\n",
              "    <tr>\n",
              "      <th>2</th>\n",
              "      <td>173000001</td>\n",
              "      <td>ALTA</td>\n",
              "      <td>01/01/2017 0:58</td>\n",
              "      <td>2</td>\n",
              "      <td>ADMISION,TRIAJE,ALTA</td>\n",
              "      <td>3</td>\n",
              "      <td>50387</td>\n",
              "      <td>0.435467</td>\n",
              "      <td>50387</td>\n",
              "      <td>0.435467</td>\n",
              "    </tr>\n",
              "    <tr>\n",
              "      <th>3</th>\n",
              "      <td>173000002</td>\n",
              "      <td>ADMISION</td>\n",
              "      <td>01/01/2017 0:07</td>\n",
              "      <td>0</td>\n",
              "      <td>ADMISION,TRIAJE,RX SOLICITUD,RX EXPLORACION,ALTA</td>\n",
              "      <td>5</td>\n",
              "      <td>47810</td>\n",
              "      <td>0.413195</td>\n",
              "      <td>47530</td>\n",
              "      <td>0.410775</td>\n",
              "    </tr>\n",
              "    <tr>\n",
              "      <th>4</th>\n",
              "      <td>173000002</td>\n",
              "      <td>TRIAJE</td>\n",
              "      <td>01/01/2017 0:13</td>\n",
              "      <td>1</td>\n",
              "      <td>ADMISION,TRIAJE,RX SOLICITUD,RX EXPLORACION,ALTA</td>\n",
              "      <td>5</td>\n",
              "      <td>47810</td>\n",
              "      <td>0.413195</td>\n",
              "      <td>47530</td>\n",
              "      <td>0.410775</td>\n",
              "    </tr>\n",
              "  </tbody>\n",
              "</table>\n",
              "</div>"
            ],
            "text/plain": [
              "     CASE_ID  ACTIVITY  ... USER_PER_PATH  PERCENTAGE_PER_PATH\n",
              "0  173000001  ADMISION  ...         50387             0.435467\n",
              "1  173000001    TRIAJE  ...         50387             0.435467\n",
              "2  173000001      ALTA  ...         50387             0.435467\n",
              "3  173000002  ADMISION  ...         47530             0.410775\n",
              "4  173000002    TRIAJE  ...         47530             0.410775\n",
              "\n",
              "[5 rows x 10 columns]"
            ]
          },
          "metadata": {
            "tags": []
          },
          "execution_count": 85
        }
      ]
    },
    {
      "cell_type": "markdown",
      "metadata": {
        "id": "HZt93KMeAFif",
        "colab_type": "text"
      },
      "source": [
        "## process times"
      ]
    },
    {
      "cell_type": "markdown",
      "metadata": {
        "id": "SxN68mSCIHWz",
        "colab_type": "text"
      },
      "source": [
        "add timestamp and data"
      ]
    },
    {
      "cell_type": "code",
      "metadata": {
        "id": "aN2mx_IlAGAz",
        "colab_type": "code",
        "outputId": "ace5a8f8-6924-4834-f5f8-c9c42ade8d80",
        "colab": {
          "base_uri": "https://localhost:8080/",
          "height": 343
        }
      },
      "source": [
        "df_timestamp = df_join.copy()\n",
        "#filter just the first id\n",
        "#df_timestamp['TIMESTAMP'] = (pd.DatetimeIndex(df_timestamp.DATE).asi8)/10000000000\n",
        "df_timestamp[\"TIMESTAMP\"] = (df_timestamp['DATE']).apply(lambda x:  time.mktime( datetime.strptime(str(x), '%d/%m/%Y %H:%M').timetuple()))\n",
        "\n",
        "df_timestamp[\"Mode\"] =  np.where(df_timestamp[\"INDEX\"] == 0, \"arrival\", \"service\")\n",
        "df_timestamp[\"Type\"] =  np.where(df_timestamp[\"INDEX\"] == 0, 1, 2)\n",
        "df_timestamp[\"Resolution\"] = 1000\n",
        "df_timestamp[\"Priority\"] = 0\n",
        "df_timestamp[\"Resources\"] = 1\n",
        "df_timestamp[\"ArrivalTime\"] = df_timestamp[\"TIMESTAMP\"] \n",
        "df_timestamp[\"ServiceStartTime\"] =  df_timestamp[\"TIMESTAMP\"] \n",
        "df_timestamp[\"DepartureTime\"] = 0\n",
        "\n",
        "df_timestamp.head()\n"
      ],
      "execution_count": 0,
      "outputs": [
        {
          "output_type": "execute_result",
          "data": {
            "text/html": [
              "<div>\n",
              "<style scoped>\n",
              "    .dataframe tbody tr th:only-of-type {\n",
              "        vertical-align: middle;\n",
              "    }\n",
              "\n",
              "    .dataframe tbody tr th {\n",
              "        vertical-align: top;\n",
              "    }\n",
              "\n",
              "    .dataframe thead th {\n",
              "        text-align: right;\n",
              "    }\n",
              "</style>\n",
              "<table border=\"1\" class=\"dataframe\">\n",
              "  <thead>\n",
              "    <tr style=\"text-align: right;\">\n",
              "      <th></th>\n",
              "      <th>CASE_ID</th>\n",
              "      <th>ACTIVITY</th>\n",
              "      <th>DATE</th>\n",
              "      <th>INDEX</th>\n",
              "      <th>PATH</th>\n",
              "      <th>SIZE_PATH</th>\n",
              "      <th>USER_PER_SIZE_PATH</th>\n",
              "      <th>PERCENTAGE_PER_SIZE</th>\n",
              "      <th>USER_PER_PATH</th>\n",
              "      <th>PERCENTAGE_PER_PATH</th>\n",
              "      <th>TIMESTAMP</th>\n",
              "      <th>Mode</th>\n",
              "      <th>Type</th>\n",
              "      <th>Resolution</th>\n",
              "      <th>Priority</th>\n",
              "      <th>Resources</th>\n",
              "      <th>ArrivalTime</th>\n",
              "      <th>ServiceStartTime</th>\n",
              "      <th>DepartureTime</th>\n",
              "    </tr>\n",
              "  </thead>\n",
              "  <tbody>\n",
              "    <tr>\n",
              "      <th>0</th>\n",
              "      <td>173000001</td>\n",
              "      <td>ADMISION</td>\n",
              "      <td>01/01/2017 0:06</td>\n",
              "      <td>0</td>\n",
              "      <td>ADMISION,TRIAJE,ALTA</td>\n",
              "      <td>3</td>\n",
              "      <td>50387</td>\n",
              "      <td>0.435467</td>\n",
              "      <td>50387</td>\n",
              "      <td>0.435467</td>\n",
              "      <td>1.483229e+09</td>\n",
              "      <td>arrival</td>\n",
              "      <td>1</td>\n",
              "      <td>1000</td>\n",
              "      <td>0</td>\n",
              "      <td>1</td>\n",
              "      <td>1.483229e+09</td>\n",
              "      <td>1.483229e+09</td>\n",
              "      <td>0</td>\n",
              "    </tr>\n",
              "    <tr>\n",
              "      <th>1</th>\n",
              "      <td>173000001</td>\n",
              "      <td>TRIAJE</td>\n",
              "      <td>01/01/2017 0:11</td>\n",
              "      <td>1</td>\n",
              "      <td>ADMISION,TRIAJE,ALTA</td>\n",
              "      <td>3</td>\n",
              "      <td>50387</td>\n",
              "      <td>0.435467</td>\n",
              "      <td>50387</td>\n",
              "      <td>0.435467</td>\n",
              "      <td>1.483229e+09</td>\n",
              "      <td>service</td>\n",
              "      <td>2</td>\n",
              "      <td>1000</td>\n",
              "      <td>0</td>\n",
              "      <td>1</td>\n",
              "      <td>1.483229e+09</td>\n",
              "      <td>1.483229e+09</td>\n",
              "      <td>0</td>\n",
              "    </tr>\n",
              "    <tr>\n",
              "      <th>2</th>\n",
              "      <td>173000001</td>\n",
              "      <td>ALTA</td>\n",
              "      <td>01/01/2017 0:58</td>\n",
              "      <td>2</td>\n",
              "      <td>ADMISION,TRIAJE,ALTA</td>\n",
              "      <td>3</td>\n",
              "      <td>50387</td>\n",
              "      <td>0.435467</td>\n",
              "      <td>50387</td>\n",
              "      <td>0.435467</td>\n",
              "      <td>1.483232e+09</td>\n",
              "      <td>service</td>\n",
              "      <td>2</td>\n",
              "      <td>1000</td>\n",
              "      <td>0</td>\n",
              "      <td>1</td>\n",
              "      <td>1.483232e+09</td>\n",
              "      <td>1.483232e+09</td>\n",
              "      <td>0</td>\n",
              "    </tr>\n",
              "    <tr>\n",
              "      <th>3</th>\n",
              "      <td>173000002</td>\n",
              "      <td>ADMISION</td>\n",
              "      <td>01/01/2017 0:07</td>\n",
              "      <td>0</td>\n",
              "      <td>ADMISION,TRIAJE,RX SOLICITUD,RX EXPLORACION,ALTA</td>\n",
              "      <td>5</td>\n",
              "      <td>47810</td>\n",
              "      <td>0.413195</td>\n",
              "      <td>47530</td>\n",
              "      <td>0.410775</td>\n",
              "      <td>1.483229e+09</td>\n",
              "      <td>arrival</td>\n",
              "      <td>1</td>\n",
              "      <td>1000</td>\n",
              "      <td>0</td>\n",
              "      <td>1</td>\n",
              "      <td>1.483229e+09</td>\n",
              "      <td>1.483229e+09</td>\n",
              "      <td>0</td>\n",
              "    </tr>\n",
              "    <tr>\n",
              "      <th>4</th>\n",
              "      <td>173000002</td>\n",
              "      <td>TRIAJE</td>\n",
              "      <td>01/01/2017 0:13</td>\n",
              "      <td>1</td>\n",
              "      <td>ADMISION,TRIAJE,RX SOLICITUD,RX EXPLORACION,ALTA</td>\n",
              "      <td>5</td>\n",
              "      <td>47810</td>\n",
              "      <td>0.413195</td>\n",
              "      <td>47530</td>\n",
              "      <td>0.410775</td>\n",
              "      <td>1.483230e+09</td>\n",
              "      <td>service</td>\n",
              "      <td>2</td>\n",
              "      <td>1000</td>\n",
              "      <td>0</td>\n",
              "      <td>1</td>\n",
              "      <td>1.483230e+09</td>\n",
              "      <td>1.483230e+09</td>\n",
              "      <td>0</td>\n",
              "    </tr>\n",
              "  </tbody>\n",
              "</table>\n",
              "</div>"
            ],
            "text/plain": [
              "     CASE_ID  ACTIVITY  ... ServiceStartTime  DepartureTime\n",
              "0  173000001  ADMISION  ...     1.483229e+09              0\n",
              "1  173000001    TRIAJE  ...     1.483229e+09              0\n",
              "2  173000001      ALTA  ...     1.483232e+09              0\n",
              "3  173000002  ADMISION  ...     1.483229e+09              0\n",
              "4  173000002    TRIAJE  ...     1.483230e+09              0\n",
              "\n",
              "[5 rows x 19 columns]"
            ]
          },
          "metadata": {
            "tags": []
          },
          "execution_count": 86
        }
      ]
    },
    {
      "cell_type": "markdown",
      "metadata": {
        "id": "4mppJVNyO0ad",
        "colab_type": "text"
      },
      "source": [
        "normalize times"
      ]
    },
    {
      "cell_type": "code",
      "metadata": {
        "id": "Vy963SB9O0Jj",
        "colab_type": "code",
        "outputId": "354b8dde-90b5-4c75-eda0-9c5db751100f",
        "colab": {
          "base_uri": "https://localhost:8080/",
          "height": 343
        }
      },
      "source": [
        "min_value =  df_timestamp[\"ArrivalTime\"].min()-1\n",
        "df_timestamp[\"ArrivalTime\"] = df_timestamp[\"ArrivalTime\"]-min_value\n",
        "df_timestamp[\"ServiceStartTime\"] = df_timestamp[\"ServiceStartTime\"]-min_value\n",
        "df_timestamp.head()"
      ],
      "execution_count": 0,
      "outputs": [
        {
          "output_type": "execute_result",
          "data": {
            "text/html": [
              "<div>\n",
              "<style scoped>\n",
              "    .dataframe tbody tr th:only-of-type {\n",
              "        vertical-align: middle;\n",
              "    }\n",
              "\n",
              "    .dataframe tbody tr th {\n",
              "        vertical-align: top;\n",
              "    }\n",
              "\n",
              "    .dataframe thead th {\n",
              "        text-align: right;\n",
              "    }\n",
              "</style>\n",
              "<table border=\"1\" class=\"dataframe\">\n",
              "  <thead>\n",
              "    <tr style=\"text-align: right;\">\n",
              "      <th></th>\n",
              "      <th>CASE_ID</th>\n",
              "      <th>ACTIVITY</th>\n",
              "      <th>DATE</th>\n",
              "      <th>INDEX</th>\n",
              "      <th>PATH</th>\n",
              "      <th>SIZE_PATH</th>\n",
              "      <th>USER_PER_SIZE_PATH</th>\n",
              "      <th>PERCENTAGE_PER_SIZE</th>\n",
              "      <th>USER_PER_PATH</th>\n",
              "      <th>PERCENTAGE_PER_PATH</th>\n",
              "      <th>TIMESTAMP</th>\n",
              "      <th>Mode</th>\n",
              "      <th>Type</th>\n",
              "      <th>Resolution</th>\n",
              "      <th>Priority</th>\n",
              "      <th>Resources</th>\n",
              "      <th>ArrivalTime</th>\n",
              "      <th>ServiceStartTime</th>\n",
              "      <th>DepartureTime</th>\n",
              "    </tr>\n",
              "  </thead>\n",
              "  <tbody>\n",
              "    <tr>\n",
              "      <th>0</th>\n",
              "      <td>173000001</td>\n",
              "      <td>ADMISION</td>\n",
              "      <td>01/01/2017 0:06</td>\n",
              "      <td>0</td>\n",
              "      <td>ADMISION,TRIAJE,ALTA</td>\n",
              "      <td>3</td>\n",
              "      <td>50387</td>\n",
              "      <td>0.435467</td>\n",
              "      <td>50387</td>\n",
              "      <td>0.435467</td>\n",
              "      <td>1.483229e+09</td>\n",
              "      <td>arrival</td>\n",
              "      <td>1</td>\n",
              "      <td>1000</td>\n",
              "      <td>0</td>\n",
              "      <td>1</td>\n",
              "      <td>1.0</td>\n",
              "      <td>1.0</td>\n",
              "      <td>0</td>\n",
              "    </tr>\n",
              "    <tr>\n",
              "      <th>1</th>\n",
              "      <td>173000001</td>\n",
              "      <td>TRIAJE</td>\n",
              "      <td>01/01/2017 0:11</td>\n",
              "      <td>1</td>\n",
              "      <td>ADMISION,TRIAJE,ALTA</td>\n",
              "      <td>3</td>\n",
              "      <td>50387</td>\n",
              "      <td>0.435467</td>\n",
              "      <td>50387</td>\n",
              "      <td>0.435467</td>\n",
              "      <td>1.483229e+09</td>\n",
              "      <td>service</td>\n",
              "      <td>2</td>\n",
              "      <td>1000</td>\n",
              "      <td>0</td>\n",
              "      <td>1</td>\n",
              "      <td>301.0</td>\n",
              "      <td>301.0</td>\n",
              "      <td>0</td>\n",
              "    </tr>\n",
              "    <tr>\n",
              "      <th>2</th>\n",
              "      <td>173000001</td>\n",
              "      <td>ALTA</td>\n",
              "      <td>01/01/2017 0:58</td>\n",
              "      <td>2</td>\n",
              "      <td>ADMISION,TRIAJE,ALTA</td>\n",
              "      <td>3</td>\n",
              "      <td>50387</td>\n",
              "      <td>0.435467</td>\n",
              "      <td>50387</td>\n",
              "      <td>0.435467</td>\n",
              "      <td>1.483232e+09</td>\n",
              "      <td>service</td>\n",
              "      <td>2</td>\n",
              "      <td>1000</td>\n",
              "      <td>0</td>\n",
              "      <td>1</td>\n",
              "      <td>3121.0</td>\n",
              "      <td>3121.0</td>\n",
              "      <td>0</td>\n",
              "    </tr>\n",
              "    <tr>\n",
              "      <th>3</th>\n",
              "      <td>173000002</td>\n",
              "      <td>ADMISION</td>\n",
              "      <td>01/01/2017 0:07</td>\n",
              "      <td>0</td>\n",
              "      <td>ADMISION,TRIAJE,RX SOLICITUD,RX EXPLORACION,ALTA</td>\n",
              "      <td>5</td>\n",
              "      <td>47810</td>\n",
              "      <td>0.413195</td>\n",
              "      <td>47530</td>\n",
              "      <td>0.410775</td>\n",
              "      <td>1.483229e+09</td>\n",
              "      <td>arrival</td>\n",
              "      <td>1</td>\n",
              "      <td>1000</td>\n",
              "      <td>0</td>\n",
              "      <td>1</td>\n",
              "      <td>61.0</td>\n",
              "      <td>61.0</td>\n",
              "      <td>0</td>\n",
              "    </tr>\n",
              "    <tr>\n",
              "      <th>4</th>\n",
              "      <td>173000002</td>\n",
              "      <td>TRIAJE</td>\n",
              "      <td>01/01/2017 0:13</td>\n",
              "      <td>1</td>\n",
              "      <td>ADMISION,TRIAJE,RX SOLICITUD,RX EXPLORACION,ALTA</td>\n",
              "      <td>5</td>\n",
              "      <td>47810</td>\n",
              "      <td>0.413195</td>\n",
              "      <td>47530</td>\n",
              "      <td>0.410775</td>\n",
              "      <td>1.483230e+09</td>\n",
              "      <td>service</td>\n",
              "      <td>2</td>\n",
              "      <td>1000</td>\n",
              "      <td>0</td>\n",
              "      <td>1</td>\n",
              "      <td>421.0</td>\n",
              "      <td>421.0</td>\n",
              "      <td>0</td>\n",
              "    </tr>\n",
              "  </tbody>\n",
              "</table>\n",
              "</div>"
            ],
            "text/plain": [
              "     CASE_ID  ACTIVITY  ... ServiceStartTime  DepartureTime\n",
              "0  173000001  ADMISION  ...              1.0              0\n",
              "1  173000001    TRIAJE  ...            301.0              0\n",
              "2  173000001      ALTA  ...           3121.0              0\n",
              "3  173000002  ADMISION  ...             61.0              0\n",
              "4  173000002    TRIAJE  ...            421.0              0\n",
              "\n",
              "[5 rows x 19 columns]"
            ]
          },
          "metadata": {
            "tags": []
          },
          "execution_count": 87
        }
      ]
    },
    {
      "cell_type": "markdown",
      "metadata": {
        "id": "LXsGny2fAi3l",
        "colab_type": "text"
      },
      "source": [
        "establish departure time"
      ]
    },
    {
      "cell_type": "code",
      "metadata": {
        "id": "LmByvSxQAil7",
        "colab_type": "code",
        "outputId": "b1daab3e-baf6-46c1-8300-94a8e1096308",
        "colab": {
          "base_uri": "https://localhost:8080/",
          "height": 343
        }
      },
      "source": [
        "data_time = df_timestamp.sort_values([\"CASE_ID\", \"INDEX\"]).reset_index().copy()\n",
        "\n",
        "\n",
        "def processDepartureTime(nodes):\n",
        "\n",
        "  temp_time = 0\n",
        "  len_nodes = len(nodes)\n",
        "  sal = []\n",
        "  mi_index = 0\n",
        "  for index, node in nodes.iteritems():\n",
        "    mi_index = mi_index +1\n",
        "  \n",
        "    if (mi_index == len_nodes):\n",
        "      sal.append(node)\n",
        "    else:\n",
        "      sal.append((nodes[index+1]))\n",
        "\n",
        "  return sal\n",
        "      \n",
        "\n",
        "data_time[\"DepartureTime\"] = data_time.groupby(\"CASE_ID\")[\"ServiceStartTime\"].transform(lambda x: processDepartureTime(x))\n",
        "data_time['Difference'] = data_time['DepartureTime'] - data_time['ServiceStartTime']\n",
        "data_time.head()\n",
        "\n",
        "\n",
        "#data_time[\"DepartureTime\"].fillna(0, inplace=True)\n"
      ],
      "execution_count": 0,
      "outputs": [
        {
          "output_type": "execute_result",
          "data": {
            "text/html": [
              "<div>\n",
              "<style scoped>\n",
              "    .dataframe tbody tr th:only-of-type {\n",
              "        vertical-align: middle;\n",
              "    }\n",
              "\n",
              "    .dataframe tbody tr th {\n",
              "        vertical-align: top;\n",
              "    }\n",
              "\n",
              "    .dataframe thead th {\n",
              "        text-align: right;\n",
              "    }\n",
              "</style>\n",
              "<table border=\"1\" class=\"dataframe\">\n",
              "  <thead>\n",
              "    <tr style=\"text-align: right;\">\n",
              "      <th></th>\n",
              "      <th>index</th>\n",
              "      <th>CASE_ID</th>\n",
              "      <th>ACTIVITY</th>\n",
              "      <th>DATE</th>\n",
              "      <th>INDEX</th>\n",
              "      <th>PATH</th>\n",
              "      <th>SIZE_PATH</th>\n",
              "      <th>USER_PER_SIZE_PATH</th>\n",
              "      <th>PERCENTAGE_PER_SIZE</th>\n",
              "      <th>USER_PER_PATH</th>\n",
              "      <th>PERCENTAGE_PER_PATH</th>\n",
              "      <th>TIMESTAMP</th>\n",
              "      <th>Mode</th>\n",
              "      <th>Type</th>\n",
              "      <th>Resolution</th>\n",
              "      <th>Priority</th>\n",
              "      <th>Resources</th>\n",
              "      <th>ArrivalTime</th>\n",
              "      <th>ServiceStartTime</th>\n",
              "      <th>DepartureTime</th>\n",
              "      <th>Difference</th>\n",
              "    </tr>\n",
              "  </thead>\n",
              "  <tbody>\n",
              "    <tr>\n",
              "      <th>0</th>\n",
              "      <td>0</td>\n",
              "      <td>173000001</td>\n",
              "      <td>ADMISION</td>\n",
              "      <td>01/01/2017 0:06</td>\n",
              "      <td>0</td>\n",
              "      <td>ADMISION,TRIAJE,ALTA</td>\n",
              "      <td>3</td>\n",
              "      <td>50387</td>\n",
              "      <td>0.435467</td>\n",
              "      <td>50387</td>\n",
              "      <td>0.435467</td>\n",
              "      <td>1.483229e+09</td>\n",
              "      <td>arrival</td>\n",
              "      <td>1</td>\n",
              "      <td>1000</td>\n",
              "      <td>0</td>\n",
              "      <td>1</td>\n",
              "      <td>1.0</td>\n",
              "      <td>1.0</td>\n",
              "      <td>301.0</td>\n",
              "      <td>300.0</td>\n",
              "    </tr>\n",
              "    <tr>\n",
              "      <th>1</th>\n",
              "      <td>1</td>\n",
              "      <td>173000001</td>\n",
              "      <td>TRIAJE</td>\n",
              "      <td>01/01/2017 0:11</td>\n",
              "      <td>1</td>\n",
              "      <td>ADMISION,TRIAJE,ALTA</td>\n",
              "      <td>3</td>\n",
              "      <td>50387</td>\n",
              "      <td>0.435467</td>\n",
              "      <td>50387</td>\n",
              "      <td>0.435467</td>\n",
              "      <td>1.483229e+09</td>\n",
              "      <td>service</td>\n",
              "      <td>2</td>\n",
              "      <td>1000</td>\n",
              "      <td>0</td>\n",
              "      <td>1</td>\n",
              "      <td>301.0</td>\n",
              "      <td>301.0</td>\n",
              "      <td>3121.0</td>\n",
              "      <td>2820.0</td>\n",
              "    </tr>\n",
              "    <tr>\n",
              "      <th>2</th>\n",
              "      <td>2</td>\n",
              "      <td>173000001</td>\n",
              "      <td>ALTA</td>\n",
              "      <td>01/01/2017 0:58</td>\n",
              "      <td>2</td>\n",
              "      <td>ADMISION,TRIAJE,ALTA</td>\n",
              "      <td>3</td>\n",
              "      <td>50387</td>\n",
              "      <td>0.435467</td>\n",
              "      <td>50387</td>\n",
              "      <td>0.435467</td>\n",
              "      <td>1.483232e+09</td>\n",
              "      <td>service</td>\n",
              "      <td>2</td>\n",
              "      <td>1000</td>\n",
              "      <td>0</td>\n",
              "      <td>1</td>\n",
              "      <td>3121.0</td>\n",
              "      <td>3121.0</td>\n",
              "      <td>3121.0</td>\n",
              "      <td>0.0</td>\n",
              "    </tr>\n",
              "    <tr>\n",
              "      <th>3</th>\n",
              "      <td>3</td>\n",
              "      <td>173000002</td>\n",
              "      <td>ADMISION</td>\n",
              "      <td>01/01/2017 0:07</td>\n",
              "      <td>0</td>\n",
              "      <td>ADMISION,TRIAJE,RX SOLICITUD,RX EXPLORACION,ALTA</td>\n",
              "      <td>5</td>\n",
              "      <td>47810</td>\n",
              "      <td>0.413195</td>\n",
              "      <td>47530</td>\n",
              "      <td>0.410775</td>\n",
              "      <td>1.483229e+09</td>\n",
              "      <td>arrival</td>\n",
              "      <td>1</td>\n",
              "      <td>1000</td>\n",
              "      <td>0</td>\n",
              "      <td>1</td>\n",
              "      <td>61.0</td>\n",
              "      <td>61.0</td>\n",
              "      <td>421.0</td>\n",
              "      <td>360.0</td>\n",
              "    </tr>\n",
              "    <tr>\n",
              "      <th>4</th>\n",
              "      <td>4</td>\n",
              "      <td>173000002</td>\n",
              "      <td>TRIAJE</td>\n",
              "      <td>01/01/2017 0:13</td>\n",
              "      <td>1</td>\n",
              "      <td>ADMISION,TRIAJE,RX SOLICITUD,RX EXPLORACION,ALTA</td>\n",
              "      <td>5</td>\n",
              "      <td>47810</td>\n",
              "      <td>0.413195</td>\n",
              "      <td>47530</td>\n",
              "      <td>0.410775</td>\n",
              "      <td>1.483230e+09</td>\n",
              "      <td>service</td>\n",
              "      <td>2</td>\n",
              "      <td>1000</td>\n",
              "      <td>0</td>\n",
              "      <td>1</td>\n",
              "      <td>421.0</td>\n",
              "      <td>421.0</td>\n",
              "      <td>1081.0</td>\n",
              "      <td>660.0</td>\n",
              "    </tr>\n",
              "  </tbody>\n",
              "</table>\n",
              "</div>"
            ],
            "text/plain": [
              "   index    CASE_ID  ACTIVITY  ... ServiceStartTime  DepartureTime Difference\n",
              "0      0  173000001  ADMISION  ...              1.0          301.0      300.0\n",
              "1      1  173000001    TRIAJE  ...            301.0         3121.0     2820.0\n",
              "2      2  173000001      ALTA  ...           3121.0         3121.0        0.0\n",
              "3      3  173000002  ADMISION  ...             61.0          421.0      360.0\n",
              "4      4  173000002    TRIAJE  ...            421.0         1081.0      660.0\n",
              "\n",
              "[5 rows x 21 columns]"
            ]
          },
          "metadata": {
            "tags": []
          },
          "execution_count": 88
        }
      ]
    },
    {
      "cell_type": "code",
      "metadata": {
        "id": "JQBnCYbuvLt2",
        "colab_type": "code",
        "outputId": "533deb6c-0ef9-47f7-bb61-7abe7b6cd0ac",
        "colab": {
          "base_uri": "https://localhost:8080/",
          "height": 51
        }
      },
      "source": [
        "data_time[\"USER_PER_SIZE_PATH\"].unique()"
      ],
      "execution_count": 0,
      "outputs": [
        {
          "output_type": "execute_result",
          "data": {
            "text/plain": [
              "array([50387, 47810,   761,  7557,  4450,  2746,  1011,   537,    54,\n",
              "          32,   255,    89,    13,     4,     2])"
            ]
          },
          "metadata": {
            "tags": []
          },
          "execution_count": 89
        }
      ]
    },
    {
      "cell_type": "markdown",
      "metadata": {
        "id": "PjRh4ShEAYqx",
        "colab_type": "text"
      },
      "source": [
        "safety check, check the data, al difference is > 0"
      ]
    },
    {
      "cell_type": "code",
      "metadata": {
        "id": "40hpvZ0nAbuI",
        "colab_type": "code",
        "outputId": "abe24ea6-ce88-4469-dd22-bd1f38d23b67",
        "colab": {
          "base_uri": "https://localhost:8080/",
          "height": 34
        }
      },
      "source": [
        "id_neg = data_time[data_time[\"Difference\"] < 0][\"CASE_ID\"]\n",
        "len(id_neg)"
      ],
      "execution_count": 0,
      "outputs": [
        {
          "output_type": "execute_result",
          "data": {
            "text/plain": [
              "0"
            ]
          },
          "metadata": {
            "tags": []
          },
          "execution_count": 90
        }
      ]
    },
    {
      "cell_type": "markdown",
      "metadata": {
        "id": "aIrYWTnaJlzk",
        "colab_type": "text"
      },
      "source": [
        "## search for inconstancies"
      ]
    },
    {
      "cell_type": "markdown",
      "metadata": {
        "id": "qvzPFb9QJsGM",
        "colab_type": "text"
      },
      "source": [
        "alta difference always must be 0"
      ]
    },
    {
      "cell_type": "code",
      "metadata": {
        "id": "aYiaJLjrJzoU",
        "colab_type": "code",
        "outputId": "dede8573-bde9-45c9-ab61-785d9aa43e68",
        "colab": {
          "base_uri": "https://localhost:8080/",
          "height": 69
        }
      },
      "source": [
        "df_filter = data_time.copy().sort_values([\"CASE_ID\", \"INDEX\"])\n",
        "df_filter[(df_filter[\"ACTIVITY\"] == \"ALTA\") & (df_filter[\"Difference\"]>0)]"
      ],
      "execution_count": 0,
      "outputs": [
        {
          "output_type": "execute_result",
          "data": {
            "text/html": [
              "<div>\n",
              "<style scoped>\n",
              "    .dataframe tbody tr th:only-of-type {\n",
              "        vertical-align: middle;\n",
              "    }\n",
              "\n",
              "    .dataframe tbody tr th {\n",
              "        vertical-align: top;\n",
              "    }\n",
              "\n",
              "    .dataframe thead th {\n",
              "        text-align: right;\n",
              "    }\n",
              "</style>\n",
              "<table border=\"1\" class=\"dataframe\">\n",
              "  <thead>\n",
              "    <tr style=\"text-align: right;\">\n",
              "      <th></th>\n",
              "      <th>index</th>\n",
              "      <th>CASE_ID</th>\n",
              "      <th>ACTIVITY</th>\n",
              "      <th>DATE</th>\n",
              "      <th>INDEX</th>\n",
              "      <th>PATH</th>\n",
              "      <th>SIZE_PATH</th>\n",
              "      <th>USER_PER_SIZE_PATH</th>\n",
              "      <th>PERCENTAGE_PER_SIZE</th>\n",
              "      <th>USER_PER_PATH</th>\n",
              "      <th>PERCENTAGE_PER_PATH</th>\n",
              "      <th>TIMESTAMP</th>\n",
              "      <th>Mode</th>\n",
              "      <th>Type</th>\n",
              "      <th>Resolution</th>\n",
              "      <th>Priority</th>\n",
              "      <th>Resources</th>\n",
              "      <th>ArrivalTime</th>\n",
              "      <th>ServiceStartTime</th>\n",
              "      <th>DepartureTime</th>\n",
              "      <th>Difference</th>\n",
              "    </tr>\n",
              "  </thead>\n",
              "  <tbody>\n",
              "  </tbody>\n",
              "</table>\n",
              "</div>"
            ],
            "text/plain": [
              "Empty DataFrame\n",
              "Columns: [index, CASE_ID, ACTIVITY, DATE, INDEX, PATH, SIZE_PATH, USER_PER_SIZE_PATH, PERCENTAGE_PER_SIZE, USER_PER_PATH, PERCENTAGE_PER_PATH, TIMESTAMP, Mode, Type, Resolution, Priority, Resources, ArrivalTime, ServiceStartTime, DepartureTime, Difference]\n",
              "Index: []"
            ]
          },
          "metadata": {
            "tags": []
          },
          "execution_count": 91
        }
      ]
    },
    {
      "cell_type": "markdown",
      "metadata": {
        "id": "SnQYmCsTKMhl",
        "colab_type": "text"
      },
      "source": [
        "last element must be ALTA"
      ]
    },
    {
      "cell_type": "code",
      "metadata": {
        "id": "YJsEZRP4KOql",
        "colab_type": "code",
        "outputId": "46502ecc-f42a-4499-edd6-c5ce0e465919",
        "colab": {
          "base_uri": "https://localhost:8080/",
          "height": 117
        }
      },
      "source": [
        "df_filter.tail(1)"
      ],
      "execution_count": 0,
      "outputs": [
        {
          "output_type": "execute_result",
          "data": {
            "text/html": [
              "<div>\n",
              "<style scoped>\n",
              "    .dataframe tbody tr th:only-of-type {\n",
              "        vertical-align: middle;\n",
              "    }\n",
              "\n",
              "    .dataframe tbody tr th {\n",
              "        vertical-align: top;\n",
              "    }\n",
              "\n",
              "    .dataframe thead th {\n",
              "        text-align: right;\n",
              "    }\n",
              "</style>\n",
              "<table border=\"1\" class=\"dataframe\">\n",
              "  <thead>\n",
              "    <tr style=\"text-align: right;\">\n",
              "      <th></th>\n",
              "      <th>index</th>\n",
              "      <th>CASE_ID</th>\n",
              "      <th>ACTIVITY</th>\n",
              "      <th>DATE</th>\n",
              "      <th>INDEX</th>\n",
              "      <th>PATH</th>\n",
              "      <th>SIZE_PATH</th>\n",
              "      <th>USER_PER_SIZE_PATH</th>\n",
              "      <th>PERCENTAGE_PER_SIZE</th>\n",
              "      <th>USER_PER_PATH</th>\n",
              "      <th>PERCENTAGE_PER_PATH</th>\n",
              "      <th>TIMESTAMP</th>\n",
              "      <th>Mode</th>\n",
              "      <th>Type</th>\n",
              "      <th>Resolution</th>\n",
              "      <th>Priority</th>\n",
              "      <th>Resources</th>\n",
              "      <th>ArrivalTime</th>\n",
              "      <th>ServiceStartTime</th>\n",
              "      <th>DepartureTime</th>\n",
              "      <th>Difference</th>\n",
              "    </tr>\n",
              "  </thead>\n",
              "  <tbody>\n",
              "    <tr>\n",
              "      <th>511953</th>\n",
              "      <td>511953</td>\n",
              "      <td>173181031</td>\n",
              "      <td>ALTA</td>\n",
              "      <td>01/01/2018 2:35</td>\n",
              "      <td>2</td>\n",
              "      <td>ADMISION,TRIAJE,ALTA</td>\n",
              "      <td>3</td>\n",
              "      <td>50387</td>\n",
              "      <td>0.435467</td>\n",
              "      <td>50387</td>\n",
              "      <td>0.435467</td>\n",
              "      <td>1.514774e+09</td>\n",
              "      <td>service</td>\n",
              "      <td>2</td>\n",
              "      <td>1000</td>\n",
              "      <td>0</td>\n",
              "      <td>1</td>\n",
              "      <td>31544941.0</td>\n",
              "      <td>31544941.0</td>\n",
              "      <td>31544941.0</td>\n",
              "      <td>0.0</td>\n",
              "    </tr>\n",
              "  </tbody>\n",
              "</table>\n",
              "</div>"
            ],
            "text/plain": [
              "         index    CASE_ID ACTIVITY  ... ServiceStartTime  DepartureTime Difference\n",
              "511953  511953  173181031     ALTA  ...       31544941.0     31544941.0        0.0\n",
              "\n",
              "[1 rows x 21 columns]"
            ]
          },
          "metadata": {
            "tags": []
          },
          "execution_count": 92
        }
      ]
    },
    {
      "cell_type": "markdown",
      "metadata": {
        "id": "0Z7320n8LWRP",
        "colab_type": "text"
      },
      "source": [
        "all CASE_ID must have a ADMISION and a ALTA"
      ]
    },
    {
      "cell_type": "code",
      "metadata": {
        "id": "53hFFkMcLdiF",
        "colab_type": "code",
        "outputId": "0413b1c5-d463-459e-8f9a-651798005019",
        "colab": {
          "base_uri": "https://localhost:8080/",
          "height": 34
        }
      },
      "source": [
        "df_general = df_filter[\"CASE_ID\"].unique()\n",
        "df_ALTA = df_filter[df_filter[\"ACTIVITY\"] == \"ALTA\"][\"CASE_ID\"].unique()\n",
        "set(df_general) - set(df_ALTA)"
      ],
      "execution_count": 0,
      "outputs": [
        {
          "output_type": "execute_result",
          "data": {
            "text/plain": [
              "set()"
            ]
          },
          "metadata": {
            "tags": []
          },
          "execution_count": 93
        }
      ]
    },
    {
      "cell_type": "code",
      "metadata": {
        "id": "Q8JEYHLTMYgy",
        "colab_type": "code",
        "outputId": "453aa549-7434-46af-8f68-023723d7c7d2",
        "colab": {
          "base_uri": "https://localhost:8080/",
          "height": 34
        }
      },
      "source": [
        "df_general = df_filter[\"CASE_ID\"].unique()\n",
        "df_ALTA = df_filter[df_filter[\"ACTIVITY\"] == \"ADMISION\"][\"CASE_ID\"].unique()\n",
        "set(df_general) - set(df_ALTA)"
      ],
      "execution_count": 0,
      "outputs": [
        {
          "output_type": "execute_result",
          "data": {
            "text/plain": [
              "set()"
            ]
          },
          "metadata": {
            "tags": []
          },
          "execution_count": 94
        }
      ]
    },
    {
      "cell_type": "markdown",
      "metadata": {
        "id": "9_lX12-coRgZ",
        "colab_type": "text"
      },
      "source": [
        "just for the decision of filter get the len vector"
      ]
    },
    {
      "cell_type": "code",
      "metadata": {
        "id": "qUYkU_xsoV-R",
        "colab_type": "code",
        "outputId": "d2eb3661-8470-4c7c-8cac-ab65cfc4121b",
        "colab": {
          "base_uri": "https://localhost:8080/",
          "height": 51
        }
      },
      "source": [
        "df_filter[\"USER_PER_SIZE_PATH\"].unique()"
      ],
      "execution_count": 0,
      "outputs": [
        {
          "output_type": "execute_result",
          "data": {
            "text/plain": [
              "array([50387, 47810,   761,  7557,  4450,  2746,  1011,   537,    54,\n",
              "          32,   255,    89,    13,     4,     2])"
            ]
          },
          "metadata": {
            "tags": []
          },
          "execution_count": 95
        }
      ]
    },
    {
      "cell_type": "markdown",
      "metadata": {
        "id": "Jv9tOtp6B79O",
        "colab_type": "text"
      },
      "source": [
        "# Create simulation auxiliary functions"
      ]
    },
    {
      "cell_type": "markdown",
      "metadata": {
        "id": "hZ7Lmodn-j3s",
        "colab_type": "text"
      },
      "source": [
        "## defini functions"
      ]
    },
    {
      "cell_type": "code",
      "metadata": {
        "id": "DtUIeKsOBTRJ",
        "colab_type": "code",
        "colab": {}
      },
      "source": [
        "\n",
        "#create data for the files\n",
        "def launch_create_simulation_file(df_input, per_path_min, per_size_min):\n",
        "  t_init =  161476390\n",
        "  t_simulation =  600000\n",
        "  t_max_simulation = 600000\n",
        "  resources = 200\n",
        "  resolution = 1000\n",
        "  priority = 0\n",
        "\n",
        "\n",
        "  #filter just with a minimul leng\n",
        "  print(\"Number of inputs before filter: \"+str(len(df_input)))\n",
        "  data_print = df_input[df_input[\"PERCENTAGE_PER_PATH\"]> percentage_path_min]\n",
        "  data_print = data_print[data_print[\"PERCENTAGE_PER_SIZE\"]> percentage_size_min]\n",
        "  print(\"Number of inputs after filter: \"+str(len(data_print)))\n",
        "\n",
        "  #we just want an example for each path, so we create just one with the mean values\n",
        "  data_print = data_print.groupby([\"PATH\", \"ACTIVITY\"]).mean().reset_index()\n",
        "  #column mode is lost, maybe because is categorical\n",
        "  data_print[\"Mode\"] =  np.where(data_print[\"INDEX\"] == 0, \"arrival\", \"service\")\n",
        "\n",
        "  #and now we add the normalizer factor, each path gets a weigth depending of the len\n",
        "  max_len = max(df_filter[\"USER_PER_SIZE_PATH\"].unique())  \n",
        "  data_print[\"factor\"]= ((data_print[\"USER_PER_SIZE_PATH\"]/max_len)*10).apply(np.ceil) \n",
        "\n",
        "  data_print = data_print.sort_values([\"SIZE_PATH\", \"CASE_ID\", \"INDEX\"])\n",
        "  return data_print\n",
        "\n",
        "\n",
        "#create data for stadistics\n",
        "def create_data_average(input_df):\n",
        "  def average_time(nodes):\n",
        "      min_date = None\n",
        "      max_date = None\n",
        "\n",
        "      for index, node in nodes.iterrows():      \n",
        "          temp_date = node[\"ServiceStartTime\"] \n",
        "          if ((min_date == None) or min_date>temp_date):\n",
        "            min_date = temp_date\n",
        "          if ((max_date == None) or max_date<temp_date):\n",
        "            max_date = temp_date\n",
        "\n",
        "      return max_date- min_date\n",
        "  out_data = input_df.groupby(\"CASE_ID\")[\"CASE_ID\", \"ServiceStartTime\", \"Difference\"].apply(lambda x : average_time(x))\n",
        "  return out_data\n",
        "\n",
        "\n",
        "#show estadistics\n",
        "def print_stadistic_df(input_df):\n",
        "  data_average = create_data_average(input_df)\n",
        "  print(\"Average\")\n",
        "  print(data_average.head(10))\n",
        "  print(\"Mean value of all the avergaes: \"+str(data_average.mean()))\n",
        "  print(\"Mean of the difference field:\"+ str(input_df[\"Difference\"].mean()))\n",
        "  print(\"Mean of the difference in the nodes\")\n",
        "  print(input_df.groupby(\"ACTIVITY\").mean()[\"Difference\"])"
      ],
      "execution_count": 0,
      "outputs": []
    },
    {
      "cell_type": "markdown",
      "metadata": {
        "id": "4Sg1l_BZg5wm",
        "colab_type": "text"
      },
      "source": [
        "## sinulation_00\n",
        "percentage_path_min = 0\n",
        "percentage_size_min = 0"
      ]
    },
    {
      "cell_type": "code",
      "metadata": {
        "id": "u7_jDBehgc-2",
        "colab_type": "code",
        "outputId": "7d71a8cb-835b-42de-969e-ce20fb0017d3",
        "colab": {
          "base_uri": "https://localhost:8080/",
          "height": 51
        }
      },
      "source": [
        "percentage_path_min = 0\n",
        "percentage_size_min = 0\n",
        "data_print = launch_create_simulation_file(df_filter, percentage_path_min, percentage_size_min )\n"
      ],
      "execution_count": 0,
      "outputs": [
        {
          "output_type": "stream",
          "text": [
            "Number of inputs before filter: 511954\n",
            "Number of inputs after filter: 511954\n"
          ],
          "name": "stdout"
        }
      ]
    },
    {
      "cell_type": "code",
      "metadata": {
        "id": "BFqGXmbdvgHh",
        "colab_type": "code",
        "outputId": "c8e3a897-5390-4884-909f-17243fff8e7f",
        "colab": {
          "base_uri": "https://localhost:8080/",
          "height": 71
        }
      },
      "source": [
        "#create condifgurration files\n",
        "(result_routes, result_cfg) = create_final_files(data_print, t_init, t_simulation, t_max_simulation, resolution, priority, resources)\n",
        "print(result_routes)\n",
        "print(result_cfg)"
      ],
      "execution_count": 0,
      "outputs": [
        {
          "output_type": "stream",
          "text": [
            "{\"InitialData\": {\"SimulationConfig\": {\"t_init\": 161476390, \"t_simulation\": 600000, \"t_max_simulation\": 600000}, \"Samples\": {\"User\": [{\"Priority\": 1, \"Step\": [{\"NodeId\": \"ADMISION\", \"ArrivalTime\": 105361.0, \"ServiceStartTime\": 105361.0, \"DepartureTime\": 105601.0}, {\"NodeId\": \"TRIAJE\", \"ArrivalTime\": 105601.0, \"ServiceStartTime\": 105601.0, \"DepartureTime\": 111301.0}, {\"NodeId\": \"RX SOLICITUD\", \"ArrivalTime\": 123761.0, \"ServiceStartTime\": 123761.0, \"DepartureTime\": 137641.0}, {\"NodeId\": \"RX EXPLORACION\", \"ArrivalTime\": 125621.0, \"ServiceStartTime\": 125621.0, \"DepartureTime\": 127121.0}, {\"NodeId\": \"INTERCONSULTA\", \"ArrivalTime\": 146611.0, \"ServiceStartTime\": 146611.0, \"DepartureTime\": 162421.0}, {\"NodeId\": \"RX INFORME\", \"ArrivalTime\": 126361.0, \"ServiceStartTime\": 126361.0, \"DepartureTime\": 139981.0}, {\"NodeId\": \"RESPUESTA\", \"ArrivalTime\": 162931.0, \"ServiceStartTime\": 162931.0, \"DepartureTime\": 180931.0}, {\"NodeId\": \"ALTA\", \"ArrivalTime\": 238681.0, \"ServiceStartTime\": 238681.0, \"DepartureTime\": 238681.0}]}, {\"Priority\": 1, \"Step\": [{\"NodeId\": \"ADMISION\", \"ArrivalTime\": 127381.0, \"ServiceStartTime\": 127381.0, \"DepartureTime\": 128281.0}, {\"NodeId\": \"TRIAJE\", \"ArrivalTime\": 128281.0, \"ServiceStartTime\": 128281.0, \"DepartureTime\": 159361.0}, {\"NodeId\": \"INTERCONSULTA\", \"ArrivalTime\": 159361.0, \"ServiceStartTime\": 159361.0, \"DepartureTime\": 213481.0}, {\"NodeId\": \"RESPUESTA\", \"ArrivalTime\": 213481.0, \"ServiceStartTime\": 213481.0, \"DepartureTime\": 214801.0}, {\"NodeId\": \"RX SOLICITUD\", \"ArrivalTime\": 214801.0, \"ServiceStartTime\": 214801.0, \"DepartureTime\": 217261.0}, {\"NodeId\": \"RX EXPLORACION\", \"ArrivalTime\": 217801.0, \"ServiceStartTime\": 217801.0, \"DepartureTime\": 263821.0}, {\"NodeId\": \"RX INFORME\", \"ArrivalTime\": 217501.0, \"ServiceStartTime\": 217501.0, \"DepartureTime\": 218341.0}, {\"NodeId\": \"ALTA\", \"ArrivalTime\": 310141.0, \"ServiceStartTime\": 310141.0, \"DepartureTime\": 310141.0}]}, {\"Priority\": 1, \"Step\": [{\"NodeId\": \"ADMISION\", \"ArrivalTime\": 214741.0, \"ServiceStartTime\": 214741.0, \"DepartureTime\": 217981.0}, {\"NodeId\": \"TRIAJE\", \"ArrivalTime\": 217981.0, \"ServiceStartTime\": 217981.0, \"DepartureTime\": 220861.0}, {\"NodeId\": \"RX INFORME\", \"ArrivalTime\": 223081.0, \"ServiceStartTime\": 223081.0, \"DepartureTime\": 229321.0}, {\"NodeId\": \"RX SOLICITUD\", \"ArrivalTime\": 286021.0, \"ServiceStartTime\": 286021.0, \"DepartureTime\": 300151.0}, {\"NodeId\": \"RX EXPLORACION\", \"ArrivalTime\": 276541.0, \"ServiceStartTime\": 276541.0, \"DepartureTime\": 304861.0}, {\"NodeId\": \"INTERCONSULTA\", \"ArrivalTime\": 345751.0, \"ServiceStartTime\": 345751.0, \"DepartureTime\": 353731.0}, {\"NodeId\": \"RESPUESTA\", \"ArrivalTime\": 353731.0, \"ServiceStartTime\": 353731.0, \"DepartureTime\": 381211.0}, {\"NodeId\": \"ALTA\", \"ArrivalTime\": 411241.0, \"ServiceStartTime\": 411241.0, \"DepartureTime\": 411241.0}]}, {\"Priority\": 1, \"Step\": [{\"NodeId\": \"ADMISION\", \"ArrivalTime\": 214741.0, \"ServiceStartTime\": 214741.0, \"DepartureTime\": 217921.0}, {\"NodeId\": \"TRIAJE\", \"ArrivalTime\": 217921.0, \"ServiceStartTime\": 217921.0, \"DepartureTime\": 219121.0}, {\"NodeId\": \"RX SOLICITUD\", \"ArrivalTime\": 219121.0, \"ServiceStartTime\": 219121.0, \"DepartureTime\": 220681.0}, {\"NodeId\": \"INTERCONSULTA\", \"ArrivalTime\": 228511.0, \"ServiceStartTime\": 228511.0, \"DepartureTime\": 259441.0}, {\"NodeId\": \"RX EXPLORACION\", \"ArrivalTime\": 224941.0, \"ServiceStartTime\": 224941.0, \"DepartureTime\": 236341.0}, {\"NodeId\": \"RESPUESTA\", \"ArrivalTime\": 293941.0, \"ServiceStartTime\": 293941.0, \"DepartureTime\": 350881.0}, {\"NodeId\": \"ALTA\", \"ArrivalTime\": 350881.0, \"ServiceStartTime\": 350881.0, \"DepartureTime\": 350881.0}]}, {\"Priority\": 1, \"Step\": [{\"NodeId\": \"ADMISION\", \"ArrivalTime\": 230581.0, \"ServiceStartTime\": 230581.0, \"DepartureTime\": 231121.0}, {\"NodeId\": \"TRIAJE\", \"ArrivalTime\": 231121.0, \"ServiceStartTime\": 231121.0, \"DepartureTime\": 231661.0}, {\"NodeId\": \"RX INFORME\", \"ArrivalTime\": 244201.0, \"ServiceStartTime\": 244201.0, \"DepartureTime\": 249721.0}, {\"NodeId\": \"RX SOLICITUD\", \"ArrivalTime\": 257446.0, \"ServiceStartTime\": 257446.0, \"DepartureTime\": 260596.0}, {\"NodeId\": \"RX EXPLORACION\", \"ArrivalTime\": 261976.0, \"ServiceStartTime\": 261976.0, \"DepartureTime\": 275536.0}, {\"NodeId\": \"ALTA\", \"ArrivalTime\": 304021.0, \"ServiceStartTime\": 304021.0, \"DepartureTime\": 304021.0}]}, {\"Priority\": 1, \"Step\": [{\"NodeId\": \"ADMISION\", \"ArrivalTime\": 294901.0, \"ServiceStartTime\": 294901.0, \"DepartureTime\": 295621.0}, {\"NodeId\": \"TRIAJE\", \"ArrivalTime\": 295621.0, \"ServiceStartTime\": 295621.0, \"DepartureTime\": 298081.0}, {\"NodeId\": \"INTERCONSULTA\", \"ArrivalTime\": 298921.0, \"ServiceStartTime\": 298921.0, \"DepartureTime\": 301501.0}, {\"NodeId\": \"RX SOLICITUD\", \"ArrivalTime\": 307531.0, \"ServiceStartTime\": 307531.0, \"DepartureTime\": 309811.0}, {\"NodeId\": \"RESPUESTA\", \"ArrivalTime\": 313381.0, \"ServiceStartTime\": 313381.0, \"DepartureTime\": 316981.0}, {\"NodeId\": \"RX EXPLORACION\", \"ArrivalTime\": 311101.0, \"ServiceStartTime\": 311101.0, \"DepartureTime\": 320611.0}, {\"NodeId\": \"RX INFORME\", \"ArrivalTime\": 327841.0, \"ServiceStartTime\": 327841.0, \"DepartureTime\": 335881.0}, {\"NodeId\": \"ALTA\", \"ArrivalTime\": 335881.0, \"ServiceStartTime\": 335881.0, \"DepartureTime\": 335881.0}]}, {\"Priority\": 1, \"Step\": [{\"NodeId\": \"ADMISION\", \"ArrivalTime\": 400201.0, \"ServiceStartTime\": 400201.0, \"DepartureTime\": 400561.0}, {\"NodeId\": \"TRIAJE\", \"ArrivalTime\": 400561.0, \"ServiceStartTime\": 400561.0, \"DepartureTime\": 412741.0}, {\"NodeId\": \"RX SOLICITUD\", \"ArrivalTime\": 419521.0, \"ServiceStartTime\": 419521.0, \"DepartureTime\": 420451.0}, {\"NodeId\": \"RX EXPLORACION\", \"ArrivalTime\": 418041.0, \"ServiceStartTime\": 418041.0, \"DepartureTime\": 432961.0}, {\"NodeId\": \"RX INFORME\", \"ArrivalTime\": 421201.0, \"ServiceStartTime\": 421201.0, \"DepartureTime\": 426841.0}, {\"NodeId\": \"ALTA\", \"ArrivalTime\": 470641.0, \"ServiceStartTime\": 470641.0, \"DepartureTime\": 470641.0}]}, {\"Priority\": 1, \"Step\": [{\"NodeId\": \"ADMISION\", \"ArrivalTime\": 417421.0, \"ServiceStartTime\": 417421.0, \"DepartureTime\": 419281.0}, {\"NodeId\": \"TRIAJE\", \"ArrivalTime\": 419281.0, \"ServiceStartTime\": 419281.0, \"DepartureTime\": 420181.0}, {\"NodeId\": \"RX SOLICITUD\", \"ArrivalTime\": 461371.0, \"ServiceStartTime\": 461371.0, \"DepartureTime\": 463951.0}, {\"NodeId\": \"RX EXPLORACION\", \"ArrivalTime\": 455785.0, \"ServiceStartTime\": 455785.0, \"DepartureTime\": 466261.0}, {\"NodeId\": \"RX INFORME\", \"ArrivalTime\": 467341.0, \"ServiceStartTime\": 467341.0, \"DepartureTime\": 473141.0}, {\"NodeId\": \"ALTA\", \"ArrivalTime\": 500281.0, \"ServiceStartTime\": 500281.0, \"DepartureTime\": 500281.0}]}, {\"Priority\": 1, \"Step\": [{\"NodeId\": \"ADMISION\", \"ArrivalTime\": 649441.0, \"ServiceStartTime\": 649441.0, \"DepartureTime\": 650041.0}, {\"NodeId\": \"TRIAJE\", \"ArrivalTime\": 650041.0, \"ServiceStartTime\": 650041.0, \"DepartureTime\": 660721.0}, {\"NodeId\": \"RX SOLICITUD\", \"ArrivalTime\": 682156.0, \"ServiceStartTime\": 682156.0, \"DepartureTime\": 688486.0}, {\"NodeId\": \"RX EXPLORACION\", \"ArrivalTime\": 690881.0, \"ServiceStartTime\": 690881.0, \"DepartureTime\": 722981.0}, {\"NodeId\": \"INTERCONSULTA\", \"ArrivalTime\": 685081.0, \"ServiceStartTime\": 685081.0, \"DepartureTime\": 686401.0}, {\"NodeId\": \"RX INFORME\", \"ArrivalTime\": 686401.0, \"ServiceStartTime\": 686401.0, \"DepartureTime\": 731221.0}, {\"NodeId\": \"RESPUESTA\", \"ArrivalTime\": 736441.0, \"ServiceStartTime\": 736441.0, \"DepartureTime\": 740221.0}, {\"NodeId\": \"ALTA\", \"ArrivalTime\": 832261.0, \"ServiceStartTime\": 832261.0, \"DepartureTime\": 832261.0}]}, {\"Priority\": 1, \"Step\": [{\"NodeId\": \"ADMISION\", \"ArrivalTime\": 694201.0, \"ServiceStartTime\": 694201.0, \"DepartureTime\": 694741.0}, {\"NodeId\": \"TRIAJE\", \"ArrivalTime\": 694741.0, \"ServiceStartTime\": 694741.0, \"DepartureTime\": 697081.0}, {\"NodeId\": \"RX SOLICITUD\", \"ArrivalTime\": 713761.0, \"ServiceStartTime\": 713761.0, \"DepartureTime\": 717631.0}, {\"NodeId\": \"RX EXPLORACION\", \"ArrivalTime\": 774761.0, \"ServiceStartTime\": 774761.0, \"DepartureTime\": 786261.0}, {\"NodeId\": \"INTERCONSULTA\", \"ArrivalTime\": 779131.0, \"ServiceStartTime\": 779131.0, \"DepartureTime\": 818881.0}, {\"NodeId\": \"RESPUESTA\", \"ArrivalTime\": 818941.0, \"ServiceStartTime\": 818941.0, \"DepartureTime\": 828121.0}, {\"NodeId\": \"RX INFORME\", \"ArrivalTime\": 816241.0, \"ServiceStartTime\": 816241.0, \"DepartureTime\": 822721.0}, {\"NodeId\": \"ALTA\", \"ArrivalTime\": 843661.0, \"ServiceStartTime\": 843661.0, \"DepartureTime\": 843661.0}]}, {\"Priority\": 1, \"Step\": [{\"NodeId\": \"ADMISION\", \"ArrivalTime\": 736201.0, \"ServiceStartTime\": 736201.0, \"DepartureTime\": 736621.0}, {\"NodeId\": \"TRIAJE\", \"ArrivalTime\": 736621.0, \"ServiceStartTime\": 736621.0, \"DepartureTime\": 742261.0}, {\"NodeId\": \"INTERCONSULTA\", \"ArrivalTime\": 748621.0, \"ServiceStartTime\": 748621.0, \"DepartureTime\": 752581.0}, {\"NodeId\": \"RX SOLICITUD\", \"ArrivalTime\": 778201.0, \"ServiceStartTime\": 778201.0, \"DepartureTime\": 778591.0}, {\"NodeId\": \"RX INFORME\", \"ArrivalTime\": 752581.0, \"ServiceStartTime\": 752581.0, \"DepartureTime\": 813301.0}, {\"NodeId\": \"RX EXPLORACION\", \"ArrivalTime\": 778591.0, \"ServiceStartTime\": 778591.0, \"DepartureTime\": 790351.0}, {\"NodeId\": \"RESPUESTA\", \"ArrivalTime\": 813301.0, \"ServiceStartTime\": 813301.0, \"DepartureTime\": 814141.0}, {\"NodeId\": \"ALTA\", \"ArrivalTime\": 832081.0, \"ServiceStartTime\": 832081.0, \"DepartureTime\": 832081.0}]}, {\"Priority\": 1, \"Step\": [{\"NodeId\": \"ADMISION\", \"ArrivalTime\": 813721.0, \"ServiceStartTime\": 813721.0, \"DepartureTime\": 814741.0}, {\"NodeId\": \"TRIAJE\", \"ArrivalTime\": 814741.0, \"ServiceStartTime\": 814741.0, \"DepartureTime\": 816781.0}, {\"NodeId\": \"RX SOLICITUD\", \"ArrivalTime\": 816781.0, \"ServiceStartTime\": 816781.0, \"DepartureTime\": 822061.0}, {\"NodeId\": \"RX EXPLORACION\", \"ArrivalTime\": 822061.0, \"ServiceStartTime\": 822061.0, \"DepartureTime\": 824641.0}, {\"NodeId\": \"RX INFORME\", \"ArrivalTime\": 824641.0, \"ServiceStartTime\": 824641.0, \"DepartureTime\": 880741.0}, {\"NodeId\": \"INTERCONSULTA\", \"ArrivalTime\": 931781.0, \"ServiceStartTime\": 931781.0, \"DepartureTime\": 962081.0}, {\"NodeId\": \"RESPUESTA\", \"ArrivalTime\": 962081.0, \"ServiceStartTime\": 962081.0, \"DepartureTime\": 1005661.0}, {\"NodeId\": \"ALTA\", \"ArrivalTime\": 1102381.0, \"ServiceStartTime\": 1102381.0, \"DepartureTime\": 1102381.0}]}, {\"Priority\": 1, \"Step\": [{\"NodeId\": \"ADMISION\", \"ArrivalTime\": 889081.0, \"ServiceStartTime\": 889081.0, \"DepartureTime\": 889501.0}, {\"NodeId\": \"TRIAJE\", \"ArrivalTime\": 889501.0, \"ServiceStartTime\": 889501.0, \"DepartureTime\": 895741.0}, {\"NodeId\": \"INTERCONSULTA\", \"ArrivalTime\": 939691.0, \"ServiceStartTime\": 939691.0, \"DepartureTime\": 949201.0}, {\"NodeId\": \"RESPUESTA\", \"ArrivalTime\": 950941.0, \"ServiceStartTime\": 950941.0, \"DepartureTime\": 991291.0}, {\"NodeId\": \"RX SOLICITUD\", \"ArrivalTime\": 992881.0, \"ServiceStartTime\": 992881.0, \"DepartureTime\": 996361.0}, {\"NodeId\": \"RX EXPLORACION\", \"ArrivalTime\": 1000501.0, \"ServiceStartTime\": 1000501.0, \"DepartureTime\": 1007911.0}, {\"NodeId\": \"RX INFORME\", \"ArrivalTime\": 999541.0, \"ServiceStartTime\": 999541.0, \"DepartureTime\": 1002061.0}, {\"NodeId\": \"ALTA\", \"ArrivalTime\": 1016281.0, \"ServiceStartTime\": 1016281.0, \"DepartureTime\": 1016281.0}]}, {\"Priority\": 1, \"Step\": [{\"NodeId\": \"ADMISION\", \"ArrivalTime\": 1576681.0, \"ServiceStartTime\": 1576681.0, \"DepartureTime\": 1576921.0}, {\"NodeId\": \"TRIAJE\", \"ArrivalTime\": 1576921.0, \"ServiceStartTime\": 1576921.0, \"DepartureTime\": 1578961.0}, {\"NodeId\": \"RX SOLICITUD\", \"ArrivalTime\": 1593281.0, \"ServiceStartTime\": 1593281.0, \"DepartureTime\": 1598181.0}, {\"NodeId\": \"INTERCONSULTA\", \"ArrivalTime\": 1599361.0, \"ServiceStartTime\": 1599361.0, \"DepartureTime\": 1599541.0}, {\"NodeId\": \"RX EXPLORACION\", \"ArrivalTime\": 1598566.0, \"ServiceStartTime\": 1598566.0, \"DepartureTime\": 1603381.0}, {\"NodeId\": \"RX INFORME\", \"ArrivalTime\": 1609081.0, \"ServiceStartTime\": 1609081.0, \"DepartureTime\": 1620571.0}, {\"NodeId\": \"RESPUESTA\", \"ArrivalTime\": 1607221.0, \"ServiceStartTime\": 1607221.0, \"DepartureTime\": 1613941.0}, {\"NodeId\": \"ALTA\", \"ArrivalTime\": 1642801.0, \"ServiceStartTime\": 1642801.0, \"DepartureTime\": 1642801.0}]}, {\"Priority\": 1, \"Step\": [{\"NodeId\": \"ADMISION\", \"ArrivalTime\": 1671901.0, \"ServiceStartTime\": 1671901.0, \"DepartureTime\": 1672261.0}, {\"NodeId\": \"TRIAJE\", \"ArrivalTime\": 1672261.0, \"ServiceStartTime\": 1672261.0, \"DepartureTime\": 1674721.0}, {\"NodeId\": \"RX SOLICITUD\", \"ArrivalTime\": 1678261.0, \"ServiceStartTime\": 1678261.0, \"DepartureTime\": 1679611.0}, {\"NodeId\": \"RX EXPLORACION\", \"ArrivalTime\": 1680781.0, \"ServiceStartTime\": 1680781.0, \"DepartureTime\": 1685581.0}, {\"NodeId\": \"INTERCONSULTA\", \"ArrivalTime\": 1683481.0, \"ServiceStartTime\": 1683481.0, \"DepartureTime\": 1685821.0}, {\"NodeId\": \"RESPUESTA\", \"ArrivalTime\": 1689361.0, \"ServiceStartTime\": 1689361.0, \"DepartureTime\": 1699741.0}, {\"NodeId\": \"ALTA\", \"ArrivalTime\": 1699741.0, \"ServiceStartTime\": 1699741.0, \"DepartureTime\": 1699741.0}]}, {\"Priority\": 1, \"Step\": [{\"NodeId\": \"ADMISION\", \"ArrivalTime\": 1786321.0, \"ServiceStartTime\": 1786321.0, \"DepartureTime\": 1787401.0}, {\"NodeId\": \"TRIAJE\", \"ArrivalTime\": 1787401.0, \"ServiceStartTime\": 1787401.0, \"DepartureTime\": 1791481.0}, {\"NodeId\": \"RX SOLICITUD\", \"ArrivalTime\": 1806801.0, \"ServiceStartTime\": 1806801.0, \"DepartureTime\": 1811061.0}, {\"NodeId\": \"RX EXPLORACION\", \"ArrivalTime\": 1814761.0, \"ServiceStartTime\": 1814761.0, \"DepartureTime\": 1823191.0}, {\"NodeId\": \"RX INFORME\", \"ArrivalTime\": 1824661.0, \"ServiceStartTime\": 1824661.0, \"DepartureTime\": 1825081.0}, {\"NodeId\": \"ALTA\", \"ArrivalTime\": 1838821.0, \"ServiceStartTime\": 1838821.0, \"DepartureTime\": 1838821.0}]}, {\"Priority\": 1, \"Step\": [{\"NodeId\": \"ADMISION\", \"ArrivalTime\": 1955881.0, \"ServiceStartTime\": 1955881.0, \"DepartureTime\": 1957981.0}, {\"NodeId\": \"TRIAJE\", \"ArrivalTime\": 1957981.0, \"ServiceStartTime\": 1957981.0, \"DepartureTime\": 1959541.0}, {\"NodeId\": \"RX SOLICITUD\", \"ArrivalTime\": 1972441.0, \"ServiceStartTime\": 1972441.0, \"DepartureTime\": 1975051.0}, {\"NodeId\": \"RX EXPLORACION\", \"ArrivalTime\": 1978841.0, \"ServiceStartTime\": 1978841.0, \"DepartureTime\": 1996861.0}, {\"NodeId\": \"RX INFORME\", \"ArrivalTime\": 2002621.0, \"ServiceStartTime\": 2002621.0, \"DepartureTime\": 2005801.0}, {\"NodeId\": \"INTERCONSULTA\", \"ArrivalTime\": 2025181.0, \"ServiceStartTime\": 2025181.0, \"DepartureTime\": 2038261.0}, {\"NodeId\": \"RESPUESTA\", \"ArrivalTime\": 2038261.0, \"ServiceStartTime\": 2038261.0, \"DepartureTime\": 2049781.0}, {\"NodeId\": \"ALTA\", \"ArrivalTime\": 2049781.0, \"ServiceStartTime\": 2049781.0, \"DepartureTime\": 2049781.0}]}, {\"Priority\": 1, \"Step\": [{\"NodeId\": \"ADMISION\", \"ArrivalTime\": 2026741.0, \"ServiceStartTime\": 2026741.0, \"DepartureTime\": 2027611.0}, {\"NodeId\": \"TRIAJE\", \"ArrivalTime\": 2027611.0, \"ServiceStartTime\": 2027611.0, \"DepartureTime\": 2029651.0}, {\"NodeId\": \"RX SOLICITUD\", \"ArrivalTime\": 2037301.0, \"ServiceStartTime\": 2037301.0, \"DepartureTime\": 2041456.0}, {\"NodeId\": \"INTERCONSULTA\", \"ArrivalTime\": 2036641.0, \"ServiceStartTime\": 2036641.0, \"DepartureTime\": 2044951.0}, {\"NodeId\": \"RX EXPLORACION\", \"ArrivalTime\": 2041456.0, \"ServiceStartTime\": 2041456.0, \"DepartureTime\": 2071276.0}, {\"NodeId\": \"RESPUESTA\", \"ArrivalTime\": 2105911.0, \"ServiceStartTime\": 2105911.0, \"DepartureTime\": 2125561.0}, {\"NodeId\": \"ALTA\", \"ArrivalTime\": 2125561.0, \"ServiceStartTime\": 2125561.0, \"DepartureTime\": 2125561.0}]}, {\"Priority\": 1, \"Step\": [{\"NodeId\": \"ADMISION\", \"ArrivalTime\": 2045821.0, \"ServiceStartTime\": 2045821.0, \"DepartureTime\": 2047021.0}, {\"NodeId\": \"TRIAJE\", \"ArrivalTime\": 2047021.0, \"ServiceStartTime\": 2047021.0, \"DepartureTime\": 2053141.0}, {\"NodeId\": \"INTERCONSULTA\", \"ArrivalTime\": 2053141.0, \"ServiceStartTime\": 2053141.0, \"DepartureTime\": 2106181.0}, {\"NodeId\": \"RESPUESTA\", \"ArrivalTime\": 2115421.0, \"ServiceStartTime\": 2115421.0, \"DepartureTime\": 2116261.0}, {\"NodeId\": \"RX SOLICITUD\", \"ArrivalTime\": 2121691.0, \"ServiceStartTime\": 2121691.0, \"DepartureTime\": 2126491.0}, {\"NodeId\": \"RX EXPLORACION\", \"ArrivalTime\": 2126911.0, \"ServiceStartTime\": 2126911.0, \"DepartureTime\": 2175271.0}, {\"NodeId\": \"ALTA\", \"ArrivalTime\": 2213341.0, \"ServiceStartTime\": 2213341.0, \"DepartureTime\": 2213341.0}]}, {\"Priority\": 1, \"Step\": [{\"NodeId\": \"ADMISION\", \"ArrivalTime\": 2125201.0, \"ServiceStartTime\": 2125201.0, \"DepartureTime\": 2125861.0}, {\"NodeId\": \"TRIAJE\", \"ArrivalTime\": 2125861.0, \"ServiceStartTime\": 2125861.0, \"DepartureTime\": 2131801.0}, {\"NodeId\": \"RX SOLICITUD\", \"ArrivalTime\": 2138281.0, \"ServiceStartTime\": 2138281.0, \"DepartureTime\": 2141841.0}, {\"NodeId\": \"RX EXPLORACION\", \"ArrivalTime\": 2140321.0, \"ServiceStartTime\": 2140321.0, \"DepartureTime\": 2141521.0}, {\"NodeId\": \"RX INFORME\", \"ArrivalTime\": 2143591.0, \"ServiceStartTime\": 2143591.0, \"DepartureTime\": 2146831.0}, {\"NodeId\": \"ALTA\", \"ArrivalTime\": 2151361.0, \"ServiceStartTime\": 2151361.0, \"DepartureTime\": 2151361.0}]}, {\"Priority\": 1, \"Step\": [{\"NodeId\": \"ADMISION\", \"ArrivalTime\": 2217781.0, \"ServiceStartTime\": 2217781.0, \"DepartureTime\": 2218681.0}, {\"NodeId\": \"TRIAJE\", \"ArrivalTime\": 2218681.0, \"ServiceStartTime\": 2218681.0, \"DepartureTime\": 2223721.0}, {\"NodeId\": \"RX SOLICITUD\", \"ArrivalTime\": 2230351.0, \"ServiceStartTime\": 2230351.0, \"DepartureTime\": 2232031.0}, {\"NodeId\": \"RX EXPLORACION\", \"ArrivalTime\": 2232061.0, \"ServiceStartTime\": 2232061.0, \"DepartureTime\": 2246611.0}, {\"NodeId\": \"RX INFORME\", \"ArrivalTime\": 2234581.0, \"ServiceStartTime\": 2234581.0, \"DepartureTime\": 2237581.0}, {\"NodeId\": \"INTERCONSULTA\", \"ArrivalTime\": 2262181.0, \"ServiceStartTime\": 2262181.0, \"DepartureTime\": 2278621.0}, {\"NodeId\": \"RESPUESTA\", \"ArrivalTime\": 2278621.0, \"ServiceStartTime\": 2278621.0, \"DepartureTime\": 2312161.0}, {\"NodeId\": \"ALTA\", \"ArrivalTime\": 2312161.0, \"ServiceStartTime\": 2312161.0, \"DepartureTime\": 2312161.0}]}, {\"Priority\": 1, \"Step\": [{\"NodeId\": \"ADMISION\", \"ArrivalTime\": 2483641.0, \"ServiceStartTime\": 2483641.0, \"DepartureTime\": 2484061.0}, {\"NodeId\": \"TRIAJE\", \"ArrivalTime\": 2484061.0, \"ServiceStartTime\": 2484061.0, \"DepartureTime\": 2485021.0}, {\"NodeId\": \"RX SOLICITUD\", \"ArrivalTime\": 2546725.0, \"ServiceStartTime\": 2546725.0, \"DepartureTime\": 2548093.0}, {\"NodeId\": \"RX EXPLORACION\", \"ArrivalTime\": 2563291.0, \"ServiceStartTime\": 2563291.0, \"DepartureTime\": 2602966.0}, {\"NodeId\": \"RX INFORME\", \"ArrivalTime\": 2571451.0, \"ServiceStartTime\": 2571451.0, \"DepartureTime\": 2582611.0}, {\"NodeId\": \"ALTA\", \"ArrivalTime\": 2672881.0, \"ServiceStartTime\": 2672881.0, \"DepartureTime\": 2672881.0}]}, {\"Priority\": 1, \"Step\": [{\"NodeId\": \"ADMISION\", \"ArrivalTime\": 2668381.0, \"ServiceStartTime\": 2668381.0, \"DepartureTime\": 2669221.0}, {\"NodeId\": \"TRIAJE\", \"ArrivalTime\": 2669221.0, \"ServiceStartTime\": 2669221.0, \"DepartureTime\": 2672041.0}, {\"NodeId\": \"RX EXPLORACION\", \"ArrivalTime\": 2673901.0, \"ServiceStartTime\": 2673901.0, \"DepartureTime\": 2677801.0}, {\"NodeId\": \"RX INFORME\", \"ArrivalTime\": 2677801.0, \"ServiceStartTime\": 2677801.0, \"DepartureTime\": 2716201.0}, {\"NodeId\": \"RX SOLICITUD\", \"ArrivalTime\": 2697451.0, \"ServiceStartTime\": 2697451.0, \"DepartureTime\": 2699131.0}, {\"NodeId\": \"INTERCONSULTA\", \"ArrivalTime\": 2721681.0, \"ServiceStartTime\": 2721681.0, \"DepartureTime\": 2723721.0}, {\"NodeId\": \"RESPUESTA\", \"ArrivalTime\": 2723721.0, \"ServiceStartTime\": 2723721.0, \"DepartureTime\": 2730221.0}, {\"NodeId\": \"ALTA\", \"ArrivalTime\": 2743321.0, \"ServiceStartTime\": 2743321.0, \"DepartureTime\": 2743321.0}]}, {\"Priority\": 1, \"Step\": [{\"NodeId\": \"ADMISION\", \"ArrivalTime\": 2727121.0, \"ServiceStartTime\": 2727121.0, \"DepartureTime\": 2727901.0}, {\"NodeId\": \"TRIAJE\", \"ArrivalTime\": 2727901.0, \"ServiceStartTime\": 2727901.0, \"DepartureTime\": 2733241.0}, {\"NodeId\": \"RX SOLICITUD\", \"ArrivalTime\": 2762621.0, \"ServiceStartTime\": 2762621.0, \"DepartureTime\": 2766381.0}, {\"NodeId\": \"RX EXPLORACION\", \"ArrivalTime\": 2767701.0, \"ServiceStartTime\": 2767701.0, \"DepartureTime\": 2773981.0}, {\"NodeId\": \"RX INFORME\", \"ArrivalTime\": 2758561.0, \"ServiceStartTime\": 2758561.0, \"DepartureTime\": 2813761.0}, {\"NodeId\": \"INTERCONSULTA\", \"ArrivalTime\": 2815321.0, \"ServiceStartTime\": 2815321.0, \"DepartureTime\": 2816521.0}, {\"NodeId\": \"RESPUESTA\", \"ArrivalTime\": 2816521.0, \"ServiceStartTime\": 2816521.0, \"DepartureTime\": 2819281.0}, {\"NodeId\": \"ALTA\", \"ArrivalTime\": 2822521.0, \"ServiceStartTime\": 2822521.0, \"DepartureTime\": 2822521.0}]}, {\"Priority\": 1, \"Step\": [{\"NodeId\": \"ADMISION\", \"ArrivalTime\": 2932441.0, \"ServiceStartTime\": 2932441.0, \"DepartureTime\": 2932981.0}, {\"NodeId\": \"TRIAJE\", \"ArrivalTime\": 2932981.0, \"ServiceStartTime\": 2932981.0, \"DepartureTime\": 2933581.0}, {\"NodeId\": \"RX SOLICITUD\", \"ArrivalTime\": 2956291.0, \"ServiceStartTime\": 2956291.0, \"DepartureTime\": 2958046.0}, {\"NodeId\": \"RX EXPLORACION\", \"ArrivalTime\": 2958586.0, \"ServiceStartTime\": 2958586.0, \"DepartureTime\": 2978566.0}, {\"NodeId\": \"RX INFORME\", \"ArrivalTime\": 2977861.0, \"ServiceStartTime\": 2977861.0, \"DepartureTime\": 2980021.0}, {\"NodeId\": \"ALTA\", \"ArrivalTime\": 3022681.0, \"ServiceStartTime\": 3022681.0, \"DepartureTime\": 3022681.0}]}, {\"Priority\": 1, \"Step\": [{\"NodeId\": \"ADMISION\", \"ArrivalTime\": 2997481.0, \"ServiceStartTime\": 2997481.0, \"DepartureTime\": 2997901.0}, {\"NodeId\": \"TRIAJE\", \"ArrivalTime\": 2997901.0, \"ServiceStartTime\": 2997901.0, \"DepartureTime\": 2999581.0}, {\"NodeId\": \"RX SOLICITUD\", \"ArrivalTime\": 3025111.0, \"ServiceStartTime\": 3025111.0, \"DepartureTime\": 3026791.0}, {\"NodeId\": \"RX EXPLORACION\", \"ArrivalTime\": 3032401.0, \"ServiceStartTime\": 3032401.0, \"DepartureTime\": 3041989.0}, {\"NodeId\": \"RX INFORME\", \"ArrivalTime\": 3025561.0, \"ServiceStartTime\": 3025561.0, \"DepartureTime\": 3054841.0}, {\"NodeId\": \"ALTA\", \"ArrivalTime\": 3083521.0, \"ServiceStartTime\": 3083521.0, \"DepartureTime\": 3083521.0}]}, {\"Priority\": 1, \"Step\": [{\"NodeId\": \"ADMISION\", \"ArrivalTime\": 3292861.0, \"ServiceStartTime\": 3292861.0, \"DepartureTime\": 3293161.0}, {\"NodeId\": \"TRIAJE\", \"ArrivalTime\": 3293161.0, \"ServiceStartTime\": 3293161.0, \"DepartureTime\": 3294601.0}, {\"NodeId\": \"RX SOLICITUD\", \"ArrivalTime\": 3305551.0, \"ServiceStartTime\": 3305551.0, \"DepartureTime\": 3308431.0}, {\"NodeId\": \"RX EXPLORACION\", \"ArrivalTime\": 3308551.0, \"ServiceStartTime\": 3308551.0, \"DepartureTime\": 3320341.0}, {\"NodeId\": \"INTERCONSULTA\", \"ArrivalTime\": 3324181.0, \"ServiceStartTime\": 3324181.0, \"DepartureTime\": 3330781.0}, {\"NodeId\": \"RX INFORME\", \"ArrivalTime\": 3331951.0, \"ServiceStartTime\": 3331951.0, \"DepartureTime\": 3333301.0}, {\"NodeId\": \"RESPUESTA\", \"ArrivalTime\": 3330781.0, \"ServiceStartTime\": 3330781.0, \"DepartureTime\": 3344401.0}, {\"NodeId\": \"ALTA\", \"ArrivalTime\": 3346861.0, \"ServiceStartTime\": 3346861.0, \"DepartureTime\": 3346861.0}]}, {\"Priority\": 1, \"Step\": [{\"NodeId\": \"ADMISION\", \"ArrivalTime\": 3314281.0, \"ServiceStartTime\": 3314281.0, \"DepartureTime\": 3314821.0}, {\"NodeId\": \"TRIAJE\", \"ArrivalTime\": 3314821.0, \"ServiceStartTime\": 3314821.0, \"DepartureTime\": 3318721.0}, {\"NodeId\": \"RX SOLICITUD\", \"ArrivalTime\": 3424421.0, \"ServiceStartTime\": 3424421.0, \"DepartureTime\": 3425761.0}, {\"NodeId\": \"INTERCONSULTA\", \"ArrivalTime\": 3408691.0, \"ServiceStartTime\": 3408691.0, \"DepartureTime\": 3419101.0}, {\"NodeId\": \"RX EXPLORACION\", \"ArrivalTime\": 3425761.0, \"ServiceStartTime\": 3425761.0, \"DepartureTime\": 3436181.0}, {\"NodeId\": \"RESPUESTA\", \"ArrivalTime\": 3419101.0, \"ServiceStartTime\": 3419101.0, \"DepartureTime\": 3477271.0}, {\"NodeId\": \"RX INFORME\", \"ArrivalTime\": 3446701.0, \"ServiceStartTime\": 3446701.0, \"DepartureTime\": 3487021.0}, {\"NodeId\": \"ALTA\", \"ArrivalTime\": 3531481.0, \"ServiceStartTime\": 3531481.0, \"DepartureTime\": 3531481.0}]}, {\"Priority\": 1, \"Step\": [{\"NodeId\": \"ADMISION\", \"ArrivalTime\": 3326221.0, \"ServiceStartTime\": 3326221.0, \"DepartureTime\": 3327901.0}, {\"NodeId\": \"TRIAJE\", \"ArrivalTime\": 3327901.0, \"ServiceStartTime\": 3327901.0, \"DepartureTime\": 3329941.0}, {\"NodeId\": \"RX SOLICITUD\", \"ArrivalTime\": 3387161.0, \"ServiceStartTime\": 3387161.0, \"DepartureTime\": 3390341.0}, {\"NodeId\": \"RX EXPLORACION\", \"ArrivalTime\": 3390341.0, \"ServiceStartTime\": 3390341.0, \"DepartureTime\": 3414381.0}, {\"NodeId\": \"INTERCONSULTA\", \"ArrivalTime\": 3418591.0, \"ServiceStartTime\": 3418591.0, \"DepartureTime\": 3453331.0}, {\"NodeId\": \"RESPUESTA\", \"ArrivalTime\": 3455191.0, \"ServiceStartTime\": 3455191.0, \"DepartureTime\": 3468751.0}, {\"NodeId\": \"RX INFORME\", \"ArrivalTime\": 3508201.0, \"ServiceStartTime\": 3508201.0, \"DepartureTime\": 3509881.0}, {\"NodeId\": \"ALTA\", \"ArrivalTime\": 3509881.0, \"ServiceStartTime\": 3509881.0, \"DepartureTime\": 3509881.0}]}, {\"Priority\": 1, \"Step\": [{\"NodeId\": \"ADMISION\", \"ArrivalTime\": 3836221.0, \"ServiceStartTime\": 3836221.0, \"DepartureTime\": 3836821.0}, {\"NodeId\": \"TRIAJE\", \"ArrivalTime\": 3836821.0, \"ServiceStartTime\": 3836821.0, \"DepartureTime\": 3838141.0}, {\"NodeId\": \"RX SOLICITUD\", \"ArrivalTime\": 3899866.0, \"ServiceStartTime\": 3899866.0, \"DepartureTime\": 3902071.0}, {\"NodeId\": \"INTERCONSULTA\", \"ArrivalTime\": 3929281.0, \"ServiceStartTime\": 3929281.0, \"DepartureTime\": 3932281.0}, {\"NodeId\": \"RX EXPLORACION\", \"ArrivalTime\": 3902071.0, \"ServiceStartTime\": 3902071.0, \"DepartureTime\": 3909946.0}, {\"NodeId\": \"RESPUESTA\", \"ArrivalTime\": 3932281.0, \"ServiceStartTime\": 3932281.0, \"DepartureTime\": 3948481.0}, {\"NodeId\": \"RX INFORME\", \"ArrivalTime\": 3929081.0, \"ServiceStartTime\": 3929081.0, \"DepartureTime\": 3954941.0}, {\"NodeId\": \"ALTA\", \"ArrivalTime\": 3975241.0, \"ServiceStartTime\": 3975241.0, \"DepartureTime\": 3975241.0}]}, {\"Priority\": 1, \"Step\": [{\"NodeId\": \"ADMISION\", \"ArrivalTime\": 4006081.0, \"ServiceStartTime\": 4006081.0, \"DepartureTime\": 4006621.0}, {\"NodeId\": \"TRIAJE\", \"ArrivalTime\": 4006621.0, \"ServiceStartTime\": 4006621.0, \"DepartureTime\": 4008121.0}, {\"NodeId\": \"RX SOLICITUD\", \"ArrivalTime\": 4010821.0, \"ServiceStartTime\": 4010821.0, \"DepartureTime\": 4012141.0}, {\"NodeId\": \"RX EXPLORACION\", \"ArrivalTime\": 4013901.0, \"ServiceStartTime\": 4013901.0, \"DepartureTime\": 4015721.0}, {\"NodeId\": \"INTERCONSULTA\", \"ArrivalTime\": 4015021.0, \"ServiceStartTime\": 4015021.0, \"DepartureTime\": 4017421.0}, {\"NodeId\": \"RESPUESTA\", \"ArrivalTime\": 4018621.0, \"ServiceStartTime\": 4018621.0, \"DepartureTime\": 4020961.0}, {\"NodeId\": \"ALTA\", \"ArrivalTime\": 4020961.0, \"ServiceStartTime\": 4020961.0, \"DepartureTime\": 4020961.0}]}, {\"Priority\": 1, \"Step\": [{\"NodeId\": \"ADMISION\", \"ArrivalTime\": 4006861.0, \"ServiceStartTime\": 4006861.0, \"DepartureTime\": 4007761.0}, {\"NodeId\": \"TRIAJE\", \"ArrivalTime\": 4007761.0, \"ServiceStartTime\": 4007761.0, \"DepartureTime\": 4008721.0}, {\"NodeId\": \"RX SOLICITUD\", \"ArrivalTime\": 4014781.0, \"ServiceStartTime\": 4014781.0, \"DepartureTime\": 4017301.0}, {\"NodeId\": \"INTERCONSULTA\", \"ArrivalTime\": 4018051.0, \"ServiceStartTime\": 4018051.0, \"DepartureTime\": 4022221.0}, {\"NodeId\": \"RX EXPLORACION\", \"ArrivalTime\": 4018831.0, \"ServiceStartTime\": 4018831.0, \"DepartureTime\": 4020901.0}, {\"NodeId\": \"RESPUESTA\", \"ArrivalTime\": 4023541.0, \"ServiceStartTime\": 4023541.0, \"DepartureTime\": 4025071.0}, {\"NodeId\": \"RX INFORME\", \"ArrivalTime\": 4029301.0, \"ServiceStartTime\": 4029301.0, \"DepartureTime\": 4049881.0}, {\"NodeId\": \"ALTA\", \"ArrivalTime\": 4049881.0, \"ServiceStartTime\": 4049881.0, \"DepartureTime\": 4049881.0}]}, {\"Priority\": 1, \"Step\": [{\"NodeId\": \"ADMISION\", \"ArrivalTime\": 4008721.0, \"ServiceStartTime\": 4008721.0, \"DepartureTime\": 4009801.0}, {\"NodeId\": \"TRIAJE\", \"ArrivalTime\": 4009801.0, \"ServiceStartTime\": 4009801.0, \"DepartureTime\": 4012441.0}, {\"NodeId\": \"INTERCONSULTA\", \"ArrivalTime\": 4012441.0, \"ServiceStartTime\": 4012441.0, \"DepartureTime\": 4015081.0}, {\"NodeId\": \"RX SOLICITUD\", \"ArrivalTime\": 4015081.0, \"ServiceStartTime\": 4015081.0, \"DepartureTime\": 4019341.0}, {\"NodeId\": \"RX INFORME\", \"ArrivalTime\": 4019641.0, \"ServiceStartTime\": 4019641.0, \"DepartureTime\": 4020061.0}, {\"NodeId\": \"RESPUESTA\", \"ArrivalTime\": 4020301.0, \"ServiceStartTime\": 4020301.0, \"DepartureTime\": 4021651.0}, {\"NodeId\": \"RX EXPLORACION\", \"ArrivalTime\": 4020061.0, \"ServiceStartTime\": 4020061.0, \"DepartureTime\": 4021261.0}, {\"NodeId\": \"ALTA\", \"ArrivalTime\": 4023661.0, \"ServiceStartTime\": 4023661.0, \"DepartureTime\": 4023661.0}]}, {\"Priority\": 1, \"Step\": [{\"NodeId\": \"ADMISION\", \"ArrivalTime\": 4179361.0, \"ServiceStartTime\": 4179361.0, \"DepartureTime\": 4180711.0}, {\"NodeId\": \"TRIAJE\", \"ArrivalTime\": 4180711.0, \"ServiceStartTime\": 4180711.0, \"DepartureTime\": 4186321.0}, {\"NodeId\": \"INTERCONSULTA\", \"ArrivalTime\": 4205401.0, \"ServiceStartTime\": 4205401.0, \"DepartureTime\": 4225921.0}, {\"NodeId\": \"RESPUESTA\", \"ArrivalTime\": 4225921.0, \"ServiceStartTime\": 4225921.0, \"DepartureTime\": 4229161.0}, {\"NodeId\": \"RX SOLICITUD\", \"ArrivalTime\": 4218711.0, \"ServiceStartTime\": 4218711.0, \"DepartureTime\": 4222281.0}, {\"NodeId\": \"RX EXPLORACION\", \"ArrivalTime\": 4222281.0, \"ServiceStartTime\": 4222281.0, \"DepartureTime\": 4231091.0}, {\"NodeId\": \"RX INFORME\", \"ArrivalTime\": 4247221.0, \"ServiceStartTime\": 4247221.0, \"DepartureTime\": 4256641.0}, {\"NodeId\": \"ALTA\", \"ArrivalTime\": 4256641.0, \"ServiceStartTime\": 4256641.0, \"DepartureTime\": 4256641.0}]}, {\"Priority\": 1, \"Step\": [{\"NodeId\": \"ADMISION\", \"ArrivalTime\": 4234471.0, \"ServiceStartTime\": 4234471.0, \"DepartureTime\": 4234921.0}, {\"NodeId\": \"TRIAJE\", \"ArrivalTime\": 4234921.0, \"ServiceStartTime\": 4234921.0, \"DepartureTime\": 4237681.0}, {\"NodeId\": \"RX SOLICITUD\", \"ArrivalTime\": 4268971.0, \"ServiceStartTime\": 4268971.0, \"DepartureTime\": 4270481.0}, {\"NodeId\": \"RX EXPLORACION\", \"ArrivalTime\": 4270611.0, \"ServiceStartTime\": 4270611.0, \"DepartureTime\": 4304461.0}, {\"NodeId\": \"RX INFORME\", \"ArrivalTime\": 4281316.0, \"ServiceStartTime\": 4281316.0, \"DepartureTime\": 4285546.0}, {\"NodeId\": \"ALTA\", \"ArrivalTime\": 4352221.0, \"ServiceStartTime\": 4352221.0, \"DepartureTime\": 4352221.0}]}, {\"Priority\": 1, \"Step\": [{\"NodeId\": \"ADMISION\", \"ArrivalTime\": 4352821.0, \"ServiceStartTime\": 4352821.0, \"DepartureTime\": 4353241.0}, {\"NodeId\": \"TRIAJE\", \"ArrivalTime\": 4353241.0, \"ServiceStartTime\": 4353241.0, \"DepartureTime\": 4353961.0}, {\"NodeId\": \"RX SOLICITUD\", \"ArrivalTime\": 4353961.0, \"ServiceStartTime\": 4353961.0, \"DepartureTime\": 4358701.0}, {\"NodeId\": \"RX EXPLORACION\", \"ArrivalTime\": 4358701.0, \"ServiceStartTime\": 4358701.0, \"DepartureTime\": 4361341.0}, {\"NodeId\": \"RX INFORME\", \"ArrivalTime\": 4361401.0, \"ServiceStartTime\": 4361401.0, \"DepartureTime\": 4365481.0}, {\"NodeId\": \"INTERCONSULTA\", \"ArrivalTime\": 4363411.0, \"ServiceStartTime\": 4363411.0, \"DepartureTime\": 4364461.0}, {\"NodeId\": \"RESPUESTA\", \"ArrivalTime\": 4366501.0, \"ServiceStartTime\": 4366501.0, \"DepartureTime\": 4372381.0}, {\"NodeId\": \"ALTA\", \"ArrivalTime\": 4379281.0, \"ServiceStartTime\": 4379281.0, \"DepartureTime\": 4379281.0}]}, {\"Priority\": 1, \"Step\": [{\"NodeId\": \"ADMISION\", \"ArrivalTime\": 4624741.0, \"ServiceStartTime\": 4624741.0, \"DepartureTime\": 4625281.0}, {\"NodeId\": \"TRIAJE\", \"ArrivalTime\": 4625281.0, \"ServiceStartTime\": 4625281.0, \"DepartureTime\": 4639441.0}, {\"NodeId\": \"RX INFORME\", \"ArrivalTime\": 4673821.0, \"ServiceStartTime\": 4673821.0, \"DepartureTime\": 4676491.0}, {\"NodeId\": \"RX SOLICITUD\", \"ArrivalTime\": 4683121.0, \"ServiceStartTime\": 4683121.0, \"DepartureTime\": 4686501.0}, {\"NodeId\": \"INTERCONSULTA\", \"ArrivalTime\": 4678711.0, \"ServiceStartTime\": 4678711.0, \"DepartureTime\": 4704961.0}, {\"NodeId\": \"RX EXPLORACION\", \"ArrivalTime\": 4687201.0, \"ServiceStartTime\": 4687201.0, \"DepartureTime\": 4688721.0}, {\"NodeId\": \"RESPUESTA\", \"ArrivalTime\": 4709161.0, \"ServiceStartTime\": 4709161.0, \"DepartureTime\": 4712431.0}, {\"NodeId\": \"ALTA\", \"ArrivalTime\": 4718521.0, \"ServiceStartTime\": 4718521.0, \"DepartureTime\": 4718521.0}]}, {\"Priority\": 1, \"Step\": [{\"NodeId\": \"ADMISION\", \"ArrivalTime\": 4635721.0, \"ServiceStartTime\": 4635721.0, \"DepartureTime\": 4636501.0}, {\"NodeId\": \"TRIAJE\", \"ArrivalTime\": 4636501.0, \"ServiceStartTime\": 4636501.0, \"DepartureTime\": 4640401.0}, {\"NodeId\": \"RX SOLICITUD\", \"ArrivalTime\": 4664901.0, \"ServiceStartTime\": 4664901.0, \"DepartureTime\": 4669601.0}, {\"NodeId\": \"RX EXPLORACION\", \"ArrivalTime\": 4669601.0, \"ServiceStartTime\": 4669601.0, \"DepartureTime\": 4678041.0}, {\"NodeId\": \"RX INFORME\", \"ArrivalTime\": 4665181.0, \"ServiceStartTime\": 4665181.0, \"DepartureTime\": 4698961.0}, {\"NodeId\": \"INTERCONSULTA\", \"ArrivalTime\": 4713601.0, \"ServiceStartTime\": 4713601.0, \"DepartureTime\": 4716481.0}, {\"NodeId\": \"RESPUESTA\", \"ArrivalTime\": 4716481.0, \"ServiceStartTime\": 4716481.0, \"DepartureTime\": 4753261.0}, {\"NodeId\": \"ALTA\", \"ArrivalTime\": 4753261.0, \"ServiceStartTime\": 4753261.0, \"DepartureTime\": 4753261.0}]}, {\"Priority\": 1, \"Step\": [{\"NodeId\": \"ADMISION\", \"ArrivalTime\": 4642261.0, \"ServiceStartTime\": 4642261.0, \"DepartureTime\": 4642801.0}, {\"NodeId\": \"TRIAJE\", \"ArrivalTime\": 4642801.0, \"ServiceStartTime\": 4642801.0, \"DepartureTime\": 4643641.0}, {\"NodeId\": \"RX SOLICITUD\", \"ArrivalTime\": 4681381.0, \"ServiceStartTime\": 4681381.0, \"DepartureTime\": 4685851.0}, {\"NodeId\": \"INTERCONSULTA\", \"ArrivalTime\": 4717231.0, \"ServiceStartTime\": 4717231.0, \"DepartureTime\": 4718161.0}, {\"NodeId\": \"RESPUESTA\", \"ArrivalTime\": 4717201.0, \"ServiceStartTime\": 4717201.0, \"DepartureTime\": 4717261.0}, {\"NodeId\": \"RX EXPLORACION\", \"ArrivalTime\": 4685851.0, \"ServiceStartTime\": 4685851.0, \"DepartureTime\": 4689091.0}, {\"NodeId\": \"RX INFORME\", \"ArrivalTime\": 4689091.0, \"ServiceStartTime\": 4689091.0, \"DepartureTime\": 4724911.0}, {\"NodeId\": \"ALTA\", \"ArrivalTime\": 4732621.0, \"ServiceStartTime\": 4732621.0, \"DepartureTime\": 4732621.0}]}, {\"Priority\": 1, \"Step\": [{\"NodeId\": \"ADMISION\", \"ArrivalTime\": 4917721.0, \"ServiceStartTime\": 4917721.0, \"DepartureTime\": 4917961.0}, {\"NodeId\": \"TRIAJE\", \"ArrivalTime\": 4917961.0, \"ServiceStartTime\": 4917961.0, \"DepartureTime\": 4926661.0}, {\"NodeId\": \"RX SOLICITUD\", \"ArrivalTime\": 4980421.0, \"ServiceStartTime\": 4980421.0, \"DepartureTime\": 4996036.0}, {\"NodeId\": \"RX EXPLORACION\", \"ArrivalTime\": 4996231.0, \"ServiceStartTime\": 4996231.0, \"DepartureTime\": 5003101.0}, {\"NodeId\": \"RX INFORME\", \"ArrivalTime\": 5025261.0, \"ServiceStartTime\": 5025261.0, \"DepartureTime\": 5067961.0}, {\"NodeId\": \"ALTA\", \"ArrivalTime\": 5144701.0, \"ServiceStartTime\": 5144701.0, \"DepartureTime\": 5144701.0}]}, {\"Priority\": 1, \"Step\": [{\"NodeId\": \"ADMISION\", \"ArrivalTime\": 5092681.0, \"ServiceStartTime\": 5092681.0, \"DepartureTime\": 5093221.0}, {\"NodeId\": \"TRIAJE\", \"ArrivalTime\": 5093221.0, \"ServiceStartTime\": 5093221.0, \"DepartureTime\": 5093821.0}, {\"NodeId\": \"RX EXPLORACION\", \"ArrivalTime\": 5102491.0, \"ServiceStartTime\": 5102491.0, \"DepartureTime\": 5106751.0}, {\"NodeId\": \"RX SOLICITUD\", \"ArrivalTime\": 5109601.0, \"ServiceStartTime\": 5109601.0, \"DepartureTime\": 5115041.0}, {\"NodeId\": \"RX INFORME\", \"ArrivalTime\": 5110561.0, \"ServiceStartTime\": 5110561.0, \"DepartureTime\": 5116801.0}, {\"NodeId\": \"INTERCONSULTA\", \"ArrivalTime\": 5116801.0, \"ServiceStartTime\": 5116801.0, \"DepartureTime\": 5132041.0}, {\"NodeId\": \"RESPUESTA\", \"ArrivalTime\": 5140141.0, \"ServiceStartTime\": 5140141.0, \"DepartureTime\": 5164381.0}, {\"NodeId\": \"ALTA\", \"ArrivalTime\": 5164381.0, \"ServiceStartTime\": 5164381.0, \"DepartureTime\": 5164381.0}]}, {\"Priority\": 1, \"Step\": [{\"NodeId\": \"ADMISION\", \"ArrivalTime\": 5292301.0, \"ServiceStartTime\": 5292301.0, \"DepartureTime\": 5292841.0}, {\"NodeId\": \"TRIAJE\", \"ArrivalTime\": 5292841.0, \"ServiceStartTime\": 5292841.0, \"DepartureTime\": 5294701.0}, {\"NodeId\": \"INTERCONSULTA\", \"ArrivalTime\": 5315821.0, \"ServiceStartTime\": 5315821.0, \"DepartureTime\": 5318371.0}, {\"NodeId\": \"RX SOLICITUD\", \"ArrivalTime\": 5314801.0, \"ServiceStartTime\": 5314801.0, \"DepartureTime\": 5315941.0}, {\"NodeId\": \"RESPUESTA\", \"ArrivalTime\": 5318371.0, \"ServiceStartTime\": 5318371.0, \"DepartureTime\": 5320531.0}, {\"NodeId\": \"RX EXPLORACION\", \"ArrivalTime\": 5315941.0, \"ServiceStartTime\": 5315941.0, \"DepartureTime\": 5326411.0}, {\"NodeId\": \"RX INFORME\", \"ArrivalTime\": 5331121.0, \"ServiceStartTime\": 5331121.0, \"DepartureTime\": 5343091.0}, {\"NodeId\": \"ALTA\", \"ArrivalTime\": 5351281.0, \"ServiceStartTime\": 5351281.0, \"DepartureTime\": 5351281.0}]}, {\"Priority\": 1, \"Step\": [{\"NodeId\": \"ADMISION\", \"ArrivalTime\": 5832181.0, \"ServiceStartTime\": 5832181.0, \"DepartureTime\": 5833111.0}, {\"NodeId\": \"TRIAJE\", \"ArrivalTime\": 5833111.0, \"ServiceStartTime\": 5833111.0, \"DepartureTime\": 5834701.0}, {\"NodeId\": \"RX EXPLORACION\", \"ArrivalTime\": 5848611.0, \"ServiceStartTime\": 5848611.0, \"DepartureTime\": 5854731.0}, {\"NodeId\": \"RX SOLICITUD\", \"ArrivalTime\": 5846776.0, \"ServiceStartTime\": 5846776.0, \"DepartureTime\": 5855566.0}, {\"NodeId\": \"RX INFORME\", \"ArrivalTime\": 5870641.0, \"ServiceStartTime\": 5870641.0, \"DepartureTime\": 5952151.0}, {\"NodeId\": \"ALTA\", \"ArrivalTime\": 5952151.0, \"ServiceStartTime\": 5952151.0, \"DepartureTime\": 5952151.0}]}, {\"Priority\": 1, \"Step\": [{\"NodeId\": \"ADMISION\", \"ArrivalTime\": 5873341.0, \"ServiceStartTime\": 5873341.0, \"DepartureTime\": 5874001.0}, {\"NodeId\": \"TRIAJE\", \"ArrivalTime\": 5874001.0, \"ServiceStartTime\": 5874001.0, \"DepartureTime\": 5882401.0}, {\"NodeId\": \"RX EXPLORACION\", \"ArrivalTime\": 5907061.0, \"ServiceStartTime\": 5907061.0, \"DepartureTime\": 5913181.0}, {\"NodeId\": \"RX SOLICITUD\", \"ArrivalTime\": 5908981.0, \"ServiceStartTime\": 5908981.0, \"DepartureTime\": 5912611.0}, {\"NodeId\": \"INTERCONSULTA\", \"ArrivalTime\": 5910721.0, \"ServiceStartTime\": 5910721.0, \"DepartureTime\": 5916601.0}, {\"NodeId\": \"RESPUESTA\", \"ArrivalTime\": 5917831.0, \"ServiceStartTime\": 5917831.0, \"DepartureTime\": 5919151.0}, {\"NodeId\": \"RX INFORME\", \"ArrivalTime\": 5929681.0, \"ServiceStartTime\": 5929681.0, \"DepartureTime\": 5949721.0}, {\"NodeId\": \"ALTA\", \"ArrivalTime\": 5949721.0, \"ServiceStartTime\": 5949721.0, \"DepartureTime\": 5949721.0}]}, {\"Priority\": 1, \"Step\": [{\"NodeId\": \"ADMISION\", \"ArrivalTime\": 5972101.0, \"ServiceStartTime\": 5972101.0, \"DepartureTime\": 5972881.0}, {\"NodeId\": \"TRIAJE\", \"ArrivalTime\": 5972881.0, \"ServiceStartTime\": 5972881.0, \"DepartureTime\": 5975281.0}, {\"NodeId\": \"RX INFORME\", \"ArrivalTime\": 5976781.0, \"ServiceStartTime\": 5976781.0, \"DepartureTime\": 5976841.0}, {\"NodeId\": \"RX SOLICITUD\", \"ArrivalTime\": 5976736.0, \"ServiceStartTime\": 5976736.0, \"DepartureTime\": 5977426.0}, {\"NodeId\": \"RX EXPLORACION\", \"ArrivalTime\": 5977641.0, \"ServiceStartTime\": 5977641.0, \"DepartureTime\": 5978901.0}, {\"NodeId\": \"ALTA\", \"ArrivalTime\": 5981881.0, \"ServiceStartTime\": 5981881.0, \"DepartureTime\": 5981881.0}]}, {\"Priority\": 1, \"Step\": [{\"NodeId\": \"ADMISION\", \"ArrivalTime\": 6015901.0, \"ServiceStartTime\": 6015901.0, \"DepartureTime\": 6016441.0}, {\"NodeId\": \"TRIAJE\", \"ArrivalTime\": 6016441.0, \"ServiceStartTime\": 6016441.0, \"DepartureTime\": 6020161.0}, {\"NodeId\": \"RX INFORME\", \"ArrivalTime\": 6100201.0, \"ServiceStartTime\": 6100201.0, \"DepartureTime\": 6109741.0}, {\"NodeId\": \"RX SOLICITUD\", \"ArrivalTime\": 6090493.0, \"ServiceStartTime\": 6090493.0, \"DepartureTime\": 6093613.0}, {\"NodeId\": \"RX EXPLORACION\", \"ArrivalTime\": 6093613.0, \"ServiceStartTime\": 6093613.0, \"DepartureTime\": 6112453.0}, {\"NodeId\": \"ALTA\", \"ArrivalTime\": 6139501.0, \"ServiceStartTime\": 6139501.0, \"DepartureTime\": 6139501.0}]}, {\"Priority\": 1, \"Step\": [{\"NodeId\": \"ADMISION\", \"ArrivalTime\": 6094741.0, \"ServiceStartTime\": 6094741.0, \"DepartureTime\": 6095281.0}, {\"NodeId\": \"TRIAJE\", \"ArrivalTime\": 6095281.0, \"ServiceStartTime\": 6095281.0, \"DepartureTime\": 6165601.0}, {\"NodeId\": \"RX EXPLORACION\", \"ArrivalTime\": 6209401.0, \"ServiceStartTime\": 6209401.0, \"DepartureTime\": 6306481.0}, {\"NodeId\": \"RX SOLICITUD\", \"ArrivalTime\": 6249541.0, \"ServiceStartTime\": 6249541.0, \"DepartureTime\": 6253201.0}, {\"NodeId\": \"ALTA\", \"ArrivalTime\": 6363421.0, \"ServiceStartTime\": 6363421.0, \"DepartureTime\": 6363421.0}]}, {\"Priority\": 1, \"Step\": [{\"NodeId\": \"ADMISION\", \"ArrivalTime\": 6094741.0, \"ServiceStartTime\": 6094741.0, \"DepartureTime\": 6095281.0}, {\"NodeId\": \"TRIAJE\", \"ArrivalTime\": 6095281.0, \"ServiceStartTime\": 6095281.0, \"DepartureTime\": 6165601.0}, {\"NodeId\": \"RX EXPLORACION\", \"ArrivalTime\": 6209401.0, \"ServiceStartTime\": 6209401.0, \"DepartureTime\": 6306481.0}, {\"NodeId\": \"RX SOLICITUD\", \"ArrivalTime\": 6249541.0, \"ServiceStartTime\": 6249541.0, \"DepartureTime\": 6253201.0}, {\"NodeId\": \"ALTA\", \"ArrivalTime\": 6363421.0, \"ServiceStartTime\": 6363421.0, \"DepartureTime\": 6363421.0}]}, {\"Priority\": 1, \"Step\": [{\"NodeId\": \"ADMISION\", \"ArrivalTime\": 6114421.0, \"ServiceStartTime\": 6114421.0, \"DepartureTime\": 6114781.0}, {\"NodeId\": \"TRIAJE\", \"ArrivalTime\": 6114781.0, \"ServiceStartTime\": 6114781.0, \"DepartureTime\": 6115921.0}, {\"NodeId\": \"RX SOLICITUD\", \"ArrivalTime\": 6118021.0, \"ServiceStartTime\": 6118021.0, \"DepartureTime\": 6119251.0}, {\"NodeId\": \"RX EXPLORACION\", \"ArrivalTime\": 6119641.0, \"ServiceStartTime\": 6119641.0, \"DepartureTime\": 6125161.0}, {\"NodeId\": \"INTERCONSULTA\", \"ArrivalTime\": 6121381.0, \"ServiceStartTime\": 6121381.0, \"DepartureTime\": 6122161.0}, {\"NodeId\": \"ALTA\", \"ArrivalTime\": 6130201.0, \"ServiceStartTime\": 6130201.0, \"DepartureTime\": 6130201.0}]}, {\"Priority\": 1, \"Step\": [{\"NodeId\": \"ADMISION\", \"ArrivalTime\": 6451861.0, \"ServiceStartTime\": 6451861.0, \"DepartureTime\": 6452761.0}, {\"NodeId\": \"TRIAJE\", \"ArrivalTime\": 6452761.0, \"ServiceStartTime\": 6452761.0, \"DepartureTime\": 6461341.0}, {\"NodeId\": \"RX INFORME\", \"ArrivalTime\": 6481081.0, \"ServiceStartTime\": 6481081.0, \"DepartureTime\": 6489301.0}, {\"NodeId\": \"RX SOLICITUD\", \"ArrivalTime\": 6489841.0, \"ServiceStartTime\": 6489841.0, \"DepartureTime\": 6501001.0}, {\"NodeId\": \"INTERCONSULTA\", \"ArrivalTime\": 6489301.0, \"ServiceStartTime\": 6489301.0, \"DepartureTime\": 6510781.0}, {\"NodeId\": \"RX EXPLORACION\", \"ArrivalTime\": 6506191.0, \"ServiceStartTime\": 6506191.0, \"DepartureTime\": 6598711.0}, {\"NodeId\": \"RESPUESTA\", \"ArrivalTime\": 6516211.0, \"ServiceStartTime\": 6516211.0, \"DepartureTime\": 6525181.0}, {\"NodeId\": \"ALTA\", \"ArrivalTime\": 6716341.0, \"ServiceStartTime\": 6716341.0, \"DepartureTime\": 6716341.0}]}, {\"Priority\": 1, \"Step\": [{\"NodeId\": \"ADMISION\", \"ArrivalTime\": 6964141.0, \"ServiceStartTime\": 6964141.0, \"DepartureTime\": 6964441.0}, {\"NodeId\": \"TRIAJE\", \"ArrivalTime\": 6964441.0, \"ServiceStartTime\": 6964441.0, \"DepartureTime\": 6965581.0}, {\"NodeId\": \"RX SOLICITUD\", \"ArrivalTime\": 6991961.0, \"ServiceStartTime\": 6991961.0, \"DepartureTime\": 6997141.0}, {\"NodeId\": \"RX EXPLORACION\", \"ArrivalTime\": 7001961.0, \"ServiceStartTime\": 7001961.0, \"DepartureTime\": 7016081.0}, {\"NodeId\": \"INTERCONSULTA\", \"ArrivalTime\": 7028961.0, \"ServiceStartTime\": 7028961.0, \"DepartureTime\": 7041001.0}, {\"NodeId\": \"RX INFORME\", \"ArrivalTime\": 7023601.0, \"ServiceStartTime\": 7023601.0, \"DepartureTime\": 7027531.0}, {\"NodeId\": \"RESPUESTA\", \"ArrivalTime\": 7046521.0, \"ServiceStartTime\": 7046521.0, \"DepartureTime\": 7047991.0}, {\"NodeId\": \"ALTA\", \"ArrivalTime\": 7070401.0, \"ServiceStartTime\": 7070401.0, \"DepartureTime\": 7070401.0}]}, {\"Priority\": 1, \"Step\": [{\"NodeId\": \"ADMISION\", \"ArrivalTime\": 7052641.0, \"ServiceStartTime\": 7052641.0, \"DepartureTime\": 7053301.0}, {\"NodeId\": \"TRIAJE\", \"ArrivalTime\": 7053301.0, \"ServiceStartTime\": 7053301.0, \"DepartureTime\": 7054801.0}, {\"NodeId\": \"RX SOLICITUD\", \"ArrivalTime\": 7067841.0, \"ServiceStartTime\": 7067841.0, \"DepartureTime\": 7071961.0}, {\"NodeId\": \"INTERCONSULTA\", \"ArrivalTime\": 7076881.0, \"ServiceStartTime\": 7076881.0, \"DepartureTime\": 7077481.0}, {\"NodeId\": \"RX EXPLORACION\", \"ArrivalTime\": 7069501.0, \"ServiceStartTime\": 7069501.0, \"DepartureTime\": 7079851.0}, {\"NodeId\": \"RX INFORME\", \"ArrivalTime\": 7088461.0, \"ServiceStartTime\": 7088461.0, \"DepartureTime\": 7093921.0}, {\"NodeId\": \"ALTA\", \"ArrivalTime\": 7093921.0, \"ServiceStartTime\": 7093921.0, \"DepartureTime\": 7093921.0}]}, {\"Priority\": 1, \"Step\": [{\"NodeId\": \"ADMISION\", \"ArrivalTime\": 7495591.0, \"ServiceStartTime\": 7495591.0, \"DepartureTime\": 7496341.0}, {\"NodeId\": \"TRIAJE\", \"ArrivalTime\": 7496341.0, \"ServiceStartTime\": 7496341.0, \"DepartureTime\": 7498321.0}, {\"NodeId\": \"RX SOLICITUD\", \"ArrivalTime\": 7498321.0, \"ServiceStartTime\": 7498321.0, \"DepartureTime\": 7509841.0}, {\"NodeId\": \"RX EXPLORACION\", \"ArrivalTime\": 7511056.0, \"ServiceStartTime\": 7511056.0, \"DepartureTime\": 7517086.0}, {\"NodeId\": \"RX INFORME\", \"ArrivalTime\": 7511941.0, \"ServiceStartTime\": 7511941.0, \"DepartureTime\": 7512271.0}, {\"NodeId\": \"INTERCONSULTA\", \"ArrivalTime\": 7539781.0, \"ServiceStartTime\": 7539781.0, \"DepartureTime\": 7561471.0}, {\"NodeId\": \"RESPUESTA\", \"ArrivalTime\": 7561471.0, \"ServiceStartTime\": 7561471.0, \"DepartureTime\": 7581601.0}, {\"NodeId\": \"ALTA\", \"ArrivalTime\": 7605871.0, \"ServiceStartTime\": 7605871.0, \"DepartureTime\": 7605871.0}]}, {\"Priority\": 1, \"Step\": [{\"NodeId\": \"ADMISION\", \"ArrivalTime\": 7498201.0, \"ServiceStartTime\": 7498201.0, \"DepartureTime\": 7499161.0}, {\"NodeId\": \"TRIAJE\", \"ArrivalTime\": 7499161.0, \"ServiceStartTime\": 7499161.0, \"DepartureTime\": 7505941.0}, {\"NodeId\": \"RX SOLICITUD\", \"ArrivalTime\": 7584391.0, \"ServiceStartTime\": 7584391.0, \"DepartureTime\": 7588951.0}, {\"NodeId\": \"RX EXPLORACION\", \"ArrivalTime\": 7588951.0, \"ServiceStartTime\": 7588951.0, \"DepartureTime\": 7658311.0}, {\"NodeId\": \"INTERCONSULTA\", \"ArrivalTime\": 7656041.0, \"ServiceStartTime\": 7656041.0, \"DepartureTime\": 7680541.0}, {\"NodeId\": \"RESPUESTA\", \"ArrivalTime\": 7700741.0, \"ServiceStartTime\": 7700741.0, \"DepartureTime\": 7717261.0}, {\"NodeId\": \"ALTA\", \"ArrivalTime\": 7776841.0, \"ServiceStartTime\": 7776841.0, \"DepartureTime\": 7776841.0}]}, {\"Priority\": 1, \"Step\": [{\"NodeId\": \"ADMISION\", \"ArrivalTime\": 7545541.0, \"ServiceStartTime\": 7545541.0, \"DepartureTime\": 7545961.0}, {\"NodeId\": \"TRIAJE\", \"ArrivalTime\": 7545961.0, \"ServiceStartTime\": 7545961.0, \"DepartureTime\": 7549681.0}, {\"NodeId\": \"RX SOLICITUD\", \"ArrivalTime\": 7596316.0, \"ServiceStartTime\": 7596316.0, \"DepartureTime\": 7602796.0}, {\"NodeId\": \"RX EXPLORACION\", \"ArrivalTime\": 7624036.0, \"ServiceStartTime\": 7624036.0, \"DepartureTime\": 7672576.0}, {\"NodeId\": \"RX INFORME\", \"ArrivalTime\": 7619321.0, \"ServiceStartTime\": 7619321.0, \"DepartureTime\": 7645741.0}, {\"NodeId\": \"ALTA\", \"ArrivalTime\": 7849021.0, \"ServiceStartTime\": 7849021.0, \"DepartureTime\": 7849021.0}]}, {\"Priority\": 1, \"Step\": [{\"NodeId\": \"ADMISION\", \"ArrivalTime\": 7902041.0, \"ServiceStartTime\": 7902041.0, \"DepartureTime\": 7902701.0}, {\"NodeId\": \"TRIAJE\", \"ArrivalTime\": 7902701.0, \"ServiceStartTime\": 7902701.0, \"DepartureTime\": 7908161.0}, {\"NodeId\": \"RX SOLICITUD\", \"ArrivalTime\": 7974187.666666667, \"ServiceStartTime\": 7974187.666666667, \"DepartureTime\": 7977614.333333333}, {\"NodeId\": \"RX EXPLORACION\", \"ArrivalTime\": 7977614.333333333, \"ServiceStartTime\": 7977614.333333333, \"DepartureTime\": 8006174.333333333}, {\"NodeId\": \"INTERCONSULTA\", \"ArrivalTime\": 8015261.0, \"ServiceStartTime\": 8015261.0, \"DepartureTime\": 8017621.0}, {\"NodeId\": \"RESPUESTA\", \"ArrivalTime\": 8017621.0, \"ServiceStartTime\": 8017621.0, \"DepartureTime\": 8030001.0}, {\"NodeId\": \"RX INFORME\", \"ArrivalTime\": 8017061.0, \"ServiceStartTime\": 8017061.0, \"DepartureTime\": 8034421.0}, {\"NodeId\": \"ALTA\", \"ArrivalTime\": 8053581.0, \"ServiceStartTime\": 8053581.0, \"DepartureTime\": 8053581.0}]}, {\"Priority\": 1, \"Step\": [{\"NodeId\": \"ADMISION\", \"ArrivalTime\": 8011501.0, \"ServiceStartTime\": 8011501.0, \"DepartureTime\": 8012581.0}, {\"NodeId\": \"TRIAJE\", \"ArrivalTime\": 8012581.0, \"ServiceStartTime\": 8012581.0, \"DepartureTime\": 8021041.0}, {\"NodeId\": \"RX SOLICITUD\", \"ArrivalTime\": 8089921.0, \"ServiceStartTime\": 8089921.0, \"DepartureTime\": 8091661.0}, {\"NodeId\": \"INTERCONSULTA\", \"ArrivalTime\": 8159881.0, \"ServiceStartTime\": 8159881.0, \"DepartureTime\": 8160121.0}, {\"NodeId\": \"RX EXPLORACION\", \"ArrivalTime\": 8096161.0, \"ServiceStartTime\": 8096161.0, \"DepartureTime\": 8164441.0}, {\"NodeId\": \"RESPUESTA\", \"ArrivalTime\": 8160121.0, \"ServiceStartTime\": 8160121.0, \"DepartureTime\": 8168881.0}, {\"NodeId\": \"RX INFORME\", \"ArrivalTime\": 8170081.0, \"ServiceStartTime\": 8170081.0, \"DepartureTime\": 8254381.0}, {\"NodeId\": \"ALTA\", \"ArrivalTime\": 8254381.0, \"ServiceStartTime\": 8254381.0, \"DepartureTime\": 8254381.0}]}, {\"Priority\": 1, \"Step\": [{\"NodeId\": \"ADMISION\", \"ArrivalTime\": 8223591.0, \"ServiceStartTime\": 8223591.0, \"DepartureTime\": 8224641.0}, {\"NodeId\": \"TRIAJE\", \"ArrivalTime\": 8224641.0, \"ServiceStartTime\": 8224641.0, \"DepartureTime\": 8226961.0}, {\"NodeId\": \"RX SOLICITUD\", \"ArrivalTime\": 8248971.0, \"ServiceStartTime\": 8248971.0, \"DepartureTime\": 8253241.0}, {\"NodeId\": \"RX EXPLORACION\", \"ArrivalTime\": 8253741.0, \"ServiceStartTime\": 8253741.0, \"DepartureTime\": 8273251.0}, {\"NodeId\": \"RX INFORME\", \"ArrivalTime\": 8252241.0, \"ServiceStartTime\": 8252241.0, \"DepartureTime\": 8273511.0}, {\"NodeId\": \"ALTA\", \"ArrivalTime\": 8300061.0, \"ServiceStartTime\": 8300061.0, \"DepartureTime\": 8300061.0}]}, {\"Priority\": 1, \"Step\": [{\"NodeId\": \"ADMISION\", \"ArrivalTime\": 8199541.0, \"ServiceStartTime\": 8199541.0, \"DepartureTime\": 8200501.0}, {\"NodeId\": \"TRIAJE\", \"ArrivalTime\": 8200501.0, \"ServiceStartTime\": 8200501.0, \"DepartureTime\": 8209141.0}, {\"NodeId\": \"RX SOLICITUD\", \"ArrivalTime\": 8223061.0, \"ServiceStartTime\": 8223061.0, \"DepartureTime\": 8225317.0}, {\"NodeId\": \"RX EXPLORACION\", \"ArrivalTime\": 8225317.0, \"ServiceStartTime\": 8225317.0, \"DepartureTime\": 8228821.0}, {\"NodeId\": \"RX INFORME\", \"ArrivalTime\": 8227591.0, \"ServiceStartTime\": 8227591.0, \"DepartureTime\": 8230711.0}, {\"NodeId\": \"ALTA\", \"ArrivalTime\": 8244181.0, \"ServiceStartTime\": 8244181.0, \"DepartureTime\": 8244181.0}]}, {\"Priority\": 1, \"Step\": [{\"NodeId\": \"ADMISION\", \"ArrivalTime\": 8209621.0, \"ServiceStartTime\": 8209621.0, \"DepartureTime\": 8210161.0}, {\"NodeId\": \"TRIAJE\", \"ArrivalTime\": 8210161.0, \"ServiceStartTime\": 8210161.0, \"DepartureTime\": 8213701.0}, {\"NodeId\": \"RX EXPLORACION\", \"ArrivalTime\": 8220181.0, \"ServiceStartTime\": 8220181.0, \"DepartureTime\": 8225281.0}, {\"NodeId\": \"RX SOLICITUD\", \"ArrivalTime\": 8219491.0, \"ServiceStartTime\": 8219491.0, \"DepartureTime\": 8229301.0}, {\"NodeId\": \"INTERCONSULTA\", \"ArrivalTime\": 8243101.0, \"ServiceStartTime\": 8243101.0, \"DepartureTime\": 8252671.0}, {\"NodeId\": \"RESPUESTA\", \"ArrivalTime\": 8252671.0, \"ServiceStartTime\": 8252671.0, \"DepartureTime\": 8260291.0}, {\"NodeId\": \"ALTA\", \"ArrivalTime\": 8272801.0, \"ServiceStartTime\": 8272801.0, \"DepartureTime\": 8272801.0}]}, {\"Priority\": 1, \"Step\": [{\"NodeId\": \"ADMISION\", \"ArrivalTime\": 8257201.0, \"ServiceStartTime\": 8257201.0, \"DepartureTime\": 8258041.0}, {\"NodeId\": \"TRIAJE\", \"ArrivalTime\": 8258041.0, \"ServiceStartTime\": 8258041.0, \"DepartureTime\": 8262121.0}, {\"NodeId\": \"RX SOLICITUD\", \"ArrivalTime\": 8310961.0, \"ServiceStartTime\": 8310961.0, \"DepartureTime\": 8317681.0}, {\"NodeId\": \"RX EXPLORACION\", \"ArrivalTime\": 8320861.0, \"ServiceStartTime\": 8320861.0, \"DepartureTime\": 8326301.0}, {\"NodeId\": \"RX INFORME\", \"ArrivalTime\": 8327121.0, \"ServiceStartTime\": 8327121.0, \"DepartureTime\": 8375441.0}, {\"NodeId\": \"ALTA\", \"ArrivalTime\": 8443561.0, \"ServiceStartTime\": 8443561.0, \"DepartureTime\": 8443561.0}]}, {\"Priority\": 1, \"Step\": [{\"NodeId\": \"ADMISION\", \"ArrivalTime\": 8464276.0, \"ServiceStartTime\": 8464276.0, \"DepartureTime\": 8464936.0}, {\"NodeId\": \"TRIAJE\", \"ArrivalTime\": 8464936.0, \"ServiceStartTime\": 8464936.0, \"DepartureTime\": 8474206.0}, {\"NodeId\": \"RX SOLICITUD\", \"ArrivalTime\": 8474206.0, \"ServiceStartTime\": 8474206.0, \"DepartureTime\": 8476411.0}, {\"NodeId\": \"INTERCONSULTA\", \"ArrivalTime\": 8476411.0, \"ServiceStartTime\": 8476411.0, \"DepartureTime\": 8479126.0}, {\"NodeId\": \"RESPUESTA\", \"ArrivalTime\": 8479126.0, \"ServiceStartTime\": 8479126.0, \"DepartureTime\": 8483746.0}, {\"NodeId\": \"RX EXPLORACION\", \"ArrivalTime\": 8483746.0, \"ServiceStartTime\": 8483746.0, \"DepartureTime\": 8542231.0}, {\"NodeId\": \"ALTA\", \"ArrivalTime\": 8542231.0, \"ServiceStartTime\": 8542231.0, \"DepartureTime\": 8542231.0}]}, {\"Priority\": 1, \"Step\": [{\"NodeId\": \"ADMISION\", \"ArrivalTime\": 8599321.0, \"ServiceStartTime\": 8599321.0, \"DepartureTime\": 8599741.0}, {\"NodeId\": \"TRIAJE\", \"ArrivalTime\": 8599741.0, \"ServiceStartTime\": 8599741.0, \"DepartureTime\": 8600701.0}, {\"NodeId\": \"RX EXPLORACION\", \"ArrivalTime\": 8602561.0, \"ServiceStartTime\": 8602561.0, \"DepartureTime\": 8603461.0}, {\"NodeId\": \"RX SOLICITUD\", \"ArrivalTime\": 8602711.0, \"ServiceStartTime\": 8602711.0, \"DepartureTime\": 8604391.0}, {\"NodeId\": \"RX INFORME\", \"ArrivalTime\": 8603461.0, \"ServiceStartTime\": 8603461.0, \"DepartureTime\": 8604721.0}, {\"NodeId\": \"INTERCONSULTA\", \"ArrivalTime\": 8606221.0, \"ServiceStartTime\": 8606221.0, \"DepartureTime\": 8679781.0}, {\"NodeId\": \"RESPUESTA\", \"ArrivalTime\": 8679781.0, \"ServiceStartTime\": 8679781.0, \"DepartureTime\": 8697541.0}, {\"NodeId\": \"ALTA\", \"ArrivalTime\": 8697541.0, \"ServiceStartTime\": 8697541.0, \"DepartureTime\": 8697541.0}]}, {\"Priority\": 1, \"Step\": [{\"NodeId\": \"ADMISION\", \"ArrivalTime\": 8834741.0, \"ServiceStartTime\": 8834741.0, \"DepartureTime\": 8835661.0}, {\"NodeId\": \"TRIAJE\", \"ArrivalTime\": 8835661.0, \"ServiceStartTime\": 8835661.0, \"DepartureTime\": 8844681.0}, {\"NodeId\": \"RX SOLICITUD\", \"ArrivalTime\": 8898831.0, \"ServiceStartTime\": 8898831.0, \"DepartureTime\": 8902366.0}, {\"NodeId\": \"RX EXPLORACION\", \"ArrivalTime\": 8897827.666666666, \"ServiceStartTime\": 8897827.666666666, \"DepartureTime\": 8920674.333333334}, {\"NodeId\": \"RX INFORME\", \"ArrivalTime\": 8931501.0, \"ServiceStartTime\": 8931501.0, \"DepartureTime\": 8947841.0}, {\"NodeId\": \"ALTA\", \"ArrivalTime\": 8960041.0, \"ServiceStartTime\": 8960041.0, \"DepartureTime\": 8960041.0}]}, {\"Priority\": 1, \"Step\": [{\"NodeId\": \"ADMISION\", \"ArrivalTime\": 8970061.0, \"ServiceStartTime\": 8970061.0, \"DepartureTime\": 8970961.0}, {\"NodeId\": \"TRIAJE\", \"ArrivalTime\": 8970961.0, \"ServiceStartTime\": 8970961.0, \"DepartureTime\": 8972941.0}, {\"NodeId\": \"INTERCONSULTA\", \"ArrivalTime\": 8974261.0, \"ServiceStartTime\": 8974261.0, \"DepartureTime\": 8976061.0}, {\"NodeId\": \"RX SOLICITUD\", \"ArrivalTime\": 8977321.0, \"ServiceStartTime\": 8977321.0, \"DepartureTime\": 8981911.0}, {\"NodeId\": \"RX EXPLORACION\", \"ArrivalTime\": 8976061.0, \"ServiceStartTime\": 8976061.0, \"DepartureTime\": 8981701.0}, {\"NodeId\": \"RESPUESTA\", \"ArrivalTime\": 8989561.0, \"ServiceStartTime\": 8989561.0, \"DepartureTime\": 8998921.0}, {\"NodeId\": \"ALTA\", \"ArrivalTime\": 8998921.0, \"ServiceStartTime\": 8998921.0, \"DepartureTime\": 8998921.0}]}, {\"Priority\": 1, \"Step\": [{\"NodeId\": \"ADMISION\", \"ArrivalTime\": 9012211.0, \"ServiceStartTime\": 9012211.0, \"DepartureTime\": 9012871.0}, {\"NodeId\": \"TRIAJE\", \"ArrivalTime\": 9012871.0, \"ServiceStartTime\": 9012871.0, \"DepartureTime\": 9016371.0}, {\"NodeId\": \"RX SOLICITUD\", \"ArrivalTime\": 9021556.0, \"ServiceStartTime\": 9021556.0, \"DepartureTime\": 9027026.0}, {\"NodeId\": \"RX EXPLORACION\", \"ArrivalTime\": 9028056.0, \"ServiceStartTime\": 9028056.0, \"DepartureTime\": 9044591.0}, {\"NodeId\": \"RX INFORME\", \"ArrivalTime\": 9034501.0, \"ServiceStartTime\": 9034501.0, \"DepartureTime\": 9036561.0}, {\"NodeId\": \"INTERCONSULTA\", \"ArrivalTime\": 9062441.0, \"ServiceStartTime\": 9062441.0, \"DepartureTime\": 9072951.0}, {\"NodeId\": \"RESPUESTA\", \"ArrivalTime\": 9072951.0, \"ServiceStartTime\": 9072951.0, \"DepartureTime\": 9094141.0}, {\"NodeId\": \"ALTA\", \"ArrivalTime\": 9094141.0, \"ServiceStartTime\": 9094141.0, \"DepartureTime\": 9094141.0}]}, {\"Priority\": 1, \"Step\": [{\"NodeId\": \"ADMISION\", \"ArrivalTime\": 9111991.0, \"ServiceStartTime\": 9111991.0, \"DepartureTime\": 9112501.0}, {\"NodeId\": \"TRIAJE\", \"ArrivalTime\": 9112501.0, \"ServiceStartTime\": 9112501.0, \"DepartureTime\": 9115561.0}, {\"NodeId\": \"RX SOLICITUD\", \"ArrivalTime\": 9157015.0, \"ServiceStartTime\": 9157015.0, \"DepartureTime\": 9158617.0}, {\"NodeId\": \"RX EXPLORACION\", \"ArrivalTime\": 9158617.0, \"ServiceStartTime\": 9158617.0, \"DepartureTime\": 9176653.0}, {\"NodeId\": \"ALTA\", \"ArrivalTime\": 9213751.0, \"ServiceStartTime\": 9213751.0, \"DepartureTime\": 9213751.0}]}, {\"Priority\": 1, \"Step\": [{\"NodeId\": \"ADMISION\", \"ArrivalTime\": 9209581.0, \"ServiceStartTime\": 9209581.0, \"DepartureTime\": 9210241.0}, {\"NodeId\": \"TRIAJE\", \"ArrivalTime\": 9210241.0, \"ServiceStartTime\": 9210241.0, \"DepartureTime\": 9212041.0}, {\"NodeId\": \"RX EXPLORACION\", \"ArrivalTime\": 9216781.0, \"ServiceStartTime\": 9216781.0, \"DepartureTime\": 9223681.0}, {\"NodeId\": \"RX SOLICITUD\", \"ArrivalTime\": 9224521.0, \"ServiceStartTime\": 9224521.0, \"DepartureTime\": 9231841.0}, {\"NodeId\": \"RX INFORME\", \"ArrivalTime\": 9235291.0, \"ServiceStartTime\": 9235291.0, \"DepartureTime\": 9260341.0}, {\"NodeId\": \"ALTA\", \"ArrivalTime\": 9283681.0, \"ServiceStartTime\": 9283681.0, \"DepartureTime\": 9283681.0}]}, {\"Priority\": 1, \"Step\": [{\"NodeId\": \"ADMISION\", \"ArrivalTime\": 9334171.0, \"ServiceStartTime\": 9334171.0, \"DepartureTime\": 9334901.0}, {\"NodeId\": \"TRIAJE\", \"ArrivalTime\": 9334901.0, \"ServiceStartTime\": 9334901.0, \"DepartureTime\": 9336941.0}, {\"NodeId\": \"RX SOLICITUD\", \"ArrivalTime\": 9357131.0, \"ServiceStartTime\": 9357131.0, \"DepartureTime\": 9359251.0}, {\"NodeId\": \"RX EXPLORACION\", \"ArrivalTime\": 9359251.0, \"ServiceStartTime\": 9359251.0, \"DepartureTime\": 9382426.0}, {\"NodeId\": \"INTERCONSULTA\", \"ArrivalTime\": 9387531.0, \"ServiceStartTime\": 9387531.0, \"DepartureTime\": 9439281.0}, {\"NodeId\": \"ALTA\", \"ArrivalTime\": 9439281.0, \"ServiceStartTime\": 9439281.0, \"DepartureTime\": 9439281.0}]}, {\"Priority\": 1, \"Step\": [{\"NodeId\": \"ADMISION\", \"ArrivalTime\": 9297541.0, \"ServiceStartTime\": 9297541.0, \"DepartureTime\": 9298021.0}, {\"NodeId\": \"TRIAJE\", \"ArrivalTime\": 9298021.0, \"ServiceStartTime\": 9298021.0, \"DepartureTime\": 9315421.0}, {\"NodeId\": \"RX SOLICITUD\", \"ArrivalTime\": 9315421.0, \"ServiceStartTime\": 9315421.0, \"DepartureTime\": 9315481.0}, {\"NodeId\": \"RX EXPLORACION\", \"ArrivalTime\": 9319141.0, \"ServiceStartTime\": 9319141.0, \"DepartureTime\": 9324181.0}, {\"NodeId\": \"INTERCONSULTA\", \"ArrivalTime\": 9343471.0, \"ServiceStartTime\": 9343471.0, \"DepartureTime\": 9347041.0}, {\"NodeId\": \"RX INFORME\", \"ArrivalTime\": 9324181.0, \"ServiceStartTime\": 9324181.0, \"DepartureTime\": 9371461.0}, {\"NodeId\": \"RESPUESTA\", \"ArrivalTime\": 9374941.0, \"ServiceStartTime\": 9374941.0, \"DepartureTime\": 9397621.0}, {\"NodeId\": \"ALTA\", \"ArrivalTime\": 9397621.0, \"ServiceStartTime\": 9397621.0, \"DepartureTime\": 9397621.0}]}, {\"Priority\": 1, \"Step\": [{\"NodeId\": \"ADMISION\", \"ArrivalTime\": 9308461.0, \"ServiceStartTime\": 9308461.0, \"DepartureTime\": 9309061.0}, {\"NodeId\": \"TRIAJE\", \"ArrivalTime\": 9309061.0, \"ServiceStartTime\": 9309061.0, \"DepartureTime\": 9318601.0}, {\"NodeId\": \"RX SOLICITUD\", \"ArrivalTime\": 9328546.0, \"ServiceStartTime\": 9328546.0, \"DepartureTime\": 9331621.0}, {\"NodeId\": \"RX EXPLORACION\", \"ArrivalTime\": 9331621.0, \"ServiceStartTime\": 9331621.0, \"DepartureTime\": 9336241.0}, {\"NodeId\": \"INTERCONSULTA\", \"ArrivalTime\": 9349381.0, \"ServiceStartTime\": 9349381.0, \"DepartureTime\": 9365101.0}, {\"NodeId\": \"RESPUESTA\", \"ArrivalTime\": 9365101.0, \"ServiceStartTime\": 9365101.0, \"DepartureTime\": 9380041.0}, {\"NodeId\": \"ALTA\", \"ArrivalTime\": 9380041.0, \"ServiceStartTime\": 9380041.0, \"DepartureTime\": 9380041.0}]}, {\"Priority\": 1, \"Step\": [{\"NodeId\": \"ADMISION\", \"ArrivalTime\": 9396261.0, \"ServiceStartTime\": 9396261.0, \"DepartureTime\": 9397841.0}, {\"NodeId\": \"TRIAJE\", \"ArrivalTime\": 9397841.0, \"ServiceStartTime\": 9397841.0, \"DepartureTime\": 9408021.0}, {\"NodeId\": \"INTERCONSULTA\", \"ArrivalTime\": 9408021.0, \"ServiceStartTime\": 9408021.0, \"DepartureTime\": 9418581.0}, {\"NodeId\": \"RX SOLICITUD\", \"ArrivalTime\": 9418581.0, \"ServiceStartTime\": 9418581.0, \"DepartureTime\": 9444141.0}, {\"NodeId\": \"ALTA\", \"ArrivalTime\": 9444141.0, \"ServiceStartTime\": 9444141.0, \"DepartureTime\": 9444141.0}]}, {\"Priority\": 1, \"Step\": [{\"NodeId\": \"ADMISION\", \"ArrivalTime\": 9396261.0, \"ServiceStartTime\": 9396261.0, \"DepartureTime\": 9397841.0}, {\"NodeId\": \"TRIAJE\", \"ArrivalTime\": 9397841.0, \"ServiceStartTime\": 9397841.0, \"DepartureTime\": 9408021.0}, {\"NodeId\": \"INTERCONSULTA\", \"ArrivalTime\": 9408021.0, \"ServiceStartTime\": 9408021.0, \"DepartureTime\": 9418581.0}, {\"NodeId\": \"RX SOLICITUD\", \"ArrivalTime\": 9418581.0, \"ServiceStartTime\": 9418581.0, \"DepartureTime\": 9444141.0}, {\"NodeId\": \"ALTA\", \"ArrivalTime\": 9444141.0, \"ServiceStartTime\": 9444141.0, \"DepartureTime\": 9444141.0}]}, {\"Priority\": 1, \"Step\": [{\"NodeId\": \"ADMISION\", \"ArrivalTime\": 9396261.0, \"ServiceStartTime\": 9396261.0, \"DepartureTime\": 9397841.0}, {\"NodeId\": \"TRIAJE\", \"ArrivalTime\": 9397841.0, \"ServiceStartTime\": 9397841.0, \"DepartureTime\": 9408021.0}, {\"NodeId\": \"INTERCONSULTA\", \"ArrivalTime\": 9408021.0, \"ServiceStartTime\": 9408021.0, \"DepartureTime\": 9418581.0}, {\"NodeId\": \"RX SOLICITUD\", \"ArrivalTime\": 9418581.0, \"ServiceStartTime\": 9418581.0, \"DepartureTime\": 9444141.0}, {\"NodeId\": \"ALTA\", \"ArrivalTime\": 9444141.0, \"ServiceStartTime\": 9444141.0, \"DepartureTime\": 9444141.0}]}, {\"Priority\": 1, \"Step\": [{\"NodeId\": \"ADMISION\", \"ArrivalTime\": 9396261.0, \"ServiceStartTime\": 9396261.0, \"DepartureTime\": 9397841.0}, {\"NodeId\": \"TRIAJE\", \"ArrivalTime\": 9397841.0, \"ServiceStartTime\": 9397841.0, \"DepartureTime\": 9408021.0}, {\"NodeId\": \"INTERCONSULTA\", \"ArrivalTime\": 9408021.0, \"ServiceStartTime\": 9408021.0, \"DepartureTime\": 9418581.0}, {\"NodeId\": \"RX SOLICITUD\", \"ArrivalTime\": 9418581.0, \"ServiceStartTime\": 9418581.0, \"DepartureTime\": 9444141.0}, {\"NodeId\": \"ALTA\", \"ArrivalTime\": 9444141.0, \"ServiceStartTime\": 9444141.0, \"DepartureTime\": 9444141.0}]}, {\"Priority\": 1, \"Step\": [{\"NodeId\": \"ADMISION\", \"ArrivalTime\": 9396261.0, \"ServiceStartTime\": 9396261.0, \"DepartureTime\": 9397841.0}, {\"NodeId\": \"TRIAJE\", \"ArrivalTime\": 9397841.0, \"ServiceStartTime\": 9397841.0, \"DepartureTime\": 9408021.0}, {\"NodeId\": \"INTERCONSULTA\", \"ArrivalTime\": 9408021.0, \"ServiceStartTime\": 9408021.0, \"DepartureTime\": 9418581.0}, {\"NodeId\": \"RX SOLICITUD\", \"ArrivalTime\": 9418581.0, \"ServiceStartTime\": 9418581.0, \"DepartureTime\": 9444141.0}, {\"NodeId\": \"ALTA\", \"ArrivalTime\": 9444141.0, \"ServiceStartTime\": 9444141.0, \"DepartureTime\": 9444141.0}]}, {\"Priority\": 1, \"Step\": [{\"NodeId\": \"ADMISION\", \"ArrivalTime\": 9396261.0, \"ServiceStartTime\": 9396261.0, \"DepartureTime\": 9397841.0}, {\"NodeId\": \"TRIAJE\", \"ArrivalTime\": 9397841.0, \"ServiceStartTime\": 9397841.0, \"DepartureTime\": 9408021.0}, {\"NodeId\": \"INTERCONSULTA\", \"ArrivalTime\": 9408021.0, \"ServiceStartTime\": 9408021.0, \"DepartureTime\": 9418581.0}, {\"NodeId\": \"RX SOLICITUD\", \"ArrivalTime\": 9418581.0, \"ServiceStartTime\": 9418581.0, \"DepartureTime\": 9444141.0}, {\"NodeId\": \"ALTA\", \"ArrivalTime\": 9444141.0, \"ServiceStartTime\": 9444141.0, \"DepartureTime\": 9444141.0}]}, {\"Priority\": 1, \"Step\": [{\"NodeId\": \"ADMISION\", \"ArrivalTime\": 9396261.0, \"ServiceStartTime\": 9396261.0, \"DepartureTime\": 9397841.0}, {\"NodeId\": \"TRIAJE\", \"ArrivalTime\": 9397841.0, \"ServiceStartTime\": 9397841.0, \"DepartureTime\": 9408021.0}, {\"NodeId\": \"INTERCONSULTA\", \"ArrivalTime\": 9408021.0, \"ServiceStartTime\": 9408021.0, \"DepartureTime\": 9418581.0}, {\"NodeId\": \"RX SOLICITUD\", \"ArrivalTime\": 9418581.0, \"ServiceStartTime\": 9418581.0, \"DepartureTime\": 9444141.0}, {\"NodeId\": \"ALTA\", \"ArrivalTime\": 9444141.0, \"ServiceStartTime\": 9444141.0, \"DepartureTime\": 9444141.0}]}, {\"Priority\": 1, \"Step\": [{\"NodeId\": \"ADMISION\", \"ArrivalTime\": 9396261.0, \"ServiceStartTime\": 9396261.0, \"DepartureTime\": 9397841.0}, {\"NodeId\": \"TRIAJE\", \"ArrivalTime\": 9397841.0, \"ServiceStartTime\": 9397841.0, \"DepartureTime\": 9408021.0}, {\"NodeId\": \"INTERCONSULTA\", \"ArrivalTime\": 9408021.0, \"ServiceStartTime\": 9408021.0, \"DepartureTime\": 9418581.0}, {\"NodeId\": \"RX SOLICITUD\", \"ArrivalTime\": 9418581.0, \"ServiceStartTime\": 9418581.0, \"DepartureTime\": 9444141.0}, {\"NodeId\": \"ALTA\", \"ArrivalTime\": 9444141.0, \"ServiceStartTime\": 9444141.0, \"DepartureTime\": 9444141.0}]}, {\"Priority\": 1, \"Step\": [{\"NodeId\": \"ADMISION\", \"ArrivalTime\": 9396261.0, \"ServiceStartTime\": 9396261.0, \"DepartureTime\": 9397841.0}, {\"NodeId\": \"TRIAJE\", \"ArrivalTime\": 9397841.0, \"ServiceStartTime\": 9397841.0, \"DepartureTime\": 9408021.0}, {\"NodeId\": \"INTERCONSULTA\", \"ArrivalTime\": 9408021.0, \"ServiceStartTime\": 9408021.0, \"DepartureTime\": 9418581.0}, {\"NodeId\": \"RX SOLICITUD\", \"ArrivalTime\": 9418581.0, \"ServiceStartTime\": 9418581.0, \"DepartureTime\": 9444141.0}, {\"NodeId\": \"ALTA\", \"ArrivalTime\": 9444141.0, \"ServiceStartTime\": 9444141.0, \"DepartureTime\": 9444141.0}]}, {\"Priority\": 1, \"Step\": [{\"NodeId\": \"ADMISION\", \"ArrivalTime\": 9396261.0, \"ServiceStartTime\": 9396261.0, \"DepartureTime\": 9397841.0}, {\"NodeId\": \"TRIAJE\", \"ArrivalTime\": 9397841.0, \"ServiceStartTime\": 9397841.0, \"DepartureTime\": 9408021.0}, {\"NodeId\": \"INTERCONSULTA\", \"ArrivalTime\": 9408021.0, \"ServiceStartTime\": 9408021.0, \"DepartureTime\": 9418581.0}, {\"NodeId\": \"RX SOLICITUD\", \"ArrivalTime\": 9418581.0, \"ServiceStartTime\": 9418581.0, \"DepartureTime\": 9444141.0}, {\"NodeId\": \"ALTA\", \"ArrivalTime\": 9444141.0, \"ServiceStartTime\": 9444141.0, \"DepartureTime\": 9444141.0}]}, {\"Priority\": 1, \"Step\": [{\"NodeId\": \"ADMISION\", \"ArrivalTime\": 9516136.0, \"ServiceStartTime\": 9516136.0, \"DepartureTime\": 9516916.0}, {\"NodeId\": \"TRIAJE\", \"ArrivalTime\": 9516916.0, \"ServiceStartTime\": 9516916.0, \"DepartureTime\": 9521221.0}, {\"NodeId\": \"RX SOLICITUD\", \"ArrivalTime\": 9572569.75, \"ServiceStartTime\": 9572569.75, \"DepartureTime\": 9577017.25}, {\"NodeId\": \"RX EXPLORACION\", \"ArrivalTime\": 9577017.25, \"ServiceStartTime\": 9577017.25, \"DepartureTime\": 9586876.0}, {\"NodeId\": \"RX INFORME\", \"ArrivalTime\": 9586271.0, \"ServiceStartTime\": 9586271.0, \"DepartureTime\": 9613161.0}, {\"NodeId\": \"ALTA\", \"ArrivalTime\": 9659116.0, \"ServiceStartTime\": 9659116.0, \"DepartureTime\": 9659116.0}]}, {\"Priority\": 1, \"Step\": [{\"NodeId\": \"ADMISION\", \"ArrivalTime\": 9508741.0, \"ServiceStartTime\": 9508741.0, \"DepartureTime\": 9508981.0}, {\"NodeId\": \"TRIAJE\", \"ArrivalTime\": 9508981.0, \"ServiceStartTime\": 9508981.0, \"DepartureTime\": 9512521.0}, {\"NodeId\": \"RX SOLICITUD\", \"ArrivalTime\": 9544211.0, \"ServiceStartTime\": 9544211.0, \"DepartureTime\": 9547751.0}, {\"NodeId\": \"RX EXPLORACION\", \"ArrivalTime\": 9547751.0, \"ServiceStartTime\": 9547751.0, \"DepartureTime\": 9569681.0}, {\"NodeId\": \"RX INFORME\", \"ArrivalTime\": 9543661.0, \"ServiceStartTime\": 9543661.0, \"DepartureTime\": 9577891.0}, {\"NodeId\": \"ALTA\", \"ArrivalTime\": 9733801.0, \"ServiceStartTime\": 9733801.0, \"DepartureTime\": 9733801.0}]}, {\"Priority\": 1, \"Step\": [{\"NodeId\": \"ADMISION\", \"ArrivalTime\": 9549961.0, \"ServiceStartTime\": 9549961.0, \"DepartureTime\": 9550561.0}, {\"NodeId\": \"TRIAJE\", \"ArrivalTime\": 9550561.0, \"ServiceStartTime\": 9550561.0, \"DepartureTime\": 9554041.0}, {\"NodeId\": \"RX SOLICITUD\", \"ArrivalTime\": 9631396.0, \"ServiceStartTime\": 9631396.0, \"DepartureTime\": 9637801.0}, {\"NodeId\": \"RX INFORME\", \"ArrivalTime\": 9622351.0, \"ServiceStartTime\": 9622351.0, \"DepartureTime\": 9703231.0}, {\"NodeId\": \"RX EXPLORACION\", \"ArrivalTime\": 9657201.0, \"ServiceStartTime\": 9657201.0, \"DepartureTime\": 9666541.0}, {\"NodeId\": \"ALTA\", \"ArrivalTime\": 9769441.0, \"ServiceStartTime\": 9769441.0, \"DepartureTime\": 9769441.0}]}, {\"Priority\": 1, \"Step\": [{\"NodeId\": \"ADMISION\", \"ArrivalTime\": 9637831.0, \"ServiceStartTime\": 9637831.0, \"DepartureTime\": 9638821.0}, {\"NodeId\": \"TRIAJE\", \"ArrivalTime\": 9638821.0, \"ServiceStartTime\": 9638821.0, \"DepartureTime\": 9641071.0}, {\"NodeId\": \"RX SOLICITUD\", \"ArrivalTime\": 9720256.0, \"ServiceStartTime\": 9720256.0, \"DepartureTime\": 9723526.0}, {\"NodeId\": \"RX EXPLORACION\", \"ArrivalTime\": 9723526.0, \"ServiceStartTime\": 9723526.0, \"DepartureTime\": 9736883.5}, {\"NodeId\": \"RX INFORME\", \"ArrivalTime\": 9719061.0, \"ServiceStartTime\": 9719061.0, \"DepartureTime\": 9759691.0}, {\"NodeId\": \"ALTA\", \"ArrivalTime\": 9829471.0, \"ServiceStartTime\": 9829471.0, \"DepartureTime\": 9829471.0}]}, {\"Priority\": 1, \"Step\": [{\"NodeId\": \"ADMISION\", \"ArrivalTime\": 9795241.0, \"ServiceStartTime\": 9795241.0, \"DepartureTime\": 9796321.0}, {\"NodeId\": \"TRIAJE\", \"ArrivalTime\": 9796321.0, \"ServiceStartTime\": 9796321.0, \"DepartureTime\": 9801001.0}, {\"NodeId\": \"RX SOLICITUD\", \"ArrivalTime\": 9842401.0, \"ServiceStartTime\": 9842401.0, \"DepartureTime\": 9845431.0}, {\"NodeId\": \"RX EXPLORACION\", \"ArrivalTime\": 9845431.0, \"ServiceStartTime\": 9845431.0, \"DepartureTime\": 9846961.0}, {\"NodeId\": \"RX INFORME\", \"ArrivalTime\": 9849841.0, \"ServiceStartTime\": 9849841.0, \"DepartureTime\": 9911281.0}, {\"NodeId\": \"INTERCONSULTA\", \"ArrivalTime\": 9889681.0, \"ServiceStartTime\": 9889681.0, \"DepartureTime\": 9891361.0}, {\"NodeId\": \"RESPUESTA\", \"ArrivalTime\": 9891361.0, \"ServiceStartTime\": 9891361.0, \"DepartureTime\": 9895441.0}, {\"NodeId\": \"ALTA\", \"ArrivalTime\": 9938761.0, \"ServiceStartTime\": 9938761.0, \"DepartureTime\": 9938761.0}]}, {\"Priority\": 1, \"Step\": [{\"NodeId\": \"ADMISION\", \"ArrivalTime\": 9912541.0, \"ServiceStartTime\": 9912541.0, \"DepartureTime\": 9914161.0}, {\"NodeId\": \"TRIAJE\", \"ArrivalTime\": 9914161.0, \"ServiceStartTime\": 9914161.0, \"DepartureTime\": 9915781.0}, {\"NodeId\": \"RX SOLICITUD\", \"ArrivalTime\": 9937541.0, \"ServiceStartTime\": 9937541.0, \"DepartureTime\": 9941041.0}, {\"NodeId\": \"RX EXPLORACION\", \"ArrivalTime\": 9941301.0, \"ServiceStartTime\": 9941301.0, \"DepartureTime\": 9948201.0}, {\"NodeId\": \"RX INFORME\", \"ArrivalTime\": 9929731.0, \"ServiceStartTime\": 9929731.0, \"DepartureTime\": 9951181.0}, {\"NodeId\": \"ALTA\", \"ArrivalTime\": 9989881.0, \"ServiceStartTime\": 9989881.0, \"DepartureTime\": 9989881.0}]}, {\"Priority\": 1, \"Step\": [{\"NodeId\": \"ADMISION\", \"ArrivalTime\": 10054261.0, \"ServiceStartTime\": 10054261.0, \"DepartureTime\": 10054591.0}, {\"NodeId\": \"TRIAJE\", \"ArrivalTime\": 10054591.0, \"ServiceStartTime\": 10054591.0, \"DepartureTime\": 10056061.0}, {\"NodeId\": \"RX EXPLORACION\", \"ArrivalTime\": 10072881.0, \"ServiceStartTime\": 10072881.0, \"DepartureTime\": 10078911.0}, {\"NodeId\": \"RX SOLICITUD\", \"ArrivalTime\": 10073198.5, \"ServiceStartTime\": 10073198.5, \"DepartureTime\": 10077818.5}, {\"NodeId\": \"ALTA\", \"ArrivalTime\": 10092631.0, \"ServiceStartTime\": 10092631.0, \"DepartureTime\": 10092631.0}]}, {\"Priority\": 1, \"Step\": [{\"NodeId\": \"ADMISION\", \"ArrivalTime\": 10212361.0, \"ServiceStartTime\": 10212361.0, \"DepartureTime\": 10212661.0}, {\"NodeId\": \"TRIAJE\", \"ArrivalTime\": 10212661.0, \"ServiceStartTime\": 10212661.0, \"DepartureTime\": 10213621.0}, {\"NodeId\": \"RX SOLICITUD\", \"ArrivalTime\": 10231821.0, \"ServiceStartTime\": 10231821.0, \"DepartureTime\": 10235761.0}, {\"NodeId\": \"INTERCONSULTA\", \"ArrivalTime\": 10230541.0, \"ServiceStartTime\": 10230541.0, \"DepartureTime\": 10240261.0}, {\"NodeId\": \"RX EXPLORACION\", \"ArrivalTime\": 10239001.0, \"ServiceStartTime\": 10239001.0, \"DepartureTime\": 10248141.0}, {\"NodeId\": \"RX INFORME\", \"ArrivalTime\": 10262581.0, \"ServiceStartTime\": 10262581.0, \"DepartureTime\": 10266061.0}, {\"NodeId\": \"ALTA\", \"ArrivalTime\": 10266061.0, \"ServiceStartTime\": 10266061.0, \"DepartureTime\": 10266061.0}]}, {\"Priority\": 1, \"Step\": [{\"NodeId\": \"ADMISION\", \"ArrivalTime\": 10297531.0, \"ServiceStartTime\": 10297531.0, \"DepartureTime\": 10298791.0}, {\"NodeId\": \"TRIAJE\", \"ArrivalTime\": 10298791.0, \"ServiceStartTime\": 10298791.0, \"DepartureTime\": 10302811.0}, {\"NodeId\": \"RX SOLICITUD\", \"ArrivalTime\": 10320261.0, \"ServiceStartTime\": 10320261.0, \"DepartureTime\": 10324361.0}, {\"NodeId\": \"RX EXPLORACION\", \"ArrivalTime\": 10325561.0, \"ServiceStartTime\": 10325561.0, \"DepartureTime\": 10369011.0}, {\"NodeId\": \"RX INFORME\", \"ArrivalTime\": 10323271.0, \"ServiceStartTime\": 10323271.0, \"DepartureTime\": 10331611.0}, {\"NodeId\": \"INTERCONSULTA\", \"ArrivalTime\": 10331611.0, \"ServiceStartTime\": 10331611.0, \"DepartureTime\": 10344991.0}, {\"NodeId\": \"RESPUESTA\", \"ArrivalTime\": 10345621.0, \"ServiceStartTime\": 10345621.0, \"DepartureTime\": 10349221.0}, {\"NodeId\": \"ALTA\", \"ArrivalTime\": 10470781.0, \"ServiceStartTime\": 10470781.0, \"DepartureTime\": 10470781.0}]}, {\"Priority\": 1, \"Step\": [{\"NodeId\": \"ADMISION\", \"ArrivalTime\": 10554201.0, \"ServiceStartTime\": 10554201.0, \"DepartureTime\": 10554721.0}, {\"NodeId\": \"TRIAJE\", \"ArrivalTime\": 10554721.0, \"ServiceStartTime\": 10554721.0, \"DepartureTime\": 10558881.0}, {\"NodeId\": \"RX SOLICITUD\", \"ArrivalTime\": 10580121.0, \"ServiceStartTime\": 10580121.0, \"DepartureTime\": 10583467.666666666}, {\"NodeId\": \"RX EXPLORACION\", \"ArrivalTime\": 10590791.0, \"ServiceStartTime\": 10590791.0, \"DepartureTime\": 10596816.0}, {\"NodeId\": \"RX INFORME\", \"ArrivalTime\": 10598931.0, \"ServiceStartTime\": 10598931.0, \"DepartureTime\": 10609641.0}, {\"NodeId\": \"ALTA\", \"ArrivalTime\": 10614441.0, \"ServiceStartTime\": 10614441.0, \"DepartureTime\": 10614441.0}]}, {\"Priority\": 1, \"Step\": [{\"NodeId\": \"ADMISION\", \"ArrivalTime\": 10729771.0, \"ServiceStartTime\": 10729771.0, \"DepartureTime\": 10731361.0}, {\"NodeId\": \"TRIAJE\", \"ArrivalTime\": 10731361.0, \"ServiceStartTime\": 10731361.0, \"DepartureTime\": 10734391.0}, {\"NodeId\": \"RX EXPLORACION\", \"ArrivalTime\": 10738351.0, \"ServiceStartTime\": 10738351.0, \"DepartureTime\": 10751971.0}, {\"NodeId\": \"RX INFORME\", \"ArrivalTime\": 10751971.0, \"ServiceStartTime\": 10751971.0, \"DepartureTime\": 10764061.0}, {\"NodeId\": \"RX SOLICITUD\", \"ArrivalTime\": 10752871.0, \"ServiceStartTime\": 10752871.0, \"DepartureTime\": 10764436.0}, {\"NodeId\": \"INTERCONSULTA\", \"ArrivalTime\": 10764061.0, \"ServiceStartTime\": 10764061.0, \"DepartureTime\": 10769281.0}, {\"NodeId\": \"RESPUESTA\", \"ArrivalTime\": 10769281.0, \"ServiceStartTime\": 10769281.0, \"DepartureTime\": 10771351.0}, {\"NodeId\": \"ALTA\", \"ArrivalTime\": 10790521.0, \"ServiceStartTime\": 10790521.0, \"DepartureTime\": 10790521.0}]}, {\"Priority\": 1, \"Step\": [{\"NodeId\": \"ADMISION\", \"ArrivalTime\": 10708081.0, \"ServiceStartTime\": 10708081.0, \"DepartureTime\": 10708681.0}, {\"NodeId\": \"TRIAJE\", \"ArrivalTime\": 10708681.0, \"ServiceStartTime\": 10708681.0, \"DepartureTime\": 10710061.0}, {\"NodeId\": \"RX INFORME\", \"ArrivalTime\": 10713781.0, \"ServiceStartTime\": 10713781.0, \"DepartureTime\": 10714261.0}, {\"NodeId\": \"RX SOLICITUD\", \"ArrivalTime\": 10727161.0, \"ServiceStartTime\": 10727161.0, \"DepartureTime\": 10729291.0}, {\"NodeId\": \"RX EXPLORACION\", \"ArrivalTime\": 10724281.0, \"ServiceStartTime\": 10724281.0, \"DepartureTime\": 10739781.0}, {\"NodeId\": \"INTERCONSULTA\", \"ArrivalTime\": 10761301.0, \"ServiceStartTime\": 10761301.0, \"DepartureTime\": 10773001.0}, {\"NodeId\": \"ALTA\", \"ArrivalTime\": 10773001.0, \"ServiceStartTime\": 10773001.0, \"DepartureTime\": 10773001.0}]}, {\"Priority\": 1, \"Step\": [{\"NodeId\": \"ADMISION\", \"ArrivalTime\": 10777852.42857143, \"ServiceStartTime\": 10777852.42857143, \"DepartureTime\": 10778692.42857143}, {\"NodeId\": \"TRIAJE\", \"ArrivalTime\": 10778692.42857143, \"ServiceStartTime\": 10778692.42857143, \"DepartureTime\": 10783441.0}, {\"NodeId\": \"RX SOLICITUD\", \"ArrivalTime\": 10789492.42857143, \"ServiceStartTime\": 10789492.42857143, \"DepartureTime\": 10793341.0}, {\"NodeId\": \"RX INFORME\", \"ArrivalTime\": 10792089.57142857, \"ServiceStartTime\": 10792089.57142857, \"DepartureTime\": 10795543.857142856}, {\"NodeId\": \"RX EXPLORACION\", \"ArrivalTime\": 10793341.0, \"ServiceStartTime\": 10793341.0, \"DepartureTime\": 10818356.714285715}, {\"NodeId\": \"INTERCONSULTA\", \"ArrivalTime\": 10844623.857142856, \"ServiceStartTime\": 10844623.857142856, \"DepartureTime\": 10866489.57142857}, {\"NodeId\": \"RESPUESTA\", \"ArrivalTime\": 10866489.57142857, \"ServiceStartTime\": 10866489.57142857, \"DepartureTime\": 10890103.857142856}, {\"NodeId\": \"ALTA\", \"ArrivalTime\": 10890103.857142856, \"ServiceStartTime\": 10890103.857142856, \"DepartureTime\": 10890103.857142856}]}, {\"Priority\": 1, \"Step\": [{\"NodeId\": \"ADMISION\", \"ArrivalTime\": 10856881.0, \"ServiceStartTime\": 10856881.0, \"DepartureTime\": 10857571.0}, {\"NodeId\": \"TRIAJE\", \"ArrivalTime\": 10857571.0, \"ServiceStartTime\": 10857571.0, \"DepartureTime\": 10860511.0}, {\"NodeId\": \"RX SOLICITUD\", \"ArrivalTime\": 10889401.0, \"ServiceStartTime\": 10889401.0, \"DepartureTime\": 10894793.5}, {\"NodeId\": \"INTERCONSULTA\", \"ArrivalTime\": 10899106.0, \"ServiceStartTime\": 10899106.0, \"DepartureTime\": 10918291.0}, {\"NodeId\": \"RX EXPLORACION\", \"ArrivalTime\": 10894793.5, \"ServiceStartTime\": 10894793.5, \"DepartureTime\": 10916798.5}, {\"NodeId\": \"RX INFORME\", \"ArrivalTime\": 10934491.0, \"ServiceStartTime\": 10934491.0, \"DepartureTime\": 10973281.0}, {\"NodeId\": \"ALTA\", \"ArrivalTime\": 10973281.0, \"ServiceStartTime\": 10973281.0, \"DepartureTime\": 10973281.0}]}, {\"Priority\": 1, \"Step\": [{\"NodeId\": \"ADMISION\", \"ArrivalTime\": 10859081.0, \"ServiceStartTime\": 10859081.0, \"DepartureTime\": 10859801.0}, {\"NodeId\": \"TRIAJE\", \"ArrivalTime\": 10859801.0, \"ServiceStartTime\": 10859801.0, \"DepartureTime\": 10865101.0}, {\"NodeId\": \"INTERCONSULTA\", \"ArrivalTime\": 10865101.0, \"ServiceStartTime\": 10865101.0, \"DepartureTime\": 10872101.0}, {\"NodeId\": \"RX SOLICITUD\", \"ArrivalTime\": 10872101.0, \"ServiceStartTime\": 10872101.0, \"DepartureTime\": 10874541.0}, {\"NodeId\": \"RX EXPLORACION\", \"ArrivalTime\": 10874541.0, \"ServiceStartTime\": 10874541.0, \"DepartureTime\": 10876281.0}, {\"NodeId\": \"RX INFORME\", \"ArrivalTime\": 10876281.0, \"ServiceStartTime\": 10876281.0, \"DepartureTime\": 10896781.0}, {\"NodeId\": \"RESPUESTA\", \"ArrivalTime\": 10896781.0, \"ServiceStartTime\": 10896781.0, \"DepartureTime\": 10920641.0}, {\"NodeId\": \"ALTA\", \"ArrivalTime\": 10920641.0, \"ServiceStartTime\": 10920641.0, \"DepartureTime\": 10920641.0}]}, {\"Priority\": 1, \"Step\": [{\"NodeId\": \"ADMISION\", \"ArrivalTime\": 10862658.142857144, \"ServiceStartTime\": 10862658.142857144, \"DepartureTime\": 10863412.42857143}, {\"NodeId\": \"TRIAJE\", \"ArrivalTime\": 10863412.42857143, \"ServiceStartTime\": 10863412.42857143, \"DepartureTime\": 10866678.142857144}, {\"NodeId\": \"RX EXPLORACION\", \"ArrivalTime\": 10868701.0, \"ServiceStartTime\": 10868701.0, \"DepartureTime\": 10880529.57142857}, {\"NodeId\": \"RX SOLICITUD\", \"ArrivalTime\": 10879586.714285715, \"ServiceStartTime\": 10879586.714285715, \"DepartureTime\": 10889201.0}, {\"NodeId\": \"RX INFORME\", \"ArrivalTime\": 10885423.857142856, \"ServiceStartTime\": 10885423.857142856, \"DepartureTime\": 10891552.42857143}, {\"NodeId\": \"ALTA\", \"ArrivalTime\": 10913478.142857144, \"ServiceStartTime\": 10913478.142857144, \"DepartureTime\": 10913478.142857144}]}, {\"Priority\": 1, \"Step\": [{\"NodeId\": \"ADMISION\", \"ArrivalTime\": 10849621.0, \"ServiceStartTime\": 10849621.0, \"DepartureTime\": 10850341.0}, {\"NodeId\": \"TRIAJE\", \"ArrivalTime\": 10850341.0, \"ServiceStartTime\": 10850341.0, \"DepartureTime\": 10855291.0}, {\"NodeId\": \"RX SOLICITUD\", \"ArrivalTime\": 10855291.0, \"ServiceStartTime\": 10855291.0, \"DepartureTime\": 10864711.0}, {\"NodeId\": \"INTERCONSULTA\", \"ArrivalTime\": 10864711.0, \"ServiceStartTime\": 10864711.0, \"DepartureTime\": 10869151.0}, {\"NodeId\": \"ALTA\", \"ArrivalTime\": 10869151.0, \"ServiceStartTime\": 10869151.0, \"DepartureTime\": 10869151.0}]}, {\"Priority\": 1, \"Step\": [{\"NodeId\": \"ADMISION\", \"ArrivalTime\": 10849621.0, \"ServiceStartTime\": 10849621.0, \"DepartureTime\": 10850341.0}, {\"NodeId\": \"TRIAJE\", \"ArrivalTime\": 10850341.0, \"ServiceStartTime\": 10850341.0, \"DepartureTime\": 10855291.0}, {\"NodeId\": \"RX SOLICITUD\", \"ArrivalTime\": 10855291.0, \"ServiceStartTime\": 10855291.0, \"DepartureTime\": 10864711.0}, {\"NodeId\": \"INTERCONSULTA\", \"ArrivalTime\": 10864711.0, \"ServiceStartTime\": 10864711.0, \"DepartureTime\": 10869151.0}, {\"NodeId\": \"ALTA\", \"ArrivalTime\": 10869151.0, \"ServiceStartTime\": 10869151.0, \"DepartureTime\": 10869151.0}]}, {\"Priority\": 1, \"Step\": [{\"NodeId\": \"ADMISION\", \"ArrivalTime\": 10849621.0, \"ServiceStartTime\": 10849621.0, \"DepartureTime\": 10850341.0}, {\"NodeId\": \"TRIAJE\", \"ArrivalTime\": 10850341.0, \"ServiceStartTime\": 10850341.0, \"DepartureTime\": 10855291.0}, {\"NodeId\": \"RX SOLICITUD\", \"ArrivalTime\": 10855291.0, \"ServiceStartTime\": 10855291.0, \"DepartureTime\": 10864711.0}, {\"NodeId\": \"INTERCONSULTA\", \"ArrivalTime\": 10864711.0, \"ServiceStartTime\": 10864711.0, \"DepartureTime\": 10869151.0}, {\"NodeId\": \"ALTA\", \"ArrivalTime\": 10869151.0, \"ServiceStartTime\": 10869151.0, \"DepartureTime\": 10869151.0}]}, {\"Priority\": 1, \"Step\": [{\"NodeId\": \"ADMISION\", \"ArrivalTime\": 10849621.0, \"ServiceStartTime\": 10849621.0, \"DepartureTime\": 10850341.0}, {\"NodeId\": \"TRIAJE\", \"ArrivalTime\": 10850341.0, \"ServiceStartTime\": 10850341.0, \"DepartureTime\": 10855291.0}, {\"NodeId\": \"RX SOLICITUD\", \"ArrivalTime\": 10855291.0, \"ServiceStartTime\": 10855291.0, \"DepartureTime\": 10864711.0}, {\"NodeId\": \"INTERCONSULTA\", \"ArrivalTime\": 10864711.0, \"ServiceStartTime\": 10864711.0, \"DepartureTime\": 10869151.0}, {\"NodeId\": \"ALTA\", \"ArrivalTime\": 10869151.0, \"ServiceStartTime\": 10869151.0, \"DepartureTime\": 10869151.0}]}, {\"Priority\": 1, \"Step\": [{\"NodeId\": \"ADMISION\", \"ArrivalTime\": 10849621.0, \"ServiceStartTime\": 10849621.0, \"DepartureTime\": 10850341.0}, {\"NodeId\": \"TRIAJE\", \"ArrivalTime\": 10850341.0, \"ServiceStartTime\": 10850341.0, \"DepartureTime\": 10855291.0}, {\"NodeId\": \"RX SOLICITUD\", \"ArrivalTime\": 10855291.0, \"ServiceStartTime\": 10855291.0, \"DepartureTime\": 10864711.0}, {\"NodeId\": \"INTERCONSULTA\", \"ArrivalTime\": 10864711.0, \"ServiceStartTime\": 10864711.0, \"DepartureTime\": 10869151.0}, {\"NodeId\": \"ALTA\", \"ArrivalTime\": 10869151.0, \"ServiceStartTime\": 10869151.0, \"DepartureTime\": 10869151.0}]}, {\"Priority\": 1, \"Step\": [{\"NodeId\": \"ADMISION\", \"ArrivalTime\": 10849621.0, \"ServiceStartTime\": 10849621.0, \"DepartureTime\": 10850341.0}, {\"NodeId\": \"TRIAJE\", \"ArrivalTime\": 10850341.0, \"ServiceStartTime\": 10850341.0, \"DepartureTime\": 10855291.0}, {\"NodeId\": \"RX SOLICITUD\", \"ArrivalTime\": 10855291.0, \"ServiceStartTime\": 10855291.0, \"DepartureTime\": 10864711.0}, {\"NodeId\": \"INTERCONSULTA\", \"ArrivalTime\": 10864711.0, \"ServiceStartTime\": 10864711.0, \"DepartureTime\": 10869151.0}, {\"NodeId\": \"ALTA\", \"ArrivalTime\": 10869151.0, \"ServiceStartTime\": 10869151.0, \"DepartureTime\": 10869151.0}]}, {\"Priority\": 1, \"Step\": [{\"NodeId\": \"ADMISION\", \"ArrivalTime\": 10849621.0, \"ServiceStartTime\": 10849621.0, \"DepartureTime\": 10850341.0}, {\"NodeId\": \"TRIAJE\", \"ArrivalTime\": 10850341.0, \"ServiceStartTime\": 10850341.0, \"DepartureTime\": 10855291.0}, {\"NodeId\": \"RX SOLICITUD\", \"ArrivalTime\": 10855291.0, \"ServiceStartTime\": 10855291.0, \"DepartureTime\": 10864711.0}, {\"NodeId\": \"INTERCONSULTA\", \"ArrivalTime\": 10864711.0, \"ServiceStartTime\": 10864711.0, \"DepartureTime\": 10869151.0}, {\"NodeId\": \"ALTA\", \"ArrivalTime\": 10869151.0, \"ServiceStartTime\": 10869151.0, \"DepartureTime\": 10869151.0}]}, {\"Priority\": 1, \"Step\": [{\"NodeId\": \"ADMISION\", \"ArrivalTime\": 10849621.0, \"ServiceStartTime\": 10849621.0, \"DepartureTime\": 10850341.0}, {\"NodeId\": \"TRIAJE\", \"ArrivalTime\": 10850341.0, \"ServiceStartTime\": 10850341.0, \"DepartureTime\": 10855291.0}, {\"NodeId\": \"RX SOLICITUD\", \"ArrivalTime\": 10855291.0, \"ServiceStartTime\": 10855291.0, \"DepartureTime\": 10864711.0}, {\"NodeId\": \"INTERCONSULTA\", \"ArrivalTime\": 10864711.0, \"ServiceStartTime\": 10864711.0, \"DepartureTime\": 10869151.0}, {\"NodeId\": \"ALTA\", \"ArrivalTime\": 10869151.0, \"ServiceStartTime\": 10869151.0, \"DepartureTime\": 10869151.0}]}, {\"Priority\": 1, \"Step\": [{\"NodeId\": \"ADMISION\", \"ArrivalTime\": 10849621.0, \"ServiceStartTime\": 10849621.0, \"DepartureTime\": 10850341.0}, {\"NodeId\": \"TRIAJE\", \"ArrivalTime\": 10850341.0, \"ServiceStartTime\": 10850341.0, \"DepartureTime\": 10855291.0}, {\"NodeId\": \"RX SOLICITUD\", \"ArrivalTime\": 10855291.0, \"ServiceStartTime\": 10855291.0, \"DepartureTime\": 10864711.0}, {\"NodeId\": \"INTERCONSULTA\", \"ArrivalTime\": 10864711.0, \"ServiceStartTime\": 10864711.0, \"DepartureTime\": 10869151.0}, {\"NodeId\": \"ALTA\", \"ArrivalTime\": 10869151.0, \"ServiceStartTime\": 10869151.0, \"DepartureTime\": 10869151.0}]}, {\"Priority\": 1, \"Step\": [{\"NodeId\": \"ADMISION\", \"ArrivalTime\": 10849621.0, \"ServiceStartTime\": 10849621.0, \"DepartureTime\": 10850341.0}, {\"NodeId\": \"TRIAJE\", \"ArrivalTime\": 10850341.0, \"ServiceStartTime\": 10850341.0, \"DepartureTime\": 10855291.0}, {\"NodeId\": \"RX SOLICITUD\", \"ArrivalTime\": 10855291.0, \"ServiceStartTime\": 10855291.0, \"DepartureTime\": 10864711.0}, {\"NodeId\": \"INTERCONSULTA\", \"ArrivalTime\": 10864711.0, \"ServiceStartTime\": 10864711.0, \"DepartureTime\": 10869151.0}, {\"NodeId\": \"ALTA\", \"ArrivalTime\": 10869151.0, \"ServiceStartTime\": 10869151.0, \"DepartureTime\": 10869151.0}]}, {\"Priority\": 1, \"Step\": [{\"NodeId\": \"ADMISION\", \"ArrivalTime\": 10953601.0, \"ServiceStartTime\": 10953601.0, \"DepartureTime\": 10954021.0}, {\"NodeId\": \"TRIAJE\", \"ArrivalTime\": 10954021.0, \"ServiceStartTime\": 10954021.0, \"DepartureTime\": 10958881.0}, {\"NodeId\": \"RX SOLICITUD\", \"ArrivalTime\": 11004229.0, \"ServiceStartTime\": 11004229.0, \"DepartureTime\": 11006821.0}, {\"NodeId\": \"RX EXPLORACION\", \"ArrivalTime\": 11010496.0, \"ServiceStartTime\": 11010496.0, \"DepartureTime\": 11021641.0}, {\"NodeId\": \"RX INFORME\", \"ArrivalTime\": 10999321.0, \"ServiceStartTime\": 10999321.0, \"DepartureTime\": 11049121.0}, {\"NodeId\": \"ALTA\", \"ArrivalTime\": 11116021.0, \"ServiceStartTime\": 11116021.0, \"DepartureTime\": 11116021.0}]}, {\"Priority\": 1, \"Step\": [{\"NodeId\": \"ADMISION\", \"ArrivalTime\": 11012851.0, \"ServiceStartTime\": 11012851.0, \"DepartureTime\": 11013601.0}, {\"NodeId\": \"TRIAJE\", \"ArrivalTime\": 11013601.0, \"ServiceStartTime\": 11013601.0, \"DepartureTime\": 11017081.0}, {\"NodeId\": \"RX EXPLORACION\", \"ArrivalTime\": 11025496.0, \"ServiceStartTime\": 11025496.0, \"DepartureTime\": 11030911.0}, {\"NodeId\": \"RX SOLICITUD\", \"ArrivalTime\": 11038021.0, \"ServiceStartTime\": 11038021.0, \"DepartureTime\": 11043551.0}, {\"NodeId\": \"RX INFORME\", \"ArrivalTime\": 11033131.0, \"ServiceStartTime\": 11033131.0, \"DepartureTime\": 11068291.0}, {\"NodeId\": \"INTERCONSULTA\", \"ArrivalTime\": 11079661.0, \"ServiceStartTime\": 11079661.0, \"DepartureTime\": 11093251.0}, {\"NodeId\": \"ALTA\", \"ArrivalTime\": 11093251.0, \"ServiceStartTime\": 11093251.0, \"DepartureTime\": 11093251.0}]}, {\"Priority\": 1, \"Step\": [{\"NodeId\": \"ADMISION\", \"ArrivalTime\": 11027101.0, \"ServiceStartTime\": 11027101.0, \"DepartureTime\": 11027641.0}, {\"NodeId\": \"TRIAJE\", \"ArrivalTime\": 11027641.0, \"ServiceStartTime\": 11027641.0, \"DepartureTime\": 11031001.0}, {\"NodeId\": \"RX INFORME\", \"ArrivalTime\": 11038921.0, \"ServiceStartTime\": 11038921.0, \"DepartureTime\": 11042221.0}, {\"NodeId\": \"RX SOLICITUD\", \"ArrivalTime\": 11045926.0, \"ServiceStartTime\": 11045926.0, \"DepartureTime\": 11049496.0}, {\"NodeId\": \"RX EXPLORACION\", \"ArrivalTime\": 11049496.0, \"ServiceStartTime\": 11049496.0, \"DepartureTime\": 11059711.0}, {\"NodeId\": \"INTERCONSULTA\", \"ArrivalTime\": 11061661.0, \"ServiceStartTime\": 11061661.0, \"DepartureTime\": 11063341.0}, {\"NodeId\": \"RESPUESTA\", \"ArrivalTime\": 11091121.0, \"ServiceStartTime\": 11091121.0, \"DepartureTime\": 11101441.0}, {\"NodeId\": \"ALTA\", \"ArrivalTime\": 11101441.0, \"ServiceStartTime\": 11101441.0, \"DepartureTime\": 11101441.0}]}, {\"Priority\": 1, \"Step\": [{\"NodeId\": \"ADMISION\", \"ArrivalTime\": 11101501.0, \"ServiceStartTime\": 11101501.0, \"DepartureTime\": 11102161.0}, {\"NodeId\": \"TRIAJE\", \"ArrivalTime\": 11102161.0, \"ServiceStartTime\": 11102161.0, \"DepartureTime\": 11104201.0}, {\"NodeId\": \"RX SOLICITUD\", \"ArrivalTime\": 11104201.0, \"ServiceStartTime\": 11104201.0, \"DepartureTime\": 11105221.0}, {\"NodeId\": \"INTERCONSULTA\", \"ArrivalTime\": 11105281.0, \"ServiceStartTime\": 11105281.0, \"DepartureTime\": 11105941.0}, {\"NodeId\": \"RESPUESTA\", \"ArrivalTime\": 11110291.0, \"ServiceStartTime\": 11110291.0, \"DepartureTime\": 11118391.0}, {\"NodeId\": \"RX EXPLORACION\", \"ArrivalTime\": 11106661.0, \"ServiceStartTime\": 11106661.0, \"DepartureTime\": 11115361.0}, {\"NodeId\": \"ALTA\", \"ArrivalTime\": 11131441.0, \"ServiceStartTime\": 11131441.0, \"DepartureTime\": 11131441.0}]}, {\"Priority\": 1, \"Step\": [{\"NodeId\": \"ADMISION\", \"ArrivalTime\": 11184241.0, \"ServiceStartTime\": 11184241.0, \"DepartureTime\": 11184481.0}, {\"NodeId\": \"TRIAJE\", \"ArrivalTime\": 11184481.0, \"ServiceStartTime\": 11184481.0, \"DepartureTime\": 11185261.0}, {\"NodeId\": \"RX SOLICITUD\", \"ArrivalTime\": 11231146.0, \"ServiceStartTime\": 11231146.0, \"DepartureTime\": 11235301.0}, {\"NodeId\": \"RX EXPLORACION\", \"ArrivalTime\": 11227957.0, \"ServiceStartTime\": 11227957.0, \"DepartureTime\": 11244505.0}, {\"NodeId\": \"RX INFORME\", \"ArrivalTime\": 11241601.0, \"ServiceStartTime\": 11241601.0, \"DepartureTime\": 11309911.0}, {\"NodeId\": \"ALTA\", \"ArrivalTime\": 11421241.0, \"ServiceStartTime\": 11421241.0, \"DepartureTime\": 11421241.0}]}, {\"Priority\": 1, \"Step\": [{\"NodeId\": \"ADMISION\", \"ArrivalTime\": 11201011.0, \"ServiceStartTime\": 11201011.0, \"DepartureTime\": 11201311.0}, {\"NodeId\": \"TRIAJE\", \"ArrivalTime\": 11201311.0, \"ServiceStartTime\": 11201311.0, \"DepartureTime\": 11202961.0}, {\"NodeId\": \"RX SOLICITUD\", \"ArrivalTime\": 11245051.0, \"ServiceStartTime\": 11245051.0, \"DepartureTime\": 11260081.0}, {\"NodeId\": \"RX EXPLORACION\", \"ArrivalTime\": 11260171.0, \"ServiceStartTime\": 11260171.0, \"DepartureTime\": 11269861.0}, {\"NodeId\": \"RX INFORME\", \"ArrivalTime\": 11261321.0, \"ServiceStartTime\": 11261321.0, \"DepartureTime\": 11285581.0}, {\"NodeId\": \"ALTA\", \"ArrivalTime\": 11349901.0, \"ServiceStartTime\": 11349901.0, \"DepartureTime\": 11349901.0}]}, {\"Priority\": 1, \"Step\": [{\"NodeId\": \"ADMISION\", \"ArrivalTime\": 11370151.0, \"ServiceStartTime\": 11370151.0, \"DepartureTime\": 11371336.0}, {\"NodeId\": \"TRIAJE\", \"ArrivalTime\": 11371336.0, \"ServiceStartTime\": 11371336.0, \"DepartureTime\": 11376946.0}, {\"NodeId\": \"RX SOLICITUD\", \"ArrivalTime\": 11423286.0, \"ServiceStartTime\": 11423286.0, \"DepartureTime\": 11429281.0}, {\"NodeId\": \"RX EXPLORACION\", \"ArrivalTime\": 11429281.0, \"ServiceStartTime\": 11429281.0, \"DepartureTime\": 11468331.0}, {\"NodeId\": \"INTERCONSULTA\", \"ArrivalTime\": 11512081.0, \"ServiceStartTime\": 11512081.0, \"DepartureTime\": 11536846.0}, {\"NodeId\": \"RESPUESTA\", \"ArrivalTime\": 11536846.0, \"ServiceStartTime\": 11536846.0, \"DepartureTime\": 11564116.0}, {\"NodeId\": \"ALTA\", \"ArrivalTime\": 11564116.0, \"ServiceStartTime\": 11564116.0, \"DepartureTime\": 11564116.0}]}, {\"Priority\": 1, \"Step\": [{\"NodeId\": \"ADMISION\", \"ArrivalTime\": 11436241.0, \"ServiceStartTime\": 11436241.0, \"DepartureTime\": 11437561.0}, {\"NodeId\": \"TRIAJE\", \"ArrivalTime\": 11437561.0, \"ServiceStartTime\": 11437561.0, \"DepartureTime\": 11439001.0}, {\"NodeId\": \"RX INFORME\", \"ArrivalTime\": 11466511.0, \"ServiceStartTime\": 11466511.0, \"DepartureTime\": 11471041.0}, {\"NodeId\": \"RX SOLICITUD\", \"ArrivalTime\": 11477761.0, \"ServiceStartTime\": 11477761.0, \"DepartureTime\": 11481481.0}, {\"NodeId\": \"RX EXPLORACION\", \"ArrivalTime\": 11481541.0, \"ServiceStartTime\": 11481541.0, \"DepartureTime\": 11517501.0}, {\"NodeId\": \"ALTA\", \"ArrivalTime\": 11567101.0, \"ServiceStartTime\": 11567101.0, \"DepartureTime\": 11567101.0}]}, {\"Priority\": 1, \"Step\": [{\"NodeId\": \"ADMISION\", \"ArrivalTime\": 11444401.0, \"ServiceStartTime\": 11444401.0, \"DepartureTime\": 11444881.0}, {\"NodeId\": \"TRIAJE\", \"ArrivalTime\": 11444881.0, \"ServiceStartTime\": 11444881.0, \"DepartureTime\": 11448121.0}, {\"NodeId\": \"RX SOLICITUD\", \"ArrivalTime\": 11454381.0, \"ServiceStartTime\": 11454381.0, \"DepartureTime\": 11460061.0}, {\"NodeId\": \"RX EXPLORACION\", \"ArrivalTime\": 11461711.0, \"ServiceStartTime\": 11461711.0, \"DepartureTime\": 11475421.0}, {\"NodeId\": \"RX INFORME\", \"ArrivalTime\": 11463511.0, \"ServiceStartTime\": 11463511.0, \"DepartureTime\": 11464981.0}, {\"NodeId\": \"ALTA\", \"ArrivalTime\": 11495521.0, \"ServiceStartTime\": 11495521.0, \"DepartureTime\": 11495521.0}]}, {\"Priority\": 1, \"Step\": [{\"NodeId\": \"ADMISION\", \"ArrivalTime\": 11502761.0, \"ServiceStartTime\": 11502761.0, \"DepartureTime\": 11503511.0}, {\"NodeId\": \"TRIAJE\", \"ArrivalTime\": 11503511.0, \"ServiceStartTime\": 11503511.0, \"DepartureTime\": 11505521.0}, {\"NodeId\": \"RX SOLICITUD\", \"ArrivalTime\": 11548481.0, \"ServiceStartTime\": 11548481.0, \"DepartureTime\": 11553066.0}, {\"NodeId\": \"INTERCONSULTA\", \"ArrivalTime\": 11533221.0, \"ServiceStartTime\": 11533221.0, \"DepartureTime\": 11559521.0}, {\"NodeId\": \"RX EXPLORACION\", \"ArrivalTime\": 11553066.0, \"ServiceStartTime\": 11553066.0, \"DepartureTime\": 11554701.0}, {\"NodeId\": \"RESPUESTA\", \"ArrivalTime\": 11559521.0, \"ServiceStartTime\": 11559521.0, \"DepartureTime\": 11591441.0}, {\"NodeId\": \"RX INFORME\", \"ArrivalTime\": 11554701.0, \"ServiceStartTime\": 11554701.0, \"DepartureTime\": 11596736.0}, {\"NodeId\": \"ALTA\", \"ArrivalTime\": 11660251.0, \"ServiceStartTime\": 11660251.0, \"DepartureTime\": 11660251.0}]}, {\"Priority\": 1, \"Step\": [{\"NodeId\": \"ADMISION\", \"ArrivalTime\": 11551981.0, \"ServiceStartTime\": 11551981.0, \"DepartureTime\": 11552821.0}, {\"NodeId\": \"TRIAJE\", \"ArrivalTime\": 11552821.0, \"ServiceStartTime\": 11552821.0, \"DepartureTime\": 11553181.0}, {\"NodeId\": \"RX SOLICITUD\", \"ArrivalTime\": 11643301.0, \"ServiceStartTime\": 11643301.0, \"DepartureTime\": 11646841.0}, {\"NodeId\": \"INTERCONSULTA\", \"ArrivalTime\": 11710021.0, \"ServiceStartTime\": 11710021.0, \"DepartureTime\": 11721601.0}, {\"NodeId\": \"RX EXPLORACION\", \"ArrivalTime\": 11646841.0, \"ServiceStartTime\": 11646841.0, \"DepartureTime\": 11687281.0}, {\"NodeId\": \"RX INFORME\", \"ArrivalTime\": 11733901.0, \"ServiceStartTime\": 11733901.0, \"DepartureTime\": 11743741.0}, {\"NodeId\": \"ALTA\", \"ArrivalTime\": 11750521.0, \"ServiceStartTime\": 11750521.0, \"DepartureTime\": 11750521.0}]}, {\"Priority\": 1, \"Step\": [{\"NodeId\": \"ADMISION\", \"ArrivalTime\": 11646181.0, \"ServiceStartTime\": 11646181.0, \"DepartureTime\": 11647141.0}, {\"NodeId\": \"TRIAJE\", \"ArrivalTime\": 11647141.0, \"ServiceStartTime\": 11647141.0, \"DepartureTime\": 11648551.0}, {\"NodeId\": \"RX EXPLORACION\", \"ArrivalTime\": 11659791.0, \"ServiceStartTime\": 11659791.0, \"DepartureTime\": 11660741.0}, {\"NodeId\": \"RX SOLICITUD\", \"ArrivalTime\": 11661541.0, \"ServiceStartTime\": 11661541.0, \"DepartureTime\": 11668088.5}, {\"NodeId\": \"RX INFORME\", \"ArrivalTime\": 11654491.0, \"ServiceStartTime\": 11654491.0, \"DepartureTime\": 11669881.0}, {\"NodeId\": \"ALTA\", \"ArrivalTime\": 11692981.0, \"ServiceStartTime\": 11692981.0, \"DepartureTime\": 11692981.0}]}, {\"Priority\": 1, \"Step\": [{\"NodeId\": \"ADMISION\", \"ArrivalTime\": 11793931.0, \"ServiceStartTime\": 11793931.0, \"DepartureTime\": 11794306.0}, {\"NodeId\": \"TRIAJE\", \"ArrivalTime\": 11794306.0, \"ServiceStartTime\": 11794306.0, \"DepartureTime\": 11798491.0}, {\"NodeId\": \"RX SOLICITUD\", \"ArrivalTime\": 11803186.0, \"ServiceStartTime\": 11803186.0, \"DepartureTime\": 11807303.5}, {\"NodeId\": \"RX EXPLORACION\", \"ArrivalTime\": 11807303.5, \"ServiceStartTime\": 11807303.5, \"DepartureTime\": 11811713.5}, {\"NodeId\": \"RX INFORME\", \"ArrivalTime\": 11815546.0, \"ServiceStartTime\": 11815546.0, \"DepartureTime\": 11823016.0}, {\"NodeId\": \"INTERCONSULTA\", \"ArrivalTime\": 11836456.0, \"ServiceStartTime\": 11836456.0, \"DepartureTime\": 11853218.5}, {\"NodeId\": \"RESPUESTA\", \"ArrivalTime\": 11853218.5, \"ServiceStartTime\": 11853218.5, \"DepartureTime\": 11861963.5}, {\"NodeId\": \"ALTA\", \"ArrivalTime\": 11874031.0, \"ServiceStartTime\": 11874031.0, \"DepartureTime\": 11874031.0}]}, {\"Priority\": 1, \"Step\": [{\"NodeId\": \"ADMISION\", \"ArrivalTime\": 11976901.0, \"ServiceStartTime\": 11976901.0, \"DepartureTime\": 11977261.0}, {\"NodeId\": \"TRIAJE\", \"ArrivalTime\": 11977261.0, \"ServiceStartTime\": 11977261.0, \"DepartureTime\": 11977981.0}, {\"NodeId\": \"RX EXPLORACION\", \"ArrivalTime\": 11977981.0, \"ServiceStartTime\": 11977981.0, \"DepartureTime\": 11991841.0}, {\"NodeId\": \"INTERCONSULTA\", \"ArrivalTime\": 11991841.0, \"ServiceStartTime\": 11991841.0, \"DepartureTime\": 12023881.0}, {\"NodeId\": \"RX SOLICITUD\", \"ArrivalTime\": 12023881.0, \"ServiceStartTime\": 12023881.0, \"DepartureTime\": 12025861.0}, {\"NodeId\": \"RESPUESTA\", \"ArrivalTime\": 12025861.0, \"ServiceStartTime\": 12025861.0, \"DepartureTime\": 12060601.0}, {\"NodeId\": \"ALTA\", \"ArrivalTime\": 12060601.0, \"ServiceStartTime\": 12060601.0, \"DepartureTime\": 12060601.0}]}, {\"Priority\": 1, \"Step\": [{\"NodeId\": \"ADMISION\", \"ArrivalTime\": 12051061.0, \"ServiceStartTime\": 12051061.0, \"DepartureTime\": 12051961.0}, {\"NodeId\": \"TRIAJE\", \"ArrivalTime\": 12051961.0, \"ServiceStartTime\": 12051961.0, \"DepartureTime\": 12053701.0}, {\"NodeId\": \"INTERCONSULTA\", \"ArrivalTime\": 12053701.0, \"ServiceStartTime\": 12053701.0, \"DepartureTime\": 12058561.0}, {\"NodeId\": \"RX SOLICITUD\", \"ArrivalTime\": 12116011.0, \"ServiceStartTime\": 12116011.0, \"DepartureTime\": 12118831.0}, {\"NodeId\": \"RESPUESTA\", \"ArrivalTime\": 12156421.0, \"ServiceStartTime\": 12156421.0, \"DepartureTime\": 12173461.0}, {\"NodeId\": \"RX EXPLORACION\", \"ArrivalTime\": 12118831.0, \"ServiceStartTime\": 12118831.0, \"DepartureTime\": 12166381.0}, {\"NodeId\": \"ALTA\", \"ArrivalTime\": 12176341.0, \"ServiceStartTime\": 12176341.0, \"DepartureTime\": 12176341.0}]}, {\"Priority\": 1, \"Step\": [{\"NodeId\": \"ADMISION\", \"ArrivalTime\": 12244921.0, \"ServiceStartTime\": 12244921.0, \"DepartureTime\": 12245641.0}, {\"NodeId\": \"TRIAJE\", \"ArrivalTime\": 12245641.0, \"ServiceStartTime\": 12245641.0, \"DepartureTime\": 12247681.0}, {\"NodeId\": \"RX SOLICITUD\", \"ArrivalTime\": 12276001.0, \"ServiceStartTime\": 12276001.0, \"DepartureTime\": 12279031.0}, {\"NodeId\": \"RX EXPLORACION\", \"ArrivalTime\": 12279031.0, \"ServiceStartTime\": 12279031.0, \"DepartureTime\": 12284371.0}, {\"NodeId\": \"RX INFORME\", \"ArrivalTime\": 12284371.0, \"ServiceStartTime\": 12284371.0, \"DepartureTime\": 12310711.0}, {\"NodeId\": \"INTERCONSULTA\", \"ArrivalTime\": 12317101.0, \"ServiceStartTime\": 12317101.0, \"DepartureTime\": 12337501.0}, {\"NodeId\": \"ALTA\", \"ArrivalTime\": 12337501.0, \"ServiceStartTime\": 12337501.0, \"DepartureTime\": 12337501.0}]}, {\"Priority\": 1, \"Step\": [{\"NodeId\": \"ADMISION\", \"ArrivalTime\": 12343421.0, \"ServiceStartTime\": 12343421.0, \"DepartureTime\": 12344181.0}, {\"NodeId\": \"TRIAJE\", \"ArrivalTime\": 12344181.0, \"ServiceStartTime\": 12344181.0, \"DepartureTime\": 12346861.0}, {\"NodeId\": \"RX SOLICITUD\", \"ArrivalTime\": 12391531.0, \"ServiceStartTime\": 12391531.0, \"DepartureTime\": 12397341.0}, {\"NodeId\": \"RX EXPLORACION\", \"ArrivalTime\": 12397341.0, \"ServiceStartTime\": 12397341.0, \"DepartureTime\": 12403021.0}, {\"NodeId\": \"RX INFORME\", \"ArrivalTime\": 12416787.666666666, \"ServiceStartTime\": 12416787.666666666, \"DepartureTime\": 12457194.333333334}, {\"NodeId\": \"ALTA\", \"ArrivalTime\": 12514041.0, \"ServiceStartTime\": 12514041.0, \"DepartureTime\": 12514041.0}]}, {\"Priority\": 1, \"Step\": [{\"NodeId\": \"ADMISION\", \"ArrivalTime\": 12392881.0, \"ServiceStartTime\": 12392881.0, \"DepartureTime\": 12394201.0}, {\"NodeId\": \"TRIAJE\", \"ArrivalTime\": 12394201.0, \"ServiceStartTime\": 12394201.0, \"DepartureTime\": 12398521.0}, {\"NodeId\": \"INTERCONSULTA\", \"ArrivalTime\": 12398551.0, \"ServiceStartTime\": 12398551.0, \"DepartureTime\": 12399061.0}, {\"NodeId\": \"RESPUESTA\", \"ArrivalTime\": 12399811.0, \"ServiceStartTime\": 12399811.0, \"DepartureTime\": 12400291.0}, {\"NodeId\": \"RX SOLICITUD\", \"ArrivalTime\": 12399601.0, \"ServiceStartTime\": 12399601.0, \"DepartureTime\": 12401101.0}, {\"NodeId\": \"RX EXPLORACION\", \"ArrivalTime\": 12402001.0, \"ServiceStartTime\": 12402001.0, \"DepartureTime\": 12402721.0}, {\"NodeId\": \"RX INFORME\", \"ArrivalTime\": 12402721.0, \"ServiceStartTime\": 12402721.0, \"DepartureTime\": 12424141.0}, {\"NodeId\": \"ALTA\", \"ArrivalTime\": 12424141.0, \"ServiceStartTime\": 12424141.0, \"DepartureTime\": 12424141.0}]}, {\"Priority\": 1, \"Step\": [{\"NodeId\": \"ADMISION\", \"ArrivalTime\": 12423435.4, \"ServiceStartTime\": 12423435.4, \"DepartureTime\": 12424167.4}, {\"NodeId\": \"TRIAJE\", \"ArrivalTime\": 12424167.4, \"ServiceStartTime\": 12424167.4, \"DepartureTime\": 12427333.0}, {\"NodeId\": \"RX SOLICITUD\", \"ArrivalTime\": 12427333.0, \"ServiceStartTime\": 12427333.0, \"DepartureTime\": 12432272.2}, {\"NodeId\": \"RX EXPLORACION\", \"ArrivalTime\": 12433215.4, \"ServiceStartTime\": 12433215.4, \"DepartureTime\": 12436040.2}, {\"NodeId\": \"RX INFORME\", \"ArrivalTime\": 12436040.2, \"ServiceStartTime\": 12436040.2, \"DepartureTime\": 12443951.8}, {\"NodeId\": \"ALTA\", \"ArrivalTime\": 12453745.0, \"ServiceStartTime\": 12453745.0, \"DepartureTime\": 12453745.0}]}, {\"Priority\": 1, \"Step\": [{\"NodeId\": \"ADMISION\", \"ArrivalTime\": 12449821.0, \"ServiceStartTime\": 12449821.0, \"DepartureTime\": 12450301.0}, {\"NodeId\": \"TRIAJE\", \"ArrivalTime\": 12450301.0, \"ServiceStartTime\": 12450301.0, \"DepartureTime\": 12452881.0}, {\"NodeId\": \"INTERCONSULTA\", \"ArrivalTime\": 12477601.0, \"ServiceStartTime\": 12477601.0, \"DepartureTime\": 12477781.0}, {\"NodeId\": \"RX SOLICITUD\", \"ArrivalTime\": 12467791.0, \"ServiceStartTime\": 12467791.0, \"DepartureTime\": 12468991.0}, {\"NodeId\": \"RX EXPLORACION\", \"ArrivalTime\": 12468991.0, \"ServiceStartTime\": 12468991.0, \"DepartureTime\": 12481381.0}, {\"NodeId\": \"RESPUESTA\", \"ArrivalTime\": 12484141.0, \"ServiceStartTime\": 12484141.0, \"DepartureTime\": 12496441.0}, {\"NodeId\": \"RX INFORME\", \"ArrivalTime\": 12485161.0, \"ServiceStartTime\": 12485161.0, \"DepartureTime\": 12490501.0}, {\"NodeId\": \"ALTA\", \"ArrivalTime\": 12510181.0, \"ServiceStartTime\": 12510181.0, \"DepartureTime\": 12510181.0}]}, {\"Priority\": 1, \"Step\": [{\"NodeId\": \"ADMISION\", \"ArrivalTime\": 12537988.692307692, \"ServiceStartTime\": 12537988.692307692, \"DepartureTime\": 12538708.692307692}, {\"NodeId\": \"TRIAJE\", \"ArrivalTime\": 12538708.692307692, \"ServiceStartTime\": 12538708.692307692, \"DepartureTime\": 12545631.76923077}, {\"NodeId\": \"RX SOLICITUD\", \"ArrivalTime\": 12558181.0, \"ServiceStartTime\": 12558181.0, \"DepartureTime\": 12563084.846153846}, {\"NodeId\": \"RX INFORME\", \"ArrivalTime\": 12567937.923076924, \"ServiceStartTime\": 12567937.923076924, \"DepartureTime\": 12574999.461538462}, {\"NodeId\": \"RX EXPLORACION\", \"ArrivalTime\": 12568479.461538462, \"ServiceStartTime\": 12568479.461538462, \"DepartureTime\": 12580127.153846154}, {\"NodeId\": \"ALTA\", \"ArrivalTime\": 12604505.615384616, \"ServiceStartTime\": 12604505.615384616, \"DepartureTime\": 12604505.615384616}]}, {\"Priority\": 1, \"Step\": [{\"NodeId\": \"ADMISION\", \"ArrivalTime\": 12544981.0, \"ServiceStartTime\": 12544981.0, \"DepartureTime\": 12545221.0}, {\"NodeId\": \"TRIAJE\", \"ArrivalTime\": 12545221.0, \"ServiceStartTime\": 12545221.0, \"DepartureTime\": 12560461.0}, {\"NodeId\": \"INTERCONSULTA\", \"ArrivalTime\": 12568981.0, \"ServiceStartTime\": 12568981.0, \"DepartureTime\": 12570121.0}, {\"NodeId\": \"RX SOLICITUD\", \"ArrivalTime\": 12565411.0, \"ServiceStartTime\": 12565411.0, \"DepartureTime\": 12572191.0}, {\"NodeId\": \"RX EXPLORACION\", \"ArrivalTime\": 12570121.0, \"ServiceStartTime\": 12570121.0, \"DepartureTime\": 12570361.0}, {\"NodeId\": \"RX INFORME\", \"ArrivalTime\": 12575401.0, \"ServiceStartTime\": 12575401.0, \"DepartureTime\": 12579001.0}, {\"NodeId\": \"RESPUESTA\", \"ArrivalTime\": 12579001.0, \"ServiceStartTime\": 12579001.0, \"DepartureTime\": 12590521.0}, {\"NodeId\": \"ALTA\", \"ArrivalTime\": 12590521.0, \"ServiceStartTime\": 12590521.0, \"DepartureTime\": 12590521.0}]}, {\"Priority\": 1, \"Step\": [{\"NodeId\": \"ADMISION\", \"ArrivalTime\": 12529615.782608695, \"ServiceStartTime\": 12529615.782608695, \"DepartureTime\": 12530447.956521738}, {\"NodeId\": \"TRIAJE\", \"ArrivalTime\": 12530447.956521738, \"ServiceStartTime\": 12530447.956521738, \"DepartureTime\": 12541939.260869564}, {\"NodeId\": \"RX SOLICITUD\", \"ArrivalTime\": 12541939.260869564, \"ServiceStartTime\": 12541939.260869564, \"DepartureTime\": 12551432.304347826}, {\"NodeId\": \"RX EXPLORACION\", \"ArrivalTime\": 12551432.304347826, \"ServiceStartTime\": 12551432.304347826, \"DepartureTime\": 12554674.913043479}, {\"NodeId\": \"RX INFORME\", \"ArrivalTime\": 12554674.913043479, \"ServiceStartTime\": 12554674.913043479, \"DepartureTime\": 12565558.391304348}, {\"NodeId\": \"INTERCONSULTA\", \"ArrivalTime\": 12565558.391304348, \"ServiceStartTime\": 12565558.391304348, \"DepartureTime\": 12588045.347826088}, {\"NodeId\": \"ALTA\", \"ArrivalTime\": 12588045.347826088, \"ServiceStartTime\": 12588045.347826088, \"DepartureTime\": 12588045.347826088}]}, {\"Priority\": 1, \"Step\": [{\"NodeId\": \"ADMISION\", \"ArrivalTime\": 12578641.0, \"ServiceStartTime\": 12578641.0, \"DepartureTime\": 12579181.0}, {\"NodeId\": \"TRIAJE\", \"ArrivalTime\": 12579181.0, \"ServiceStartTime\": 12579181.0, \"DepartureTime\": 12579511.0}, {\"NodeId\": \"RX SOLICITUD\", \"ArrivalTime\": 12579511.0, \"ServiceStartTime\": 12579511.0, \"DepartureTime\": 12581671.0}, {\"NodeId\": \"RX EXPLORACION\", \"ArrivalTime\": 12581671.0, \"ServiceStartTime\": 12581671.0, \"DepartureTime\": 12587371.0}, {\"NodeId\": \"INTERCONSULTA\", \"ArrivalTime\": 12592921.0, \"ServiceStartTime\": 12592921.0, \"DepartureTime\": 12605311.0}, {\"NodeId\": \"RX INFORME\", \"ArrivalTime\": 12604066.0, \"ServiceStartTime\": 12604066.0, \"DepartureTime\": 12616231.0}, {\"NodeId\": \"RESPUESTA\", \"ArrivalTime\": 12605311.0, \"ServiceStartTime\": 12605311.0, \"DepartureTime\": 12620761.0}, {\"NodeId\": \"ALTA\", \"ArrivalTime\": 12639541.0, \"ServiceStartTime\": 12639541.0, \"DepartureTime\": 12639541.0}]}, {\"Priority\": 1, \"Step\": [{\"NodeId\": \"ADMISION\", \"ArrivalTime\": 12652441.0, \"ServiceStartTime\": 12652441.0, \"DepartureTime\": 12652861.0}, {\"NodeId\": \"TRIAJE\", \"ArrivalTime\": 12652861.0, \"ServiceStartTime\": 12652861.0, \"DepartureTime\": 12654121.0}, {\"NodeId\": \"RX SOLICITUD\", \"ArrivalTime\": 12733351.0, \"ServiceStartTime\": 12733351.0, \"DepartureTime\": 12738256.0}, {\"NodeId\": \"INTERCONSULTA\", \"ArrivalTime\": 12747361.0, \"ServiceStartTime\": 12747361.0, \"DepartureTime\": 12801661.0}, {\"NodeId\": \"RX EXPLORACION\", \"ArrivalTime\": 12738391.0, \"ServiceStartTime\": 12738391.0, \"DepartureTime\": 12750451.0}, {\"NodeId\": \"RX INFORME\", \"ArrivalTime\": 12748411.0, \"ServiceStartTime\": 12748411.0, \"DepartureTime\": 12778351.0}, {\"NodeId\": \"RESPUESTA\", \"ArrivalTime\": 12836161.0, \"ServiceStartTime\": 12836161.0, \"DepartureTime\": 12848821.0}, {\"NodeId\": \"ALTA\", \"ArrivalTime\": 12848821.0, \"ServiceStartTime\": 12848821.0, \"DepartureTime\": 12848821.0}]}, {\"Priority\": 1, \"Step\": [{\"NodeId\": \"ADMISION\", \"ArrivalTime\": 12865621.0, \"ServiceStartTime\": 12865621.0, \"DepartureTime\": 12867001.0}, {\"NodeId\": \"TRIAJE\", \"ArrivalTime\": 12867001.0, \"ServiceStartTime\": 12867001.0, \"DepartureTime\": 12905701.0}, {\"NodeId\": \"RX EXPLORACION\", \"ArrivalTime\": 12907501.0, \"ServiceStartTime\": 12907501.0, \"DepartureTime\": 12908881.0}, {\"NodeId\": \"RX SOLICITUD\", \"ArrivalTime\": 12907291.0, \"ServiceStartTime\": 12907291.0, \"DepartureTime\": 12908551.0}, {\"NodeId\": \"RX INFORME\", \"ArrivalTime\": 12909601.0, \"ServiceStartTime\": 12909601.0, \"DepartureTime\": 12920041.0}, {\"NodeId\": \"INTERCONSULTA\", \"ArrivalTime\": 12920041.0, \"ServiceStartTime\": 12920041.0, \"DepartureTime\": 12921361.0}, {\"NodeId\": \"RESPUESTA\", \"ArrivalTime\": 12921361.0, \"ServiceStartTime\": 12921361.0, \"DepartureTime\": 12931141.0}, {\"NodeId\": \"ALTA\", \"ArrivalTime\": 12931141.0, \"ServiceStartTime\": 12931141.0, \"DepartureTime\": 12931141.0}]}, {\"Priority\": 1, \"Step\": [{\"NodeId\": \"ADMISION\", \"ArrivalTime\": 12868321.0, \"ServiceStartTime\": 12868321.0, \"DepartureTime\": 12868741.0}, {\"NodeId\": \"TRIAJE\", \"ArrivalTime\": 12868741.0, \"ServiceStartTime\": 12868741.0, \"DepartureTime\": 12870541.0}, {\"NodeId\": \"RX SOLICITUD\", \"ArrivalTime\": 12878701.0, \"ServiceStartTime\": 12878701.0, \"DepartureTime\": 12883291.0}, {\"NodeId\": \"RX EXPLORACION\", \"ArrivalTime\": 12883291.0, \"ServiceStartTime\": 12883291.0, \"DepartureTime\": 12886111.0}, {\"NodeId\": \"RX INFORME\", \"ArrivalTime\": 12887881.0, \"ServiceStartTime\": 12887881.0, \"DepartureTime\": 12905401.0}, {\"NodeId\": \"INTERCONSULTA\", \"ArrivalTime\": 12898501.0, \"ServiceStartTime\": 12898501.0, \"DepartureTime\": 12902041.0}, {\"NodeId\": \"RESPUESTA\", \"ArrivalTime\": 12923941.0, \"ServiceStartTime\": 12923941.0, \"DepartureTime\": 12942721.0}, {\"NodeId\": \"ALTA\", \"ArrivalTime\": 12942721.0, \"ServiceStartTime\": 12942721.0, \"DepartureTime\": 12942721.0}]}, {\"Priority\": 1, \"Step\": [{\"NodeId\": \"ADMISION\", \"ArrivalTime\": 12926791.0, \"ServiceStartTime\": 12926791.0, \"DepartureTime\": 12927301.0}, {\"NodeId\": \"TRIAJE\", \"ArrivalTime\": 12927301.0, \"ServiceStartTime\": 12927301.0, \"DepartureTime\": 13042831.0}, {\"NodeId\": \"INTERCONSULTA\", \"ArrivalTime\": 13042831.0, \"ServiceStartTime\": 13042831.0, \"DepartureTime\": 13047871.0}, {\"NodeId\": \"RX SOLICITUD\", \"ArrivalTime\": 13047871.0, \"ServiceStartTime\": 13047871.0, \"DepartureTime\": 13050691.0}, {\"NodeId\": \"RX EXPLORACION\", \"ArrivalTime\": 13050691.0, \"ServiceStartTime\": 13050691.0, \"DepartureTime\": 13054291.0}, {\"NodeId\": \"RESPUESTA\", \"ArrivalTime\": 13054291.0, \"ServiceStartTime\": 13054291.0, \"DepartureTime\": 13055191.0}, {\"NodeId\": \"RX INFORME\", \"ArrivalTime\": 13055191.0, \"ServiceStartTime\": 13055191.0, \"DepartureTime\": 13104631.0}, {\"NodeId\": \"ALTA\", \"ArrivalTime\": 13104631.0, \"ServiceStartTime\": 13104631.0, \"DepartureTime\": 13104631.0}]}, {\"Priority\": 1, \"Step\": [{\"NodeId\": \"ADMISION\", \"ArrivalTime\": 12925681.0, \"ServiceStartTime\": 12925681.0, \"DepartureTime\": 12926101.0}, {\"NodeId\": \"TRIAJE\", \"ArrivalTime\": 12926101.0, \"ServiceStartTime\": 12926101.0, \"DepartureTime\": 12932881.0}, {\"NodeId\": \"RX SOLICITUD\", \"ArrivalTime\": 12956041.0, \"ServiceStartTime\": 12956041.0, \"DepartureTime\": 12959721.0}, {\"NodeId\": \"RX EXPLORACION\", \"ArrivalTime\": 12959721.0, \"ServiceStartTime\": 12959721.0, \"DepartureTime\": 12976981.0}, {\"NodeId\": \"INTERCONSULTA\", \"ArrivalTime\": 12995701.0, \"ServiceStartTime\": 12995701.0, \"DepartureTime\": 12997801.0}, {\"NodeId\": \"RX INFORME\", \"ArrivalTime\": 12997801.0, \"ServiceStartTime\": 12997801.0, \"DepartureTime\": 13002901.0}, {\"NodeId\": \"RESPUESTA\", \"ArrivalTime\": 13002901.0, \"ServiceStartTime\": 13002901.0, \"DepartureTime\": 13025881.0}, {\"NodeId\": \"ALTA\", \"ArrivalTime\": 13025881.0, \"ServiceStartTime\": 13025881.0, \"DepartureTime\": 13025881.0}]}, {\"Priority\": 1, \"Step\": [{\"NodeId\": \"ADMISION\", \"ArrivalTime\": 13095481.0, \"ServiceStartTime\": 13095481.0, \"DepartureTime\": 13096351.0}, {\"NodeId\": \"TRIAJE\", \"ArrivalTime\": 13096351.0, \"ServiceStartTime\": 13096351.0, \"DepartureTime\": 13098811.0}, {\"NodeId\": \"RX SOLICITUD\", \"ArrivalTime\": 13121471.0, \"ServiceStartTime\": 13121471.0, \"DepartureTime\": 13126261.0}, {\"NodeId\": \"RX EXPLORACION\", \"ArrivalTime\": 13125263.5, \"ServiceStartTime\": 13125263.5, \"DepartureTime\": 13136273.5}, {\"NodeId\": \"RX INFORME\", \"ArrivalTime\": 13139746.0, \"ServiceStartTime\": 13139746.0, \"DepartureTime\": 13149661.0}, {\"NodeId\": \"ALTA\", \"ArrivalTime\": 13177051.0, \"ServiceStartTime\": 13177051.0, \"DepartureTime\": 13177051.0}]}, {\"Priority\": 1, \"Step\": [{\"NodeId\": \"ADMISION\", \"ArrivalTime\": 13040077.0, \"ServiceStartTime\": 13040077.0, \"DepartureTime\": 13040773.0}, {\"NodeId\": \"TRIAJE\", \"ArrivalTime\": 13040773.0, \"ServiceStartTime\": 13040773.0, \"DepartureTime\": 13057027.0}, {\"NodeId\": \"INTERCONSULTA\", \"ArrivalTime\": 13057027.0, \"ServiceStartTime\": 13057027.0, \"DepartureTime\": 13073395.0}, {\"NodeId\": \"RESPUESTA\", \"ArrivalTime\": 13073395.0, \"ServiceStartTime\": 13073395.0, \"DepartureTime\": 13087453.0}, {\"NodeId\": \"RX SOLICITUD\", \"ArrivalTime\": 13087453.0, \"ServiceStartTime\": 13087453.0, \"DepartureTime\": 13090873.0}, {\"NodeId\": \"RX EXPLORACION\", \"ArrivalTime\": 13090873.0, \"ServiceStartTime\": 13090873.0, \"DepartureTime\": 13093501.0}, {\"NodeId\": \"RX INFORME\", \"ArrivalTime\": 13093501.0, \"ServiceStartTime\": 13093501.0, \"DepartureTime\": 13133959.0}, {\"NodeId\": \"ALTA\", \"ArrivalTime\": 13133959.0, \"ServiceStartTime\": 13133959.0, \"DepartureTime\": 13133959.0}]}, {\"Priority\": 1, \"Step\": [{\"NodeId\": \"ADMISION\", \"ArrivalTime\": 13059911.0, \"ServiceStartTime\": 13059911.0, \"DepartureTime\": 13060596.0}, {\"NodeId\": \"TRIAJE\", \"ArrivalTime\": 13060596.0, \"ServiceStartTime\": 13060596.0, \"DepartureTime\": 13063736.0}, {\"NodeId\": \"RX INFORME\", \"ArrivalTime\": 13069596.0, \"ServiceStartTime\": 13069596.0, \"DepartureTime\": 13070201.0}, {\"NodeId\": \"RX SOLICITUD\", \"ArrivalTime\": 13076116.0, \"ServiceStartTime\": 13076116.0, \"DepartureTime\": 13079966.0}, {\"NodeId\": \"RX EXPLORACION\", \"ArrivalTime\": 13076711.0, \"ServiceStartTime\": 13076711.0, \"DepartureTime\": 13092851.0}, {\"NodeId\": \"ALTA\", \"ArrivalTime\": 13120461.0, \"ServiceStartTime\": 13120461.0, \"DepartureTime\": 13120461.0}]}, {\"Priority\": 1, \"Step\": [{\"NodeId\": \"ADMISION\", \"ArrivalTime\": 13024321.0, \"ServiceStartTime\": 13024321.0, \"DepartureTime\": 13025041.0}, {\"NodeId\": \"TRIAJE\", \"ArrivalTime\": 13025041.0, \"ServiceStartTime\": 13025041.0, \"DepartureTime\": 13035361.0}, {\"NodeId\": \"RX SOLICITUD\", \"ArrivalTime\": 13063861.0, \"ServiceStartTime\": 13063861.0, \"DepartureTime\": 13079761.0}, {\"NodeId\": \"RX EXPLORACION\", \"ArrivalTime\": 13079761.0, \"ServiceStartTime\": 13079761.0, \"DepartureTime\": 13083981.0}, {\"NodeId\": \"RX INFORME\", \"ArrivalTime\": 13090741.0, \"ServiceStartTime\": 13090741.0, \"DepartureTime\": 13091881.0}, {\"NodeId\": \"INTERCONSULTA\", \"ArrivalTime\": 13103491.0, \"ServiceStartTime\": 13103491.0, \"DepartureTime\": 13114081.0}, {\"NodeId\": \"ALTA\", \"ArrivalTime\": 13118041.0, \"ServiceStartTime\": 13118041.0, \"DepartureTime\": 13118041.0}]}, {\"Priority\": 1, \"Step\": [{\"NodeId\": \"ADMISION\", \"ArrivalTime\": 13100469.888888888, \"ServiceStartTime\": 13100469.888888888, \"DepartureTime\": 13101198.777777778}, {\"NodeId\": \"TRIAJE\", \"ArrivalTime\": 13101198.777777778, \"ServiceStartTime\": 13101198.777777778, \"DepartureTime\": 13105749.888888888}, {\"NodeId\": \"RX EXPLORACION\", \"ArrivalTime\": 13108529.888888888, \"ServiceStartTime\": 13108529.888888888, \"DepartureTime\": 13121602.111111112}, {\"NodeId\": \"RX SOLICITUD\", \"ArrivalTime\": 13113676.0, \"ServiceStartTime\": 13113676.0, \"DepartureTime\": 13117982.111111112}, {\"NodeId\": \"RX INFORME\", \"ArrivalTime\": 13127434.333333334, \"ServiceStartTime\": 13127434.333333334, \"DepartureTime\": 13152318.777777778}, {\"NodeId\": \"ALTA\", \"ArrivalTime\": 13152318.777777778, \"ServiceStartTime\": 13152318.777777778, \"DepartureTime\": 13152318.777777778}]}, {\"Priority\": 1, \"Step\": [{\"NodeId\": \"ADMISION\", \"ArrivalTime\": 13179301.0, \"ServiceStartTime\": 13179301.0, \"DepartureTime\": 13179954.333333334}, {\"NodeId\": \"TRIAJE\", \"ArrivalTime\": 13179954.333333334, \"ServiceStartTime\": 13179954.333333334, \"DepartureTime\": 13182817.666666666}, {\"NodeId\": \"RX SOLICITUD\", \"ArrivalTime\": 13182817.666666666, \"ServiceStartTime\": 13182817.666666666, \"DepartureTime\": 13187987.666666666}, {\"NodeId\": \"RX EXPLORACION\", \"ArrivalTime\": 13188532.666666666, \"ServiceStartTime\": 13188532.666666666, \"DepartureTime\": 13199184.333333334}, {\"NodeId\": \"RX INFORME\", \"ArrivalTime\": 13188521.0, \"ServiceStartTime\": 13188521.0, \"DepartureTime\": 13189077.666666666}, {\"NodeId\": \"INTERCONSULTA\", \"ArrivalTime\": 13209847.666666666, \"ServiceStartTime\": 13209847.666666666, \"DepartureTime\": 13226791.0}, {\"NodeId\": \"RESPUESTA\", \"ArrivalTime\": 13226791.0, \"ServiceStartTime\": 13226791.0, \"DepartureTime\": 13250867.666666666}, {\"NodeId\": \"ALTA\", \"ArrivalTime\": 13250867.666666666, \"ServiceStartTime\": 13250867.666666666, \"DepartureTime\": 13250867.666666666}]}, {\"Priority\": 1, \"Step\": [{\"NodeId\": \"ADMISION\", \"ArrivalTime\": 13253911.0, \"ServiceStartTime\": 13253911.0, \"DepartureTime\": 13254451.0}, {\"NodeId\": \"TRIAJE\", \"ArrivalTime\": 13254451.0, \"ServiceStartTime\": 13254451.0, \"DepartureTime\": 13259536.0}, {\"NodeId\": \"RX SOLICITUD\", \"ArrivalTime\": 13272841.0, \"ServiceStartTime\": 13272841.0, \"DepartureTime\": 13275616.0}, {\"NodeId\": \"INTERCONSULTA\", \"ArrivalTime\": 13271971.0, \"ServiceStartTime\": 13271971.0, \"DepartureTime\": 13286146.0}, {\"NodeId\": \"RX EXPLORACION\", \"ArrivalTime\": 13275616.0, \"ServiceStartTime\": 13275616.0, \"DepartureTime\": 13280708.5}, {\"NodeId\": \"RESPUESTA\", \"ArrivalTime\": 13289446.0, \"ServiceStartTime\": 13289446.0, \"DepartureTime\": 13300126.0}, {\"NodeId\": \"RX INFORME\", \"ArrivalTime\": 13300126.0, \"ServiceStartTime\": 13300126.0, \"DepartureTime\": 13317691.0}, {\"NodeId\": \"ALTA\", \"ArrivalTime\": 13317691.0, \"ServiceStartTime\": 13317691.0, \"DepartureTime\": 13317691.0}]}, {\"Priority\": 1, \"Step\": [{\"NodeId\": \"ADMISION\", \"ArrivalTime\": 13364101.0, \"ServiceStartTime\": 13364101.0, \"DepartureTime\": 13364791.0}, {\"NodeId\": \"TRIAJE\", \"ArrivalTime\": 13364791.0, \"ServiceStartTime\": 13364791.0, \"DepartureTime\": 13467001.0}, {\"NodeId\": \"INTERCONSULTA\", \"ArrivalTime\": 13467001.0, \"ServiceStartTime\": 13467001.0, \"DepartureTime\": 13468321.0}, {\"NodeId\": \"RESPUESTA\", \"ArrivalTime\": 13478161.0, \"ServiceStartTime\": 13478161.0, \"DepartureTime\": 13518001.0}, {\"NodeId\": \"RX SOLICITUD\", \"ArrivalTime\": 13493161.0, \"ServiceStartTime\": 13493161.0, \"DepartureTime\": 13500271.0}, {\"NodeId\": \"RX EXPLORACION\", \"ArrivalTime\": 13522381.0, \"ServiceStartTime\": 13522381.0, \"DepartureTime\": 13542271.0}, {\"NodeId\": \"ALTA\", \"ArrivalTime\": 13542271.0, \"ServiceStartTime\": 13542271.0, \"DepartureTime\": 13542271.0}]}, {\"Priority\": 1, \"Step\": [{\"NodeId\": \"ADMISION\", \"ArrivalTime\": 13344661.0, \"ServiceStartTime\": 13344661.0, \"DepartureTime\": 13345081.0}, {\"NodeId\": \"TRIAJE\", \"ArrivalTime\": 13345081.0, \"ServiceStartTime\": 13345081.0, \"DepartureTime\": 13346701.0}, {\"NodeId\": \"RX SOLICITUD\", \"ArrivalTime\": 13392001.0, \"ServiceStartTime\": 13392001.0, \"DepartureTime\": 13408231.0}, {\"NodeId\": \"RX EXPLORACION\", \"ArrivalTime\": 13408231.0, \"ServiceStartTime\": 13408231.0, \"DepartureTime\": 13410931.0}, {\"NodeId\": \"RX INFORME\", \"ArrivalTime\": 13410931.0, \"ServiceStartTime\": 13410931.0, \"DepartureTime\": 13444171.0}, {\"NodeId\": \"INTERCONSULTA\", \"ArrivalTime\": 13444171.0, \"ServiceStartTime\": 13444171.0, \"DepartureTime\": 13480981.0}, {\"NodeId\": \"RESPUESTA\", \"ArrivalTime\": 13480981.0, \"ServiceStartTime\": 13480981.0, \"DepartureTime\": 13489381.0}, {\"NodeId\": \"ALTA\", \"ArrivalTime\": 13541461.0, \"ServiceStartTime\": 13541461.0, \"DepartureTime\": 13541461.0}]}, {\"Priority\": 1, \"Step\": [{\"NodeId\": \"ADMISION\", \"ArrivalTime\": 13379341.0, \"ServiceStartTime\": 13379341.0, \"DepartureTime\": 13379983.857142856}, {\"NodeId\": \"TRIAJE\", \"ArrivalTime\": 13379983.857142856, \"ServiceStartTime\": 13379983.857142856, \"DepartureTime\": 13383369.57142857}, {\"NodeId\": \"RX SOLICITUD\", \"ArrivalTime\": 13396925.285714285, \"ServiceStartTime\": 13396925.285714285, \"DepartureTime\": 13400139.57142857}, {\"NodeId\": \"INTERCONSULTA\", \"ArrivalTime\": 13404223.857142856, \"ServiceStartTime\": 13404223.857142856, \"DepartureTime\": 13410481.0}, {\"NodeId\": \"RX EXPLORACION\", \"ArrivalTime\": 13400139.57142857, \"ServiceStartTime\": 13400139.57142857, \"DepartureTime\": 13409936.714285715}, {\"NodeId\": \"RX INFORME\", \"ArrivalTime\": 13415649.57142857, \"ServiceStartTime\": 13415649.57142857, \"DepartureTime\": 13420861.0}, {\"NodeId\": \"RESPUESTA\", \"ArrivalTime\": 13420861.0, \"ServiceStartTime\": 13420861.0, \"DepartureTime\": 13433101.0}, {\"NodeId\": \"ALTA\", \"ArrivalTime\": 13433101.0, \"ServiceStartTime\": 13433101.0, \"DepartureTime\": 13433101.0}]}, {\"Priority\": 1, \"Step\": [{\"NodeId\": \"ADMISION\", \"ArrivalTime\": 13406381.0, \"ServiceStartTime\": 13406381.0, \"DepartureTime\": 13407021.0}, {\"NodeId\": \"TRIAJE\", \"ArrivalTime\": 13407021.0, \"ServiceStartTime\": 13407021.0, \"DepartureTime\": 13408661.0}, {\"NodeId\": \"RX SOLICITUD\", \"ArrivalTime\": 13415107.666666666, \"ServiceStartTime\": 13415107.666666666, \"DepartureTime\": 13417881.0}, {\"NodeId\": \"RX EXPLORACION\", \"ArrivalTime\": 13418611.0, \"ServiceStartTime\": 13418611.0, \"DepartureTime\": 13421371.0}, {\"NodeId\": \"RX INFORME\", \"ArrivalTime\": 13422461.0, \"ServiceStartTime\": 13422461.0, \"DepartureTime\": 13430081.0}, {\"NodeId\": \"ALTA\", \"ArrivalTime\": 13437741.0, \"ServiceStartTime\": 13437741.0, \"DepartureTime\": 13437741.0}]}, {\"Priority\": 1, \"Step\": [{\"NodeId\": \"ADMISION\", \"ArrivalTime\": 13433941.0, \"ServiceStartTime\": 13433941.0, \"DepartureTime\": 13434841.0}, {\"NodeId\": \"TRIAJE\", \"ArrivalTime\": 13434841.0, \"ServiceStartTime\": 13434841.0, \"DepartureTime\": 13438321.0}, {\"NodeId\": \"RX SOLICITUD\", \"ArrivalTime\": 13465681.0, \"ServiceStartTime\": 13465681.0, \"DepartureTime\": 13470721.0}, {\"NodeId\": \"RX EXPLORACION\", \"ArrivalTime\": 13478181.0, \"ServiceStartTime\": 13478181.0, \"DepartureTime\": 13483361.0}, {\"NodeId\": \"RX INFORME\", \"ArrivalTime\": 13483361.0, \"ServiceStartTime\": 13483361.0, \"DepartureTime\": 13536201.0}, {\"NodeId\": \"INTERCONSULTA\", \"ArrivalTime\": 13471801.0, \"ServiceStartTime\": 13471801.0, \"DepartureTime\": 13515841.0}, {\"NodeId\": \"RESPUESTA\", \"ArrivalTime\": 13526761.0, \"ServiceStartTime\": 13526761.0, \"DepartureTime\": 13549141.0}, {\"NodeId\": \"ALTA\", \"ArrivalTime\": 13693921.0, \"ServiceStartTime\": 13693921.0, \"DepartureTime\": 13693921.0}]}, {\"Priority\": 1, \"Step\": [{\"NodeId\": \"ADMISION\", \"ArrivalTime\": 13516936.0, \"ServiceStartTime\": 13516936.0, \"DepartureTime\": 13517761.0}, {\"NodeId\": \"TRIAJE\", \"ArrivalTime\": 13517761.0, \"ServiceStartTime\": 13517761.0, \"DepartureTime\": 13522396.0}, {\"NodeId\": \"RX SOLICITUD\", \"ArrivalTime\": 13542623.5, \"ServiceStartTime\": 13542623.5, \"DepartureTime\": 13546133.5}, {\"NodeId\": \"INTERCONSULTA\", \"ArrivalTime\": 13549246.0, \"ServiceStartTime\": 13549246.0, \"DepartureTime\": 13562851.0}, {\"NodeId\": \"RX EXPLORACION\", \"ArrivalTime\": 13546133.5, \"ServiceStartTime\": 13546133.5, \"DepartureTime\": 13573186.0}, {\"NodeId\": \"ALTA\", \"ArrivalTime\": 13597126.0, \"ServiceStartTime\": 13597126.0, \"DepartureTime\": 13597126.0}]}, {\"Priority\": 1, \"Step\": [{\"NodeId\": \"ADMISION\", \"ArrivalTime\": 13509361.0, \"ServiceStartTime\": 13509361.0, \"DepartureTime\": 13510741.0}, {\"NodeId\": \"TRIAJE\", \"ArrivalTime\": 13510741.0, \"ServiceStartTime\": 13510741.0, \"DepartureTime\": 13513801.0}, {\"NodeId\": \"RX SOLICITUD\", \"ArrivalTime\": 13571431.0, \"ServiceStartTime\": 13571431.0, \"DepartureTime\": 13576861.0}, {\"NodeId\": \"RX EXPLORACION\", \"ArrivalTime\": 13576921.0, \"ServiceStartTime\": 13576921.0, \"DepartureTime\": 13603531.0}, {\"NodeId\": \"RX INFORME\", \"ArrivalTime\": 13584481.0, \"ServiceStartTime\": 13584481.0, \"DepartureTime\": 13586131.0}, {\"NodeId\": \"INTERCONSULTA\", \"ArrivalTime\": 13645261.0, \"ServiceStartTime\": 13645261.0, \"DepartureTime\": 13681501.0}, {\"NodeId\": \"RESPUESTA\", \"ArrivalTime\": 13681501.0, \"ServiceStartTime\": 13681501.0, \"DepartureTime\": 13698061.0}, {\"NodeId\": \"ALTA\", \"ArrivalTime\": 13698061.0, \"ServiceStartTime\": 13698061.0, \"DepartureTime\": 13698061.0}]}, {\"Priority\": 1, \"Step\": [{\"NodeId\": \"ADMISION\", \"ArrivalTime\": 13511401.0, \"ServiceStartTime\": 13511401.0, \"DepartureTime\": 13512001.0}, {\"NodeId\": \"TRIAJE\", \"ArrivalTime\": 13512001.0, \"ServiceStartTime\": 13512001.0, \"DepartureTime\": 13522561.0}, {\"NodeId\": \"INTERCONSULTA\", \"ArrivalTime\": 13522561.0, \"ServiceStartTime\": 13522561.0, \"DepartureTime\": 13530361.0}, {\"NodeId\": \"RESPUESTA\", \"ArrivalTime\": 13530361.0, \"ServiceStartTime\": 13530361.0, \"DepartureTime\": 13543081.0}, {\"NodeId\": \"RX SOLICITUD\", \"ArrivalTime\": 13544071.0, \"ServiceStartTime\": 13544071.0, \"DepartureTime\": 13545121.0}, {\"NodeId\": \"RX EXPLORACION\", \"ArrivalTime\": 13545121.0, \"ServiceStartTime\": 13545121.0, \"DepartureTime\": 13547101.0}, {\"NodeId\": \"RX INFORME\", \"ArrivalTime\": 13549141.0, \"ServiceStartTime\": 13549141.0, \"DepartureTime\": 13560361.0}, {\"NodeId\": \"ALTA\", \"ArrivalTime\": 13560361.0, \"ServiceStartTime\": 13560361.0, \"DepartureTime\": 13560361.0}]}, {\"Priority\": 1, \"Step\": [{\"NodeId\": \"ADMISION\", \"ArrivalTime\": 13618519.75, \"ServiceStartTime\": 13618519.75, \"DepartureTime\": 13619232.25}, {\"NodeId\": \"TRIAJE\", \"ArrivalTime\": 13619232.25, \"ServiceStartTime\": 13619232.25, \"DepartureTime\": 13624021.0}, {\"NodeId\": \"RX EXPLORACION\", \"ArrivalTime\": 13637311.0, \"ServiceStartTime\": 13637311.0, \"DepartureTime\": 13648817.875}, {\"NodeId\": \"RX SOLICITUD\", \"ArrivalTime\": 13643631.0, \"ServiceStartTime\": 13643631.0, \"DepartureTime\": 13655796.0}, {\"NodeId\": \"RX INFORME\", \"ArrivalTime\": 13655337.25, \"ServiceStartTime\": 13655337.25, \"DepartureTime\": 13664573.5}, {\"NodeId\": \"ALTA\", \"ArrivalTime\": 13692766.0, \"ServiceStartTime\": 13692766.0, \"DepartureTime\": 13692766.0}]}, {\"Priority\": 1, \"Step\": [{\"NodeId\": \"ADMISION\", \"ArrivalTime\": 13620703.857142856, \"ServiceStartTime\": 13620703.857142856, \"DepartureTime\": 13621226.714285715}, {\"NodeId\": \"TRIAJE\", \"ArrivalTime\": 13621226.714285715, \"ServiceStartTime\": 13621226.714285715, \"DepartureTime\": 13628366.714285715}, {\"NodeId\": \"RX SOLICITUD\", \"ArrivalTime\": 13628366.714285715, \"ServiceStartTime\": 13628366.714285715, \"DepartureTime\": 13637186.714285715}, {\"NodeId\": \"RX EXPLORACION\", \"ArrivalTime\": 13637186.714285715, \"ServiceStartTime\": 13637186.714285715, \"DepartureTime\": 13681055.285714285}, {\"NodeId\": \"INTERCONSULTA\", \"ArrivalTime\": 13681055.285714285, \"ServiceStartTime\": 13681055.285714285, \"DepartureTime\": 13687406.714285715}, {\"NodeId\": \"RESPUESTA\", \"ArrivalTime\": 13687406.714285715, \"ServiceStartTime\": 13687406.714285715, \"DepartureTime\": 13701463.857142856}, {\"NodeId\": \"RX INFORME\", \"ArrivalTime\": 13701463.857142856, \"ServiceStartTime\": 13701463.857142856, \"DepartureTime\": 13728121.0}, {\"NodeId\": \"ALTA\", \"ArrivalTime\": 13728121.0, \"ServiceStartTime\": 13728121.0, \"DepartureTime\": 13728121.0}]}, {\"Priority\": 1, \"Step\": [{\"NodeId\": \"ADMISION\", \"ArrivalTime\": 13668841.0, \"ServiceStartTime\": 13668841.0, \"DepartureTime\": 13669321.0}, {\"NodeId\": \"TRIAJE\", \"ArrivalTime\": 13669321.0, \"ServiceStartTime\": 13669321.0, \"DepartureTime\": 13670101.0}, {\"NodeId\": \"INTERCONSULTA\", \"ArrivalTime\": 13673221.0, \"ServiceStartTime\": 13673221.0, \"DepartureTime\": 13673761.0}, {\"NodeId\": \"RX EXPLORACION\", \"ArrivalTime\": 13673761.0, \"ServiceStartTime\": 13673761.0, \"DepartureTime\": 13702261.0}, {\"NodeId\": \"RX SOLICITUD\", \"ArrivalTime\": 13688521.0, \"ServiceStartTime\": 13688521.0, \"DepartureTime\": 13695631.0}, {\"NodeId\": \"RESPUESTA\", \"ArrivalTime\": 13702261.0, \"ServiceStartTime\": 13702261.0, \"DepartureTime\": 13706941.0}, {\"NodeId\": \"ALTA\", \"ArrivalTime\": 13718041.0, \"ServiceStartTime\": 13718041.0, \"DepartureTime\": 13718041.0}]}, {\"Priority\": 1, \"Step\": [{\"NodeId\": \"ADMISION\", \"ArrivalTime\": 13692361.0, \"ServiceStartTime\": 13692361.0, \"DepartureTime\": 13692841.0}, {\"NodeId\": \"TRIAJE\", \"ArrivalTime\": 13692841.0, \"ServiceStartTime\": 13692841.0, \"DepartureTime\": 13694641.0}, {\"NodeId\": \"RX SOLICITUD\", \"ArrivalTime\": 13805737.0, \"ServiceStartTime\": 13805737.0, \"DepartureTime\": 13811641.0}, {\"NodeId\": \"RX INFORME\", \"ArrivalTime\": 13763851.0, \"ServiceStartTime\": 13763851.0, \"DepartureTime\": 13828471.0}, {\"NodeId\": \"RX EXPLORACION\", \"ArrivalTime\": 13811641.0, \"ServiceStartTime\": 13811641.0, \"DepartureTime\": 13852369.0}, {\"NodeId\": \"ALTA\", \"ArrivalTime\": 14057041.0, \"ServiceStartTime\": 14057041.0, \"DepartureTime\": 14057041.0}]}, {\"Priority\": 1, \"Step\": [{\"NodeId\": \"ADMISION\", \"ArrivalTime\": 13781731.0, \"ServiceStartTime\": 13781731.0, \"DepartureTime\": 13782421.0}, {\"NodeId\": \"TRIAJE\", \"ArrivalTime\": 13782421.0, \"ServiceStartTime\": 13782421.0, \"DepartureTime\": 13787971.0}, {\"NodeId\": \"RX SOLICITUD\", \"ArrivalTime\": 13818251.0, \"ServiceStartTime\": 13818251.0, \"DepartureTime\": 13822611.0}, {\"NodeId\": \"RX EXPLORACION\", \"ArrivalTime\": 13822611.0, \"ServiceStartTime\": 13822611.0, \"DepartureTime\": 13870151.0}, {\"NodeId\": \"RX INFORME\", \"ArrivalTime\": 13811491.0, \"ServiceStartTime\": 13811491.0, \"DepartureTime\": 13816351.0}, {\"NodeId\": \"INTERCONSULTA\", \"ArrivalTime\": 13816351.0, \"ServiceStartTime\": 13816351.0, \"DepartureTime\": 13867441.0}, {\"NodeId\": \"RESPUESTA\", \"ArrivalTime\": 13999621.0, \"ServiceStartTime\": 13999621.0, \"DepartureTime\": 14011861.0}, {\"NodeId\": \"ALTA\", \"ArrivalTime\": 14011861.0, \"ServiceStartTime\": 14011861.0, \"DepartureTime\": 14011861.0}]}, {\"Priority\": 1, \"Step\": [{\"NodeId\": \"ADMISION\", \"ArrivalTime\": 13773721.0, \"ServiceStartTime\": 13773721.0, \"DepartureTime\": 13774261.0}, {\"NodeId\": \"TRIAJE\", \"ArrivalTime\": 13774261.0, \"ServiceStartTime\": 13774261.0, \"DepartureTime\": 13787041.0}, {\"NodeId\": \"INTERCONSULTA\", \"ArrivalTime\": 13787041.0, \"ServiceStartTime\": 13787041.0, \"DepartureTime\": 13802521.0}, {\"NodeId\": \"RX SOLICITUD\", \"ArrivalTime\": 13807591.0, \"ServiceStartTime\": 13807591.0, \"DepartureTime\": 13809121.0}, {\"NodeId\": \"RX EXPLORACION\", \"ArrivalTime\": 13809121.0, \"ServiceStartTime\": 13809121.0, \"DepartureTime\": 13813891.0}, {\"NodeId\": \"RX INFORME\", \"ArrivalTime\": 13815121.0, \"ServiceStartTime\": 13815121.0, \"DepartureTime\": 13824841.0}, {\"NodeId\": \"ALTA\", \"ArrivalTime\": 13824841.0, \"ServiceStartTime\": 13824841.0, \"DepartureTime\": 13824841.0}]}, {\"Priority\": 1, \"Step\": [{\"NodeId\": \"ADMISION\", \"ArrivalTime\": 13795765.0, \"ServiceStartTime\": 13795765.0, \"DepartureTime\": 13796629.0}, {\"NodeId\": \"TRIAJE\", \"ArrivalTime\": 13796629.0, \"ServiceStartTime\": 13796629.0, \"DepartureTime\": 13799833.0}, {\"NodeId\": \"RX SOLICITUD\", \"ArrivalTime\": 13818886.0, \"ServiceStartTime\": 13818886.0, \"DepartureTime\": 13820908.0}, {\"NodeId\": \"RX EXPLORACION\", \"ArrivalTime\": 13820908.0, \"ServiceStartTime\": 13820908.0, \"DepartureTime\": 13834877.5}, {\"NodeId\": \"ALTA\", \"ArrivalTime\": 13863799.0, \"ServiceStartTime\": 13863799.0, \"DepartureTime\": 13863799.0}]}, {\"Priority\": 1, \"Step\": [{\"NodeId\": \"ADMISION\", \"ArrivalTime\": 13906621.0, \"ServiceStartTime\": 13906621.0, \"DepartureTime\": 13907521.0}, {\"NodeId\": \"TRIAJE\", \"ArrivalTime\": 13907521.0, \"ServiceStartTime\": 13907521.0, \"DepartureTime\": 13910881.0}, {\"NodeId\": \"RX SOLICITUD\", \"ArrivalTime\": 13956261.0, \"ServiceStartTime\": 13956261.0, \"DepartureTime\": 13960801.0}, {\"NodeId\": \"RX EXPLORACION\", \"ArrivalTime\": 13961581.0, \"ServiceStartTime\": 13961581.0, \"DepartureTime\": 13971441.0}, {\"NodeId\": \"INTERCONSULTA\", \"ArrivalTime\": 14040541.0, \"ServiceStartTime\": 14040541.0, \"DepartureTime\": 14042881.0}, {\"NodeId\": \"RX INFORME\", \"ArrivalTime\": 13994941.0, \"ServiceStartTime\": 13994941.0, \"DepartureTime\": 14043601.0}, {\"NodeId\": \"ALTA\", \"ArrivalTime\": 14053741.0, \"ServiceStartTime\": 14053741.0, \"DepartureTime\": 14053741.0}]}, {\"Priority\": 1, \"Step\": [{\"NodeId\": \"ADMISION\", \"ArrivalTime\": 13944488.5, \"ServiceStartTime\": 13944488.5, \"DepartureTime\": 13945238.5}, {\"NodeId\": \"TRIAJE\", \"ArrivalTime\": 13945238.5, \"ServiceStartTime\": 13945238.5, \"DepartureTime\": 13948718.5}, {\"NodeId\": \"RX SOLICITUD\", \"ArrivalTime\": 13988443.5, \"ServiceStartTime\": 13988443.5, \"DepartureTime\": 13991928.5}, {\"NodeId\": \"RX EXPLORACION\", \"ArrivalTime\": 13991928.5, \"ServiceStartTime\": 13991928.5, \"DepartureTime\": 13995176.0}, {\"NodeId\": \"RX INFORME\", \"ArrivalTime\": 13995176.0, \"ServiceStartTime\": 13995176.0, \"DepartureTime\": 14028208.5}, {\"NodeId\": \"ALTA\", \"ArrivalTime\": 14068013.5, \"ServiceStartTime\": 14068013.5, \"DepartureTime\": 14068013.5}]}, {\"Priority\": 1, \"Step\": [{\"NodeId\": \"ADMISION\", \"ArrivalTime\": 14089981.0, \"ServiceStartTime\": 14089981.0, \"DepartureTime\": 14090761.0}, {\"NodeId\": \"TRIAJE\", \"ArrivalTime\": 14090761.0, \"ServiceStartTime\": 14090761.0, \"DepartureTime\": 14100421.0}, {\"NodeId\": \"RX SOLICITUD\", \"ArrivalTime\": 14114596.0, \"ServiceStartTime\": 14114596.0, \"DepartureTime\": 14117821.0}, {\"NodeId\": \"RX EXPLORACION\", \"ArrivalTime\": 14117821.0, \"ServiceStartTime\": 14117821.0, \"DepartureTime\": 14121331.0}, {\"NodeId\": \"RX INFORME\", \"ArrivalTime\": 14124661.0, \"ServiceStartTime\": 14124661.0, \"DepartureTime\": 14125921.0}, {\"NodeId\": \"INTERCONSULTA\", \"ArrivalTime\": 14129881.0, \"ServiceStartTime\": 14129881.0, \"DepartureTime\": 14143261.0}, {\"NodeId\": \"ALTA\", \"ArrivalTime\": 14143261.0, \"ServiceStartTime\": 14143261.0, \"DepartureTime\": 14143261.0}]}, {\"Priority\": 1, \"Step\": [{\"NodeId\": \"ADMISION\", \"ArrivalTime\": 14203312.42857143, \"ServiceStartTime\": 14203312.42857143, \"DepartureTime\": 14204118.142857144}, {\"NodeId\": \"TRIAJE\", \"ArrivalTime\": 14204118.142857144, \"ServiceStartTime\": 14204118.142857144, \"DepartureTime\": 14213238.142857144}, {\"NodeId\": \"INTERCONSULTA\", \"ArrivalTime\": 14213238.142857144, \"ServiceStartTime\": 14213238.142857144, \"DepartureTime\": 14224578.142857144}, {\"NodeId\": \"RX SOLICITUD\", \"ArrivalTime\": 14224578.142857144, \"ServiceStartTime\": 14224578.142857144, \"DepartureTime\": 14227123.857142856}, {\"NodeId\": \"RX EXPLORACION\", \"ArrivalTime\": 14227123.857142856, \"ServiceStartTime\": 14227123.857142856, \"DepartureTime\": 14237221.0}, {\"NodeId\": \"ALTA\", \"ArrivalTime\": 14237221.0, \"ServiceStartTime\": 14237221.0, \"DepartureTime\": 14237221.0}]}, {\"Priority\": 1, \"Step\": [{\"NodeId\": \"ADMISION\", \"ArrivalTime\": 14203312.42857143, \"ServiceStartTime\": 14203312.42857143, \"DepartureTime\": 14204118.142857144}, {\"NodeId\": \"TRIAJE\", \"ArrivalTime\": 14204118.142857144, \"ServiceStartTime\": 14204118.142857144, \"DepartureTime\": 14213238.142857144}, {\"NodeId\": \"INTERCONSULTA\", \"ArrivalTime\": 14213238.142857144, \"ServiceStartTime\": 14213238.142857144, \"DepartureTime\": 14224578.142857144}, {\"NodeId\": \"RX SOLICITUD\", \"ArrivalTime\": 14224578.142857144, \"ServiceStartTime\": 14224578.142857144, \"DepartureTime\": 14227123.857142856}, {\"NodeId\": \"RX EXPLORACION\", \"ArrivalTime\": 14227123.857142856, \"ServiceStartTime\": 14227123.857142856, \"DepartureTime\": 14237221.0}, {\"NodeId\": \"ALTA\", \"ArrivalTime\": 14237221.0, \"ServiceStartTime\": 14237221.0, \"DepartureTime\": 14237221.0}]}, {\"Priority\": 1, \"Step\": [{\"NodeId\": \"ADMISION\", \"ArrivalTime\": 14230223.5, \"ServiceStartTime\": 14230223.5, \"DepartureTime\": 14231101.0}, {\"NodeId\": \"TRIAJE\", \"ArrivalTime\": 14231101.0, \"ServiceStartTime\": 14231101.0, \"DepartureTime\": 14236441.0}, {\"NodeId\": \"RX INFORME\", \"ArrivalTime\": 14241466.0, \"ServiceStartTime\": 14241466.0, \"DepartureTime\": 14251351.0}, {\"NodeId\": \"RX SOLICITUD\", \"ArrivalTime\": 14254143.5, \"ServiceStartTime\": 14254143.5, \"DepartureTime\": 14256951.0}, {\"NodeId\": \"RX EXPLORACION\", \"ArrivalTime\": 14256951.0, \"ServiceStartTime\": 14256951.0, \"DepartureTime\": 14269873.5}, {\"NodeId\": \"ALTA\", \"ArrivalTime\": 14293516.0, \"ServiceStartTime\": 14293516.0, \"DepartureTime\": 14293516.0}]}, {\"Priority\": 1, \"Step\": [{\"NodeId\": \"ADMISION\", \"ArrivalTime\": 14257801.0, \"ServiceStartTime\": 14257801.0, \"DepartureTime\": 14258161.0}, {\"NodeId\": \"TRIAJE\", \"ArrivalTime\": 14258161.0, \"ServiceStartTime\": 14258161.0, \"DepartureTime\": 14267761.0}, {\"NodeId\": \"RX SOLICITUD\", \"ArrivalTime\": 14279071.0, \"ServiceStartTime\": 14279071.0, \"DepartureTime\": 14280331.0}, {\"NodeId\": \"INTERCONSULTA\", \"ArrivalTime\": 14281321.0, \"ServiceStartTime\": 14281321.0, \"DepartureTime\": 14291011.0}, {\"NodeId\": \"RX EXPLORACION\", \"ArrivalTime\": 14285131.0, \"ServiceStartTime\": 14285131.0, \"DepartureTime\": 14288101.0}, {\"NodeId\": \"RESPUESTA\", \"ArrivalTime\": 14301281.0, \"ServiceStartTime\": 14301281.0, \"DepartureTime\": 14306321.0}, {\"NodeId\": \"RX INFORME\", \"ArrivalTime\": 14306941.0, \"ServiceStartTime\": 14306941.0, \"DepartureTime\": 14308141.0}, {\"NodeId\": \"ALTA\", \"ArrivalTime\": 14311921.0, \"ServiceStartTime\": 14311921.0, \"DepartureTime\": 14311921.0}]}, {\"Priority\": 1, \"Step\": [{\"NodeId\": \"ADMISION\", \"ArrivalTime\": 14263201.0, \"ServiceStartTime\": 14263201.0, \"DepartureTime\": 14263501.0}, {\"NodeId\": \"TRIAJE\", \"ArrivalTime\": 14263501.0, \"ServiceStartTime\": 14263501.0, \"DepartureTime\": 14267581.0}, {\"NodeId\": \"RX SOLICITUD\", \"ArrivalTime\": 14270791.0, \"ServiceStartTime\": 14270791.0, \"DepartureTime\": 14277511.0}, {\"NodeId\": \"RX EXPLORACION\", \"ArrivalTime\": 14277961.0, \"ServiceStartTime\": 14277961.0, \"DepartureTime\": 14279821.0}, {\"NodeId\": \"RX INFORME\", \"ArrivalTime\": 14284441.0, \"ServiceStartTime\": 14284441.0, \"DepartureTime\": 14285341.0}, {\"NodeId\": \"INTERCONSULTA\", \"ArrivalTime\": 14289121.0, \"ServiceStartTime\": 14289121.0, \"DepartureTime\": 14298391.0}, {\"NodeId\": \"RESPUESTA\", \"ArrivalTime\": 14292541.0, \"ServiceStartTime\": 14292541.0, \"DepartureTime\": 14292601.0}, {\"NodeId\": \"ALTA\", \"ArrivalTime\": 14304241.0, \"ServiceStartTime\": 14304241.0, \"DepartureTime\": 14304241.0}]}, {\"Priority\": 1, \"Step\": [{\"NodeId\": \"ADMISION\", \"ArrivalTime\": 14312791.0, \"ServiceStartTime\": 14312791.0, \"DepartureTime\": 14313121.0}, {\"NodeId\": \"TRIAJE\", \"ArrivalTime\": 14313121.0, \"ServiceStartTime\": 14313121.0, \"DepartureTime\": 14321371.0}, {\"NodeId\": \"RX SOLICITUD\", \"ArrivalTime\": 14343676.0, \"ServiceStartTime\": 14343676.0, \"DepartureTime\": 14347486.0}, {\"NodeId\": \"RX EXPLORACION\", \"ArrivalTime\": 14347486.0, \"ServiceStartTime\": 14347486.0, \"DepartureTime\": 14380456.0}, {\"NodeId\": \"INTERCONSULTA\", \"ArrivalTime\": 14428516.0, \"ServiceStartTime\": 14428516.0, \"DepartureTime\": 14451061.0}, {\"NodeId\": \"RESPUESTA\", \"ArrivalTime\": 14451061.0, \"ServiceStartTime\": 14451061.0, \"DepartureTime\": 14480026.0}, {\"NodeId\": \"ALTA\", \"ArrivalTime\": 14497951.0, \"ServiceStartTime\": 14497951.0, \"DepartureTime\": 14497951.0}]}, {\"Priority\": 1, \"Step\": [{\"NodeId\": \"ADMISION\", \"ArrivalTime\": 14299681.0, \"ServiceStartTime\": 14299681.0, \"DepartureTime\": 14302081.0}, {\"NodeId\": \"TRIAJE\", \"ArrivalTime\": 14302081.0, \"ServiceStartTime\": 14302081.0, \"DepartureTime\": 14307901.0}, {\"NodeId\": \"RX SOLICITUD\", \"ArrivalTime\": 14314726.0, \"ServiceStartTime\": 14314726.0, \"DepartureTime\": 14317471.0}, {\"NodeId\": \"RX EXPLORACION\", \"ArrivalTime\": 14318656.0, \"ServiceStartTime\": 14318656.0, \"DepartureTime\": 14324101.0}, {\"NodeId\": \"RX INFORME\", \"ArrivalTime\": 14321551.0, \"ServiceStartTime\": 14321551.0, \"DepartureTime\": 14321971.0}, {\"NodeId\": \"ALTA\", \"ArrivalTime\": 14341501.0, \"ServiceStartTime\": 14341501.0, \"DepartureTime\": 14341501.0}]}, {\"Priority\": 1, \"Step\": [{\"NodeId\": \"ADMISION\", \"ArrivalTime\": 14415361.0, \"ServiceStartTime\": 14415361.0, \"DepartureTime\": 14416261.0}, {\"NodeId\": \"TRIAJE\", \"ArrivalTime\": 14416261.0, \"ServiceStartTime\": 14416261.0, \"DepartureTime\": 14426425.0}, {\"NodeId\": \"INTERCONSULTA\", \"ArrivalTime\": 14426425.0, \"ServiceStartTime\": 14426425.0, \"DepartureTime\": 14433601.0}, {\"NodeId\": \"RX SOLICITUD\", \"ArrivalTime\": 14433601.0, \"ServiceStartTime\": 14433601.0, \"DepartureTime\": 14435221.0}, {\"NodeId\": \"RX EXPLORACION\", \"ArrivalTime\": 14435221.0, \"ServiceStartTime\": 14435221.0, \"DepartureTime\": 14441785.0}, {\"NodeId\": \"RESPUESTA\", \"ArrivalTime\": 14441785.0, \"ServiceStartTime\": 14441785.0, \"DepartureTime\": 14460565.0}, {\"NodeId\": \"ALTA\", \"ArrivalTime\": 14460565.0, \"ServiceStartTime\": 14460565.0, \"DepartureTime\": 14460565.0}]}, {\"Priority\": 1, \"Step\": [{\"NodeId\": \"ADMISION\", \"ArrivalTime\": 14436507.896551725, \"ServiceStartTime\": 14436507.896551725, \"DepartureTime\": 14437261.0}, {\"NodeId\": \"TRIAJE\", \"ArrivalTime\": 14437261.0, \"ServiceStartTime\": 14437261.0, \"DepartureTime\": 14440844.448275862}, {\"NodeId\": \"RX SOLICITUD\", \"ArrivalTime\": 14449139.965517242, \"ServiceStartTime\": 14449139.965517242, \"DepartureTime\": 14455384.103448275}, {\"NodeId\": \"RX EXPLORACION\", \"ArrivalTime\": 14455384.103448275, \"ServiceStartTime\": 14455384.103448275, \"DepartureTime\": 14463769.620689655}, {\"NodeId\": \"RX INFORME\", \"ArrivalTime\": 14470103.75862069, \"ServiceStartTime\": 14470103.75862069, \"DepartureTime\": 14495922.379310345}, {\"NodeId\": \"INTERCONSULTA\", \"ArrivalTime\": 14495922.379310345, \"ServiceStartTime\": 14495922.379310345, \"DepartureTime\": 14526288.586206896}, {\"NodeId\": \"ALTA\", \"ArrivalTime\": 14526288.586206896, \"ServiceStartTime\": 14526288.586206896, \"DepartureTime\": 14526288.586206896}]}, {\"Priority\": 1, \"Step\": [{\"NodeId\": \"ADMISION\", \"ArrivalTime\": 14485801.0, \"ServiceStartTime\": 14485801.0, \"DepartureTime\": 14486581.0}, {\"NodeId\": \"TRIAJE\", \"ArrivalTime\": 14486581.0, \"ServiceStartTime\": 14486581.0, \"DepartureTime\": 14489611.0}, {\"NodeId\": \"RX SOLICITUD\", \"ArrivalTime\": 14489611.0, \"ServiceStartTime\": 14489611.0, \"DepartureTime\": 14492461.0}, {\"NodeId\": \"RX EXPLORACION\", \"ArrivalTime\": 14492461.0, \"ServiceStartTime\": 14492461.0, \"DepartureTime\": 14517021.0}, {\"NodeId\": \"INTERCONSULTA\", \"ArrivalTime\": 14526356.0, \"ServiceStartTime\": 14526356.0, \"DepartureTime\": 14545796.0}, {\"NodeId\": \"RESPUESTA\", \"ArrivalTime\": 14521861.0, \"ServiceStartTime\": 14521861.0, \"DepartureTime\": 14535691.0}, {\"NodeId\": \"ALTA\", \"ArrivalTime\": 14569731.0, \"ServiceStartTime\": 14569731.0, \"DepartureTime\": 14569731.0}]}, {\"Priority\": 1, \"Step\": [{\"NodeId\": \"ADMISION\", \"ArrivalTime\": 14472061.0, \"ServiceStartTime\": 14472061.0, \"DepartureTime\": 14473561.0}, {\"NodeId\": \"TRIAJE\", \"ArrivalTime\": 14473561.0, \"ServiceStartTime\": 14473561.0, \"DepartureTime\": 14475421.0}, {\"NodeId\": \"RX EXPLORACION\", \"ArrivalTime\": 14475421.0, \"ServiceStartTime\": 14475421.0, \"DepartureTime\": 14476801.0}, {\"NodeId\": \"RX SOLICITUD\", \"ArrivalTime\": 14476801.0, \"ServiceStartTime\": 14476801.0, \"DepartureTime\": 14486701.0}, {\"NodeId\": \"INTERCONSULTA\", \"ArrivalTime\": 14486701.0, \"ServiceStartTime\": 14486701.0, \"DepartureTime\": 14644921.0}, {\"NodeId\": \"RESPUESTA\", \"ArrivalTime\": 14644921.0, \"ServiceStartTime\": 14644921.0, \"DepartureTime\": 14655841.0}, {\"NodeId\": \"ALTA\", \"ArrivalTime\": 14655841.0, \"ServiceStartTime\": 14655841.0, \"DepartureTime\": 14655841.0}]}, {\"Priority\": 1, \"Step\": [{\"NodeId\": \"ADMISION\", \"ArrivalTime\": 14499631.0, \"ServiceStartTime\": 14499631.0, \"DepartureTime\": 14500111.0}, {\"NodeId\": \"TRIAJE\", \"ArrivalTime\": 14500111.0, \"ServiceStartTime\": 14500111.0, \"DepartureTime\": 14501311.0}, {\"NodeId\": \"INTERCONSULTA\", \"ArrivalTime\": 14507611.0, \"ServiceStartTime\": 14507611.0, \"DepartureTime\": 14515471.0}, {\"NodeId\": \"RX SOLICITUD\", \"ArrivalTime\": 14521741.0, \"ServiceStartTime\": 14521741.0, \"DepartureTime\": 14523406.0}, {\"NodeId\": \"RESPUESTA\", \"ArrivalTime\": 14521861.0, \"ServiceStartTime\": 14521861.0, \"DepartureTime\": 14542171.0}, {\"NodeId\": \"RX EXPLORACION\", \"ArrivalTime\": 14523511.0, \"ServiceStartTime\": 14523511.0, \"DepartureTime\": 14528191.0}, {\"NodeId\": \"RX INFORME\", \"ArrivalTime\": 14529736.0, \"ServiceStartTime\": 14529736.0, \"DepartureTime\": 14533036.0}, {\"NodeId\": \"ALTA\", \"ArrivalTime\": 14548771.0, \"ServiceStartTime\": 14548771.0, \"DepartureTime\": 14548771.0}]}, {\"Priority\": 1, \"Step\": [{\"NodeId\": \"ADMISION\", \"ArrivalTime\": 14578921.0, \"ServiceStartTime\": 14578921.0, \"DepartureTime\": 14579281.0}, {\"NodeId\": \"TRIAJE\", \"ArrivalTime\": 14579281.0, \"ServiceStartTime\": 14579281.0, \"DepartureTime\": 14588101.0}, {\"NodeId\": \"RX SOLICITUD\", \"ArrivalTime\": 14595991.0, \"ServiceStartTime\": 14595991.0, \"DepartureTime\": 14598901.0}, {\"NodeId\": \"RX INFORME\", \"ArrivalTime\": 14599801.0, \"ServiceStartTime\": 14599801.0, \"DepartureTime\": 14603881.0}, {\"NodeId\": \"RX EXPLORACION\", \"ArrivalTime\": 14598901.0, \"ServiceStartTime\": 14598901.0, \"DepartureTime\": 14605051.0}, {\"NodeId\": \"INTERCONSULTA\", \"ArrivalTime\": 14610301.0, \"ServiceStartTime\": 14610301.0, \"DepartureTime\": 14614621.0}, {\"NodeId\": \"ALTA\", \"ArrivalTime\": 14614621.0, \"ServiceStartTime\": 14614621.0, \"DepartureTime\": 14614621.0}]}, {\"Priority\": 1, \"Step\": [{\"NodeId\": \"ADMISION\", \"ArrivalTime\": 14579821.0, \"ServiceStartTime\": 14579821.0, \"DepartureTime\": 14580481.0}, {\"NodeId\": \"TRIAJE\", \"ArrivalTime\": 14580481.0, \"ServiceStartTime\": 14580481.0, \"DepartureTime\": 14582881.0}, {\"NodeId\": \"INTERCONSULTA\", \"ArrivalTime\": 14649661.0, \"ServiceStartTime\": 14649661.0, \"DepartureTime\": 14652301.0}, {\"NodeId\": \"RX SOLICITUD\", \"ArrivalTime\": 14630541.0, \"ServiceStartTime\": 14630541.0, \"DepartureTime\": 14639661.0}, {\"NodeId\": \"RESPUESTA\", \"ArrivalTime\": 14653141.0, \"ServiceStartTime\": 14653141.0, \"DepartureTime\": 14656441.0}, {\"NodeId\": \"RX INFORME\", \"ArrivalTime\": 14635021.0, \"ServiceStartTime\": 14635021.0, \"DepartureTime\": 14664001.0}, {\"NodeId\": \"RX EXPLORACION\", \"ArrivalTime\": 14648061.0, \"ServiceStartTime\": 14648061.0, \"DepartureTime\": 14654581.0}, {\"NodeId\": \"ALTA\", \"ArrivalTime\": 14693701.0, \"ServiceStartTime\": 14693701.0, \"DepartureTime\": 14693701.0}]}, {\"Priority\": 1, \"Step\": [{\"NodeId\": \"ADMISION\", \"ArrivalTime\": 14648821.0, \"ServiceStartTime\": 14648821.0, \"DepartureTime\": 14649641.0}, {\"NodeId\": \"TRIAJE\", \"ArrivalTime\": 14649641.0, \"ServiceStartTime\": 14649641.0, \"DepartureTime\": 14652181.0}, {\"NodeId\": \"RX SOLICITUD\", \"ArrivalTime\": 14663681.0, \"ServiceStartTime\": 14663681.0, \"DepartureTime\": 14668021.0}, {\"NodeId\": \"RX EXPLORACION\", \"ArrivalTime\": 14668441.0, \"ServiceStartTime\": 14668441.0, \"DepartureTime\": 14687834.333333334}, {\"NodeId\": \"RX INFORME\", \"ArrivalTime\": 14674581.0, \"ServiceStartTime\": 14674581.0, \"DepartureTime\": 14675211.0}, {\"NodeId\": \"ALTA\", \"ArrivalTime\": 14724641.0, \"ServiceStartTime\": 14724641.0, \"DepartureTime\": 14724641.0}]}, {\"Priority\": 1, \"Step\": [{\"NodeId\": \"ADMISION\", \"ArrivalTime\": 14699461.0, \"ServiceStartTime\": 14699461.0, \"DepartureTime\": 14700061.0}, {\"NodeId\": \"TRIAJE\", \"ArrivalTime\": 14700061.0, \"ServiceStartTime\": 14700061.0, \"DepartureTime\": 14704501.0}, {\"NodeId\": \"RX INFORME\", \"ArrivalTime\": 14715241.0, \"ServiceStartTime\": 14715241.0, \"DepartureTime\": 14739421.0}, {\"NodeId\": \"RX SOLICITUD\", \"ArrivalTime\": 14726941.0, \"ServiceStartTime\": 14726941.0, \"DepartureTime\": 14736841.0}, {\"NodeId\": \"INTERCONSULTA\", \"ArrivalTime\": 14739421.0, \"ServiceStartTime\": 14739421.0, \"DepartureTime\": 14749381.0}, {\"NodeId\": \"RX EXPLORACION\", \"ArrivalTime\": 14736841.0, \"ServiceStartTime\": 14736841.0, \"DepartureTime\": 14746711.0}, {\"NodeId\": \"ALTA\", \"ArrivalTime\": 14778181.0, \"ServiceStartTime\": 14778181.0, \"DepartureTime\": 14778181.0}]}, {\"Priority\": 1, \"Step\": [{\"NodeId\": \"ADMISION\", \"ArrivalTime\": 14805451.0, \"ServiceStartTime\": 14805451.0, \"DepartureTime\": 14806081.0}, {\"NodeId\": \"TRIAJE\", \"ArrivalTime\": 14806081.0, \"ServiceStartTime\": 14806081.0, \"DepartureTime\": 14807761.0}, {\"NodeId\": \"RX SOLICITUD\", \"ArrivalTime\": 14846101.0, \"ServiceStartTime\": 14846101.0, \"DepartureTime\": 14865301.0}, {\"NodeId\": \"RX EXPLORACION\", \"ArrivalTime\": 14865301.0, \"ServiceStartTime\": 14865301.0, \"DepartureTime\": 14879986.0}, {\"NodeId\": \"INTERCONSULTA\", \"ArrivalTime\": 14886286.0, \"ServiceStartTime\": 14886286.0, \"DepartureTime\": 14905981.0}, {\"NodeId\": \"RESPUESTA\", \"ArrivalTime\": 14905981.0, \"ServiceStartTime\": 14905981.0, \"DepartureTime\": 14921821.0}, {\"NodeId\": \"RX INFORME\", \"ArrivalTime\": 14924611.0, \"ServiceStartTime\": 14924611.0, \"DepartureTime\": 14937211.0}, {\"NodeId\": \"ALTA\", \"ArrivalTime\": 14959201.0, \"ServiceStartTime\": 14959201.0, \"DepartureTime\": 14959201.0}]}, {\"Priority\": 1, \"Step\": [{\"NodeId\": \"ADMISION\", \"ArrivalTime\": 14902832.578947369, \"ServiceStartTime\": 14902832.578947369, \"DepartureTime\": 14903742.05263158}, {\"NodeId\": \"TRIAJE\", \"ArrivalTime\": 14903742.05263158, \"ServiceStartTime\": 14903742.05263158, \"DepartureTime\": 14906138.894736841}, {\"NodeId\": \"RX EXPLORACION\", \"ArrivalTime\": 14915056.789473685, \"ServiceStartTime\": 14915056.789473685, \"DepartureTime\": 14930612.578947369}, {\"NodeId\": \"RX SOLICITUD\", \"ArrivalTime\": 14922454.684210526, \"ServiceStartTime\": 14922454.684210526, \"DepartureTime\": 14932392.578947369}, {\"NodeId\": \"ALTA\", \"ArrivalTime\": 14967064.157894736, \"ServiceStartTime\": 14967064.157894736, \"DepartureTime\": 14967064.157894736}]}, {\"Priority\": 1, \"Step\": [{\"NodeId\": \"ADMISION\", \"ArrivalTime\": 14925391.0, \"ServiceStartTime\": 14925391.0, \"DepartureTime\": 14926261.0}, {\"NodeId\": \"TRIAJE\", \"ArrivalTime\": 14926261.0, \"ServiceStartTime\": 14926261.0, \"DepartureTime\": 14927281.0}, {\"NodeId\": \"RX SOLICITUD\", \"ArrivalTime\": 14977681.0, \"ServiceStartTime\": 14977681.0, \"DepartureTime\": 14980958.5}, {\"NodeId\": \"RX INFORME\", \"ArrivalTime\": 14964271.0, \"ServiceStartTime\": 14964271.0, \"DepartureTime\": 14997481.0}, {\"NodeId\": \"RX EXPLORACION\", \"ArrivalTime\": 14980958.5, \"ServiceStartTime\": 14980958.5, \"DepartureTime\": 14989231.0}, {\"NodeId\": \"ALTA\", \"ArrivalTime\": 15039901.0, \"ServiceStartTime\": 15039901.0, \"DepartureTime\": 15039901.0}]}, {\"Priority\": 1, \"Step\": [{\"NodeId\": \"ADMISION\", \"ArrivalTime\": 14983441.0, \"ServiceStartTime\": 14983441.0, \"DepartureTime\": 14984131.0}, {\"NodeId\": \"TRIAJE\", \"ArrivalTime\": 14984131.0, \"ServiceStartTime\": 14984131.0, \"DepartureTime\": 14988901.0}, {\"NodeId\": \"RX EXPLORACION\", \"ArrivalTime\": 14988901.0, \"ServiceStartTime\": 14988901.0, \"DepartureTime\": 15003751.0}, {\"NodeId\": \"RX SOLICITUD\", \"ArrivalTime\": 15003751.0, \"ServiceStartTime\": 15003751.0, \"DepartureTime\": 15013291.0}, {\"NodeId\": \"RX INFORME\", \"ArrivalTime\": 15013291.0, \"ServiceStartTime\": 15013291.0, \"DepartureTime\": 15034321.0}, {\"NodeId\": \"ALTA\", \"ArrivalTime\": 15034321.0, \"ServiceStartTime\": 15034321.0, \"DepartureTime\": 15034321.0}]}, {\"Priority\": 1, \"Step\": [{\"NodeId\": \"ADMISION\", \"ArrivalTime\": 14983441.0, \"ServiceStartTime\": 14983441.0, \"DepartureTime\": 14984131.0}, {\"NodeId\": \"TRIAJE\", \"ArrivalTime\": 14984131.0, \"ServiceStartTime\": 14984131.0, \"DepartureTime\": 14988901.0}, {\"NodeId\": \"RX EXPLORACION\", \"ArrivalTime\": 14988901.0, \"ServiceStartTime\": 14988901.0, \"DepartureTime\": 15003751.0}, {\"NodeId\": \"RX SOLICITUD\", \"ArrivalTime\": 15003751.0, \"ServiceStartTime\": 15003751.0, \"DepartureTime\": 15013291.0}, {\"NodeId\": \"RX INFORME\", \"ArrivalTime\": 15013291.0, \"ServiceStartTime\": 15013291.0, \"DepartureTime\": 15034321.0}, {\"NodeId\": \"ALTA\", \"ArrivalTime\": 15034321.0, \"ServiceStartTime\": 15034321.0, \"DepartureTime\": 15034321.0}]}, {\"Priority\": 1, \"Step\": [{\"NodeId\": \"ADMISION\", \"ArrivalTime\": 15008973.84916201, \"ServiceStartTime\": 15008973.84916201, \"DepartureTime\": 15009691.837988827}, {\"NodeId\": \"TRIAJE\", \"ArrivalTime\": 15009691.837988827, \"ServiceStartTime\": 15009691.837988827, \"DepartureTime\": 15013264.351955308}, {\"NodeId\": \"RX SOLICITUD\", \"ArrivalTime\": 15013264.351955308, \"ServiceStartTime\": 15013264.351955308, \"DepartureTime\": 15016376.6424581}, {\"NodeId\": \"RX EXPLORACION\", \"ArrivalTime\": 15016376.6424581, \"ServiceStartTime\": 15016376.6424581, \"DepartureTime\": 15034978.653631285}, {\"NodeId\": \"INTERCONSULTA\", \"ArrivalTime\": 15034978.653631285, \"ServiceStartTime\": 15034978.653631285, \"DepartureTime\": 15063727.033519553}, {\"NodeId\": \"ALTA\", \"ArrivalTime\": 15063727.033519553, \"ServiceStartTime\": 15063727.033519553, \"DepartureTime\": 15063727.033519553}]}, {\"Priority\": 1, \"Step\": [{\"NodeId\": \"ADMISION\", \"ArrivalTime\": 15008973.84916201, \"ServiceStartTime\": 15008973.84916201, \"DepartureTime\": 15009691.837988827}, {\"NodeId\": \"TRIAJE\", \"ArrivalTime\": 15009691.837988827, \"ServiceStartTime\": 15009691.837988827, \"DepartureTime\": 15013264.351955308}, {\"NodeId\": \"RX SOLICITUD\", \"ArrivalTime\": 15013264.351955308, \"ServiceStartTime\": 15013264.351955308, \"DepartureTime\": 15016376.6424581}, {\"NodeId\": \"RX EXPLORACION\", \"ArrivalTime\": 15016376.6424581, \"ServiceStartTime\": 15016376.6424581, \"DepartureTime\": 15034978.653631285}, {\"NodeId\": \"INTERCONSULTA\", \"ArrivalTime\": 15034978.653631285, \"ServiceStartTime\": 15034978.653631285, \"DepartureTime\": 15063727.033519553}, {\"NodeId\": \"ALTA\", \"ArrivalTime\": 15063727.033519553, \"ServiceStartTime\": 15063727.033519553, \"DepartureTime\": 15063727.033519553}]}, {\"Priority\": 1, \"Step\": [{\"NodeId\": \"ADMISION\", \"ArrivalTime\": 15042481.0, \"ServiceStartTime\": 15042481.0, \"DepartureTime\": 15042881.0}, {\"NodeId\": \"TRIAJE\", \"ArrivalTime\": 15042881.0, \"ServiceStartTime\": 15042881.0, \"DepartureTime\": 15046301.0}, {\"NodeId\": \"RX SOLICITUD\", \"ArrivalTime\": 15073321.0, \"ServiceStartTime\": 15073321.0, \"DepartureTime\": 15076846.0}, {\"NodeId\": \"RX EXPLORACION\", \"ArrivalTime\": 15076846.0, \"ServiceStartTime\": 15076846.0, \"DepartureTime\": 15083166.0}, {\"NodeId\": \"RX INFORME\", \"ArrivalTime\": 15102791.0, \"ServiceStartTime\": 15102791.0, \"DepartureTime\": 15136391.0}, {\"NodeId\": \"ALTA\", \"ArrivalTime\": 15152881.0, \"ServiceStartTime\": 15152881.0, \"DepartureTime\": 15152881.0}]}, {\"Priority\": 1, \"Step\": [{\"NodeId\": \"ADMISION\", \"ArrivalTime\": 15095761.0, \"ServiceStartTime\": 15095761.0, \"DepartureTime\": 15096221.0}, {\"NodeId\": \"TRIAJE\", \"ArrivalTime\": 15096221.0, \"ServiceStartTime\": 15096221.0, \"DepartureTime\": 15098921.0}, {\"NodeId\": \"RX SOLICITUD\", \"ArrivalTime\": 15130161.0, \"ServiceStartTime\": 15130161.0, \"DepartureTime\": 15134074.333333334}, {\"NodeId\": \"RX EXPLORACION\", \"ArrivalTime\": 15134074.333333334, \"ServiceStartTime\": 15134074.333333334, \"DepartureTime\": 15154847.666666666}, {\"NodeId\": \"RX INFORME\", \"ArrivalTime\": 15172981.0, \"ServiceStartTime\": 15172981.0, \"DepartureTime\": 15189961.0}, {\"NodeId\": \"INTERCONSULTA\", \"ArrivalTime\": 15189961.0, \"ServiceStartTime\": 15189961.0, \"DepartureTime\": 15196241.0}, {\"NodeId\": \"RESPUESTA\", \"ArrivalTime\": 15196241.0, \"ServiceStartTime\": 15196241.0, \"DepartureTime\": 15206941.0}, {\"NodeId\": \"ALTA\", \"ArrivalTime\": 15206941.0, \"ServiceStartTime\": 15206941.0, \"DepartureTime\": 15206941.0}]}, {\"Priority\": 1, \"Step\": [{\"NodeId\": \"ADMISION\", \"ArrivalTime\": 15034481.0, \"ServiceStartTime\": 15034481.0, \"DepartureTime\": 15035081.0}, {\"NodeId\": \"TRIAJE\", \"ArrivalTime\": 15035081.0, \"ServiceStartTime\": 15035081.0, \"DepartureTime\": 15039701.0}, {\"NodeId\": \"RX SOLICITUD\", \"ArrivalTime\": 15055941.0, \"ServiceStartTime\": 15055941.0, \"DepartureTime\": 15059581.0}, {\"NodeId\": \"RX EXPLORACION\", \"ArrivalTime\": 15053791.0, \"ServiceStartTime\": 15053791.0, \"DepartureTime\": 15064061.0}, {\"NodeId\": \"RX INFORME\", \"ArrivalTime\": 15064681.0, \"ServiceStartTime\": 15064681.0, \"DepartureTime\": 15065161.0}, {\"NodeId\": \"ALTA\", \"ArrivalTime\": 15071641.0, \"ServiceStartTime\": 15071641.0, \"DepartureTime\": 15071641.0}]}, {\"Priority\": 1, \"Step\": [{\"NodeId\": \"ADMISION\", \"ArrivalTime\": 15155721.943396226, \"ServiceStartTime\": 15155721.943396226, \"DepartureTime\": 15156533.641509434}, {\"NodeId\": \"TRIAJE\", \"ArrivalTime\": 15156533.641509434, \"ServiceStartTime\": 15156533.641509434, \"DepartureTime\": 15159813.830188679}, {\"NodeId\": \"RX SOLICITUD\", \"ArrivalTime\": 15166785.150943397, \"ServiceStartTime\": 15166785.150943397, \"DepartureTime\": 15171492.03773585}, {\"NodeId\": \"RX EXPLORACION\", \"ArrivalTime\": 15174800.245283019, \"ServiceStartTime\": 15174800.245283019, \"DepartureTime\": 15186381.754716981}, {\"NodeId\": \"RX INFORME\", \"ArrivalTime\": 15180632.132075472, \"ServiceStartTime\": 15180632.132075472, \"DepartureTime\": 15181416.660377359}, {\"NodeId\": \"ALTA\", \"ArrivalTime\": 15204756.660377359, \"ServiceStartTime\": 15204756.660377359, \"DepartureTime\": 15204756.660377359}]}, {\"Priority\": 1, \"Step\": [{\"NodeId\": \"ADMISION\", \"ArrivalTime\": 15197656.0, \"ServiceStartTime\": 15197656.0, \"DepartureTime\": 15198259.75}, {\"NodeId\": \"TRIAJE\", \"ArrivalTime\": 15198259.75, \"ServiceStartTime\": 15198259.75, \"DepartureTime\": 15203374.75}, {\"NodeId\": \"INTERCONSULTA\", \"ArrivalTime\": 15221404.75, \"ServiceStartTime\": 15221404.75, \"DepartureTime\": 15237713.5}, {\"NodeId\": \"RX SOLICITUD\", \"ArrivalTime\": 15226082.875, \"ServiceStartTime\": 15226082.875, \"DepartureTime\": 15229853.5}, {\"NodeId\": \"RESPUESTA\", \"ArrivalTime\": 15237713.5, \"ServiceStartTime\": 15237713.5, \"DepartureTime\": 15248791.0}, {\"NodeId\": \"RX EXPLORACION\", \"ArrivalTime\": 15229853.5, \"ServiceStartTime\": 15229853.5, \"DepartureTime\": 15251063.5}, {\"NodeId\": \"ALTA\", \"ArrivalTime\": 15280722.25, \"ServiceStartTime\": 15280722.25, \"DepartureTime\": 15280722.25}]}, {\"Priority\": 1, \"Step\": [{\"NodeId\": \"ADMISION\", \"ArrivalTime\": 15185821.0, \"ServiceStartTime\": 15185821.0, \"DepartureTime\": 15186121.0}, {\"NodeId\": \"TRIAJE\", \"ArrivalTime\": 15186121.0, \"ServiceStartTime\": 15186121.0, \"DepartureTime\": 15204241.0}, {\"NodeId\": \"RX INFORME\", \"ArrivalTime\": 15209401.0, \"ServiceStartTime\": 15209401.0, \"DepartureTime\": 15247261.0}, {\"NodeId\": \"RX EXPLORACION\", \"ArrivalTime\": 15230731.0, \"ServiceStartTime\": 15230731.0, \"DepartureTime\": 15269911.0}, {\"NodeId\": \"RX SOLICITUD\", \"ArrivalTime\": 15260641.0, \"ServiceStartTime\": 15260641.0, \"DepartureTime\": 15264941.0}, {\"NodeId\": \"ALTA\", \"ArrivalTime\": 15333361.0, \"ServiceStartTime\": 15333361.0, \"DepartureTime\": 15333361.0}]}, {\"Priority\": 1, \"Step\": [{\"NodeId\": \"ADMISION\", \"ArrivalTime\": 15235189.0, \"ServiceStartTime\": 15235189.0, \"DepartureTime\": 15235856.2}, {\"NodeId\": \"TRIAJE\", \"ArrivalTime\": 15235856.2, \"ServiceStartTime\": 15235856.2, \"DepartureTime\": 15239481.8}, {\"NodeId\": \"RX SOLICITUD\", \"ArrivalTime\": 15261398.866666667, \"ServiceStartTime\": 15261398.866666667, \"DepartureTime\": 15265698.066666666}, {\"NodeId\": \"RX EXPLORACION\", \"ArrivalTime\": 15265698.066666666, \"ServiceStartTime\": 15265698.066666666, \"DepartureTime\": 15280947.133333333}, {\"NodeId\": \"RX INFORME\", \"ArrivalTime\": 15263098.6, \"ServiceStartTime\": 15263098.6, \"DepartureTime\": 15290700.2}, {\"NodeId\": \"ALTA\", \"ArrivalTime\": 15325728.2, \"ServiceStartTime\": 15325728.2, \"DepartureTime\": 15325728.2}]}, {\"Priority\": 1, \"Step\": [{\"NodeId\": \"ADMISION\", \"ArrivalTime\": 15254301.905923344, \"ServiceStartTime\": 15254301.905923344, \"DepartureTime\": 15255064.344947735}, {\"NodeId\": \"TRIAJE\", \"ArrivalTime\": 15255064.344947735, \"ServiceStartTime\": 15255064.344947735, \"DepartureTime\": 15259526.087108014}, {\"NodeId\": \"RX SOLICITUD\", \"ArrivalTime\": 15283164.728222996, \"ServiceStartTime\": 15283164.728222996, \"DepartureTime\": 15289175.285714285}, {\"NodeId\": \"RX EXPLORACION\", \"ArrivalTime\": 15289175.285714285, \"ServiceStartTime\": 15289175.285714285, \"DepartureTime\": 15293640.163763067}, {\"NodeId\": \"RX INFORME\", \"ArrivalTime\": 15293640.163763067, \"ServiceStartTime\": 15293640.163763067, \"DepartureTime\": 15323170.512195121}, {\"NodeId\": \"ALTA\", \"ArrivalTime\": 15339537.655052265, \"ServiceStartTime\": 15339537.655052265, \"DepartureTime\": 15339537.655052265}]}, {\"Priority\": 1, \"Step\": [{\"NodeId\": \"ADMISION\", \"ArrivalTime\": 15260701.0, \"ServiceStartTime\": 15260701.0, \"DepartureTime\": 15261481.0}, {\"NodeId\": \"TRIAJE\", \"ArrivalTime\": 15261481.0, \"ServiceStartTime\": 15261481.0, \"DepartureTime\": 15272941.0}, {\"NodeId\": \"RX SOLICITUD\", \"ArrivalTime\": 15288931.0, \"ServiceStartTime\": 15288931.0, \"DepartureTime\": 15290851.0}, {\"NodeId\": \"RX EXPLORACION\", \"ArrivalTime\": 15290851.0, \"ServiceStartTime\": 15290851.0, \"DepartureTime\": 15296491.0}, {\"NodeId\": \"RX INFORME\", \"ArrivalTime\": 15302071.0, \"ServiceStartTime\": 15302071.0, \"DepartureTime\": 15329941.0}, {\"NodeId\": \"INTERCONSULTA\", \"ArrivalTime\": 15312421.0, \"ServiceStartTime\": 15312421.0, \"DepartureTime\": 15323581.0}, {\"NodeId\": \"ALTA\", \"ArrivalTime\": 15354961.0, \"ServiceStartTime\": 15354961.0, \"DepartureTime\": 15354961.0}]}, {\"Priority\": 1, \"Step\": [{\"NodeId\": \"ADMISION\", \"ArrivalTime\": 15264841.0, \"ServiceStartTime\": 15264841.0, \"DepartureTime\": 15265321.0}, {\"NodeId\": \"TRIAJE\", \"ArrivalTime\": 15265321.0, \"ServiceStartTime\": 15265321.0, \"DepartureTime\": 15272641.0}, {\"NodeId\": \"RX EXPLORACION\", \"ArrivalTime\": 15277531.0, \"ServiceStartTime\": 15277531.0, \"DepartureTime\": 15299011.0}, {\"NodeId\": \"RX INFORME\", \"ArrivalTime\": 15277741.0, \"ServiceStartTime\": 15277741.0, \"DepartureTime\": 15277981.0}, {\"NodeId\": \"RX SOLICITUD\", \"ArrivalTime\": 15314071.0, \"ServiceStartTime\": 15314071.0, \"DepartureTime\": 15332731.0}, {\"NodeId\": \"INTERCONSULTA\", \"ArrivalTime\": 15320281.0, \"ServiceStartTime\": 15320281.0, \"DepartureTime\": 15324901.0}, {\"NodeId\": \"RESPUESTA\", \"ArrivalTime\": 15324901.0, \"ServiceStartTime\": 15324901.0, \"DepartureTime\": 15355501.0}, {\"NodeId\": \"ALTA\", \"ArrivalTime\": 15388381.0, \"ServiceStartTime\": 15388381.0, \"DepartureTime\": 15388381.0}]}, {\"Priority\": 1, \"Step\": [{\"NodeId\": \"ADMISION\", \"ArrivalTime\": 15316118.567893784, \"ServiceStartTime\": 15316118.567893784, \"DepartureTime\": 15316882.345805673}, {\"NodeId\": \"TRIAJE\", \"ArrivalTime\": 15316882.345805673, \"ServiceStartTime\": 15316882.345805673, \"DepartureTime\": 15321078.5980688}, {\"NodeId\": \"RX SOLICITUD\", \"ArrivalTime\": 15328678.15751358, \"ServiceStartTime\": 15328678.15751358, \"DepartureTime\": 15333230.372359686}, {\"NodeId\": \"RX EXPLORACION\", \"ArrivalTime\": 15333230.372359686, \"ServiceStartTime\": 15333230.372359686, \"DepartureTime\": 15341021.211225105}, {\"NodeId\": \"RX INFORME\", \"ArrivalTime\": 15345764.705491852, \"ServiceStartTime\": 15345764.705491852, \"DepartureTime\": 15368869.14121907}, {\"NodeId\": \"ALTA\", \"ArrivalTime\": 15368869.14121907, \"ServiceStartTime\": 15368869.14121907, \"DepartureTime\": 15368869.14121907}]}, {\"Priority\": 1, \"Step\": [{\"NodeId\": \"ADMISION\", \"ArrivalTime\": 15403936.505617978, \"ServiceStartTime\": 15403936.505617978, \"DepartureTime\": 15404641.0}, {\"NodeId\": \"TRIAJE\", \"ArrivalTime\": 15404641.0, \"ServiceStartTime\": 15404641.0, \"DepartureTime\": 15409342.573033707}, {\"NodeId\": \"RX SOLICITUD\", \"ArrivalTime\": 15431236.280898876, \"ServiceStartTime\": 15431236.280898876, \"DepartureTime\": 15435143.921348315}, {\"NodeId\": \"RX EXPLORACION\", \"ArrivalTime\": 15435143.921348315, \"ServiceStartTime\": 15435143.921348315, \"DepartureTime\": 15441340.775280898}, {\"NodeId\": \"RX INFORME\", \"ArrivalTime\": 15450599.988764046, \"ServiceStartTime\": 15450599.988764046, \"DepartureTime\": 15474882.123595506}, {\"NodeId\": \"ALTA\", \"ArrivalTime\": 15488220.325842697, \"ServiceStartTime\": 15488220.325842697, \"DepartureTime\": 15488220.325842697}]}, {\"Priority\": 1, \"Step\": [{\"NodeId\": \"ADMISION\", \"ArrivalTime\": 15364081.0, \"ServiceStartTime\": 15364081.0, \"DepartureTime\": 15364381.0}, {\"NodeId\": \"TRIAJE\", \"ArrivalTime\": 15364381.0, \"ServiceStartTime\": 15364381.0, \"DepartureTime\": 15365941.0}, {\"NodeId\": \"INTERCONSULTA\", \"ArrivalTime\": 15384481.0, \"ServiceStartTime\": 15384481.0, \"DepartureTime\": 15405781.0}, {\"NodeId\": \"RX SOLICITUD\", \"ArrivalTime\": 15407776.0, \"ServiceStartTime\": 15407776.0, \"DepartureTime\": 15415411.0}, {\"NodeId\": \"RX EXPLORACION\", \"ArrivalTime\": 15416176.0, \"ServiceStartTime\": 15416176.0, \"DepartureTime\": 15421051.0}, {\"NodeId\": \"RX INFORME\", \"ArrivalTime\": 15412411.0, \"ServiceStartTime\": 15412411.0, \"DepartureTime\": 15451501.0}, {\"NodeId\": \"RESPUESTA\", \"ArrivalTime\": 15423781.0, \"ServiceStartTime\": 15423781.0, \"DepartureTime\": 15426841.0}, {\"NodeId\": \"ALTA\", \"ArrivalTime\": 15518521.0, \"ServiceStartTime\": 15518521.0, \"DepartureTime\": 15518521.0}]}, {\"Priority\": 1, \"Step\": [{\"NodeId\": \"ADMISION\", \"ArrivalTime\": 15568203.637362637, \"ServiceStartTime\": 15568203.637362637, \"DepartureTime\": 15568942.538461538}, {\"NodeId\": \"TRIAJE\", \"ArrivalTime\": 15568942.538461538, \"ServiceStartTime\": 15568942.538461538, \"DepartureTime\": 15588865.175824177}, {\"NodeId\": \"INTERCONSULTA\", \"ArrivalTime\": 15588865.175824177, \"ServiceStartTime\": 15588865.175824177, \"DepartureTime\": 15612397.703296704}, {\"NodeId\": \"RESPUESTA\", \"ArrivalTime\": 15612397.703296704, \"ServiceStartTime\": 15612397.703296704, \"DepartureTime\": 15632924.076923076}, {\"NodeId\": \"ALTA\", \"ArrivalTime\": 15632924.076923076, \"ServiceStartTime\": 15632924.076923076, \"DepartureTime\": 15632924.076923076}]}, {\"Priority\": 1, \"Step\": [{\"NodeId\": \"ADMISION\", \"ArrivalTime\": 15568203.637362637, \"ServiceStartTime\": 15568203.637362637, \"DepartureTime\": 15568942.538461538}, {\"NodeId\": \"TRIAJE\", \"ArrivalTime\": 15568942.538461538, \"ServiceStartTime\": 15568942.538461538, \"DepartureTime\": 15588865.175824177}, {\"NodeId\": \"INTERCONSULTA\", \"ArrivalTime\": 15588865.175824177, \"ServiceStartTime\": 15588865.175824177, \"DepartureTime\": 15612397.703296704}, {\"NodeId\": \"RESPUESTA\", \"ArrivalTime\": 15612397.703296704, \"ServiceStartTime\": 15612397.703296704, \"DepartureTime\": 15632924.076923076}, {\"NodeId\": \"ALTA\", \"ArrivalTime\": 15632924.076923076, \"ServiceStartTime\": 15632924.076923076, \"DepartureTime\": 15632924.076923076}]}, {\"Priority\": 1, \"Step\": [{\"NodeId\": \"ADMISION\", \"ArrivalTime\": 15568203.637362637, \"ServiceStartTime\": 15568203.637362637, \"DepartureTime\": 15568942.538461538}, {\"NodeId\": \"TRIAJE\", \"ArrivalTime\": 15568942.538461538, \"ServiceStartTime\": 15568942.538461538, \"DepartureTime\": 15588865.175824177}, {\"NodeId\": \"INTERCONSULTA\", \"ArrivalTime\": 15588865.175824177, \"ServiceStartTime\": 15588865.175824177, \"DepartureTime\": 15612397.703296704}, {\"NodeId\": \"RESPUESTA\", \"ArrivalTime\": 15612397.703296704, \"ServiceStartTime\": 15612397.703296704, \"DepartureTime\": 15632924.076923076}, {\"NodeId\": \"ALTA\", \"ArrivalTime\": 15632924.076923076, \"ServiceStartTime\": 15632924.076923076, \"DepartureTime\": 15632924.076923076}]}, {\"Priority\": 1, \"Step\": [{\"NodeId\": \"ADMISION\", \"ArrivalTime\": 15568203.637362637, \"ServiceStartTime\": 15568203.637362637, \"DepartureTime\": 15568942.538461538}, {\"NodeId\": \"TRIAJE\", \"ArrivalTime\": 15568942.538461538, \"ServiceStartTime\": 15568942.538461538, \"DepartureTime\": 15588865.175824177}, {\"NodeId\": \"INTERCONSULTA\", \"ArrivalTime\": 15588865.175824177, \"ServiceStartTime\": 15588865.175824177, \"DepartureTime\": 15612397.703296704}, {\"NodeId\": \"RESPUESTA\", \"ArrivalTime\": 15612397.703296704, \"ServiceStartTime\": 15612397.703296704, \"DepartureTime\": 15632924.076923076}, {\"NodeId\": \"ALTA\", \"ArrivalTime\": 15632924.076923076, \"ServiceStartTime\": 15632924.076923076, \"DepartureTime\": 15632924.076923076}]}, {\"Priority\": 1, \"Step\": [{\"NodeId\": \"ADMISION\", \"ArrivalTime\": 15568203.637362637, \"ServiceStartTime\": 15568203.637362637, \"DepartureTime\": 15568942.538461538}, {\"NodeId\": \"TRIAJE\", \"ArrivalTime\": 15568942.538461538, \"ServiceStartTime\": 15568942.538461538, \"DepartureTime\": 15588865.175824177}, {\"NodeId\": \"INTERCONSULTA\", \"ArrivalTime\": 15588865.175824177, \"ServiceStartTime\": 15588865.175824177, \"DepartureTime\": 15612397.703296704}, {\"NodeId\": \"RESPUESTA\", \"ArrivalTime\": 15612397.703296704, \"ServiceStartTime\": 15612397.703296704, \"DepartureTime\": 15632924.076923076}, {\"NodeId\": \"ALTA\", \"ArrivalTime\": 15632924.076923076, \"ServiceStartTime\": 15632924.076923076, \"DepartureTime\": 15632924.076923076}]}, {\"Priority\": 1, \"Step\": [{\"NodeId\": \"ADMISION\", \"ArrivalTime\": 15568203.637362637, \"ServiceStartTime\": 15568203.637362637, \"DepartureTime\": 15568942.538461538}, {\"NodeId\": \"TRIAJE\", \"ArrivalTime\": 15568942.538461538, \"ServiceStartTime\": 15568942.538461538, \"DepartureTime\": 15588865.175824177}, {\"NodeId\": \"INTERCONSULTA\", \"ArrivalTime\": 15588865.175824177, \"ServiceStartTime\": 15588865.175824177, \"DepartureTime\": 15612397.703296704}, {\"NodeId\": \"RESPUESTA\", \"ArrivalTime\": 15612397.703296704, \"ServiceStartTime\": 15612397.703296704, \"DepartureTime\": 15632924.076923076}, {\"NodeId\": \"ALTA\", \"ArrivalTime\": 15632924.076923076, \"ServiceStartTime\": 15632924.076923076, \"DepartureTime\": 15632924.076923076}]}, {\"Priority\": 1, \"Step\": [{\"NodeId\": \"ADMISION\", \"ArrivalTime\": 15568203.637362637, \"ServiceStartTime\": 15568203.637362637, \"DepartureTime\": 15568942.538461538}, {\"NodeId\": \"TRIAJE\", \"ArrivalTime\": 15568942.538461538, \"ServiceStartTime\": 15568942.538461538, \"DepartureTime\": 15588865.175824177}, {\"NodeId\": \"INTERCONSULTA\", \"ArrivalTime\": 15588865.175824177, \"ServiceStartTime\": 15588865.175824177, \"DepartureTime\": 15612397.703296704}, {\"NodeId\": \"RESPUESTA\", \"ArrivalTime\": 15612397.703296704, \"ServiceStartTime\": 15612397.703296704, \"DepartureTime\": 15632924.076923076}, {\"NodeId\": \"ALTA\", \"ArrivalTime\": 15632924.076923076, \"ServiceStartTime\": 15632924.076923076, \"DepartureTime\": 15632924.076923076}]}, {\"Priority\": 1, \"Step\": [{\"NodeId\": \"ADMISION\", \"ArrivalTime\": 15568203.637362637, \"ServiceStartTime\": 15568203.637362637, \"DepartureTime\": 15568942.538461538}, {\"NodeId\": \"TRIAJE\", \"ArrivalTime\": 15568942.538461538, \"ServiceStartTime\": 15568942.538461538, \"DepartureTime\": 15588865.175824177}, {\"NodeId\": \"INTERCONSULTA\", \"ArrivalTime\": 15588865.175824177, \"ServiceStartTime\": 15588865.175824177, \"DepartureTime\": 15612397.703296704}, {\"NodeId\": \"RESPUESTA\", \"ArrivalTime\": 15612397.703296704, \"ServiceStartTime\": 15612397.703296704, \"DepartureTime\": 15632924.076923076}, {\"NodeId\": \"ALTA\", \"ArrivalTime\": 15632924.076923076, \"ServiceStartTime\": 15632924.076923076, \"DepartureTime\": 15632924.076923076}]}, {\"Priority\": 1, \"Step\": [{\"NodeId\": \"ADMISION\", \"ArrivalTime\": 15568203.637362637, \"ServiceStartTime\": 15568203.637362637, \"DepartureTime\": 15568942.538461538}, {\"NodeId\": \"TRIAJE\", \"ArrivalTime\": 15568942.538461538, \"ServiceStartTime\": 15568942.538461538, \"DepartureTime\": 15588865.175824177}, {\"NodeId\": \"INTERCONSULTA\", \"ArrivalTime\": 15588865.175824177, \"ServiceStartTime\": 15588865.175824177, \"DepartureTime\": 15612397.703296704}, {\"NodeId\": \"RESPUESTA\", \"ArrivalTime\": 15612397.703296704, \"ServiceStartTime\": 15612397.703296704, \"DepartureTime\": 15632924.076923076}, {\"NodeId\": \"ALTA\", \"ArrivalTime\": 15632924.076923076, \"ServiceStartTime\": 15632924.076923076, \"DepartureTime\": 15632924.076923076}]}, {\"Priority\": 1, \"Step\": [{\"NodeId\": \"ADMISION\", \"ArrivalTime\": 15568203.637362637, \"ServiceStartTime\": 15568203.637362637, \"DepartureTime\": 15568942.538461538}, {\"NodeId\": \"TRIAJE\", \"ArrivalTime\": 15568942.538461538, \"ServiceStartTime\": 15568942.538461538, \"DepartureTime\": 15588865.175824177}, {\"NodeId\": \"INTERCONSULTA\", \"ArrivalTime\": 15588865.175824177, \"ServiceStartTime\": 15588865.175824177, \"DepartureTime\": 15612397.703296704}, {\"NodeId\": \"RESPUESTA\", \"ArrivalTime\": 15612397.703296704, \"ServiceStartTime\": 15612397.703296704, \"DepartureTime\": 15632924.076923076}, {\"NodeId\": \"ALTA\", \"ArrivalTime\": 15632924.076923076, \"ServiceStartTime\": 15632924.076923076, \"DepartureTime\": 15632924.076923076}]}, {\"Priority\": 1, \"Step\": [{\"NodeId\": \"ADMISION\", \"ArrivalTime\": 15578944.638525564, \"ServiceStartTime\": 15578944.638525564, \"DepartureTime\": 15579640.809750298}, {\"NodeId\": \"TRIAJE\", \"ArrivalTime\": 15579640.809750298, \"ServiceStartTime\": 15579640.809750298, \"DepartureTime\": 15585550.988109393}, {\"NodeId\": \"RX SOLICITUD\", \"ArrivalTime\": 15585550.988109393, \"ServiceStartTime\": 15585550.988109393, \"DepartureTime\": 15603798.122473245}, {\"NodeId\": \"ALTA\", \"ArrivalTime\": 15603798.122473245, \"ServiceStartTime\": 15603798.122473245, \"DepartureTime\": 15603798.122473245}]}, {\"Priority\": 1, \"Step\": [{\"NodeId\": \"ADMISION\", \"ArrivalTime\": 15566461.0, \"ServiceStartTime\": 15566461.0, \"DepartureTime\": 15567051.0}, {\"NodeId\": \"TRIAJE\", \"ArrivalTime\": 15567051.0, \"ServiceStartTime\": 15567051.0, \"DepartureTime\": 15568971.0}, {\"NodeId\": \"RX EXPLORACION\", \"ArrivalTime\": 15574806.0, \"ServiceStartTime\": 15574806.0, \"DepartureTime\": 15581816.0}, {\"NodeId\": \"RX SOLICITUD\", \"ArrivalTime\": 15577534.333333334, \"ServiceStartTime\": 15577534.333333334, \"DepartureTime\": 15579577.666666666}, {\"NodeId\": \"RX INFORME\", \"ArrivalTime\": 15589121.0, \"ServiceStartTime\": 15589121.0, \"DepartureTime\": 15604391.0}, {\"NodeId\": \"ALTA\", \"ArrivalTime\": 15604391.0, \"ServiceStartTime\": 15604391.0, \"DepartureTime\": 15604391.0}]}, {\"Priority\": 1, \"Step\": [{\"NodeId\": \"ADMISION\", \"ArrivalTime\": 15638288.739532927, \"ServiceStartTime\": 15638288.739532927, \"DepartureTime\": 15639064.870397644}, {\"NodeId\": \"TRIAJE\", \"ArrivalTime\": 15639064.870397644, \"ServiceStartTime\": 15639064.870397644, \"DepartureTime\": 15643021.853355775}, {\"NodeId\": \"RX SOLICITUD\", \"ArrivalTime\": 15643021.853355775, \"ServiceStartTime\": 15643021.853355775, \"DepartureTime\": 15646156.044813802}, {\"NodeId\": \"RX EXPLORACION\", \"ArrivalTime\": 15646156.044813802, \"ServiceStartTime\": 15646156.044813802, \"DepartureTime\": 15667871.37660425}, {\"NodeId\": \"ALTA\", \"ArrivalTime\": 15667871.37660425, \"ServiceStartTime\": 15667871.37660425, \"DepartureTime\": 15667871.37660425}]}, {\"Priority\": 1, \"Step\": [{\"NodeId\": \"ADMISION\", \"ArrivalTime\": 15638288.739532927, \"ServiceStartTime\": 15638288.739532927, \"DepartureTime\": 15639064.870397644}, {\"NodeId\": \"TRIAJE\", \"ArrivalTime\": 15639064.870397644, \"ServiceStartTime\": 15639064.870397644, \"DepartureTime\": 15643021.853355775}, {\"NodeId\": \"RX SOLICITUD\", \"ArrivalTime\": 15643021.853355775, \"ServiceStartTime\": 15643021.853355775, \"DepartureTime\": 15646156.044813802}, {\"NodeId\": \"RX EXPLORACION\", \"ArrivalTime\": 15646156.044813802, \"ServiceStartTime\": 15646156.044813802, \"DepartureTime\": 15667871.37660425}, {\"NodeId\": \"ALTA\", \"ArrivalTime\": 15667871.37660425, \"ServiceStartTime\": 15667871.37660425, \"DepartureTime\": 15667871.37660425}]}, {\"Priority\": 1, \"Step\": [{\"NodeId\": \"ADMISION\", \"ArrivalTime\": 15638288.739532927, \"ServiceStartTime\": 15638288.739532927, \"DepartureTime\": 15639064.870397644}, {\"NodeId\": \"TRIAJE\", \"ArrivalTime\": 15639064.870397644, \"ServiceStartTime\": 15639064.870397644, \"DepartureTime\": 15643021.853355775}, {\"NodeId\": \"RX SOLICITUD\", \"ArrivalTime\": 15643021.853355775, \"ServiceStartTime\": 15643021.853355775, \"DepartureTime\": 15646156.044813802}, {\"NodeId\": \"RX EXPLORACION\", \"ArrivalTime\": 15646156.044813802, \"ServiceStartTime\": 15646156.044813802, \"DepartureTime\": 15667871.37660425}, {\"NodeId\": \"ALTA\", \"ArrivalTime\": 15667871.37660425, \"ServiceStartTime\": 15667871.37660425, \"DepartureTime\": 15667871.37660425}]}, {\"Priority\": 1, \"Step\": [{\"NodeId\": \"ADMISION\", \"ArrivalTime\": 15638288.739532927, \"ServiceStartTime\": 15638288.739532927, \"DepartureTime\": 15639064.870397644}, {\"NodeId\": \"TRIAJE\", \"ArrivalTime\": 15639064.870397644, \"ServiceStartTime\": 15639064.870397644, \"DepartureTime\": 15643021.853355775}, {\"NodeId\": \"RX SOLICITUD\", \"ArrivalTime\": 15643021.853355775, \"ServiceStartTime\": 15643021.853355775, \"DepartureTime\": 15646156.044813802}, {\"NodeId\": \"RX EXPLORACION\", \"ArrivalTime\": 15646156.044813802, \"ServiceStartTime\": 15646156.044813802, \"DepartureTime\": 15667871.37660425}, {\"NodeId\": \"ALTA\", \"ArrivalTime\": 15667871.37660425, \"ServiceStartTime\": 15667871.37660425, \"DepartureTime\": 15667871.37660425}]}, {\"Priority\": 1, \"Step\": [{\"NodeId\": \"ADMISION\", \"ArrivalTime\": 15638288.739532927, \"ServiceStartTime\": 15638288.739532927, \"DepartureTime\": 15639064.870397644}, {\"NodeId\": \"TRIAJE\", \"ArrivalTime\": 15639064.870397644, \"ServiceStartTime\": 15639064.870397644, \"DepartureTime\": 15643021.853355775}, {\"NodeId\": \"RX SOLICITUD\", \"ArrivalTime\": 15643021.853355775, \"ServiceStartTime\": 15643021.853355775, \"DepartureTime\": 15646156.044813802}, {\"NodeId\": \"RX EXPLORACION\", \"ArrivalTime\": 15646156.044813802, \"ServiceStartTime\": 15646156.044813802, \"DepartureTime\": 15667871.37660425}, {\"NodeId\": \"ALTA\", \"ArrivalTime\": 15667871.37660425, \"ServiceStartTime\": 15667871.37660425, \"DepartureTime\": 15667871.37660425}]}, {\"Priority\": 1, \"Step\": [{\"NodeId\": \"ADMISION\", \"ArrivalTime\": 15638288.739532927, \"ServiceStartTime\": 15638288.739532927, \"DepartureTime\": 15639064.870397644}, {\"NodeId\": \"TRIAJE\", \"ArrivalTime\": 15639064.870397644, \"ServiceStartTime\": 15639064.870397644, \"DepartureTime\": 15643021.853355775}, {\"NodeId\": \"RX SOLICITUD\", \"ArrivalTime\": 15643021.853355775, \"ServiceStartTime\": 15643021.853355775, \"DepartureTime\": 15646156.044813802}, {\"NodeId\": \"RX EXPLORACION\", \"ArrivalTime\": 15646156.044813802, \"ServiceStartTime\": 15646156.044813802, \"DepartureTime\": 15667871.37660425}, {\"NodeId\": \"ALTA\", \"ArrivalTime\": 15667871.37660425, \"ServiceStartTime\": 15667871.37660425, \"DepartureTime\": 15667871.37660425}]}, {\"Priority\": 1, \"Step\": [{\"NodeId\": \"ADMISION\", \"ArrivalTime\": 15638288.739532927, \"ServiceStartTime\": 15638288.739532927, \"DepartureTime\": 15639064.870397644}, {\"NodeId\": \"TRIAJE\", \"ArrivalTime\": 15639064.870397644, \"ServiceStartTime\": 15639064.870397644, \"DepartureTime\": 15643021.853355775}, {\"NodeId\": \"RX SOLICITUD\", \"ArrivalTime\": 15643021.853355775, \"ServiceStartTime\": 15643021.853355775, \"DepartureTime\": 15646156.044813802}, {\"NodeId\": \"RX EXPLORACION\", \"ArrivalTime\": 15646156.044813802, \"ServiceStartTime\": 15646156.044813802, \"DepartureTime\": 15667871.37660425}, {\"NodeId\": \"ALTA\", \"ArrivalTime\": 15667871.37660425, \"ServiceStartTime\": 15667871.37660425, \"DepartureTime\": 15667871.37660425}]}, {\"Priority\": 1, \"Step\": [{\"NodeId\": \"ADMISION\", \"ArrivalTime\": 15638288.739532927, \"ServiceStartTime\": 15638288.739532927, \"DepartureTime\": 15639064.870397644}, {\"NodeId\": \"TRIAJE\", \"ArrivalTime\": 15639064.870397644, \"ServiceStartTime\": 15639064.870397644, \"DepartureTime\": 15643021.853355775}, {\"NodeId\": \"RX SOLICITUD\", \"ArrivalTime\": 15643021.853355775, \"ServiceStartTime\": 15643021.853355775, \"DepartureTime\": 15646156.044813802}, {\"NodeId\": \"RX EXPLORACION\", \"ArrivalTime\": 15646156.044813802, \"ServiceStartTime\": 15646156.044813802, \"DepartureTime\": 15667871.37660425}, {\"NodeId\": \"ALTA\", \"ArrivalTime\": 15667871.37660425, \"ServiceStartTime\": 15667871.37660425, \"DepartureTime\": 15667871.37660425}]}, {\"Priority\": 1, \"Step\": [{\"NodeId\": \"ADMISION\", \"ArrivalTime\": 15638288.739532927, \"ServiceStartTime\": 15638288.739532927, \"DepartureTime\": 15639064.870397644}, {\"NodeId\": \"TRIAJE\", \"ArrivalTime\": 15639064.870397644, \"ServiceStartTime\": 15639064.870397644, \"DepartureTime\": 15643021.853355775}, {\"NodeId\": \"RX SOLICITUD\", \"ArrivalTime\": 15643021.853355775, \"ServiceStartTime\": 15643021.853355775, \"DepartureTime\": 15646156.044813802}, {\"NodeId\": \"RX EXPLORACION\", \"ArrivalTime\": 15646156.044813802, \"ServiceStartTime\": 15646156.044813802, \"DepartureTime\": 15667871.37660425}, {\"NodeId\": \"ALTA\", \"ArrivalTime\": 15667871.37660425, \"ServiceStartTime\": 15667871.37660425, \"DepartureTime\": 15667871.37660425}]}, {\"Priority\": 1, \"Step\": [{\"NodeId\": \"ADMISION\", \"ArrivalTime\": 15638288.739532927, \"ServiceStartTime\": 15638288.739532927, \"DepartureTime\": 15639064.870397644}, {\"NodeId\": \"TRIAJE\", \"ArrivalTime\": 15639064.870397644, \"ServiceStartTime\": 15639064.870397644, \"DepartureTime\": 15643021.853355775}, {\"NodeId\": \"RX SOLICITUD\", \"ArrivalTime\": 15643021.853355775, \"ServiceStartTime\": 15643021.853355775, \"DepartureTime\": 15646156.044813802}, {\"NodeId\": \"RX EXPLORACION\", \"ArrivalTime\": 15646156.044813802, \"ServiceStartTime\": 15646156.044813802, \"DepartureTime\": 15667871.37660425}, {\"NodeId\": \"ALTA\", \"ArrivalTime\": 15667871.37660425, \"ServiceStartTime\": 15667871.37660425, \"DepartureTime\": 15667871.37660425}]}, {\"Priority\": 1, \"Step\": [{\"NodeId\": \"ADMISION\", \"ArrivalTime\": 15694052.284046693, \"ServiceStartTime\": 15694052.284046693, \"DepartureTime\": 15694872.20622568}, {\"NodeId\": \"TRIAJE\", \"ArrivalTime\": 15694872.20622568, \"ServiceStartTime\": 15694872.20622568, \"DepartureTime\": 15700131.894941634}, {\"NodeId\": \"RX SOLICITUD\", \"ArrivalTime\": 15712071.311284047, \"ServiceStartTime\": 15712071.311284047, \"DepartureTime\": 15715615.630350195}, {\"NodeId\": \"RX INFORME\", \"ArrivalTime\": 15708589.093385214, \"ServiceStartTime\": 15708589.093385214, \"DepartureTime\": 15724010.72762646}, {\"NodeId\": \"RX EXPLORACION\", \"ArrivalTime\": 15715615.630350195, \"ServiceStartTime\": 15715615.630350195, \"DepartureTime\": 15729071.505836576}, {\"NodeId\": \"ALTA\", \"ArrivalTime\": 15749553.918287938, \"ServiceStartTime\": 15749553.918287938, \"DepartureTime\": 15749553.918287938}]}, {\"Priority\": 1, \"Step\": [{\"NodeId\": \"ADMISION\", \"ArrivalTime\": 15780019.382099828, \"ServiceStartTime\": 15780019.382099828, \"DepartureTime\": 15780750.018932875}, {\"NodeId\": \"TRIAJE\", \"ArrivalTime\": 15780750.018932875, \"ServiceStartTime\": 15780750.018932875, \"DepartureTime\": 15785072.39414802}, {\"NodeId\": \"RX SOLICITUD\", \"ArrivalTime\": 15791909.554216867, \"ServiceStartTime\": 15791909.554216867, \"DepartureTime\": 15796746.163511187}, {\"NodeId\": \"RX EXPLORACION\", \"ArrivalTime\": 15797102.858864028, \"ServiceStartTime\": 15797102.858864028, \"DepartureTime\": 15814264.459552495}, {\"NodeId\": \"RX INFORME\", \"ArrivalTime\": 15805249.950086059, \"ServiceStartTime\": 15805249.950086059, \"DepartureTime\": 15805963.340791738}, {\"NodeId\": \"ALTA\", \"ArrivalTime\": 15829782.204819277, \"ServiceStartTime\": 15829782.204819277, \"DepartureTime\": 15829782.204819277}]}, {\"Priority\": 1, \"Step\": [{\"NodeId\": \"ADMISION\", \"ArrivalTime\": 15830221.0, \"ServiceStartTime\": 15830221.0, \"DepartureTime\": 15830821.0}, {\"NodeId\": \"TRIAJE\", \"ArrivalTime\": 15830821.0, \"ServiceStartTime\": 15830821.0, \"DepartureTime\": 15833161.0}, {\"NodeId\": \"RX SOLICITUD\", \"ArrivalTime\": 15843961.0, \"ServiceStartTime\": 15843961.0, \"DepartureTime\": 15847346.0}, {\"NodeId\": \"RX EXPLORACION\", \"ArrivalTime\": 15846863.5, \"ServiceStartTime\": 15846863.5, \"DepartureTime\": 15859651.0}, {\"NodeId\": \"RX INFORME\", \"ArrivalTime\": 15845086.0, \"ServiceStartTime\": 15845086.0, \"DepartureTime\": 15845416.0}, {\"NodeId\": \"ALTA\", \"ArrivalTime\": 15894796.0, \"ServiceStartTime\": 15894796.0, \"DepartureTime\": 15894796.0}]}, {\"Priority\": 1, \"Step\": [{\"NodeId\": \"ADMISION\", \"ArrivalTime\": 15833941.0, \"ServiceStartTime\": 15833941.0, \"DepartureTime\": 15834376.0}, {\"NodeId\": \"TRIAJE\", \"ArrivalTime\": 15834376.0, \"ServiceStartTime\": 15834376.0, \"DepartureTime\": 15866311.0}, {\"NodeId\": \"INTERCONSULTA\", \"ArrivalTime\": 15866311.0, \"ServiceStartTime\": 15866311.0, \"DepartureTime\": 15904996.0}, {\"NodeId\": \"RX SOLICITUD\", \"ArrivalTime\": 15904996.0, \"ServiceStartTime\": 15904996.0, \"DepartureTime\": 15930001.0}, {\"NodeId\": \"RX EXPLORACION\", \"ArrivalTime\": 15930001.0, \"ServiceStartTime\": 15930001.0, \"DepartureTime\": 15932821.0}, {\"NodeId\": \"RX INFORME\", \"ArrivalTime\": 15932821.0, \"ServiceStartTime\": 15932821.0, \"DepartureTime\": 15960076.0}, {\"NodeId\": \"ALTA\", \"ArrivalTime\": 15960076.0, \"ServiceStartTime\": 15960076.0, \"DepartureTime\": 15960076.0}]}, {\"Priority\": 1, \"Step\": [{\"NodeId\": \"ADMISION\", \"ArrivalTime\": 15806417.97368421, \"ServiceStartTime\": 15806417.97368421, \"DepartureTime\": 15807179.02631579}, {\"NodeId\": \"TRIAJE\", \"ArrivalTime\": 15807179.02631579, \"ServiceStartTime\": 15807179.02631579, \"DepartureTime\": 15811715.736842105}, {\"NodeId\": \"RX SOLICITUD\", \"ArrivalTime\": 15811715.736842105, \"ServiceStartTime\": 15811715.736842105, \"DepartureTime\": 15815368.236842105}, {\"NodeId\": \"RX EXPLORACION\", \"ArrivalTime\": 15815368.236842105, \"ServiceStartTime\": 15815368.236842105, \"DepartureTime\": 15820100.342105264}, {\"NodeId\": \"RX INFORME\", \"ArrivalTime\": 15820100.342105264, \"ServiceStartTime\": 15820100.342105264, \"DepartureTime\": 15837788.5}, {\"NodeId\": \"INTERCONSULTA\", \"ArrivalTime\": 15837788.5, \"ServiceStartTime\": 15837788.5, \"DepartureTime\": 15861912.44736842}, {\"NodeId\": \"RESPUESTA\", \"ArrivalTime\": 15861912.44736842, \"ServiceStartTime\": 15861912.44736842, \"DepartureTime\": 15884017.315789474}, {\"NodeId\": \"ALTA\", \"ArrivalTime\": 15884017.315789474, \"ServiceStartTime\": 15884017.315789474, \"DepartureTime\": 15884017.315789474}]}, {\"Priority\": 1, \"Step\": [{\"NodeId\": \"ADMISION\", \"ArrivalTime\": 15804361.0, \"ServiceStartTime\": 15804361.0, \"DepartureTime\": 15804961.0}, {\"NodeId\": \"TRIAJE\", \"ArrivalTime\": 15804961.0, \"ServiceStartTime\": 15804961.0, \"DepartureTime\": 15805921.0}, {\"NodeId\": \"RX INFORME\", \"ArrivalTime\": 15844201.0, \"ServiceStartTime\": 15844201.0, \"DepartureTime\": 15859501.0}, {\"NodeId\": \"RX SOLICITUD\", \"ArrivalTime\": 15843661.0, \"ServiceStartTime\": 15843661.0, \"DepartureTime\": 15845701.0}, {\"NodeId\": \"INTERCONSULTA\", \"ArrivalTime\": 15859801.0, \"ServiceStartTime\": 15859801.0, \"DepartureTime\": 15870691.0}, {\"NodeId\": \"RESPUESTA\", \"ArrivalTime\": 15859981.0, \"ServiceStartTime\": 15859981.0, \"DepartureTime\": 15860101.0}, {\"NodeId\": \"RX EXPLORACION\", \"ArrivalTime\": 15845701.0, \"ServiceStartTime\": 15845701.0, \"DepartureTime\": 15871801.0}, {\"NodeId\": \"ALTA\", \"ArrivalTime\": 15899401.0, \"ServiceStartTime\": 15899401.0, \"DepartureTime\": 15899401.0}]}, {\"Priority\": 1, \"Step\": [{\"NodeId\": \"ADMISION\", \"ArrivalTime\": 15821502.05263158, \"ServiceStartTime\": 15821502.05263158, \"DepartureTime\": 15822089.421052631}, {\"NodeId\": \"TRIAJE\", \"ArrivalTime\": 15822089.421052631, \"ServiceStartTime\": 15822089.421052631, \"DepartureTime\": 15825373.631578946}, {\"NodeId\": \"RX SOLICITUD\", \"ArrivalTime\": 15842698.894736841, \"ServiceStartTime\": 15842698.894736841, \"DepartureTime\": 15847384.157894736}, {\"NodeId\": \"RX EXPLORACION\", \"ArrivalTime\": 15847666.263157895, \"ServiceStartTime\": 15847666.263157895, \"DepartureTime\": 15859334.684210526}, {\"NodeId\": \"RX INFORME\", \"ArrivalTime\": 15857887.315789474, \"ServiceStartTime\": 15857887.315789474, \"DepartureTime\": 15868371.52631579}, {\"NodeId\": \"ALTA\", \"ArrivalTime\": 15895403.105263159, \"ServiceStartTime\": 15895403.105263159, \"DepartureTime\": 15895403.105263159}]}, {\"Priority\": 1, \"Step\": [{\"NodeId\": \"ADMISION\", \"ArrivalTime\": 15859801.0, \"ServiceStartTime\": 15859801.0, \"DepartureTime\": 15861121.0}, {\"NodeId\": \"TRIAJE\", \"ArrivalTime\": 15861121.0, \"ServiceStartTime\": 15861121.0, \"DepartureTime\": 15868081.0}, {\"NodeId\": \"RX SOLICITUD\", \"ArrivalTime\": 15870991.0, \"ServiceStartTime\": 15870991.0, \"DepartureTime\": 15874951.0}, {\"NodeId\": \"RX EXPLORACION\", \"ArrivalTime\": 15874951.0, \"ServiceStartTime\": 15874951.0, \"DepartureTime\": 15878581.0}, {\"NodeId\": \"INTERCONSULTA\", \"ArrivalTime\": 15883261.0, \"ServiceStartTime\": 15883261.0, \"DepartureTime\": 15883321.0}, {\"NodeId\": \"RX INFORME\", \"ArrivalTime\": 15883291.0, \"ServiceStartTime\": 15883291.0, \"DepartureTime\": 15917131.0}, {\"NodeId\": \"RESPUESTA\", \"ArrivalTime\": 15951001.0, \"ServiceStartTime\": 15951001.0, \"DepartureTime\": 15962701.0}, {\"NodeId\": \"ALTA\", \"ArrivalTime\": 15962701.0, \"ServiceStartTime\": 15962701.0, \"DepartureTime\": 15962701.0}]}, {\"Priority\": 1, \"Step\": [{\"NodeId\": \"ADMISION\", \"ArrivalTime\": 15947824.48661361, \"ServiceStartTime\": 15947824.48661361, \"DepartureTime\": 15948591.846448489}, {\"NodeId\": \"TRIAJE\", \"ArrivalTime\": 15948591.846448489, \"ServiceStartTime\": 15948591.846448489, \"DepartureTime\": 15966245.108202513}, {\"NodeId\": \"ALTA\", \"ArrivalTime\": 15966245.108202513, \"ServiceStartTime\": 15966245.108202513, \"DepartureTime\": 15966245.108202513}]}, {\"Priority\": 1, \"Step\": [{\"NodeId\": \"ADMISION\", \"ArrivalTime\": 15947824.48661361, \"ServiceStartTime\": 15947824.48661361, \"DepartureTime\": 15948591.846448489}, {\"NodeId\": \"TRIAJE\", \"ArrivalTime\": 15948591.846448489, \"ServiceStartTime\": 15948591.846448489, \"DepartureTime\": 15966245.108202513}, {\"NodeId\": \"ALTA\", \"ArrivalTime\": 15966245.108202513, \"ServiceStartTime\": 15966245.108202513, \"DepartureTime\": 15966245.108202513}]}, {\"Priority\": 1, \"Step\": [{\"NodeId\": \"ADMISION\", \"ArrivalTime\": 15947824.48661361, \"ServiceStartTime\": 15947824.48661361, \"DepartureTime\": 15948591.846448489}, {\"NodeId\": \"TRIAJE\", \"ArrivalTime\": 15948591.846448489, \"ServiceStartTime\": 15948591.846448489, \"DepartureTime\": 15966245.108202513}, {\"NodeId\": \"ALTA\", \"ArrivalTime\": 15966245.108202513, \"ServiceStartTime\": 15966245.108202513, \"DepartureTime\": 15966245.108202513}]}, {\"Priority\": 1, \"Step\": [{\"NodeId\": \"ADMISION\", \"ArrivalTime\": 15947824.48661361, \"ServiceStartTime\": 15947824.48661361, \"DepartureTime\": 15948591.846448489}, {\"NodeId\": \"TRIAJE\", \"ArrivalTime\": 15948591.846448489, \"ServiceStartTime\": 15948591.846448489, \"DepartureTime\": 15966245.108202513}, {\"NodeId\": \"ALTA\", \"ArrivalTime\": 15966245.108202513, \"ServiceStartTime\": 15966245.108202513, \"DepartureTime\": 15966245.108202513}]}, {\"Priority\": 1, \"Step\": [{\"NodeId\": \"ADMISION\", \"ArrivalTime\": 15947824.48661361, \"ServiceStartTime\": 15947824.48661361, \"DepartureTime\": 15948591.846448489}, {\"NodeId\": \"TRIAJE\", \"ArrivalTime\": 15948591.846448489, \"ServiceStartTime\": 15948591.846448489, \"DepartureTime\": 15966245.108202513}, {\"NodeId\": \"ALTA\", \"ArrivalTime\": 15966245.108202513, \"ServiceStartTime\": 15966245.108202513, \"DepartureTime\": 15966245.108202513}]}, {\"Priority\": 1, \"Step\": [{\"NodeId\": \"ADMISION\", \"ArrivalTime\": 15947824.48661361, \"ServiceStartTime\": 15947824.48661361, \"DepartureTime\": 15948591.846448489}, {\"NodeId\": \"TRIAJE\", \"ArrivalTime\": 15948591.846448489, \"ServiceStartTime\": 15948591.846448489, \"DepartureTime\": 15966245.108202513}, {\"NodeId\": \"ALTA\", \"ArrivalTime\": 15966245.108202513, \"ServiceStartTime\": 15966245.108202513, \"DepartureTime\": 15966245.108202513}]}, {\"Priority\": 1, \"Step\": [{\"NodeId\": \"ADMISION\", \"ArrivalTime\": 15947824.48661361, \"ServiceStartTime\": 15947824.48661361, \"DepartureTime\": 15948591.846448489}, {\"NodeId\": \"TRIAJE\", \"ArrivalTime\": 15948591.846448489, \"ServiceStartTime\": 15948591.846448489, \"DepartureTime\": 15966245.108202513}, {\"NodeId\": \"ALTA\", \"ArrivalTime\": 15966245.108202513, \"ServiceStartTime\": 15966245.108202513, \"DepartureTime\": 15966245.108202513}]}, {\"Priority\": 1, \"Step\": [{\"NodeId\": \"ADMISION\", \"ArrivalTime\": 15947824.48661361, \"ServiceStartTime\": 15947824.48661361, \"DepartureTime\": 15948591.846448489}, {\"NodeId\": \"TRIAJE\", \"ArrivalTime\": 15948591.846448489, \"ServiceStartTime\": 15948591.846448489, \"DepartureTime\": 15966245.108202513}, {\"NodeId\": \"ALTA\", \"ArrivalTime\": 15966245.108202513, \"ServiceStartTime\": 15966245.108202513, \"DepartureTime\": 15966245.108202513}]}, {\"Priority\": 1, \"Step\": [{\"NodeId\": \"ADMISION\", \"ArrivalTime\": 15947824.48661361, \"ServiceStartTime\": 15947824.48661361, \"DepartureTime\": 15948591.846448489}, {\"NodeId\": \"TRIAJE\", \"ArrivalTime\": 15948591.846448489, \"ServiceStartTime\": 15948591.846448489, \"DepartureTime\": 15966245.108202513}, {\"NodeId\": \"ALTA\", \"ArrivalTime\": 15966245.108202513, \"ServiceStartTime\": 15966245.108202513, \"DepartureTime\": 15966245.108202513}]}, {\"Priority\": 1, \"Step\": [{\"NodeId\": \"ADMISION\", \"ArrivalTime\": 15947824.48661361, \"ServiceStartTime\": 15947824.48661361, \"DepartureTime\": 15948591.846448489}, {\"NodeId\": \"TRIAJE\", \"ArrivalTime\": 15948591.846448489, \"ServiceStartTime\": 15948591.846448489, \"DepartureTime\": 15966245.108202513}, {\"NodeId\": \"ALTA\", \"ArrivalTime\": 15966245.108202513, \"ServiceStartTime\": 15966245.108202513, \"DepartureTime\": 15966245.108202513}]}, {\"Priority\": 1, \"Step\": [{\"NodeId\": \"ADMISION\", \"ArrivalTime\": 15971437.0, \"ServiceStartTime\": 15971437.0, \"DepartureTime\": 15971929.0}, {\"NodeId\": \"TRIAJE\", \"ArrivalTime\": 15971929.0, \"ServiceStartTime\": 15971929.0, \"DepartureTime\": 15974005.0}, {\"NodeId\": \"RX SOLICITUD\", \"ArrivalTime\": 15974005.0, \"ServiceStartTime\": 15974005.0, \"DepartureTime\": 15975265.0}, {\"NodeId\": \"INTERCONSULTA\", \"ArrivalTime\": 15975265.0, \"ServiceStartTime\": 15975265.0, \"DepartureTime\": 15977149.0}, {\"NodeId\": \"RX EXPLORACION\", \"ArrivalTime\": 15977149.0, \"ServiceStartTime\": 15977149.0, \"DepartureTime\": 15981565.0}, {\"NodeId\": \"RESPUESTA\", \"ArrivalTime\": 15981565.0, \"ServiceStartTime\": 15981565.0, \"DepartureTime\": 15983329.0}, {\"NodeId\": \"RX INFORME\", \"ArrivalTime\": 15983329.0, \"ServiceStartTime\": 15983329.0, \"DepartureTime\": 15990277.0}, {\"NodeId\": \"ALTA\", \"ArrivalTime\": 15990277.0, \"ServiceStartTime\": 15990277.0, \"DepartureTime\": 15990277.0}]}, {\"Priority\": 1, \"Step\": [{\"NodeId\": \"ADMISION\", \"ArrivalTime\": 15981519.300242823, \"ServiceStartTime\": 15981519.300242823, \"DepartureTime\": 15982302.882588202}, {\"NodeId\": \"TRIAJE\", \"ArrivalTime\": 15982302.882588202, \"ServiceStartTime\": 15982302.882588202, \"DepartureTime\": 15988681.137123268}, {\"NodeId\": \"RX SOLICITUD\", \"ArrivalTime\": 15988681.137123268, \"ServiceStartTime\": 15988681.137123268, \"DepartureTime\": 15993179.988715898}, {\"NodeId\": \"RX EXPLORACION\", \"ArrivalTime\": 15993179.988715898, \"ServiceStartTime\": 15993179.988715898, \"DepartureTime\": 15998359.357377518}, {\"NodeId\": \"RX INFORME\", \"ArrivalTime\": 15998359.357377518, \"ServiceStartTime\": 15998359.357377518, \"DepartureTime\": 16017998.00614198}, {\"NodeId\": \"ALTA\", \"ArrivalTime\": 16017998.00614198, \"ServiceStartTime\": 16017998.00614198, \"DepartureTime\": 16017998.00614198}]}, {\"Priority\": 1, \"Step\": [{\"NodeId\": \"ADMISION\", \"ArrivalTime\": 15981519.300242823, \"ServiceStartTime\": 15981519.300242823, \"DepartureTime\": 15982302.882588202}, {\"NodeId\": \"TRIAJE\", \"ArrivalTime\": 15982302.882588202, \"ServiceStartTime\": 15982302.882588202, \"DepartureTime\": 15988681.137123268}, {\"NodeId\": \"RX SOLICITUD\", \"ArrivalTime\": 15988681.137123268, \"ServiceStartTime\": 15988681.137123268, \"DepartureTime\": 15993179.988715898}, {\"NodeId\": \"RX EXPLORACION\", \"ArrivalTime\": 15993179.988715898, \"ServiceStartTime\": 15993179.988715898, \"DepartureTime\": 15998359.357377518}, {\"NodeId\": \"RX INFORME\", \"ArrivalTime\": 15998359.357377518, \"ServiceStartTime\": 15998359.357377518, \"DepartureTime\": 16017998.00614198}, {\"NodeId\": \"ALTA\", \"ArrivalTime\": 16017998.00614198, \"ServiceStartTime\": 16017998.00614198, \"DepartureTime\": 16017998.00614198}]}, {\"Priority\": 1, \"Step\": [{\"NodeId\": \"ADMISION\", \"ArrivalTime\": 16014931.0, \"ServiceStartTime\": 16014931.0, \"DepartureTime\": 16015351.0}, {\"NodeId\": \"TRIAJE\", \"ArrivalTime\": 16015351.0, \"ServiceStartTime\": 16015351.0, \"DepartureTime\": 16022761.0}, {\"NodeId\": \"RX EXPLORACION\", \"ArrivalTime\": 16048786.0, \"ServiceStartTime\": 16048786.0, \"DepartureTime\": 16052551.0}, {\"NodeId\": \"RX SOLICITUD\", \"ArrivalTime\": 16066921.0, \"ServiceStartTime\": 16066921.0, \"DepartureTime\": 16072631.0}, {\"NodeId\": \"RX INFORME\", \"ArrivalTime\": 16052551.0, \"ServiceStartTime\": 16052551.0, \"DepartureTime\": 16089001.0}, {\"NodeId\": \"ALTA\", \"ArrivalTime\": 16120321.0, \"ServiceStartTime\": 16120321.0, \"DepartureTime\": 16120321.0}]}, {\"Priority\": 1, \"Step\": [{\"NodeId\": \"ADMISION\", \"ArrivalTime\": 16016066.714285715, \"ServiceStartTime\": 16016066.714285715, \"DepartureTime\": 16016681.0}, {\"NodeId\": \"TRIAJE\", \"ArrivalTime\": 16016681.0, \"ServiceStartTime\": 16016681.0, \"DepartureTime\": 16020792.42857143}, {\"NodeId\": \"INTERCONSULTA\", \"ArrivalTime\": 16039149.57142857, \"ServiceStartTime\": 16039149.57142857, \"DepartureTime\": 16054421.0}, {\"NodeId\": \"RX SOLICITUD\", \"ArrivalTime\": 16045251.0, \"ServiceStartTime\": 16045251.0, \"DepartureTime\": 16048673.857142856}, {\"NodeId\": \"RESPUESTA\", \"ArrivalTime\": 16054421.0, \"ServiceStartTime\": 16054421.0, \"DepartureTime\": 16069709.57142857}, {\"NodeId\": \"RX EXPLORACION\", \"ArrivalTime\": 16048673.857142856, \"ServiceStartTime\": 16048673.857142856, \"DepartureTime\": 16058891.0}, {\"NodeId\": \"RX INFORME\", \"ArrivalTime\": 16078632.42857143, \"ServiceStartTime\": 16078632.42857143, \"DepartureTime\": 16097155.285714285}, {\"NodeId\": \"ALTA\", \"ArrivalTime\": 16097155.285714285, \"ServiceStartTime\": 16097155.285714285, \"DepartureTime\": 16097155.285714285}]}, {\"Priority\": 1, \"Step\": [{\"NodeId\": \"ADMISION\", \"ArrivalTime\": 16031901.0, \"ServiceStartTime\": 16031901.0, \"DepartureTime\": 16032381.0}, {\"NodeId\": \"TRIAJE\", \"ArrivalTime\": 16032381.0, \"ServiceStartTime\": 16032381.0, \"DepartureTime\": 16033801.0}, {\"NodeId\": \"RX EXPLORACION\", \"ArrivalTime\": 16053247.666666666, \"ServiceStartTime\": 16053247.666666666, \"DepartureTime\": 16064414.333333334}, {\"NodeId\": \"RX SOLICITUD\", \"ArrivalTime\": 16059381.0, \"ServiceStartTime\": 16059381.0, \"DepartureTime\": 16072111.0}, {\"NodeId\": \"RX INFORME\", \"ArrivalTime\": 16077561.0, \"ServiceStartTime\": 16077561.0, \"DepartureTime\": 16088041.0}, {\"NodeId\": \"ALTA\", \"ArrivalTime\": 16128701.0, \"ServiceStartTime\": 16128701.0, \"DepartureTime\": 16128701.0}]}, {\"Priority\": 1, \"Step\": [{\"NodeId\": \"ADMISION\", \"ArrivalTime\": 16054026.930232558, \"ServiceStartTime\": 16054026.930232558, \"DepartureTime\": 16054801.697674418}, {\"NodeId\": \"TRIAJE\", \"ArrivalTime\": 16054801.697674418, \"ServiceStartTime\": 16054801.697674418, \"DepartureTime\": 16058628.790697675}, {\"NodeId\": \"RX EXPLORACION\", \"ArrivalTime\": 16061522.744186046, \"ServiceStartTime\": 16061522.744186046, \"DepartureTime\": 16073157.686046511}, {\"NodeId\": \"RX SOLICITUD\", \"ArrivalTime\": 16065893.238372093, \"ServiceStartTime\": 16065893.238372093, \"DepartureTime\": 16077919.052325582}, {\"NodeId\": \"ALTA\", \"ArrivalTime\": 16094315.360465117, \"ServiceStartTime\": 16094315.360465117, \"DepartureTime\": 16094315.360465117}]}, {\"Priority\": 1, \"Step\": [{\"NodeId\": \"ADMISION\", \"ArrivalTime\": 16054026.930232558, \"ServiceStartTime\": 16054026.930232558, \"DepartureTime\": 16054801.697674418}, {\"NodeId\": \"TRIAJE\", \"ArrivalTime\": 16054801.697674418, \"ServiceStartTime\": 16054801.697674418, \"DepartureTime\": 16058628.790697675}, {\"NodeId\": \"RX EXPLORACION\", \"ArrivalTime\": 16061522.744186046, \"ServiceStartTime\": 16061522.744186046, \"DepartureTime\": 16073157.686046511}, {\"NodeId\": \"RX SOLICITUD\", \"ArrivalTime\": 16065893.238372093, \"ServiceStartTime\": 16065893.238372093, \"DepartureTime\": 16077919.052325582}, {\"NodeId\": \"ALTA\", \"ArrivalTime\": 16094315.360465117, \"ServiceStartTime\": 16094315.360465117, \"DepartureTime\": 16094315.360465117}]}, {\"Priority\": 1, \"Step\": [{\"NodeId\": \"ADMISION\", \"ArrivalTime\": 16040808.368421054, \"ServiceStartTime\": 16040808.368421054, \"DepartureTime\": 16041588.368421054}, {\"NodeId\": \"TRIAJE\", \"ArrivalTime\": 16041588.368421054, \"ServiceStartTime\": 16041588.368421054, \"DepartureTime\": 16045463.105263159}, {\"NodeId\": \"RX SOLICITUD\", \"ArrivalTime\": 16064954.684210526, \"ServiceStartTime\": 16064954.684210526, \"DepartureTime\": 16068142.05263158}, {\"NodeId\": \"RX EXPLORACION\", \"ArrivalTime\": 16068379.94736842, \"ServiceStartTime\": 16068379.94736842, \"DepartureTime\": 16087387.315789474}, {\"NodeId\": \"RX INFORME\", \"ArrivalTime\": 16084542.05263158, \"ServiceStartTime\": 16084542.05263158, \"DepartureTime\": 16085255.736842105}, {\"NodeId\": \"ALTA\", \"ArrivalTime\": 16112761.0, \"ServiceStartTime\": 16112761.0, \"DepartureTime\": 16112761.0}]}, {\"Priority\": 1, \"Step\": [{\"NodeId\": \"ADMISION\", \"ArrivalTime\": 16099441.0, \"ServiceStartTime\": 16099441.0, \"DepartureTime\": 16099981.0}, {\"NodeId\": \"TRIAJE\", \"ArrivalTime\": 16099981.0, \"ServiceStartTime\": 16099981.0, \"DepartureTime\": 16104241.0}, {\"NodeId\": \"RX SOLICITUD\", \"ArrivalTime\": 16108921.0, \"ServiceStartTime\": 16108921.0, \"DepartureTime\": 16113211.0}, {\"NodeId\": \"INTERCONSULTA\", \"ArrivalTime\": 16110841.0, \"ServiceStartTime\": 16110841.0, \"DepartureTime\": 16113601.0}, {\"NodeId\": \"RX EXPLORACION\", \"ArrivalTime\": 16113991.0, \"ServiceStartTime\": 16113991.0, \"DepartureTime\": 16118731.0}, {\"NodeId\": \"RESPUESTA\", \"ArrivalTime\": 16120441.0, \"ServiceStartTime\": 16120441.0, \"DepartureTime\": 16121461.0}, {\"NodeId\": \"RX INFORME\", \"ArrivalTime\": 16121461.0, \"ServiceStartTime\": 16121461.0, \"DepartureTime\": 16122001.0}, {\"NodeId\": \"ALTA\", \"ArrivalTime\": 16126621.0, \"ServiceStartTime\": 16126621.0, \"DepartureTime\": 16126621.0}]}, {\"Priority\": 1, \"Step\": [{\"NodeId\": \"ADMISION\", \"ArrivalTime\": 16125421.0, \"ServiceStartTime\": 16125421.0, \"DepartureTime\": 16126261.0}, {\"NodeId\": \"TRIAJE\", \"ArrivalTime\": 16126261.0, \"ServiceStartTime\": 16126261.0, \"DepartureTime\": 16140301.0}, {\"NodeId\": \"RX SOLICITUD\", \"ArrivalTime\": 16144321.0, \"ServiceStartTime\": 16144321.0, \"DepartureTime\": 16150021.0}, {\"NodeId\": \"INTERCONSULTA\", \"ArrivalTime\": 16180651.0, \"ServiceStartTime\": 16180651.0, \"DepartureTime\": 16189411.0}, {\"NodeId\": \"RX EXPLORACION\", \"ArrivalTime\": 16158961.0, \"ServiceStartTime\": 16158961.0, \"DepartureTime\": 16193041.0}, {\"NodeId\": \"RESPUESTA\", \"ArrivalTime\": 16193041.0, \"ServiceStartTime\": 16193041.0, \"DepartureTime\": 16220221.0}, {\"NodeId\": \"ALTA\", \"ArrivalTime\": 16230481.0, \"ServiceStartTime\": 16230481.0, \"DepartureTime\": 16230481.0}]}, {\"Priority\": 1, \"Step\": [{\"NodeId\": \"ADMISION\", \"ArrivalTime\": 16141366.0, \"ServiceStartTime\": 16141366.0, \"DepartureTime\": 16142686.0}, {\"NodeId\": \"TRIAJE\", \"ArrivalTime\": 16142686.0, \"ServiceStartTime\": 16142686.0, \"DepartureTime\": 16146466.0}, {\"NodeId\": \"RX EXPLORACION\", \"ArrivalTime\": 16154551.0, \"ServiceStartTime\": 16154551.0, \"DepartureTime\": 16162163.5}, {\"NodeId\": \"RX SOLICITUD\", \"ArrivalTime\": 16162163.5, \"ServiceStartTime\": 16162163.5, \"DepartureTime\": 16172183.5}, {\"NodeId\": \"RX INFORME\", \"ArrivalTime\": 16181731.0, \"ServiceStartTime\": 16181731.0, \"DepartureTime\": 16187896.0}, {\"NodeId\": \"ALTA\", \"ArrivalTime\": 16187896.0, \"ServiceStartTime\": 16187896.0, \"DepartureTime\": 16187896.0}]}, {\"Priority\": 1, \"Step\": [{\"NodeId\": \"ADMISION\", \"ArrivalTime\": 16189521.0, \"ServiceStartTime\": 16189521.0, \"DepartureTime\": 16190261.0}, {\"NodeId\": \"TRIAJE\", \"ArrivalTime\": 16190261.0, \"ServiceStartTime\": 16190261.0, \"DepartureTime\": 16197141.0}, {\"NodeId\": \"INTERCONSULTA\", \"ArrivalTime\": 16197141.0, \"ServiceStartTime\": 16197141.0, \"DepartureTime\": 16200981.0}, {\"NodeId\": \"RX SOLICITUD\", \"ArrivalTime\": 16200981.0, \"ServiceStartTime\": 16200981.0, \"DepartureTime\": 16203001.0}, {\"NodeId\": \"RESPUESTA\", \"ArrivalTime\": 16203001.0, \"ServiceStartTime\": 16203001.0, \"DepartureTime\": 16205021.0}, {\"NodeId\": \"RX EXPLORACION\", \"ArrivalTime\": 16205021.0, \"ServiceStartTime\": 16205021.0, \"DepartureTime\": 16206021.0}, {\"NodeId\": \"RX INFORME\", \"ArrivalTime\": 16206021.0, \"ServiceStartTime\": 16206021.0, \"DepartureTime\": 16218061.0}, {\"NodeId\": \"ALTA\", \"ArrivalTime\": 16218061.0, \"ServiceStartTime\": 16218061.0, \"DepartureTime\": 16218061.0}]}, {\"Priority\": 1, \"Step\": [{\"NodeId\": \"ADMISION\", \"ArrivalTime\": 16124118.142857144, \"ServiceStartTime\": 16124118.142857144, \"DepartureTime\": 16124641.0}, {\"NodeId\": \"TRIAJE\", \"ArrivalTime\": 16124641.0, \"ServiceStartTime\": 16124641.0, \"DepartureTime\": 16127401.0}, {\"NodeId\": \"RX SOLICITUD\", \"ArrivalTime\": 16135595.285714285, \"ServiceStartTime\": 16135595.285714285, \"DepartureTime\": 16139885.285714285}, {\"NodeId\": \"RX EXPLORACION\", \"ArrivalTime\": 16143983.857142856, \"ServiceStartTime\": 16143983.857142856, \"DepartureTime\": 16160066.714285715}, {\"NodeId\": \"RX INFORME\", \"ArrivalTime\": 16151058.142857144, \"ServiceStartTime\": 16151058.142857144, \"DepartureTime\": 16152181.0}, {\"NodeId\": \"INTERCONSULTA\", \"ArrivalTime\": 16185352.42857143, \"ServiceStartTime\": 16185352.42857143, \"DepartureTime\": 16204466.714285715}, {\"NodeId\": \"RESPUESTA\", \"ArrivalTime\": 16204466.714285715, \"ServiceStartTime\": 16204466.714285715, \"DepartureTime\": 16222612.42857143}, {\"NodeId\": \"ALTA\", \"ArrivalTime\": 16222612.42857143, \"ServiceStartTime\": 16222612.42857143, \"DepartureTime\": 16222612.42857143}]}, {\"Priority\": 1, \"Step\": [{\"NodeId\": \"ADMISION\", \"ArrivalTime\": 16150946.30120482, \"ServiceStartTime\": 16150946.30120482, \"DepartureTime\": 16151593.702237522}, {\"NodeId\": \"TRIAJE\", \"ArrivalTime\": 16151593.702237522, \"ServiceStartTime\": 16151593.702237522, \"DepartureTime\": 16155176.456110155}, {\"NodeId\": \"RX SOLICITUD\", \"ArrivalTime\": 16155176.456110155, \"ServiceStartTime\": 16155176.456110155, \"DepartureTime\": 16158812.703958692}, {\"NodeId\": \"RX EXPLORACION\", \"ArrivalTime\": 16158812.703958692, \"ServiceStartTime\": 16158812.703958692, \"DepartureTime\": 16185568.160068847}, {\"NodeId\": \"INTERCONSULTA\", \"ArrivalTime\": 16185568.160068847, \"ServiceStartTime\": 16185568.160068847, \"DepartureTime\": 16202254.046471601}, {\"NodeId\": \"RESPUESTA\", \"ArrivalTime\": 16202254.046471601, \"ServiceStartTime\": 16202254.046471601, \"DepartureTime\": 16223835.457831325}, {\"NodeId\": \"ALTA\", \"ArrivalTime\": 16223835.457831325, \"ServiceStartTime\": 16223835.457831325, \"DepartureTime\": 16223835.457831325}]}, {\"Priority\": 1, \"Step\": [{\"NodeId\": \"ADMISION\", \"ArrivalTime\": 16205330.787234042, \"ServiceStartTime\": 16205330.787234042, \"DepartureTime\": 16206129.936170213}, {\"NodeId\": \"TRIAJE\", \"ArrivalTime\": 16206129.936170213, \"ServiceStartTime\": 16206129.936170213, \"DepartureTime\": 16213486.957446808}, {\"NodeId\": \"RX EXPLORACION\", \"ArrivalTime\": 16217504.40425532, \"ServiceStartTime\": 16217504.40425532, \"DepartureTime\": 16223688.234042553}, {\"NodeId\": \"RX SOLICITUD\", \"ArrivalTime\": 16226743.765957447, \"ServiceStartTime\": 16226743.765957447, \"DepartureTime\": 16239094.191489361}, {\"NodeId\": \"RX INFORME\", \"ArrivalTime\": 16223688.234042553, \"ServiceStartTime\": 16223688.234042553, \"DepartureTime\": 16240000.574468086}, {\"NodeId\": \"ALTA\", \"ArrivalTime\": 16260683.978723405, \"ServiceStartTime\": 16260683.978723405, \"DepartureTime\": 16260683.978723405}]}, {\"Priority\": 1, \"Step\": [{\"NodeId\": \"ADMISION\", \"ArrivalTime\": 16209121.0, \"ServiceStartTime\": 16209121.0, \"DepartureTime\": 16209901.0}, {\"NodeId\": \"TRIAJE\", \"ArrivalTime\": 16209901.0, \"ServiceStartTime\": 16209901.0, \"DepartureTime\": 16213021.0}, {\"NodeId\": \"RX SOLICITUD\", \"ArrivalTime\": 16257901.0, \"ServiceStartTime\": 16257901.0, \"DepartureTime\": 16263391.0}, {\"NodeId\": \"RX EXPLORACION\", \"ArrivalTime\": 16263451.0, \"ServiceStartTime\": 16263451.0, \"DepartureTime\": 16274131.0}, {\"NodeId\": \"RX INFORME\", \"ArrivalTime\": 16262281.0, \"ServiceStartTime\": 16262281.0, \"DepartureTime\": 16291171.0}, {\"NodeId\": \"ALTA\", \"ArrivalTime\": 16335481.0, \"ServiceStartTime\": 16335481.0, \"DepartureTime\": 16335481.0}]}, {\"Priority\": 1, \"Step\": [{\"NodeId\": \"ADMISION\", \"ArrivalTime\": 16231930.88235294, \"ServiceStartTime\": 16231930.88235294, \"DepartureTime\": 16232698.529411765}, {\"NodeId\": \"TRIAJE\", \"ArrivalTime\": 16232698.529411765, \"ServiceStartTime\": 16232698.529411765, \"DepartureTime\": 16246445.235294119}, {\"NodeId\": \"INTERCONSULTA\", \"ArrivalTime\": 16246445.235294119, \"ServiceStartTime\": 16246445.235294119, \"DepartureTime\": 16268223.11764706}, {\"NodeId\": \"ALTA\", \"ArrivalTime\": 16268223.11764706, \"ServiceStartTime\": 16268223.11764706, \"DepartureTime\": 16268223.11764706}]}, {\"Priority\": 1, \"Step\": [{\"NodeId\": \"ADMISION\", \"ArrivalTime\": 16222645.866760168, \"ServiceStartTime\": 16222645.866760168, \"DepartureTime\": 16223376.638148667}, {\"NodeId\": \"TRIAJE\", \"ArrivalTime\": 16223376.638148667, \"ServiceStartTime\": 16223376.638148667, \"DepartureTime\": 16226656.694249649}, {\"NodeId\": \"RX SOLICITUD\", \"ArrivalTime\": 16234321.736325385, \"ServiceStartTime\": 16234321.736325385, \"DepartureTime\": 16237060.340813464}, {\"NodeId\": \"RX EXPLORACION\", \"ArrivalTime\": 16237060.340813464, \"ServiceStartTime\": 16237060.340813464, \"DepartureTime\": 16253027.49368864}, {\"NodeId\": \"ALTA\", \"ArrivalTime\": 16264068.208976157, \"ServiceStartTime\": 16264068.208976157, \"DepartureTime\": 16264068.208976157}]}, {\"Priority\": 1, \"Step\": [{\"NodeId\": \"ADMISION\", \"ArrivalTime\": 16303651.0, \"ServiceStartTime\": 16303651.0, \"DepartureTime\": 16304531.0}, {\"NodeId\": \"TRIAJE\", \"ArrivalTime\": 16304531.0, \"ServiceStartTime\": 16304531.0, \"DepartureTime\": 16307701.0}, {\"NodeId\": \"RX SOLICITUD\", \"ArrivalTime\": 16307701.0, \"ServiceStartTime\": 16307701.0, \"DepartureTime\": 16310591.0}, {\"NodeId\": \"RX EXPLORACION\", \"ArrivalTime\": 16310591.0, \"ServiceStartTime\": 16310591.0, \"DepartureTime\": 16318891.0}, {\"NodeId\": \"INTERCONSULTA\", \"ArrivalTime\": 16318891.0, \"ServiceStartTime\": 16318891.0, \"DepartureTime\": 16328641.0}, {\"NodeId\": \"RX INFORME\", \"ArrivalTime\": 16328641.0, \"ServiceStartTime\": 16328641.0, \"DepartureTime\": 16336841.0}, {\"NodeId\": \"ALTA\", \"ArrivalTime\": 16336841.0, \"ServiceStartTime\": 16336841.0, \"DepartureTime\": 16336841.0}]}, {\"Priority\": 1, \"Step\": [{\"NodeId\": \"ADMISION\", \"ArrivalTime\": 16286101.0, \"ServiceStartTime\": 16286101.0, \"DepartureTime\": 16286881.0}, {\"NodeId\": \"TRIAJE\", \"ArrivalTime\": 16286881.0, \"ServiceStartTime\": 16286881.0, \"DepartureTime\": 16289281.0}, {\"NodeId\": \"RX SOLICITUD\", \"ArrivalTime\": 16289281.0, \"ServiceStartTime\": 16289281.0, \"DepartureTime\": 16295461.0}, {\"NodeId\": \"RX EXPLORACION\", \"ArrivalTime\": 16295701.0, \"ServiceStartTime\": 16295701.0, \"DepartureTime\": 16298281.0}, {\"NodeId\": \"RX INFORME\", \"ArrivalTime\": 16298281.0, \"ServiceStartTime\": 16298281.0, \"DepartureTime\": 16303951.0}, {\"NodeId\": \"INTERCONSULTA\", \"ArrivalTime\": 16311961.0, \"ServiceStartTime\": 16311961.0, \"DepartureTime\": 16318921.0}, {\"NodeId\": \"ALTA\", \"ArrivalTime\": 16318921.0, \"ServiceStartTime\": 16318921.0, \"DepartureTime\": 16318921.0}]}, {\"Priority\": 1, \"Step\": [{\"NodeId\": \"ADMISION\", \"ArrivalTime\": 16495538.090909092, \"ServiceStartTime\": 16495538.090909092, \"DepartureTime\": 16496235.545454545}, {\"NodeId\": \"TRIAJE\", \"ArrivalTime\": 16496235.545454545, \"ServiceStartTime\": 16496235.545454545, \"DepartureTime\": 16500566.090909092}, {\"NodeId\": \"RX SOLICITUD\", \"ArrivalTime\": 16515210.454545455, \"ServiceStartTime\": 16515210.454545455, \"DepartureTime\": 16519322.333333334}, {\"NodeId\": \"RX EXPLORACION\", \"ArrivalTime\": 16519322.333333334, \"ServiceStartTime\": 16519322.333333334, \"DepartureTime\": 16527406.454545455}, {\"NodeId\": \"RX INFORME\", \"ArrivalTime\": 16537154.090909092, \"ServiceStartTime\": 16537154.090909092, \"DepartureTime\": 16566646.818181818}, {\"NodeId\": \"ALTA\", \"ArrivalTime\": 16566646.818181818, \"ServiceStartTime\": 16566646.818181818, \"DepartureTime\": 16566646.818181818}]}, {\"Priority\": 1, \"Step\": [{\"NodeId\": \"ADMISION\", \"ArrivalTime\": 16546021.0, \"ServiceStartTime\": 16546021.0, \"DepartureTime\": 16547101.0}, {\"NodeId\": \"TRIAJE\", \"ArrivalTime\": 16547101.0, \"ServiceStartTime\": 16547101.0, \"DepartureTime\": 16549741.0}, {\"NodeId\": \"RX SOLICITUD\", \"ArrivalTime\": 16578241.0, \"ServiceStartTime\": 16578241.0, \"DepartureTime\": 16581616.0}, {\"NodeId\": \"RX EXPLORACION\", \"ArrivalTime\": 16586561.0, \"ServiceStartTime\": 16586561.0, \"DepartureTime\": 16591781.0}, {\"NodeId\": \"RX INFORME\", \"ArrivalTime\": 16592321.0, \"ServiceStartTime\": 16592321.0, \"DepartureTime\": 16619421.0}, {\"NodeId\": \"ALTA\", \"ArrivalTime\": 16660201.0, \"ServiceStartTime\": 16660201.0, \"DepartureTime\": 16660201.0}]}, {\"Priority\": 1, \"Step\": [{\"NodeId\": \"ADMISION\", \"ArrivalTime\": 16552261.0, \"ServiceStartTime\": 16552261.0, \"DepartureTime\": 16552981.0}, {\"NodeId\": \"TRIAJE\", \"ArrivalTime\": 16552981.0, \"ServiceStartTime\": 16552981.0, \"DepartureTime\": 16559641.0}, {\"NodeId\": \"RX SOLICITUD\", \"ArrivalTime\": 16571141.0, \"ServiceStartTime\": 16571141.0, \"DepartureTime\": 16580161.0}, {\"NodeId\": \"RX EXPLORACION\", \"ArrivalTime\": 16586561.0, \"ServiceStartTime\": 16586561.0, \"DepartureTime\": 16590261.0}, {\"NodeId\": \"RX INFORME\", \"ArrivalTime\": 16585891.0, \"ServiceStartTime\": 16585891.0, \"DepartureTime\": 16589011.0}, {\"NodeId\": \"ALTA\", \"ArrivalTime\": 16604041.0, \"ServiceStartTime\": 16604041.0, \"DepartureTime\": 16604041.0}]}, {\"Priority\": 1, \"Step\": [{\"NodeId\": \"ADMISION\", \"ArrivalTime\": 16552051.0, \"ServiceStartTime\": 16552051.0, \"DepartureTime\": 16552801.0}, {\"NodeId\": \"TRIAJE\", \"ArrivalTime\": 16552801.0, \"ServiceStartTime\": 16552801.0, \"DepartureTime\": 16555621.0}, {\"NodeId\": \"RX EXPLORACION\", \"ArrivalTime\": 16572751.0, \"ServiceStartTime\": 16572751.0, \"DepartureTime\": 16593946.0}, {\"NodeId\": \"RX SOLICITUD\", \"ArrivalTime\": 16581171.0, \"ServiceStartTime\": 16581171.0, \"DepartureTime\": 16583411.0}, {\"NodeId\": \"RX INFORME\", \"ArrivalTime\": 16604731.0, \"ServiceStartTime\": 16604731.0, \"DepartureTime\": 16626391.0}, {\"NodeId\": \"INTERCONSULTA\", \"ArrivalTime\": 16626391.0, \"ServiceStartTime\": 16626391.0, \"DepartureTime\": 16640851.0}, {\"NodeId\": \"RESPUESTA\", \"ArrivalTime\": 16640851.0, \"ServiceStartTime\": 16640851.0, \"DepartureTime\": 16662991.0}, {\"NodeId\": \"ALTA\", \"ArrivalTime\": 16662991.0, \"ServiceStartTime\": 16662991.0, \"DepartureTime\": 16662991.0}]}, {\"Priority\": 1, \"Step\": [{\"NodeId\": \"ADMISION\", \"ArrivalTime\": 16658701.0, \"ServiceStartTime\": 16658701.0, \"DepartureTime\": 16659961.0}, {\"NodeId\": \"TRIAJE\", \"ArrivalTime\": 16659961.0, \"ServiceStartTime\": 16659961.0, \"DepartureTime\": 16661401.0}, {\"NodeId\": \"RX SOLICITUD\", \"ArrivalTime\": 16686481.0, \"ServiceStartTime\": 16686481.0, \"DepartureTime\": 16689091.0}, {\"NodeId\": \"RX EXPLORACION\", \"ArrivalTime\": 16689091.0, \"ServiceStartTime\": 16689091.0, \"DepartureTime\": 16700521.0}, {\"NodeId\": \"RX INFORME\", \"ArrivalTime\": 16694641.0, \"ServiceStartTime\": 16694641.0, \"DepartureTime\": 16704751.0}, {\"NodeId\": \"ALTA\", \"ArrivalTime\": 16737781.0, \"ServiceStartTime\": 16737781.0, \"DepartureTime\": 16737781.0}]}, {\"Priority\": 1, \"Step\": [{\"NodeId\": \"ADMISION\", \"ArrivalTime\": 16662301.0, \"ServiceStartTime\": 16662301.0, \"DepartureTime\": 16662931.0}, {\"NodeId\": \"TRIAJE\", \"ArrivalTime\": 16662931.0, \"ServiceStartTime\": 16662931.0, \"DepartureTime\": 16670131.0}, {\"NodeId\": \"RX EXPLORACION\", \"ArrivalTime\": 16672201.0, \"ServiceStartTime\": 16672201.0, \"DepartureTime\": 16786081.0}, {\"NodeId\": \"INTERCONSULTA\", \"ArrivalTime\": 16786081.0, \"ServiceStartTime\": 16786081.0, \"DepartureTime\": 16808881.0}, {\"NodeId\": \"RX SOLICITUD\", \"ArrivalTime\": 16742626.0, \"ServiceStartTime\": 16742626.0, \"DepartureTime\": 16747381.0}, {\"NodeId\": \"RESPUESTA\", \"ArrivalTime\": 16808881.0, \"ServiceStartTime\": 16808881.0, \"DepartureTime\": 16815121.0}, {\"NodeId\": \"ALTA\", \"ArrivalTime\": 16822561.0, \"ServiceStartTime\": 16822561.0, \"DepartureTime\": 16822561.0}]}, {\"Priority\": 1, \"Step\": [{\"NodeId\": \"ADMISION\", \"ArrivalTime\": 16695721.0, \"ServiceStartTime\": 16695721.0, \"DepartureTime\": 16696321.0}, {\"NodeId\": \"TRIAJE\", \"ArrivalTime\": 16696321.0, \"ServiceStartTime\": 16696321.0, \"DepartureTime\": 16701121.0}, {\"NodeId\": \"RX SOLICITUD\", \"ArrivalTime\": 16709601.0, \"ServiceStartTime\": 16709601.0, \"DepartureTime\": 16710601.0}, {\"NodeId\": \"RX EXPLORACION\", \"ArrivalTime\": 16710781.0, \"ServiceStartTime\": 16710781.0, \"DepartureTime\": 16718061.0}, {\"NodeId\": \"INTERCONSULTA\", \"ArrivalTime\": 16710541.0, \"ServiceStartTime\": 16710541.0, \"DepartureTime\": 16724041.0}, {\"NodeId\": \"RX INFORME\", \"ArrivalTime\": 16725961.0, \"ServiceStartTime\": 16725961.0, \"DepartureTime\": 16726501.0}, {\"NodeId\": \"ALTA\", \"ArrivalTime\": 16740001.0, \"ServiceStartTime\": 16740001.0, \"DepartureTime\": 16740001.0}]}, {\"Priority\": 1, \"Step\": [{\"NodeId\": \"ADMISION\", \"ArrivalTime\": 16719001.0, \"ServiceStartTime\": 16719001.0, \"DepartureTime\": 16719901.0}, {\"NodeId\": \"TRIAJE\", \"ArrivalTime\": 16719901.0, \"ServiceStartTime\": 16719901.0, \"DepartureTime\": 16720681.0}, {\"NodeId\": \"RX SOLICITUD\", \"ArrivalTime\": 16720681.0, \"ServiceStartTime\": 16720681.0, \"DepartureTime\": 16721701.0}, {\"NodeId\": \"RX EXPLORACION\", \"ArrivalTime\": 16721701.0, \"ServiceStartTime\": 16721701.0, \"DepartureTime\": 16722781.0}, {\"NodeId\": \"INTERCONSULTA\", \"ArrivalTime\": 16722781.0, \"ServiceStartTime\": 16722781.0, \"DepartureTime\": 16724821.0}, {\"NodeId\": \"RESPUESTA\", \"ArrivalTime\": 16732831.0, \"ServiceStartTime\": 16732831.0, \"DepartureTime\": 16740181.0}, {\"NodeId\": \"RX INFORME\", \"ArrivalTime\": 16727401.0, \"ServiceStartTime\": 16727401.0, \"DepartureTime\": 16740841.0}, {\"NodeId\": \"ALTA\", \"ArrivalTime\": 16752961.0, \"ServiceStartTime\": 16752961.0, \"DepartureTime\": 16752961.0}]}, {\"Priority\": 1, \"Step\": [{\"NodeId\": \"ADMISION\", \"ArrivalTime\": 16749715.264705881, \"ServiceStartTime\": 16749715.264705881, \"DepartureTime\": 16750313.05882353}, {\"NodeId\": \"TRIAJE\", \"ArrivalTime\": 16750313.05882353, \"ServiceStartTime\": 16750313.05882353, \"DepartureTime\": 16753054.970588235}, {\"NodeId\": \"RX SOLICITUD\", \"ArrivalTime\": 16765851.0, \"ServiceStartTime\": 16765851.0, \"DepartureTime\": 16768645.11764706}, {\"NodeId\": \"RX EXPLORACION\", \"ArrivalTime\": 16768645.11764706, \"ServiceStartTime\": 16768645.11764706, \"DepartureTime\": 16783184.088235293}, {\"NodeId\": \"ALTA\", \"ArrivalTime\": 16805054.23529412, \"ServiceStartTime\": 16805054.23529412, \"DepartureTime\": 16805054.23529412}]}, {\"Priority\": 1, \"Step\": [{\"NodeId\": \"ADMISION\", \"ArrivalTime\": 16771141.0, \"ServiceStartTime\": 16771141.0, \"DepartureTime\": 16772401.0}, {\"NodeId\": \"TRIAJE\", \"ArrivalTime\": 16772401.0, \"ServiceStartTime\": 16772401.0, \"DepartureTime\": 16774321.0}, {\"NodeId\": \"RX SOLICITUD\", \"ArrivalTime\": 16821041.0, \"ServiceStartTime\": 16821041.0, \"DepartureTime\": 16822521.0}, {\"NodeId\": \"RX EXPLORACION\", \"ArrivalTime\": 16822521.0, \"ServiceStartTime\": 16822521.0, \"DepartureTime\": 16835981.0}, {\"NodeId\": \"RX INFORME\", \"ArrivalTime\": 16800421.0, \"ServiceStartTime\": 16800421.0, \"DepartureTime\": 16803961.0}, {\"NodeId\": \"INTERCONSULTA\", \"ArrivalTime\": 16803961.0, \"ServiceStartTime\": 16803961.0, \"DepartureTime\": 16804681.0}, {\"NodeId\": \"RESPUESTA\", \"ArrivalTime\": 16857031.0, \"ServiceStartTime\": 16857031.0, \"DepartureTime\": 16906321.0}, {\"NodeId\": \"ALTA\", \"ArrivalTime\": 16921981.0, \"ServiceStartTime\": 16921981.0, \"DepartureTime\": 16921981.0}]}, {\"Priority\": 1, \"Step\": [{\"NodeId\": \"ADMISION\", \"ArrivalTime\": 16825630.638554215, \"ServiceStartTime\": 16825630.638554215, \"DepartureTime\": 16826383.891566265}, {\"NodeId\": \"TRIAJE\", \"ArrivalTime\": 16826383.891566265, \"ServiceStartTime\": 16826383.891566265, \"DepartureTime\": 16830584.13253012}, {\"NodeId\": \"RX SOLICITUD\", \"ArrivalTime\": 16830584.13253012, \"ServiceStartTime\": 16830584.13253012, \"DepartureTime\": 16835516.060240965}, {\"NodeId\": \"RX EXPLORACION\", \"ArrivalTime\": 16836504.91566265, \"ServiceStartTime\": 16836504.91566265, \"DepartureTime\": 16848547.506024096}, {\"NodeId\": \"RX INFORME\", \"ArrivalTime\": 16836606.30120482, \"ServiceStartTime\": 16836606.30120482, \"DepartureTime\": 16837493.77108434}, {\"NodeId\": \"ALTA\", \"ArrivalTime\": 16860488.710843373, \"ServiceStartTime\": 16860488.710843373, \"DepartureTime\": 16860488.710843373}]}, {\"Priority\": 1, \"Step\": [{\"NodeId\": \"ADMISION\", \"ArrivalTime\": 16853821.0, \"ServiceStartTime\": 16853821.0, \"DepartureTime\": 16854221.0}, {\"NodeId\": \"TRIAJE\", \"ArrivalTime\": 16854221.0, \"ServiceStartTime\": 16854221.0, \"DepartureTime\": 16863221.0}, {\"NodeId\": \"RX SOLICITUD\", \"ArrivalTime\": 16882886.0, \"ServiceStartTime\": 16882886.0, \"DepartureTime\": 16884831.0}, {\"NodeId\": \"RX INFORME\", \"ArrivalTime\": 16874061.0, \"ServiceStartTime\": 16874061.0, \"DepartureTime\": 16887901.0}, {\"NodeId\": \"RX EXPLORACION\", \"ArrivalTime\": 16884831.0, \"ServiceStartTime\": 16884831.0, \"DepartureTime\": 16907916.0}, {\"NodeId\": \"ALTA\", \"ArrivalTime\": 16977181.0, \"ServiceStartTime\": 16977181.0, \"DepartureTime\": 16977181.0}]}, {\"Priority\": 1, \"Step\": [{\"NodeId\": \"ADMISION\", \"ArrivalTime\": 16929391.0, \"ServiceStartTime\": 16929391.0, \"DepartureTime\": 16929931.0}, {\"NodeId\": \"TRIAJE\", \"ArrivalTime\": 16929931.0, \"ServiceStartTime\": 16929931.0, \"DepartureTime\": 16931971.0}, {\"NodeId\": \"RX SOLICITUD\", \"ArrivalTime\": 16931971.0, \"ServiceStartTime\": 16931971.0, \"DepartureTime\": 16933501.0}, {\"NodeId\": \"RX EXPLORACION\", \"ArrivalTime\": 16933501.0, \"ServiceStartTime\": 16933501.0, \"DepartureTime\": 16937941.0}, {\"NodeId\": \"RX INFORME\", \"ArrivalTime\": 16937941.0, \"ServiceStartTime\": 16937941.0, \"DepartureTime\": 16939321.0}, {\"NodeId\": \"INTERCONSULTA\", \"ArrivalTime\": 16941001.0, \"ServiceStartTime\": 16941001.0, \"DepartureTime\": 16953181.0}, {\"NodeId\": \"RESPUESTA\", \"ArrivalTime\": 16941151.0, \"ServiceStartTime\": 16941151.0, \"DepartureTime\": 16942681.0}, {\"NodeId\": \"ALTA\", \"ArrivalTime\": 16965211.0, \"ServiceStartTime\": 16965211.0, \"DepartureTime\": 16965211.0}]}, {\"Priority\": 1, \"Step\": [{\"NodeId\": \"ADMISION\", \"ArrivalTime\": 17040541.0, \"ServiceStartTime\": 17040541.0, \"DepartureTime\": 17040841.0}, {\"NodeId\": \"TRIAJE\", \"ArrivalTime\": 17040841.0, \"ServiceStartTime\": 17040841.0, \"DepartureTime\": 17050261.0}, {\"NodeId\": \"INTERCONSULTA\", \"ArrivalTime\": 17050261.0, \"ServiceStartTime\": 17050261.0, \"DepartureTime\": 17088541.0}, {\"NodeId\": \"RX INFORME\", \"ArrivalTime\": 17090941.0, \"ServiceStartTime\": 17090941.0, \"DepartureTime\": 17092501.0}, {\"NodeId\": \"RX SOLICITUD\", \"ArrivalTime\": 17094451.0, \"ServiceStartTime\": 17094451.0, \"DepartureTime\": 17121271.0}, {\"NodeId\": \"RX EXPLORACION\", \"ArrivalTime\": 17092501.0, \"ServiceStartTime\": 17092501.0, \"DepartureTime\": 17100361.0}, {\"NodeId\": \"RESPUESTA\", \"ArrivalTime\": 17151601.0, \"ServiceStartTime\": 17151601.0, \"DepartureTime\": 17164381.0}, {\"NodeId\": \"ALTA\", \"ArrivalTime\": 17164381.0, \"ServiceStartTime\": 17164381.0, \"DepartureTime\": 17164381.0}]}, {\"Priority\": 1, \"Step\": [{\"NodeId\": \"ADMISION\", \"ArrivalTime\": 17054641.0, \"ServiceStartTime\": 17054641.0, \"DepartureTime\": 17055301.0}, {\"NodeId\": \"TRIAJE\", \"ArrivalTime\": 17055301.0, \"ServiceStartTime\": 17055301.0, \"DepartureTime\": 17055421.0}, {\"NodeId\": \"RX SOLICITUD\", \"ArrivalTime\": 17139991.0, \"ServiceStartTime\": 17139991.0, \"DepartureTime\": 17141041.0}, {\"NodeId\": \"INTERCONSULTA\", \"ArrivalTime\": 17063641.0, \"ServiceStartTime\": 17063641.0, \"DepartureTime\": 17066071.0}, {\"NodeId\": \"RX EXPLORACION\", \"ArrivalTime\": 17141041.0, \"ServiceStartTime\": 17141041.0, \"DepartureTime\": 17146351.0}, {\"NodeId\": \"RESPUESTA\", \"ArrivalTime\": 17066071.0, \"ServiceStartTime\": 17066071.0, \"DepartureTime\": 17144641.0}, {\"NodeId\": \"RX INFORME\", \"ArrivalTime\": 17146351.0, \"ServiceStartTime\": 17146351.0, \"DepartureTime\": 17167561.0}, {\"NodeId\": \"ALTA\", \"ArrivalTime\": 17272561.0, \"ServiceStartTime\": 17272561.0, \"DepartureTime\": 17272561.0}]}, {\"Priority\": 1, \"Step\": [{\"NodeId\": \"ADMISION\", \"ArrivalTime\": 17137706.714285713, \"ServiceStartTime\": 17137706.714285713, \"DepartureTime\": 17138375.285714287}, {\"NodeId\": \"TRIAJE\", \"ArrivalTime\": 17138375.285714287, \"ServiceStartTime\": 17138375.285714287, \"DepartureTime\": 17159272.42857143}, {\"NodeId\": \"INTERCONSULTA\", \"ArrivalTime\": 17177281.0, \"ServiceStartTime\": 17177281.0, \"DepartureTime\": 17195600.285714287}, {\"NodeId\": \"RESPUESTA\", \"ArrivalTime\": 17195600.285714287, \"ServiceStartTime\": 17195600.285714287, \"DepartureTime\": 17216094.57142857}, {\"NodeId\": \"ALTA\", \"ArrivalTime\": 17236899.57142857, \"ServiceStartTime\": 17236899.57142857, \"DepartureTime\": 17236899.57142857}]}, {\"Priority\": 1, \"Step\": [{\"NodeId\": \"ADMISION\", \"ArrivalTime\": 17161261.0, \"ServiceStartTime\": 17161261.0, \"DepartureTime\": 17162021.0}, {\"NodeId\": \"TRIAJE\", \"ArrivalTime\": 17162021.0, \"ServiceStartTime\": 17162021.0, \"DepartureTime\": 17164341.0}, {\"NodeId\": \"RX SOLICITUD\", \"ArrivalTime\": 17164341.0, \"ServiceStartTime\": 17164341.0, \"DepartureTime\": 17169991.0}, {\"NodeId\": \"INTERCONSULTA\", \"ArrivalTime\": 17169991.0, \"ServiceStartTime\": 17169991.0, \"DepartureTime\": 17184201.0}, {\"NodeId\": \"RESPUESTA\", \"ArrivalTime\": 17184201.0, \"ServiceStartTime\": 17184201.0, \"DepartureTime\": 17204001.0}, {\"NodeId\": \"ALTA\", \"ArrivalTime\": 17204001.0, \"ServiceStartTime\": 17204001.0, \"DepartureTime\": 17204001.0}]}, {\"Priority\": 1, \"Step\": [{\"NodeId\": \"ADMISION\", \"ArrivalTime\": 17161261.0, \"ServiceStartTime\": 17161261.0, \"DepartureTime\": 17162021.0}, {\"NodeId\": \"TRIAJE\", \"ArrivalTime\": 17162021.0, \"ServiceStartTime\": 17162021.0, \"DepartureTime\": 17164341.0}, {\"NodeId\": \"RX SOLICITUD\", \"ArrivalTime\": 17164341.0, \"ServiceStartTime\": 17164341.0, \"DepartureTime\": 17169991.0}, {\"NodeId\": \"INTERCONSULTA\", \"ArrivalTime\": 17169991.0, \"ServiceStartTime\": 17169991.0, \"DepartureTime\": 17184201.0}, {\"NodeId\": \"RESPUESTA\", \"ArrivalTime\": 17184201.0, \"ServiceStartTime\": 17184201.0, \"DepartureTime\": 17204001.0}, {\"NodeId\": \"ALTA\", \"ArrivalTime\": 17204001.0, \"ServiceStartTime\": 17204001.0, \"DepartureTime\": 17204001.0}]}, {\"Priority\": 1, \"Step\": [{\"NodeId\": \"ADMISION\", \"ArrivalTime\": 17232121.0, \"ServiceStartTime\": 17232121.0, \"DepartureTime\": 17232751.0}, {\"NodeId\": \"TRIAJE\", \"ArrivalTime\": 17232751.0, \"ServiceStartTime\": 17232751.0, \"DepartureTime\": 17235241.0}, {\"NodeId\": \"RX SOLICITUD\", \"ArrivalTime\": 17240716.0, \"ServiceStartTime\": 17240716.0, \"DepartureTime\": 17244676.0}, {\"NodeId\": \"RX EXPLORACION\", \"ArrivalTime\": 17245306.0, \"ServiceStartTime\": 17245306.0, \"DepartureTime\": 17249386.0}, {\"NodeId\": \"RX INFORME\", \"ArrivalTime\": 17245186.0, \"ServiceStartTime\": 17245186.0, \"DepartureTime\": 17245936.0}, {\"NodeId\": \"ALTA\", \"ArrivalTime\": 17260981.0, \"ServiceStartTime\": 17260981.0, \"DepartureTime\": 17260981.0}]}, {\"Priority\": 1, \"Step\": [{\"NodeId\": \"ADMISION\", \"ArrivalTime\": 17204207.666666668, \"ServiceStartTime\": 17204207.666666668, \"DepartureTime\": 17205112.85185185}, {\"NodeId\": \"TRIAJE\", \"ArrivalTime\": 17205112.85185185, \"ServiceStartTime\": 17205112.85185185, \"DepartureTime\": 17209303.962962963}, {\"NodeId\": \"RX SOLICITUD\", \"ArrivalTime\": 17217649.51851852, \"ServiceStartTime\": 17217649.51851852, \"DepartureTime\": 17222820.62962963}, {\"NodeId\": \"RX EXPLORACION\", \"ArrivalTime\": 17222820.62962963, \"ServiceStartTime\": 17222820.62962963, \"DepartureTime\": 17231503.962962963}, {\"NodeId\": \"RX INFORME\", \"ArrivalTime\": 17237012.85185185, \"ServiceStartTime\": 17237012.85185185, \"DepartureTime\": 17255435.074074075}, {\"NodeId\": \"INTERCONSULTA\", \"ArrivalTime\": 17255435.074074075, \"ServiceStartTime\": 17255435.074074075, \"DepartureTime\": 17275815.074074075}, {\"NodeId\": \"RESPUESTA\", \"ArrivalTime\": 17275815.074074075, \"ServiceStartTime\": 17275815.074074075, \"DepartureTime\": 17297938.037037037}, {\"NodeId\": \"ALTA\", \"ArrivalTime\": 17297938.037037037, \"ServiceStartTime\": 17297938.037037037, \"DepartureTime\": 17297938.037037037}]}, {\"Priority\": 1, \"Step\": [{\"NodeId\": \"ADMISION\", \"ArrivalTime\": 17224861.0, \"ServiceStartTime\": 17224861.0, \"DepartureTime\": 17224981.0}, {\"NodeId\": \"TRIAJE\", \"ArrivalTime\": 17224981.0, \"ServiceStartTime\": 17224981.0, \"DepartureTime\": 17225521.0}, {\"NodeId\": \"INTERCONSULTA\", \"ArrivalTime\": 17228221.0, \"ServiceStartTime\": 17228221.0, \"DepartureTime\": 17229991.0}, {\"NodeId\": \"RX SOLICITUD\", \"ArrivalTime\": 17233181.0, \"ServiceStartTime\": 17233181.0, \"DepartureTime\": 17237721.0}, {\"NodeId\": \"RX EXPLORACION\", \"ArrivalTime\": 17233441.0, \"ServiceStartTime\": 17233441.0, \"DepartureTime\": 17235241.0}, {\"NodeId\": \"RX INFORME\", \"ArrivalTime\": 17235241.0, \"ServiceStartTime\": 17235241.0, \"DepartureTime\": 17237461.0}, {\"NodeId\": \"RESPUESTA\", \"ArrivalTime\": 17237461.0, \"ServiceStartTime\": 17237461.0, \"DepartureTime\": 17247481.0}, {\"NodeId\": \"ALTA\", \"ArrivalTime\": 17256721.0, \"ServiceStartTime\": 17256721.0, \"DepartureTime\": 17256721.0}]}, {\"Priority\": 1, \"Step\": [{\"NodeId\": \"ADMISION\", \"ArrivalTime\": 17414101.0, \"ServiceStartTime\": 17414101.0, \"DepartureTime\": 17414961.0}, {\"NodeId\": \"TRIAJE\", \"ArrivalTime\": 17414961.0, \"ServiceStartTime\": 17414961.0, \"DepartureTime\": 17417041.0}, {\"NodeId\": \"RX SOLICITUD\", \"ArrivalTime\": 17434226.0, \"ServiceStartTime\": 17434226.0, \"DepartureTime\": 17438346.0}, {\"NodeId\": \"RX EXPLORACION\", \"ArrivalTime\": 17438346.0, \"ServiceStartTime\": 17438346.0, \"DepartureTime\": 17446221.0}, {\"NodeId\": \"RX INFORME\", \"ArrivalTime\": 17465021.0, \"ServiceStartTime\": 17465021.0, \"DepartureTime\": 17480001.0}, {\"NodeId\": \"ALTA\", \"ArrivalTime\": 17480001.0, \"ServiceStartTime\": 17480001.0, \"DepartureTime\": 17480001.0}]}, {\"Priority\": 1, \"Step\": [{\"NodeId\": \"ADMISION\", \"ArrivalTime\": 17448344.636363637, \"ServiceStartTime\": 17448344.636363637, \"DepartureTime\": 17449220.09090909}, {\"NodeId\": \"TRIAJE\", \"ArrivalTime\": 17449220.09090909, \"ServiceStartTime\": 17449220.09090909, \"DepartureTime\": 17457470.09090909}, {\"NodeId\": \"INTERCONSULTA\", \"ArrivalTime\": 17457470.09090909, \"ServiceStartTime\": 17457470.09090909, \"DepartureTime\": 17476176.454545453}, {\"NodeId\": \"RX SOLICITUD\", \"ArrivalTime\": 17476176.454545453, \"ServiceStartTime\": 17476176.454545453, \"DepartureTime\": 17479364.636363637}, {\"NodeId\": \"RESPUESTA\", \"ArrivalTime\": 17479364.636363637, \"ServiceStartTime\": 17479364.636363637, \"DepartureTime\": 17481903.727272727}, {\"NodeId\": \"RX EXPLORACION\", \"ArrivalTime\": 17481903.727272727, \"ServiceStartTime\": 17481903.727272727, \"DepartureTime\": 17497836.454545453}, {\"NodeId\": \"ALTA\", \"ArrivalTime\": 17497836.454545453, \"ServiceStartTime\": 17497836.454545453, \"DepartureTime\": 17497836.454545453}]}, {\"Priority\": 1, \"Step\": [{\"NodeId\": \"ADMISION\", \"ArrivalTime\": 17482201.0, \"ServiceStartTime\": 17482201.0, \"DepartureTime\": 17483821.0}, {\"NodeId\": \"TRIAJE\", \"ArrivalTime\": 17483821.0, \"ServiceStartTime\": 17483821.0, \"DepartureTime\": 17485381.0}, {\"NodeId\": \"RX SOLICITUD\", \"ArrivalTime\": 17496856.0, \"ServiceStartTime\": 17496856.0, \"DepartureTime\": 17499481.0}, {\"NodeId\": \"RX EXPLORACION\", \"ArrivalTime\": 17498161.0, \"ServiceStartTime\": 17498161.0, \"DepartureTime\": 17503461.0}, {\"NodeId\": \"RX INFORME\", \"ArrivalTime\": 17503441.0, \"ServiceStartTime\": 17503441.0, \"DepartureTime\": 17506081.0}, {\"NodeId\": \"ALTA\", \"ArrivalTime\": 17514421.0, \"ServiceStartTime\": 17514421.0, \"DepartureTime\": 17514421.0}]}, {\"Priority\": 1, \"Step\": [{\"NodeId\": \"ADMISION\", \"ArrivalTime\": 17565876.172413792, \"ServiceStartTime\": 17565876.172413792, \"DepartureTime\": 17566633.413793102}, {\"NodeId\": \"TRIAJE\", \"ArrivalTime\": 17566633.413793102, \"ServiceStartTime\": 17566633.413793102, \"DepartureTime\": 17569834.103448275}, {\"NodeId\": \"RX SOLICITUD\", \"ArrivalTime\": 17591117.55172414, \"ServiceStartTime\": 17591117.55172414, \"DepartureTime\": 17597444.44827586}, {\"NodeId\": \"RX EXPLORACION\", \"ArrivalTime\": 17590578.931034483, \"ServiceStartTime\": 17590578.931034483, \"DepartureTime\": 17604392.03448276}, {\"NodeId\": \"RX INFORME\", \"ArrivalTime\": 17600387.55172414, \"ServiceStartTime\": 17600387.55172414, \"DepartureTime\": 17613273.068965517}, {\"NodeId\": \"ALTA\", \"ArrivalTime\": 17649698.24137931, \"ServiceStartTime\": 17649698.24137931, \"DepartureTime\": 17649698.24137931}]}, {\"Priority\": 1, \"Step\": [{\"NodeId\": \"ADMISION\", \"ArrivalTime\": 17653981.0, \"ServiceStartTime\": 17653981.0, \"DepartureTime\": 17654221.0}, {\"NodeId\": \"TRIAJE\", \"ArrivalTime\": 17654221.0, \"ServiceStartTime\": 17654221.0, \"DepartureTime\": 17654461.0}, {\"NodeId\": \"RX SOLICITUD\", \"ArrivalTime\": 17654461.0, \"ServiceStartTime\": 17654461.0, \"DepartureTime\": 17658481.0}, {\"NodeId\": \"INTERCONSULTA\", \"ArrivalTime\": 17661781.0, \"ServiceStartTime\": 17661781.0, \"DepartureTime\": 17672101.0}, {\"NodeId\": \"RX EXPLORACION\", \"ArrivalTime\": 17665291.0, \"ServiceStartTime\": 17665291.0, \"DepartureTime\": 17669071.0}, {\"NodeId\": \"RESPUESTA\", \"ArrivalTime\": 17676361.0, \"ServiceStartTime\": 17676361.0, \"DepartureTime\": 17697421.0}, {\"NodeId\": \"ALTA\", \"ArrivalTime\": 17697421.0, \"ServiceStartTime\": 17697421.0, \"DepartureTime\": 17697421.0}]}, {\"Priority\": 1, \"Step\": [{\"NodeId\": \"ADMISION\", \"ArrivalTime\": 17694301.0, \"ServiceStartTime\": 17694301.0, \"DepartureTime\": 17695241.0}, {\"NodeId\": \"TRIAJE\", \"ArrivalTime\": 17695241.0, \"ServiceStartTime\": 17695241.0, \"DepartureTime\": 17697881.0}, {\"NodeId\": \"INTERCONSULTA\", \"ArrivalTime\": 17732621.0, \"ServiceStartTime\": 17732621.0, \"DepartureTime\": 17755691.0}, {\"NodeId\": \"RX SOLICITUD\", \"ArrivalTime\": 17736756.0, \"ServiceStartTime\": 17736756.0, \"DepartureTime\": 17740991.0}, {\"NodeId\": \"RESPUESTA\", \"ArrivalTime\": 17755691.0, \"ServiceStartTime\": 17755691.0, \"DepartureTime\": 17775631.0}, {\"NodeId\": \"RX EXPLORACION\", \"ArrivalTime\": 17741191.0, \"ServiceStartTime\": 17741191.0, \"DepartureTime\": 17770406.0}, {\"NodeId\": \"RX INFORME\", \"ArrivalTime\": 17781091.0, \"ServiceStartTime\": 17781091.0, \"DepartureTime\": 17781491.0}, {\"NodeId\": \"ALTA\", \"ArrivalTime\": 17808191.0, \"ServiceStartTime\": 17808191.0, \"DepartureTime\": 17808191.0}]}, {\"Priority\": 1, \"Step\": [{\"NodeId\": \"ADMISION\", \"ArrivalTime\": 17704501.0, \"ServiceStartTime\": 17704501.0, \"DepartureTime\": 17705881.0}, {\"NodeId\": \"TRIAJE\", \"ArrivalTime\": 17705881.0, \"ServiceStartTime\": 17705881.0, \"DepartureTime\": 17706781.0}, {\"NodeId\": \"RX SOLICITUD\", \"ArrivalTime\": 17713411.0, \"ServiceStartTime\": 17713411.0, \"DepartureTime\": 17718781.0}, {\"NodeId\": \"RX EXPLORACION\", \"ArrivalTime\": 17718121.0, \"ServiceStartTime\": 17718121.0, \"DepartureTime\": 17719601.0}, {\"NodeId\": \"RX INFORME\", \"ArrivalTime\": 17719381.0, \"ServiceStartTime\": 17719381.0, \"DepartureTime\": 17723221.0}, {\"NodeId\": \"INTERCONSULTA\", \"ArrivalTime\": 17729641.0, \"ServiceStartTime\": 17729641.0, \"DepartureTime\": 17833681.0}, {\"NodeId\": \"RESPUESTA\", \"ArrivalTime\": 17833681.0, \"ServiceStartTime\": 17833681.0, \"DepartureTime\": 17841061.0}, {\"NodeId\": \"ALTA\", \"ArrivalTime\": 17841061.0, \"ServiceStartTime\": 17841061.0, \"DepartureTime\": 17841061.0}]}, {\"Priority\": 1, \"Step\": [{\"NodeId\": \"ADMISION\", \"ArrivalTime\": 17702541.0, \"ServiceStartTime\": 17702541.0, \"DepartureTime\": 17703051.0}, {\"NodeId\": \"TRIAJE\", \"ArrivalTime\": 17703051.0, \"ServiceStartTime\": 17703051.0, \"DepartureTime\": 17706971.0}, {\"NodeId\": \"RX SOLICITUD\", \"ArrivalTime\": 17764123.5, \"ServiceStartTime\": 17764123.5, \"DepartureTime\": 17771546.0}, {\"NodeId\": \"RX EXPLORACION\", \"ArrivalTime\": 17771546.0, \"ServiceStartTime\": 17771546.0, \"DepartureTime\": 17795276.0}, {\"NodeId\": \"RX INFORME\", \"ArrivalTime\": 17803206.0, \"ServiceStartTime\": 17803206.0, \"DepartureTime\": 17834761.0}, {\"NodeId\": \"ALTA\", \"ArrivalTime\": 17894691.0, \"ServiceStartTime\": 17894691.0, \"DepartureTime\": 17894691.0}]}, {\"Priority\": 1, \"Step\": [{\"NodeId\": \"ADMISION\", \"ArrivalTime\": 17799181.0, \"ServiceStartTime\": 17799181.0, \"DepartureTime\": 17799601.0}, {\"NodeId\": \"TRIAJE\", \"ArrivalTime\": 17799601.0, \"ServiceStartTime\": 17799601.0, \"DepartureTime\": 17802961.0}, {\"NodeId\": \"RX SOLICITUD\", \"ArrivalTime\": 17808361.0, \"ServiceStartTime\": 17808361.0, \"DepartureTime\": 17809441.0}, {\"NodeId\": \"INTERCONSULTA\", \"ArrivalTime\": 17810941.0, \"ServiceStartTime\": 17810941.0, \"DepartureTime\": 17811421.0}, {\"NodeId\": \"RX EXPLORACION\", \"ArrivalTime\": 17808691.0, \"ServiceStartTime\": 17808691.0, \"DepartureTime\": 17819311.0}, {\"NodeId\": \"RX INFORME\", \"ArrivalTime\": 17827921.0, \"ServiceStartTime\": 17827921.0, \"DepartureTime\": 17856241.0}, {\"NodeId\": \"RESPUESTA\", \"ArrivalTime\": 17856241.0, \"ServiceStartTime\": 17856241.0, \"DepartureTime\": 18017341.0}, {\"NodeId\": \"ALTA\", \"ArrivalTime\": 18017341.0, \"ServiceStartTime\": 18017341.0, \"DepartureTime\": 18017341.0}]}, {\"Priority\": 1, \"Step\": [{\"NodeId\": \"ADMISION\", \"ArrivalTime\": 17833591.0, \"ServiceStartTime\": 17833591.0, \"DepartureTime\": 17834191.0}, {\"NodeId\": \"TRIAJE\", \"ArrivalTime\": 17834191.0, \"ServiceStartTime\": 17834191.0, \"DepartureTime\": 17836381.0}, {\"NodeId\": \"RX SOLICITUD\", \"ArrivalTime\": 17836381.0, \"ServiceStartTime\": 17836381.0, \"DepartureTime\": 17839561.0}, {\"NodeId\": \"RX EXPLORACION\", \"ArrivalTime\": 17839831.0, \"ServiceStartTime\": 17839831.0, \"DepartureTime\": 17841571.0}, {\"NodeId\": \"RX INFORME\", \"ArrivalTime\": 17839771.0, \"ServiceStartTime\": 17839771.0, \"DepartureTime\": 17840101.0}, {\"NodeId\": \"INTERCONSULTA\", \"ArrivalTime\": 17843371.0, \"ServiceStartTime\": 17843371.0, \"DepartureTime\": 17853541.0}, {\"NodeId\": \"ALTA\", \"ArrivalTime\": 17853541.0, \"ServiceStartTime\": 17853541.0, \"DepartureTime\": 17853541.0}]}, {\"Priority\": 1, \"Step\": [{\"NodeId\": \"ADMISION\", \"ArrivalTime\": 17990221.0, \"ServiceStartTime\": 17990221.0, \"DepartureTime\": 17991001.0}, {\"NodeId\": \"TRIAJE\", \"ArrivalTime\": 17991001.0, \"ServiceStartTime\": 17991001.0, \"DepartureTime\": 17991061.0}, {\"NodeId\": \"RX SOLICITUD\", \"ArrivalTime\": 17991061.0, \"ServiceStartTime\": 17991061.0, \"DepartureTime\": 17993041.0}, {\"NodeId\": \"RX EXPLORACION\", \"ArrivalTime\": 17993041.0, \"ServiceStartTime\": 17993041.0, \"DepartureTime\": 18001021.0}, {\"NodeId\": \"INTERCONSULTA\", \"ArrivalTime\": 18002161.0, \"ServiceStartTime\": 18002161.0, \"DepartureTime\": 18005161.0}, {\"NodeId\": \"RX INFORME\", \"ArrivalTime\": 18003091.0, \"ServiceStartTime\": 18003091.0, \"DepartureTime\": 18007351.0}, {\"NodeId\": \"RESPUESTA\", \"ArrivalTime\": 18012541.0, \"ServiceStartTime\": 18012541.0, \"DepartureTime\": 18035521.0}, {\"NodeId\": \"ALTA\", \"ArrivalTime\": 18035521.0, \"ServiceStartTime\": 18035521.0, \"DepartureTime\": 18035521.0}]}, {\"Priority\": 1, \"Step\": [{\"NodeId\": \"ADMISION\", \"ArrivalTime\": 18110626.0, \"ServiceStartTime\": 18110626.0, \"DepartureTime\": 18111226.0}, {\"NodeId\": \"TRIAJE\", \"ArrivalTime\": 18111226.0, \"ServiceStartTime\": 18111226.0, \"DepartureTime\": 18116956.0}, {\"NodeId\": \"RX SOLICITUD\", \"ArrivalTime\": 18126991.0, \"ServiceStartTime\": 18126991.0, \"DepartureTime\": 18130786.0}, {\"NodeId\": \"RX EXPLORACION\", \"ArrivalTime\": 18135001.0, \"ServiceStartTime\": 18135001.0, \"DepartureTime\": 18141686.0}, {\"NodeId\": \"RX INFORME\", \"ArrivalTime\": 18144016.0, \"ServiceStartTime\": 18144016.0, \"DepartureTime\": 18156248.5}, {\"NodeId\": \"ALTA\", \"ArrivalTime\": 18169066.0, \"ServiceStartTime\": 18169066.0, \"DepartureTime\": 18169066.0}]}, {\"Priority\": 1, \"Step\": [{\"NodeId\": \"ADMISION\", \"ArrivalTime\": 18182468.5, \"ServiceStartTime\": 18182468.5, \"DepartureTime\": 18183571.0}, {\"NodeId\": \"TRIAJE\", \"ArrivalTime\": 18183571.0, \"ServiceStartTime\": 18183571.0, \"DepartureTime\": 18186773.5}, {\"NodeId\": \"RX SOLICITUD\", \"ArrivalTime\": 18186773.5, \"ServiceStartTime\": 18186773.5, \"DepartureTime\": 18189151.0}, {\"NodeId\": \"INTERCONSULTA\", \"ArrivalTime\": 18189151.0, \"ServiceStartTime\": 18189151.0, \"DepartureTime\": 18191933.5}, {\"NodeId\": \"RX EXPLORACION\", \"ArrivalTime\": 18191933.5, \"ServiceStartTime\": 18191933.5, \"DepartureTime\": 18213488.5}, {\"NodeId\": \"ALTA\", \"ArrivalTime\": 18213488.5, \"ServiceStartTime\": 18213488.5, \"DepartureTime\": 18213488.5}]}, {\"Priority\": 1, \"Step\": [{\"NodeId\": \"ADMISION\", \"ArrivalTime\": 18182468.5, \"ServiceStartTime\": 18182468.5, \"DepartureTime\": 18183571.0}, {\"NodeId\": \"TRIAJE\", \"ArrivalTime\": 18183571.0, \"ServiceStartTime\": 18183571.0, \"DepartureTime\": 18186773.5}, {\"NodeId\": \"RX SOLICITUD\", \"ArrivalTime\": 18186773.5, \"ServiceStartTime\": 18186773.5, \"DepartureTime\": 18189151.0}, {\"NodeId\": \"INTERCONSULTA\", \"ArrivalTime\": 18189151.0, \"ServiceStartTime\": 18189151.0, \"DepartureTime\": 18191933.5}, {\"NodeId\": \"RX EXPLORACION\", \"ArrivalTime\": 18191933.5, \"ServiceStartTime\": 18191933.5, \"DepartureTime\": 18213488.5}, {\"NodeId\": \"ALTA\", \"ArrivalTime\": 18213488.5, \"ServiceStartTime\": 18213488.5, \"DepartureTime\": 18213488.5}]}, {\"Priority\": 1, \"Step\": [{\"NodeId\": \"ADMISION\", \"ArrivalTime\": 18264541.0, \"ServiceStartTime\": 18264541.0, \"DepartureTime\": 18265081.0}, {\"NodeId\": \"TRIAJE\", \"ArrivalTime\": 18265081.0, \"ServiceStartTime\": 18265081.0, \"DepartureTime\": 18269161.0}, {\"NodeId\": \"RX EXPLORACION\", \"ArrivalTime\": 18328861.0, \"ServiceStartTime\": 18328861.0, \"DepartureTime\": 18354621.0}, {\"NodeId\": \"RX SOLICITUD\", \"ArrivalTime\": 18339526.0, \"ServiceStartTime\": 18339526.0, \"DepartureTime\": 18363646.0}, {\"NodeId\": \"RX INFORME\", \"ArrivalTime\": 18358021.0, \"ServiceStartTime\": 18358021.0, \"DepartureTime\": 18370561.0}, {\"NodeId\": \"ALTA\", \"ArrivalTime\": 18468001.0, \"ServiceStartTime\": 18468001.0, \"DepartureTime\": 18468001.0}]}, {\"Priority\": 1, \"Step\": [{\"NodeId\": \"ADMISION\", \"ArrivalTime\": 18361951.0, \"ServiceStartTime\": 18361951.0, \"DepartureTime\": 18362611.0}, {\"NodeId\": \"TRIAJE\", \"ArrivalTime\": 18362611.0, \"ServiceStartTime\": 18362611.0, \"DepartureTime\": 18367081.0}, {\"NodeId\": \"RX SOLICITUD\", \"ArrivalTime\": 18387861.0, \"ServiceStartTime\": 18387861.0, \"DepartureTime\": 18389431.0}, {\"NodeId\": \"RX EXPLORACION\", \"ArrivalTime\": 18389431.0, \"ServiceStartTime\": 18389431.0, \"DepartureTime\": 18396851.0}, {\"NodeId\": \"INTERCONSULTA\", \"ArrivalTime\": 18391021.0, \"ServiceStartTime\": 18391021.0, \"DepartureTime\": 18413461.0}, {\"NodeId\": \"RX INFORME\", \"ArrivalTime\": 18403756.0, \"ServiceStartTime\": 18403756.0, \"DepartureTime\": 18409216.0}, {\"NodeId\": \"RESPUESTA\", \"ArrivalTime\": 18427411.0, \"ServiceStartTime\": 18427411.0, \"DepartureTime\": 18438061.0}, {\"NodeId\": \"ALTA\", \"ArrivalTime\": 18438061.0, \"ServiceStartTime\": 18438061.0, \"DepartureTime\": 18438061.0}]}, {\"Priority\": 1, \"Step\": [{\"NodeId\": \"ADMISION\", \"ArrivalTime\": 18265213.0, \"ServiceStartTime\": 18265213.0, \"DepartureTime\": 18266173.0}, {\"NodeId\": \"TRIAJE\", \"ArrivalTime\": 18266173.0, \"ServiceStartTime\": 18266173.0, \"DepartureTime\": 18270385.0}, {\"NodeId\": \"RX SOLICITUD\", \"ArrivalTime\": 18289681.0, \"ServiceStartTime\": 18289681.0, \"DepartureTime\": 18294403.0}, {\"NodeId\": \"RX EXPLORACION\", \"ArrivalTime\": 18294577.0, \"ServiceStartTime\": 18294577.0, \"DepartureTime\": 18320887.0}, {\"NodeId\": \"RX INFORME\", \"ArrivalTime\": 18295897.0, \"ServiceStartTime\": 18295897.0, \"DepartureTime\": 18311443.0}, {\"NodeId\": \"ALTA\", \"ArrivalTime\": 18363541.0, \"ServiceStartTime\": 18363541.0, \"DepartureTime\": 18363541.0}]}, {\"Priority\": 1, \"Step\": [{\"NodeId\": \"ADMISION\", \"ArrivalTime\": 18295321.0, \"ServiceStartTime\": 18295321.0, \"DepartureTime\": 18295621.0}, {\"NodeId\": \"TRIAJE\", \"ArrivalTime\": 18295621.0, \"ServiceStartTime\": 18295621.0, \"DepartureTime\": 18296581.0}, {\"NodeId\": \"RX SOLICITUD\", \"ArrivalTime\": 18306921.0, \"ServiceStartTime\": 18306921.0, \"DepartureTime\": 18311701.0}, {\"NodeId\": \"RX EXPLORACION\", \"ArrivalTime\": 18313201.0, \"ServiceStartTime\": 18313201.0, \"DepartureTime\": 18316721.0}, {\"NodeId\": \"INTERCONSULTA\", \"ArrivalTime\": 18318301.0, \"ServiceStartTime\": 18318301.0, \"DepartureTime\": 18322801.0}, {\"NodeId\": \"RX INFORME\", \"ArrivalTime\": 18325981.0, \"ServiceStartTime\": 18325981.0, \"DepartureTime\": 18353221.0}, {\"NodeId\": \"RESPUESTA\", \"ArrivalTime\": 18353221.0, \"ServiceStartTime\": 18353221.0, \"DepartureTime\": 18383341.0}, {\"NodeId\": \"ALTA\", \"ArrivalTime\": 18383341.0, \"ServiceStartTime\": 18383341.0, \"DepartureTime\": 18383341.0}]}, {\"Priority\": 1, \"Step\": [{\"NodeId\": \"ADMISION\", \"ArrivalTime\": 18296721.0, \"ServiceStartTime\": 18296721.0, \"DepartureTime\": 18297061.0}, {\"NodeId\": \"TRIAJE\", \"ArrivalTime\": 18297061.0, \"ServiceStartTime\": 18297061.0, \"DepartureTime\": 18298101.0}, {\"NodeId\": \"RX INFORME\", \"ArrivalTime\": 18305161.0, \"ServiceStartTime\": 18305161.0, \"DepartureTime\": 18312501.0}, {\"NodeId\": \"RX SOLICITUD\", \"ArrivalTime\": 18315301.0, \"ServiceStartTime\": 18315301.0, \"DepartureTime\": 18318861.0}, {\"NodeId\": \"INTERCONSULTA\", \"ArrivalTime\": 18312501.0, \"ServiceStartTime\": 18312501.0, \"DepartureTime\": 18332501.0}, {\"NodeId\": \"RX EXPLORACION\", \"ArrivalTime\": 18321381.0, \"ServiceStartTime\": 18321381.0, \"DepartureTime\": 18328881.0}, {\"NodeId\": \"RESPUESTA\", \"ArrivalTime\": 18335601.0, \"ServiceStartTime\": 18335601.0, \"DepartureTime\": 18340641.0}, {\"NodeId\": \"ALTA\", \"ArrivalTime\": 18352601.0, \"ServiceStartTime\": 18352601.0, \"DepartureTime\": 18352601.0}]}, {\"Priority\": 1, \"Step\": [{\"NodeId\": \"ADMISION\", \"ArrivalTime\": 18338881.0, \"ServiceStartTime\": 18338881.0, \"DepartureTime\": 18339361.0}, {\"NodeId\": \"TRIAJE\", \"ArrivalTime\": 18339361.0, \"ServiceStartTime\": 18339361.0, \"DepartureTime\": 18342181.0}, {\"NodeId\": \"RX EXPLORACION\", \"ArrivalTime\": 18350501.0, \"ServiceStartTime\": 18350501.0, \"DepartureTime\": 18351541.0}, {\"NodeId\": \"RX SOLICITUD\", \"ArrivalTime\": 18351781.0, \"ServiceStartTime\": 18351781.0, \"DepartureTime\": 18361021.0}, {\"NodeId\": \"RX INFORME\", \"ArrivalTime\": 18353341.0, \"ServiceStartTime\": 18353341.0, \"DepartureTime\": 18358561.0}, {\"NodeId\": \"ALTA\", \"ArrivalTime\": 18392701.0, \"ServiceStartTime\": 18392701.0, \"DepartureTime\": 18392701.0}]}, {\"Priority\": 1, \"Step\": [{\"NodeId\": \"ADMISION\", \"ArrivalTime\": 18286241.8, \"ServiceStartTime\": 18286241.8, \"DepartureTime\": 18286808.2}, {\"NodeId\": \"TRIAJE\", \"ArrivalTime\": 18286808.2, \"ServiceStartTime\": 18286808.2, \"DepartureTime\": 18290763.4}, {\"NodeId\": \"RX SOLICITUD\", \"ArrivalTime\": 18290763.4, \"ServiceStartTime\": 18290763.4, \"DepartureTime\": 18293593.0}, {\"NodeId\": \"INTERCONSULTA\", \"ArrivalTime\": 18293593.0, \"ServiceStartTime\": 18293593.0, \"DepartureTime\": 18295318.6}, {\"NodeId\": \"RX EXPLORACION\", \"ArrivalTime\": 18295318.6, \"ServiceStartTime\": 18295318.6, \"DepartureTime\": 18308967.4}, {\"NodeId\": \"RESPUESTA\", \"ArrivalTime\": 18308967.4, \"ServiceStartTime\": 18308967.4, \"DepartureTime\": 18323837.8}, {\"NodeId\": \"ALTA\", \"ArrivalTime\": 18323837.8, \"ServiceStartTime\": 18323837.8, \"DepartureTime\": 18323837.8}]}, {\"Priority\": 1, \"Step\": [{\"NodeId\": \"ADMISION\", \"ArrivalTime\": 18398461.0, \"ServiceStartTime\": 18398461.0, \"DepartureTime\": 18400261.0}, {\"NodeId\": \"TRIAJE\", \"ArrivalTime\": 18400261.0, \"ServiceStartTime\": 18400261.0, \"DepartureTime\": 18401281.0}, {\"NodeId\": \"RX SOLICITUD\", \"ArrivalTime\": 18419431.0, \"ServiceStartTime\": 18419431.0, \"DepartureTime\": 18423421.0}, {\"NodeId\": \"RX EXPLORACION\", \"ArrivalTime\": 18423601.0, \"ServiceStartTime\": 18423601.0, \"DepartureTime\": 18440971.0}, {\"NodeId\": \"RX INFORME\", \"ArrivalTime\": 18441361.0, \"ServiceStartTime\": 18441361.0, \"DepartureTime\": 18441721.0}, {\"NodeId\": \"INTERCONSULTA\", \"ArrivalTime\": 18444391.0, \"ServiceStartTime\": 18444391.0, \"DepartureTime\": 18450811.0}, {\"NodeId\": \"RESPUESTA\", \"ArrivalTime\": 18450811.0, \"ServiceStartTime\": 18450811.0, \"DepartureTime\": 18454051.0}, {\"NodeId\": \"ALTA\", \"ArrivalTime\": 18463681.0, \"ServiceStartTime\": 18463681.0, \"DepartureTime\": 18463681.0}]}, {\"Priority\": 1, \"Step\": [{\"NodeId\": \"ADMISION\", \"ArrivalTime\": 18401761.0, \"ServiceStartTime\": 18401761.0, \"DepartureTime\": 18404341.0}, {\"NodeId\": \"TRIAJE\", \"ArrivalTime\": 18404341.0, \"ServiceStartTime\": 18404341.0, \"DepartureTime\": 18408061.0}, {\"NodeId\": \"RX EXPLORACION\", \"ArrivalTime\": 18409441.0, \"ServiceStartTime\": 18409441.0, \"DepartureTime\": 18534181.0}, {\"NodeId\": \"INTERCONSULTA\", \"ArrivalTime\": 18534721.0, \"ServiceStartTime\": 18534721.0, \"DepartureTime\": 18543001.0}, {\"NodeId\": \"RX SOLICITUD\", \"ArrivalTime\": 18513406.0, \"ServiceStartTime\": 18513406.0, \"DepartureTime\": 18516901.0}, {\"NodeId\": \"RESPUESTA\", \"ArrivalTime\": 18551761.0, \"ServiceStartTime\": 18551761.0, \"DepartureTime\": 18568381.0}, {\"NodeId\": \"ALTA\", \"ArrivalTime\": 18571681.0, \"ServiceStartTime\": 18571681.0, \"DepartureTime\": 18571681.0}]}, {\"Priority\": 1, \"Step\": [{\"NodeId\": \"ADMISION\", \"ArrivalTime\": 18431281.0, \"ServiceStartTime\": 18431281.0, \"DepartureTime\": 18431641.0}, {\"NodeId\": \"TRIAJE\", \"ArrivalTime\": 18431641.0, \"ServiceStartTime\": 18431641.0, \"DepartureTime\": 18433201.0}, {\"NodeId\": \"RX SOLICITUD\", \"ArrivalTime\": 18444301.0, \"ServiceStartTime\": 18444301.0, \"DepartureTime\": 18450631.0}, {\"NodeId\": \"RX EXPLORACION\", \"ArrivalTime\": 18450631.0, \"ServiceStartTime\": 18450631.0, \"DepartureTime\": 18460771.0}, {\"NodeId\": \"INTERCONSULTA\", \"ArrivalTime\": 18466141.0, \"ServiceStartTime\": 18466141.0, \"DepartureTime\": 18466201.0}, {\"NodeId\": \"RESPUESTA\", \"ArrivalTime\": 18466201.0, \"ServiceStartTime\": 18466201.0, \"DepartureTime\": 18470341.0}, {\"NodeId\": \"RX INFORME\", \"ArrivalTime\": 18470341.0, \"ServiceStartTime\": 18470341.0, \"DepartureTime\": 18497221.0}, {\"NodeId\": \"ALTA\", \"ArrivalTime\": 18497221.0, \"ServiceStartTime\": 18497221.0, \"DepartureTime\": 18497221.0}]}, {\"Priority\": 1, \"Step\": [{\"NodeId\": \"ADMISION\", \"ArrivalTime\": 18454801.0, \"ServiceStartTime\": 18454801.0, \"DepartureTime\": 18455221.0}, {\"NodeId\": \"TRIAJE\", \"ArrivalTime\": 18455221.0, \"ServiceStartTime\": 18455221.0, \"DepartureTime\": 18529441.0}, {\"NodeId\": \"INTERCONSULTA\", \"ArrivalTime\": 18529441.0, \"ServiceStartTime\": 18529441.0, \"DepartureTime\": 18549901.0}, {\"NodeId\": \"RESPUESTA\", \"ArrivalTime\": 18550801.0, \"ServiceStartTime\": 18550801.0, \"DepartureTime\": 18552721.0}, {\"NodeId\": \"RX SOLICITUD\", \"ArrivalTime\": 18555201.0, \"ServiceStartTime\": 18555201.0, \"DepartureTime\": 18556321.0}, {\"NodeId\": \"RX EXPLORACION\", \"ArrivalTime\": 18559081.0, \"ServiceStartTime\": 18559081.0, \"DepartureTime\": 18564391.0}, {\"NodeId\": \"RX INFORME\", \"ArrivalTime\": 18565801.0, \"ServiceStartTime\": 18565801.0, \"DepartureTime\": 18643201.0}, {\"NodeId\": \"ALTA\", \"ArrivalTime\": 18643201.0, \"ServiceStartTime\": 18643201.0, \"DepartureTime\": 18643201.0}]}, {\"Priority\": 1, \"Step\": [{\"NodeId\": \"ADMISION\", \"ArrivalTime\": 18448741.0, \"ServiceStartTime\": 18448741.0, \"DepartureTime\": 18449481.0}, {\"NodeId\": \"TRIAJE\", \"ArrivalTime\": 18449481.0, \"ServiceStartTime\": 18449481.0, \"DepartureTime\": 18455821.0}, {\"NodeId\": \"RX SOLICITUD\", \"ArrivalTime\": 18460381.0, \"ServiceStartTime\": 18460381.0, \"DepartureTime\": 18463161.0}, {\"NodeId\": \"RX EXPLORACION\", \"ArrivalTime\": 18463161.0, \"ServiceStartTime\": 18463161.0, \"DepartureTime\": 18472201.0}, {\"NodeId\": \"INTERCONSULTA\", \"ArrivalTime\": 18479461.0, \"ServiceStartTime\": 18479461.0, \"DepartureTime\": 18482321.0}, {\"NodeId\": \"RX INFORME\", \"ArrivalTime\": 18482321.0, \"ServiceStartTime\": 18482321.0, \"DepartureTime\": 18494921.0}, {\"NodeId\": \"RESPUESTA\", \"ArrivalTime\": 18494921.0, \"ServiceStartTime\": 18494921.0, \"DepartureTime\": 18522341.0}, {\"NodeId\": \"ALTA\", \"ArrivalTime\": 18522341.0, \"ServiceStartTime\": 18522341.0, \"DepartureTime\": 18522341.0}]}, {\"Priority\": 1, \"Step\": [{\"NodeId\": \"ADMISION\", \"ArrivalTime\": 18447581.0, \"ServiceStartTime\": 18447581.0, \"DepartureTime\": 18448541.0}, {\"NodeId\": \"TRIAJE\", \"ArrivalTime\": 18448541.0, \"ServiceStartTime\": 18448541.0, \"DepartureTime\": 18455141.0}, {\"NodeId\": \"RX SOLICITUD\", \"ArrivalTime\": 18467194.333333332, \"ServiceStartTime\": 18467194.333333332, \"DepartureTime\": 18470261.0}, {\"NodeId\": \"RX EXPLORACION\", \"ArrivalTime\": 18470427.666666668, \"ServiceStartTime\": 18470427.666666668, \"DepartureTime\": 18475514.333333332}, {\"NodeId\": \"RX INFORME\", \"ArrivalTime\": 18478641.0, \"ServiceStartTime\": 18478641.0, \"DepartureTime\": 18483971.0}, {\"NodeId\": \"INTERCONSULTA\", \"ArrivalTime\": 18490261.0, \"ServiceStartTime\": 18490261.0, \"DepartureTime\": 18504501.0}, {\"NodeId\": \"RESPUESTA\", \"ArrivalTime\": 18504501.0, \"ServiceStartTime\": 18504501.0, \"DepartureTime\": 18525441.0}, {\"NodeId\": \"ALTA\", \"ArrivalTime\": 18525441.0, \"ServiceStartTime\": 18525441.0, \"DepartureTime\": 18525441.0}]}, {\"Priority\": 1, \"Step\": [{\"NodeId\": \"ADMISION\", \"ArrivalTime\": 18710561.0, \"ServiceStartTime\": 18710561.0, \"DepartureTime\": 18711301.0}, {\"NodeId\": \"TRIAJE\", \"ArrivalTime\": 18711301.0, \"ServiceStartTime\": 18711301.0, \"DepartureTime\": 18713127.666666668}, {\"NodeId\": \"RX SOLICITUD\", \"ArrivalTime\": 18733385.444444444, \"ServiceStartTime\": 18733385.444444444, \"DepartureTime\": 18737118.777777776}, {\"NodeId\": \"RX EXPLORACION\", \"ArrivalTime\": 18737307.666666668, \"ServiceStartTime\": 18737307.666666668, \"DepartureTime\": 18746534.333333332}, {\"NodeId\": \"RX INFORME\", \"ArrivalTime\": 18750214.333333332, \"ServiceStartTime\": 18750214.333333332, \"DepartureTime\": 18765177.666666668}, {\"NodeId\": \"ALTA\", \"ArrivalTime\": 18781934.333333332, \"ServiceStartTime\": 18781934.333333332, \"DepartureTime\": 18781934.333333332}]}, {\"Priority\": 1, \"Step\": [{\"NodeId\": \"ADMISION\", \"ArrivalTime\": 18749561.0, \"ServiceStartTime\": 18749561.0, \"DepartureTime\": 18751201.0}, {\"NodeId\": \"TRIAJE\", \"ArrivalTime\": 18751201.0, \"ServiceStartTime\": 18751201.0, \"DepartureTime\": 18779041.0}, {\"NodeId\": \"INTERCONSULTA\", \"ArrivalTime\": 18782781.0, \"ServiceStartTime\": 18782781.0, \"DepartureTime\": 18790501.0}, {\"NodeId\": \"RESPUESTA\", \"ArrivalTime\": 18786261.0, \"ServiceStartTime\": 18786261.0, \"DepartureTime\": 18786521.0}, {\"NodeId\": \"ALTA\", \"ArrivalTime\": 18794741.0, \"ServiceStartTime\": 18794741.0, \"DepartureTime\": 18794741.0}]}, {\"Priority\": 1, \"Step\": [{\"NodeId\": \"ADMISION\", \"ArrivalTime\": 18749561.0, \"ServiceStartTime\": 18749561.0, \"DepartureTime\": 18751201.0}, {\"NodeId\": \"TRIAJE\", \"ArrivalTime\": 18751201.0, \"ServiceStartTime\": 18751201.0, \"DepartureTime\": 18779041.0}, {\"NodeId\": \"INTERCONSULTA\", \"ArrivalTime\": 18782781.0, \"ServiceStartTime\": 18782781.0, \"DepartureTime\": 18790501.0}, {\"NodeId\": \"RESPUESTA\", \"ArrivalTime\": 18786261.0, \"ServiceStartTime\": 18786261.0, \"DepartureTime\": 18786521.0}, {\"NodeId\": \"ALTA\", \"ArrivalTime\": 18794741.0, \"ServiceStartTime\": 18794741.0, \"DepartureTime\": 18794741.0}]}, {\"Priority\": 1, \"Step\": [{\"NodeId\": \"ADMISION\", \"ArrivalTime\": 18747556.652173914, \"ServiceStartTime\": 18747556.652173914, \"DepartureTime\": 18748206.217391305}, {\"NodeId\": \"TRIAJE\", \"ArrivalTime\": 18748206.217391305, \"ServiceStartTime\": 18748206.217391305, \"DepartureTime\": 18753418.391304348}, {\"NodeId\": \"RX SOLICITUD\", \"ArrivalTime\": 18779645.347826086, \"ServiceStartTime\": 18779645.347826086, \"DepartureTime\": 18783410.56521739}, {\"NodeId\": \"RX EXPLORACION\", \"ArrivalTime\": 18783410.56521739, \"ServiceStartTime\": 18783410.56521739, \"DepartureTime\": 18796753.173913043}, {\"NodeId\": \"RX INFORME\", \"ArrivalTime\": 18789851.43478261, \"ServiceStartTime\": 18789851.43478261, \"DepartureTime\": 18810423.608695652}, {\"NodeId\": \"ALTA\", \"ArrivalTime\": 18845886.217391305, \"ServiceStartTime\": 18845886.217391305, \"DepartureTime\": 18845886.217391305}]}, {\"Priority\": 1, \"Step\": [{\"NodeId\": \"ADMISION\", \"ArrivalTime\": 18894901.0, \"ServiceStartTime\": 18894901.0, \"DepartureTime\": 18895501.0}, {\"NodeId\": \"TRIAJE\", \"ArrivalTime\": 18895501.0, \"ServiceStartTime\": 18895501.0, \"DepartureTime\": 18899161.0}, {\"NodeId\": \"RX SOLICITUD\", \"ArrivalTime\": 18954085.0, \"ServiceStartTime\": 18954085.0, \"DepartureTime\": 18957265.0}, {\"NodeId\": \"RX EXPLORACION\", \"ArrivalTime\": 18957265.0, \"ServiceStartTime\": 18957265.0, \"DepartureTime\": 18966277.0}, {\"NodeId\": \"RX INFORME\", \"ArrivalTime\": 18944761.0, \"ServiceStartTime\": 18944761.0, \"DepartureTime\": 18997921.0}, {\"NodeId\": \"ALTA\", \"ArrivalTime\": 19066441.0, \"ServiceStartTime\": 19066441.0, \"DepartureTime\": 19066441.0}]}, {\"Priority\": 1, \"Step\": [{\"NodeId\": \"ADMISION\", \"ArrivalTime\": 18857416.0, \"ServiceStartTime\": 18857416.0, \"DepartureTime\": 18858241.0}, {\"NodeId\": \"TRIAJE\", \"ArrivalTime\": 18858241.0, \"ServiceStartTime\": 18858241.0, \"DepartureTime\": 18860731.0}, {\"NodeId\": \"RX SOLICITUD\", \"ArrivalTime\": 18885578.5, \"ServiceStartTime\": 18885578.5, \"DepartureTime\": 18888816.625}, {\"NodeId\": \"RX EXPLORACION\", \"ArrivalTime\": 18888816.625, \"ServiceStartTime\": 18888816.625, \"DepartureTime\": 18900544.75}, {\"NodeId\": \"RX INFORME\", \"ArrivalTime\": 18892111.0, \"ServiceStartTime\": 18892111.0, \"DepartureTime\": 18928013.5}, {\"NodeId\": \"ALTA\", \"ArrivalTime\": 18956498.5, \"ServiceStartTime\": 18956498.5, \"DepartureTime\": 18956498.5}]}, {\"Priority\": 1, \"Step\": [{\"NodeId\": \"ADMISION\", \"ArrivalTime\": 18932799.0, \"ServiceStartTime\": 18932799.0, \"DepartureTime\": 18933799.0}, {\"NodeId\": \"TRIAJE\", \"ArrivalTime\": 18933799.0, \"ServiceStartTime\": 18933799.0, \"DepartureTime\": 18940473.0}, {\"NodeId\": \"INTERCONSULTA\", \"ArrivalTime\": 18940473.0, \"ServiceStartTime\": 18940473.0, \"DepartureTime\": 18956779.0}, {\"NodeId\": \"RESPUESTA\", \"ArrivalTime\": 18956779.0, \"ServiceStartTime\": 18956779.0, \"DepartureTime\": 18959253.0}, {\"NodeId\": \"RX SOLICITUD\", \"ArrivalTime\": 18959253.0, \"ServiceStartTime\": 18959253.0, \"DepartureTime\": 18965629.0}, {\"NodeId\": \"RX EXPLORACION\", \"ArrivalTime\": 18965629.0, \"ServiceStartTime\": 18965629.0, \"DepartureTime\": 18977699.0}, {\"NodeId\": \"ALTA\", \"ArrivalTime\": 18977699.0, \"ServiceStartTime\": 18977699.0, \"DepartureTime\": 18977699.0}]}, {\"Priority\": 1, \"Step\": [{\"NodeId\": \"ADMISION\", \"ArrivalTime\": 19082721.0, \"ServiceStartTime\": 19082721.0, \"DepartureTime\": 19083501.0}, {\"NodeId\": \"TRIAJE\", \"ArrivalTime\": 19083501.0, \"ServiceStartTime\": 19083501.0, \"DepartureTime\": 19087634.333333332}, {\"NodeId\": \"RX SOLICITUD\", \"ArrivalTime\": 19104064.333333332, \"ServiceStartTime\": 19104064.333333332, \"DepartureTime\": 19106727.666666668}, {\"NodeId\": \"RX EXPLORACION\", \"ArrivalTime\": 19106727.666666668, \"ServiceStartTime\": 19106727.666666668, \"DepartureTime\": 19139734.333333332}, {\"NodeId\": \"INTERCONSULTA\", \"ArrivalTime\": 19158974.333333332, \"ServiceStartTime\": 19158974.333333332, \"DepartureTime\": 19204894.333333332}, {\"NodeId\": \"RESPUESTA\", \"ArrivalTime\": 19204894.333333332, \"ServiceStartTime\": 19204894.333333332, \"DepartureTime\": 19218641.0}, {\"NodeId\": \"ALTA\", \"ArrivalTime\": 19218641.0, \"ServiceStartTime\": 19218641.0, \"DepartureTime\": 19218641.0}]}, {\"Priority\": 1, \"Step\": [{\"NodeId\": \"ADMISION\", \"ArrivalTime\": 19059061.0, \"ServiceStartTime\": 19059061.0, \"DepartureTime\": 19059961.0}, {\"NodeId\": \"TRIAJE\", \"ArrivalTime\": 19059961.0, \"ServiceStartTime\": 19059961.0, \"DepartureTime\": 19063531.0}, {\"NodeId\": \"RX SOLICITUD\", \"ArrivalTime\": 19089277.0, \"ServiceStartTime\": 19089277.0, \"DepartureTime\": 19093387.0}, {\"NodeId\": \"RX EXPLORACION\", \"ArrivalTime\": 19093387.0, \"ServiceStartTime\": 19093387.0, \"DepartureTime\": 19102663.0}, {\"NodeId\": \"RX INFORME\", \"ArrivalTime\": 19130461.0, \"ServiceStartTime\": 19130461.0, \"DepartureTime\": 19146331.0}, {\"NodeId\": \"ALTA\", \"ArrivalTime\": 19146331.0, \"ServiceStartTime\": 19146331.0, \"DepartureTime\": 19146331.0}]}, {\"Priority\": 1, \"Step\": [{\"NodeId\": \"ADMISION\", \"ArrivalTime\": 19125501.0, \"ServiceStartTime\": 19125501.0, \"DepartureTime\": 19126161.0}, {\"NodeId\": \"TRIAJE\", \"ArrivalTime\": 19126161.0, \"ServiceStartTime\": 19126161.0, \"DepartureTime\": 19132201.0}, {\"NodeId\": \"RX SOLICITUD\", \"ArrivalTime\": 19161101.0, \"ServiceStartTime\": 19161101.0, \"DepartureTime\": 19164931.0}, {\"NodeId\": \"INTERCONSULTA\", \"ArrivalTime\": 19171981.0, \"ServiceStartTime\": 19171981.0, \"DepartureTime\": 19190001.0}, {\"NodeId\": \"RX EXPLORACION\", \"ArrivalTime\": 19166101.0, \"ServiceStartTime\": 19166101.0, \"DepartureTime\": 19170261.0}, {\"NodeId\": \"RX INFORME\", \"ArrivalTime\": 19170261.0, \"ServiceStartTime\": 19170261.0, \"DepartureTime\": 19196191.0}, {\"NodeId\": \"RESPUESTA\", \"ArrivalTime\": 19193981.0, \"ServiceStartTime\": 19193981.0, \"DepartureTime\": 19196321.0}, {\"NodeId\": \"ALTA\", \"ArrivalTime\": 19220401.0, \"ServiceStartTime\": 19220401.0, \"DepartureTime\": 19220401.0}]}, {\"Priority\": 1, \"Step\": [{\"NodeId\": \"ADMISION\", \"ArrivalTime\": 19204951.0, \"ServiceStartTime\": 19204951.0, \"DepartureTime\": 19205551.0}, {\"NodeId\": \"TRIAJE\", \"ArrivalTime\": 19205551.0, \"ServiceStartTime\": 19205551.0, \"DepartureTime\": 19207741.0}, {\"NodeId\": \"RX SOLICITUD\", \"ArrivalTime\": 19240576.0, \"ServiceStartTime\": 19240576.0, \"DepartureTime\": 19258666.0}, {\"NodeId\": \"RX EXPLORACION\", \"ArrivalTime\": 19258898.5, \"ServiceStartTime\": 19258898.5, \"DepartureTime\": 19281488.5}, {\"NodeId\": \"RX INFORME\", \"ArrivalTime\": 19303516.0, \"ServiceStartTime\": 19303516.0, \"DepartureTime\": 19333831.0}, {\"NodeId\": \"ALTA\", \"ArrivalTime\": 19431091.0, \"ServiceStartTime\": 19431091.0, \"DepartureTime\": 19431091.0}]}, {\"Priority\": 1, \"Step\": [{\"NodeId\": \"ADMISION\", \"ArrivalTime\": 19274581.0, \"ServiceStartTime\": 19274581.0, \"DepartureTime\": 19275091.0}, {\"NodeId\": \"TRIAJE\", \"ArrivalTime\": 19275091.0, \"ServiceStartTime\": 19275091.0, \"DepartureTime\": 19276831.0}, {\"NodeId\": \"RX SOLICITUD\", \"ArrivalTime\": 19304215.0, \"ServiceStartTime\": 19304215.0, \"DepartureTime\": 19309729.0}, {\"NodeId\": \"RX EXPLORACION\", \"ArrivalTime\": 19309729.0, \"ServiceStartTime\": 19309729.0, \"DepartureTime\": 19316143.0}, {\"NodeId\": \"RX INFORME\", \"ArrivalTime\": 19330771.0, \"ServiceStartTime\": 19330771.0, \"DepartureTime\": 19337011.0}, {\"NodeId\": \"ALTA\", \"ArrivalTime\": 19342711.0, \"ServiceStartTime\": 19342711.0, \"DepartureTime\": 19342711.0}]}, {\"Priority\": 1, \"Step\": [{\"NodeId\": \"ADMISION\", \"ArrivalTime\": 19474741.0, \"ServiceStartTime\": 19474741.0, \"DepartureTime\": 19475521.0}, {\"NodeId\": \"TRIAJE\", \"ArrivalTime\": 19475521.0, \"ServiceStartTime\": 19475521.0, \"DepartureTime\": 19477981.0}, {\"NodeId\": \"INTERCONSULTA\", \"ArrivalTime\": 19477981.0, \"ServiceStartTime\": 19477981.0, \"DepartureTime\": 19483801.0}, {\"NodeId\": \"RX EXPLORACION\", \"ArrivalTime\": 19488181.0, \"ServiceStartTime\": 19488181.0, \"DepartureTime\": 19489801.0}, {\"NodeId\": \"RX SOLICITUD\", \"ArrivalTime\": 19486801.0, \"ServiceStartTime\": 19486801.0, \"DepartureTime\": 19494601.0}, {\"NodeId\": \"ALTA\", \"ArrivalTime\": 19501021.0, \"ServiceStartTime\": 19501021.0, \"DepartureTime\": 19501021.0}]}, {\"Priority\": 1, \"Step\": [{\"NodeId\": \"ADMISION\", \"ArrivalTime\": 19674406.0, \"ServiceStartTime\": 19674406.0, \"DepartureTime\": 19675076.0}, {\"NodeId\": \"TRIAJE\", \"ArrivalTime\": 19675076.0, \"ServiceStartTime\": 19675076.0, \"DepartureTime\": 19680201.0}, {\"NodeId\": \"RX SOLICITUD\", \"ArrivalTime\": 19680201.0, \"ServiceStartTime\": 19680201.0, \"DepartureTime\": 19684931.0}, {\"NodeId\": \"RX EXPLORACION\", \"ArrivalTime\": 19684931.0, \"ServiceStartTime\": 19684931.0, \"DepartureTime\": 19689701.0}, {\"NodeId\": \"RX INFORME\", \"ArrivalTime\": 19689701.0, \"ServiceStartTime\": 19689701.0, \"DepartureTime\": 19719121.0}, {\"NodeId\": \"INTERCONSULTA\", \"ArrivalTime\": 19741288.5, \"ServiceStartTime\": 19741288.5, \"DepartureTime\": 19762556.0}, {\"NodeId\": \"RESPUESTA\", \"ArrivalTime\": 19762556.0, \"ServiceStartTime\": 19762556.0, \"DepartureTime\": 19791573.5}, {\"NodeId\": \"ALTA\", \"ArrivalTime\": 19819691.0, \"ServiceStartTime\": 19819691.0, \"DepartureTime\": 19819691.0}]}, {\"Priority\": 1, \"Step\": [{\"NodeId\": \"ADMISION\", \"ArrivalTime\": 19634196.0, \"ServiceStartTime\": 19634196.0, \"DepartureTime\": 19635214.333333332}, {\"NodeId\": \"TRIAJE\", \"ArrivalTime\": 19635214.333333332, \"ServiceStartTime\": 19635214.333333332, \"DepartureTime\": 19639294.333333332}, {\"NodeId\": \"RX SOLICITUD\", \"ArrivalTime\": 19646396.833333332, \"ServiceStartTime\": 19646396.833333332, \"DepartureTime\": 19650142.666666668}, {\"NodeId\": \"RX EXPLORACION\", \"ArrivalTime\": 19651380.166666668, \"ServiceStartTime\": 19651380.166666668, \"DepartureTime\": 19659716.833333332}, {\"NodeId\": \"RX INFORME\", \"ArrivalTime\": 19662001.0, \"ServiceStartTime\": 19662001.0, \"DepartureTime\": 19671759.333333332}, {\"NodeId\": \"ALTA\", \"ArrivalTime\": 19682976.0, \"ServiceStartTime\": 19682976.0, \"DepartureTime\": 19682976.0}]}, {\"Priority\": 1, \"Step\": [{\"NodeId\": \"ADMISION\", \"ArrivalTime\": 19723613.5, \"ServiceStartTime\": 19723613.5, \"DepartureTime\": 19724588.5}, {\"NodeId\": \"TRIAJE\", \"ArrivalTime\": 19724588.5, \"ServiceStartTime\": 19724588.5, \"DepartureTime\": 19727746.0}, {\"NodeId\": \"RX SOLICITUD\", \"ArrivalTime\": 19744938.5, \"ServiceStartTime\": 19744938.5, \"DepartureTime\": 19751116.0}, {\"NodeId\": \"RX INFORME\", \"ArrivalTime\": 19746653.5, \"ServiceStartTime\": 19746653.5, \"DepartureTime\": 19748048.5}, {\"NodeId\": \"RX EXPLORACION\", \"ArrivalTime\": 19751581.0, \"ServiceStartTime\": 19751581.0, \"DepartureTime\": 19772301.0}, {\"NodeId\": \"ALTA\", \"ArrivalTime\": 19809833.5, \"ServiceStartTime\": 19809833.5, \"DepartureTime\": 19809833.5}]}, {\"Priority\": 1, \"Step\": [{\"NodeId\": \"ADMISION\", \"ArrivalTime\": 19777875.4, \"ServiceStartTime\": 19777875.4, \"DepartureTime\": 19778547.4}, {\"NodeId\": \"TRIAJE\", \"ArrivalTime\": 19778547.4, \"ServiceStartTime\": 19778547.4, \"DepartureTime\": 19783150.6}, {\"NodeId\": \"RX SOLICITUD\", \"ArrivalTime\": 19783150.6, \"ServiceStartTime\": 19783150.6, \"DepartureTime\": 19786265.8}, {\"NodeId\": \"RX EXPLORACION\", \"ArrivalTime\": 19786265.8, \"ServiceStartTime\": 19786265.8, \"DepartureTime\": 19824257.8}, {\"NodeId\": \"INTERCONSULTA\", \"ArrivalTime\": 19835104.6, \"ServiceStartTime\": 19835104.6, \"DepartureTime\": 19846832.2}, {\"NodeId\": \"RESPUESTA\", \"ArrivalTime\": 19846832.2, \"ServiceStartTime\": 19846832.2, \"DepartureTime\": 19865947.0}, {\"NodeId\": \"ALTA\", \"ArrivalTime\": 19885942.6, \"ServiceStartTime\": 19885942.6, \"DepartureTime\": 19885942.6}]}, {\"Priority\": 1, \"Step\": [{\"NodeId\": \"ADMISION\", \"ArrivalTime\": 19869361.0, \"ServiceStartTime\": 19869361.0, \"DepartureTime\": 19870001.0}, {\"NodeId\": \"TRIAJE\", \"ArrivalTime\": 19870001.0, \"ServiceStartTime\": 19870001.0, \"DepartureTime\": 19875441.0}, {\"NodeId\": \"RX SOLICITUD\", \"ArrivalTime\": 19887287.666666668, \"ServiceStartTime\": 19887287.666666668, \"DepartureTime\": 19891741.0}, {\"NodeId\": \"RX EXPLORACION\", \"ArrivalTime\": 19897126.0, \"ServiceStartTime\": 19897126.0, \"DepartureTime\": 19905421.0}, {\"NodeId\": \"RX INFORME\", \"ArrivalTime\": 19912841.0, \"ServiceStartTime\": 19912841.0, \"DepartureTime\": 19913281.0}, {\"NodeId\": \"ALTA\", \"ArrivalTime\": 19922421.0, \"ServiceStartTime\": 19922421.0, \"DepartureTime\": 19922421.0}]}, {\"Priority\": 1, \"Step\": [{\"NodeId\": \"ADMISION\", \"ArrivalTime\": 19963606.0, \"ServiceStartTime\": 19963606.0, \"DepartureTime\": 19964266.0}, {\"NodeId\": \"TRIAJE\", \"ArrivalTime\": 19964266.0, \"ServiceStartTime\": 19964266.0, \"DepartureTime\": 19996546.0}, {\"NodeId\": \"INTERCONSULTA\", \"ArrivalTime\": 19996546.0, \"ServiceStartTime\": 19996546.0, \"DepartureTime\": 20010511.0}, {\"NodeId\": \"RX SOLICITUD\", \"ArrivalTime\": 20010511.0, \"ServiceStartTime\": 20010511.0, \"DepartureTime\": 20013346.0}, {\"NodeId\": \"RESPUESTA\", \"ArrivalTime\": 20013346.0, \"ServiceStartTime\": 20013346.0, \"DepartureTime\": 20074096.0}, {\"NodeId\": \"ALTA\", \"ArrivalTime\": 20074096.0, \"ServiceStartTime\": 20074096.0, \"DepartureTime\": 20074096.0}]}, {\"Priority\": 1, \"Step\": [{\"NodeId\": \"ADMISION\", \"ArrivalTime\": 19963606.0, \"ServiceStartTime\": 19963606.0, \"DepartureTime\": 19964266.0}, {\"NodeId\": \"TRIAJE\", \"ArrivalTime\": 19964266.0, \"ServiceStartTime\": 19964266.0, \"DepartureTime\": 19996546.0}, {\"NodeId\": \"INTERCONSULTA\", \"ArrivalTime\": 19996546.0, \"ServiceStartTime\": 19996546.0, \"DepartureTime\": 20010511.0}, {\"NodeId\": \"RX SOLICITUD\", \"ArrivalTime\": 20010511.0, \"ServiceStartTime\": 20010511.0, \"DepartureTime\": 20013346.0}, {\"NodeId\": \"RESPUESTA\", \"ArrivalTime\": 20013346.0, \"ServiceStartTime\": 20013346.0, \"DepartureTime\": 20074096.0}, {\"NodeId\": \"ALTA\", \"ArrivalTime\": 20074096.0, \"ServiceStartTime\": 20074096.0, \"DepartureTime\": 20074096.0}]}, {\"Priority\": 1, \"Step\": [{\"NodeId\": \"ADMISION\", \"ArrivalTime\": 20074981.0, \"ServiceStartTime\": 20074981.0, \"DepartureTime\": 20075401.0}, {\"NodeId\": \"TRIAJE\", \"ArrivalTime\": 20075401.0, \"ServiceStartTime\": 20075401.0, \"DepartureTime\": 20077801.0}, {\"NodeId\": \"RX SOLICITUD\", \"ArrivalTime\": 20147257.0, \"ServiceStartTime\": 20147257.0, \"DepartureTime\": 20167597.0}, {\"NodeId\": \"RX EXPLORACION\", \"ArrivalTime\": 20167753.0, \"ServiceStartTime\": 20167753.0, \"DepartureTime\": 20177185.0}, {\"NodeId\": \"RX INFORME\", \"ArrivalTime\": 20168161.0, \"ServiceStartTime\": 20168161.0, \"DepartureTime\": 20192661.0}, {\"NodeId\": \"ALTA\", \"ArrivalTime\": 20300161.0, \"ServiceStartTime\": 20300161.0, \"DepartureTime\": 20300161.0}]}, {\"Priority\": 1, \"Step\": [{\"NodeId\": \"ADMISION\", \"ArrivalTime\": 20093326.0, \"ServiceStartTime\": 20093326.0, \"DepartureTime\": 20094211.0}, {\"NodeId\": \"TRIAJE\", \"ArrivalTime\": 20094211.0, \"ServiceStartTime\": 20094211.0, \"DepartureTime\": 20098043.5}, {\"NodeId\": \"RX SOLICITUD\", \"ArrivalTime\": 20132868.5, \"ServiceStartTime\": 20132868.5, \"DepartureTime\": 20136501.0}, {\"NodeId\": \"RX INFORME\", \"ArrivalTime\": 20127001.0, \"ServiceStartTime\": 20127001.0, \"DepartureTime\": 20150281.0}, {\"NodeId\": \"RX EXPLORACION\", \"ArrivalTime\": 20136501.0, \"ServiceStartTime\": 20136501.0, \"DepartureTime\": 20148611.0}, {\"NodeId\": \"ALTA\", \"ArrivalTime\": 20191831.0, \"ServiceStartTime\": 20191831.0, \"DepartureTime\": 20191831.0}]}, {\"Priority\": 1, \"Step\": [{\"NodeId\": \"ADMISION\", \"ArrivalTime\": 20155381.0, \"ServiceStartTime\": 20155381.0, \"DepartureTime\": 20155621.0}, {\"NodeId\": \"TRIAJE\", \"ArrivalTime\": 20155621.0, \"ServiceStartTime\": 20155621.0, \"DepartureTime\": 20155681.0}, {\"NodeId\": \"INTERCONSULTA\", \"ArrivalTime\": 20160661.0, \"ServiceStartTime\": 20160661.0, \"DepartureTime\": 20160841.0}, {\"NodeId\": \"RX SOLICITUD\", \"ArrivalTime\": 20158261.0, \"ServiceStartTime\": 20158261.0, \"DepartureTime\": 20162791.0}, {\"NodeId\": \"RESPUESTA\", \"ArrivalTime\": 20164921.0, \"ServiceStartTime\": 20164921.0, \"DepartureTime\": 20166661.0}, {\"NodeId\": \"RX EXPLORACION\", \"ArrivalTime\": 20166661.0, \"ServiceStartTime\": 20166661.0, \"DepartureTime\": 20183581.0}, {\"NodeId\": \"ALTA\", \"ArrivalTime\": 20183581.0, \"ServiceStartTime\": 20183581.0, \"DepartureTime\": 20183581.0}]}, {\"Priority\": 1, \"Step\": [{\"NodeId\": \"ADMISION\", \"ArrivalTime\": 20254921.0, \"ServiceStartTime\": 20254921.0, \"DepartureTime\": 20255801.0}, {\"NodeId\": \"TRIAJE\", \"ArrivalTime\": 20255801.0, \"ServiceStartTime\": 20255801.0, \"DepartureTime\": 20260601.0}, {\"NodeId\": \"RX INFORME\", \"ArrivalTime\": 20263621.0, \"ServiceStartTime\": 20263621.0, \"DepartureTime\": 20276321.0}, {\"NodeId\": \"RX SOLICITUD\", \"ArrivalTime\": 20274861.0, \"ServiceStartTime\": 20274861.0, \"DepartureTime\": 20276421.0}, {\"NodeId\": \"INTERCONSULTA\", \"ArrivalTime\": 20276321.0, \"ServiceStartTime\": 20276321.0, \"DepartureTime\": 20287441.0}, {\"NodeId\": \"RX EXPLORACION\", \"ArrivalTime\": 20276421.0, \"ServiceStartTime\": 20276421.0, \"DepartureTime\": 20288691.0}, {\"NodeId\": \"RESPUESTA\", \"ArrivalTime\": 20287441.0, \"ServiceStartTime\": 20287441.0, \"DepartureTime\": 20289121.0}, {\"NodeId\": \"ALTA\", \"ArrivalTime\": 20313761.0, \"ServiceStartTime\": 20313761.0, \"DepartureTime\": 20313761.0}]}, {\"Priority\": 1, \"Step\": [{\"NodeId\": \"ADMISION\", \"ArrivalTime\": 20381341.0, \"ServiceStartTime\": 20381341.0, \"DepartureTime\": 20381461.0}, {\"NodeId\": \"TRIAJE\", \"ArrivalTime\": 20381461.0, \"ServiceStartTime\": 20381461.0, \"DepartureTime\": 20381761.0}, {\"NodeId\": \"INTERCONSULTA\", \"ArrivalTime\": 20436961.0, \"ServiceStartTime\": 20436961.0, \"DepartureTime\": 20441341.0}, {\"NodeId\": \"RESPUESTA\", \"ArrivalTime\": 20441881.0, \"ServiceStartTime\": 20441881.0, \"DepartureTime\": 20442481.0}, {\"NodeId\": \"RX SOLICITUD\", \"ArrivalTime\": 20435776.0, \"ServiceStartTime\": 20435776.0, \"DepartureTime\": 20437591.0}, {\"NodeId\": \"RX EXPLORACION\", \"ArrivalTime\": 20437966.0, \"ServiceStartTime\": 20437966.0, \"DepartureTime\": 20456176.0}, {\"NodeId\": \"RX INFORME\", \"ArrivalTime\": 20455111.0, \"ServiceStartTime\": 20455111.0, \"DepartureTime\": 20462041.0}, {\"NodeId\": \"ALTA\", \"ArrivalTime\": 20480701.0, \"ServiceStartTime\": 20480701.0, \"DepartureTime\": 20480701.0}]}, {\"Priority\": 1, \"Step\": [{\"NodeId\": \"ADMISION\", \"ArrivalTime\": 20515951.0, \"ServiceStartTime\": 20515951.0, \"DepartureTime\": 20517211.0}, {\"NodeId\": \"TRIAJE\", \"ArrivalTime\": 20517211.0, \"ServiceStartTime\": 20517211.0, \"DepartureTime\": 20520451.0}, {\"NodeId\": \"RX SOLICITUD\", \"ArrivalTime\": 20520451.0, \"ServiceStartTime\": 20520451.0, \"DepartureTime\": 20522281.0}, {\"NodeId\": \"INTERCONSULTA\", \"ArrivalTime\": 20522281.0, \"ServiceStartTime\": 20522281.0, \"DepartureTime\": 20525671.0}, {\"NodeId\": \"RESPUESTA\", \"ArrivalTime\": 20525671.0, \"ServiceStartTime\": 20525671.0, \"DepartureTime\": 20529241.0}, {\"NodeId\": \"RX EXPLORACION\", \"ArrivalTime\": 20529241.0, \"ServiceStartTime\": 20529241.0, \"DepartureTime\": 20540221.0}, {\"NodeId\": \"RX INFORME\", \"ArrivalTime\": 20540221.0, \"ServiceStartTime\": 20540221.0, \"DepartureTime\": 20590951.0}, {\"NodeId\": \"ALTA\", \"ArrivalTime\": 20590951.0, \"ServiceStartTime\": 20590951.0, \"DepartureTime\": 20590951.0}]}, {\"Priority\": 1, \"Step\": [{\"NodeId\": \"ADMISION\", \"ArrivalTime\": 20629213.0, \"ServiceStartTime\": 20629213.0, \"DepartureTime\": 20629945.0}, {\"NodeId\": \"TRIAJE\", \"ArrivalTime\": 20629945.0, \"ServiceStartTime\": 20629945.0, \"DepartureTime\": 20633701.0}, {\"NodeId\": \"RX SOLICITUD\", \"ArrivalTime\": 20657281.0, \"ServiceStartTime\": 20657281.0, \"DepartureTime\": 20660953.0}, {\"NodeId\": \"INTERCONSULTA\", \"ArrivalTime\": 20663197.0, \"ServiceStartTime\": 20663197.0, \"DepartureTime\": 20680861.0}, {\"NodeId\": \"RX EXPLORACION\", \"ArrivalTime\": 20662573.0, \"ServiceStartTime\": 20662573.0, \"DepartureTime\": 20691859.0}, {\"NodeId\": \"RESPUESTA\", \"ArrivalTime\": 20685457.0, \"ServiceStartTime\": 20685457.0, \"DepartureTime\": 20688697.0}, {\"NodeId\": \"ALTA\", \"ArrivalTime\": 20720521.0, \"ServiceStartTime\": 20720521.0, \"DepartureTime\": 20720521.0}]}, {\"Priority\": 1, \"Step\": [{\"NodeId\": \"ADMISION\", \"ArrivalTime\": 20740681.0, \"ServiceStartTime\": 20740681.0, \"DepartureTime\": 20741041.0}, {\"NodeId\": \"TRIAJE\", \"ArrivalTime\": 20741041.0, \"ServiceStartTime\": 20741041.0, \"DepartureTime\": 20743861.0}, {\"NodeId\": \"RX SOLICITUD\", \"ArrivalTime\": 20760501.0, \"ServiceStartTime\": 20760501.0, \"DepartureTime\": 20768841.0}, {\"NodeId\": \"INTERCONSULTA\", \"ArrivalTime\": 20769151.0, \"ServiceStartTime\": 20769151.0, \"DepartureTime\": 20770111.0}, {\"NodeId\": \"RX INFORME\", \"ArrivalTime\": 20774521.0, \"ServiceStartTime\": 20774521.0, \"DepartureTime\": 20775781.0}, {\"NodeId\": \"RX EXPLORACION\", \"ArrivalTime\": 20773441.0, \"ServiceStartTime\": 20773441.0, \"DepartureTime\": 20777161.0}, {\"NodeId\": \"RESPUESTA\", \"ArrivalTime\": 20778451.0, \"ServiceStartTime\": 20778451.0, \"DepartureTime\": 20788861.0}, {\"NodeId\": \"ALTA\", \"ArrivalTime\": 20800321.0, \"ServiceStartTime\": 20800321.0, \"DepartureTime\": 20800321.0}]}, {\"Priority\": 1, \"Step\": [{\"NodeId\": \"ADMISION\", \"ArrivalTime\": 20751901.0, \"ServiceStartTime\": 20751901.0, \"DepartureTime\": 20752621.0}, {\"NodeId\": \"TRIAJE\", \"ArrivalTime\": 20752621.0, \"ServiceStartTime\": 20752621.0, \"DepartureTime\": 20755201.0}, {\"NodeId\": \"RX SOLICITUD\", \"ArrivalTime\": 20770297.0, \"ServiceStartTime\": 20770297.0, \"DepartureTime\": 20774641.0}, {\"NodeId\": \"RX EXPLORACION\", \"ArrivalTime\": 20774785.0, \"ServiceStartTime\": 20774785.0, \"DepartureTime\": 20784217.0}, {\"NodeId\": \"RX INFORME\", \"ArrivalTime\": 20779261.0, \"ServiceStartTime\": 20779261.0, \"DepartureTime\": 20779621.0}, {\"NodeId\": \"ALTA\", \"ArrivalTime\": 20824801.0, \"ServiceStartTime\": 20824801.0, \"DepartureTime\": 20824801.0}]}, {\"Priority\": 1, \"Step\": [{\"NodeId\": \"ADMISION\", \"ArrivalTime\": 21233641.0, \"ServiceStartTime\": 21233641.0, \"DepartureTime\": 21234181.0}, {\"NodeId\": \"TRIAJE\", \"ArrivalTime\": 21234181.0, \"ServiceStartTime\": 21234181.0, \"DepartureTime\": 21235801.0}, {\"NodeId\": \"RX SOLICITUD\", \"ArrivalTime\": 21255901.0, \"ServiceStartTime\": 21255901.0, \"DepartureTime\": 21260001.0}, {\"NodeId\": \"INTERCONSULTA\", \"ArrivalTime\": 21248761.0, \"ServiceStartTime\": 21248761.0, \"DepartureTime\": 21289261.0}, {\"NodeId\": \"RX EXPLORACION\", \"ArrivalTime\": 21265621.0, \"ServiceStartTime\": 21265621.0, \"DepartureTime\": 21312541.0}, {\"NodeId\": \"RESPUESTA\", \"ArrivalTime\": 21289261.0, \"ServiceStartTime\": 21289261.0, \"DepartureTime\": 21289681.0}, {\"NodeId\": \"ALTA\", \"ArrivalTime\": 21382861.0, \"ServiceStartTime\": 21382861.0, \"DepartureTime\": 21382861.0}]}, {\"Priority\": 1, \"Step\": [{\"NodeId\": \"ADMISION\", \"ArrivalTime\": 21288421.0, \"ServiceStartTime\": 21288421.0, \"DepartureTime\": 21289261.0}, {\"NodeId\": \"TRIAJE\", \"ArrivalTime\": 21289261.0, \"ServiceStartTime\": 21289261.0, \"DepartureTime\": 21291121.0}, {\"NodeId\": \"RX SOLICITUD\", \"ArrivalTime\": 21300631.0, \"ServiceStartTime\": 21300631.0, \"DepartureTime\": 21305626.0}, {\"NodeId\": \"RX EXPLORACION\", \"ArrivalTime\": 21305261.0, \"ServiceStartTime\": 21305261.0, \"DepartureTime\": 21308321.0}, {\"NodeId\": \"RX INFORME\", \"ArrivalTime\": 21313681.0, \"ServiceStartTime\": 21313681.0, \"DepartureTime\": 21320851.0}, {\"NodeId\": \"ALTA\", \"ArrivalTime\": 21334621.0, \"ServiceStartTime\": 21334621.0, \"DepartureTime\": 21334621.0}]}, {\"Priority\": 1, \"Step\": [{\"NodeId\": \"ADMISION\", \"ArrivalTime\": 21059181.0, \"ServiceStartTime\": 21059181.0, \"DepartureTime\": 21059641.0}, {\"NodeId\": \"TRIAJE\", \"ArrivalTime\": 21059641.0, \"ServiceStartTime\": 21059641.0, \"DepartureTime\": 21067481.0}, {\"NodeId\": \"RX SOLICITUD\", \"ArrivalTime\": 21081181.0, \"ServiceStartTime\": 21081181.0, \"DepartureTime\": 21085151.0}, {\"NodeId\": \"RX EXPLORACION\", \"ArrivalTime\": 21081634.333333332, \"ServiceStartTime\": 21081634.333333332, \"DepartureTime\": 21096741.0}, {\"NodeId\": \"RX INFORME\", \"ArrivalTime\": 21085921.0, \"ServiceStartTime\": 21085921.0, \"DepartureTime\": 21086221.0}, {\"NodeId\": \"ALTA\", \"ArrivalTime\": 21121341.0, \"ServiceStartTime\": 21121341.0, \"DepartureTime\": 21121341.0}]}, {\"Priority\": 1, \"Step\": [{\"NodeId\": \"ADMISION\", \"ArrivalTime\": 21210409.0, \"ServiceStartTime\": 21210409.0, \"DepartureTime\": 21211321.0}, {\"NodeId\": \"TRIAJE\", \"ArrivalTime\": 21211321.0, \"ServiceStartTime\": 21211321.0, \"DepartureTime\": 21215173.0}, {\"NodeId\": \"RX SOLICITUD\", \"ArrivalTime\": 21220225.0, \"ServiceStartTime\": 21220225.0, \"DepartureTime\": 21223039.0}, {\"NodeId\": \"RX EXPLORACION\", \"ArrivalTime\": 21226077.0, \"ServiceStartTime\": 21226077.0, \"DepartureTime\": 21231721.0}, {\"NodeId\": \"RX INFORME\", \"ArrivalTime\": 21229435.0, \"ServiceStartTime\": 21229435.0, \"DepartureTime\": 21230329.0}, {\"NodeId\": \"ALTA\", \"ArrivalTime\": 21239521.0, \"ServiceStartTime\": 21239521.0, \"DepartureTime\": 21239521.0}]}, {\"Priority\": 1, \"Step\": [{\"NodeId\": \"ADMISION\", \"ArrivalTime\": 21344281.0, \"ServiceStartTime\": 21344281.0, \"DepartureTime\": 21344641.0}, {\"NodeId\": \"TRIAJE\", \"ArrivalTime\": 21344641.0, \"ServiceStartTime\": 21344641.0, \"DepartureTime\": 21345661.0}, {\"NodeId\": \"RX SOLICITUD\", \"ArrivalTime\": 21366796.0, \"ServiceStartTime\": 21366796.0, \"DepartureTime\": 21368116.0}, {\"NodeId\": \"RX EXPLORACION\", \"ArrivalTime\": 21368161.0, \"ServiceStartTime\": 21368161.0, \"DepartureTime\": 21379456.0}, {\"NodeId\": \"RX INFORME\", \"ArrivalTime\": 21370561.0, \"ServiceStartTime\": 21370561.0, \"DepartureTime\": 21371401.0}, {\"NodeId\": \"ALTA\", \"ArrivalTime\": 21397801.0, \"ServiceStartTime\": 21397801.0, \"DepartureTime\": 21397801.0}]}, {\"Priority\": 1, \"Step\": [{\"NodeId\": \"ADMISION\", \"ArrivalTime\": 21306586.0, \"ServiceStartTime\": 21306586.0, \"DepartureTime\": 21307291.0}, {\"NodeId\": \"TRIAJE\", \"ArrivalTime\": 21307291.0, \"ServiceStartTime\": 21307291.0, \"DepartureTime\": 21311416.0}, {\"NodeId\": \"RX SOLICITUD\", \"ArrivalTime\": 21317961.0, \"ServiceStartTime\": 21317961.0, \"DepartureTime\": 21319876.0}, {\"NodeId\": \"RX EXPLORACION\", \"ArrivalTime\": 21320541.0, \"ServiceStartTime\": 21320541.0, \"DepartureTime\": 21323626.0}, {\"NodeId\": \"RX INFORME\", \"ArrivalTime\": 21326333.5, \"ServiceStartTime\": 21326333.5, \"DepartureTime\": 21329881.0}, {\"NodeId\": \"ALTA\", \"ArrivalTime\": 21333511.0, \"ServiceStartTime\": 21333511.0, \"DepartureTime\": 21333511.0}]}, {\"Priority\": 1, \"Step\": [{\"NodeId\": \"ADMISION\", \"ArrivalTime\": 21401761.0, \"ServiceStartTime\": 21401761.0, \"DepartureTime\": 21402841.0}, {\"NodeId\": \"TRIAJE\", \"ArrivalTime\": 21402841.0, \"ServiceStartTime\": 21402841.0, \"DepartureTime\": 21406561.0}, {\"NodeId\": \"RX EXPLORACION\", \"ArrivalTime\": 21418231.0, \"ServiceStartTime\": 21418231.0, \"DepartureTime\": 21420391.0}, {\"NodeId\": \"RX SOLICITUD\", \"ArrivalTime\": 21417625.0, \"ServiceStartTime\": 21417625.0, \"DepartureTime\": 21420337.0}, {\"NodeId\": \"RX INFORME\", \"ArrivalTime\": 21428761.0, \"ServiceStartTime\": 21428761.0, \"DepartureTime\": 21471661.0}, {\"NodeId\": \"ALTA\", \"ArrivalTime\": 21471661.0, \"ServiceStartTime\": 21471661.0, \"DepartureTime\": 21471661.0}]}, {\"Priority\": 1, \"Step\": [{\"NodeId\": \"ADMISION\", \"ArrivalTime\": 21294639.181818184, \"ServiceStartTime\": 21294639.181818184, \"DepartureTime\": 21295337.363636363}, {\"NodeId\": \"TRIAJE\", \"ArrivalTime\": 21295337.363636363, \"ServiceStartTime\": 21295337.363636363, \"DepartureTime\": 21299570.09090909}, {\"NodeId\": \"RX SOLICITUD\", \"ArrivalTime\": 21299570.09090909, \"ServiceStartTime\": 21299570.09090909, \"DepartureTime\": 21302842.818181816}, {\"NodeId\": \"RX EXPLORACION\", \"ArrivalTime\": 21302842.818181816, \"ServiceStartTime\": 21302842.818181816, \"DepartureTime\": 21309071.90909091}, {\"NodeId\": \"INTERCONSULTA\", \"ArrivalTime\": 21309071.90909091, \"ServiceStartTime\": 21309071.90909091, \"DepartureTime\": 21318475.545454547}, {\"NodeId\": \"RX INFORME\", \"ArrivalTime\": 21318475.545454547, \"ServiceStartTime\": 21318475.545454547, \"DepartureTime\": 21337904.636363637}, {\"NodeId\": \"RESPUESTA\", \"ArrivalTime\": 21337904.636363637, \"ServiceStartTime\": 21337904.636363637, \"DepartureTime\": 21356275.545454547}, {\"NodeId\": \"ALTA\", \"ArrivalTime\": 21356275.545454547, \"ServiceStartTime\": 21356275.545454547, \"DepartureTime\": 21356275.545454547}]}, {\"Priority\": 1, \"Step\": [{\"NodeId\": \"ADMISION\", \"ArrivalTime\": 21354141.0, \"ServiceStartTime\": 21354141.0, \"DepartureTime\": 21354521.0}, {\"NodeId\": \"TRIAJE\", \"ArrivalTime\": 21354521.0, \"ServiceStartTime\": 21354521.0, \"DepartureTime\": 21359781.0}, {\"NodeId\": \"RX SOLICITUD\", \"ArrivalTime\": 21373591.0, \"ServiceStartTime\": 21373591.0, \"DepartureTime\": 21376471.0}, {\"NodeId\": \"INTERCONSULTA\", \"ArrivalTime\": 21379361.0, \"ServiceStartTime\": 21379361.0, \"DepartureTime\": 21387401.0}, {\"NodeId\": \"RX EXPLORACION\", \"ArrivalTime\": 21376821.0, \"ServiceStartTime\": 21376821.0, \"DepartureTime\": 21386081.0}, {\"NodeId\": \"RESPUESTA\", \"ArrivalTime\": 21389301.0, \"ServiceStartTime\": 21389301.0, \"DepartureTime\": 21390001.0}, {\"NodeId\": \"RX INFORME\", \"ArrivalTime\": 21392801.0, \"ServiceStartTime\": 21392801.0, \"DepartureTime\": 21407141.0}, {\"NodeId\": \"ALTA\", \"ArrivalTime\": 21407141.0, \"ServiceStartTime\": 21407141.0, \"DepartureTime\": 21407141.0}]}, {\"Priority\": 1, \"Step\": [{\"NodeId\": \"ADMISION\", \"ArrivalTime\": 21561061.0, \"ServiceStartTime\": 21561061.0, \"DepartureTime\": 21561541.0}, {\"NodeId\": \"TRIAJE\", \"ArrivalTime\": 21561541.0, \"ServiceStartTime\": 21561541.0, \"DepartureTime\": 21563821.0}, {\"NodeId\": \"INTERCONSULTA\", \"ArrivalTime\": 21563821.0, \"ServiceStartTime\": 21563821.0, \"DepartureTime\": 21569401.0}, {\"NodeId\": \"RESPUESTA\", \"ArrivalTime\": 21569401.0, \"ServiceStartTime\": 21569401.0, \"DepartureTime\": 21573901.0}, {\"NodeId\": \"RX SOLICITUD\", \"ArrivalTime\": 21575461.0, \"ServiceStartTime\": 21575461.0, \"DepartureTime\": 21580861.0}, {\"NodeId\": \"RX EXPLORACION\", \"ArrivalTime\": 21581401.0, \"ServiceStartTime\": 21581401.0, \"DepartureTime\": 21623941.0}, {\"NodeId\": \"RX INFORME\", \"ArrivalTime\": 21586861.0, \"ServiceStartTime\": 21586861.0, \"DepartureTime\": 21587941.0}, {\"NodeId\": \"ALTA\", \"ArrivalTime\": 21670861.0, \"ServiceStartTime\": 21670861.0, \"DepartureTime\": 21670861.0}]}, {\"Priority\": 1, \"Step\": [{\"NodeId\": \"ADMISION\", \"ArrivalTime\": 21493651.0, \"ServiceStartTime\": 21493651.0, \"DepartureTime\": 21494581.0}, {\"NodeId\": \"TRIAJE\", \"ArrivalTime\": 21494581.0, \"ServiceStartTime\": 21494581.0, \"DepartureTime\": 21504031.0}, {\"NodeId\": \"INTERCONSULTA\", \"ArrivalTime\": 21504031.0, \"ServiceStartTime\": 21504031.0, \"DepartureTime\": 21521191.0}, {\"NodeId\": \"RESPUESTA\", \"ArrivalTime\": 21521191.0, \"ServiceStartTime\": 21521191.0, \"DepartureTime\": 21540361.0}, {\"NodeId\": \"RX SOLICITUD\", \"ArrivalTime\": 21540361.0, \"ServiceStartTime\": 21540361.0, \"DepartureTime\": 21543121.0}, {\"NodeId\": \"RX INFORME\", \"ArrivalTime\": 21543121.0, \"ServiceStartTime\": 21543121.0, \"DepartureTime\": 21543871.0}, {\"NodeId\": \"RX EXPLORACION\", \"ArrivalTime\": 21543871.0, \"ServiceStartTime\": 21543871.0, \"DepartureTime\": 21576871.0}, {\"NodeId\": \"ALTA\", \"ArrivalTime\": 21576871.0, \"ServiceStartTime\": 21576871.0, \"DepartureTime\": 21576871.0}]}, {\"Priority\": 1, \"Step\": [{\"NodeId\": \"ADMISION\", \"ArrivalTime\": 21621121.0, \"ServiceStartTime\": 21621121.0, \"DepartureTime\": 21621481.0}, {\"NodeId\": \"TRIAJE\", \"ArrivalTime\": 21621481.0, \"ServiceStartTime\": 21621481.0, \"DepartureTime\": 21628681.0}, {\"NodeId\": \"INTERCONSULTA\", \"ArrivalTime\": 21630721.0, \"ServiceStartTime\": 21630721.0, \"DepartureTime\": 21630781.0}, {\"NodeId\": \"RESPUESTA\", \"ArrivalTime\": 21631981.0, \"ServiceStartTime\": 21631981.0, \"DepartureTime\": 21632341.0}, {\"NodeId\": \"RX SOLICITUD\", \"ArrivalTime\": 21633841.0, \"ServiceStartTime\": 21633841.0, \"DepartureTime\": 21637581.0}, {\"NodeId\": \"RX EXPLORACION\", \"ArrivalTime\": 21635881.0, \"ServiceStartTime\": 21635881.0, \"DepartureTime\": 21637351.0}, {\"NodeId\": \"RX INFORME\", \"ArrivalTime\": 21646201.0, \"ServiceStartTime\": 21646201.0, \"DepartureTime\": 21656221.0}, {\"NodeId\": \"ALTA\", \"ArrivalTime\": 21656221.0, \"ServiceStartTime\": 21656221.0, \"DepartureTime\": 21656221.0}]}, {\"Priority\": 1, \"Step\": [{\"NodeId\": \"ADMISION\", \"ArrivalTime\": 21508609.0, \"ServiceStartTime\": 21508609.0, \"DepartureTime\": 21509293.0}, {\"NodeId\": \"TRIAJE\", \"ArrivalTime\": 21509293.0, \"ServiceStartTime\": 21509293.0, \"DepartureTime\": 21512965.0}, {\"NodeId\": \"RX EXPLORACION\", \"ArrivalTime\": 21515689.0, \"ServiceStartTime\": 21515689.0, \"DepartureTime\": 21534193.0}, {\"NodeId\": \"RX SOLICITUD\", \"ArrivalTime\": 21523579.0, \"ServiceStartTime\": 21523579.0, \"DepartureTime\": 21539125.0}, {\"NodeId\": \"INTERCONSULTA\", \"ArrivalTime\": 21562561.0, \"ServiceStartTime\": 21562561.0, \"DepartureTime\": 21593437.0}, {\"NodeId\": \"RESPUESTA\", \"ArrivalTime\": 21593437.0, \"ServiceStartTime\": 21593437.0, \"DepartureTime\": 21625153.0}, {\"NodeId\": \"ALTA\", \"ArrivalTime\": 21625153.0, \"ServiceStartTime\": 21625153.0, \"DepartureTime\": 21625153.0}]}, {\"Priority\": 1, \"Step\": [{\"NodeId\": \"ADMISION\", \"ArrivalTime\": 21678001.0, \"ServiceStartTime\": 21678001.0, \"DepartureTime\": 21678561.0}, {\"NodeId\": \"TRIAJE\", \"ArrivalTime\": 21678561.0, \"ServiceStartTime\": 21678561.0, \"DepartureTime\": 21679481.0}, {\"NodeId\": \"RX SOLICITUD\", \"ArrivalTime\": 21699987.666666668, \"ServiceStartTime\": 21699987.666666668, \"DepartureTime\": 21705454.333333332}, {\"NodeId\": \"RX EXPLORACION\", \"ArrivalTime\": 21700316.0, \"ServiceStartTime\": 21700316.0, \"DepartureTime\": 21712416.0}, {\"NodeId\": \"RX INFORME\", \"ArrivalTime\": 21714591.0, \"ServiceStartTime\": 21714591.0, \"DepartureTime\": 21720621.0}, {\"NodeId\": \"ALTA\", \"ArrivalTime\": 21756341.0, \"ServiceStartTime\": 21756341.0, \"DepartureTime\": 21756341.0}]}, {\"Priority\": 1, \"Step\": [{\"NodeId\": \"ADMISION\", \"ArrivalTime\": 21664516.0, \"ServiceStartTime\": 21664516.0, \"DepartureTime\": 21664906.0}, {\"NodeId\": \"TRIAJE\", \"ArrivalTime\": 21664906.0, \"ServiceStartTime\": 21664906.0, \"DepartureTime\": 21669676.0}, {\"NodeId\": \"RX SOLICITUD\", \"ArrivalTime\": 21673906.0, \"ServiceStartTime\": 21673906.0, \"DepartureTime\": 21677356.0}, {\"NodeId\": \"RX EXPLORACION\", \"ArrivalTime\": 21677693.5, \"ServiceStartTime\": 21677693.5, \"DepartureTime\": 21690121.0}, {\"NodeId\": \"RX INFORME\", \"ArrivalTime\": 21683416.0, \"ServiceStartTime\": 21683416.0, \"DepartureTime\": 21684091.0}, {\"NodeId\": \"INTERCONSULTA\", \"ArrivalTime\": 21702106.0, \"ServiceStartTime\": 21702106.0, \"DepartureTime\": 21727621.0}, {\"NodeId\": \"ALTA\", \"ArrivalTime\": 21727621.0, \"ServiceStartTime\": 21727621.0, \"DepartureTime\": 21727621.0}]}, {\"Priority\": 1, \"Step\": [{\"NodeId\": \"ADMISION\", \"ArrivalTime\": 21916141.0, \"ServiceStartTime\": 21916141.0, \"DepartureTime\": 21916441.0}, {\"NodeId\": \"TRIAJE\", \"ArrivalTime\": 21916441.0, \"ServiceStartTime\": 21916441.0, \"DepartureTime\": 21925021.0}, {\"NodeId\": \"RX SOLICITUD\", \"ArrivalTime\": 21937601.0, \"ServiceStartTime\": 21937601.0, \"DepartureTime\": 21939901.0}, {\"NodeId\": \"RX INFORME\", \"ArrivalTime\": 21936121.0, \"ServiceStartTime\": 21936121.0, \"DepartureTime\": 21943891.0}, {\"NodeId\": \"RX EXPLORACION\", \"ArrivalTime\": 21939901.0, \"ServiceStartTime\": 21939901.0, \"DepartureTime\": 21944521.0}, {\"NodeId\": \"INTERCONSULTA\", \"ArrivalTime\": 21961321.0, \"ServiceStartTime\": 21961321.0, \"DepartureTime\": 21986161.0}, {\"NodeId\": \"RESPUESTA\", \"ArrivalTime\": 21986161.0, \"ServiceStartTime\": 21986161.0, \"DepartureTime\": 22002541.0}, {\"NodeId\": \"ALTA\", \"ArrivalTime\": 22002541.0, \"ServiceStartTime\": 22002541.0, \"DepartureTime\": 22002541.0}]}, {\"Priority\": 1, \"Step\": [{\"NodeId\": \"ADMISION\", \"ArrivalTime\": 22060081.0, \"ServiceStartTime\": 22060081.0, \"DepartureTime\": 22060681.0}, {\"NodeId\": \"TRIAJE\", \"ArrivalTime\": 22060681.0, \"ServiceStartTime\": 22060681.0, \"DepartureTime\": 22062721.0}, {\"NodeId\": \"RX SOLICITUD\", \"ArrivalTime\": 22071571.0, \"ServiceStartTime\": 22071571.0, \"DepartureTime\": 22072861.0}, {\"NodeId\": \"INTERCONSULTA\", \"ArrivalTime\": 22073701.0, \"ServiceStartTime\": 22073701.0, \"DepartureTime\": 22080421.0}, {\"NodeId\": \"RX EXPLORACION\", \"ArrivalTime\": 22076281.0, \"ServiceStartTime\": 22076281.0, \"DepartureTime\": 22080121.0}, {\"NodeId\": \"RX INFORME\", \"ArrivalTime\": 22082941.0, \"ServiceStartTime\": 22082941.0, \"DepartureTime\": 22083121.0}, {\"NodeId\": \"RESPUESTA\", \"ArrivalTime\": 22083721.0, \"ServiceStartTime\": 22083721.0, \"DepartureTime\": 22085821.0}, {\"NodeId\": \"ALTA\", \"ArrivalTime\": 22085821.0, \"ServiceStartTime\": 22085821.0, \"DepartureTime\": 22085821.0}]}, {\"Priority\": 1, \"Step\": [{\"NodeId\": \"ADMISION\", \"ArrivalTime\": 22067101.0, \"ServiceStartTime\": 22067101.0, \"DepartureTime\": 22067701.0}, {\"NodeId\": \"TRIAJE\", \"ArrivalTime\": 22067701.0, \"ServiceStartTime\": 22067701.0, \"DepartureTime\": 22155001.0}, {\"NodeId\": \"INTERCONSULTA\", \"ArrivalTime\": 22190421.0, \"ServiceStartTime\": 22190421.0, \"DepartureTime\": 22199641.0}, {\"NodeId\": \"RESPUESTA\", \"ArrivalTime\": 22199641.0, \"ServiceStartTime\": 22199641.0, \"DepartureTime\": 22227481.0}, {\"NodeId\": \"ALTA\", \"ArrivalTime\": 22266181.0, \"ServiceStartTime\": 22266181.0, \"DepartureTime\": 22266181.0}]}, {\"Priority\": 1, \"Step\": [{\"NodeId\": \"ADMISION\", \"ArrivalTime\": 22080481.0, \"ServiceStartTime\": 22080481.0, \"DepartureTime\": 22081861.0}, {\"NodeId\": \"TRIAJE\", \"ArrivalTime\": 22081861.0, \"ServiceStartTime\": 22081861.0, \"DepartureTime\": 22084681.0}, {\"NodeId\": \"INTERCONSULTA\", \"ArrivalTime\": 22084681.0, \"ServiceStartTime\": 22084681.0, \"DepartureTime\": 22086361.0}, {\"NodeId\": \"RX SOLICITUD\", \"ArrivalTime\": 22089061.0, \"ServiceStartTime\": 22089061.0, \"DepartureTime\": 22090051.0}, {\"NodeId\": \"RESPUESTA\", \"ArrivalTime\": 22086661.0, \"ServiceStartTime\": 22086661.0, \"DepartureTime\": 22093441.0}, {\"NodeId\": \"RX EXPLORACION\", \"ArrivalTime\": 22090891.0, \"ServiceStartTime\": 22090891.0, \"DepartureTime\": 22132231.0}, {\"NodeId\": \"ALTA\", \"ArrivalTime\": 22177801.0, \"ServiceStartTime\": 22177801.0, \"DepartureTime\": 22177801.0}]}, {\"Priority\": 1, \"Step\": [{\"NodeId\": \"ADMISION\", \"ArrivalTime\": 21860381.0, \"ServiceStartTime\": 21860381.0, \"DepartureTime\": 21861001.0}, {\"NodeId\": \"TRIAJE\", \"ArrivalTime\": 21861001.0, \"ServiceStartTime\": 21861001.0, \"DepartureTime\": 21864901.0}, {\"NodeId\": \"RX EXPLORACION\", \"ArrivalTime\": 21870291.0, \"ServiceStartTime\": 21870291.0, \"DepartureTime\": 21873731.0}, {\"NodeId\": \"RX INFORME\", \"ArrivalTime\": 21870541.0, \"ServiceStartTime\": 21870541.0, \"DepartureTime\": 21870841.0}, {\"NodeId\": \"RX SOLICITUD\", \"ArrivalTime\": 21870911.0, \"ServiceStartTime\": 21870911.0, \"DepartureTime\": 21895331.0}, {\"NodeId\": \"ALTA\", \"ArrivalTime\": 21920921.0, \"ServiceStartTime\": 21920921.0, \"DepartureTime\": 21920921.0}]}, {\"Priority\": 1, \"Step\": [{\"NodeId\": \"ADMISION\", \"ArrivalTime\": 22156861.0, \"ServiceStartTime\": 22156861.0, \"DepartureTime\": 22157641.0}, {\"NodeId\": \"TRIAJE\", \"ArrivalTime\": 22157641.0, \"ServiceStartTime\": 22157641.0, \"DepartureTime\": 22162081.0}, {\"NodeId\": \"INTERCONSULTA\", \"ArrivalTime\": 22162081.0, \"ServiceStartTime\": 22162081.0, \"DepartureTime\": 22164901.0}, {\"NodeId\": \"RESPUESTA\", \"ArrivalTime\": 22171141.0, \"ServiceStartTime\": 22171141.0, \"DepartureTime\": 22183741.0}, {\"NodeId\": \"RX SOLICITUD\", \"ArrivalTime\": 22179541.0, \"ServiceStartTime\": 22179541.0, \"DepartureTime\": 22181341.0}, {\"NodeId\": \"RX EXPLORACION\", \"ArrivalTime\": 22181341.0, \"ServiceStartTime\": 22181341.0, \"DepartureTime\": 22186561.0}, {\"NodeId\": \"RX INFORME\", \"ArrivalTime\": 22183741.0, \"ServiceStartTime\": 22183741.0, \"DepartureTime\": 22194181.0}, {\"NodeId\": \"ALTA\", \"ArrivalTime\": 22201981.0, \"ServiceStartTime\": 22201981.0, \"DepartureTime\": 22201981.0}]}, {\"Priority\": 1, \"Step\": [{\"NodeId\": \"ADMISION\", \"ArrivalTime\": 22254001.0, \"ServiceStartTime\": 22254001.0, \"DepartureTime\": 22255531.0}, {\"NodeId\": \"TRIAJE\", \"ArrivalTime\": 22255531.0, \"ServiceStartTime\": 22255531.0, \"DepartureTime\": 22256551.0}, {\"NodeId\": \"RX SOLICITUD\", \"ArrivalTime\": 22301648.5, \"ServiceStartTime\": 22301648.5, \"DepartureTime\": 22312021.0}, {\"NodeId\": \"RX EXPLORACION\", \"ArrivalTime\": 22312021.0, \"ServiceStartTime\": 22312021.0, \"DepartureTime\": 22330673.5}, {\"NodeId\": \"RX INFORME\", \"ArrivalTime\": 22309336.0, \"ServiceStartTime\": 22309336.0, \"DepartureTime\": 22341511.0}, {\"NodeId\": \"ALTA\", \"ArrivalTime\": 22437001.0, \"ServiceStartTime\": 22437001.0, \"DepartureTime\": 22437001.0}]}, {\"Priority\": 1, \"Step\": [{\"NodeId\": \"ADMISION\", \"ArrivalTime\": 22232101.0, \"ServiceStartTime\": 22232101.0, \"DepartureTime\": 22232581.0}, {\"NodeId\": \"TRIAJE\", \"ArrivalTime\": 22232581.0, \"ServiceStartTime\": 22232581.0, \"DepartureTime\": 22239151.0}, {\"NodeId\": \"RX SOLICITUD\", \"ArrivalTime\": 22239151.0, \"ServiceStartTime\": 22239151.0, \"DepartureTime\": 22239511.0}, {\"NodeId\": \"INTERCONSULTA\", \"ArrivalTime\": 22239511.0, \"ServiceStartTime\": 22239511.0, \"DepartureTime\": 22243621.0}, {\"NodeId\": \"RX EXPLORACION\", \"ArrivalTime\": 22243621.0, \"ServiceStartTime\": 22243621.0, \"DepartureTime\": 22253011.0}, {\"NodeId\": \"RX INFORME\", \"ArrivalTime\": 22253011.0, \"ServiceStartTime\": 22253011.0, \"DepartureTime\": 22282561.0}, {\"NodeId\": \"RESPUESTA\", \"ArrivalTime\": 22282561.0, \"ServiceStartTime\": 22282561.0, \"DepartureTime\": 22297351.0}, {\"NodeId\": \"ALTA\", \"ArrivalTime\": 22297351.0, \"ServiceStartTime\": 22297351.0, \"DepartureTime\": 22297351.0}]}, {\"Priority\": 1, \"Step\": [{\"NodeId\": \"ADMISION\", \"ArrivalTime\": 22670941.0, \"ServiceStartTime\": 22670941.0, \"DepartureTime\": 22671301.0}, {\"NodeId\": \"TRIAJE\", \"ArrivalTime\": 22671301.0, \"ServiceStartTime\": 22671301.0, \"DepartureTime\": 22671961.0}, {\"NodeId\": \"INTERCONSULTA\", \"ArrivalTime\": 22672681.0, \"ServiceStartTime\": 22672681.0, \"DepartureTime\": 22677481.0}, {\"NodeId\": \"RX SOLICITUD\", \"ArrivalTime\": 22674721.0, \"ServiceStartTime\": 22674721.0, \"DepartureTime\": 22675291.0}, {\"NodeId\": \"RESPUESTA\", \"ArrivalTime\": 22682461.0, \"ServiceStartTime\": 22682461.0, \"DepartureTime\": 22685941.0}, {\"NodeId\": \"RX EXPLORACION\", \"ArrivalTime\": 22681921.0, \"ServiceStartTime\": 22681921.0, \"DepartureTime\": 22684291.0}, {\"NodeId\": \"RX INFORME\", \"ArrivalTime\": 22686121.0, \"ServiceStartTime\": 22686121.0, \"DepartureTime\": 22713661.0}, {\"NodeId\": \"ALTA\", \"ArrivalTime\": 22713661.0, \"ServiceStartTime\": 22713661.0, \"DepartureTime\": 22713661.0}]}, {\"Priority\": 1, \"Step\": [{\"NodeId\": \"ADMISION\", \"ArrivalTime\": 22680061.0, \"ServiceStartTime\": 22680061.0, \"DepartureTime\": 22681141.0}, {\"NodeId\": \"TRIAJE\", \"ArrivalTime\": 22681141.0, \"ServiceStartTime\": 22681141.0, \"DepartureTime\": 22683601.0}, {\"NodeId\": \"RX EXPLORACION\", \"ArrivalTime\": 22689061.0, \"ServiceStartTime\": 22689061.0, \"DepartureTime\": 22689061.0}, {\"NodeId\": \"RX INFORME\", \"ArrivalTime\": 22689061.0, \"ServiceStartTime\": 22689061.0, \"DepartureTime\": 22703641.0}, {\"NodeId\": \"RX SOLICITUD\", \"ArrivalTime\": 22700661.0, \"ServiceStartTime\": 22700661.0, \"DepartureTime\": 22716301.0}, {\"NodeId\": \"INTERCONSULTA\", \"ArrivalTime\": 22704241.0, \"ServiceStartTime\": 22704241.0, \"DepartureTime\": 22714741.0}, {\"NodeId\": \"RESPUESTA\", \"ArrivalTime\": 22755601.0, \"ServiceStartTime\": 22755601.0, \"DepartureTime\": 22765261.0}, {\"NodeId\": \"ALTA\", \"ArrivalTime\": 22765261.0, \"ServiceStartTime\": 22765261.0, \"DepartureTime\": 22765261.0}]}, {\"Priority\": 1, \"Step\": [{\"NodeId\": \"ADMISION\", \"ArrivalTime\": 22748321.0, \"ServiceStartTime\": 22748321.0, \"DepartureTime\": 22749281.0}, {\"NodeId\": \"TRIAJE\", \"ArrivalTime\": 22749281.0, \"ServiceStartTime\": 22749281.0, \"DepartureTime\": 22755281.0}, {\"NodeId\": \"RX INFORME\", \"ArrivalTime\": 22762101.0, \"ServiceStartTime\": 22762101.0, \"DepartureTime\": 22784961.0}, {\"NodeId\": \"RX SOLICITUD\", \"ArrivalTime\": 22786541.0, \"ServiceStartTime\": 22786541.0, \"DepartureTime\": 22792351.0}, {\"NodeId\": \"INTERCONSULTA\", \"ArrivalTime\": 22784961.0, \"ServiceStartTime\": 22784961.0, \"DepartureTime\": 22817801.0}, {\"NodeId\": \"RX EXPLORACION\", \"ArrivalTime\": 22792351.0, \"ServiceStartTime\": 22792351.0, \"DepartureTime\": 22799951.0}, {\"NodeId\": \"RESPUESTA\", \"ArrivalTime\": 22837801.0, \"ServiceStartTime\": 22837801.0, \"DepartureTime\": 22871981.0}, {\"NodeId\": \"ALTA\", \"ArrivalTime\": 22871981.0, \"ServiceStartTime\": 22871981.0, \"DepartureTime\": 22871981.0}]}, {\"Priority\": 1, \"Step\": [{\"NodeId\": \"ADMISION\", \"ArrivalTime\": 22904101.0, \"ServiceStartTime\": 22904101.0, \"DepartureTime\": 22904521.0}, {\"NodeId\": \"TRIAJE\", \"ArrivalTime\": 22904521.0, \"ServiceStartTime\": 22904521.0, \"DepartureTime\": 22908421.0}, {\"NodeId\": \"RX SOLICITUD\", \"ArrivalTime\": 22911481.0, \"ServiceStartTime\": 22911481.0, \"DepartureTime\": 22919431.0}, {\"NodeId\": \"RX EXPLORACION\", \"ArrivalTime\": 22923481.0, \"ServiceStartTime\": 22923481.0, \"DepartureTime\": 22924941.0}, {\"NodeId\": \"RX INFORME\", \"ArrivalTime\": 22929361.0, \"ServiceStartTime\": 22929361.0, \"DepartureTime\": 22932901.0}, {\"NodeId\": \"ALTA\", \"ArrivalTime\": 22939321.0, \"ServiceStartTime\": 22939321.0, \"DepartureTime\": 22939321.0}]}, {\"Priority\": 1, \"Step\": [{\"NodeId\": \"ADMISION\", \"ArrivalTime\": 23123641.0, \"ServiceStartTime\": 23123641.0, \"DepartureTime\": 23125141.0}, {\"NodeId\": \"TRIAJE\", \"ArrivalTime\": 23125141.0, \"ServiceStartTime\": 23125141.0, \"DepartureTime\": 23200861.0}, {\"NodeId\": \"INTERCONSULTA\", \"ArrivalTime\": 23200861.0, \"ServiceStartTime\": 23200861.0, \"DepartureTime\": 23200981.0}, {\"NodeId\": \"RX SOLICITUD\", \"ArrivalTime\": 23200981.0, \"ServiceStartTime\": 23200981.0, \"DepartureTime\": 23205121.0}, {\"NodeId\": \"RESPUESTA\", \"ArrivalTime\": 23205121.0, \"ServiceStartTime\": 23205121.0, \"DepartureTime\": 23205421.0}, {\"NodeId\": \"RX INFORME\", \"ArrivalTime\": 23205421.0, \"ServiceStartTime\": 23205421.0, \"DepartureTime\": 23206441.0}, {\"NodeId\": \"RX EXPLORACION\", \"ArrivalTime\": 23206441.0, \"ServiceStartTime\": 23206441.0, \"DepartureTime\": 23241421.0}, {\"NodeId\": \"ALTA\", \"ArrivalTime\": 23241421.0, \"ServiceStartTime\": 23241421.0, \"DepartureTime\": 23241421.0}]}, {\"Priority\": 1, \"Step\": [{\"NodeId\": \"ADMISION\", \"ArrivalTime\": 22942774.333333332, \"ServiceStartTime\": 22942774.333333332, \"DepartureTime\": 22943467.666666668}, {\"NodeId\": \"TRIAJE\", \"ArrivalTime\": 22943467.666666668, \"ServiceStartTime\": 22943467.666666668, \"DepartureTime\": 22947947.666666668}, {\"NodeId\": \"RX SOLICITUD\", \"ArrivalTime\": 22964724.333333332, \"ServiceStartTime\": 22964724.333333332, \"DepartureTime\": 22970744.333333332}, {\"NodeId\": \"RX EXPLORACION\", \"ArrivalTime\": 22970744.333333332, \"ServiceStartTime\": 22970744.333333332, \"DepartureTime\": 22976377.666666668}, {\"NodeId\": \"RX INFORME\", \"ArrivalTime\": 22976377.666666668, \"ServiceStartTime\": 22976377.666666668, \"DepartureTime\": 22998804.333333332}, {\"NodeId\": \"INTERCONSULTA\", \"ArrivalTime\": 23016107.666666668, \"ServiceStartTime\": 23016107.666666668, \"DepartureTime\": 23031261.0}, {\"NodeId\": \"RESPUESTA\", \"ArrivalTime\": 23031261.0, \"ServiceStartTime\": 23031261.0, \"DepartureTime\": 23055127.666666668}, {\"NodeId\": \"ALTA\", \"ArrivalTime\": 23055127.666666668, \"ServiceStartTime\": 23055127.666666668, \"DepartureTime\": 23055127.666666668}]}, {\"Priority\": 1, \"Step\": [{\"NodeId\": \"ADMISION\", \"ArrivalTime\": 23148721.0, \"ServiceStartTime\": 23148721.0, \"DepartureTime\": 23149321.0}, {\"NodeId\": \"TRIAJE\", \"ArrivalTime\": 23149321.0, \"ServiceStartTime\": 23149321.0, \"DepartureTime\": 23155381.0}, {\"NodeId\": \"RX SOLICITUD\", \"ArrivalTime\": 23171181.0, \"ServiceStartTime\": 23171181.0, \"DepartureTime\": 23174321.0}, {\"NodeId\": \"RX EXPLORACION\", \"ArrivalTime\": 23174641.0, \"ServiceStartTime\": 23174641.0, \"DepartureTime\": 23184321.0}, {\"NodeId\": \"RX INFORME\", \"ArrivalTime\": 23178121.0, \"ServiceStartTime\": 23178121.0, \"DepartureTime\": 23182881.0}, {\"NodeId\": \"ALTA\", \"ArrivalTime\": 23208121.0, \"ServiceStartTime\": 23208121.0, \"DepartureTime\": 23208121.0}]}, {\"Priority\": 1, \"Step\": [{\"NodeId\": \"ADMISION\", \"ArrivalTime\": 23198521.0, \"ServiceStartTime\": 23198521.0, \"DepartureTime\": 23199181.0}, {\"NodeId\": \"TRIAJE\", \"ArrivalTime\": 23199181.0, \"ServiceStartTime\": 23199181.0, \"DepartureTime\": 23200321.0}, {\"NodeId\": \"RX EXPLORACION\", \"ArrivalTime\": 23204161.0, \"ServiceStartTime\": 23204161.0, \"DepartureTime\": 23246221.0}, {\"NodeId\": \"RX SOLICITUD\", \"ArrivalTime\": 23246581.0, \"ServiceStartTime\": 23246581.0, \"DepartureTime\": 23262201.0}, {\"NodeId\": \"INTERCONSULTA\", \"ArrivalTime\": 23287621.0, \"ServiceStartTime\": 23287621.0, \"DepartureTime\": 23293201.0}, {\"NodeId\": \"RESPUESTA\", \"ArrivalTime\": 23294821.0, \"ServiceStartTime\": 23294821.0, \"DepartureTime\": 23326141.0}, {\"NodeId\": \"ALTA\", \"ArrivalTime\": 23326141.0, \"ServiceStartTime\": 23326141.0, \"DepartureTime\": 23326141.0}]}, {\"Priority\": 1, \"Step\": [{\"NodeId\": \"ADMISION\", \"ArrivalTime\": 23205841.0, \"ServiceStartTime\": 23205841.0, \"DepartureTime\": 23206201.0}, {\"NodeId\": \"TRIAJE\", \"ArrivalTime\": 23206201.0, \"ServiceStartTime\": 23206201.0, \"DepartureTime\": 23206561.0}, {\"NodeId\": \"RX SOLICITUD\", \"ArrivalTime\": 23209336.0, \"ServiceStartTime\": 23209336.0, \"DepartureTime\": 23209891.0}, {\"NodeId\": \"RX EXPLORACION\", \"ArrivalTime\": 23209341.0, \"ServiceStartTime\": 23209341.0, \"DepartureTime\": 23245381.0}, {\"NodeId\": \"RX INFORME\", \"ArrivalTime\": 23210791.0, \"ServiceStartTime\": 23210791.0, \"DepartureTime\": 23211571.0}, {\"NodeId\": \"ALTA\", \"ArrivalTime\": 23318461.0, \"ServiceStartTime\": 23318461.0, \"DepartureTime\": 23318461.0}]}, {\"Priority\": 1, \"Step\": [{\"NodeId\": \"ADMISION\", \"ArrivalTime\": 23206201.0, \"ServiceStartTime\": 23206201.0, \"DepartureTime\": 23206981.0}, {\"NodeId\": \"TRIAJE\", \"ArrivalTime\": 23206981.0, \"ServiceStartTime\": 23206981.0, \"DepartureTime\": 23211181.0}, {\"NodeId\": \"RX SOLICITUD\", \"ArrivalTime\": 23238181.0, \"ServiceStartTime\": 23238181.0, \"DepartureTime\": 23241881.0}, {\"NodeId\": \"RX EXPLORACION\", \"ArrivalTime\": 23242141.0, \"ServiceStartTime\": 23242141.0, \"DepartureTime\": 23262961.0}, {\"NodeId\": \"RX INFORME\", \"ArrivalTime\": 23257921.0, \"ServiceStartTime\": 23257921.0, \"DepartureTime\": 23260501.0}, {\"NodeId\": \"INTERCONSULTA\", \"ArrivalTime\": 23289901.0, \"ServiceStartTime\": 23289901.0, \"DepartureTime\": 23302261.0}, {\"NodeId\": \"ALTA\", \"ArrivalTime\": 23302261.0, \"ServiceStartTime\": 23302261.0, \"DepartureTime\": 23302261.0}]}, {\"Priority\": 1, \"Step\": [{\"NodeId\": \"ADMISION\", \"ArrivalTime\": 23628001.0, \"ServiceStartTime\": 23628001.0, \"DepartureTime\": 23628421.0}, {\"NodeId\": \"TRIAJE\", \"ArrivalTime\": 23628421.0, \"ServiceStartTime\": 23628421.0, \"DepartureTime\": 23630701.0}, {\"NodeId\": \"RX EXPLORACION\", \"ArrivalTime\": 23668181.0, \"ServiceStartTime\": 23668181.0, \"DepartureTime\": 23671661.0}, {\"NodeId\": \"RX SOLICITUD\", \"ArrivalTime\": 23676181.0, \"ServiceStartTime\": 23676181.0, \"DepartureTime\": 23703886.0}, {\"NodeId\": \"RX INFORME\", \"ArrivalTime\": 23671661.0, \"ServiceStartTime\": 23671661.0, \"DepartureTime\": 23691341.0}, {\"NodeId\": \"ALTA\", \"ArrivalTime\": 23811001.0, \"ServiceStartTime\": 23811001.0, \"DepartureTime\": 23811001.0}]}, {\"Priority\": 1, \"Step\": [{\"NodeId\": \"ADMISION\", \"ArrivalTime\": 23654401.0, \"ServiceStartTime\": 23654401.0, \"DepartureTime\": 23654661.0}, {\"NodeId\": \"TRIAJE\", \"ArrivalTime\": 23654661.0, \"ServiceStartTime\": 23654661.0, \"DepartureTime\": 23655701.0}, {\"NodeId\": \"INTERCONSULTA\", \"ArrivalTime\": 23658181.0, \"ServiceStartTime\": 23658181.0, \"DepartureTime\": 23661601.0}, {\"NodeId\": \"RX SOLICITUD\", \"ArrivalTime\": 23659251.0, \"ServiceStartTime\": 23659251.0, \"DepartureTime\": 23663421.0}, {\"NodeId\": \"RESPUESTA\", \"ArrivalTime\": 23661601.0, \"ServiceStartTime\": 23661601.0, \"DepartureTime\": 23662801.0}, {\"NodeId\": \"RX EXPLORACION\", \"ArrivalTime\": 23668661.0, \"ServiceStartTime\": 23668661.0, \"DepartureTime\": 23684381.0}, {\"NodeId\": \"ALTA\", \"ArrivalTime\": 23684381.0, \"ServiceStartTime\": 23684381.0, \"DepartureTime\": 23684381.0}]}, {\"Priority\": 1, \"Step\": [{\"NodeId\": \"ADMISION\", \"ArrivalTime\": 23966821.0, \"ServiceStartTime\": 23966821.0, \"DepartureTime\": 23967301.0}, {\"NodeId\": \"TRIAJE\", \"ArrivalTime\": 23967301.0, \"ServiceStartTime\": 23967301.0, \"DepartureTime\": 23968981.0}, {\"NodeId\": \"RX SOLICITUD\", \"ArrivalTime\": 23984131.0, \"ServiceStartTime\": 23984131.0, \"DepartureTime\": 23989201.0}, {\"NodeId\": \"RX EXPLORACION\", \"ArrivalTime\": 23989201.0, \"ServiceStartTime\": 23989201.0, \"DepartureTime\": 23996221.0}, {\"NodeId\": \"INTERCONSULTA\", \"ArrivalTime\": 24016531.0, \"ServiceStartTime\": 24016531.0, \"DepartureTime\": 24035131.0}, {\"NodeId\": \"RX INFORME\", \"ArrivalTime\": 24010681.0, \"ServiceStartTime\": 24010681.0, \"DepartureTime\": 24051301.0}, {\"NodeId\": \"RESPUESTA\", \"ArrivalTime\": 24070981.0, \"ServiceStartTime\": 24070981.0, \"DepartureTime\": 24089821.0}, {\"NodeId\": \"ALTA\", \"ArrivalTime\": 24089821.0, \"ServiceStartTime\": 24089821.0, \"DepartureTime\": 24089821.0}]}, {\"Priority\": 1, \"Step\": [{\"NodeId\": \"ADMISION\", \"ArrivalTime\": 23970481.0, \"ServiceStartTime\": 23970481.0, \"DepartureTime\": 23970961.0}, {\"NodeId\": \"TRIAJE\", \"ArrivalTime\": 23970961.0, \"ServiceStartTime\": 23970961.0, \"DepartureTime\": 23973901.0}, {\"NodeId\": \"INTERCONSULTA\", \"ArrivalTime\": 23975161.0, \"ServiceStartTime\": 23975161.0, \"DepartureTime\": 23986741.0}, {\"NodeId\": \"RX SOLICITUD\", \"ArrivalTime\": 23980321.0, \"ServiceStartTime\": 23980321.0, \"DepartureTime\": 23981101.0}, {\"NodeId\": \"RX EXPLORACION\", \"ArrivalTime\": 23987041.0, \"ServiceStartTime\": 23987041.0, \"DepartureTime\": 24024301.0}, {\"NodeId\": \"ALTA\", \"ArrivalTime\": 24024301.0, \"ServiceStartTime\": 24024301.0, \"DepartureTime\": 24024301.0}]}, {\"Priority\": 1, \"Step\": [{\"NodeId\": \"ADMISION\", \"ArrivalTime\": 24012451.0, \"ServiceStartTime\": 24012451.0, \"DepartureTime\": 24013471.0}, {\"NodeId\": \"TRIAJE\", \"ArrivalTime\": 24013471.0, \"ServiceStartTime\": 24013471.0, \"DepartureTime\": 24015091.0}, {\"NodeId\": \"RX SOLICITUD\", \"ArrivalTime\": 24021461.0, \"ServiceStartTime\": 24021461.0, \"DepartureTime\": 24025901.0}, {\"NodeId\": \"RX EXPLORACION\", \"ArrivalTime\": 24026441.0, \"ServiceStartTime\": 24026441.0, \"DepartureTime\": 24028491.0}, {\"NodeId\": \"RX INFORME\", \"ArrivalTime\": 24028821.0, \"ServiceStartTime\": 24028821.0, \"DepartureTime\": 24035941.0}, {\"NodeId\": \"ALTA\", \"ArrivalTime\": 24055921.0, \"ServiceStartTime\": 24055921.0, \"DepartureTime\": 24055921.0}]}, {\"Priority\": 1, \"Step\": [{\"NodeId\": \"ADMISION\", \"ArrivalTime\": 24021721.0, \"ServiceStartTime\": 24021721.0, \"DepartureTime\": 24022321.0}, {\"NodeId\": \"TRIAJE\", \"ArrivalTime\": 24022321.0, \"ServiceStartTime\": 24022321.0, \"DepartureTime\": 24026221.0}, {\"NodeId\": \"RX SOLICITUD\", \"ArrivalTime\": 24048601.0, \"ServiceStartTime\": 24048601.0, \"DepartureTime\": 24052906.0}, {\"NodeId\": \"RX EXPLORACION\", \"ArrivalTime\": 24055001.0, \"ServiceStartTime\": 24055001.0, \"DepartureTime\": 24058661.0}, {\"NodeId\": \"RX INFORME\", \"ArrivalTime\": 24057691.0, \"ServiceStartTime\": 24057691.0, \"DepartureTime\": 24065641.0}, {\"NodeId\": \"INTERCONSULTA\", \"ArrivalTime\": 24066181.0, \"ServiceStartTime\": 24066181.0, \"DepartureTime\": 24067861.0}, {\"NodeId\": \"RESPUESTA\", \"ArrivalTime\": 24072001.0, \"ServiceStartTime\": 24072001.0, \"DepartureTime\": 24084841.0}, {\"NodeId\": \"ALTA\", \"ArrivalTime\": 24084841.0, \"ServiceStartTime\": 24084841.0, \"DepartureTime\": 24084841.0}]}, {\"Priority\": 1, \"Step\": [{\"NodeId\": \"ADMISION\", \"ArrivalTime\": 24032161.0, \"ServiceStartTime\": 24032161.0, \"DepartureTime\": 24032401.0}, {\"NodeId\": \"TRIAJE\", \"ArrivalTime\": 24032401.0, \"ServiceStartTime\": 24032401.0, \"DepartureTime\": 24035761.0}, {\"NodeId\": \"RX SOLICITUD\", \"ArrivalTime\": 24044781.0, \"ServiceStartTime\": 24044781.0, \"DepartureTime\": 24047021.0}, {\"NodeId\": \"RX EXPLORACION\", \"ArrivalTime\": 24050476.0, \"ServiceStartTime\": 24050476.0, \"DepartureTime\": 24055246.0}, {\"NodeId\": \"INTERCONSULTA\", \"ArrivalTime\": 24059881.0, \"ServiceStartTime\": 24059881.0, \"DepartureTime\": 24063781.0}, {\"NodeId\": \"RX INFORME\", \"ArrivalTime\": 24059401.0, \"ServiceStartTime\": 24059401.0, \"DepartureTime\": 24060841.0}, {\"NodeId\": \"RESPUESTA\", \"ArrivalTime\": 24070801.0, \"ServiceStartTime\": 24070801.0, \"DepartureTime\": 24082141.0}, {\"NodeId\": \"ALTA\", \"ArrivalTime\": 24082141.0, \"ServiceStartTime\": 24082141.0, \"DepartureTime\": 24082141.0}]}, {\"Priority\": 1, \"Step\": [{\"NodeId\": \"ADMISION\", \"ArrivalTime\": 23997301.0, \"ServiceStartTime\": 23997301.0, \"DepartureTime\": 23997811.0}, {\"NodeId\": \"TRIAJE\", \"ArrivalTime\": 23997811.0, \"ServiceStartTime\": 23997811.0, \"DepartureTime\": 24005311.0}, {\"NodeId\": \"RX SOLICITUD\", \"ArrivalTime\": 24029581.0, \"ServiceStartTime\": 24029581.0, \"DepartureTime\": 24035181.0}, {\"NodeId\": \"RX EXPLORACION\", \"ArrivalTime\": 24035471.0, \"ServiceStartTime\": 24035471.0, \"DepartureTime\": 24052131.0}, {\"NodeId\": \"RX INFORME\", \"ArrivalTime\": 24050176.0, \"ServiceStartTime\": 24050176.0, \"DepartureTime\": 24063196.0}, {\"NodeId\": \"INTERCONSULTA\", \"ArrivalTime\": 24098131.0, \"ServiceStartTime\": 24098131.0, \"DepartureTime\": 24102241.0}, {\"NodeId\": \"RESPUESTA\", \"ArrivalTime\": 24102241.0, \"ServiceStartTime\": 24102241.0, \"DepartureTime\": 24112681.0}, {\"NodeId\": \"ALTA\", \"ArrivalTime\": 24112681.0, \"ServiceStartTime\": 24112681.0, \"DepartureTime\": 24112681.0}]}, {\"Priority\": 1, \"Step\": [{\"NodeId\": \"ADMISION\", \"ArrivalTime\": 24058261.0, \"ServiceStartTime\": 24058261.0, \"DepartureTime\": 24058621.0}, {\"NodeId\": \"TRIAJE\", \"ArrivalTime\": 24058621.0, \"ServiceStartTime\": 24058621.0, \"DepartureTime\": 24062521.0}, {\"NodeId\": \"RX SOLICITUD\", \"ArrivalTime\": 24062521.0, \"ServiceStartTime\": 24062521.0, \"DepartureTime\": 24064081.0}, {\"NodeId\": \"INTERCONSULTA\", \"ArrivalTime\": 24064081.0, \"ServiceStartTime\": 24064081.0, \"DepartureTime\": 24066121.0}, {\"NodeId\": \"RX EXPLORACION\", \"ArrivalTime\": 24066661.0, \"ServiceStartTime\": 24066661.0, \"DepartureTime\": 24073201.0}, {\"NodeId\": \"RX INFORME\", \"ArrivalTime\": 24066361.0, \"ServiceStartTime\": 24066361.0, \"DepartureTime\": 24067201.0}, {\"NodeId\": \"ALTA\", \"ArrivalTime\": 24080041.0, \"ServiceStartTime\": 24080041.0, \"DepartureTime\": 24080041.0}]}, {\"Priority\": 1, \"Step\": [{\"NodeId\": \"ADMISION\", \"ArrivalTime\": 24041101.0, \"ServiceStartTime\": 24041101.0, \"DepartureTime\": 24042481.0}, {\"NodeId\": \"TRIAJE\", \"ArrivalTime\": 24042481.0, \"ServiceStartTime\": 24042481.0, \"DepartureTime\": 24070801.0}, {\"NodeId\": \"INTERCONSULTA\", \"ArrivalTime\": 24070801.0, \"ServiceStartTime\": 24070801.0, \"DepartureTime\": 24103231.0}, {\"NodeId\": \"RX SOLICITUD\", \"ArrivalTime\": 24103231.0, \"ServiceStartTime\": 24103231.0, \"DepartureTime\": 24106951.0}, {\"NodeId\": \"RX EXPLORACION\", \"ArrivalTime\": 24108466.0, \"ServiceStartTime\": 24108466.0, \"DepartureTime\": 24122206.0}, {\"NodeId\": \"RX INFORME\", \"ArrivalTime\": 24109831.0, \"ServiceStartTime\": 24109831.0, \"DepartureTime\": 24109981.0}, {\"NodeId\": \"RESPUESTA\", \"ArrivalTime\": 24134581.0, \"ServiceStartTime\": 24134581.0, \"DepartureTime\": 24136441.0}, {\"NodeId\": \"ALTA\", \"ArrivalTime\": 24136441.0, \"ServiceStartTime\": 24136441.0, \"DepartureTime\": 24136441.0}]}, {\"Priority\": 1, \"Step\": [{\"NodeId\": \"ADMISION\", \"ArrivalTime\": 24305281.0, \"ServiceStartTime\": 24305281.0, \"DepartureTime\": 24305521.0}, {\"NodeId\": \"TRIAJE\", \"ArrivalTime\": 24305521.0, \"ServiceStartTime\": 24305521.0, \"DepartureTime\": 24305701.0}, {\"NodeId\": \"RX INFORME\", \"ArrivalTime\": 24307981.0, \"ServiceStartTime\": 24307981.0, \"DepartureTime\": 24308281.0}, {\"NodeId\": \"RX SOLICITUD\", \"ArrivalTime\": 24317041.0, \"ServiceStartTime\": 24317041.0, \"DepartureTime\": 24320041.0}, {\"NodeId\": \"RX EXPLORACION\", \"ArrivalTime\": 24320041.0, \"ServiceStartTime\": 24320041.0, \"DepartureTime\": 24328501.0}, {\"NodeId\": \"INTERCONSULTA\", \"ArrivalTime\": 24312481.0, \"ServiceStartTime\": 24312481.0, \"DepartureTime\": 24323821.0}, {\"NodeId\": \"RESPUESTA\", \"ArrivalTime\": 24323821.0, \"ServiceStartTime\": 24323821.0, \"DepartureTime\": 24337141.0}, {\"NodeId\": \"ALTA\", \"ArrivalTime\": 24365041.0, \"ServiceStartTime\": 24365041.0, \"DepartureTime\": 24365041.0}]}, {\"Priority\": 1, \"Step\": [{\"NodeId\": \"ADMISION\", \"ArrivalTime\": 24255931.0, \"ServiceStartTime\": 24255931.0, \"DepartureTime\": 24256231.0}, {\"NodeId\": \"TRIAJE\", \"ArrivalTime\": 24256231.0, \"ServiceStartTime\": 24256231.0, \"DepartureTime\": 24256861.0}, {\"NodeId\": \"RX SOLICITUD\", \"ArrivalTime\": 24279406.0, \"ServiceStartTime\": 24279406.0, \"DepartureTime\": 24281476.0}, {\"NodeId\": \"RX INFORME\", \"ArrivalTime\": 24260266.0, \"ServiceStartTime\": 24260266.0, \"DepartureTime\": 24280906.0}, {\"NodeId\": \"RX EXPLORACION\", \"ArrivalTime\": 24274271.0, \"ServiceStartTime\": 24274271.0, \"DepartureTime\": 24287651.0}, {\"NodeId\": \"ALTA\", \"ArrivalTime\": 24342421.0, \"ServiceStartTime\": 24342421.0, \"DepartureTime\": 24342421.0}]}, {\"Priority\": 1, \"Step\": [{\"NodeId\": \"ADMISION\", \"ArrivalTime\": 24712321.0, \"ServiceStartTime\": 24712321.0, \"DepartureTime\": 24712921.0}, {\"NodeId\": \"TRIAJE\", \"ArrivalTime\": 24712921.0, \"ServiceStartTime\": 24712921.0, \"DepartureTime\": 24720601.0}, {\"NodeId\": \"RX SOLICITUD\", \"ArrivalTime\": 24810925.0, \"ServiceStartTime\": 24810925.0, \"DepartureTime\": 24814225.0}, {\"NodeId\": \"RX EXPLORACION\", \"ArrivalTime\": 24814225.0, \"ServiceStartTime\": 24814225.0, \"DepartureTime\": 24821533.0}, {\"NodeId\": \"RX INFORME\", \"ArrivalTime\": 24844876.0, \"ServiceStartTime\": 24844876.0, \"DepartureTime\": 24905941.0}, {\"NodeId\": \"ALTA\", \"ArrivalTime\": 25017901.0, \"ServiceStartTime\": 25017901.0, \"DepartureTime\": 25017901.0}]}, {\"Priority\": 1, \"Step\": [{\"NodeId\": \"ADMISION\", \"ArrivalTime\": 24715081.0, \"ServiceStartTime\": 24715081.0, \"DepartureTime\": 24715621.0}, {\"NodeId\": \"TRIAJE\", \"ArrivalTime\": 24715621.0, \"ServiceStartTime\": 24715621.0, \"DepartureTime\": 24715741.0}, {\"NodeId\": \"RX SOLICITUD\", \"ArrivalTime\": 24726886.0, \"ServiceStartTime\": 24726886.0, \"DepartureTime\": 24730816.0}, {\"NodeId\": \"RX EXPLORACION\", \"ArrivalTime\": 24730777.0, \"ServiceStartTime\": 24730777.0, \"DepartureTime\": 24734533.0}, {\"NodeId\": \"RX INFORME\", \"ArrivalTime\": 24736861.0, \"ServiceStartTime\": 24736861.0, \"DepartureTime\": 24742741.0}, {\"NodeId\": \"ALTA\", \"ArrivalTime\": 24767881.0, \"ServiceStartTime\": 24767881.0, \"DepartureTime\": 24767881.0}]}, {\"Priority\": 1, \"Step\": [{\"NodeId\": \"ADMISION\", \"ArrivalTime\": 24814801.0, \"ServiceStartTime\": 24814801.0, \"DepartureTime\": 24814981.0}, {\"NodeId\": \"TRIAJE\", \"ArrivalTime\": 24814981.0, \"ServiceStartTime\": 24814981.0, \"DepartureTime\": 24818761.0}, {\"NodeId\": \"RX EXPLORACION\", \"ArrivalTime\": 24833041.0, \"ServiceStartTime\": 24833041.0, \"DepartureTime\": 24843331.0}, {\"NodeId\": \"RX SOLICITUD\", \"ArrivalTime\": 24865961.0, \"ServiceStartTime\": 24865961.0, \"DepartureTime\": 24872541.0}, {\"NodeId\": \"RX INFORME\", \"ArrivalTime\": 24848941.0, \"ServiceStartTime\": 24848941.0, \"DepartureTime\": 24927001.0}, {\"NodeId\": \"INTERCONSULTA\", \"ArrivalTime\": 24927001.0, \"ServiceStartTime\": 24927001.0, \"DepartureTime\": 24933721.0}, {\"NodeId\": \"RESPUESTA\", \"ArrivalTime\": 24933721.0, \"ServiceStartTime\": 24933721.0, \"DepartureTime\": 24941401.0}, {\"NodeId\": \"ALTA\", \"ArrivalTime\": 24951541.0, \"ServiceStartTime\": 24951541.0, \"DepartureTime\": 24951541.0}]}, {\"Priority\": 1, \"Step\": [{\"NodeId\": \"ADMISION\", \"ArrivalTime\": 24842581.0, \"ServiceStartTime\": 24842581.0, \"DepartureTime\": 24843061.0}, {\"NodeId\": \"TRIAJE\", \"ArrivalTime\": 24843061.0, \"ServiceStartTime\": 24843061.0, \"DepartureTime\": 24847141.0}, {\"NodeId\": \"RX EXPLORACION\", \"ArrivalTime\": 24888271.0, \"ServiceStartTime\": 24888271.0, \"DepartureTime\": 24888811.0}, {\"NodeId\": \"RX SOLICITUD\", \"ArrivalTime\": 24847261.0, \"ServiceStartTime\": 24847261.0, \"DepartureTime\": 24929401.0}, {\"NodeId\": \"RX INFORME\", \"ArrivalTime\": 24930361.0, \"ServiceStartTime\": 24930361.0, \"DepartureTime\": 25015021.0}, {\"NodeId\": \"ALTA\", \"ArrivalTime\": 25015021.0, \"ServiceStartTime\": 25015021.0, \"DepartureTime\": 25015021.0}]}, {\"Priority\": 1, \"Step\": [{\"NodeId\": \"ADMISION\", \"ArrivalTime\": 24973411.0, \"ServiceStartTime\": 24973411.0, \"DepartureTime\": 24974551.0}, {\"NodeId\": \"TRIAJE\", \"ArrivalTime\": 24974551.0, \"ServiceStartTime\": 24974551.0, \"DepartureTime\": 25002061.0}, {\"NodeId\": \"INTERCONSULTA\", \"ArrivalTime\": 25002061.0, \"ServiceStartTime\": 25002061.0, \"DepartureTime\": 25007251.0}, {\"NodeId\": \"RESPUESTA\", \"ArrivalTime\": 25007251.0, \"ServiceStartTime\": 25007251.0, \"DepartureTime\": 25009411.0}, {\"NodeId\": \"RX SOLICITUD\", \"ArrivalTime\": 25009411.0, \"ServiceStartTime\": 25009411.0, \"DepartureTime\": 25013671.0}, {\"NodeId\": \"ALTA\", \"ArrivalTime\": 25013671.0, \"ServiceStartTime\": 25013671.0, \"DepartureTime\": 25013671.0}]}, {\"Priority\": 1, \"Step\": [{\"NodeId\": \"ADMISION\", \"ArrivalTime\": 24973411.0, \"ServiceStartTime\": 24973411.0, \"DepartureTime\": 24974551.0}, {\"NodeId\": \"TRIAJE\", \"ArrivalTime\": 24974551.0, \"ServiceStartTime\": 24974551.0, \"DepartureTime\": 25002061.0}, {\"NodeId\": \"INTERCONSULTA\", \"ArrivalTime\": 25002061.0, \"ServiceStartTime\": 25002061.0, \"DepartureTime\": 25007251.0}, {\"NodeId\": \"RESPUESTA\", \"ArrivalTime\": 25007251.0, \"ServiceStartTime\": 25007251.0, \"DepartureTime\": 25009411.0}, {\"NodeId\": \"RX SOLICITUD\", \"ArrivalTime\": 25009411.0, \"ServiceStartTime\": 25009411.0, \"DepartureTime\": 25013671.0}, {\"NodeId\": \"ALTA\", \"ArrivalTime\": 25013671.0, \"ServiceStartTime\": 25013671.0, \"DepartureTime\": 25013671.0}]}, {\"Priority\": 1, \"Step\": [{\"NodeId\": \"ADMISION\", \"ArrivalTime\": 25088881.0, \"ServiceStartTime\": 25088881.0, \"DepartureTime\": 25089481.0}, {\"NodeId\": \"TRIAJE\", \"ArrivalTime\": 25089481.0, \"ServiceStartTime\": 25089481.0, \"DepartureTime\": 25092721.0}, {\"NodeId\": \"RX INFORME\", \"ArrivalTime\": 25115071.0, \"ServiceStartTime\": 25115071.0, \"DepartureTime\": 25115731.0}, {\"NodeId\": \"RX SOLICITUD\", \"ArrivalTime\": 25112341.0, \"ServiceStartTime\": 25112341.0, \"DepartureTime\": 25121671.0}, {\"NodeId\": \"RX EXPLORACION\", \"ArrivalTime\": 25121891.0, \"ServiceStartTime\": 25121891.0, \"DepartureTime\": 25128121.0}, {\"NodeId\": \"INTERCONSULTA\", \"ArrivalTime\": 25117801.0, \"ServiceStartTime\": 25117801.0, \"DepartureTime\": 25138861.0}, {\"NodeId\": \"RESPUESTA\", \"ArrivalTime\": 25138861.0, \"ServiceStartTime\": 25138861.0, \"DepartureTime\": 25139521.0}, {\"NodeId\": \"ALTA\", \"ArrivalTime\": 25161781.0, \"ServiceStartTime\": 25161781.0, \"DepartureTime\": 25161781.0}]}, {\"Priority\": 1, \"Step\": [{\"NodeId\": \"ADMISION\", \"ArrivalTime\": 25260301.0, \"ServiceStartTime\": 25260301.0, \"DepartureTime\": 25260821.0}, {\"NodeId\": \"TRIAJE\", \"ArrivalTime\": 25260821.0, \"ServiceStartTime\": 25260821.0, \"DepartureTime\": 25261641.0}, {\"NodeId\": \"RX SOLICITUD\", \"ArrivalTime\": 25261641.0, \"ServiceStartTime\": 25261641.0, \"DepartureTime\": 25263681.0}, {\"NodeId\": \"RX EXPLORACION\", \"ArrivalTime\": 25263681.0, \"ServiceStartTime\": 25263681.0, \"DepartureTime\": 25268681.0}, {\"NodeId\": \"INTERCONSULTA\", \"ArrivalTime\": 25270221.0, \"ServiceStartTime\": 25270221.0, \"DepartureTime\": 25274461.0}, {\"NodeId\": \"RESPUESTA\", \"ArrivalTime\": 25276831.0, \"ServiceStartTime\": 25276831.0, \"DepartureTime\": 25286811.0}, {\"NodeId\": \"RX INFORME\", \"ArrivalTime\": 25278161.0, \"ServiceStartTime\": 25278161.0, \"DepartureTime\": 25282901.0}, {\"NodeId\": \"ALTA\", \"ArrivalTime\": 25301861.0, \"ServiceStartTime\": 25301861.0, \"DepartureTime\": 25301861.0}]}, {\"Priority\": 1, \"Step\": [{\"NodeId\": \"ADMISION\", \"ArrivalTime\": 25375681.0, \"ServiceStartTime\": 25375681.0, \"DepartureTime\": 25376401.0}, {\"NodeId\": \"TRIAJE\", \"ArrivalTime\": 25376401.0, \"ServiceStartTime\": 25376401.0, \"DepartureTime\": 25379581.0}, {\"NodeId\": \"RX SOLICITUD\", \"ArrivalTime\": 25422751.0, \"ServiceStartTime\": 25422751.0, \"DepartureTime\": 25428751.0}, {\"NodeId\": \"RX EXPLORACION\", \"ArrivalTime\": 25414141.0, \"ServiceStartTime\": 25414141.0, \"DepartureTime\": 25423201.0}, {\"NodeId\": \"RX INFORME\", \"ArrivalTime\": 25423201.0, \"ServiceStartTime\": 25423201.0, \"DepartureTime\": 25447981.0}, {\"NodeId\": \"ALTA\", \"ArrivalTime\": 25493101.0, \"ServiceStartTime\": 25493101.0, \"DepartureTime\": 25493101.0}]}, {\"Priority\": 1, \"Step\": [{\"NodeId\": \"ADMISION\", \"ArrivalTime\": 25336516.0, \"ServiceStartTime\": 25336516.0, \"DepartureTime\": 25336996.0}, {\"NodeId\": \"TRIAJE\", \"ArrivalTime\": 25336996.0, \"ServiceStartTime\": 25336996.0, \"DepartureTime\": 25344421.0}, {\"NodeId\": \"RX SOLICITUD\", \"ArrivalTime\": 25373561.0, \"ServiceStartTime\": 25373561.0, \"DepartureTime\": 25377016.0}, {\"NodeId\": \"RX EXPLORACION\", \"ArrivalTime\": 25377016.0, \"ServiceStartTime\": 25377016.0, \"DepartureTime\": 25386976.0}, {\"NodeId\": \"RX INFORME\", \"ArrivalTime\": 25361431.0, \"ServiceStartTime\": 25361431.0, \"DepartureTime\": 25401826.0}, {\"NodeId\": \"INTERCONSULTA\", \"ArrivalTime\": 25401826.0, \"ServiceStartTime\": 25401826.0, \"DepartureTime\": 25405981.0}, {\"NodeId\": \"RESPUESTA\", \"ArrivalTime\": 25405981.0, \"ServiceStartTime\": 25405981.0, \"DepartureTime\": 25425406.0}, {\"NodeId\": \"ALTA\", \"ArrivalTime\": 25448641.0, \"ServiceStartTime\": 25448641.0, \"DepartureTime\": 25448641.0}]}, {\"Priority\": 1, \"Step\": [{\"NodeId\": \"ADMISION\", \"ArrivalTime\": 25474501.0, \"ServiceStartTime\": 25474501.0, \"DepartureTime\": 25475041.0}, {\"NodeId\": \"TRIAJE\", \"ArrivalTime\": 25475041.0, \"ServiceStartTime\": 25475041.0, \"DepartureTime\": 25475221.0}, {\"NodeId\": \"RX SOLICITUD\", \"ArrivalTime\": 25496641.0, \"ServiceStartTime\": 25496641.0, \"DepartureTime\": 25499001.0}, {\"NodeId\": \"RX EXPLORACION\", \"ArrivalTime\": 25499261.0, \"ServiceStartTime\": 25499261.0, \"DepartureTime\": 25509881.0}, {\"NodeId\": \"INTERCONSULTA\", \"ArrivalTime\": 25514101.0, \"ServiceStartTime\": 25514101.0, \"DepartureTime\": 25519561.0}, {\"NodeId\": \"RX INFORME\", \"ArrivalTime\": 25503601.0, \"ServiceStartTime\": 25503601.0, \"DepartureTime\": 25509301.0}, {\"NodeId\": \"RESPUESTA\", \"ArrivalTime\": 25519561.0, \"ServiceStartTime\": 25519561.0, \"DepartureTime\": 25525141.0}, {\"NodeId\": \"ALTA\", \"ArrivalTime\": 25536601.0, \"ServiceStartTime\": 25536601.0, \"DepartureTime\": 25536601.0}]}, {\"Priority\": 1, \"Step\": [{\"NodeId\": \"ADMISION\", \"ArrivalTime\": 25627321.0, \"ServiceStartTime\": 25627321.0, \"DepartureTime\": 25627981.0}, {\"NodeId\": \"TRIAJE\", \"ArrivalTime\": 25627981.0, \"ServiceStartTime\": 25627981.0, \"DepartureTime\": 25636981.0}, {\"NodeId\": \"RX SOLICITUD\", \"ArrivalTime\": 25636981.0, \"ServiceStartTime\": 25636981.0, \"DepartureTime\": 25637221.0}, {\"NodeId\": \"INTERCONSULTA\", \"ArrivalTime\": 25637341.0, \"ServiceStartTime\": 25637341.0, \"DepartureTime\": 25640101.0}, {\"NodeId\": \"RESPUESTA\", \"ArrivalTime\": 25674031.0, \"ServiceStartTime\": 25674031.0, \"DepartureTime\": 25685791.0}, {\"NodeId\": \"RX EXPLORACION\", \"ArrivalTime\": 25642921.0, \"ServiceStartTime\": 25642921.0, \"DepartureTime\": 25645801.0}, {\"NodeId\": \"RX INFORME\", \"ArrivalTime\": 25645801.0, \"ServiceStartTime\": 25645801.0, \"DepartureTime\": 25710781.0}, {\"NodeId\": \"ALTA\", \"ArrivalTime\": 25734121.0, \"ServiceStartTime\": 25734121.0, \"DepartureTime\": 25734121.0}]}, {\"Priority\": 1, \"Step\": [{\"NodeId\": \"ADMISION\", \"ArrivalTime\": 25640821.0, \"ServiceStartTime\": 25640821.0, \"DepartureTime\": 25641301.0}, {\"NodeId\": \"TRIAJE\", \"ArrivalTime\": 25641301.0, \"ServiceStartTime\": 25641301.0, \"DepartureTime\": 25644241.0}, {\"NodeId\": \"RX SOLICITUD\", \"ArrivalTime\": 25674061.0, \"ServiceStartTime\": 25674061.0, \"DepartureTime\": 25680085.0}, {\"NodeId\": \"RX EXPLORACION\", \"ArrivalTime\": 25680085.0, \"ServiceStartTime\": 25680085.0, \"DepartureTime\": 25685785.0}, {\"NodeId\": \"RX INFORME\", \"ArrivalTime\": 25711261.0, \"ServiceStartTime\": 25711261.0, \"DepartureTime\": 25756591.0}, {\"NodeId\": \"ALTA\", \"ArrivalTime\": 25793521.0, \"ServiceStartTime\": 25793521.0, \"DepartureTime\": 25793521.0}]}, {\"Priority\": 1, \"Step\": [{\"NodeId\": \"ADMISION\", \"ArrivalTime\": 25757101.0, \"ServiceStartTime\": 25757101.0, \"DepartureTime\": 25757521.0}, {\"NodeId\": \"TRIAJE\", \"ArrivalTime\": 25757521.0, \"ServiceStartTime\": 25757521.0, \"DepartureTime\": 25758781.0}, {\"NodeId\": \"RX INFORME\", \"ArrivalTime\": 25759921.0, \"ServiceStartTime\": 25759921.0, \"DepartureTime\": 25760281.0}, {\"NodeId\": \"RX SOLICITUD\", \"ArrivalTime\": 25767211.0, \"ServiceStartTime\": 25767211.0, \"DepartureTime\": 25768471.0}, {\"NodeId\": \"RX EXPLORACION\", \"ArrivalTime\": 25765741.0, \"ServiceStartTime\": 25765741.0, \"DepartureTime\": 25774481.0}, {\"NodeId\": \"INTERCONSULTA\", \"ArrivalTime\": 25787881.0, \"ServiceStartTime\": 25787881.0, \"DepartureTime\": 25793101.0}, {\"NodeId\": \"RESPUESTA\", \"ArrivalTime\": 25793101.0, \"ServiceStartTime\": 25793101.0, \"DepartureTime\": 25817881.0}, {\"NodeId\": \"ALTA\", \"ArrivalTime\": 25817881.0, \"ServiceStartTime\": 25817881.0, \"DepartureTime\": 25817881.0}]}, {\"Priority\": 1, \"Step\": [{\"NodeId\": \"ADMISION\", \"ArrivalTime\": 26226661.0, \"ServiceStartTime\": 26226661.0, \"DepartureTime\": 26227261.0}, {\"NodeId\": \"TRIAJE\", \"ArrivalTime\": 26227261.0, \"ServiceStartTime\": 26227261.0, \"DepartureTime\": 26228641.0}, {\"NodeId\": \"RX SOLICITUD\", \"ArrivalTime\": 26251941.0, \"ServiceStartTime\": 26251941.0, \"DepartureTime\": 26256081.0}, {\"NodeId\": \"INTERCONSULTA\", \"ArrivalTime\": 26306221.0, \"ServiceStartTime\": 26306221.0, \"DepartureTime\": 26318821.0}, {\"NodeId\": \"RX EXPLORACION\", \"ArrivalTime\": 26268481.0, \"ServiceStartTime\": 26268481.0, \"DepartureTime\": 26335741.0}, {\"NodeId\": \"RESPUESTA\", \"ArrivalTime\": 26320021.0, \"ServiceStartTime\": 26320021.0, \"DepartureTime\": 26321821.0}, {\"NodeId\": \"ALTA\", \"ArrivalTime\": 26404381.0, \"ServiceStartTime\": 26404381.0, \"DepartureTime\": 26404381.0}]}, {\"Priority\": 1, \"Step\": [{\"NodeId\": \"ADMISION\", \"ArrivalTime\": 26302321.0, \"ServiceStartTime\": 26302321.0, \"DepartureTime\": 26302741.0}, {\"NodeId\": \"TRIAJE\", \"ArrivalTime\": 26302741.0, \"ServiceStartTime\": 26302741.0, \"DepartureTime\": 26304361.0}, {\"NodeId\": \"RX SOLICITUD\", \"ArrivalTime\": 26318701.0, \"ServiceStartTime\": 26318701.0, \"DepartureTime\": 26321101.0}, {\"NodeId\": \"RX EXPLORACION\", \"ArrivalTime\": 26321101.0, \"ServiceStartTime\": 26321101.0, \"DepartureTime\": 26328196.0}, {\"NodeId\": \"RX INFORME\", \"ArrivalTime\": 26328181.0, \"ServiceStartTime\": 26328181.0, \"DepartureTime\": 26393311.0}, {\"NodeId\": \"INTERCONSULTA\", \"ArrivalTime\": 26472601.0, \"ServiceStartTime\": 26472601.0, \"DepartureTime\": 26501941.0}, {\"NodeId\": \"ALTA\", \"ArrivalTime\": 26501941.0, \"ServiceStartTime\": 26501941.0, \"DepartureTime\": 26501941.0}]}, {\"Priority\": 1, \"Step\": [{\"NodeId\": \"ADMISION\", \"ArrivalTime\": 26324341.0, \"ServiceStartTime\": 26324341.0, \"DepartureTime\": 26324761.0}, {\"NodeId\": \"TRIAJE\", \"ArrivalTime\": 26324761.0, \"ServiceStartTime\": 26324761.0, \"DepartureTime\": 26325841.0}, {\"NodeId\": \"RX SOLICITUD\", \"ArrivalTime\": 26400841.0, \"ServiceStartTime\": 26400841.0, \"DepartureTime\": 26402821.0}, {\"NodeId\": \"RX EXPLORACION\", \"ArrivalTime\": 26427861.0, \"ServiceStartTime\": 26427861.0, \"DepartureTime\": 26477481.0}, {\"NodeId\": \"RX INFORME\", \"ArrivalTime\": 26477521.0, \"ServiceStartTime\": 26477521.0, \"DepartureTime\": 26477941.0}, {\"NodeId\": \"INTERCONSULTA\", \"ArrivalTime\": 26479081.0, \"ServiceStartTime\": 26479081.0, \"DepartureTime\": 26497081.0}, {\"NodeId\": \"ALTA\", \"ArrivalTime\": 26497081.0, \"ServiceStartTime\": 26497081.0, \"DepartureTime\": 26497081.0}]}, {\"Priority\": 1, \"Step\": [{\"NodeId\": \"ADMISION\", \"ArrivalTime\": 26494021.0, \"ServiceStartTime\": 26494021.0, \"DepartureTime\": 26495221.0}, {\"NodeId\": \"TRIAJE\", \"ArrivalTime\": 26495221.0, \"ServiceStartTime\": 26495221.0, \"DepartureTime\": 26504281.0}, {\"NodeId\": \"RX SOLICITUD\", \"ArrivalTime\": 26561121.0, \"ServiceStartTime\": 26561121.0, \"DepartureTime\": 26564921.0}, {\"NodeId\": \"RX EXPLORACION\", \"ArrivalTime\": 26553861.0, \"ServiceStartTime\": 26553861.0, \"DepartureTime\": 26565841.0}, {\"NodeId\": \"RX INFORME\", \"ArrivalTime\": 26518441.0, \"ServiceStartTime\": 26518441.0, \"DepartureTime\": 26601781.0}, {\"NodeId\": \"INTERCONSULTA\", \"ArrivalTime\": 26671111.0, \"ServiceStartTime\": 26671111.0, \"DepartureTime\": 26699461.0}, {\"NodeId\": \"RESPUESTA\", \"ArrivalTime\": 26716051.0, \"ServiceStartTime\": 26716051.0, \"DepartureTime\": 26779771.0}, {\"NodeId\": \"ALTA\", \"ArrivalTime\": 26819101.0, \"ServiceStartTime\": 26819101.0, \"DepartureTime\": 26819101.0}]}, {\"Priority\": 1, \"Step\": [{\"NodeId\": \"ADMISION\", \"ArrivalTime\": 27022561.0, \"ServiceStartTime\": 27022561.0, \"DepartureTime\": 27024001.0}, {\"NodeId\": \"TRIAJE\", \"ArrivalTime\": 27024001.0, \"ServiceStartTime\": 27024001.0, \"DepartureTime\": 27035521.0}, {\"NodeId\": \"RX EXPLORACION\", \"ArrivalTime\": 27037501.0, \"ServiceStartTime\": 27037501.0, \"DepartureTime\": 27041521.0}, {\"NodeId\": \"RX SOLICITUD\", \"ArrivalTime\": 27038521.0, \"ServiceStartTime\": 27038521.0, \"DepartureTime\": 27042091.0}, {\"NodeId\": \"INTERCONSULTA\", \"ArrivalTime\": 27046681.0, \"ServiceStartTime\": 27046681.0, \"DepartureTime\": 27056041.0}, {\"NodeId\": \"ALTA\", \"ArrivalTime\": 27056041.0, \"ServiceStartTime\": 27056041.0, \"DepartureTime\": 27056041.0}]}, {\"Priority\": 1, \"Step\": [{\"NodeId\": \"ADMISION\", \"ArrivalTime\": 27055201.0, \"ServiceStartTime\": 27055201.0, \"DepartureTime\": 27055561.0}, {\"NodeId\": \"TRIAJE\", \"ArrivalTime\": 27055561.0, \"ServiceStartTime\": 27055561.0, \"DepartureTime\": 27057841.0}, {\"NodeId\": \"RX SOLICITUD\", \"ArrivalTime\": 27066391.0, \"ServiceStartTime\": 27066391.0, \"DepartureTime\": 27067441.0}, {\"NodeId\": \"RX EXPLORACION\", \"ArrivalTime\": 27071671.0, \"ServiceStartTime\": 27071671.0, \"DepartureTime\": 27079261.0}, {\"NodeId\": \"INTERCONSULTA\", \"ArrivalTime\": 27075001.0, \"ServiceStartTime\": 27075001.0, \"DepartureTime\": 27083461.0}, {\"NodeId\": \"RX INFORME\", \"ArrivalTime\": 27083581.0, \"ServiceStartTime\": 27083581.0, \"DepartureTime\": 27091321.0}, {\"NodeId\": \"RESPUESTA\", \"ArrivalTime\": 27091321.0, \"ServiceStartTime\": 27091321.0, \"DepartureTime\": 27101281.0}, {\"NodeId\": \"ALTA\", \"ArrivalTime\": 27101281.0, \"ServiceStartTime\": 27101281.0, \"DepartureTime\": 27101281.0}]}, {\"Priority\": 1, \"Step\": [{\"NodeId\": \"ADMISION\", \"ArrivalTime\": 27191971.0, \"ServiceStartTime\": 27191971.0, \"DepartureTime\": 27192631.0}, {\"NodeId\": \"TRIAJE\", \"ArrivalTime\": 27192631.0, \"ServiceStartTime\": 27192631.0, \"DepartureTime\": 27226741.0}, {\"NodeId\": \"RX EXPLORACION\", \"ArrivalTime\": 27226741.0, \"ServiceStartTime\": 27226741.0, \"DepartureTime\": 27251761.0}, {\"NodeId\": \"RX SOLICITUD\", \"ArrivalTime\": 27251761.0, \"ServiceStartTime\": 27251761.0, \"DepartureTime\": 27290461.0}, {\"NodeId\": \"ALTA\", \"ArrivalTime\": 27290461.0, \"ServiceStartTime\": 27290461.0, \"DepartureTime\": 27290461.0}]}, {\"Priority\": 1, \"Step\": [{\"NodeId\": \"ADMISION\", \"ArrivalTime\": 27191971.0, \"ServiceStartTime\": 27191971.0, \"DepartureTime\": 27192631.0}, {\"NodeId\": \"TRIAJE\", \"ArrivalTime\": 27192631.0, \"ServiceStartTime\": 27192631.0, \"DepartureTime\": 27226741.0}, {\"NodeId\": \"RX EXPLORACION\", \"ArrivalTime\": 27226741.0, \"ServiceStartTime\": 27226741.0, \"DepartureTime\": 27251761.0}, {\"NodeId\": \"RX SOLICITUD\", \"ArrivalTime\": 27251761.0, \"ServiceStartTime\": 27251761.0, \"DepartureTime\": 27290461.0}, {\"NodeId\": \"ALTA\", \"ArrivalTime\": 27290461.0, \"ServiceStartTime\": 27290461.0, \"DepartureTime\": 27290461.0}]}, {\"Priority\": 1, \"Step\": [{\"NodeId\": \"ADMISION\", \"ArrivalTime\": 27191971.0, \"ServiceStartTime\": 27191971.0, \"DepartureTime\": 27192631.0}, {\"NodeId\": \"TRIAJE\", \"ArrivalTime\": 27192631.0, \"ServiceStartTime\": 27192631.0, \"DepartureTime\": 27226741.0}, {\"NodeId\": \"RX EXPLORACION\", \"ArrivalTime\": 27226741.0, \"ServiceStartTime\": 27226741.0, \"DepartureTime\": 27251761.0}, {\"NodeId\": \"RX SOLICITUD\", \"ArrivalTime\": 27251761.0, \"ServiceStartTime\": 27251761.0, \"DepartureTime\": 27290461.0}, {\"NodeId\": \"ALTA\", \"ArrivalTime\": 27290461.0, \"ServiceStartTime\": 27290461.0, \"DepartureTime\": 27290461.0}]}, {\"Priority\": 1, \"Step\": [{\"NodeId\": \"ADMISION\", \"ArrivalTime\": 27191971.0, \"ServiceStartTime\": 27191971.0, \"DepartureTime\": 27192631.0}, {\"NodeId\": \"TRIAJE\", \"ArrivalTime\": 27192631.0, \"ServiceStartTime\": 27192631.0, \"DepartureTime\": 27226741.0}, {\"NodeId\": \"RX EXPLORACION\", \"ArrivalTime\": 27226741.0, \"ServiceStartTime\": 27226741.0, \"DepartureTime\": 27251761.0}, {\"NodeId\": \"RX SOLICITUD\", \"ArrivalTime\": 27251761.0, \"ServiceStartTime\": 27251761.0, \"DepartureTime\": 27290461.0}, {\"NodeId\": \"ALTA\", \"ArrivalTime\": 27290461.0, \"ServiceStartTime\": 27290461.0, \"DepartureTime\": 27290461.0}]}, {\"Priority\": 1, \"Step\": [{\"NodeId\": \"ADMISION\", \"ArrivalTime\": 27191971.0, \"ServiceStartTime\": 27191971.0, \"DepartureTime\": 27192631.0}, {\"NodeId\": \"TRIAJE\", \"ArrivalTime\": 27192631.0, \"ServiceStartTime\": 27192631.0, \"DepartureTime\": 27226741.0}, {\"NodeId\": \"RX EXPLORACION\", \"ArrivalTime\": 27226741.0, \"ServiceStartTime\": 27226741.0, \"DepartureTime\": 27251761.0}, {\"NodeId\": \"RX SOLICITUD\", \"ArrivalTime\": 27251761.0, \"ServiceStartTime\": 27251761.0, \"DepartureTime\": 27290461.0}, {\"NodeId\": \"ALTA\", \"ArrivalTime\": 27290461.0, \"ServiceStartTime\": 27290461.0, \"DepartureTime\": 27290461.0}]}, {\"Priority\": 1, \"Step\": [{\"NodeId\": \"ADMISION\", \"ArrivalTime\": 27191971.0, \"ServiceStartTime\": 27191971.0, \"DepartureTime\": 27192631.0}, {\"NodeId\": \"TRIAJE\", \"ArrivalTime\": 27192631.0, \"ServiceStartTime\": 27192631.0, \"DepartureTime\": 27226741.0}, {\"NodeId\": \"RX EXPLORACION\", \"ArrivalTime\": 27226741.0, \"ServiceStartTime\": 27226741.0, \"DepartureTime\": 27251761.0}, {\"NodeId\": \"RX SOLICITUD\", \"ArrivalTime\": 27251761.0, \"ServiceStartTime\": 27251761.0, \"DepartureTime\": 27290461.0}, {\"NodeId\": \"ALTA\", \"ArrivalTime\": 27290461.0, \"ServiceStartTime\": 27290461.0, \"DepartureTime\": 27290461.0}]}, {\"Priority\": 1, \"Step\": [{\"NodeId\": \"ADMISION\", \"ArrivalTime\": 27191971.0, \"ServiceStartTime\": 27191971.0, \"DepartureTime\": 27192631.0}, {\"NodeId\": \"TRIAJE\", \"ArrivalTime\": 27192631.0, \"ServiceStartTime\": 27192631.0, \"DepartureTime\": 27226741.0}, {\"NodeId\": \"RX EXPLORACION\", \"ArrivalTime\": 27226741.0, \"ServiceStartTime\": 27226741.0, \"DepartureTime\": 27251761.0}, {\"NodeId\": \"RX SOLICITUD\", \"ArrivalTime\": 27251761.0, \"ServiceStartTime\": 27251761.0, \"DepartureTime\": 27290461.0}, {\"NodeId\": \"ALTA\", \"ArrivalTime\": 27290461.0, \"ServiceStartTime\": 27290461.0, \"DepartureTime\": 27290461.0}]}, {\"Priority\": 1, \"Step\": [{\"NodeId\": \"ADMISION\", \"ArrivalTime\": 27191971.0, \"ServiceStartTime\": 27191971.0, \"DepartureTime\": 27192631.0}, {\"NodeId\": \"TRIAJE\", \"ArrivalTime\": 27192631.0, \"ServiceStartTime\": 27192631.0, \"DepartureTime\": 27226741.0}, {\"NodeId\": \"RX EXPLORACION\", \"ArrivalTime\": 27226741.0, \"ServiceStartTime\": 27226741.0, \"DepartureTime\": 27251761.0}, {\"NodeId\": \"RX SOLICITUD\", \"ArrivalTime\": 27251761.0, \"ServiceStartTime\": 27251761.0, \"DepartureTime\": 27290461.0}, {\"NodeId\": \"ALTA\", \"ArrivalTime\": 27290461.0, \"ServiceStartTime\": 27290461.0, \"DepartureTime\": 27290461.0}]}, {\"Priority\": 1, \"Step\": [{\"NodeId\": \"ADMISION\", \"ArrivalTime\": 27191971.0, \"ServiceStartTime\": 27191971.0, \"DepartureTime\": 27192631.0}, {\"NodeId\": \"TRIAJE\", \"ArrivalTime\": 27192631.0, \"ServiceStartTime\": 27192631.0, \"DepartureTime\": 27226741.0}, {\"NodeId\": \"RX EXPLORACION\", \"ArrivalTime\": 27226741.0, \"ServiceStartTime\": 27226741.0, \"DepartureTime\": 27251761.0}, {\"NodeId\": \"RX SOLICITUD\", \"ArrivalTime\": 27251761.0, \"ServiceStartTime\": 27251761.0, \"DepartureTime\": 27290461.0}, {\"NodeId\": \"ALTA\", \"ArrivalTime\": 27290461.0, \"ServiceStartTime\": 27290461.0, \"DepartureTime\": 27290461.0}]}, {\"Priority\": 1, \"Step\": [{\"NodeId\": \"ADMISION\", \"ArrivalTime\": 27191971.0, \"ServiceStartTime\": 27191971.0, \"DepartureTime\": 27192631.0}, {\"NodeId\": \"TRIAJE\", \"ArrivalTime\": 27192631.0, \"ServiceStartTime\": 27192631.0, \"DepartureTime\": 27226741.0}, {\"NodeId\": \"RX EXPLORACION\", \"ArrivalTime\": 27226741.0, \"ServiceStartTime\": 27226741.0, \"DepartureTime\": 27251761.0}, {\"NodeId\": \"RX SOLICITUD\", \"ArrivalTime\": 27251761.0, \"ServiceStartTime\": 27251761.0, \"DepartureTime\": 27290461.0}, {\"NodeId\": \"ALTA\", \"ArrivalTime\": 27290461.0, \"ServiceStartTime\": 27290461.0, \"DepartureTime\": 27290461.0}]}, {\"Priority\": 1, \"Step\": [{\"NodeId\": \"ADMISION\", \"ArrivalTime\": 27511861.0, \"ServiceStartTime\": 27511861.0, \"DepartureTime\": 27512521.0}, {\"NodeId\": \"TRIAJE\", \"ArrivalTime\": 27512521.0, \"ServiceStartTime\": 27512521.0, \"DepartureTime\": 27515581.0}, {\"NodeId\": \"RX SOLICITUD\", \"ArrivalTime\": 27596821.0, \"ServiceStartTime\": 27596821.0, \"DepartureTime\": 27599341.0}, {\"NodeId\": \"INTERCONSULTA\", \"ArrivalTime\": 27660781.0, \"ServiceStartTime\": 27660781.0, \"DepartureTime\": 27685771.0}, {\"NodeId\": \"RX EXPLORACION\", \"ArrivalTime\": 27608971.0, \"ServiceStartTime\": 27608971.0, \"DepartureTime\": 27677461.0}, {\"NodeId\": \"RESPUESTA\", \"ArrivalTime\": 27693481.0, \"ServiceStartTime\": 27693481.0, \"DepartureTime\": 27699361.0}, {\"NodeId\": \"ALTA\", \"ArrivalTime\": 27713461.0, \"ServiceStartTime\": 27713461.0, \"DepartureTime\": 27713461.0}]}, {\"Priority\": 1, \"Step\": [{\"NodeId\": \"ADMISION\", \"ArrivalTime\": 27875461.0, \"ServiceStartTime\": 27875461.0, \"DepartureTime\": 27876181.0}, {\"NodeId\": \"TRIAJE\", \"ArrivalTime\": 27876181.0, \"ServiceStartTime\": 27876181.0, \"DepartureTime\": 27883321.0}, {\"NodeId\": \"RX SOLICITUD\", \"ArrivalTime\": 27912586.0, \"ServiceStartTime\": 27912586.0, \"DepartureTime\": 27913306.0}, {\"NodeId\": \"RX EXPLORACION\", \"ArrivalTime\": 27914041.0, \"ServiceStartTime\": 27914041.0, \"DepartureTime\": 27927676.0}, {\"NodeId\": \"RX INFORME\", \"ArrivalTime\": 27940681.0, \"ServiceStartTime\": 27940681.0, \"DepartureTime\": 27953551.0}, {\"NodeId\": \"ALTA\", \"ArrivalTime\": 27966481.0, \"ServiceStartTime\": 27966481.0, \"DepartureTime\": 27966481.0}]}, {\"Priority\": 1, \"Step\": [{\"NodeId\": \"ADMISION\", \"ArrivalTime\": 27936001.0, \"ServiceStartTime\": 27936001.0, \"DepartureTime\": 27936481.0}, {\"NodeId\": \"TRIAJE\", \"ArrivalTime\": 27936481.0, \"ServiceStartTime\": 27936481.0, \"DepartureTime\": 27941761.0}, {\"NodeId\": \"RX SOLICITUD\", \"ArrivalTime\": 27982951.0, \"ServiceStartTime\": 27982951.0, \"DepartureTime\": 27988591.0}, {\"NodeId\": \"RX EXPLORACION\", \"ArrivalTime\": 27975081.0, \"ServiceStartTime\": 27975081.0, \"DepartureTime\": 27977241.0}, {\"NodeId\": \"INTERCONSULTA\", \"ArrivalTime\": 27951181.0, \"ServiceStartTime\": 27951181.0, \"DepartureTime\": 27958621.0}, {\"NodeId\": \"RESPUESTA\", \"ArrivalTime\": 27958621.0, \"ServiceStartTime\": 27958621.0, \"DepartureTime\": 28024141.0}, {\"NodeId\": \"RX INFORME\", \"ArrivalTime\": 27990271.0, \"ServiceStartTime\": 27990271.0, \"DepartureTime\": 28004641.0}, {\"NodeId\": \"ALTA\", \"ArrivalTime\": 28061221.0, \"ServiceStartTime\": 28061221.0, \"DepartureTime\": 28061221.0}]}, {\"Priority\": 1, \"Step\": [{\"NodeId\": \"ADMISION\", \"ArrivalTime\": 28155121.0, \"ServiceStartTime\": 28155121.0, \"DepartureTime\": 28155541.0}, {\"NodeId\": \"TRIAJE\", \"ArrivalTime\": 28155541.0, \"ServiceStartTime\": 28155541.0, \"DepartureTime\": 28162981.0}, {\"NodeId\": \"RX SOLICITUD\", \"ArrivalTime\": 28178501.0, \"ServiceStartTime\": 28178501.0, \"DepartureTime\": 28179621.0}, {\"NodeId\": \"INTERCONSULTA\", \"ArrivalTime\": 28175941.0, \"ServiceStartTime\": 28175941.0, \"DepartureTime\": 28196521.0}, {\"NodeId\": \"RX EXPLORACION\", \"ArrivalTime\": 28181461.0, \"ServiceStartTime\": 28181461.0, \"DepartureTime\": 28192501.0}, {\"NodeId\": \"RESPUESTA\", \"ArrivalTime\": 28202911.0, \"ServiceStartTime\": 28202911.0, \"DepartureTime\": 28209691.0}, {\"NodeId\": \"ALTA\", \"ArrivalTime\": 28222561.0, \"ServiceStartTime\": 28222561.0, \"DepartureTime\": 28222561.0}]}, {\"Priority\": 1, \"Step\": [{\"NodeId\": \"ADMISION\", \"ArrivalTime\": 28209841.0, \"ServiceStartTime\": 28209841.0, \"DepartureTime\": 28210801.0}, {\"NodeId\": \"TRIAJE\", \"ArrivalTime\": 28210801.0, \"ServiceStartTime\": 28210801.0, \"DepartureTime\": 28211461.0}, {\"NodeId\": \"RX SOLICITUD\", \"ArrivalTime\": 28211461.0, \"ServiceStartTime\": 28211461.0, \"DepartureTime\": 28212901.0}, {\"NodeId\": \"RX EXPLORACION\", \"ArrivalTime\": 28213411.0, \"ServiceStartTime\": 28213411.0, \"DepartureTime\": 28213921.0}, {\"NodeId\": \"INTERCONSULTA\", \"ArrivalTime\": 28216111.0, \"ServiceStartTime\": 28216111.0, \"DepartureTime\": 28216441.0}, {\"NodeId\": \"RX INFORME\", \"ArrivalTime\": 28214101.0, \"ServiceStartTime\": 28214101.0, \"DepartureTime\": 28217041.0}, {\"NodeId\": \"RESPUESTA\", \"ArrivalTime\": 28217041.0, \"ServiceStartTime\": 28217041.0, \"DepartureTime\": 28218481.0}, {\"NodeId\": \"ALTA\", \"ArrivalTime\": 28218961.0, \"ServiceStartTime\": 28218961.0, \"DepartureTime\": 28218961.0}]}, {\"Priority\": 1, \"Step\": [{\"NodeId\": \"ADMISION\", \"ArrivalTime\": 28293961.0, \"ServiceStartTime\": 28293961.0, \"DepartureTime\": 28294921.0}, {\"NodeId\": \"TRIAJE\", \"ArrivalTime\": 28294921.0, \"ServiceStartTime\": 28294921.0, \"DepartureTime\": 28295821.0}, {\"NodeId\": \"RX SOLICITUD\", \"ArrivalTime\": 28305461.0, \"ServiceStartTime\": 28305461.0, \"DepartureTime\": 28306841.0}, {\"NodeId\": \"RX INFORME\", \"ArrivalTime\": 28310641.0, \"ServiceStartTime\": 28310641.0, \"DepartureTime\": 28311631.0}, {\"NodeId\": \"RX EXPLORACION\", \"ArrivalTime\": 28310371.0, \"ServiceStartTime\": 28310371.0, \"DepartureTime\": 28319956.0}, {\"NodeId\": \"ALTA\", \"ArrivalTime\": 28340281.0, \"ServiceStartTime\": 28340281.0, \"DepartureTime\": 28340281.0}]}, {\"Priority\": 1, \"Step\": [{\"NodeId\": \"ADMISION\", \"ArrivalTime\": 28525621.0, \"ServiceStartTime\": 28525621.0, \"DepartureTime\": 28525981.0}, {\"NodeId\": \"TRIAJE\", \"ArrivalTime\": 28525981.0, \"ServiceStartTime\": 28525981.0, \"DepartureTime\": 28529881.0}, {\"NodeId\": \"RX SOLICITUD\", \"ArrivalTime\": 28543001.0, \"ServiceStartTime\": 28543001.0, \"DepartureTime\": 28550221.0}, {\"NodeId\": \"INTERCONSULTA\", \"ArrivalTime\": 28556041.0, \"ServiceStartTime\": 28556041.0, \"DepartureTime\": 28557541.0}, {\"NodeId\": \"RX EXPLORACION\", \"ArrivalTime\": 28549111.0, \"ServiceStartTime\": 28549111.0, \"DepartureTime\": 28557121.0}, {\"NodeId\": \"RESPUESTA\", \"ArrivalTime\": 28563601.0, \"ServiceStartTime\": 28563601.0, \"DepartureTime\": 28567201.0}, {\"NodeId\": \"ALTA\", \"ArrivalTime\": 28572661.0, \"ServiceStartTime\": 28572661.0, \"DepartureTime\": 28572661.0}]}, {\"Priority\": 1, \"Step\": [{\"NodeId\": \"ADMISION\", \"ArrivalTime\": 28579981.0, \"ServiceStartTime\": 28579981.0, \"DepartureTime\": 28580521.0}, {\"NodeId\": \"TRIAJE\", \"ArrivalTime\": 28580521.0, \"ServiceStartTime\": 28580521.0, \"DepartureTime\": 28582081.0}, {\"NodeId\": \"RX SOLICITUD\", \"ArrivalTime\": 28591801.0, \"ServiceStartTime\": 28591801.0, \"DepartureTime\": 28596361.0}, {\"NodeId\": \"RX INFORME\", \"ArrivalTime\": 28597651.0, \"ServiceStartTime\": 28597651.0, \"DepartureTime\": 28604341.0}, {\"NodeId\": \"RX EXPLORACION\", \"ArrivalTime\": 28599961.0, \"ServiceStartTime\": 28599961.0, \"DepartureTime\": 28605301.0}, {\"NodeId\": \"INTERCONSULTA\", \"ArrivalTime\": 28620601.0, \"ServiceStartTime\": 28620601.0, \"DepartureTime\": 28644661.0}, {\"NodeId\": \"RESPUESTA\", \"ArrivalTime\": 28644661.0, \"ServiceStartTime\": 28644661.0, \"DepartureTime\": 28660201.0}, {\"NodeId\": \"ALTA\", \"ArrivalTime\": 28660201.0, \"ServiceStartTime\": 28660201.0, \"DepartureTime\": 28660201.0}]}, {\"Priority\": 1, \"Step\": [{\"NodeId\": \"ADMISION\", \"ArrivalTime\": 28648741.0, \"ServiceStartTime\": 28648741.0, \"DepartureTime\": 28649221.0}, {\"NodeId\": \"TRIAJE\", \"ArrivalTime\": 28649221.0, \"ServiceStartTime\": 28649221.0, \"DepartureTime\": 28650421.0}, {\"NodeId\": \"RX SOLICITUD\", \"ArrivalTime\": 28708756.0, \"ServiceStartTime\": 28708756.0, \"DepartureTime\": 28723861.0}, {\"NodeId\": \"RX EXPLORACION\", \"ArrivalTime\": 28724071.0, \"ServiceStartTime\": 28724071.0, \"DepartureTime\": 28757191.0}, {\"NodeId\": \"RX INFORME\", \"ArrivalTime\": 28759381.0, \"ServiceStartTime\": 28759381.0, \"DepartureTime\": 28760221.0}, {\"NodeId\": \"ALTA\", \"ArrivalTime\": 28844161.0, \"ServiceStartTime\": 28844161.0, \"DepartureTime\": 28844161.0}]}, {\"Priority\": 1, \"Step\": [{\"NodeId\": \"ADMISION\", \"ArrivalTime\": 28729381.0, \"ServiceStartTime\": 28729381.0, \"DepartureTime\": 28730041.0}, {\"NodeId\": \"TRIAJE\", \"ArrivalTime\": 28730041.0, \"ServiceStartTime\": 28730041.0, \"DepartureTime\": 28731301.0}, {\"NodeId\": \"INTERCONSULTA\", \"ArrivalTime\": 28731661.0, \"ServiceStartTime\": 28731661.0, \"DepartureTime\": 28732681.0}, {\"NodeId\": \"RX SOLICITUD\", \"ArrivalTime\": 28732111.0, \"ServiceStartTime\": 28732111.0, \"DepartureTime\": 28732591.0}, {\"NodeId\": \"RX EXPLORACION\", \"ArrivalTime\": 28733101.0, \"ServiceStartTime\": 28733101.0, \"DepartureTime\": 28734331.0}, {\"NodeId\": \"RX INFORME\", \"ArrivalTime\": 28735741.0, \"ServiceStartTime\": 28735741.0, \"DepartureTime\": 28739101.0}, {\"NodeId\": \"RESPUESTA\", \"ArrivalTime\": 28739101.0, \"ServiceStartTime\": 28739101.0, \"DepartureTime\": 28764841.0}, {\"NodeId\": \"ALTA\", \"ArrivalTime\": 28764841.0, \"ServiceStartTime\": 28764841.0, \"DepartureTime\": 28764841.0}]}, {\"Priority\": 1, \"Step\": [{\"NodeId\": \"ADMISION\", \"ArrivalTime\": 28806301.0, \"ServiceStartTime\": 28806301.0, \"DepartureTime\": 28811401.0}, {\"NodeId\": \"RX SOLICITUD\", \"ArrivalTime\": 28813501.0, \"ServiceStartTime\": 28813501.0, \"DepartureTime\": 28813921.0}, {\"NodeId\": \"INTERCONSULTA\", \"ArrivalTime\": 28815391.0, \"ServiceStartTime\": 28815391.0, \"DepartureTime\": 28816651.0}, {\"NodeId\": \"RX EXPLORACION\", \"ArrivalTime\": 28813921.0, \"ServiceStartTime\": 28813921.0, \"DepartureTime\": 28814701.0}, {\"NodeId\": \"RX INFORME\", \"ArrivalTime\": 28814701.0, \"ServiceStartTime\": 28814701.0, \"DepartureTime\": 28819381.0}, {\"NodeId\": \"RESPUESTA\", \"ArrivalTime\": 28819801.0, \"ServiceStartTime\": 28819801.0, \"DepartureTime\": 28843621.0}, {\"NodeId\": \"ALTA\", \"ArrivalTime\": 28843621.0, \"ServiceStartTime\": 28843621.0, \"DepartureTime\": 28843621.0}]}, {\"Priority\": 1, \"Step\": [{\"NodeId\": \"ADMISION\", \"ArrivalTime\": 29018521.0, \"ServiceStartTime\": 29018521.0, \"DepartureTime\": 29018881.0}, {\"NodeId\": \"TRIAJE\", \"ArrivalTime\": 29018881.0, \"ServiceStartTime\": 29018881.0, \"DepartureTime\": 29019901.0}, {\"NodeId\": \"RX SOLICITUD\", \"ArrivalTime\": 29019901.0, \"ServiceStartTime\": 29019901.0, \"DepartureTime\": 29021341.0}, {\"NodeId\": \"RX EXPLORACION\", \"ArrivalTime\": 29023021.0, \"ServiceStartTime\": 29023021.0, \"DepartureTime\": 29031961.0}, {\"NodeId\": \"INTERCONSULTA\", \"ArrivalTime\": 29027401.0, \"ServiceStartTime\": 29027401.0, \"DepartureTime\": 29091481.0}, {\"NodeId\": \"RESPUESTA\", \"ArrivalTime\": 29095951.0, \"ServiceStartTime\": 29095951.0, \"DepartureTime\": 29107201.0}, {\"NodeId\": \"ALTA\", \"ArrivalTime\": 29180941.0, \"ServiceStartTime\": 29180941.0, \"DepartureTime\": 29180941.0}]}, {\"Priority\": 1, \"Step\": [{\"NodeId\": \"ADMISION\", \"ArrivalTime\": 29063821.0, \"ServiceStartTime\": 29063821.0, \"DepartureTime\": 29064181.0}, {\"NodeId\": \"TRIAJE\", \"ArrivalTime\": 29064181.0, \"ServiceStartTime\": 29064181.0, \"DepartureTime\": 29066041.0}, {\"NodeId\": \"RX SOLICITUD\", \"ArrivalTime\": 29071061.0, \"ServiceStartTime\": 29071061.0, \"DepartureTime\": 29072621.0}, {\"NodeId\": \"RX EXPLORACION\", \"ArrivalTime\": 29072611.0, \"ServiceStartTime\": 29072611.0, \"DepartureTime\": 29076181.0}, {\"NodeId\": \"RX INFORME\", \"ArrivalTime\": 29076661.0, \"ServiceStartTime\": 29076661.0, \"DepartureTime\": 29099161.0}, {\"NodeId\": \"INTERCONSULTA\", \"ArrivalTime\": 29122861.0, \"ServiceStartTime\": 29122861.0, \"DepartureTime\": 29154301.0}, {\"NodeId\": \"RESPUESTA\", \"ArrivalTime\": 29154301.0, \"ServiceStartTime\": 29154301.0, \"DepartureTime\": 29174581.0}, {\"NodeId\": \"ALTA\", \"ArrivalTime\": 29174581.0, \"ServiceStartTime\": 29174581.0, \"DepartureTime\": 29174581.0}]}, {\"Priority\": 1, \"Step\": [{\"NodeId\": \"ADMISION\", \"ArrivalTime\": 29192101.0, \"ServiceStartTime\": 29192101.0, \"DepartureTime\": 29192821.0}, {\"NodeId\": \"TRIAJE\", \"ArrivalTime\": 29192821.0, \"ServiceStartTime\": 29192821.0, \"DepartureTime\": 29234461.0}, {\"NodeId\": \"INTERCONSULTA\", \"ArrivalTime\": 29234611.0, \"ServiceStartTime\": 29234611.0, \"DepartureTime\": 29236951.0}, {\"NodeId\": \"RESPUESTA\", \"ArrivalTime\": 29239441.0, \"ServiceStartTime\": 29239441.0, \"DepartureTime\": 29240401.0}, {\"NodeId\": \"RX SOLICITUD\", \"ArrivalTime\": 29239261.0, \"ServiceStartTime\": 29239261.0, \"DepartureTime\": 29244241.0}, {\"NodeId\": \"RX EXPLORACION\", \"ArrivalTime\": 29246041.0, \"ServiceStartTime\": 29246041.0, \"DepartureTime\": 29434141.0}, {\"NodeId\": \"ALTA\", \"ArrivalTime\": 29434141.0, \"ServiceStartTime\": 29434141.0, \"DepartureTime\": 29434141.0}]}, {\"Priority\": 1, \"Step\": [{\"NodeId\": \"ADMISION\", \"ArrivalTime\": 29417941.0, \"ServiceStartTime\": 29417941.0, \"DepartureTime\": 29419201.0}, {\"NodeId\": \"TRIAJE\", \"ArrivalTime\": 29419201.0, \"ServiceStartTime\": 29419201.0, \"DepartureTime\": 29421721.0}, {\"NodeId\": \"INTERCONSULTA\", \"ArrivalTime\": 29422201.0, \"ServiceStartTime\": 29422201.0, \"DepartureTime\": 29424961.0}, {\"NodeId\": \"RESPUESTA\", \"ArrivalTime\": 29424961.0, \"ServiceStartTime\": 29424961.0, \"DepartureTime\": 29426581.0}, {\"NodeId\": \"RX SOLICITUD\", \"ArrivalTime\": 29432611.0, \"ServiceStartTime\": 29432611.0, \"DepartureTime\": 29433991.0}, {\"NodeId\": \"RX EXPLORACION\", \"ArrivalTime\": 29436181.0, \"ServiceStartTime\": 29436181.0, \"DepartureTime\": 29445391.0}, {\"NodeId\": \"RX INFORME\", \"ArrivalTime\": 29447281.0, \"ServiceStartTime\": 29447281.0, \"DepartureTime\": 29458801.0}, {\"NodeId\": \"ALTA\", \"ArrivalTime\": 29458801.0, \"ServiceStartTime\": 29458801.0, \"DepartureTime\": 29458801.0}]}, {\"Priority\": 1, \"Step\": [{\"NodeId\": \"ADMISION\", \"ArrivalTime\": 29423941.0, \"ServiceStartTime\": 29423941.0, \"DepartureTime\": 29424661.0}, {\"NodeId\": \"TRIAJE\", \"ArrivalTime\": 29424661.0, \"ServiceStartTime\": 29424661.0, \"DepartureTime\": 29436841.0}, {\"NodeId\": \"RX SOLICITUD\", \"ArrivalTime\": 29449341.0, \"ServiceStartTime\": 29449341.0, \"DepartureTime\": 29451101.0}, {\"NodeId\": \"RX EXPLORACION\", \"ArrivalTime\": 29451101.0, \"ServiceStartTime\": 29451101.0, \"DepartureTime\": 29453631.0}, {\"NodeId\": \"RX INFORME\", \"ArrivalTime\": 29462581.0, \"ServiceStartTime\": 29462581.0, \"DepartureTime\": 29519701.0}, {\"NodeId\": \"ALTA\", \"ArrivalTime\": 29519701.0, \"ServiceStartTime\": 29519701.0, \"DepartureTime\": 29519701.0}]}, {\"Priority\": 1, \"Step\": [{\"NodeId\": \"ADMISION\", \"ArrivalTime\": 29505721.0, \"ServiceStartTime\": 29505721.0, \"DepartureTime\": 29506981.0}, {\"NodeId\": \"TRIAJE\", \"ArrivalTime\": 29506981.0, \"ServiceStartTime\": 29506981.0, \"DepartureTime\": 29524321.0}, {\"NodeId\": \"INTERCONSULTA\", \"ArrivalTime\": 29524321.0, \"ServiceStartTime\": 29524321.0, \"DepartureTime\": 29529121.0}, {\"NodeId\": \"RX EXPLORACION\", \"ArrivalTime\": 29529121.0, \"ServiceStartTime\": 29529121.0, \"DepartureTime\": 29533501.0}, {\"NodeId\": \"RESPUESTA\", \"ArrivalTime\": 29533501.0, \"ServiceStartTime\": 29533501.0, \"DepartureTime\": 29534821.0}, {\"NodeId\": \"RX SOLICITUD\", \"ArrivalTime\": 29534821.0, \"ServiceStartTime\": 29534821.0, \"DepartureTime\": 29558341.0}, {\"NodeId\": \"ALTA\", \"ArrivalTime\": 29558341.0, \"ServiceStartTime\": 29558341.0, \"DepartureTime\": 29558341.0}]}, {\"Priority\": 1, \"Step\": [{\"NodeId\": \"ADMISION\", \"ArrivalTime\": 29621041.0, \"ServiceStartTime\": 29621041.0, \"DepartureTime\": 29621761.0}, {\"NodeId\": \"TRIAJE\", \"ArrivalTime\": 29621761.0, \"ServiceStartTime\": 29621761.0, \"DepartureTime\": 29623621.0}, {\"NodeId\": \"RX EXPLORACION\", \"ArrivalTime\": 29626381.0, \"ServiceStartTime\": 29626381.0, \"DepartureTime\": 29687041.0}, {\"NodeId\": \"RX SOLICITUD\", \"ArrivalTime\": 29660371.0, \"ServiceStartTime\": 29660371.0, \"DepartureTime\": 29664421.0}, {\"NodeId\": \"INTERCONSULTA\", \"ArrivalTime\": 29687041.0, \"ServiceStartTime\": 29687041.0, \"DepartureTime\": 29697121.0}, {\"NodeId\": \"RESPUESTA\", \"ArrivalTime\": 29702461.0, \"ServiceStartTime\": 29702461.0, \"DepartureTime\": 29771941.0}, {\"NodeId\": \"ALTA\", \"ArrivalTime\": 29771941.0, \"ServiceStartTime\": 29771941.0, \"DepartureTime\": 29771941.0}]}, {\"Priority\": 1, \"Step\": [{\"NodeId\": \"ADMISION\", \"ArrivalTime\": 29760361.0, \"ServiceStartTime\": 29760361.0, \"DepartureTime\": 29760661.0}, {\"NodeId\": \"TRIAJE\", \"ArrivalTime\": 29760661.0, \"ServiceStartTime\": 29760661.0, \"DepartureTime\": 29761141.0}, {\"NodeId\": \"RX SOLICITUD\", \"ArrivalTime\": 29761141.0, \"ServiceStartTime\": 29761141.0, \"DepartureTime\": 29763241.0}, {\"NodeId\": \"INTERCONSULTA\", \"ArrivalTime\": 29763241.0, \"ServiceStartTime\": 29763241.0, \"DepartureTime\": 29763301.0}, {\"NodeId\": \"RX EXPLORACION\", \"ArrivalTime\": 29765011.0, \"ServiceStartTime\": 29765011.0, \"DepartureTime\": 29771101.0}, {\"NodeId\": \"RX INFORME\", \"ArrivalTime\": 29766661.0, \"ServiceStartTime\": 29766661.0, \"DepartureTime\": 29766721.0}, {\"NodeId\": \"RESPUESTA\", \"ArrivalTime\": 29775541.0, \"ServiceStartTime\": 29775541.0, \"DepartureTime\": 29788621.0}, {\"NodeId\": \"ALTA\", \"ArrivalTime\": 29788621.0, \"ServiceStartTime\": 29788621.0, \"DepartureTime\": 29788621.0}]}, {\"Priority\": 1, \"Step\": [{\"NodeId\": \"ADMISION\", \"ArrivalTime\": 29840641.0, \"ServiceStartTime\": 29840641.0, \"DepartureTime\": 29840881.0}, {\"NodeId\": \"TRIAJE\", \"ArrivalTime\": 29840881.0, \"ServiceStartTime\": 29840881.0, \"DepartureTime\": 29844961.0}, {\"NodeId\": \"RX INFORME\", \"ArrivalTime\": 29849221.0, \"ServiceStartTime\": 29849221.0, \"DepartureTime\": 29849701.0}, {\"NodeId\": \"RX SOLICITUD\", \"ArrivalTime\": 29852401.0, \"ServiceStartTime\": 29852401.0, \"DepartureTime\": 29895811.0}, {\"NodeId\": \"RX EXPLORACION\", \"ArrivalTime\": 29880441.0, \"ServiceStartTime\": 29880441.0, \"DepartureTime\": 29886881.0}, {\"NodeId\": \"INTERCONSULTA\", \"ArrivalTime\": 29855101.0, \"ServiceStartTime\": 29855101.0, \"DepartureTime\": 29858701.0}, {\"NodeId\": \"RESPUESTA\", \"ArrivalTime\": 29858701.0, \"ServiceStartTime\": 29858701.0, \"DepartureTime\": 29859841.0}, {\"NodeId\": \"ALTA\", \"ArrivalTime\": 29956321.0, \"ServiceStartTime\": 29956321.0, \"DepartureTime\": 29956321.0}]}, {\"Priority\": 1, \"Step\": [{\"NodeId\": \"ADMISION\", \"ArrivalTime\": 30016921.0, \"ServiceStartTime\": 30016921.0, \"DepartureTime\": 30017521.0}, {\"NodeId\": \"TRIAJE\", \"ArrivalTime\": 30017521.0, \"ServiceStartTime\": 30017521.0, \"DepartureTime\": 30019201.0}, {\"NodeId\": \"INTERCONSULTA\", \"ArrivalTime\": 30022621.0, \"ServiceStartTime\": 30022621.0, \"DepartureTime\": 30023161.0}, {\"NodeId\": \"RX SOLICITUD\", \"ArrivalTime\": 30021181.0, \"ServiceStartTime\": 30021181.0, \"DepartureTime\": 30026191.0}, {\"NodeId\": \"RESPUESTA\", \"ArrivalTime\": 30029761.0, \"ServiceStartTime\": 30029761.0, \"DepartureTime\": 30030421.0}, {\"NodeId\": \"RX EXPLORACION\", \"ArrivalTime\": 30030421.0, \"ServiceStartTime\": 30030421.0, \"DepartureTime\": 30032281.0}, {\"NodeId\": \"RX INFORME\", \"ArrivalTime\": 30032281.0, \"ServiceStartTime\": 30032281.0, \"DepartureTime\": 30046681.0}, {\"NodeId\": \"ALTA\", \"ArrivalTime\": 30046681.0, \"ServiceStartTime\": 30046681.0, \"DepartureTime\": 30046681.0}]}, {\"Priority\": 1, \"Step\": [{\"NodeId\": \"ADMISION\", \"ArrivalTime\": 30021721.0, \"ServiceStartTime\": 30021721.0, \"DepartureTime\": 30022981.0}, {\"NodeId\": \"TRIAJE\", \"ArrivalTime\": 30022981.0, \"ServiceStartTime\": 30022981.0, \"DepartureTime\": 30028441.0}, {\"NodeId\": \"RX SOLICITUD\", \"ArrivalTime\": 30032521.0, \"ServiceStartTime\": 30032521.0, \"DepartureTime\": 30036151.0}, {\"NodeId\": \"RX EXPLORACION\", \"ArrivalTime\": 30039991.0, \"ServiceStartTime\": 30039991.0, \"DepartureTime\": 30045151.0}, {\"NodeId\": \"RX INFORME\", \"ArrivalTime\": 30044621.0, \"ServiceStartTime\": 30044621.0, \"DepartureTime\": 30063661.0}, {\"NodeId\": \"ALTA\", \"ArrivalTime\": 30103141.0, \"ServiceStartTime\": 30103141.0, \"DepartureTime\": 30103141.0}]}, {\"Priority\": 1, \"Step\": [{\"NodeId\": \"ADMISION\", \"ArrivalTime\": 30094681.0, \"ServiceStartTime\": 30094681.0, \"DepartureTime\": 30095161.0}, {\"NodeId\": \"TRIAJE\", \"ArrivalTime\": 30095161.0, \"ServiceStartTime\": 30095161.0, \"DepartureTime\": 30097021.0}, {\"NodeId\": \"INTERCONSULTA\", \"ArrivalTime\": 30113041.0, \"ServiceStartTime\": 30113041.0, \"DepartureTime\": 30114721.0}, {\"NodeId\": \"RX SOLICITUD\", \"ArrivalTime\": 30110251.0, \"ServiceStartTime\": 30110251.0, \"DepartureTime\": 30117871.0}, {\"NodeId\": \"RESPUESTA\", \"ArrivalTime\": 30114721.0, \"ServiceStartTime\": 30114721.0, \"DepartureTime\": 30116461.0}, {\"NodeId\": \"RX EXPLORACION\", \"ArrivalTime\": 30117871.0, \"ServiceStartTime\": 30117871.0, \"DepartureTime\": 30122671.0}, {\"NodeId\": \"RX INFORME\", \"ArrivalTime\": 30124381.0, \"ServiceStartTime\": 30124381.0, \"DepartureTime\": 30138481.0}, {\"NodeId\": \"ALTA\", \"ArrivalTime\": 30153481.0, \"ServiceStartTime\": 30153481.0, \"DepartureTime\": 30153481.0}]}, {\"Priority\": 1, \"Step\": [{\"NodeId\": \"ADMISION\", \"ArrivalTime\": 30095461.0, \"ServiceStartTime\": 30095461.0, \"DepartureTime\": 30096481.0}, {\"NodeId\": \"TRIAJE\", \"ArrivalTime\": 30096481.0, \"ServiceStartTime\": 30096481.0, \"DepartureTime\": 30100501.0}, {\"NodeId\": \"RX EXPLORACION\", \"ArrivalTime\": 30109111.0, \"ServiceStartTime\": 30109111.0, \"DepartureTime\": 30115951.0}, {\"NodeId\": \"RX SOLICITUD\", \"ArrivalTime\": 30110841.0, \"ServiceStartTime\": 30110841.0, \"DepartureTime\": 30117981.0}, {\"NodeId\": \"RX INFORME\", \"ArrivalTime\": 30124711.0, \"ServiceStartTime\": 30124711.0, \"DepartureTime\": 30128131.0}, {\"NodeId\": \"ALTA\", \"ArrivalTime\": 30142441.0, \"ServiceStartTime\": 30142441.0, \"DepartureTime\": 30142441.0}]}, {\"Priority\": 1, \"Step\": [{\"NodeId\": \"ADMISION\", \"ArrivalTime\": 30120061.0, \"ServiceStartTime\": 30120061.0, \"DepartureTime\": 30120661.0}, {\"NodeId\": \"TRIAJE\", \"ArrivalTime\": 30120661.0, \"ServiceStartTime\": 30120661.0, \"DepartureTime\": 30121801.0}, {\"NodeId\": \"INTERCONSULTA\", \"ArrivalTime\": 30148741.0, \"ServiceStartTime\": 30148741.0, \"DepartureTime\": 30370501.0}, {\"NodeId\": \"RESPUESTA\", \"ArrivalTime\": 30370501.0, \"ServiceStartTime\": 30370501.0, \"DepartureTime\": 30377161.0}, {\"NodeId\": \"RX INFORME\", \"ArrivalTime\": 30262081.0, \"ServiceStartTime\": 30262081.0, \"DepartureTime\": 30273241.0}, {\"NodeId\": \"RX SOLICITUD\", \"ArrivalTime\": 30300781.0, \"ServiceStartTime\": 30300781.0, \"DepartureTime\": 30303461.0}, {\"NodeId\": \"RX EXPLORACION\", \"ArrivalTime\": 30263371.0, \"ServiceStartTime\": 30263371.0, \"DepartureTime\": 30273181.0}, {\"NodeId\": \"ALTA\", \"ArrivalTime\": 30419821.0, \"ServiceStartTime\": 30419821.0, \"DepartureTime\": 30419821.0}]}, {\"Priority\": 1, \"Step\": [{\"NodeId\": \"ADMISION\", \"ArrivalTime\": 30293701.0, \"ServiceStartTime\": 30293701.0, \"DepartureTime\": 30294421.0}, {\"NodeId\": \"TRIAJE\", \"ArrivalTime\": 30294421.0, \"ServiceStartTime\": 30294421.0, \"DepartureTime\": 30299161.0}, {\"NodeId\": \"RX SOLICITUD\", \"ArrivalTime\": 30324601.0, \"ServiceStartTime\": 30324601.0, \"DepartureTime\": 30327981.0}, {\"NodeId\": \"RX EXPLORACION\", \"ArrivalTime\": 30328161.0, \"ServiceStartTime\": 30328161.0, \"DepartureTime\": 30334181.0}, {\"NodeId\": \"RX INFORME\", \"ArrivalTime\": 30342091.0, \"ServiceStartTime\": 30342091.0, \"DepartureTime\": 30365071.0}, {\"NodeId\": \"INTERCONSULTA\", \"ArrivalTime\": 30366241.0, \"ServiceStartTime\": 30366241.0, \"DepartureTime\": 30366481.0}, {\"NodeId\": \"ALTA\", \"ArrivalTime\": 30373561.0, \"ServiceStartTime\": 30373561.0, \"DepartureTime\": 30373561.0}]}, {\"Priority\": 1, \"Step\": [{\"NodeId\": \"ADMISION\", \"ArrivalTime\": 30419281.0, \"ServiceStartTime\": 30419281.0, \"DepartureTime\": 30419521.0}, {\"NodeId\": \"TRIAJE\", \"ArrivalTime\": 30419521.0, \"ServiceStartTime\": 30419521.0, \"DepartureTime\": 30419941.0}, {\"NodeId\": \"RX SOLICITUD\", \"ArrivalTime\": 30431971.0, \"ServiceStartTime\": 30431971.0, \"DepartureTime\": 30438241.0}, {\"NodeId\": \"INTERCONSULTA\", \"ArrivalTime\": 30433621.0, \"ServiceStartTime\": 30433621.0, \"DepartureTime\": 30444001.0}, {\"NodeId\": \"RX EXPLORACION\", \"ArrivalTime\": 30438241.0, \"ServiceStartTime\": 30438241.0, \"DepartureTime\": 30441271.0}, {\"NodeId\": \"RESPUESTA\", \"ArrivalTime\": 30449761.0, \"ServiceStartTime\": 30449761.0, \"DepartureTime\": 30460801.0}, {\"NodeId\": \"RX INFORME\", \"ArrivalTime\": 30449401.0, \"ServiceStartTime\": 30449401.0, \"DepartureTime\": 30450601.0}, {\"NodeId\": \"ALTA\", \"ArrivalTime\": 30472201.0, \"ServiceStartTime\": 30472201.0, \"DepartureTime\": 30472201.0}]}, {\"Priority\": 1, \"Step\": [{\"NodeId\": \"ADMISION\", \"ArrivalTime\": 30425521.0, \"ServiceStartTime\": 30425521.0, \"DepartureTime\": 30426001.0}, {\"NodeId\": \"TRIAJE\", \"ArrivalTime\": 30426001.0, \"ServiceStartTime\": 30426001.0, \"DepartureTime\": 30429121.0}, {\"NodeId\": \"INTERCONSULTA\", \"ArrivalTime\": 30446341.0, \"ServiceStartTime\": 30446341.0, \"DepartureTime\": 30465421.0}, {\"NodeId\": \"RESPUESTA\", \"ArrivalTime\": 30465421.0, \"ServiceStartTime\": 30465421.0, \"DepartureTime\": 30468661.0}, {\"NodeId\": \"RX SOLICITUD\", \"ArrivalTime\": 30475861.0, \"ServiceStartTime\": 30475861.0, \"DepartureTime\": 30478821.0}, {\"NodeId\": \"RX EXPLORACION\", \"ArrivalTime\": 30478821.0, \"ServiceStartTime\": 30478821.0, \"DepartureTime\": 30506701.0}, {\"NodeId\": \"ALTA\", \"ArrivalTime\": 30543961.0, \"ServiceStartTime\": 30543961.0, \"DepartureTime\": 30543961.0}]}, {\"Priority\": 1, \"Step\": [{\"NodeId\": \"ADMISION\", \"ArrivalTime\": 30452761.0, \"ServiceStartTime\": 30452761.0, \"DepartureTime\": 30453121.0}, {\"NodeId\": \"TRIAJE\", \"ArrivalTime\": 30453121.0, \"ServiceStartTime\": 30453121.0, \"DepartureTime\": 30456121.0}, {\"NodeId\": \"RX SOLICITUD\", \"ArrivalTime\": 30537271.0, \"ServiceStartTime\": 30537271.0, \"DepartureTime\": 30541231.0}, {\"NodeId\": \"RX EXPLORACION\", \"ArrivalTime\": 30541231.0, \"ServiceStartTime\": 30541231.0, \"DepartureTime\": 30623581.0}, {\"NodeId\": \"RX INFORME\", \"ArrivalTime\": 30628741.0, \"ServiceStartTime\": 30628741.0, \"DepartureTime\": 30631081.0}, {\"NodeId\": \"INTERCONSULTA\", \"ArrivalTime\": 30632911.0, \"ServiceStartTime\": 30632911.0, \"DepartureTime\": 30639361.0}, {\"NodeId\": \"RESPUESTA\", \"ArrivalTime\": 30632881.0, \"ServiceStartTime\": 30632881.0, \"DepartureTime\": 30634741.0}, {\"NodeId\": \"ALTA\", \"ArrivalTime\": 30645841.0, \"ServiceStartTime\": 30645841.0, \"DepartureTime\": 30645841.0}]}, {\"Priority\": 1, \"Step\": [{\"NodeId\": \"ADMISION\", \"ArrivalTime\": 30588961.0, \"ServiceStartTime\": 30588961.0, \"DepartureTime\": 30589321.0}, {\"NodeId\": \"TRIAJE\", \"ArrivalTime\": 30589321.0, \"ServiceStartTime\": 30589321.0, \"DepartureTime\": 30590941.0}, {\"NodeId\": \"RX SOLICITUD\", \"ArrivalTime\": 30615681.0, \"ServiceStartTime\": 30615681.0, \"DepartureTime\": 30642581.0}, {\"NodeId\": \"INTERCONSULTA\", \"ArrivalTime\": 30620341.0, \"ServiceStartTime\": 30620341.0, \"DepartureTime\": 30626191.0}, {\"NodeId\": \"RX INFORME\", \"ArrivalTime\": 30620881.0, \"ServiceStartTime\": 30620881.0, \"DepartureTime\": 30621901.0}, {\"NodeId\": \"RX EXPLORACION\", \"ArrivalTime\": 30643321.0, \"ServiceStartTime\": 30643321.0, \"DepartureTime\": 30658861.0}, {\"NodeId\": \"RESPUESTA\", \"ArrivalTime\": 30627001.0, \"ServiceStartTime\": 30627001.0, \"DepartureTime\": 30629461.0}, {\"NodeId\": \"ALTA\", \"ArrivalTime\": 30735901.0, \"ServiceStartTime\": 30735901.0, \"DepartureTime\": 30735901.0}]}, {\"Priority\": 1, \"Step\": [{\"NodeId\": \"ADMISION\", \"ArrivalTime\": 30648721.0, \"ServiceStartTime\": 30648721.0, \"DepartureTime\": 30649441.0}, {\"NodeId\": \"TRIAJE\", \"ArrivalTime\": 30649441.0, \"ServiceStartTime\": 30649441.0, \"DepartureTime\": 30652261.0}, {\"NodeId\": \"RX SOLICITUD\", \"ArrivalTime\": 30678781.0, \"ServiceStartTime\": 30678781.0, \"DepartureTime\": 30685141.0}, {\"NodeId\": \"INTERCONSULTA\", \"ArrivalTime\": 30664321.0, \"ServiceStartTime\": 30664321.0, \"DepartureTime\": 30705301.0}, {\"NodeId\": \"RX EXPLORACION\", \"ArrivalTime\": 30685261.0, \"ServiceStartTime\": 30685261.0, \"DepartureTime\": 30687841.0}, {\"NodeId\": \"RX INFORME\", \"ArrivalTime\": 30708781.0, \"ServiceStartTime\": 30708781.0, \"DepartureTime\": 30709021.0}, {\"NodeId\": \"RESPUESTA\", \"ArrivalTime\": 30711361.0, \"ServiceStartTime\": 30711361.0, \"DepartureTime\": 30728401.0}, {\"NodeId\": \"ALTA\", \"ArrivalTime\": 30728401.0, \"ServiceStartTime\": 30728401.0, \"DepartureTime\": 30728401.0}]}, {\"Priority\": 1, \"Step\": [{\"NodeId\": \"ADMISION\", \"ArrivalTime\": 30675301.0, \"ServiceStartTime\": 30675301.0, \"DepartureTime\": 30675601.0}, {\"NodeId\": \"TRIAJE\", \"ArrivalTime\": 30675601.0, \"ServiceStartTime\": 30675601.0, \"DepartureTime\": 30703201.0}, {\"NodeId\": \"RX EXPLORACION\", \"ArrivalTime\": 30704881.0, \"ServiceStartTime\": 30704881.0, \"DepartureTime\": 30710581.0}, {\"NodeId\": \"RX INFORME\", \"ArrivalTime\": 30710581.0, \"ServiceStartTime\": 30710581.0, \"DepartureTime\": 30716881.0}, {\"NodeId\": \"RX SOLICITUD\", \"ArrivalTime\": 30710341.0, \"ServiceStartTime\": 30710341.0, \"DepartureTime\": 30711601.0}, {\"NodeId\": \"INTERCONSULTA\", \"ArrivalTime\": 30716911.0, \"ServiceStartTime\": 30716911.0, \"DepartureTime\": 30717211.0}, {\"NodeId\": \"RESPUESTA\", \"ArrivalTime\": 30717631.0, \"ServiceStartTime\": 30717631.0, \"DepartureTime\": 30723361.0}, {\"NodeId\": \"ALTA\", \"ArrivalTime\": 30729781.0, \"ServiceStartTime\": 30729781.0, \"DepartureTime\": 30729781.0}]}, {\"Priority\": 1, \"Step\": [{\"NodeId\": \"ADMISION\", \"ArrivalTime\": 30744781.0, \"ServiceStartTime\": 30744781.0, \"DepartureTime\": 30745201.0}, {\"NodeId\": \"TRIAJE\", \"ArrivalTime\": 30745201.0, \"ServiceStartTime\": 30745201.0, \"DepartureTime\": 30745561.0}, {\"NodeId\": \"RX SOLICITUD\", \"ArrivalTime\": 30756961.0, \"ServiceStartTime\": 30756961.0, \"DepartureTime\": 30760041.0}, {\"NodeId\": \"RX EXPLORACION\", \"ArrivalTime\": 30760041.0, \"ServiceStartTime\": 30760041.0, \"DepartureTime\": 30772921.0}, {\"NodeId\": \"RX INFORME\", \"ArrivalTime\": 30793441.0, \"ServiceStartTime\": 30793441.0, \"DepartureTime\": 30797761.0}, {\"NodeId\": \"INTERCONSULTA\", \"ArrivalTime\": 30797761.0, \"ServiceStartTime\": 30797761.0, \"DepartureTime\": 30804601.0}, {\"NodeId\": \"ALTA\", \"ArrivalTime\": 30804601.0, \"ServiceStartTime\": 30804601.0, \"DepartureTime\": 30804601.0}]}, {\"Priority\": 1, \"Step\": [{\"NodeId\": \"ADMISION\", \"ArrivalTime\": 30843661.0, \"ServiceStartTime\": 30843661.0, \"DepartureTime\": 30844321.0}, {\"NodeId\": \"TRIAJE\", \"ArrivalTime\": 30844321.0, \"ServiceStartTime\": 30844321.0, \"DepartureTime\": 30845341.0}, {\"NodeId\": \"RX INFORME\", \"ArrivalTime\": 30848101.0, \"ServiceStartTime\": 30848101.0, \"DepartureTime\": 30848161.0}, {\"NodeId\": \"RX SOLICITUD\", \"ArrivalTime\": 30849541.0, \"ServiceStartTime\": 30849541.0, \"DepartureTime\": 30850761.0}, {\"NodeId\": \"RX EXPLORACION\", \"ArrivalTime\": 30850111.0, \"ServiceStartTime\": 30850111.0, \"DepartureTime\": 30853156.0}, {\"NodeId\": \"ALTA\", \"ArrivalTime\": 30861241.0, \"ServiceStartTime\": 30861241.0, \"DepartureTime\": 30861241.0}]}, {\"Priority\": 1, \"Step\": [{\"NodeId\": \"ADMISION\", \"ArrivalTime\": 31155361.0, \"ServiceStartTime\": 31155361.0, \"DepartureTime\": 31156261.0}, {\"NodeId\": \"TRIAJE\", \"ArrivalTime\": 31156261.0, \"ServiceStartTime\": 31156261.0, \"DepartureTime\": 31164061.0}, {\"NodeId\": \"RX SOLICITUD\", \"ArrivalTime\": 31208191.0, \"ServiceStartTime\": 31208191.0, \"DepartureTime\": 31215361.0}, {\"NodeId\": \"RX EXPLORACION\", \"ArrivalTime\": 31215361.0, \"ServiceStartTime\": 31215361.0, \"DepartureTime\": 31217341.0}, {\"NodeId\": \"RX INFORME\", \"ArrivalTime\": 31217341.0, \"ServiceStartTime\": 31217341.0, \"DepartureTime\": 31255021.0}, {\"NodeId\": \"INTERCONSULTA\", \"ArrivalTime\": 31374661.0, \"ServiceStartTime\": 31374661.0, \"DepartureTime\": 31495471.0}, {\"NodeId\": \"RESPUESTA\", \"ArrivalTime\": 31495471.0, \"ServiceStartTime\": 31495471.0, \"DepartureTime\": 31582411.0}, {\"NodeId\": \"ALTA\", \"ArrivalTime\": 31673221.0, \"ServiceStartTime\": 31673221.0, \"DepartureTime\": 31673221.0}]}, {\"Priority\": 1, \"Step\": [{\"NodeId\": \"ADMISION\", \"ArrivalTime\": 31312021.0, \"ServiceStartTime\": 31312021.0, \"DepartureTime\": 31312801.0}, {\"NodeId\": \"TRIAJE\", \"ArrivalTime\": 31312801.0, \"ServiceStartTime\": 31312801.0, \"DepartureTime\": 31314721.0}, {\"NodeId\": \"INTERCONSULTA\", \"ArrivalTime\": 31342621.0, \"ServiceStartTime\": 31342621.0, \"DepartureTime\": 31449781.0}, {\"NodeId\": \"RESPUESTA\", \"ArrivalTime\": 31496521.0, \"ServiceStartTime\": 31496521.0, \"DepartureTime\": 31528261.0}, {\"NodeId\": \"RX SOLICITUD\", \"ArrivalTime\": 31625851.0, \"ServiceStartTime\": 31625851.0, \"DepartureTime\": 31631011.0}, {\"NodeId\": \"RX EXPLORACION\", \"ArrivalTime\": 31631011.0, \"ServiceStartTime\": 31631011.0, \"DepartureTime\": 31707721.0}, {\"NodeId\": \"ALTA\", \"ArrivalTime\": 31756261.0, \"ServiceStartTime\": 31756261.0, \"DepartureTime\": 31756261.0}]}]}, \"ArrivalSamples\": {\"ArrivalTime\": []}, \"Resource_update\": {}}}\n",
            "{\"ResultTimeDistance\": 3600, \"ArrivalEstimate\": {\"ModelRelativePath\": \"src/main/resources/R/ratesEstimator/model.net\", \"ScaleFactor\": 21}, \"Nodes\": [{\"Mode\": \"arrival\", \"Id\": \"ADMISION\", \"Type\": 1.0, \"Distribution\": [{\"DistributionType\": {\"SamplesEstimation\": {\"Resolution\": 1000}}, \"Priority\": 0}], \"Resources\": 1}, {\"Mode\": \"service\", \"Id\": \"TRIAJE\", \"Type\": 2.0, \"Distribution\": [{\"DistributionType\": {\"SamplesEstimation\": {\"Resolution\": 1000}}, \"Priority\": 0}], \"Resources\": 1}, {\"Mode\": \"service\", \"Id\": \"ALTA\", \"Type\": 2.0, \"Distribution\": [{\"DistributionType\": {\"SamplesEstimation\": {\"Resolution\": 1000}}, \"Priority\": 0}], \"Resources\": 1}, {\"Mode\": \"service\", \"Id\": \"RX SOLICITUD\", \"Type\": 2.0, \"Distribution\": [{\"DistributionType\": {\"SamplesEstimation\": {\"Resolution\": 1000}}, \"Priority\": 0}], \"Resources\": 1}, {\"Mode\": \"service\", \"Id\": \"RX EXPLORACION\", \"Type\": 2.0, \"Distribution\": [{\"DistributionType\": {\"SamplesEstimation\": {\"Resolution\": 1000}}, \"Priority\": 0}], \"Resources\": 1}, {\"Mode\": \"service\", \"Id\": \"INTERCONSULTA\", \"Type\": 2.0, \"Distribution\": [{\"DistributionType\": {\"SamplesEstimation\": {\"Resolution\": 1000}}, \"Priority\": 0}], \"Resources\": 1}, {\"Mode\": \"service\", \"Id\": \"RESPUESTA\", \"Type\": 2.0, \"Distribution\": [{\"DistributionType\": {\"SamplesEstimation\": {\"Resolution\": 1000}}, \"Priority\": 0}], \"Resources\": 1}, {\"Mode\": \"service\", \"Id\": \"RX INFORME\", \"Type\": 2.0, \"Distribution\": [{\"DistributionType\": {\"SamplesEstimation\": {\"Resolution\": 1000}}, \"Priority\": 0}], \"Resources\": 1}], \"SinkId\": \"ALTA\"}\n"
          ],
          "name": "stdout"
        }
      ]
    },
    {
      "cell_type": "markdown",
      "metadata": {
        "id": "6dsizEFVivMC",
        "colab_type": "text"
      },
      "source": [
        "show results"
      ]
    },
    {
      "cell_type": "code",
      "metadata": {
        "id": "zWq5nRVViwmV",
        "colab_type": "code",
        "outputId": "a7574f58-fc89-46b8-c114-4313744f0623",
        "colab": {
          "base_uri": "https://localhost:8080/",
          "height": 459
        }
      },
      "source": [
        " \n",
        "print_stadistic_df(data_print)"
      ],
      "execution_count": 0,
      "outputs": [
        {
          "output_type": "stream",
          "text": [
            "Average\n",
            "CASE_ID\n",
            "173000537.0    133320.0\n",
            "173000664.0    182760.0\n",
            "173001251.0    196500.0\n",
            "173001252.0    136140.0\n",
            "173001423.0     73440.0\n",
            "173001735.0     40980.0\n",
            "173002388.0     70440.0\n",
            "173002514.0     82860.0\n",
            "173003720.0    182820.0\n",
            "173004020.0    149460.0\n",
            "dtype: float64\n",
            "Mean value of all the avergaes: 97816.8978057838\n",
            "Mean of the difference field:8395.120451339344\n",
            "Mean of the difference in the nodes\n",
            "ACTIVITY\n",
            "ADMISION            731.034929\n",
            "ALTA                  0.000000\n",
            "INTERCONSULTA     15454.174855\n",
            "RESPUESTA         15192.525683\n",
            "RX EXPLORACION    14745.835534\n",
            "RX INFORME        17041.738599\n",
            "RX SOLICITUD       5351.812467\n",
            "TRIAJE             6170.004933\n",
            "Name: Difference, dtype: float64\n"
          ],
          "name": "stdout"
        }
      ]
    },
    {
      "cell_type": "markdown",
      "metadata": {
        "id": "S0y9cvwcqPYF",
        "colab_type": "text"
      },
      "source": [
        "Resuldatos en java\n",
        "\n",
        "System mean time: 1366079.1817434644\n",
        "\n",
        "Nodes information\n",
        "\n",
        "admision : 751.2999621008252\n",
        "\n",
        "alta : NaN\n",
        "\n",
        "interconsulta : 17149.385429731417\n",
        "\n",
        "respuesta : 18381.68481728972\n",
        "\n",
        "rx exploracion : 2872877.790212897\n",
        "\n",
        "rx informe : 20739.763746284523\n",
        "\n",
        "rx solicitud : 6752.787258603854\n",
        "\n",
        "triaje : 8140.181706914992\n",
        "\n"
      ]
    },
    {
      "cell_type": "markdown",
      "metadata": {
        "id": "iM5ZP3C5_Ih1",
        "colab_type": "text"
      },
      "source": [
        "Resultados en java para 6000000\n",
        "System mean time: 2812592.4855426624\n",
        "\n",
        "Nodes information\n",
        "\n",
        "admision : 747.6296508757738\n",
        "\n",
        "alta : NaN\n",
        "\n",
        "interconsulta : 127743.2180718071\n",
        "\n",
        "respuesta : 38876.30844513437\n",
        "\n",
        "rx exploracion : 3103545.5167867243\n",
        "\n",
        "rx informe : 23135.821598840495\n",
        "\n",
        "rx solicitud : 32551.43550627584\n",
        "\n",
        "triaje : 2808823.3745929995"
      ]
    },
    {
      "cell_type": "markdown",
      "metadata": {
        "id": "r17lioVYkd6M",
        "colab_type": "text"
      },
      "source": [
        "## simulation_01\n",
        "percentage_path_min = 0.1 percentage_size_min = 0.1"
      ]
    },
    {
      "cell_type": "code",
      "metadata": {
        "id": "drAxhzQ9kclC",
        "colab_type": "code",
        "outputId": "6ee07c56-2613-4d52-f54b-84a68dac6f8a",
        "colab": {
          "base_uri": "https://localhost:8080/",
          "height": 51
        }
      },
      "source": [
        "percentage_path_min = 0.1\n",
        "percentage_size_min = 0.1\n",
        "data_print = launch_create_simulation_file(df_filter, percentage_path_min, percentage_size_min )\n"
      ],
      "execution_count": 0,
      "outputs": [
        {
          "output_type": "stream",
          "text": [
            "Number of inputs before filter: 511954\n",
            "Number of inputs after filter: 388811\n"
          ],
          "name": "stdout"
        }
      ]
    },
    {
      "cell_type": "code",
      "metadata": {
        "id": "hAiReicUkpHT",
        "colab_type": "code",
        "outputId": "55000783-2bc0-4397-c834-8259a9aab12f",
        "colab": {
          "base_uri": "https://localhost:8080/",
          "height": 71
        }
      },
      "source": [
        "(result_routes, result_cfg) = create_final_files(data_print, t_init, t_simulation, t_max_simulation, resolution, priority, resources)\n",
        "print(result_routes)\n",
        "print(result_cfg)"
      ],
      "execution_count": 0,
      "outputs": [
        {
          "output_type": "stream",
          "text": [
            "{\"InitialData\": {\"SimulationConfig\": {\"t_init\": 161476390, \"t_simulation\": 600000, \"t_max_simulation\": 600000}, \"Samples\": {\"User\": [{\"Priority\": 1, \"Step\": [{\"NodeId\": \"ADMISION\", \"ArrivalTime\": 15638288.739532927, \"ServiceStartTime\": 15638288.739532927, \"DepartureTime\": 15639064.870397644}, {\"NodeId\": \"TRIAJE\", \"ArrivalTime\": 15639064.870397644, \"ServiceStartTime\": 15639064.870397644, \"DepartureTime\": 15643021.853355775}, {\"NodeId\": \"RX SOLICITUD\", \"ArrivalTime\": 15643021.853355775, \"ServiceStartTime\": 15643021.853355775, \"DepartureTime\": 15646156.044813802}, {\"NodeId\": \"RX EXPLORACION\", \"ArrivalTime\": 15646156.044813802, \"ServiceStartTime\": 15646156.044813802, \"DepartureTime\": 15667871.37660425}, {\"NodeId\": \"ALTA\", \"ArrivalTime\": 15667871.37660425, \"ServiceStartTime\": 15667871.37660425, \"DepartureTime\": 15667871.37660425}]}, {\"Priority\": 1, \"Step\": [{\"NodeId\": \"ADMISION\", \"ArrivalTime\": 15638288.739532927, \"ServiceStartTime\": 15638288.739532927, \"DepartureTime\": 15639064.870397644}, {\"NodeId\": \"TRIAJE\", \"ArrivalTime\": 15639064.870397644, \"ServiceStartTime\": 15639064.870397644, \"DepartureTime\": 15643021.853355775}, {\"NodeId\": \"RX SOLICITUD\", \"ArrivalTime\": 15643021.853355775, \"ServiceStartTime\": 15643021.853355775, \"DepartureTime\": 15646156.044813802}, {\"NodeId\": \"RX EXPLORACION\", \"ArrivalTime\": 15646156.044813802, \"ServiceStartTime\": 15646156.044813802, \"DepartureTime\": 15667871.37660425}, {\"NodeId\": \"ALTA\", \"ArrivalTime\": 15667871.37660425, \"ServiceStartTime\": 15667871.37660425, \"DepartureTime\": 15667871.37660425}]}, {\"Priority\": 1, \"Step\": [{\"NodeId\": \"ADMISION\", \"ArrivalTime\": 15638288.739532927, \"ServiceStartTime\": 15638288.739532927, \"DepartureTime\": 15639064.870397644}, {\"NodeId\": \"TRIAJE\", \"ArrivalTime\": 15639064.870397644, \"ServiceStartTime\": 15639064.870397644, \"DepartureTime\": 15643021.853355775}, {\"NodeId\": \"RX SOLICITUD\", \"ArrivalTime\": 15643021.853355775, \"ServiceStartTime\": 15643021.853355775, \"DepartureTime\": 15646156.044813802}, {\"NodeId\": \"RX EXPLORACION\", \"ArrivalTime\": 15646156.044813802, \"ServiceStartTime\": 15646156.044813802, \"DepartureTime\": 15667871.37660425}, {\"NodeId\": \"ALTA\", \"ArrivalTime\": 15667871.37660425, \"ServiceStartTime\": 15667871.37660425, \"DepartureTime\": 15667871.37660425}]}, {\"Priority\": 1, \"Step\": [{\"NodeId\": \"ADMISION\", \"ArrivalTime\": 15638288.739532927, \"ServiceStartTime\": 15638288.739532927, \"DepartureTime\": 15639064.870397644}, {\"NodeId\": \"TRIAJE\", \"ArrivalTime\": 15639064.870397644, \"ServiceStartTime\": 15639064.870397644, \"DepartureTime\": 15643021.853355775}, {\"NodeId\": \"RX SOLICITUD\", \"ArrivalTime\": 15643021.853355775, \"ServiceStartTime\": 15643021.853355775, \"DepartureTime\": 15646156.044813802}, {\"NodeId\": \"RX EXPLORACION\", \"ArrivalTime\": 15646156.044813802, \"ServiceStartTime\": 15646156.044813802, \"DepartureTime\": 15667871.37660425}, {\"NodeId\": \"ALTA\", \"ArrivalTime\": 15667871.37660425, \"ServiceStartTime\": 15667871.37660425, \"DepartureTime\": 15667871.37660425}]}, {\"Priority\": 1, \"Step\": [{\"NodeId\": \"ADMISION\", \"ArrivalTime\": 15638288.739532927, \"ServiceStartTime\": 15638288.739532927, \"DepartureTime\": 15639064.870397644}, {\"NodeId\": \"TRIAJE\", \"ArrivalTime\": 15639064.870397644, \"ServiceStartTime\": 15639064.870397644, \"DepartureTime\": 15643021.853355775}, {\"NodeId\": \"RX SOLICITUD\", \"ArrivalTime\": 15643021.853355775, \"ServiceStartTime\": 15643021.853355775, \"DepartureTime\": 15646156.044813802}, {\"NodeId\": \"RX EXPLORACION\", \"ArrivalTime\": 15646156.044813802, \"ServiceStartTime\": 15646156.044813802, \"DepartureTime\": 15667871.37660425}, {\"NodeId\": \"ALTA\", \"ArrivalTime\": 15667871.37660425, \"ServiceStartTime\": 15667871.37660425, \"DepartureTime\": 15667871.37660425}]}, {\"Priority\": 1, \"Step\": [{\"NodeId\": \"ADMISION\", \"ArrivalTime\": 15638288.739532927, \"ServiceStartTime\": 15638288.739532927, \"DepartureTime\": 15639064.870397644}, {\"NodeId\": \"TRIAJE\", \"ArrivalTime\": 15639064.870397644, \"ServiceStartTime\": 15639064.870397644, \"DepartureTime\": 15643021.853355775}, {\"NodeId\": \"RX SOLICITUD\", \"ArrivalTime\": 15643021.853355775, \"ServiceStartTime\": 15643021.853355775, \"DepartureTime\": 15646156.044813802}, {\"NodeId\": \"RX EXPLORACION\", \"ArrivalTime\": 15646156.044813802, \"ServiceStartTime\": 15646156.044813802, \"DepartureTime\": 15667871.37660425}, {\"NodeId\": \"ALTA\", \"ArrivalTime\": 15667871.37660425, \"ServiceStartTime\": 15667871.37660425, \"DepartureTime\": 15667871.37660425}]}, {\"Priority\": 1, \"Step\": [{\"NodeId\": \"ADMISION\", \"ArrivalTime\": 15638288.739532927, \"ServiceStartTime\": 15638288.739532927, \"DepartureTime\": 15639064.870397644}, {\"NodeId\": \"TRIAJE\", \"ArrivalTime\": 15639064.870397644, \"ServiceStartTime\": 15639064.870397644, \"DepartureTime\": 15643021.853355775}, {\"NodeId\": \"RX SOLICITUD\", \"ArrivalTime\": 15643021.853355775, \"ServiceStartTime\": 15643021.853355775, \"DepartureTime\": 15646156.044813802}, {\"NodeId\": \"RX EXPLORACION\", \"ArrivalTime\": 15646156.044813802, \"ServiceStartTime\": 15646156.044813802, \"DepartureTime\": 15667871.37660425}, {\"NodeId\": \"ALTA\", \"ArrivalTime\": 15667871.37660425, \"ServiceStartTime\": 15667871.37660425, \"DepartureTime\": 15667871.37660425}]}, {\"Priority\": 1, \"Step\": [{\"NodeId\": \"ADMISION\", \"ArrivalTime\": 15638288.739532927, \"ServiceStartTime\": 15638288.739532927, \"DepartureTime\": 15639064.870397644}, {\"NodeId\": \"TRIAJE\", \"ArrivalTime\": 15639064.870397644, \"ServiceStartTime\": 15639064.870397644, \"DepartureTime\": 15643021.853355775}, {\"NodeId\": \"RX SOLICITUD\", \"ArrivalTime\": 15643021.853355775, \"ServiceStartTime\": 15643021.853355775, \"DepartureTime\": 15646156.044813802}, {\"NodeId\": \"RX EXPLORACION\", \"ArrivalTime\": 15646156.044813802, \"ServiceStartTime\": 15646156.044813802, \"DepartureTime\": 15667871.37660425}, {\"NodeId\": \"ALTA\", \"ArrivalTime\": 15667871.37660425, \"ServiceStartTime\": 15667871.37660425, \"DepartureTime\": 15667871.37660425}]}, {\"Priority\": 1, \"Step\": [{\"NodeId\": \"ADMISION\", \"ArrivalTime\": 15638288.739532927, \"ServiceStartTime\": 15638288.739532927, \"DepartureTime\": 15639064.870397644}, {\"NodeId\": \"TRIAJE\", \"ArrivalTime\": 15639064.870397644, \"ServiceStartTime\": 15639064.870397644, \"DepartureTime\": 15643021.853355775}, {\"NodeId\": \"RX SOLICITUD\", \"ArrivalTime\": 15643021.853355775, \"ServiceStartTime\": 15643021.853355775, \"DepartureTime\": 15646156.044813802}, {\"NodeId\": \"RX EXPLORACION\", \"ArrivalTime\": 15646156.044813802, \"ServiceStartTime\": 15646156.044813802, \"DepartureTime\": 15667871.37660425}, {\"NodeId\": \"ALTA\", \"ArrivalTime\": 15667871.37660425, \"ServiceStartTime\": 15667871.37660425, \"DepartureTime\": 15667871.37660425}]}, {\"Priority\": 1, \"Step\": [{\"NodeId\": \"ADMISION\", \"ArrivalTime\": 15638288.739532927, \"ServiceStartTime\": 15638288.739532927, \"DepartureTime\": 15639064.870397644}, {\"NodeId\": \"TRIAJE\", \"ArrivalTime\": 15639064.870397644, \"ServiceStartTime\": 15639064.870397644, \"DepartureTime\": 15643021.853355775}, {\"NodeId\": \"RX SOLICITUD\", \"ArrivalTime\": 15643021.853355775, \"ServiceStartTime\": 15643021.853355775, \"DepartureTime\": 15646156.044813802}, {\"NodeId\": \"RX EXPLORACION\", \"ArrivalTime\": 15646156.044813802, \"ServiceStartTime\": 15646156.044813802, \"DepartureTime\": 15667871.37660425}, {\"NodeId\": \"ALTA\", \"ArrivalTime\": 15667871.37660425, \"ServiceStartTime\": 15667871.37660425, \"DepartureTime\": 15667871.37660425}]}, {\"Priority\": 1, \"Step\": [{\"NodeId\": \"ADMISION\", \"ArrivalTime\": 15947824.48661361, \"ServiceStartTime\": 15947824.48661361, \"DepartureTime\": 15948591.846448489}, {\"NodeId\": \"TRIAJE\", \"ArrivalTime\": 15948591.846448489, \"ServiceStartTime\": 15948591.846448489, \"DepartureTime\": 15966245.108202513}, {\"NodeId\": \"ALTA\", \"ArrivalTime\": 15966245.108202513, \"ServiceStartTime\": 15966245.108202513, \"DepartureTime\": 15966245.108202513}]}, {\"Priority\": 1, \"Step\": [{\"NodeId\": \"ADMISION\", \"ArrivalTime\": 15947824.48661361, \"ServiceStartTime\": 15947824.48661361, \"DepartureTime\": 15948591.846448489}, {\"NodeId\": \"TRIAJE\", \"ArrivalTime\": 15948591.846448489, \"ServiceStartTime\": 15948591.846448489, \"DepartureTime\": 15966245.108202513}, {\"NodeId\": \"ALTA\", \"ArrivalTime\": 15966245.108202513, \"ServiceStartTime\": 15966245.108202513, \"DepartureTime\": 15966245.108202513}]}, {\"Priority\": 1, \"Step\": [{\"NodeId\": \"ADMISION\", \"ArrivalTime\": 15947824.48661361, \"ServiceStartTime\": 15947824.48661361, \"DepartureTime\": 15948591.846448489}, {\"NodeId\": \"TRIAJE\", \"ArrivalTime\": 15948591.846448489, \"ServiceStartTime\": 15948591.846448489, \"DepartureTime\": 15966245.108202513}, {\"NodeId\": \"ALTA\", \"ArrivalTime\": 15966245.108202513, \"ServiceStartTime\": 15966245.108202513, \"DepartureTime\": 15966245.108202513}]}, {\"Priority\": 1, \"Step\": [{\"NodeId\": \"ADMISION\", \"ArrivalTime\": 15947824.48661361, \"ServiceStartTime\": 15947824.48661361, \"DepartureTime\": 15948591.846448489}, {\"NodeId\": \"TRIAJE\", \"ArrivalTime\": 15948591.846448489, \"ServiceStartTime\": 15948591.846448489, \"DepartureTime\": 15966245.108202513}, {\"NodeId\": \"ALTA\", \"ArrivalTime\": 15966245.108202513, \"ServiceStartTime\": 15966245.108202513, \"DepartureTime\": 15966245.108202513}]}, {\"Priority\": 1, \"Step\": [{\"NodeId\": \"ADMISION\", \"ArrivalTime\": 15947824.48661361, \"ServiceStartTime\": 15947824.48661361, \"DepartureTime\": 15948591.846448489}, {\"NodeId\": \"TRIAJE\", \"ArrivalTime\": 15948591.846448489, \"ServiceStartTime\": 15948591.846448489, \"DepartureTime\": 15966245.108202513}, {\"NodeId\": \"ALTA\", \"ArrivalTime\": 15966245.108202513, \"ServiceStartTime\": 15966245.108202513, \"DepartureTime\": 15966245.108202513}]}, {\"Priority\": 1, \"Step\": [{\"NodeId\": \"ADMISION\", \"ArrivalTime\": 15947824.48661361, \"ServiceStartTime\": 15947824.48661361, \"DepartureTime\": 15948591.846448489}, {\"NodeId\": \"TRIAJE\", \"ArrivalTime\": 15948591.846448489, \"ServiceStartTime\": 15948591.846448489, \"DepartureTime\": 15966245.108202513}, {\"NodeId\": \"ALTA\", \"ArrivalTime\": 15966245.108202513, \"ServiceStartTime\": 15966245.108202513, \"DepartureTime\": 15966245.108202513}]}, {\"Priority\": 1, \"Step\": [{\"NodeId\": \"ADMISION\", \"ArrivalTime\": 15947824.48661361, \"ServiceStartTime\": 15947824.48661361, \"DepartureTime\": 15948591.846448489}, {\"NodeId\": \"TRIAJE\", \"ArrivalTime\": 15948591.846448489, \"ServiceStartTime\": 15948591.846448489, \"DepartureTime\": 15966245.108202513}, {\"NodeId\": \"ALTA\", \"ArrivalTime\": 15966245.108202513, \"ServiceStartTime\": 15966245.108202513, \"DepartureTime\": 15966245.108202513}]}, {\"Priority\": 1, \"Step\": [{\"NodeId\": \"ADMISION\", \"ArrivalTime\": 15947824.48661361, \"ServiceStartTime\": 15947824.48661361, \"DepartureTime\": 15948591.846448489}, {\"NodeId\": \"TRIAJE\", \"ArrivalTime\": 15948591.846448489, \"ServiceStartTime\": 15948591.846448489, \"DepartureTime\": 15966245.108202513}, {\"NodeId\": \"ALTA\", \"ArrivalTime\": 15966245.108202513, \"ServiceStartTime\": 15966245.108202513, \"DepartureTime\": 15966245.108202513}]}, {\"Priority\": 1, \"Step\": [{\"NodeId\": \"ADMISION\", \"ArrivalTime\": 15947824.48661361, \"ServiceStartTime\": 15947824.48661361, \"DepartureTime\": 15948591.846448489}, {\"NodeId\": \"TRIAJE\", \"ArrivalTime\": 15948591.846448489, \"ServiceStartTime\": 15948591.846448489, \"DepartureTime\": 15966245.108202513}, {\"NodeId\": \"ALTA\", \"ArrivalTime\": 15966245.108202513, \"ServiceStartTime\": 15966245.108202513, \"DepartureTime\": 15966245.108202513}]}, {\"Priority\": 1, \"Step\": [{\"NodeId\": \"ADMISION\", \"ArrivalTime\": 15947824.48661361, \"ServiceStartTime\": 15947824.48661361, \"DepartureTime\": 15948591.846448489}, {\"NodeId\": \"TRIAJE\", \"ArrivalTime\": 15948591.846448489, \"ServiceStartTime\": 15948591.846448489, \"DepartureTime\": 15966245.108202513}, {\"NodeId\": \"ALTA\", \"ArrivalTime\": 15966245.108202513, \"ServiceStartTime\": 15966245.108202513, \"DepartureTime\": 15966245.108202513}]}]}, \"ArrivalSamples\": {\"ArrivalTime\": []}, \"Resource_update\": {}}}\n",
            "{\"ResultTimeDistance\": 3600, \"ArrivalEstimate\": {\"ModelRelativePath\": \"src/main/resources/R/ratesEstimator/model.net\", \"ScaleFactor\": 21}, \"Nodes\": [{\"Mode\": \"arrival\", \"Id\": \"ADMISION\", \"Type\": 1.0, \"Distribution\": [{\"DistributionType\": {\"SamplesEstimation\": {\"Resolution\": 1000}}, \"Priority\": 0}], \"Resources\": 1}, {\"Mode\": \"service\", \"Id\": \"TRIAJE\", \"Type\": 2.0, \"Distribution\": [{\"DistributionType\": {\"SamplesEstimation\": {\"Resolution\": 1000}}, \"Priority\": 0}], \"Resources\": 1}, {\"Mode\": \"service\", \"Id\": \"ALTA\", \"Type\": 2.0, \"Distribution\": [{\"DistributionType\": {\"SamplesEstimation\": {\"Resolution\": 1000}}, \"Priority\": 0}], \"Resources\": 1}, {\"Mode\": \"service\", \"Id\": \"RX SOLICITUD\", \"Type\": 2.0, \"Distribution\": [{\"DistributionType\": {\"SamplesEstimation\": {\"Resolution\": 1000}}, \"Priority\": 0}], \"Resources\": 1}, {\"Mode\": \"service\", \"Id\": \"RX EXPLORACION\", \"Type\": 2.0, \"Distribution\": [{\"DistributionType\": {\"SamplesEstimation\": {\"Resolution\": 1000}}, \"Priority\": 0}], \"Resources\": 1}], \"SinkId\": \"ALTA\"}\n"
          ],
          "name": "stdout"
        }
      ]
    },
    {
      "cell_type": "code",
      "metadata": {
        "id": "0TsKI6dDkrzD",
        "colab_type": "code",
        "outputId": "144c8014-1fdc-4622-9440-a48e45d5e511",
        "colab": {
          "base_uri": "https://localhost:8080/",
          "height": 272
        }
      },
      "source": [
        " print_stadistic_df(data_print)"
      ],
      "execution_count": 0,
      "outputs": [
        {
          "output_type": "stream",
          "text": [
            "Average\n",
            "CASE_ID\n",
            "1.730890e+08    29582.637071\n",
            "1.730907e+08    18420.621589\n",
            "dtype: float64\n",
            "Mean value of all the avergaes: 24001.6293301126\n",
            "Mean of the difference field:6000.40733252816\n",
            "Mean of the difference in the nodes\n",
            "ACTIVITY\n",
            "ADMISION            771.745350\n",
            "ALTA                  0.000000\n",
            "RX EXPLORACION    21715.331790\n",
            "RX SOLICITUD       3134.191458\n",
            "TRIAJE            10805.122356\n",
            "Name: Difference, dtype: float64\n"
          ],
          "name": "stdout"
        }
      ]
    },
    {
      "cell_type": "markdown",
      "metadata": {
        "id": "KduzQTgkpp74",
        "colab_type": "text"
      },
      "source": [
        "System mean time: 23530.00499502096\n",
        "\n",
        "Nodes information\n",
        "\n",
        "admision : 772.0696063153301\n",
        "\n",
        "alta : NaN\n",
        "\n",
        "rx exploracion : 21715.0\n",
        "\n",
        "rx solicitud : 3134.0\n",
        "\n",
        "triaje : 11856.271107059732"
      ]
    },
    {
      "cell_type": "markdown",
      "metadata": {
        "id": "8gj8g5WjkusT",
        "colab_type": "text"
      },
      "source": [
        "## simulation_0.05\n",
        "percentage_path_min = 0.05 percentage_size_min = 0.05"
      ]
    },
    {
      "cell_type": "code",
      "metadata": {
        "id": "KNJ-MnNVkxQw",
        "colab_type": "code",
        "outputId": "d70c587c-1151-4a92-d3fd-e6f83a31bfdb",
        "colab": {
          "base_uri": "https://localhost:8080/",
          "height": 51
        }
      },
      "source": [
        "percentage_path_min = 0.05\n",
        "percentage_size_min = 0.05\n",
        "data_print = launch_create_simulation_file(df_filter, percentage_path_min, percentage_size_min )"
      ],
      "execution_count": 0,
      "outputs": [
        {
          "output_type": "stream",
          "text": [
            "Number of inputs before filter: 511954\n",
            "Number of inputs after filter: 430817\n"
          ],
          "name": "stdout"
        }
      ]
    },
    {
      "cell_type": "code",
      "metadata": {
        "id": "7vj-0lJ-k1Mr",
        "colab_type": "code",
        "outputId": "35f5e30e-a698-4424-e9d3-882d3d25ac9e",
        "colab": {
          "base_uri": "https://localhost:8080/",
          "height": 71
        }
      },
      "source": [
        "(result_routes, result_cfg) = create_final_files(data_print, t_init, t_simulation, t_max_simulation, resolution, priority, resources)\n",
        "print(result_routes)\n",
        "print(result_cfg)"
      ],
      "execution_count": 0,
      "outputs": [
        {
          "output_type": "stream",
          "text": [
            "{\"InitialData\": {\"SimulationConfig\": {\"t_init\": 161476390, \"t_simulation\": 600000, \"t_max_simulation\": 600000}, \"Samples\": {\"User\": [{\"Priority\": 1, \"Step\": [{\"NodeId\": \"ADMISION\", \"ArrivalTime\": 15638288.739532927, \"ServiceStartTime\": 15638288.739532927, \"DepartureTime\": 15639064.870397644}, {\"NodeId\": \"TRIAJE\", \"ArrivalTime\": 15639064.870397644, \"ServiceStartTime\": 15639064.870397644, \"DepartureTime\": 15643021.853355775}, {\"NodeId\": \"RX SOLICITUD\", \"ArrivalTime\": 15643021.853355775, \"ServiceStartTime\": 15643021.853355775, \"DepartureTime\": 15646156.044813802}, {\"NodeId\": \"RX EXPLORACION\", \"ArrivalTime\": 15646156.044813802, \"ServiceStartTime\": 15646156.044813802, \"DepartureTime\": 15667871.37660425}, {\"NodeId\": \"ALTA\", \"ArrivalTime\": 15667871.37660425, \"ServiceStartTime\": 15667871.37660425, \"DepartureTime\": 15667871.37660425}]}, {\"Priority\": 1, \"Step\": [{\"NodeId\": \"ADMISION\", \"ArrivalTime\": 15638288.739532927, \"ServiceStartTime\": 15638288.739532927, \"DepartureTime\": 15639064.870397644}, {\"NodeId\": \"TRIAJE\", \"ArrivalTime\": 15639064.870397644, \"ServiceStartTime\": 15639064.870397644, \"DepartureTime\": 15643021.853355775}, {\"NodeId\": \"RX SOLICITUD\", \"ArrivalTime\": 15643021.853355775, \"ServiceStartTime\": 15643021.853355775, \"DepartureTime\": 15646156.044813802}, {\"NodeId\": \"RX EXPLORACION\", \"ArrivalTime\": 15646156.044813802, \"ServiceStartTime\": 15646156.044813802, \"DepartureTime\": 15667871.37660425}, {\"NodeId\": \"ALTA\", \"ArrivalTime\": 15667871.37660425, \"ServiceStartTime\": 15667871.37660425, \"DepartureTime\": 15667871.37660425}]}, {\"Priority\": 1, \"Step\": [{\"NodeId\": \"ADMISION\", \"ArrivalTime\": 15638288.739532927, \"ServiceStartTime\": 15638288.739532927, \"DepartureTime\": 15639064.870397644}, {\"NodeId\": \"TRIAJE\", \"ArrivalTime\": 15639064.870397644, \"ServiceStartTime\": 15639064.870397644, \"DepartureTime\": 15643021.853355775}, {\"NodeId\": \"RX SOLICITUD\", \"ArrivalTime\": 15643021.853355775, \"ServiceStartTime\": 15643021.853355775, \"DepartureTime\": 15646156.044813802}, {\"NodeId\": \"RX EXPLORACION\", \"ArrivalTime\": 15646156.044813802, \"ServiceStartTime\": 15646156.044813802, \"DepartureTime\": 15667871.37660425}, {\"NodeId\": \"ALTA\", \"ArrivalTime\": 15667871.37660425, \"ServiceStartTime\": 15667871.37660425, \"DepartureTime\": 15667871.37660425}]}, {\"Priority\": 1, \"Step\": [{\"NodeId\": \"ADMISION\", \"ArrivalTime\": 15638288.739532927, \"ServiceStartTime\": 15638288.739532927, \"DepartureTime\": 15639064.870397644}, {\"NodeId\": \"TRIAJE\", \"ArrivalTime\": 15639064.870397644, \"ServiceStartTime\": 15639064.870397644, \"DepartureTime\": 15643021.853355775}, {\"NodeId\": \"RX SOLICITUD\", \"ArrivalTime\": 15643021.853355775, \"ServiceStartTime\": 15643021.853355775, \"DepartureTime\": 15646156.044813802}, {\"NodeId\": \"RX EXPLORACION\", \"ArrivalTime\": 15646156.044813802, \"ServiceStartTime\": 15646156.044813802, \"DepartureTime\": 15667871.37660425}, {\"NodeId\": \"ALTA\", \"ArrivalTime\": 15667871.37660425, \"ServiceStartTime\": 15667871.37660425, \"DepartureTime\": 15667871.37660425}]}, {\"Priority\": 1, \"Step\": [{\"NodeId\": \"ADMISION\", \"ArrivalTime\": 15638288.739532927, \"ServiceStartTime\": 15638288.739532927, \"DepartureTime\": 15639064.870397644}, {\"NodeId\": \"TRIAJE\", \"ArrivalTime\": 15639064.870397644, \"ServiceStartTime\": 15639064.870397644, \"DepartureTime\": 15643021.853355775}, {\"NodeId\": \"RX SOLICITUD\", \"ArrivalTime\": 15643021.853355775, \"ServiceStartTime\": 15643021.853355775, \"DepartureTime\": 15646156.044813802}, {\"NodeId\": \"RX EXPLORACION\", \"ArrivalTime\": 15646156.044813802, \"ServiceStartTime\": 15646156.044813802, \"DepartureTime\": 15667871.37660425}, {\"NodeId\": \"ALTA\", \"ArrivalTime\": 15667871.37660425, \"ServiceStartTime\": 15667871.37660425, \"DepartureTime\": 15667871.37660425}]}, {\"Priority\": 1, \"Step\": [{\"NodeId\": \"ADMISION\", \"ArrivalTime\": 15638288.739532927, \"ServiceStartTime\": 15638288.739532927, \"DepartureTime\": 15639064.870397644}, {\"NodeId\": \"TRIAJE\", \"ArrivalTime\": 15639064.870397644, \"ServiceStartTime\": 15639064.870397644, \"DepartureTime\": 15643021.853355775}, {\"NodeId\": \"RX SOLICITUD\", \"ArrivalTime\": 15643021.853355775, \"ServiceStartTime\": 15643021.853355775, \"DepartureTime\": 15646156.044813802}, {\"NodeId\": \"RX EXPLORACION\", \"ArrivalTime\": 15646156.044813802, \"ServiceStartTime\": 15646156.044813802, \"DepartureTime\": 15667871.37660425}, {\"NodeId\": \"ALTA\", \"ArrivalTime\": 15667871.37660425, \"ServiceStartTime\": 15667871.37660425, \"DepartureTime\": 15667871.37660425}]}, {\"Priority\": 1, \"Step\": [{\"NodeId\": \"ADMISION\", \"ArrivalTime\": 15638288.739532927, \"ServiceStartTime\": 15638288.739532927, \"DepartureTime\": 15639064.870397644}, {\"NodeId\": \"TRIAJE\", \"ArrivalTime\": 15639064.870397644, \"ServiceStartTime\": 15639064.870397644, \"DepartureTime\": 15643021.853355775}, {\"NodeId\": \"RX SOLICITUD\", \"ArrivalTime\": 15643021.853355775, \"ServiceStartTime\": 15643021.853355775, \"DepartureTime\": 15646156.044813802}, {\"NodeId\": \"RX EXPLORACION\", \"ArrivalTime\": 15646156.044813802, \"ServiceStartTime\": 15646156.044813802, \"DepartureTime\": 15667871.37660425}, {\"NodeId\": \"ALTA\", \"ArrivalTime\": 15667871.37660425, \"ServiceStartTime\": 15667871.37660425, \"DepartureTime\": 15667871.37660425}]}, {\"Priority\": 1, \"Step\": [{\"NodeId\": \"ADMISION\", \"ArrivalTime\": 15638288.739532927, \"ServiceStartTime\": 15638288.739532927, \"DepartureTime\": 15639064.870397644}, {\"NodeId\": \"TRIAJE\", \"ArrivalTime\": 15639064.870397644, \"ServiceStartTime\": 15639064.870397644, \"DepartureTime\": 15643021.853355775}, {\"NodeId\": \"RX SOLICITUD\", \"ArrivalTime\": 15643021.853355775, \"ServiceStartTime\": 15643021.853355775, \"DepartureTime\": 15646156.044813802}, {\"NodeId\": \"RX EXPLORACION\", \"ArrivalTime\": 15646156.044813802, \"ServiceStartTime\": 15646156.044813802, \"DepartureTime\": 15667871.37660425}, {\"NodeId\": \"ALTA\", \"ArrivalTime\": 15667871.37660425, \"ServiceStartTime\": 15667871.37660425, \"DepartureTime\": 15667871.37660425}]}, {\"Priority\": 1, \"Step\": [{\"NodeId\": \"ADMISION\", \"ArrivalTime\": 15638288.739532927, \"ServiceStartTime\": 15638288.739532927, \"DepartureTime\": 15639064.870397644}, {\"NodeId\": \"TRIAJE\", \"ArrivalTime\": 15639064.870397644, \"ServiceStartTime\": 15639064.870397644, \"DepartureTime\": 15643021.853355775}, {\"NodeId\": \"RX SOLICITUD\", \"ArrivalTime\": 15643021.853355775, \"ServiceStartTime\": 15643021.853355775, \"DepartureTime\": 15646156.044813802}, {\"NodeId\": \"RX EXPLORACION\", \"ArrivalTime\": 15646156.044813802, \"ServiceStartTime\": 15646156.044813802, \"DepartureTime\": 15667871.37660425}, {\"NodeId\": \"ALTA\", \"ArrivalTime\": 15667871.37660425, \"ServiceStartTime\": 15667871.37660425, \"DepartureTime\": 15667871.37660425}]}, {\"Priority\": 1, \"Step\": [{\"NodeId\": \"ADMISION\", \"ArrivalTime\": 15638288.739532927, \"ServiceStartTime\": 15638288.739532927, \"DepartureTime\": 15639064.870397644}, {\"NodeId\": \"TRIAJE\", \"ArrivalTime\": 15639064.870397644, \"ServiceStartTime\": 15639064.870397644, \"DepartureTime\": 15643021.853355775}, {\"NodeId\": \"RX SOLICITUD\", \"ArrivalTime\": 15643021.853355775, \"ServiceStartTime\": 15643021.853355775, \"DepartureTime\": 15646156.044813802}, {\"NodeId\": \"RX EXPLORACION\", \"ArrivalTime\": 15646156.044813802, \"ServiceStartTime\": 15646156.044813802, \"DepartureTime\": 15667871.37660425}, {\"NodeId\": \"ALTA\", \"ArrivalTime\": 15667871.37660425, \"ServiceStartTime\": 15667871.37660425, \"DepartureTime\": 15667871.37660425}]}, {\"Priority\": 1, \"Step\": [{\"NodeId\": \"ADMISION\", \"ArrivalTime\": 15947824.48661361, \"ServiceStartTime\": 15947824.48661361, \"DepartureTime\": 15948591.846448489}, {\"NodeId\": \"TRIAJE\", \"ArrivalTime\": 15948591.846448489, \"ServiceStartTime\": 15948591.846448489, \"DepartureTime\": 15966245.108202513}, {\"NodeId\": \"ALTA\", \"ArrivalTime\": 15966245.108202513, \"ServiceStartTime\": 15966245.108202513, \"DepartureTime\": 15966245.108202513}]}, {\"Priority\": 1, \"Step\": [{\"NodeId\": \"ADMISION\", \"ArrivalTime\": 15947824.48661361, \"ServiceStartTime\": 15947824.48661361, \"DepartureTime\": 15948591.846448489}, {\"NodeId\": \"TRIAJE\", \"ArrivalTime\": 15948591.846448489, \"ServiceStartTime\": 15948591.846448489, \"DepartureTime\": 15966245.108202513}, {\"NodeId\": \"ALTA\", \"ArrivalTime\": 15966245.108202513, \"ServiceStartTime\": 15966245.108202513, \"DepartureTime\": 15966245.108202513}]}, {\"Priority\": 1, \"Step\": [{\"NodeId\": \"ADMISION\", \"ArrivalTime\": 15947824.48661361, \"ServiceStartTime\": 15947824.48661361, \"DepartureTime\": 15948591.846448489}, {\"NodeId\": \"TRIAJE\", \"ArrivalTime\": 15948591.846448489, \"ServiceStartTime\": 15948591.846448489, \"DepartureTime\": 15966245.108202513}, {\"NodeId\": \"ALTA\", \"ArrivalTime\": 15966245.108202513, \"ServiceStartTime\": 15966245.108202513, \"DepartureTime\": 15966245.108202513}]}, {\"Priority\": 1, \"Step\": [{\"NodeId\": \"ADMISION\", \"ArrivalTime\": 15947824.48661361, \"ServiceStartTime\": 15947824.48661361, \"DepartureTime\": 15948591.846448489}, {\"NodeId\": \"TRIAJE\", \"ArrivalTime\": 15948591.846448489, \"ServiceStartTime\": 15948591.846448489, \"DepartureTime\": 15966245.108202513}, {\"NodeId\": \"ALTA\", \"ArrivalTime\": 15966245.108202513, \"ServiceStartTime\": 15966245.108202513, \"DepartureTime\": 15966245.108202513}]}, {\"Priority\": 1, \"Step\": [{\"NodeId\": \"ADMISION\", \"ArrivalTime\": 15947824.48661361, \"ServiceStartTime\": 15947824.48661361, \"DepartureTime\": 15948591.846448489}, {\"NodeId\": \"TRIAJE\", \"ArrivalTime\": 15948591.846448489, \"ServiceStartTime\": 15948591.846448489, \"DepartureTime\": 15966245.108202513}, {\"NodeId\": \"ALTA\", \"ArrivalTime\": 15966245.108202513, \"ServiceStartTime\": 15966245.108202513, \"DepartureTime\": 15966245.108202513}]}, {\"Priority\": 1, \"Step\": [{\"NodeId\": \"ADMISION\", \"ArrivalTime\": 15947824.48661361, \"ServiceStartTime\": 15947824.48661361, \"DepartureTime\": 15948591.846448489}, {\"NodeId\": \"TRIAJE\", \"ArrivalTime\": 15948591.846448489, \"ServiceStartTime\": 15948591.846448489, \"DepartureTime\": 15966245.108202513}, {\"NodeId\": \"ALTA\", \"ArrivalTime\": 15966245.108202513, \"ServiceStartTime\": 15966245.108202513, \"DepartureTime\": 15966245.108202513}]}, {\"Priority\": 1, \"Step\": [{\"NodeId\": \"ADMISION\", \"ArrivalTime\": 15947824.48661361, \"ServiceStartTime\": 15947824.48661361, \"DepartureTime\": 15948591.846448489}, {\"NodeId\": \"TRIAJE\", \"ArrivalTime\": 15948591.846448489, \"ServiceStartTime\": 15948591.846448489, \"DepartureTime\": 15966245.108202513}, {\"NodeId\": \"ALTA\", \"ArrivalTime\": 15966245.108202513, \"ServiceStartTime\": 15966245.108202513, \"DepartureTime\": 15966245.108202513}]}, {\"Priority\": 1, \"Step\": [{\"NodeId\": \"ADMISION\", \"ArrivalTime\": 15947824.48661361, \"ServiceStartTime\": 15947824.48661361, \"DepartureTime\": 15948591.846448489}, {\"NodeId\": \"TRIAJE\", \"ArrivalTime\": 15948591.846448489, \"ServiceStartTime\": 15948591.846448489, \"DepartureTime\": 15966245.108202513}, {\"NodeId\": \"ALTA\", \"ArrivalTime\": 15966245.108202513, \"ServiceStartTime\": 15966245.108202513, \"DepartureTime\": 15966245.108202513}]}, {\"Priority\": 1, \"Step\": [{\"NodeId\": \"ADMISION\", \"ArrivalTime\": 15947824.48661361, \"ServiceStartTime\": 15947824.48661361, \"DepartureTime\": 15948591.846448489}, {\"NodeId\": \"TRIAJE\", \"ArrivalTime\": 15948591.846448489, \"ServiceStartTime\": 15948591.846448489, \"DepartureTime\": 15966245.108202513}, {\"NodeId\": \"ALTA\", \"ArrivalTime\": 15966245.108202513, \"ServiceStartTime\": 15966245.108202513, \"DepartureTime\": 15966245.108202513}]}, {\"Priority\": 1, \"Step\": [{\"NodeId\": \"ADMISION\", \"ArrivalTime\": 15947824.48661361, \"ServiceStartTime\": 15947824.48661361, \"DepartureTime\": 15948591.846448489}, {\"NodeId\": \"TRIAJE\", \"ArrivalTime\": 15948591.846448489, \"ServiceStartTime\": 15948591.846448489, \"DepartureTime\": 15966245.108202513}, {\"NodeId\": \"ALTA\", \"ArrivalTime\": 15966245.108202513, \"ServiceStartTime\": 15966245.108202513, \"DepartureTime\": 15966245.108202513}]}, {\"Priority\": 1, \"Step\": [{\"NodeId\": \"ADMISION\", \"ArrivalTime\": 15981519.300242823, \"ServiceStartTime\": 15981519.300242823, \"DepartureTime\": 15982302.882588202}, {\"NodeId\": \"TRIAJE\", \"ArrivalTime\": 15982302.882588202, \"ServiceStartTime\": 15982302.882588202, \"DepartureTime\": 15988681.137123268}, {\"NodeId\": \"RX SOLICITUD\", \"ArrivalTime\": 15988681.137123268, \"ServiceStartTime\": 15988681.137123268, \"DepartureTime\": 15993179.988715898}, {\"NodeId\": \"RX EXPLORACION\", \"ArrivalTime\": 15993179.988715898, \"ServiceStartTime\": 15993179.988715898, \"DepartureTime\": 15998359.357377518}, {\"NodeId\": \"RX INFORME\", \"ArrivalTime\": 15998359.357377518, \"ServiceStartTime\": 15998359.357377518, \"DepartureTime\": 16017998.00614198}, {\"NodeId\": \"ALTA\", \"ArrivalTime\": 16017998.00614198, \"ServiceStartTime\": 16017998.00614198, \"DepartureTime\": 16017998.00614198}]}, {\"Priority\": 1, \"Step\": [{\"NodeId\": \"ADMISION\", \"ArrivalTime\": 15981519.300242823, \"ServiceStartTime\": 15981519.300242823, \"DepartureTime\": 15982302.882588202}, {\"NodeId\": \"TRIAJE\", \"ArrivalTime\": 15982302.882588202, \"ServiceStartTime\": 15982302.882588202, \"DepartureTime\": 15988681.137123268}, {\"NodeId\": \"RX SOLICITUD\", \"ArrivalTime\": 15988681.137123268, \"ServiceStartTime\": 15988681.137123268, \"DepartureTime\": 15993179.988715898}, {\"NodeId\": \"RX EXPLORACION\", \"ArrivalTime\": 15993179.988715898, \"ServiceStartTime\": 15993179.988715898, \"DepartureTime\": 15998359.357377518}, {\"NodeId\": \"RX INFORME\", \"ArrivalTime\": 15998359.357377518, \"ServiceStartTime\": 15998359.357377518, \"DepartureTime\": 16017998.00614198}, {\"NodeId\": \"ALTA\", \"ArrivalTime\": 16017998.00614198, \"ServiceStartTime\": 16017998.00614198, \"DepartureTime\": 16017998.00614198}]}]}, \"ArrivalSamples\": {\"ArrivalTime\": []}, \"Resource_update\": {}}}\n",
            "{\"ResultTimeDistance\": 3600, \"ArrivalEstimate\": {\"ModelRelativePath\": \"src/main/resources/R/ratesEstimator/model.net\", \"ScaleFactor\": 21}, \"Nodes\": [{\"Mode\": \"arrival\", \"Id\": \"ADMISION\", \"Type\": 1.0, \"Distribution\": [{\"DistributionType\": {\"SamplesEstimation\": {\"Resolution\": 1000}}, \"Priority\": 0}], \"Resources\": 200}, {\"Mode\": \"service\", \"Id\": \"TRIAJE\", \"Type\": 2.0, \"Distribution\": [{\"DistributionType\": {\"SamplesEstimation\": {\"Resolution\": 1000}}, \"Priority\": 0}], \"Resources\": 200}, {\"Mode\": \"service\", \"Id\": \"ALTA\", \"Type\": 2.0, \"Distribution\": [{\"DistributionType\": {\"SamplesEstimation\": {\"Resolution\": 1000}}, \"Priority\": 0}], \"Resources\": 200}, {\"Mode\": \"service\", \"Id\": \"RX SOLICITUD\", \"Type\": 2.0, \"Distribution\": [{\"DistributionType\": {\"SamplesEstimation\": {\"Resolution\": 1000}}, \"Priority\": 0}], \"Resources\": 200}, {\"Mode\": \"service\", \"Id\": \"RX EXPLORACION\", \"Type\": 2.0, \"Distribution\": [{\"DistributionType\": {\"SamplesEstimation\": {\"Resolution\": 1000}}, \"Priority\": 0}], \"Resources\": 200}, {\"Mode\": \"service\", \"Id\": \"RX INFORME\", \"Type\": 2.0, \"Distribution\": [{\"DistributionType\": {\"SamplesEstimation\": {\"Resolution\": 1000}}, \"Priority\": 0}], \"Resources\": 200}], \"SinkId\": \"ALTA\"}\n"
          ],
          "name": "stdout"
        }
      ]
    },
    {
      "cell_type": "code",
      "metadata": {
        "id": "XFf_VwWflI_U",
        "colab_type": "code",
        "outputId": "bc259b1c-f627-4972-f9f5-438b799ac127",
        "colab": {
          "base_uri": "https://localhost:8080/",
          "height": 306
        }
      },
      "source": [
        " print_stadistic_df(data_print)"
      ],
      "execution_count": 0,
      "outputs": [
        {
          "output_type": "stream",
          "text": [
            "Average\n",
            "CASE_ID\n",
            "1.730890e+08    29582.637071\n",
            "1.730907e+08    18420.621589\n",
            "1.730909e+08    36478.705899\n",
            "dtype: float64\n",
            "Mean value of all the avergaes: 28160.654853127275\n",
            "Mean of the difference field:6034.426039955896\n",
            "Mean of the difference in the nodes\n",
            "ACTIVITY\n",
            "ADMISION            775.691015\n",
            "ALTA                  0.000000\n",
            "RX EXPLORACION    13447.350226\n",
            "RX INFORME        19638.648764\n",
            "RX SOLICITUD       3816.521525\n",
            "TRIAJE             9329.499749\n",
            "Name: Difference, dtype: float64\n"
          ],
          "name": "stdout"
        }
      ]
    },
    {
      "cell_type": "markdown",
      "metadata": {
        "id": "_6cfq-jxqTFD",
        "colab_type": "text"
      },
      "source": [
        "System mean time: 12024.348156289174\n",
        "\n",
        "Nodes information\n",
        "admision : 772.9048014061583\n",
        "\n",
        "alta : NaN\n",
        "\n",
        "rx exploracion : NaN\n",
        "\n",
        "rx informe : NaN\n",
        "\n",
        "rx solicitud : NaN\n",
        "\n",
        "triaje : 11430.42983620879\n"
      ]
    },
    {
      "cell_type": "markdown",
      "metadata": {
        "id": "J7XxVS6mgoqR",
        "colab_type": "text"
      },
      "source": [
        "# Auxiliar downlaod"
      ]
    },
    {
      "cell_type": "code",
      "metadata": {
        "id": "BStXwYIFgqmv",
        "colab_type": "code",
        "colab": {}
      },
      "source": [
        "open('result_routes.temp', 'w').write(result_routes)\n",
        "files.download('result_routes.temp')"
      ],
      "execution_count": 0,
      "outputs": []
    },
    {
      "cell_type": "code",
      "metadata": {
        "id": "EiugzAmoguDG",
        "colab_type": "code",
        "colab": {}
      },
      "source": [
        "open('result_config.temp', 'w').write(result_cfg)\n",
        "files.download('result_config.temp')"
      ],
      "execution_count": 0,
      "outputs": []
    }
  ]
}