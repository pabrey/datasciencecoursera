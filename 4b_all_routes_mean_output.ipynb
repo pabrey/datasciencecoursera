{
  "nbformat": 4,
  "nbformat_minor": 0,
  "metadata": {
    "colab": {
      "name": "4b-all-routes-mean-output.ipynb",
      "version": "0.3.2",
      "provenance": [],
      "toc_visible": true,
      "include_colab_link": true
    },
    "kernelspec": {
      "name": "python3",
      "display_name": "Python 3"
    }
  },
  "cells": [
    {
      "cell_type": "markdown",
      "metadata": {
        "id": "view-in-github",
        "colab_type": "text"
      },
      "source": [
        "<a href=\"https://colab.research.google.com/github/pabrey/datasciencecoursera/blob/master/4b_all_routes_mean_output.ipynb\" target=\"_parent\"><img src=\"https://colab.research.google.com/assets/colab-badge.svg\" alt=\"Open In Colab\"/></a>"
      ]
    },
    {
      "cell_type": "markdown",
      "metadata": {
        "id": "ATjAHK4fgAbh",
        "colab_type": "text"
      },
      "source": [
        "# Previous"
      ]
    },
    {
      "cell_type": "code",
      "metadata": {
        "id": "0pQCn2ref7FN",
        "colab_type": "code",
        "colab": {
          "base_uri": "https://localhost:8080/",
          "height": 34
        },
        "outputId": "bf6c57f1-ab2f-4895-83a2-473987a9b3ba"
      },
      "source": [
        "import pandas as pd\n",
        "import io\n",
        "import matplotlib.pyplot as plt\n",
        "import numpy as np\n",
        "import json\n",
        "from google.colab import files\n",
        "import time\n",
        "from datetime import datetime\n",
        "import math\n",
        "\n",
        "from google.colab import drive\n",
        "drive.mount('/content/drive')"
      ],
      "execution_count": 1,
      "outputs": [
        {
          "output_type": "stream",
          "text": [
            "Drive already mounted at /content/drive; to attempt to forcibly remount, call drive.mount(\"/content/drive\", force_remount=True).\n"
          ],
          "name": "stdout"
        }
      ]
    },
    {
      "cell_type": "markdown",
      "metadata": {
        "id": "gDiMc83PgOgi",
        "colab_type": "text"
      },
      "source": [
        "# Create functions"
      ]
    },
    {
      "cell_type": "markdown",
      "metadata": {
        "id": "LvoY-4g-gQuu",
        "colab_type": "text"
      },
      "source": [
        "## load data"
      ]
    },
    {
      "cell_type": "code",
      "metadata": {
        "id": "A_F10h_5gQUP",
        "colab_type": "code",
        "colab": {}
      },
      "source": [
        "\n",
        "def load_data(location):\n",
        "  Separator = ';'\n",
        "\n",
        "  df =  pd.read_csv(location, sep=Separator)\n",
        "\n",
        "  df.columns = [\"CASE_ID\", \"ACTIVITY\",\t\"TIMESTAMP_IN\",\t\"TIMESTAMP_OUT\", \"COLOR\"] \n",
        "  df[\"DIFFERENCE\"]= df[\"TIMESTAMP_OUT\"] - df[\"TIMESTAMP_IN\"]\n",
        "  df_order = df.sort_values(['CASE_ID', 'TIMESTAMP_IN'])\n",
        "\n",
        "  print(df_order.head())\n",
        "  print(df_order.head(1))\n",
        "  print(df_order.tail(1))\n",
        "  print(df_order.tail(1))\n",
        "  return df_order"
      ],
      "execution_count": 0,
      "outputs": []
    },
    {
      "cell_type": "markdown",
      "metadata": {
        "id": "5GxKA6pjOAd_",
        "colab_type": "text"
      },
      "source": [
        "## prefilter"
      ]
    },
    {
      "cell_type": "markdown",
      "metadata": {
        "id": "FHYOtsocOG4H",
        "colab_type": "text"
      },
      "source": [
        "thers elements with timestamp to 0, delete this elements"
      ]
    },
    {
      "cell_type": "code",
      "metadata": {
        "id": "HtBZsfs_OGV2",
        "colab_type": "code",
        "colab": {}
      },
      "source": [
        "def filter_bad_data(df_input):\n",
        "  #hers elements with timestamp to 0, delete this elements\n",
        "  id_filter = df_input[df_input[\"TIMESTAMP_IN\"] == 0][\"CASE_ID\"]\n",
        "  df_filter_out = df_input[~df_input[\"CASE_ID\"].isin(id_filter)]\n",
        "  id_filter = df_input[df_input[\"TIMESTAMP_OUT\"] == 0][\"CASE_ID\"]\n",
        "  df_filter_out = df_filter_out[~df_filter_out[\"CASE_ID\"].isin(id_filter)]\n",
        "  df_filter_out = df_filter_out.sort_values(['CASE_ID', 'TIMESTAMP_IN'])\n",
        "  \n",
        "  #elementos no ordenados\n",
        "  df_unorder = df_filter_out.sort_values(\"TIMESTAMP_IN\").groupby(\"CASE_ID\").tail(1)[[\"CASE_ID\", \"ACTIVITY\"]] \n",
        "  id_unorder = df_unorder[df_unorder[\"ACTIVITY\"] != \"Aalta\"][\"CASE_ID\"]\n",
        "  df_filter_out = df_filter_out[~df_filter_out[\"CASE_ID\"].isin(id_unorder)]\n",
        "  \n",
        "  \n",
        "\n",
        "  df_filter_out = df_filter_out.sort_values([\"CASE_ID\", \"TIMESTAMP_IN\"])\n",
        "  \n",
        "  print(\"Len before prefilter: \"+str(len(df_input[\"CASE_ID\"].drop_duplicates())))\n",
        "  print(\"Len after prefilter: \"+str(len(df_filter_out[\"CASE_ID\"].drop_duplicates())))\n",
        "  \n",
        "  return df_filter_out"
      ],
      "execution_count": 0,
      "outputs": []
    },
    {
      "cell_type": "markdown",
      "metadata": {
        "id": "d7RLaS3QbzYH",
        "colab_type": "text"
      },
      "source": [
        "## create minero"
      ]
    },
    {
      "cell_type": "code",
      "metadata": {
        "id": "NXf4TtMRbywQ",
        "colab_type": "code",
        "colab": {}
      },
      "source": [
        "\n",
        "def create_minero_file(input_df, ouput_file):\n",
        "  input_df = input_df[[\"CASE_ID\", \"ACTIVITY\", \"TIMESTAMP_IN\"]]\n",
        "  input_df = input_df.sort_values([\"CASE_ID\",  \"TIMESTAMP_IN\"])\n",
        "  input_df[\"DATE_IN\"] = (pd.to_datetime(input_df[\"TIMESTAMP_IN\"]*1000,unit='ms'))\n",
        "  input_df[\"TIMESTAMP\"] = input_df[\"DATE_IN\"].dt.strftime('%d/%m/%Y %H:%M:%S')+ \" UTC\"\n",
        "\n",
        "  input_df[[\"CASE_ID\",\"ACTIVITY\",\"TIMESTAMP\"]].sort_values([ \"TIMESTAMP\"]).to_csv(ouput_file, index=False, sep = ';')\n",
        "  files.download(ouput_file)"
      ],
      "execution_count": 0,
      "outputs": []
    },
    {
      "cell_type": "markdown",
      "metadata": {
        "id": "MpWdcGayY6xN",
        "colab_type": "text"
      },
      "source": [
        "# Test all routes, parameters 00, resources 1"
      ]
    },
    {
      "cell_type": "markdown",
      "metadata": {
        "id": "Sv51D4JAY91O",
        "colab_type": "text"
      },
      "source": [
        "load and filter"
      ]
    },
    {
      "cell_type": "code",
      "metadata": {
        "id": "j5wBYLfzY77T",
        "colab_type": "code",
        "colab": {
          "base_uri": "https://localhost:8080/",
          "height": 255
        },
        "outputId": "ef935202-b6c3-4b07-ade2-16eec486e98c"
      },
      "source": [
        "location = 'drive/My Drive/data/prosae/testAllRoutesMean/res_simulacion_all_mean_00_1.csv'\n",
        "df_load = load_data(location)\n",
        "df_filter =  filter_bad_data(df_load)"
      ],
      "execution_count": 7,
      "outputs": [
        {
          "output_type": "stream",
          "text": [
            "   CASE_ID        ACTIVITY  TIMESTAMP_IN  TIMESTAMP_OUT  COLOR    DIFFERENCE\n",
            "4        1           Aalta  0.000000e+00   0.000000e+00    NaN  0.000000e+00\n",
            "0        1        admision  1.614764e+08   1.614772e+08    NaN  8.395910e+02\n",
            "1        1          triaje  1.614772e+08   1.614816e+08    NaN  4.409802e+03\n",
            "2        1    rx solicitud  1.614816e+08   1.614831e+08    NaN  1.452060e+03\n",
            "3        1  rx exploracion  1.614831e+08   0.000000e+00    NaN -1.614831e+08\n",
            "   CASE_ID ACTIVITY  TIMESTAMP_IN  TIMESTAMP_OUT  COLOR  DIFFERENCE\n",
            "4        1    Aalta           0.0            0.0    NaN         0.0\n",
            "      CASE_ID  ACTIVITY  TIMESTAMP_IN  TIMESTAMP_OUT  COLOR    DIFFERENCE\n",
            "1779      961  admision  1.620757e+08            0.0    NaN -1.620757e+08\n",
            "      CASE_ID  ACTIVITY  TIMESTAMP_IN  TIMESTAMP_OUT  COLOR    DIFFERENCE\n",
            "1779      961  admision  1.620757e+08            0.0    NaN -1.620757e+08\n",
            "Len before prefilter: 820\n",
            "Len after prefilter: 812\n"
          ],
          "name": "stdout"
        }
      ]
    },
    {
      "cell_type": "markdown",
      "metadata": {
        "id": "DZ_8kGXuZC3S",
        "colab_type": "text"
      },
      "source": [
        "check elements whose last element is not alta and first is not admision"
      ]
    },
    {
      "cell_type": "code",
      "metadata": {
        "id": "qg2dF9aoZDUU",
        "colab_type": "code",
        "colab": {
          "base_uri": "https://localhost:8080/",
          "height": 68
        },
        "outputId": "7f44d425-7058-43f4-da06-54ced4683769"
      },
      "source": [
        "(df_filter.sort_values(\"TIMESTAMP_IN\").groupby(\"CASE_ID\")[\"ACTIVITY\"].first() ).drop_duplicates()"
      ],
      "execution_count": 8,
      "outputs": [
        {
          "output_type": "execute_result",
          "data": {
            "text/plain": [
              "CASE_ID\n",
              "2    admision\n",
              "Name: ACTIVITY, dtype: object"
            ]
          },
          "metadata": {
            "tags": []
          },
          "execution_count": 8
        }
      ]
    },
    {
      "cell_type": "markdown",
      "metadata": {
        "id": "JJ7UBEwCZGRK",
        "colab_type": "text"
      },
      "source": [
        "show results"
      ]
    },
    {
      "cell_type": "code",
      "metadata": {
        "id": "L-V3eTcxZHc7",
        "colab_type": "code",
        "colab": {
          "base_uri": "https://localhost:8080/",
          "height": 170
        },
        "outputId": "5ba84d45-e0bd-4000-d66e-8eab7c3df114"
      },
      "source": [
        "df_filter.groupby(\"ACTIVITY\")[\"DIFFERENCE\"].mean()"
      ],
      "execution_count": 9,
      "outputs": [
        {
          "output_type": "execute_result",
          "data": {
            "text/plain": [
              "ACTIVITY\n",
              "Aalta                 0.000000\n",
              "admision            731.686558\n",
              "interconsulta     25553.238663\n",
              "respuesta         14071.090185\n",
              "rx informe        10396.980809\n",
              "rx solicitud      19681.638782\n",
              "triaje           330517.054210\n",
              "Name: DIFFERENCE, dtype: float64"
            ]
          },
          "metadata": {
            "tags": []
          },
          "execution_count": 9
        }
      ]
    },
    {
      "cell_type": "markdown",
      "metadata": {
        "id": "mM7gxgY0ZOwn",
        "colab_type": "text"
      },
      "source": [
        "create file minero"
      ]
    },
    {
      "cell_type": "code",
      "metadata": {
        "id": "Fu3kCo60ZLJi",
        "colab_type": "code",
        "colab": {}
      },
      "source": [
        "ouput_file= 'input_data_miner_all_mean_00_1.csv'\n",
        "create_minero_file(df_filter, ouput_file)"
      ],
      "execution_count": 0,
      "outputs": []
    },
    {
      "cell_type": "markdown",
      "metadata": {
        "id": "g4aB1G6LQFq_",
        "colab_type": "text"
      },
      "source": [
        "#Test all routes,parameters 00 , resources 200"
      ]
    },
    {
      "cell_type": "markdown",
      "metadata": {
        "id": "YOkg3uBWcK0w",
        "colab_type": "text"
      },
      "source": [
        "load and filter"
      ]
    },
    {
      "cell_type": "code",
      "metadata": {
        "id": "BcOAbhjZT2Tz",
        "colab_type": "code",
        "colab": {
          "base_uri": "https://localhost:8080/",
          "height": 255
        },
        "outputId": "53ab7967-a1f8-4980-cb14-715a5343d352"
      },
      "source": [
        "location = 'drive/My Drive/data/prosae/testAllRoutesMean/res_simulacion_all_mean_00_200.csv'\n",
        "df_load = load_data(location)\n",
        "df_filter =  filter_bad_data(df_load)\n"
      ],
      "execution_count": 14,
      "outputs": [
        {
          "output_type": "stream",
          "text": [
            "   CASE_ID        ACTIVITY  TIMESTAMP_IN  TIMESTAMP_OUT  COLOR    DIFFERENCE\n",
            "4        1           Aalta  0.000000e+00   0.000000e+00    NaN  0.000000e+00\n",
            "0        1        admision  1.614764e+08   1.614772e+08    NaN  8.395910e+02\n",
            "1        1          triaje  1.614772e+08   1.614816e+08    NaN  4.409802e+03\n",
            "2        1    rx solicitud  1.614816e+08   1.614900e+08    NaN  8.332127e+03\n",
            "3        1  rx exploracion  1.614900e+08   0.000000e+00    NaN -1.614900e+08\n",
            "   CASE_ID ACTIVITY  TIMESTAMP_IN  TIMESTAMP_OUT  COLOR  DIFFERENCE\n",
            "4        1    Aalta           0.0            0.0    NaN         0.0\n",
            "      CASE_ID  ACTIVITY  TIMESTAMP_IN  TIMESTAMP_OUT  COLOR    DIFFERENCE\n",
            "3643     2849  admision  1.620761e+08            0.0    NaN -1.620761e+08\n",
            "      CASE_ID  ACTIVITY  TIMESTAMP_IN  TIMESTAMP_OUT  COLOR    DIFFERENCE\n",
            "3643     2849  admision  1.620761e+08            0.0    NaN -1.620761e+08\n",
            "Len before prefilter: 795\n",
            "Len after prefilter: 525\n"
          ],
          "name": "stdout"
        }
      ]
    },
    {
      "cell_type": "code",
      "metadata": {
        "id": "KnbvvPy2UcgE",
        "colab_type": "code",
        "colab": {
          "base_uri": "https://localhost:8080/",
          "height": 51
        },
        "outputId": "d11ce9b6-0629-41a6-c443-82723815ab0d"
      },
      "source": [
        "df_filter =  filter_bad_data(df_load)"
      ],
      "execution_count": 15,
      "outputs": [
        {
          "output_type": "stream",
          "text": [
            "Len before prefilter: 795\n",
            "Len after prefilter: 525\n"
          ],
          "name": "stdout"
        }
      ]
    },
    {
      "cell_type": "markdown",
      "metadata": {
        "id": "FD0c_o9OcJgY",
        "colab_type": "text"
      },
      "source": [
        "check elements whose last element is not alta and first is not admision"
      ]
    },
    {
      "cell_type": "code",
      "metadata": {
        "id": "pfEv6TmVcPRJ",
        "colab_type": "code",
        "colab": {
          "base_uri": "https://localhost:8080/",
          "height": 68
        },
        "outputId": "2964e072-cd67-44c6-f858-56ebc4b142c6"
      },
      "source": [
        "(df_filter.sort_values(\"TIMESTAMP_IN\").groupby(\"CASE_ID\")[\"ACTIVITY\"].first() ).drop_duplicates()"
      ],
      "execution_count": 16,
      "outputs": [
        {
          "output_type": "execute_result",
          "data": {
            "text/plain": [
              "CASE_ID\n",
              "16    admision\n",
              "Name: ACTIVITY, dtype: object"
            ]
          },
          "metadata": {
            "tags": []
          },
          "execution_count": 16
        }
      ]
    },
    {
      "cell_type": "markdown",
      "metadata": {
        "id": "-2jrs0oScSEJ",
        "colab_type": "text"
      },
      "source": [
        "show results"
      ]
    },
    {
      "cell_type": "code",
      "metadata": {
        "id": "5UuWiyIDUnj8",
        "colab_type": "code",
        "colab": {
          "base_uri": "https://localhost:8080/",
          "height": 170
        },
        "outputId": "bbbb9e7a-6acb-47e1-f4bf-260d13ffaff7"
      },
      "source": [
        "df_filter.groupby(\"ACTIVITY\")[\"DIFFERENCE\"].mean()"
      ],
      "execution_count": 17,
      "outputs": [
        {
          "output_type": "execute_result",
          "data": {
            "text/plain": [
              "ACTIVITY\n",
              "Aalta                0.000000\n",
              "admision           742.912785\n",
              "interconsulta    15480.032789\n",
              "respuesta        17771.039831\n",
              "rx informe       21655.866931\n",
              "rx solicitud      6676.397136\n",
              "triaje            7574.638427\n",
              "Name: DIFFERENCE, dtype: float64"
            ]
          },
          "metadata": {
            "tags": []
          },
          "execution_count": 17
        }
      ]
    },
    {
      "cell_type": "code",
      "metadata": {
        "id": "1qoAwbMEgnvd",
        "colab_type": "code",
        "colab": {
          "base_uri": "https://localhost:8080/",
          "height": 34
        },
        "outputId": "257922c6-f77a-485d-d7bc-adf51fe42fb5"
      },
      "source": [
        "len(df_filter)"
      ],
      "execution_count": 9,
      "outputs": [
        {
          "output_type": "execute_result",
          "data": {
            "text/plain": [
              "1718"
            ]
          },
          "metadata": {
            "tags": []
          },
          "execution_count": 9
        }
      ]
    },
    {
      "cell_type": "code",
      "metadata": {
        "id": "ZaiB1o7Ngzl2",
        "colab_type": "code",
        "colab": {
          "base_uri": "https://localhost:8080/",
          "height": 204
        },
        "outputId": "fc0f47d9-5f69-44f1-a8f0-98cebaf8cb9d"
      },
      "source": [
        "df_filter[df_filter[\"ACTIVITY\"] == \"admision\"].head()"
      ],
      "execution_count": 10,
      "outputs": [
        {
          "output_type": "execute_result",
          "data": {
            "text/html": [
              "<div>\n",
              "<style scoped>\n",
              "    .dataframe tbody tr th:only-of-type {\n",
              "        vertical-align: middle;\n",
              "    }\n",
              "\n",
              "    .dataframe tbody tr th {\n",
              "        vertical-align: top;\n",
              "    }\n",
              "\n",
              "    .dataframe thead th {\n",
              "        text-align: right;\n",
              "    }\n",
              "</style>\n",
              "<table border=\"1\" class=\"dataframe\">\n",
              "  <thead>\n",
              "    <tr style=\"text-align: right;\">\n",
              "      <th></th>\n",
              "      <th>CASE_ID</th>\n",
              "      <th>ACTIVITY</th>\n",
              "      <th>TIMESTAMP_IN</th>\n",
              "      <th>TIMESTAMP_OUT</th>\n",
              "      <th>COLOR</th>\n",
              "      <th>DIFFERENCE</th>\n",
              "    </tr>\n",
              "  </thead>\n",
              "  <tbody>\n",
              "    <tr>\n",
              "      <th>5</th>\n",
              "      <td>2</td>\n",
              "      <td>admision</td>\n",
              "      <td>1.614772e+08</td>\n",
              "      <td>1.614780e+08</td>\n",
              "      <td>NaN</td>\n",
              "      <td>769.329164</td>\n",
              "    </tr>\n",
              "    <tr>\n",
              "      <th>9</th>\n",
              "      <td>4</td>\n",
              "      <td>admision</td>\n",
              "      <td>1.614780e+08</td>\n",
              "      <td>1.614786e+08</td>\n",
              "      <td>NaN</td>\n",
              "      <td>573.798124</td>\n",
              "    </tr>\n",
              "    <tr>\n",
              "      <th>12</th>\n",
              "      <td>5</td>\n",
              "      <td>admision</td>\n",
              "      <td>1.614786e+08</td>\n",
              "      <td>1.614804e+08</td>\n",
              "      <td>NaN</td>\n",
              "      <td>1863.717873</td>\n",
              "    </tr>\n",
              "    <tr>\n",
              "      <th>16</th>\n",
              "      <td>6</td>\n",
              "      <td>admision</td>\n",
              "      <td>1.614804e+08</td>\n",
              "      <td>1.614819e+08</td>\n",
              "      <td>NaN</td>\n",
              "      <td>1464.999379</td>\n",
              "    </tr>\n",
              "    <tr>\n",
              "      <th>20</th>\n",
              "      <td>9</td>\n",
              "      <td>admision</td>\n",
              "      <td>1.614819e+08</td>\n",
              "      <td>1.614821e+08</td>\n",
              "      <td>NaN</td>\n",
              "      <td>200.117493</td>\n",
              "    </tr>\n",
              "  </tbody>\n",
              "</table>\n",
              "</div>"
            ],
            "text/plain": [
              "    CASE_ID  ACTIVITY  TIMESTAMP_IN  TIMESTAMP_OUT  COLOR   DIFFERENCE\n",
              "5         2  admision  1.614772e+08   1.614780e+08    NaN   769.329164\n",
              "9         4  admision  1.614780e+08   1.614786e+08    NaN   573.798124\n",
              "12        5  admision  1.614786e+08   1.614804e+08    NaN  1863.717873\n",
              "16        6  admision  1.614804e+08   1.614819e+08    NaN  1464.999379\n",
              "20        9  admision  1.614819e+08   1.614821e+08    NaN   200.117493"
            ]
          },
          "metadata": {
            "tags": []
          },
          "execution_count": 10
        }
      ]
    },
    {
      "cell_type": "markdown",
      "metadata": {
        "id": "m4BvaQc4cYCJ",
        "colab_type": "text"
      },
      "source": [
        "## create file minero"
      ]
    },
    {
      "cell_type": "code",
      "metadata": {
        "id": "_lif-uNIcfgI",
        "colab_type": "code",
        "colab": {}
      },
      "source": [
        "ouput_file= 'input_data_miner_all_mean_00_200.csv'\n",
        "create_minero_file(df_filter, ouput_file)"
      ],
      "execution_count": 0,
      "outputs": []
    },
    {
      "cell_type": "markdown",
      "metadata": {
        "id": "0FGxTjehU168",
        "colab_type": "text"
      },
      "source": [
        "# Test all routes, parameters 00 resources 200, extended time"
      ]
    },
    {
      "cell_type": "markdown",
      "metadata": {
        "id": "s_ZgFsX1b-MP",
        "colab_type": "text"
      },
      "source": [
        "load and filter"
      ]
    },
    {
      "cell_type": "code",
      "metadata": {
        "id": "7qrEclPzU5fk",
        "colab_type": "code",
        "colab": {
          "base_uri": "https://localhost:8080/",
          "height": 255
        },
        "outputId": "338dd4db-cbd0-4aa4-b2c3-7aeb6e22e6e1"
      },
      "source": [
        "location = 'drive/My Drive/data/prosae/testAllRoutesMean/res_simulacion_all_mean_00_200_extended_time.csv'\n",
        "df_load = load_data(location)\n",
        "df_filter =  filter_bad_data(df_load)\n"
      ],
      "execution_count": 29,
      "outputs": [
        {
          "output_type": "stream",
          "text": [
            "   CASE_ID        ACTIVITY  TIMESTAMP_IN  TIMESTAMP_OUT  COLOR    DIFFERENCE\n",
            "0        1        admision  1.614764e+08   1.614772e+08    NaN  8.395910e+02\n",
            "1        1          triaje  1.614772e+08   1.614816e+08    NaN  4.409802e+03\n",
            "2        1    rx solicitud  1.614816e+08   1.614900e+08    NaN  8.332127e+03\n",
            "3        1  rx exploracion  1.614900e+08   1.627409e+08    NaN  1.250893e+06\n",
            "4        1      rx informe  1.627409e+08   1.627467e+08    NaN  5.860907e+03\n",
            "   CASE_ID  ACTIVITY  TIMESTAMP_IN  TIMESTAMP_OUT  COLOR  DIFFERENCE\n",
            "0        1  admision   161476390.0   1.614772e+08    NaN  839.591004\n",
            "       CASE_ID  ACTIVITY  TIMESTAMP_IN  TIMESTAMP_OUT  COLOR    DIFFERENCE\n",
            "37276    29290  admision  1.674755e+08            0.0    NaN -1.674755e+08\n",
            "       CASE_ID  ACTIVITY  TIMESTAMP_IN  TIMESTAMP_OUT  COLOR    DIFFERENCE\n",
            "37276    29290  admision  1.674755e+08            0.0    NaN -1.674755e+08\n",
            "Len before prefilter: 7986\n",
            "Len after prefilter: 7345\n"
          ],
          "name": "stdout"
        }
      ]
    },
    {
      "cell_type": "markdown",
      "metadata": {
        "id": "8pb4NyJbcNCv",
        "colab_type": "text"
      },
      "source": [
        "check elements whose last element is not alta and first is not admision"
      ]
    },
    {
      "cell_type": "code",
      "metadata": {
        "id": "-PKlKVR7cPbz",
        "colab_type": "code",
        "colab": {
          "base_uri": "https://localhost:8080/",
          "height": 68
        },
        "outputId": "3e20ead3-909c-4403-cbc6-176118cd8d24"
      },
      "source": [
        "(df_filter.sort_values(\"TIMESTAMP_IN\").groupby(\"CASE_ID\")[\"ACTIVITY\"].first() ).drop_duplicates()"
      ],
      "execution_count": 30,
      "outputs": [
        {
          "output_type": "execute_result",
          "data": {
            "text/plain": [
              "CASE_ID\n",
              "1    admision\n",
              "Name: ACTIVITY, dtype: object"
            ]
          },
          "metadata": {
            "tags": []
          },
          "execution_count": 30
        }
      ]
    },
    {
      "cell_type": "markdown",
      "metadata": {
        "id": "yj_YCWVfcP1Z",
        "colab_type": "text"
      },
      "source": [
        "show results"
      ]
    },
    {
      "cell_type": "code",
      "metadata": {
        "id": "rAYSj5a6cSSg",
        "colab_type": "code",
        "colab": {
          "base_uri": "https://localhost:8080/",
          "height": 187
        },
        "outputId": "8c53d6f5-25cb-4b96-92c2-f2b5e98e9796"
      },
      "source": [
        "df_filter.groupby(\"ACTIVITY\")[\"DIFFERENCE\"].mean()"
      ],
      "execution_count": 31,
      "outputs": [
        {
          "output_type": "execute_result",
          "data": {
            "text/plain": [
              "ACTIVITY\n",
              "Aalta             0.000000e+00\n",
              "admision          7.449733e+02\n",
              "interconsulta     1.715403e+04\n",
              "respuesta         1.834413e+04\n",
              "rx exploracion    2.870873e+06\n",
              "rx informe        2.085133e+04\n",
              "rx solicitud      6.787239e+03\n",
              "triaje            8.350999e+03\n",
              "Name: DIFFERENCE, dtype: float64"
            ]
          },
          "metadata": {
            "tags": []
          },
          "execution_count": 31
        }
      ]
    },
    {
      "cell_type": "markdown",
      "metadata": {
        "id": "-FzUIDUYc2KJ",
        "colab_type": "text"
      },
      "source": [
        "## create minero"
      ]
    },
    {
      "cell_type": "code",
      "metadata": {
        "id": "pcSycEzic17x",
        "colab_type": "code",
        "colab": {}
      },
      "source": [
        "ouput_file= 'input_data_miner_all_mean_00_200_extended_time.csv'\n",
        "create_minero_file(df_filter, ouput_file)"
      ],
      "execution_count": 0,
      "outputs": []
    },
    {
      "cell_type": "markdown",
      "metadata": {
        "id": "NkuQY2zDqq4f",
        "colab_type": "text"
      },
      "source": [
        "# Test all routes deterministic, parameters 00 resources 200, extended time"
      ]
    },
    {
      "cell_type": "markdown",
      "metadata": {
        "id": "TS9219IEqwRm",
        "colab_type": "text"
      },
      "source": [
        "load and filter"
      ]
    },
    {
      "cell_type": "code",
      "metadata": {
        "id": "xqS1F3tlqtNe",
        "colab_type": "code",
        "colab": {
          "base_uri": "https://localhost:8080/",
          "height": 255
        },
        "outputId": "742fca02-1258-4140-adb0-713caaa6730c"
      },
      "source": [
        "location = 'drive/My Drive/data/prosae/testAllRoutesMean/res_simulacion_all_deterministic_mean_00_200_extended_time.csv'\n",
        "df_load = load_data(location)\n",
        "df_filter =  filter_bad_data(df_load)\n"
      ],
      "execution_count": 23,
      "outputs": [
        {
          "output_type": "stream",
          "text": [
            "   CASE_ID        ACTIVITY  TIMESTAMP_IN  TIMESTAMP_OUT  COLOR  DIFFERENCE\n",
            "0        1        admision   161476390.0    161477120.0    NaN       730.0\n",
            "1        1          triaje   161477120.0    161483290.0    NaN      6170.0\n",
            "2        1    rx solicitud   161483290.0    161488641.0    NaN      5351.0\n",
            "3        1  rx exploracion   161488641.0    161503386.0    NaN     14745.0\n",
            "4        1      rx informe   161503386.0    161520427.0    NaN     17041.0\n",
            "   CASE_ID  ACTIVITY  TIMESTAMP_IN  TIMESTAMP_OUT  COLOR  DIFFERENCE\n",
            "0        1  admision   161476390.0    161477120.0    NaN       730.0\n",
            "       CASE_ID  ACTIVITY  TIMESTAMP_IN  TIMESTAMP_OUT  COLOR   DIFFERENCE\n",
            "54353    46134  admision   167476260.0            0.0    NaN -167476260.0\n",
            "       CASE_ID  ACTIVITY  TIMESTAMP_IN  TIMESTAMP_OUT  COLOR   DIFFERENCE\n",
            "54353    46134  admision   167476260.0            0.0    NaN -167476260.0\n",
            "Len before prefilter: 8220\n",
            "Len after prefilter: 7989\n"
          ],
          "name": "stdout"
        }
      ]
    },
    {
      "cell_type": "markdown",
      "metadata": {
        "id": "Iw5_h3nlq4kX",
        "colab_type": "text"
      },
      "source": [
        "check"
      ]
    },
    {
      "cell_type": "code",
      "metadata": {
        "id": "JVYQ0ER0q6j-",
        "colab_type": "code",
        "colab": {
          "base_uri": "https://localhost:8080/",
          "height": 68
        },
        "outputId": "7df6f215-a76b-417c-b524-616e24d90fe8"
      },
      "source": [
        "(df_filter.sort_values(\"TIMESTAMP_IN\").groupby(\"CASE_ID\")[\"ACTIVITY\"].first() ).drop_duplicates()"
      ],
      "execution_count": 24,
      "outputs": [
        {
          "output_type": "execute_result",
          "data": {
            "text/plain": [
              "CASE_ID\n",
              "1    admision\n",
              "Name: ACTIVITY, dtype: object"
            ]
          },
          "metadata": {
            "tags": []
          },
          "execution_count": 24
        }
      ]
    },
    {
      "cell_type": "markdown",
      "metadata": {
        "id": "B26rT0P8q2bH",
        "colab_type": "text"
      },
      "source": [
        "show results"
      ]
    },
    {
      "cell_type": "code",
      "metadata": {
        "id": "IVRzC4RCq39m",
        "colab_type": "code",
        "colab": {
          "base_uri": "https://localhost:8080/",
          "height": 187
        },
        "outputId": "a76cad35-1501-4b3a-d14a-379449e22dca"
      },
      "source": [
        "df_filter.groupby(\"ACTIVITY\")[\"DIFFERENCE\"].mean()"
      ],
      "execution_count": 25,
      "outputs": [
        {
          "output_type": "execute_result",
          "data": {
            "text/plain": [
              "ACTIVITY\n",
              "Aalta                 0.0\n",
              "admision            730.0\n",
              "interconsulta     15454.0\n",
              "respuesta         15192.0\n",
              "rx exploracion    14745.0\n",
              "rx informe        17041.0\n",
              "rx solicitud       5351.0\n",
              "triaje             6170.0\n",
              "Name: DIFFERENCE, dtype: float64"
            ]
          },
          "metadata": {
            "tags": []
          },
          "execution_count": 25
        }
      ]
    },
    {
      "cell_type": "markdown",
      "metadata": {
        "id": "e5Buwr7Wq7-W",
        "colab_type": "text"
      },
      "source": [
        "create minero"
      ]
    },
    {
      "cell_type": "code",
      "metadata": {
        "id": "PKOGAmd_q9Cq",
        "colab_type": "code",
        "colab": {}
      },
      "source": [
        "ouput_file= 'input_data_miner_all_mean_determnistic_00_200_extended_time.csv'\n",
        "create_minero_file(df_filter, ouput_file)"
      ],
      "execution_count": 0,
      "outputs": []
    }
  ]
}