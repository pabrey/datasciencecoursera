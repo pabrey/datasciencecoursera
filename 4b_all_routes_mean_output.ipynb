{
  "nbformat": 4,
  "nbformat_minor": 0,
  "metadata": {
    "colab": {
      "name": "4b-all-routes-mean-output.ipynb",
      "version": "0.3.2",
      "provenance": [],
      "toc_visible": true,
      "include_colab_link": true
    },
    "kernelspec": {
      "name": "python3",
      "display_name": "Python 3"
    }
  },
  "cells": [
    {
      "cell_type": "markdown",
      "metadata": {
        "id": "view-in-github",
        "colab_type": "text"
      },
      "source": [
        "<a href=\"https://colab.research.google.com/github/pabrey/datasciencecoursera/blob/master/4b_all_routes_mean_output.ipynb\" target=\"_parent\"><img src=\"https://colab.research.google.com/assets/colab-badge.svg\" alt=\"Open In Colab\"/></a>"
      ]
    },
    {
      "cell_type": "code",
      "metadata": {
        "id": "QuEGg5rvySVR",
        "colab_type": "code",
        "colab": {}
      },
      "source": [
        ""
      ],
      "execution_count": 0,
      "outputs": []
    },
    {
      "cell_type": "markdown",
      "metadata": {
        "id": "ATjAHK4fgAbh",
        "colab_type": "text"
      },
      "source": [
        "# Previous"
      ]
    },
    {
      "cell_type": "code",
      "metadata": {
        "id": "0pQCn2ref7FN",
        "colab_type": "code",
        "colab": {
          "base_uri": "https://localhost:8080/",
          "height": 34
        },
        "outputId": "5a23a321-b57b-4c06-d720-0dd788f44d36"
      },
      "source": [
        "import pandas as pd\n",
        "import io\n",
        "import matplotlib.pyplot as plt\n",
        "import numpy as np\n",
        "import json\n",
        "from google.colab import files\n",
        "import time\n",
        "from datetime import datetime\n",
        "import math\n",
        "\n",
        "from google.colab import drive\n",
        "drive.mount('/content/drive')"
      ],
      "execution_count": 5,
      "outputs": [
        {
          "output_type": "stream",
          "text": [
            "Drive already mounted at /content/drive; to attempt to forcibly remount, call drive.mount(\"/content/drive\", force_remount=True).\n"
          ],
          "name": "stdout"
        }
      ]
    },
    {
      "cell_type": "markdown",
      "metadata": {
        "id": "gDiMc83PgOgi",
        "colab_type": "text"
      },
      "source": [
        "# Create example with data"
      ]
    },
    {
      "cell_type": "markdown",
      "metadata": {
        "id": "LvoY-4g-gQuu",
        "colab_type": "text"
      },
      "source": [
        "## load data"
      ]
    },
    {
      "cell_type": "code",
      "metadata": {
        "id": "A_F10h_5gQUP",
        "colab_type": "code",
        "outputId": "863a05a1-a21d-45cb-a159-f3694a881c50",
        "colab": {
          "base_uri": "https://localhost:8080/",
          "height": 221
        }
      },
      "source": [
        "Location = 'drive/My Drive/data/prosae/testAllRoutesMean/res_simulacion_mean_00.csv'\n",
        "Separator = ';'\n",
        "\n",
        "df =  pd.read_csv(Location, sep=Separator)\n",
        "\n",
        "df.columns = [\"CASE_ID\", \"ACTIVITY\",\t\"TIMESTAMP_IN\",\t\"TIMESTAMP_OUT\", \"COLOR\"] \n",
        "df_order = df.sort_values(['CASE_ID', 'TIMESTAMP_IN'])\n",
        "\n",
        "print(df_order.head())\n",
        "print(df_order.head(1))\n",
        "print(df_order.tail(1))\n",
        "print(df_order.tail(1))"
      ],
      "execution_count": 7,
      "outputs": [
        {
          "output_type": "stream",
          "text": [
            "   CASE_ID        ACTIVITY  TIMESTAMP_IN  TIMESTAMP_OUT  COLOR\n",
            "4        1           Aalta  0.000000e+00   0.000000e+00    NaN\n",
            "0        1        admision  1.614764e+08   1.614772e+08    NaN\n",
            "1        1          triaje  1.614772e+08   1.614816e+08    NaN\n",
            "2        1    rx solicitud  1.614816e+08   1.614831e+08    NaN\n",
            "3        1  rx exploracion  1.614831e+08   0.000000e+00    NaN\n",
            "   CASE_ID ACTIVITY  TIMESTAMP_IN  TIMESTAMP_OUT  COLOR\n",
            "4        1    Aalta           0.0            0.0    NaN\n",
            "      CASE_ID  ACTIVITY  TIMESTAMP_IN  TIMESTAMP_OUT  COLOR\n",
            "1742      937  admision  1.620759e+08            0.0    NaN\n",
            "      CASE_ID  ACTIVITY  TIMESTAMP_IN  TIMESTAMP_OUT  COLOR\n",
            "1742      937  admision  1.620759e+08            0.0    NaN\n"
          ],
          "name": "stdout"
        }
      ]
    },
    {
      "cell_type": "markdown",
      "metadata": {
        "id": "kFlRnLPRm8q_",
        "colab_type": "text"
      },
      "source": [
        "margety tiempos"
      ]
    },
    {
      "cell_type": "markdown",
      "metadata": {
        "id": "5GxKA6pjOAd_",
        "colab_type": "text"
      },
      "source": [
        "## prefilter"
      ]
    },
    {
      "cell_type": "markdown",
      "metadata": {
        "id": "FHYOtsocOG4H",
        "colab_type": "text"
      },
      "source": [
        "### thers elements with timestamp to 0, delete this elements"
      ]
    },
    {
      "cell_type": "code",
      "metadata": {
        "id": "HtBZsfs_OGV2",
        "colab_type": "code",
        "colab": {}
      },
      "source": [
        "id_filter = df_order[df_order[\"TIMESTAMP_IN\"] == 0][\"CASE_ID\"]\n",
        "df_filter_out = df_order[~df_order[\"CASE_ID\"].isin(id_filter)]\n",
        "id_filter = df_order[df_order[\"TIMESTAMP_OUT\"] == 0][\"CASE_ID\"]\n",
        "df_filter_out = df_filter_out[~df_filter_out[\"CASE_ID\"].isin(id_filter)]\n",
        "df_filter_out = df_filter_out.sort_values(['CASE_ID', 'TIMESTAMP_IN'])"
      ],
      "execution_count": 0,
      "outputs": []
    },
    {
      "cell_type": "code",
      "metadata": {
        "id": "vmzUebOtOikv",
        "colab_type": "code",
        "colab": {
          "base_uri": "https://localhost:8080/",
          "height": 51
        },
        "outputId": "218bfe5d-8cbc-4663-a2e5-ffc95a184222"
      },
      "source": [
        "df_unorder = df_filter_out.sort_values(\"TIMESTAMP_IN\").groupby(\"CASE_ID\").tail(1)[[\"CASE_ID\", \"ACTIVITY\"]] \n",
        "id_unorder = df_unorder[df_unorder[\"ACTIVITY\"] != \"Aalta\"][\"CASE_ID\"]\n",
        "df_filter_out = df_filter_out[~df_filter_out[\"CASE_ID\"].isin(id_unorder)]\n",
        "df_filter_out = df_filter_out.sort_values(['CASE_ID', 'TIMESTAMP_IN'])\n",
        "\n",
        "print(\"Len before prefilter: \"+str(len(df_order[\"CASE_ID\"].drop_duplicates())))\n",
        "print(\"Len after prefilter: \"+str(len(df_filter_out[\"CASE_ID\"].drop_duplicates())))"
      ],
      "execution_count": 13,
      "outputs": [
        {
          "output_type": "stream",
          "text": [
            "Len before prefilter: 807\n",
            "Len after prefilter: 801\n"
          ],
          "name": "stdout"
        }
      ]
    },
    {
      "cell_type": "markdown",
      "metadata": {
        "id": "Od-dOPu6OQ3u",
        "colab_type": "text"
      },
      "source": [
        "### check elements whose last element is not alta and first is not admision"
      ]
    },
    {
      "cell_type": "code",
      "metadata": {
        "id": "BCsXQsGLODcm",
        "colab_type": "code",
        "colab": {
          "base_uri": "https://localhost:8080/",
          "height": 68
        },
        "outputId": "48d5a898-35d5-4a3f-8afe-43fbc3f275d3"
      },
      "source": [
        "(df_filter_out.sort_values(\"TIMESTAMP_IN\").groupby(\"CASE_ID\")[\"ACTIVITY\"].first() ).drop_duplicates()"
      ],
      "execution_count": 10,
      "outputs": [
        {
          "output_type": "execute_result",
          "data": {
            "text/plain": [
              "CASE_ID\n",
              "2    admision\n",
              "Name: ACTIVITY, dtype: object"
            ]
          },
          "metadata": {
            "tags": []
          },
          "execution_count": 10
        }
      ]
    },
    {
      "cell_type": "markdown",
      "metadata": {
        "id": "MX9oTgSxhG0g",
        "colab_type": "text"
      },
      "source": [
        "## create routes frame"
      ]
    },
    {
      "cell_type": "code",
      "metadata": {
        "id": "KBO4i25vhH6G",
        "colab_type": "code",
        "outputId": "4e0e335e-3a8b-4de9-c558-0fda8b9f582d",
        "colab": {
          "base_uri": "https://localhost:8080/",
          "height": 204
        }
      },
      "source": [
        "# creamos  las columnas\n",
        "# join function => The join() method takes all items in an iterable and joins them into one string.\n",
        "# reset _index -> Pandas reset_index() is a method to reset index of a Data Frame. reset_index() method sets a list of integer ranging from 0 to length of data as index.\n",
        "df_routes = df_order.groupby('CASE_ID')['ACTIVITY'].agg(lambda x: ','.join(x)).reset_index()\n",
        "df_routes['SIZE'] = df_routes['ACTIVITY'].apply(lambda x: len(x.split(',')))\n",
        "\n",
        "df_routes.columns = ['CASE_ID', 'PATH', 'SIZE_PATH']\n",
        "df_routes['NUM_ELEMENTS_SIZE'] = df_routes.groupby('SIZE_PATH')[\"CASE_ID\"].transform(len)\n",
        "df_routes['NUM_ELEMENTS_PATH'] = df_routes.groupby('PATH')[\"CASE_ID\"].transform(len)\n",
        "\n",
        "df_routes.head()\n"
      ],
      "execution_count": 22,
      "outputs": [
        {
          "output_type": "execute_result",
          "data": {
            "text/html": [
              "<div>\n",
              "<style scoped>\n",
              "    .dataframe tbody tr th:only-of-type {\n",
              "        vertical-align: middle;\n",
              "    }\n",
              "\n",
              "    .dataframe tbody tr th {\n",
              "        vertical-align: top;\n",
              "    }\n",
              "\n",
              "    .dataframe thead th {\n",
              "        text-align: right;\n",
              "    }\n",
              "</style>\n",
              "<table border=\"1\" class=\"dataframe\">\n",
              "  <thead>\n",
              "    <tr style=\"text-align: right;\">\n",
              "      <th></th>\n",
              "      <th>CASE_ID</th>\n",
              "      <th>PATH</th>\n",
              "      <th>SIZE_PATH</th>\n",
              "      <th>NUM_ELEMENTS_SIZE</th>\n",
              "      <th>NUM_ELEMENTS_PATH</th>\n",
              "    </tr>\n",
              "  </thead>\n",
              "  <tbody>\n",
              "    <tr>\n",
              "      <th>0</th>\n",
              "      <td>1</td>\n",
              "      <td>Aalta,admision,triaje,rx solicitud,rx exploracion</td>\n",
              "      <td>5</td>\n",
              "      <td>16</td>\n",
              "      <td>1</td>\n",
              "    </tr>\n",
              "    <tr>\n",
              "      <th>1</th>\n",
              "      <td>2</td>\n",
              "      <td>admision,triaje,rx solicitud,Aalta</td>\n",
              "      <td>4</td>\n",
              "      <td>25</td>\n",
              "      <td>22</td>\n",
              "    </tr>\n",
              "    <tr>\n",
              "      <th>2</th>\n",
              "      <td>4</td>\n",
              "      <td>admision,triaje,Aalta</td>\n",
              "      <td>3</td>\n",
              "      <td>12</td>\n",
              "      <td>10</td>\n",
              "    </tr>\n",
              "    <tr>\n",
              "      <th>3</th>\n",
              "      <td>5</td>\n",
              "      <td>admision,triaje,rx solicitud,Aalta</td>\n",
              "      <td>4</td>\n",
              "      <td>25</td>\n",
              "      <td>22</td>\n",
              "    </tr>\n",
              "    <tr>\n",
              "      <th>4</th>\n",
              "      <td>6</td>\n",
              "      <td>admision,triaje,rx solicitud,Aalta</td>\n",
              "      <td>4</td>\n",
              "      <td>25</td>\n",
              "      <td>22</td>\n",
              "    </tr>\n",
              "  </tbody>\n",
              "</table>\n",
              "</div>"
            ],
            "text/plain": [
              "   CASE_ID  ... NUM_ELEMENTS_PATH\n",
              "0        1  ...                 1\n",
              "1        2  ...                22\n",
              "2        4  ...                10\n",
              "3        5  ...                22\n",
              "4        6  ...                22\n",
              "\n",
              "[5 rows x 5 columns]"
            ]
          },
          "metadata": {
            "tags": []
          },
          "execution_count": 22
        }
      ]
    },
    {
      "cell_type": "code",
      "metadata": {
        "id": "KQdmNpu8hMGV",
        "colab_type": "code",
        "outputId": "720173d9-1437-4778-ba0b-a0c81df08364",
        "colab": {
          "base_uri": "https://localhost:8080/",
          "height": 119
        }
      },
      "source": [
        "print(\"min size path: \"+str(min(df_routes[\"SIZE_PATH\"])))\n",
        "print(\"Max size path: \"+str(max(df_routes[\"SIZE_PATH\"])))\n",
        "print(\"Mean size path: \"+str(df_routes[\"SIZE_PATH\"].mean()))\n",
        "print(\"MEdian size path: \"+str(df_routes[\"SIZE_PATH\"].median()))\n",
        "print(\"Num users per len route mean: \"+str(df_routes[\"NUM_ELEMENTS_SIZE\"].mean()))\n",
        "print(\"Num users per len route median: \"+str(df_routes[\"NUM_ELEMENTS_SIZE\"].median()))"
      ],
      "execution_count": 24,
      "outputs": [
        {
          "output_type": "stream",
          "text": [
            "min size path: 1\n",
            "Max size path: 6\n",
            "Mean size path: 2.159851301115242\n",
            "MEdian size path: 2.0\n",
            "Num users per len route mean: 694.6158612143743\n",
            "Num users per len route median: 748.0\n"
          ],
          "name": "stdout"
        }
      ]
    },
    {
      "cell_type": "code",
      "metadata": {
        "id": "wPU_BMX8iDdc",
        "colab_type": "code",
        "outputId": "936af3ff-94ef-4dca-f082-8f8ffd248658",
        "colab": {
          "base_uri": "https://localhost:8080/",
          "height": 153
        }
      },
      "source": [
        "df_routes.groupby(\"SIZE_PATH\").size()"
      ],
      "execution_count": 25,
      "outputs": [
        {
          "output_type": "execute_result",
          "data": {
            "text/plain": [
              "SIZE_PATH\n",
              "1      1\n",
              "2    748\n",
              "3     12\n",
              "4     25\n",
              "5     16\n",
              "6      5\n",
              "dtype: int64"
            ]
          },
          "metadata": {
            "tags": []
          },
          "execution_count": 25
        }
      ]
    },
    {
      "cell_type": "markdown",
      "metadata": {
        "id": "SD07Ecc1iDKf",
        "colab_type": "text"
      },
      "source": [
        "## and join data to create date and routes together"
      ]
    },
    {
      "cell_type": "markdown",
      "metadata": {
        "id": "XNjpWaSniKam",
        "colab_type": "text"
      },
      "source": [
        "and join data beacuase we want also the size and number of elements"
      ]
    },
    {
      "cell_type": "code",
      "metadata": {
        "id": "cDaFR0w1iMQW",
        "colab_type": "code",
        "outputId": "71e8391f-223e-4e86-ff8d-22992e465a93",
        "colab": {
          "base_uri": "https://localhost:8080/",
          "height": 204
        }
      },
      "source": [
        "df_join = df.merge(df_routes).sort_values([\"CASE_ID\", \"TIMESTAMP_IN\"])\n",
        "df_join = df_join[[\"CASE_ID\", \"ACTIVITY\", \"TIMESTAMP_IN\", \"TIMESTAMP_OUT\", \"PATH\", \"SIZE_PATH\", \"NUM_ELEMENTS_SIZE\", \"NUM_ELEMENTS_PATH\"]]\n",
        "df_join.head()"
      ],
      "execution_count": 26,
      "outputs": [
        {
          "output_type": "execute_result",
          "data": {
            "text/html": [
              "<div>\n",
              "<style scoped>\n",
              "    .dataframe tbody tr th:only-of-type {\n",
              "        vertical-align: middle;\n",
              "    }\n",
              "\n",
              "    .dataframe tbody tr th {\n",
              "        vertical-align: top;\n",
              "    }\n",
              "\n",
              "    .dataframe thead th {\n",
              "        text-align: right;\n",
              "    }\n",
              "</style>\n",
              "<table border=\"1\" class=\"dataframe\">\n",
              "  <thead>\n",
              "    <tr style=\"text-align: right;\">\n",
              "      <th></th>\n",
              "      <th>CASE_ID</th>\n",
              "      <th>ACTIVITY</th>\n",
              "      <th>TIMESTAMP_IN</th>\n",
              "      <th>TIMESTAMP_OUT</th>\n",
              "      <th>PATH</th>\n",
              "      <th>SIZE_PATH</th>\n",
              "      <th>NUM_ELEMENTS_SIZE</th>\n",
              "      <th>NUM_ELEMENTS_PATH</th>\n",
              "    </tr>\n",
              "  </thead>\n",
              "  <tbody>\n",
              "    <tr>\n",
              "      <th>4</th>\n",
              "      <td>1</td>\n",
              "      <td>Aalta</td>\n",
              "      <td>0.000000e+00</td>\n",
              "      <td>0.000000e+00</td>\n",
              "      <td>Aalta,admision,triaje,rx solicitud,rx exploracion</td>\n",
              "      <td>5</td>\n",
              "      <td>16</td>\n",
              "      <td>1</td>\n",
              "    </tr>\n",
              "    <tr>\n",
              "      <th>0</th>\n",
              "      <td>1</td>\n",
              "      <td>admision</td>\n",
              "      <td>1.614764e+08</td>\n",
              "      <td>1.614772e+08</td>\n",
              "      <td>Aalta,admision,triaje,rx solicitud,rx exploracion</td>\n",
              "      <td>5</td>\n",
              "      <td>16</td>\n",
              "      <td>1</td>\n",
              "    </tr>\n",
              "    <tr>\n",
              "      <th>1</th>\n",
              "      <td>1</td>\n",
              "      <td>triaje</td>\n",
              "      <td>1.614772e+08</td>\n",
              "      <td>1.614816e+08</td>\n",
              "      <td>Aalta,admision,triaje,rx solicitud,rx exploracion</td>\n",
              "      <td>5</td>\n",
              "      <td>16</td>\n",
              "      <td>1</td>\n",
              "    </tr>\n",
              "    <tr>\n",
              "      <th>2</th>\n",
              "      <td>1</td>\n",
              "      <td>rx solicitud</td>\n",
              "      <td>1.614816e+08</td>\n",
              "      <td>1.614831e+08</td>\n",
              "      <td>Aalta,admision,triaje,rx solicitud,rx exploracion</td>\n",
              "      <td>5</td>\n",
              "      <td>16</td>\n",
              "      <td>1</td>\n",
              "    </tr>\n",
              "    <tr>\n",
              "      <th>3</th>\n",
              "      <td>1</td>\n",
              "      <td>rx exploracion</td>\n",
              "      <td>1.614831e+08</td>\n",
              "      <td>0.000000e+00</td>\n",
              "      <td>Aalta,admision,triaje,rx solicitud,rx exploracion</td>\n",
              "      <td>5</td>\n",
              "      <td>16</td>\n",
              "      <td>1</td>\n",
              "    </tr>\n",
              "  </tbody>\n",
              "</table>\n",
              "</div>"
            ],
            "text/plain": [
              "   CASE_ID        ACTIVITY  ...  NUM_ELEMENTS_SIZE  NUM_ELEMENTS_PATH\n",
              "4        1           Aalta  ...                 16                  1\n",
              "0        1        admision  ...                 16                  1\n",
              "1        1          triaje  ...                 16                  1\n",
              "2        1    rx solicitud  ...                 16                  1\n",
              "3        1  rx exploracion  ...                 16                  1\n",
              "\n",
              "[5 rows x 8 columns]"
            ]
          },
          "metadata": {
            "tags": []
          },
          "execution_count": 26
        }
      ]
    },
    {
      "cell_type": "markdown",
      "metadata": {
        "id": "b9M-iABMiQe9",
        "colab_type": "text"
      },
      "source": [
        "process times"
      ]
    },
    {
      "cell_type": "markdown",
      "metadata": {
        "id": "OJZ3Xz-FiUI0",
        "colab_type": "text"
      },
      "source": [
        "normalize times"
      ]
    },
    {
      "cell_type": "code",
      "metadata": {
        "id": "s733SHcniSMq",
        "colab_type": "code",
        "outputId": "401e4831-8993-49bd-f077-2d6dc197ebe3",
        "colab": {
          "base_uri": "https://localhost:8080/",
          "height": 221
        }
      },
      "source": [
        "df_timestamp = df_join.sort_values(['CASE_ID', 'TIMESTAMP_IN']).copy()\n",
        "min_value =  df_timestamp[\"TIMESTAMP_IN\"].min()-1\n",
        "print(min_value)\n",
        "df_timestamp[\"TIMESTAMP_IN\"] = df_timestamp[\"TIMESTAMP_IN\"]-min_value\n",
        "df_timestamp[\"TIMESTAMP_OUT\"] = df_timestamp[\"TIMESTAMP_OUT\"]-min_value\n",
        "df_timestamp.sort_values(\"TIMESTAMP_IN\")\n",
        "df_timestamp.head()"
      ],
      "execution_count": 28,
      "outputs": [
        {
          "output_type": "stream",
          "text": [
            "-1.0\n"
          ],
          "name": "stdout"
        },
        {
          "output_type": "execute_result",
          "data": {
            "text/html": [
              "<div>\n",
              "<style scoped>\n",
              "    .dataframe tbody tr th:only-of-type {\n",
              "        vertical-align: middle;\n",
              "    }\n",
              "\n",
              "    .dataframe tbody tr th {\n",
              "        vertical-align: top;\n",
              "    }\n",
              "\n",
              "    .dataframe thead th {\n",
              "        text-align: right;\n",
              "    }\n",
              "</style>\n",
              "<table border=\"1\" class=\"dataframe\">\n",
              "  <thead>\n",
              "    <tr style=\"text-align: right;\">\n",
              "      <th></th>\n",
              "      <th>CASE_ID</th>\n",
              "      <th>ACTIVITY</th>\n",
              "      <th>TIMESTAMP_IN</th>\n",
              "      <th>TIMESTAMP_OUT</th>\n",
              "      <th>PATH</th>\n",
              "      <th>SIZE_PATH</th>\n",
              "      <th>NUM_ELEMENTS_SIZE</th>\n",
              "      <th>NUM_ELEMENTS_PATH</th>\n",
              "    </tr>\n",
              "  </thead>\n",
              "  <tbody>\n",
              "    <tr>\n",
              "      <th>4</th>\n",
              "      <td>1</td>\n",
              "      <td>Aalta</td>\n",
              "      <td>1.000000e+00</td>\n",
              "      <td>1.000000e+00</td>\n",
              "      <td>Aalta,admision,triaje,rx solicitud,rx exploracion</td>\n",
              "      <td>5</td>\n",
              "      <td>16</td>\n",
              "      <td>1</td>\n",
              "    </tr>\n",
              "    <tr>\n",
              "      <th>0</th>\n",
              "      <td>1</td>\n",
              "      <td>admision</td>\n",
              "      <td>1.614764e+08</td>\n",
              "      <td>1.614772e+08</td>\n",
              "      <td>Aalta,admision,triaje,rx solicitud,rx exploracion</td>\n",
              "      <td>5</td>\n",
              "      <td>16</td>\n",
              "      <td>1</td>\n",
              "    </tr>\n",
              "    <tr>\n",
              "      <th>1</th>\n",
              "      <td>1</td>\n",
              "      <td>triaje</td>\n",
              "      <td>1.614772e+08</td>\n",
              "      <td>1.614816e+08</td>\n",
              "      <td>Aalta,admision,triaje,rx solicitud,rx exploracion</td>\n",
              "      <td>5</td>\n",
              "      <td>16</td>\n",
              "      <td>1</td>\n",
              "    </tr>\n",
              "    <tr>\n",
              "      <th>2</th>\n",
              "      <td>1</td>\n",
              "      <td>rx solicitud</td>\n",
              "      <td>1.614816e+08</td>\n",
              "      <td>1.614831e+08</td>\n",
              "      <td>Aalta,admision,triaje,rx solicitud,rx exploracion</td>\n",
              "      <td>5</td>\n",
              "      <td>16</td>\n",
              "      <td>1</td>\n",
              "    </tr>\n",
              "    <tr>\n",
              "      <th>3</th>\n",
              "      <td>1</td>\n",
              "      <td>rx exploracion</td>\n",
              "      <td>1.614831e+08</td>\n",
              "      <td>1.000000e+00</td>\n",
              "      <td>Aalta,admision,triaje,rx solicitud,rx exploracion</td>\n",
              "      <td>5</td>\n",
              "      <td>16</td>\n",
              "      <td>1</td>\n",
              "    </tr>\n",
              "  </tbody>\n",
              "</table>\n",
              "</div>"
            ],
            "text/plain": [
              "   CASE_ID        ACTIVITY  ...  NUM_ELEMENTS_SIZE  NUM_ELEMENTS_PATH\n",
              "4        1           Aalta  ...                 16                  1\n",
              "0        1        admision  ...                 16                  1\n",
              "1        1          triaje  ...                 16                  1\n",
              "2        1    rx solicitud  ...                 16                  1\n",
              "3        1  rx exploracion  ...                 16                  1\n",
              "\n",
              "[5 rows x 8 columns]"
            ]
          },
          "metadata": {
            "tags": []
          },
          "execution_count": 28
        }
      ]
    },
    {
      "cell_type": "code",
      "metadata": {
        "id": "6TSKfGFAmYGO",
        "colab_type": "code",
        "outputId": "e952372c-3849-4624-9b36-6b5598cf4258",
        "colab": {
          "base_uri": "https://localhost:8080/",
          "height": 359
        }
      },
      "source": [
        "df_timestamp[\"TIME_NODE\"]= df_timestamp[\"TIMESTAMP_OUT\"] - df_timestamp[\"TIMESTAMP_IN\"]\n",
        "df_timestamp.head(10)"
      ],
      "execution_count": 29,
      "outputs": [
        {
          "output_type": "execute_result",
          "data": {
            "text/html": [
              "<div>\n",
              "<style scoped>\n",
              "    .dataframe tbody tr th:only-of-type {\n",
              "        vertical-align: middle;\n",
              "    }\n",
              "\n",
              "    .dataframe tbody tr th {\n",
              "        vertical-align: top;\n",
              "    }\n",
              "\n",
              "    .dataframe thead th {\n",
              "        text-align: right;\n",
              "    }\n",
              "</style>\n",
              "<table border=\"1\" class=\"dataframe\">\n",
              "  <thead>\n",
              "    <tr style=\"text-align: right;\">\n",
              "      <th></th>\n",
              "      <th>CASE_ID</th>\n",
              "      <th>ACTIVITY</th>\n",
              "      <th>TIMESTAMP_IN</th>\n",
              "      <th>TIMESTAMP_OUT</th>\n",
              "      <th>PATH</th>\n",
              "      <th>SIZE_PATH</th>\n",
              "      <th>NUM_ELEMENTS_SIZE</th>\n",
              "      <th>NUM_ELEMENTS_PATH</th>\n",
              "      <th>TIME_NODE</th>\n",
              "    </tr>\n",
              "  </thead>\n",
              "  <tbody>\n",
              "    <tr>\n",
              "      <th>4</th>\n",
              "      <td>1</td>\n",
              "      <td>Aalta</td>\n",
              "      <td>1.000000e+00</td>\n",
              "      <td>1.000000e+00</td>\n",
              "      <td>Aalta,admision,triaje,rx solicitud,rx exploracion</td>\n",
              "      <td>5</td>\n",
              "      <td>16</td>\n",
              "      <td>1</td>\n",
              "      <td>0.000000e+00</td>\n",
              "    </tr>\n",
              "    <tr>\n",
              "      <th>0</th>\n",
              "      <td>1</td>\n",
              "      <td>admision</td>\n",
              "      <td>1.614764e+08</td>\n",
              "      <td>1.614772e+08</td>\n",
              "      <td>Aalta,admision,triaje,rx solicitud,rx exploracion</td>\n",
              "      <td>5</td>\n",
              "      <td>16</td>\n",
              "      <td>1</td>\n",
              "      <td>8.395566e+02</td>\n",
              "    </tr>\n",
              "    <tr>\n",
              "      <th>1</th>\n",
              "      <td>1</td>\n",
              "      <td>triaje</td>\n",
              "      <td>1.614772e+08</td>\n",
              "      <td>1.614816e+08</td>\n",
              "      <td>Aalta,admision,triaje,rx solicitud,rx exploracion</td>\n",
              "      <td>5</td>\n",
              "      <td>16</td>\n",
              "      <td>1</td>\n",
              "      <td>4.409828e+03</td>\n",
              "    </tr>\n",
              "    <tr>\n",
              "      <th>2</th>\n",
              "      <td>1</td>\n",
              "      <td>rx solicitud</td>\n",
              "      <td>1.614816e+08</td>\n",
              "      <td>1.614831e+08</td>\n",
              "      <td>Aalta,admision,triaje,rx solicitud,rx exploracion</td>\n",
              "      <td>5</td>\n",
              "      <td>16</td>\n",
              "      <td>1</td>\n",
              "      <td>1.452231e+03</td>\n",
              "    </tr>\n",
              "    <tr>\n",
              "      <th>3</th>\n",
              "      <td>1</td>\n",
              "      <td>rx exploracion</td>\n",
              "      <td>1.614831e+08</td>\n",
              "      <td>1.000000e+00</td>\n",
              "      <td>Aalta,admision,triaje,rx solicitud,rx exploracion</td>\n",
              "      <td>5</td>\n",
              "      <td>16</td>\n",
              "      <td>1</td>\n",
              "      <td>-1.614831e+08</td>\n",
              "    </tr>\n",
              "    <tr>\n",
              "      <th>5</th>\n",
              "      <td>2</td>\n",
              "      <td>admision</td>\n",
              "      <td>1.614772e+08</td>\n",
              "      <td>1.614780e+08</td>\n",
              "      <td>admision,triaje,rx solicitud,Aalta</td>\n",
              "      <td>4</td>\n",
              "      <td>25</td>\n",
              "      <td>22</td>\n",
              "      <td>7.693292e+02</td>\n",
              "    </tr>\n",
              "    <tr>\n",
              "      <th>6</th>\n",
              "      <td>2</td>\n",
              "      <td>triaje</td>\n",
              "      <td>1.614780e+08</td>\n",
              "      <td>1.614838e+08</td>\n",
              "      <td>admision,triaje,rx solicitud,Aalta</td>\n",
              "      <td>4</td>\n",
              "      <td>25</td>\n",
              "      <td>22</td>\n",
              "      <td>5.769668e+03</td>\n",
              "    </tr>\n",
              "    <tr>\n",
              "      <th>7</th>\n",
              "      <td>2</td>\n",
              "      <td>rx solicitud</td>\n",
              "      <td>1.614838e+08</td>\n",
              "      <td>1.615233e+08</td>\n",
              "      <td>admision,triaje,rx solicitud,Aalta</td>\n",
              "      <td>4</td>\n",
              "      <td>25</td>\n",
              "      <td>22</td>\n",
              "      <td>3.957154e+04</td>\n",
              "    </tr>\n",
              "    <tr>\n",
              "      <th>8</th>\n",
              "      <td>2</td>\n",
              "      <td>Aalta</td>\n",
              "      <td>1.615233e+08</td>\n",
              "      <td>1.615233e+08</td>\n",
              "      <td>admision,triaje,rx solicitud,Aalta</td>\n",
              "      <td>4</td>\n",
              "      <td>25</td>\n",
              "      <td>22</td>\n",
              "      <td>0.000000e+00</td>\n",
              "    </tr>\n",
              "    <tr>\n",
              "      <th>9</th>\n",
              "      <td>4</td>\n",
              "      <td>admision</td>\n",
              "      <td>1.614780e+08</td>\n",
              "      <td>1.614786e+08</td>\n",
              "      <td>admision,triaje,Aalta</td>\n",
              "      <td>3</td>\n",
              "      <td>12</td>\n",
              "      <td>10</td>\n",
              "      <td>5.737981e+02</td>\n",
              "    </tr>\n",
              "  </tbody>\n",
              "</table>\n",
              "</div>"
            ],
            "text/plain": [
              "   CASE_ID        ACTIVITY  ...  NUM_ELEMENTS_PATH     TIME_NODE\n",
              "4        1           Aalta  ...                  1  0.000000e+00\n",
              "0        1        admision  ...                  1  8.395566e+02\n",
              "1        1          triaje  ...                  1  4.409828e+03\n",
              "2        1    rx solicitud  ...                  1  1.452231e+03\n",
              "3        1  rx exploracion  ...                  1 -1.614831e+08\n",
              "5        2        admision  ...                 22  7.693292e+02\n",
              "6        2          triaje  ...                 22  5.769668e+03\n",
              "7        2    rx solicitud  ...                 22  3.957154e+04\n",
              "8        2           Aalta  ...                 22  0.000000e+00\n",
              "9        4        admision  ...                 10  5.737981e+02\n",
              "\n",
              "[10 rows x 9 columns]"
            ]
          },
          "metadata": {
            "tags": []
          },
          "execution_count": 29
        }
      ]
    },
    {
      "cell_type": "markdown",
      "metadata": {
        "id": "Lx0u9X4AP8MI",
        "colab_type": "text"
      },
      "source": [
        "# Informacioens"
      ]
    },
    {
      "cell_type": "markdown",
      "metadata": {
        "id": "1NrzG1lDP-PZ",
        "colab_type": "text"
      },
      "source": [
        "## De nodos time in noces"
      ]
    },
    {
      "cell_type": "code",
      "metadata": {
        "id": "gEUhC4IfQAEf",
        "colab_type": "code",
        "colab": {
          "base_uri": "https://localhost:8080/",
          "height": 187
        },
        "outputId": "5c15356e-902e-4519-a998-b1d03a722617"
      },
      "source": [
        "df_timestamp.groupby(\"ACTIVITY\").mean()[\"TIME_NODE\"]"
      ],
      "execution_count": 30,
      "outputs": [
        {
          "output_type": "execute_result",
          "data": {
            "text/plain": [
              "ACTIVITY\n",
              "Aalta             0.000000e+00\n",
              "admision         -2.000947e+05\n",
              "interconsulta    -1.078275e+07\n",
              "respuesta         2.234568e+04\n",
              "rx exploracion   -1.614831e+08\n",
              "rx informe        1.248370e+04\n",
              "rx solicitud      1.352128e+04\n",
              "triaje           -2.668599e+06\n",
              "Name: TIME_NODE, dtype: float64"
            ]
          },
          "metadata": {
            "tags": []
          },
          "execution_count": 30
        }
      ]
    },
    {
      "cell_type": "markdown",
      "metadata": {
        "id": "g4aB1G6LQFq_",
        "colab_type": "text"
      },
      "source": [
        "## elementos en tamamaños de rutas"
      ]
    },
    {
      "cell_type": "code",
      "metadata": {
        "id": "0fUucOBlQH2f",
        "colab_type": "code",
        "colab": {
          "base_uri": "https://localhost:8080/",
          "height": 235
        },
        "outputId": "f2ec974c-253a-4051-cc7d-03c79e13ee70"
      },
      "source": [
        "num_users = df_timestamp[\"CASE_ID\"].drop_duplicates().count()\n",
        "df_timestamp[\"PERCENTAGE_SIZE\"]= df_timestamp[\"NUM_ELEMENTS_SIZE\"]/num_users\n",
        "df_timestamp[[\"SIZE_PATH\", \"NUM_ELEMENTS_SIZE\", \"PERCENTAGE_SIZE\"]].drop_duplicates()"
      ],
      "execution_count": 31,
      "outputs": [
        {
          "output_type": "execute_result",
          "data": {
            "text/html": [
              "<div>\n",
              "<style scoped>\n",
              "    .dataframe tbody tr th:only-of-type {\n",
              "        vertical-align: middle;\n",
              "    }\n",
              "\n",
              "    .dataframe tbody tr th {\n",
              "        vertical-align: top;\n",
              "    }\n",
              "\n",
              "    .dataframe thead th {\n",
              "        text-align: right;\n",
              "    }\n",
              "</style>\n",
              "<table border=\"1\" class=\"dataframe\">\n",
              "  <thead>\n",
              "    <tr style=\"text-align: right;\">\n",
              "      <th></th>\n",
              "      <th>SIZE_PATH</th>\n",
              "      <th>NUM_ELEMENTS_SIZE</th>\n",
              "      <th>PERCENTAGE_SIZE</th>\n",
              "    </tr>\n",
              "  </thead>\n",
              "  <tbody>\n",
              "    <tr>\n",
              "      <th>4</th>\n",
              "      <td>5</td>\n",
              "      <td>16</td>\n",
              "      <td>0.019827</td>\n",
              "    </tr>\n",
              "    <tr>\n",
              "      <th>5</th>\n",
              "      <td>4</td>\n",
              "      <td>25</td>\n",
              "      <td>0.030979</td>\n",
              "    </tr>\n",
              "    <tr>\n",
              "      <th>9</th>\n",
              "      <td>3</td>\n",
              "      <td>12</td>\n",
              "      <td>0.014870</td>\n",
              "    </tr>\n",
              "    <tr>\n",
              "      <th>82</th>\n",
              "      <td>6</td>\n",
              "      <td>5</td>\n",
              "      <td>0.006196</td>\n",
              "    </tr>\n",
              "    <tr>\n",
              "      <th>231</th>\n",
              "      <td>2</td>\n",
              "      <td>748</td>\n",
              "      <td>0.926890</td>\n",
              "    </tr>\n",
              "    <tr>\n",
              "      <th>1742</th>\n",
              "      <td>1</td>\n",
              "      <td>1</td>\n",
              "      <td>0.001239</td>\n",
              "    </tr>\n",
              "  </tbody>\n",
              "</table>\n",
              "</div>"
            ],
            "text/plain": [
              "      SIZE_PATH  NUM_ELEMENTS_SIZE  PERCENTAGE_SIZE\n",
              "4             5                 16         0.019827\n",
              "5             4                 25         0.030979\n",
              "9             3                 12         0.014870\n",
              "82            6                  5         0.006196\n",
              "231           2                748         0.926890\n",
              "1742          1                  1         0.001239"
            ]
          },
          "metadata": {
            "tags": []
          },
          "execution_count": 31
        }
      ]
    },
    {
      "cell_type": "markdown",
      "metadata": {
        "id": "dPtRN4W-QLdo",
        "colab_type": "text"
      },
      "source": [
        "## elementos en rutas"
      ]
    },
    {
      "cell_type": "code",
      "metadata": {
        "id": "9TOEkBtbQOa_",
        "colab_type": "code",
        "colab": {
          "base_uri": "https://localhost:8080/",
          "height": 204
        },
        "outputId": "a65cb199-1bbb-4442-aece-7c4fddb7d0d1"
      },
      "source": [
        "\n",
        "df_timestamp[\"PERCENTAGE_PATH\"]= df_timestamp[\"NUM_ELEMENTS_PATH\"]/num_users\n",
        "df_timestamp[[\"PATH\", \"SIZE_PATH\", \"NUM_ELEMENTS_PATH\", \"PERCENTAGE_PATH\"]].drop_duplicates().sort_values(\"PERCENTAGE_PATH\", ascending= False).head()"
      ],
      "execution_count": 32,
      "outputs": [
        {
          "output_type": "execute_result",
          "data": {
            "text/html": [
              "<div>\n",
              "<style scoped>\n",
              "    .dataframe tbody tr th:only-of-type {\n",
              "        vertical-align: middle;\n",
              "    }\n",
              "\n",
              "    .dataframe tbody tr th {\n",
              "        vertical-align: top;\n",
              "    }\n",
              "\n",
              "    .dataframe thead th {\n",
              "        text-align: right;\n",
              "    }\n",
              "</style>\n",
              "<table border=\"1\" class=\"dataframe\">\n",
              "  <thead>\n",
              "    <tr style=\"text-align: right;\">\n",
              "      <th></th>\n",
              "      <th>PATH</th>\n",
              "      <th>SIZE_PATH</th>\n",
              "      <th>NUM_ELEMENTS_PATH</th>\n",
              "      <th>PERCENTAGE_PATH</th>\n",
              "    </tr>\n",
              "  </thead>\n",
              "  <tbody>\n",
              "    <tr>\n",
              "      <th>231</th>\n",
              "      <td>admision,Aalta</td>\n",
              "      <td>2</td>\n",
              "      <td>748</td>\n",
              "      <td>0.926890</td>\n",
              "    </tr>\n",
              "    <tr>\n",
              "      <th>5</th>\n",
              "      <td>admision,triaje,rx solicitud,Aalta</td>\n",
              "      <td>4</td>\n",
              "      <td>22</td>\n",
              "      <td>0.027261</td>\n",
              "    </tr>\n",
              "    <tr>\n",
              "      <th>9</th>\n",
              "      <td>admision,triaje,Aalta</td>\n",
              "      <td>3</td>\n",
              "      <td>10</td>\n",
              "      <td>0.012392</td>\n",
              "    </tr>\n",
              "    <tr>\n",
              "      <th>55</th>\n",
              "      <td>admision,triaje,rx informe,rx solicitud,Aalta</td>\n",
              "      <td>5</td>\n",
              "      <td>6</td>\n",
              "      <td>0.007435</td>\n",
              "    </tr>\n",
              "    <tr>\n",
              "      <th>72</th>\n",
              "      <td>admision,triaje,rx solicitud,interconsulta,Aalta</td>\n",
              "      <td>5</td>\n",
              "      <td>3</td>\n",
              "      <td>0.003717</td>\n",
              "    </tr>\n",
              "  </tbody>\n",
              "</table>\n",
              "</div>"
            ],
            "text/plain": [
              "                                                 PATH  ...  PERCENTAGE_PATH\n",
              "231                                    admision,Aalta  ...         0.926890\n",
              "5                  admision,triaje,rx solicitud,Aalta  ...         0.027261\n",
              "9                               admision,triaje,Aalta  ...         0.012392\n",
              "55      admision,triaje,rx informe,rx solicitud,Aalta  ...         0.007435\n",
              "72   admision,triaje,rx solicitud,interconsulta,Aalta  ...         0.003717\n",
              "\n",
              "[5 rows x 4 columns]"
            ]
          },
          "metadata": {
            "tags": []
          },
          "execution_count": 32
        }
      ]
    },
    {
      "cell_type": "code",
      "metadata": {
        "id": "OBUMVZraQQzK",
        "colab_type": "code",
        "colab": {
          "base_uri": "https://localhost:8080/",
          "height": 142
        },
        "outputId": "d088dbbc-1091-46b1-e874-0b164c72277a"
      },
      "source": [
        "df_timestamp[df_timestamp[\"SIZE_PATH\"] == 6][[\"PATH\", \"SIZE_PATH\", \"NUM_ELEMENTS_PATH\", \"PERCENTAGE_PATH\"]].drop_duplicates().sort_values(\"PERCENTAGE_PATH\", ascending= False).head()\n"
      ],
      "execution_count": 33,
      "outputs": [
        {
          "output_type": "execute_result",
          "data": {
            "text/html": [
              "<div>\n",
              "<style scoped>\n",
              "    .dataframe tbody tr th:only-of-type {\n",
              "        vertical-align: middle;\n",
              "    }\n",
              "\n",
              "    .dataframe tbody tr th {\n",
              "        vertical-align: top;\n",
              "    }\n",
              "\n",
              "    .dataframe thead th {\n",
              "        text-align: right;\n",
              "    }\n",
              "</style>\n",
              "<table border=\"1\" class=\"dataframe\">\n",
              "  <thead>\n",
              "    <tr style=\"text-align: right;\">\n",
              "      <th></th>\n",
              "      <th>PATH</th>\n",
              "      <th>SIZE_PATH</th>\n",
              "      <th>NUM_ELEMENTS_PATH</th>\n",
              "      <th>PERCENTAGE_PATH</th>\n",
              "    </tr>\n",
              "  </thead>\n",
              "  <tbody>\n",
              "    <tr>\n",
              "      <th>82</th>\n",
              "      <td>admision,triaje,interconsulta,respuesta,rx sol...</td>\n",
              "      <td>6</td>\n",
              "      <td>3</td>\n",
              "      <td>0.003717</td>\n",
              "    </tr>\n",
              "    <tr>\n",
              "      <th>130</th>\n",
              "      <td>admision,triaje,interconsulta,rx solicitud,res...</td>\n",
              "      <td>6</td>\n",
              "      <td>1</td>\n",
              "      <td>0.001239</td>\n",
              "    </tr>\n",
              "    <tr>\n",
              "      <th>166</th>\n",
              "      <td>admision,triaje,rx solicitud,interconsulta,res...</td>\n",
              "      <td>6</td>\n",
              "      <td>1</td>\n",
              "      <td>0.001239</td>\n",
              "    </tr>\n",
              "  </tbody>\n",
              "</table>\n",
              "</div>"
            ],
            "text/plain": [
              "                                                  PATH  ...  PERCENTAGE_PATH\n",
              "82   admision,triaje,interconsulta,respuesta,rx sol...  ...         0.003717\n",
              "130  admision,triaje,interconsulta,rx solicitud,res...  ...         0.001239\n",
              "166  admision,triaje,rx solicitud,interconsulta,res...  ...         0.001239\n",
              "\n",
              "[3 rows x 4 columns]"
            ]
          },
          "metadata": {
            "tags": []
          },
          "execution_count": 33
        }
      ]
    }
  ]
}