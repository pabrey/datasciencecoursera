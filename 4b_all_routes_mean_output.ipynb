{
  "nbformat": 4,
  "nbformat_minor": 0,
  "metadata": {
    "colab": {
      "name": "4b-all-routes-mean-output.ipynb",
      "version": "0.3.2",
      "provenance": [],
      "toc_visible": true,
      "include_colab_link": true
    },
    "kernelspec": {
      "name": "python3",
      "display_name": "Python 3"
    }
  },
  "cells": [
    {
      "cell_type": "markdown",
      "metadata": {
        "id": "view-in-github",
        "colab_type": "text"
      },
      "source": [
        "<a href=\"https://colab.research.google.com/github/pabrey/datasciencecoursera/blob/master/4b_all_routes_mean_output.ipynb\" target=\"_parent\"><img src=\"https://colab.research.google.com/assets/colab-badge.svg\" alt=\"Open In Colab\"/></a>"
      ]
    },
    {
      "cell_type": "markdown",
      "metadata": {
        "id": "ATjAHK4fgAbh",
        "colab_type": "text"
      },
      "source": [
        "# Previous"
      ]
    },
    {
      "cell_type": "code",
      "metadata": {
        "id": "0pQCn2ref7FN",
        "colab_type": "code",
        "colab": {}
      },
      "source": [
        "import pandas as pd\n",
        "import io\n",
        "import matplotlib.pyplot as plt\n",
        "import numpy as np\n",
        "import json\n",
        "from google.colab import files\n",
        "import time\n",
        "from datetime import datetime\n",
        "import math\n",
        "\n",
        "from google.colab import drive\n",
        "drive.mount('/content/drive')"
      ],
      "execution_count": 0,
      "outputs": []
    },
    {
      "cell_type": "markdown",
      "metadata": {
        "id": "gDiMc83PgOgi",
        "colab_type": "text"
      },
      "source": [
        "# Create functions"
      ]
    },
    {
      "cell_type": "markdown",
      "metadata": {
        "id": "LvoY-4g-gQuu",
        "colab_type": "text"
      },
      "source": [
        "## load data"
      ]
    },
    {
      "cell_type": "code",
      "metadata": {
        "id": "A_F10h_5gQUP",
        "colab_type": "code",
        "colab": {}
      },
      "source": [
        "\n",
        "def load_data(location):\n",
        "  Separator = ';'\n",
        "\n",
        "  df =  pd.read_csv(location, sep=Separator)\n",
        "\n",
        "  df.columns = [\"CASE_ID\", \"ACTIVITY\",\t\"TIMESTAMP_IN\",\t\"TIMESTAMP_OUT\", \"COLOR\"] \n",
        "  df[\"DIFFERENCE\"]= df[\"TIMESTAMP_OUT\"] - df[\"TIMESTAMP_IN\"]\n",
        "  df_order = df.sort_values(['CASE_ID', 'TIMESTAMP_IN'])\n",
        "\n",
        "  print(df_order.head())\n",
        "  print(df_order.head(1))\n",
        "  print(df_order.tail(1))\n",
        "  print(df_order.tail(1))\n",
        "  return df_order"
      ],
      "execution_count": 0,
      "outputs": []
    },
    {
      "cell_type": "markdown",
      "metadata": {
        "id": "5GxKA6pjOAd_",
        "colab_type": "text"
      },
      "source": [
        "## prefilter"
      ]
    },
    {
      "cell_type": "markdown",
      "metadata": {
        "id": "FHYOtsocOG4H",
        "colab_type": "text"
      },
      "source": [
        "thers elements with timestamp to 0, delete this elements"
      ]
    },
    {
      "cell_type": "code",
      "metadata": {
        "id": "HtBZsfs_OGV2",
        "colab_type": "code",
        "colab": {}
      },
      "source": [
        "def filter_bad_data(df_input):\n",
        "  #hers elements with timestamp to 0, delete this elements\n",
        "  id_filter = df_input[df_input[\"TIMESTAMP_IN\"] == 0][\"CASE_ID\"]\n",
        "  df_filter_out = df_input[~df_input[\"CASE_ID\"].isin(id_filter)]\n",
        "  id_filter = df_input[df_input[\"TIMESTAMP_OUT\"] == 0][\"CASE_ID\"]\n",
        "  df_filter_out = df_filter_out[~df_filter_out[\"CASE_ID\"].isin(id_filter)]\n",
        "  df_filter_out = df_filter_out.sort_values(['CASE_ID', 'TIMESTAMP_IN'])\n",
        "  \n",
        "  #elementos no ordenados\n",
        "  df_unorder = df_filter_out.sort_values(\"TIMESTAMP_IN\").groupby(\"CASE_ID\").tail(1)[[\"CASE_ID\", \"ACTIVITY\"]] \n",
        "  id_unorder = df_unorder[df_unorder[\"ACTIVITY\"] != \"Aalta\"][\"CASE_ID\"]\n",
        "  df_filter_out = df_filter_out[~df_filter_out[\"CASE_ID\"].isin(id_unorder)]\n",
        "  df_filter_out = df_filter_out.sort_values(['CASE_ID', 'TIMESTAMP_IN'])\n",
        "  df_filter_out = df_filter_out.sort_values([\"CASE_ID\", \"TIMESTAMP_IN\"])\n",
        "\n",
        "  print(\"Len before prefilter: \"+str(len(df_input[\"CASE_ID\"].drop_duplicates())))\n",
        "  print(\"Len after prefilter: \"+str(len(df_filter_out[\"CASE_ID\"].drop_duplicates())))\n",
        "  \n",
        "  return df_filter_out"
      ],
      "execution_count": 0,
      "outputs": []
    },
    {
      "cell_type": "markdown",
      "metadata": {
        "id": "d7RLaS3QbzYH",
        "colab_type": "text"
      },
      "source": [
        "## create minero"
      ]
    },
    {
      "cell_type": "code",
      "metadata": {
        "id": "NXf4TtMRbywQ",
        "colab_type": "code",
        "colab": {}
      },
      "source": [
        "\n",
        "def create_minero_file(input_df, ouput_file):\n",
        "  input_df = input_df[[\"CASE_ID\", \"ACTIVITY\", \"TIMESTAMP_IN\"]]\n",
        "  input_df[\"DATE_IN\"] = (pd.to_datetime(input_df[\"TIMESTAMP_IN\"]*1000,unit='ms'))\n",
        "  input_df[\"TIMESTAMP\"] = input_df[\"DATE_IN\"].dt.strftime('%d/%m/%Y %H:%M:%S')+ \" UTC\"\n",
        "\n",
        "  input_df[[\"CASE_ID\",\"ACTIVITY\",\"TIMESTAMP\"]].sort_values([\"CASE_ID\", \"TIMESTAMP\"]).to_csv(ouput_file, index=False, sep = ';')\n",
        "  files.download(ouput_file)"
      ],
      "execution_count": 0,
      "outputs": []
    },
    {
      "cell_type": "markdown",
      "metadata": {
        "id": "Od-dOPu6OQ3u",
        "colab_type": "text"
      },
      "source": [
        "### check elements whose last element is not alta and first is not admision"
      ]
    },
    {
      "cell_type": "code",
      "metadata": {
        "id": "BCsXQsGLODcm",
        "colab_type": "code",
        "colab": {
          "base_uri": "https://localhost:8080/",
          "height": 68
        },
        "outputId": "08da5d1f-3695-41ac-f450-1f25d72b4ea9"
      },
      "source": [
        "\n",
        "(df_filter_out.sort_values(\"TIMESTAMP_IN\").groupby(\"CASE_ID\")[\"ACTIVITY\"].first() ).drop_duplicates()"
      ],
      "execution_count": 22,
      "outputs": [
        {
          "output_type": "execute_result",
          "data": {
            "text/plain": [
              "CASE_ID\n",
              "2    admision\n",
              "Name: ACTIVITY, dtype: object"
            ]
          },
          "metadata": {
            "tags": []
          },
          "execution_count": 22
        }
      ]
    },
    {
      "cell_type": "code",
      "metadata": {
        "id": "EypAzHPdSyEi",
        "colab_type": "code",
        "colab": {
          "base_uri": "https://localhost:8080/",
          "height": 204
        },
        "outputId": "50cbef69-d4aa-4773-83e9-470890393190"
      },
      "source": [
        "df_filter_out.head()"
      ],
      "execution_count": 18,
      "outputs": [
        {
          "output_type": "execute_result",
          "data": {
            "text/html": [
              "<div>\n",
              "<style scoped>\n",
              "    .dataframe tbody tr th:only-of-type {\n",
              "        vertical-align: middle;\n",
              "    }\n",
              "\n",
              "    .dataframe tbody tr th {\n",
              "        vertical-align: top;\n",
              "    }\n",
              "\n",
              "    .dataframe thead th {\n",
              "        text-align: right;\n",
              "    }\n",
              "</style>\n",
              "<table border=\"1\" class=\"dataframe\">\n",
              "  <thead>\n",
              "    <tr style=\"text-align: right;\">\n",
              "      <th></th>\n",
              "      <th>CASE_ID</th>\n",
              "      <th>ACTIVITY</th>\n",
              "      <th>TIMESTAMP_IN</th>\n",
              "      <th>TIMESTAMP_OUT</th>\n",
              "      <th>COLOR</th>\n",
              "    </tr>\n",
              "  </thead>\n",
              "  <tbody>\n",
              "    <tr>\n",
              "      <th>5</th>\n",
              "      <td>2</td>\n",
              "      <td>admision</td>\n",
              "      <td>1.614772e+08</td>\n",
              "      <td>1.614780e+08</td>\n",
              "      <td>NaN</td>\n",
              "    </tr>\n",
              "    <tr>\n",
              "      <th>6</th>\n",
              "      <td>2</td>\n",
              "      <td>triaje</td>\n",
              "      <td>1.614780e+08</td>\n",
              "      <td>1.614838e+08</td>\n",
              "      <td>NaN</td>\n",
              "    </tr>\n",
              "    <tr>\n",
              "      <th>7</th>\n",
              "      <td>2</td>\n",
              "      <td>rx solicitud</td>\n",
              "      <td>1.614838e+08</td>\n",
              "      <td>1.615233e+08</td>\n",
              "      <td>NaN</td>\n",
              "    </tr>\n",
              "    <tr>\n",
              "      <th>8</th>\n",
              "      <td>2</td>\n",
              "      <td>Aalta</td>\n",
              "      <td>1.615233e+08</td>\n",
              "      <td>1.615233e+08</td>\n",
              "      <td>NaN</td>\n",
              "    </tr>\n",
              "    <tr>\n",
              "      <th>9</th>\n",
              "      <td>4</td>\n",
              "      <td>admision</td>\n",
              "      <td>1.614780e+08</td>\n",
              "      <td>1.614786e+08</td>\n",
              "      <td>NaN</td>\n",
              "    </tr>\n",
              "  </tbody>\n",
              "</table>\n",
              "</div>"
            ],
            "text/plain": [
              "   CASE_ID      ACTIVITY  TIMESTAMP_IN  TIMESTAMP_OUT  COLOR\n",
              "5        2      admision  1.614772e+08   1.614780e+08    NaN\n",
              "6        2        triaje  1.614780e+08   1.614838e+08    NaN\n",
              "7        2  rx solicitud  1.614838e+08   1.615233e+08    NaN\n",
              "8        2         Aalta  1.615233e+08   1.615233e+08    NaN\n",
              "9        4      admision  1.614780e+08   1.614786e+08    NaN"
            ]
          },
          "metadata": {
            "tags": []
          },
          "execution_count": 18
        }
      ]
    },
    {
      "cell_type": "markdown",
      "metadata": {
        "id": "Lx0u9X4AP8MI",
        "colab_type": "text"
      },
      "source": [
        "# Informacioens"
      ]
    },
    {
      "cell_type": "markdown",
      "metadata": {
        "id": "g4aB1G6LQFq_",
        "colab_type": "text"
      },
      "source": [
        "## sinulation_00"
      ]
    },
    {
      "cell_type": "markdown",
      "metadata": {
        "id": "YOkg3uBWcK0w",
        "colab_type": "text"
      },
      "source": [
        "## load and filter"
      ]
    },
    {
      "cell_type": "code",
      "metadata": {
        "id": "BcOAbhjZT2Tz",
        "colab_type": "code",
        "colab": {
          "base_uri": "https://localhost:8080/",
          "height": 221
        },
        "outputId": "2ab2fe8d-64ca-4c13-ec27-296d1a6526ae"
      },
      "source": [
        "location = 'drive/My Drive/data/prosae/testAllRoutesMean/res_simulacion_mean_00.csv'\n",
        "df_load = load_data(location)\n"
      ],
      "execution_count": 5,
      "outputs": [
        {
          "output_type": "stream",
          "text": [
            "   CASE_ID        ACTIVITY  TIMESTAMP_IN  TIMESTAMP_OUT  COLOR    DIFFERENCE\n",
            "4        1           Aalta  0.000000e+00   0.000000e+00    NaN  0.000000e+00\n",
            "0        1        admision  1.614764e+08   1.614772e+08    NaN  8.395566e+02\n",
            "1        1          triaje  1.614772e+08   1.614816e+08    NaN  4.409828e+03\n",
            "2        1    rx solicitud  1.614816e+08   1.614831e+08    NaN  1.452231e+03\n",
            "3        1  rx exploracion  1.614831e+08   0.000000e+00    NaN -1.614831e+08\n",
            "   CASE_ID ACTIVITY  TIMESTAMP_IN  TIMESTAMP_OUT  COLOR  DIFFERENCE\n",
            "4        1    Aalta           0.0            0.0    NaN         0.0\n",
            "      CASE_ID  ACTIVITY  TIMESTAMP_IN  TIMESTAMP_OUT  COLOR    DIFFERENCE\n",
            "1742      937  admision  1.620759e+08            0.0    NaN -1.620759e+08\n",
            "      CASE_ID  ACTIVITY  TIMESTAMP_IN  TIMESTAMP_OUT  COLOR    DIFFERENCE\n",
            "1742      937  admision  1.620759e+08            0.0    NaN -1.620759e+08\n"
          ],
          "name": "stdout"
        }
      ]
    },
    {
      "cell_type": "code",
      "metadata": {
        "id": "KnbvvPy2UcgE",
        "colab_type": "code",
        "colab": {
          "base_uri": "https://localhost:8080/",
          "height": 51
        },
        "outputId": "4977481b-74ab-4071-8969-16cd0edfec8c"
      },
      "source": [
        "df_filter =  filter_bad_data(df_load)"
      ],
      "execution_count": 6,
      "outputs": [
        {
          "output_type": "stream",
          "text": [
            "Len before prefilter: 807\n",
            "Len after prefilter: 801\n"
          ],
          "name": "stdout"
        }
      ]
    },
    {
      "cell_type": "markdown",
      "metadata": {
        "id": "FD0c_o9OcJgY",
        "colab_type": "text"
      },
      "source": [
        "## check elements whose last element is not alta and first is not admision"
      ]
    },
    {
      "cell_type": "code",
      "metadata": {
        "id": "pfEv6TmVcPRJ",
        "colab_type": "code",
        "colab": {
          "base_uri": "https://localhost:8080/",
          "height": 68
        },
        "outputId": "c9ce8dcf-1d2d-43dd-e68f-2c6093795aa3"
      },
      "source": [
        "(df_filter.sort_values(\"TIMESTAMP_IN\").groupby(\"CASE_ID\")[\"ACTIVITY\"].first() ).drop_duplicates()"
      ],
      "execution_count": 8,
      "outputs": [
        {
          "output_type": "execute_result",
          "data": {
            "text/plain": [
              "CASE_ID\n",
              "2    admision\n",
              "Name: ACTIVITY, dtype: object"
            ]
          },
          "metadata": {
            "tags": []
          },
          "execution_count": 8
        }
      ]
    },
    {
      "cell_type": "markdown",
      "metadata": {
        "id": "-2jrs0oScSEJ",
        "colab_type": "text"
      },
      "source": [
        "## show results"
      ]
    },
    {
      "cell_type": "code",
      "metadata": {
        "id": "5UuWiyIDUnj8",
        "colab_type": "code",
        "colab": {
          "base_uri": "https://localhost:8080/",
          "height": 170
        },
        "outputId": "a467d2d9-ea12-4f92-ab93-04109a9a9869"
      },
      "source": [
        "df_filter.groupby(\"ACTIVITY\")[\"DIFFERENCE\"].mean()"
      ],
      "execution_count": 10,
      "outputs": [
        {
          "output_type": "execute_result",
          "data": {
            "text/plain": [
              "ACTIVITY\n",
              "Aalta                 0.000000\n",
              "admision            742.846072\n",
              "interconsulta     20182.847068\n",
              "respuesta         20819.107290\n",
              "rx informe        12762.277320\n",
              "rx solicitud      12611.087115\n",
              "triaje           329974.480033\n",
              "Name: DIFFERENCE, dtype: float64"
            ]
          },
          "metadata": {
            "tags": []
          },
          "execution_count": 10
        }
      ]
    },
    {
      "cell_type": "markdown",
      "metadata": {
        "id": "m4BvaQc4cYCJ",
        "colab_type": "text"
      },
      "source": [
        "## create file"
      ]
    },
    {
      "cell_type": "code",
      "metadata": {
        "id": "_lif-uNIcfgI",
        "colab_type": "code",
        "colab": {
          "base_uri": "https://localhost:8080/",
          "height": 221
        },
        "outputId": "ed212740-02ab-4c71-858a-053a19aa59cf"
      },
      "source": [
        "ouput_file= 'input_data_miner_mean_00.csv'\n",
        "create_minero_file(df_filter, ouput_file)"
      ],
      "execution_count": 13,
      "outputs": [
        {
          "output_type": "stream",
          "text": [
            "/usr/local/lib/python3.6/dist-packages/ipykernel_launcher.py:4: SettingWithCopyWarning: \n",
            "A value is trying to be set on a copy of a slice from a DataFrame.\n",
            "Try using .loc[row_indexer,col_indexer] = value instead\n",
            "\n",
            "See the caveats in the documentation: http://pandas.pydata.org/pandas-docs/stable/indexing.html#indexing-view-versus-copy\n",
            "  after removing the cwd from sys.path.\n",
            "/usr/local/lib/python3.6/dist-packages/ipykernel_launcher.py:5: SettingWithCopyWarning: \n",
            "A value is trying to be set on a copy of a slice from a DataFrame.\n",
            "Try using .loc[row_indexer,col_indexer] = value instead\n",
            "\n",
            "See the caveats in the documentation: http://pandas.pydata.org/pandas-docs/stable/indexing.html#indexing-view-versus-copy\n",
            "  \"\"\"\n"
          ],
          "name": "stderr"
        }
      ]
    },
    {
      "cell_type": "markdown",
      "metadata": {
        "id": "0FGxTjehU168",
        "colab_type": "text"
      },
      "source": [
        "## sinulation_00_extende case"
      ]
    },
    {
      "cell_type": "code",
      "metadata": {
        "id": "7qrEclPzU5fk",
        "colab_type": "code",
        "colab": {
          "base_uri": "https://localhost:8080/",
          "height": 221
        },
        "outputId": "52b0ea3b-5ded-4e71-bec0-eead2eef0817"
      },
      "source": [
        "location = 'drive/My Drive/data/prosae/testAllRoutesMean/res_simulacion_mean_00_extended_time.csv'\n",
        "df_load = load_data(location)"
      ],
      "execution_count": 14,
      "outputs": [
        {
          "output_type": "stream",
          "text": [
            "   CASE_ID        ACTIVITY  TIMESTAMP_IN  TIMESTAMP_OUT  COLOR    DIFFERENCE\n",
            "0        1        admision  1.614764e+08   1.614772e+08    NaN  8.395566e+02\n",
            "1        1          triaje  1.614772e+08   1.614816e+08    NaN  4.409828e+03\n",
            "2        1    rx solicitud  1.614816e+08   1.614831e+08    NaN  1.452231e+03\n",
            "3        1  rx exploracion  1.614831e+08   1.627340e+08    NaN  1.250893e+06\n",
            "4        1      rx informe  1.627340e+08   1.627350e+08    NaN  1.034050e+03\n",
            "   CASE_ID  ACTIVITY  TIMESTAMP_IN  TIMESTAMP_OUT  COLOR  DIFFERENCE\n",
            "0        1  admision   161476390.0   1.614772e+08    NaN  839.556568\n",
            "       CASE_ID  ACTIVITY  TIMESTAMP_IN  TIMESTAMP_OUT  COLOR    DIFFERENCE\n",
            "17954     9931  admision  1.674754e+08            0.0    NaN -1.674754e+08\n",
            "       CASE_ID  ACTIVITY  TIMESTAMP_IN  TIMESTAMP_OUT  COLOR    DIFFERENCE\n",
            "17954     9931  admision  1.674754e+08            0.0    NaN -1.674754e+08\n"
          ],
          "name": "stdout"
        }
      ]
    },
    {
      "cell_type": "code",
      "metadata": {
        "id": "b-sHYCvWU7Cc",
        "colab_type": "code",
        "colab": {
          "base_uri": "https://localhost:8080/",
          "height": 51
        },
        "outputId": "21523563-5bd3-4a4b-af2d-464c6e3a8870"
      },
      "source": [
        "df_filter =  filter_bad_data(df_load)"
      ],
      "execution_count": 15,
      "outputs": [
        {
          "output_type": "stream",
          "text": [
            "Len before prefilter: 8025\n",
            "Len after prefilter: 7994\n"
          ],
          "name": "stdout"
        }
      ]
    },
    {
      "cell_type": "code",
      "metadata": {
        "id": "5SkC3vggU782",
        "colab_type": "code",
        "colab": {
          "base_uri": "https://localhost:8080/",
          "height": 187
        },
        "outputId": "f2576024-b6ff-42b8-fa46-0b923aa8688a"
      },
      "source": [
        "df_filter.groupby(\"ACTIVITY\")[\"DIFFERENCE\"].mean()"
      ],
      "execution_count": 16,
      "outputs": [
        {
          "output_type": "execute_result",
          "data": {
            "text/plain": [
              "ACTIVITY\n",
              "Aalta             0.000000e+00\n",
              "admision          7.479814e+02\n",
              "interconsulta     1.289066e+05\n",
              "respuesta         4.051206e+04\n",
              "rx exploracion    3.103546e+06\n",
              "rx informe        2.272065e+04\n",
              "rx solicitud      3.303477e+04\n",
              "triaje            2.805721e+06\n",
              "Name: DIFFERENCE, dtype: float64"
            ]
          },
          "metadata": {
            "tags": []
          },
          "execution_count": 16
        }
      ]
    },
    {
      "cell_type": "markdown",
      "metadata": {
        "id": "-FzUIDUYc2KJ",
        "colab_type": "text"
      },
      "source": [
        "## create minero"
      ]
    },
    {
      "cell_type": "code",
      "metadata": {
        "id": "pcSycEzic17x",
        "colab_type": "code",
        "colab": {
          "base_uri": "https://localhost:8080/",
          "height": 221
        },
        "outputId": "6f53e307-02a5-4d5b-b948-c654c2405070"
      },
      "source": [
        "ouput_file= 'input_data_miner_mean_00_extended_time.csv'\n",
        "create_minero_file(df_filter, ouput_file)"
      ],
      "execution_count": 17,
      "outputs": [
        {
          "output_type": "stream",
          "text": [
            "/usr/local/lib/python3.6/dist-packages/ipykernel_launcher.py:4: SettingWithCopyWarning: \n",
            "A value is trying to be set on a copy of a slice from a DataFrame.\n",
            "Try using .loc[row_indexer,col_indexer] = value instead\n",
            "\n",
            "See the caveats in the documentation: http://pandas.pydata.org/pandas-docs/stable/indexing.html#indexing-view-versus-copy\n",
            "  after removing the cwd from sys.path.\n",
            "/usr/local/lib/python3.6/dist-packages/ipykernel_launcher.py:5: SettingWithCopyWarning: \n",
            "A value is trying to be set on a copy of a slice from a DataFrame.\n",
            "Try using .loc[row_indexer,col_indexer] = value instead\n",
            "\n",
            "See the caveats in the documentation: http://pandas.pydata.org/pandas-docs/stable/indexing.html#indexing-view-versus-copy\n",
            "  \"\"\"\n"
          ],
          "name": "stderr"
        }
      ]
    }
  ]
}