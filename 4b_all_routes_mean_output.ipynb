{
  "nbformat": 4,
  "nbformat_minor": 0,
  "metadata": {
    "colab": {
      "name": "4b-all-routes-mean-output.ipynb",
      "version": "0.3.2",
      "provenance": [],
      "toc_visible": true,
      "include_colab_link": true
    },
    "kernelspec": {
      "name": "python3",
      "display_name": "Python 3"
    }
  },
  "cells": [
    {
      "cell_type": "markdown",
      "metadata": {
        "id": "view-in-github",
        "colab_type": "text"
      },
      "source": [
        "<a href=\"https://colab.research.google.com/github/pabrey/datasciencecoursera/blob/master/4b_all_routes_mean_output.ipynb\" target=\"_parent\"><img src=\"https://colab.research.google.com/assets/colab-badge.svg\" alt=\"Open In Colab\"/></a>"
      ]
    },
    {
      "cell_type": "markdown",
      "metadata": {
        "id": "ATjAHK4fgAbh",
        "colab_type": "text"
      },
      "source": [
        "# Previous"
      ]
    },
    {
      "cell_type": "code",
      "metadata": {
        "id": "0pQCn2ref7FN",
        "colab_type": "code",
        "colab": {
          "base_uri": "https://localhost:8080/",
          "height": 122
        },
        "outputId": "a390a3dc-bfb8-45ca-8e71-86b4d3156e95"
      },
      "source": [
        "import pandas as pd\n",
        "import io\n",
        "import matplotlib.pyplot as plt\n",
        "import numpy as np\n",
        "import json\n",
        "from google.colab import files\n",
        "import time\n",
        "from datetime import datetime\n",
        "import math\n",
        "\n",
        "from google.colab import drive\n",
        "drive.mount('/content/drive')"
      ],
      "execution_count": 1,
      "outputs": [
        {
          "output_type": "stream",
          "text": [
            "Go to this URL in a browser: https://accounts.google.com/o/oauth2/auth?client_id=947318989803-6bn6qk8qdgf4n4g3pfee6491hc0brc4i.apps.googleusercontent.com&redirect_uri=urn%3Aietf%3Awg%3Aoauth%3A2.0%3Aoob&scope=email%20https%3A%2F%2Fwww.googleapis.com%2Fauth%2Fdocs.test%20https%3A%2F%2Fwww.googleapis.com%2Fauth%2Fdrive%20https%3A%2F%2Fwww.googleapis.com%2Fauth%2Fdrive.photos.readonly%20https%3A%2F%2Fwww.googleapis.com%2Fauth%2Fpeopleapi.readonly&response_type=code\n",
            "\n",
            "Enter your authorization code:\n",
            "··········\n",
            "Mounted at /content/drive\n"
          ],
          "name": "stdout"
        }
      ]
    },
    {
      "cell_type": "markdown",
      "metadata": {
        "id": "gDiMc83PgOgi",
        "colab_type": "text"
      },
      "source": [
        "# Create functions"
      ]
    },
    {
      "cell_type": "markdown",
      "metadata": {
        "id": "LvoY-4g-gQuu",
        "colab_type": "text"
      },
      "source": [
        "## load data"
      ]
    },
    {
      "cell_type": "code",
      "metadata": {
        "id": "A_F10h_5gQUP",
        "colab_type": "code",
        "colab": {}
      },
      "source": [
        "\n",
        "def load_data(location):\n",
        "  Separator = ';'\n",
        "\n",
        "  df =  pd.read_csv(location, sep=Separator)\n",
        "\n",
        "  df.columns = [\"CASE_ID\", \"ACTIVITY\",\t\"TIMESTAMP_IN\",\t\"TIMESTAMP_OUT\", \"COLOR\"] \n",
        "  df[\"DIFFERENCE\"]= df[\"TIMESTAMP_OUT\"] - df[\"TIMESTAMP_IN\"]\n",
        "  df_order = df.sort_values(['CASE_ID', 'TIMESTAMP_IN'])\n",
        "\n",
        "  print(df_order.head())\n",
        "  print(df_order.head(1))\n",
        "  print(df_order.tail(1))\n",
        "  print(df_order.tail(1))\n",
        "  return df_order"
      ],
      "execution_count": 0,
      "outputs": []
    },
    {
      "cell_type": "markdown",
      "metadata": {
        "id": "5GxKA6pjOAd_",
        "colab_type": "text"
      },
      "source": [
        "## prefilter"
      ]
    },
    {
      "cell_type": "markdown",
      "metadata": {
        "id": "FHYOtsocOG4H",
        "colab_type": "text"
      },
      "source": [
        "thers elements with timestamp to 0, delete this elements"
      ]
    },
    {
      "cell_type": "code",
      "metadata": {
        "id": "HtBZsfs_OGV2",
        "colab_type": "code",
        "colab": {}
      },
      "source": [
        "def filter_bad_data(df_input):\n",
        "  #hers elements with timestamp to 0, delete this elements\n",
        "  id_filter = df_input[df_input[\"TIMESTAMP_IN\"] == 0][\"CASE_ID\"]\n",
        "  df_filter_out = df_input[~df_input[\"CASE_ID\"].isin(id_filter)]\n",
        "  id_filter = df_input[df_input[\"TIMESTAMP_OUT\"] == 0][\"CASE_ID\"]\n",
        "  df_filter_out = df_filter_out[~df_filter_out[\"CASE_ID\"].isin(id_filter)]\n",
        "  df_filter_out = df_filter_out.sort_values(['CASE_ID', 'TIMESTAMP_IN'])\n",
        "  \n",
        "  #elementos no ordenados\n",
        "  df_unorder = df_filter_out.sort_values(\"TIMESTAMP_IN\").groupby(\"CASE_ID\").tail(1)[[\"CASE_ID\", \"ACTIVITY\"]] \n",
        "  id_unorder = df_unorder[df_unorder[\"ACTIVITY\"] != \"Aalta\"][\"CASE_ID\"]\n",
        "  df_filter_out = df_filter_out[~df_filter_out[\"CASE_ID\"].isin(id_unorder)]\n",
        "  df_filter_out = df_filter_out.sort_values(['CASE_ID', 'TIMESTAMP_IN'])\n",
        "  df_filter_out = df_filter_out.sort_values([\"CASE_ID\", \"TIMESTAMP_IN\"])\n",
        "\n",
        "  print(\"Len before prefilter: \"+str(len(df_input[\"CASE_ID\"].drop_duplicates())))\n",
        "  print(\"Len after prefilter: \"+str(len(df_filter_out[\"CASE_ID\"].drop_duplicates())))\n",
        "  \n",
        "  return df_filter_out"
      ],
      "execution_count": 0,
      "outputs": []
    },
    {
      "cell_type": "markdown",
      "metadata": {
        "id": "d7RLaS3QbzYH",
        "colab_type": "text"
      },
      "source": [
        "## create minero"
      ]
    },
    {
      "cell_type": "code",
      "metadata": {
        "id": "NXf4TtMRbywQ",
        "colab_type": "code",
        "colab": {}
      },
      "source": [
        "\n",
        "def create_minero_file(input_df, ouput_file):\n",
        "  input_df = input_df[[\"CASE_ID\", \"ACTIVITY\", \"TIMESTAMP_IN\"]]\n",
        "  input_df = input_df.sort_values([\"CASE_ID\",  \"TIMESTAMP_IN\"])\n",
        "  input_df[\"DATE_IN\"] = (pd.to_datetime(input_df[\"TIMESTAMP_IN\"]*1000,unit='ms'))\n",
        "  input_df[\"TIMESTAMP\"] = input_df[\"DATE_IN\"].dt.strftime('%d/%m/%Y %H:%M:%S')+ \" UTC\"\n",
        "\n",
        "  input_df[[\"CASE_ID\",\"ACTIVITY\",\"TIMESTAMP\"]].sort_values([ \"TIMESTAMP\"]).to_csv(ouput_file, index=False, sep = ';')\n",
        "  files.download(ouput_file)"
      ],
      "execution_count": 0,
      "outputs": []
    },
    {
      "cell_type": "markdown",
      "metadata": {
        "id": "g4aB1G6LQFq_",
        "colab_type": "text"
      },
      "source": [
        "# sinulation_00"
      ]
    },
    {
      "cell_type": "markdown",
      "metadata": {
        "id": "YOkg3uBWcK0w",
        "colab_type": "text"
      },
      "source": [
        "## load and filter"
      ]
    },
    {
      "cell_type": "code",
      "metadata": {
        "id": "BcOAbhjZT2Tz",
        "colab_type": "code",
        "colab": {
          "base_uri": "https://localhost:8080/",
          "height": 221
        },
        "outputId": "3c6e77eb-c146-4815-ced1-1f6d09431c7b"
      },
      "source": [
        "location = 'drive/My Drive/data/prosae/testAllRoutesMean/res_simulacion_mean_00.csv'\n",
        "df_load = load_data(location)\n"
      ],
      "execution_count": 5,
      "outputs": [
        {
          "output_type": "stream",
          "text": [
            "   CASE_ID        ACTIVITY  TIMESTAMP_IN  TIMESTAMP_OUT  COLOR    DIFFERENCE\n",
            "4        1           Aalta  0.000000e+00   0.000000e+00    NaN  0.000000e+00\n",
            "0        1        admision  1.614764e+08   1.614772e+08    NaN  8.395566e+02\n",
            "1        1          triaje  1.614772e+08   1.614816e+08    NaN  4.409828e+03\n",
            "2        1    rx solicitud  1.614816e+08   1.614831e+08    NaN  1.452231e+03\n",
            "3        1  rx exploracion  1.614831e+08   0.000000e+00    NaN -1.614831e+08\n",
            "   CASE_ID ACTIVITY  TIMESTAMP_IN  TIMESTAMP_OUT  COLOR  DIFFERENCE\n",
            "4        1    Aalta           0.0            0.0    NaN         0.0\n",
            "      CASE_ID  ACTIVITY  TIMESTAMP_IN  TIMESTAMP_OUT  COLOR    DIFFERENCE\n",
            "1742      937  admision  1.620759e+08            0.0    NaN -1.620759e+08\n",
            "      CASE_ID  ACTIVITY  TIMESTAMP_IN  TIMESTAMP_OUT  COLOR    DIFFERENCE\n",
            "1742      937  admision  1.620759e+08            0.0    NaN -1.620759e+08\n"
          ],
          "name": "stdout"
        }
      ]
    },
    {
      "cell_type": "code",
      "metadata": {
        "id": "KnbvvPy2UcgE",
        "colab_type": "code",
        "colab": {
          "base_uri": "https://localhost:8080/",
          "height": 51
        },
        "outputId": "2d1c59ba-aba5-4ee4-a026-2e823eb1e0b1"
      },
      "source": [
        "df_filter =  filter_bad_data(df_load)"
      ],
      "execution_count": 6,
      "outputs": [
        {
          "output_type": "stream",
          "text": [
            "Len before prefilter: 807\n",
            "Len after prefilter: 801\n"
          ],
          "name": "stdout"
        }
      ]
    },
    {
      "cell_type": "markdown",
      "metadata": {
        "id": "FD0c_o9OcJgY",
        "colab_type": "text"
      },
      "source": [
        "## check elements whose last element is not alta and first is not admision"
      ]
    },
    {
      "cell_type": "code",
      "metadata": {
        "id": "pfEv6TmVcPRJ",
        "colab_type": "code",
        "colab": {
          "base_uri": "https://localhost:8080/",
          "height": 68
        },
        "outputId": "3627a834-1931-4c22-9040-1aca95d82fc9"
      },
      "source": [
        "(df_filter.sort_values(\"TIMESTAMP_IN\").groupby(\"CASE_ID\")[\"ACTIVITY\"].first() ).drop_duplicates()"
      ],
      "execution_count": 7,
      "outputs": [
        {
          "output_type": "execute_result",
          "data": {
            "text/plain": [
              "CASE_ID\n",
              "2    admision\n",
              "Name: ACTIVITY, dtype: object"
            ]
          },
          "metadata": {
            "tags": []
          },
          "execution_count": 7
        }
      ]
    },
    {
      "cell_type": "markdown",
      "metadata": {
        "id": "-2jrs0oScSEJ",
        "colab_type": "text"
      },
      "source": [
        "## show results"
      ]
    },
    {
      "cell_type": "code",
      "metadata": {
        "id": "5UuWiyIDUnj8",
        "colab_type": "code",
        "colab": {
          "base_uri": "https://localhost:8080/",
          "height": 170
        },
        "outputId": "8452b759-f8bc-4eb4-9ef0-b59d92e0128e"
      },
      "source": [
        "df_filter.groupby(\"ACTIVITY\")[\"DIFFERENCE\"].mean()"
      ],
      "execution_count": 8,
      "outputs": [
        {
          "output_type": "execute_result",
          "data": {
            "text/plain": [
              "ACTIVITY\n",
              "Aalta                 0.000000\n",
              "admision            742.846072\n",
              "interconsulta     20182.847068\n",
              "respuesta         20819.107290\n",
              "rx informe        12762.277320\n",
              "rx solicitud      12611.087115\n",
              "triaje           329974.480033\n",
              "Name: DIFFERENCE, dtype: float64"
            ]
          },
          "metadata": {
            "tags": []
          },
          "execution_count": 8
        }
      ]
    },
    {
      "cell_type": "markdown",
      "metadata": {
        "id": "wMVP0_qg_N20",
        "colab_type": "text"
      },
      "source": [
        "Respuesta dada por java\n",
        "\n",
        "System mean time: 380134.79391948384\n",
        "\n",
        "admision : 743.8665863653418\n",
        "\n",
        "alta : NaN\n",
        "\n",
        "interconsulta : 19418.959930089968\n",
        "\n",
        "respuesta : 22345.67648141086\n",
        "\n",
        "rx exploracion : NaN\n",
        "\n",
        "rx informe : 12483.702723689377\n",
        "\n",
        "rx solicitud : 13521.27712738514\n",
        "\n",
        "triaje : 328649.67725998274\n",
        "\n"
      ]
    },
    {
      "cell_type": "code",
      "metadata": {
        "id": "dEzxzAYr_NV1",
        "colab_type": "code",
        "colab": {}
      },
      "source": [
        ""
      ],
      "execution_count": 0,
      "outputs": []
    },
    {
      "cell_type": "code",
      "metadata": {
        "id": "1qoAwbMEgnvd",
        "colab_type": "code",
        "colab": {
          "base_uri": "https://localhost:8080/",
          "height": 34
        },
        "outputId": "257922c6-f77a-485d-d7bc-adf51fe42fb5"
      },
      "source": [
        "len(df_filter)"
      ],
      "execution_count": 9,
      "outputs": [
        {
          "output_type": "execute_result",
          "data": {
            "text/plain": [
              "1718"
            ]
          },
          "metadata": {
            "tags": []
          },
          "execution_count": 9
        }
      ]
    },
    {
      "cell_type": "code",
      "metadata": {
        "id": "ZaiB1o7Ngzl2",
        "colab_type": "code",
        "colab": {
          "base_uri": "https://localhost:8080/",
          "height": 204
        },
        "outputId": "fc0f47d9-5f69-44f1-a8f0-98cebaf8cb9d"
      },
      "source": [
        "df_filter[df_filter[\"ACTIVITY\"] == \"admision\"].head()"
      ],
      "execution_count": 10,
      "outputs": [
        {
          "output_type": "execute_result",
          "data": {
            "text/html": [
              "<div>\n",
              "<style scoped>\n",
              "    .dataframe tbody tr th:only-of-type {\n",
              "        vertical-align: middle;\n",
              "    }\n",
              "\n",
              "    .dataframe tbody tr th {\n",
              "        vertical-align: top;\n",
              "    }\n",
              "\n",
              "    .dataframe thead th {\n",
              "        text-align: right;\n",
              "    }\n",
              "</style>\n",
              "<table border=\"1\" class=\"dataframe\">\n",
              "  <thead>\n",
              "    <tr style=\"text-align: right;\">\n",
              "      <th></th>\n",
              "      <th>CASE_ID</th>\n",
              "      <th>ACTIVITY</th>\n",
              "      <th>TIMESTAMP_IN</th>\n",
              "      <th>TIMESTAMP_OUT</th>\n",
              "      <th>COLOR</th>\n",
              "      <th>DIFFERENCE</th>\n",
              "    </tr>\n",
              "  </thead>\n",
              "  <tbody>\n",
              "    <tr>\n",
              "      <th>5</th>\n",
              "      <td>2</td>\n",
              "      <td>admision</td>\n",
              "      <td>1.614772e+08</td>\n",
              "      <td>1.614780e+08</td>\n",
              "      <td>NaN</td>\n",
              "      <td>769.329164</td>\n",
              "    </tr>\n",
              "    <tr>\n",
              "      <th>9</th>\n",
              "      <td>4</td>\n",
              "      <td>admision</td>\n",
              "      <td>1.614780e+08</td>\n",
              "      <td>1.614786e+08</td>\n",
              "      <td>NaN</td>\n",
              "      <td>573.798124</td>\n",
              "    </tr>\n",
              "    <tr>\n",
              "      <th>12</th>\n",
              "      <td>5</td>\n",
              "      <td>admision</td>\n",
              "      <td>1.614786e+08</td>\n",
              "      <td>1.614804e+08</td>\n",
              "      <td>NaN</td>\n",
              "      <td>1863.717873</td>\n",
              "    </tr>\n",
              "    <tr>\n",
              "      <th>16</th>\n",
              "      <td>6</td>\n",
              "      <td>admision</td>\n",
              "      <td>1.614804e+08</td>\n",
              "      <td>1.614819e+08</td>\n",
              "      <td>NaN</td>\n",
              "      <td>1464.999379</td>\n",
              "    </tr>\n",
              "    <tr>\n",
              "      <th>20</th>\n",
              "      <td>9</td>\n",
              "      <td>admision</td>\n",
              "      <td>1.614819e+08</td>\n",
              "      <td>1.614821e+08</td>\n",
              "      <td>NaN</td>\n",
              "      <td>200.117493</td>\n",
              "    </tr>\n",
              "  </tbody>\n",
              "</table>\n",
              "</div>"
            ],
            "text/plain": [
              "    CASE_ID  ACTIVITY  TIMESTAMP_IN  TIMESTAMP_OUT  COLOR   DIFFERENCE\n",
              "5         2  admision  1.614772e+08   1.614780e+08    NaN   769.329164\n",
              "9         4  admision  1.614780e+08   1.614786e+08    NaN   573.798124\n",
              "12        5  admision  1.614786e+08   1.614804e+08    NaN  1863.717873\n",
              "16        6  admision  1.614804e+08   1.614819e+08    NaN  1464.999379\n",
              "20        9  admision  1.614819e+08   1.614821e+08    NaN   200.117493"
            ]
          },
          "metadata": {
            "tags": []
          },
          "execution_count": 10
        }
      ]
    },
    {
      "cell_type": "markdown",
      "metadata": {
        "id": "m4BvaQc4cYCJ",
        "colab_type": "text"
      },
      "source": [
        "## create file minero"
      ]
    },
    {
      "cell_type": "code",
      "metadata": {
        "id": "_lif-uNIcfgI",
        "colab_type": "code",
        "colab": {}
      },
      "source": [
        "ouput_file= 'input_data_miner_mean_00.csv'\n",
        "create_minero_file(df_filter, ouput_file)"
      ],
      "execution_count": 0,
      "outputs": []
    },
    {
      "cell_type": "markdown",
      "metadata": {
        "id": "0FGxTjehU168",
        "colab_type": "text"
      },
      "source": [
        "# sinulation_00_extende case"
      ]
    },
    {
      "cell_type": "code",
      "metadata": {
        "id": "7qrEclPzU5fk",
        "colab_type": "code",
        "colab": {
          "base_uri": "https://localhost:8080/",
          "height": 221
        },
        "outputId": "fb839c35-0418-4920-f271-e23c6c943076"
      },
      "source": [
        "location = 'drive/My Drive/data/prosae/testAllRoutesMean/res_simulacion_mean_00_extended_time.csv'\n",
        "df_load = load_data(location)"
      ],
      "execution_count": 11,
      "outputs": [
        {
          "output_type": "stream",
          "text": [
            "   CASE_ID        ACTIVITY  TIMESTAMP_IN  TIMESTAMP_OUT  COLOR    DIFFERENCE\n",
            "0        1        admision  1.614764e+08   1.614772e+08    NaN  8.395566e+02\n",
            "1        1          triaje  1.614772e+08   1.614816e+08    NaN  4.409828e+03\n",
            "2        1    rx solicitud  1.614816e+08   1.614831e+08    NaN  1.452231e+03\n",
            "3        1  rx exploracion  1.614831e+08   1.627340e+08    NaN  1.250893e+06\n",
            "4        1      rx informe  1.627340e+08   1.627350e+08    NaN  1.034050e+03\n",
            "   CASE_ID  ACTIVITY  TIMESTAMP_IN  TIMESTAMP_OUT  COLOR  DIFFERENCE\n",
            "0        1  admision   161476390.0   1.614772e+08    NaN  839.556568\n",
            "       CASE_ID  ACTIVITY  TIMESTAMP_IN  TIMESTAMP_OUT  COLOR    DIFFERENCE\n",
            "17954     9931  admision  1.674754e+08            0.0    NaN -1.674754e+08\n",
            "       CASE_ID  ACTIVITY  TIMESTAMP_IN  TIMESTAMP_OUT  COLOR    DIFFERENCE\n",
            "17954     9931  admision  1.674754e+08            0.0    NaN -1.674754e+08\n"
          ],
          "name": "stdout"
        }
      ]
    },
    {
      "cell_type": "code",
      "metadata": {
        "id": "b-sHYCvWU7Cc",
        "colab_type": "code",
        "colab": {
          "base_uri": "https://localhost:8080/",
          "height": 51
        },
        "outputId": "3ba08811-a06f-4e11-efa6-930b439e9c57"
      },
      "source": [
        "df_filter =  filter_bad_data(df_load)"
      ],
      "execution_count": 12,
      "outputs": [
        {
          "output_type": "stream",
          "text": [
            "Len before prefilter: 8025\n",
            "Len after prefilter: 7994\n"
          ],
          "name": "stdout"
        }
      ]
    },
    {
      "cell_type": "markdown",
      "metadata": {
        "id": "_61nCwlY8C0r",
        "colab_type": "text"
      },
      "source": [
        "## show results"
      ]
    },
    {
      "cell_type": "code",
      "metadata": {
        "id": "5SkC3vggU782",
        "colab_type": "code",
        "colab": {
          "base_uri": "https://localhost:8080/",
          "height": 187
        },
        "outputId": "c0a6541e-a3d9-4154-e6b6-69d78bbb3506"
      },
      "source": [
        "df_filter.groupby(\"ACTIVITY\")[\"DIFFERENCE\"].mean()"
      ],
      "execution_count": 14,
      "outputs": [
        {
          "output_type": "execute_result",
          "data": {
            "text/plain": [
              "ACTIVITY\n",
              "Aalta             0.000000e+00\n",
              "admision          7.479814e+02\n",
              "interconsulta     1.289066e+05\n",
              "respuesta         4.051206e+04\n",
              "rx exploracion    3.103546e+06\n",
              "rx informe        2.272065e+04\n",
              "rx solicitud      3.303477e+04\n",
              "triaje            2.805721e+06\n",
              "Name: DIFFERENCE, dtype: float64"
            ]
          },
          "metadata": {
            "tags": []
          },
          "execution_count": 14
        }
      ]
    },
    {
      "cell_type": "markdown",
      "metadata": {
        "id": "voLWzeZc9hRM",
        "colab_type": "text"
      },
      "source": [
        "Teprico dado por java\n",
        "admision : 747.6296508757738\n",
        "\n",
        "alta : NaN\n",
        "\n",
        "interconsulta : 127743.2180718071 -> 35 h\n",
        "\n",
        "respuesta : 38876.30844513437 -> 10 h\n",
        "\n",
        "rx exploracion : 3103545.5167867243 -> 862\n",
        "\n",
        "rx informe : 23135.821598840495 -> 6.4 h\n",
        "\n",
        "rx solicitud : 32551.43550627584 -> 9.1 h\n",
        "\n",
        "triaje : 2808823.3745929995 -> 780.2 h\n",
        "\n"
      ]
    },
    {
      "cell_type": "code",
      "metadata": {
        "id": "HnAwrHON7_2p",
        "colab_type": "code",
        "colab": {
          "base_uri": "https://localhost:8080/",
          "height": 204
        },
        "outputId": "07a44217-9cb3-4c51-9a57-1156c47fa38c"
      },
      "source": [
        "df_filter.head()"
      ],
      "execution_count": 15,
      "outputs": [
        {
          "output_type": "execute_result",
          "data": {
            "text/html": [
              "<div>\n",
              "<style scoped>\n",
              "    .dataframe tbody tr th:only-of-type {\n",
              "        vertical-align: middle;\n",
              "    }\n",
              "\n",
              "    .dataframe tbody tr th {\n",
              "        vertical-align: top;\n",
              "    }\n",
              "\n",
              "    .dataframe thead th {\n",
              "        text-align: right;\n",
              "    }\n",
              "</style>\n",
              "<table border=\"1\" class=\"dataframe\">\n",
              "  <thead>\n",
              "    <tr style=\"text-align: right;\">\n",
              "      <th></th>\n",
              "      <th>CASE_ID</th>\n",
              "      <th>ACTIVITY</th>\n",
              "      <th>TIMESTAMP_IN</th>\n",
              "      <th>TIMESTAMP_OUT</th>\n",
              "      <th>COLOR</th>\n",
              "      <th>DIFFERENCE</th>\n",
              "    </tr>\n",
              "  </thead>\n",
              "  <tbody>\n",
              "    <tr>\n",
              "      <th>0</th>\n",
              "      <td>1</td>\n",
              "      <td>admision</td>\n",
              "      <td>1.614764e+08</td>\n",
              "      <td>1.614772e+08</td>\n",
              "      <td>NaN</td>\n",
              "      <td>8.395566e+02</td>\n",
              "    </tr>\n",
              "    <tr>\n",
              "      <th>1</th>\n",
              "      <td>1</td>\n",
              "      <td>triaje</td>\n",
              "      <td>1.614772e+08</td>\n",
              "      <td>1.614816e+08</td>\n",
              "      <td>NaN</td>\n",
              "      <td>4.409828e+03</td>\n",
              "    </tr>\n",
              "    <tr>\n",
              "      <th>2</th>\n",
              "      <td>1</td>\n",
              "      <td>rx solicitud</td>\n",
              "      <td>1.614816e+08</td>\n",
              "      <td>1.614831e+08</td>\n",
              "      <td>NaN</td>\n",
              "      <td>1.452231e+03</td>\n",
              "    </tr>\n",
              "    <tr>\n",
              "      <th>3</th>\n",
              "      <td>1</td>\n",
              "      <td>rx exploracion</td>\n",
              "      <td>1.614831e+08</td>\n",
              "      <td>1.627340e+08</td>\n",
              "      <td>NaN</td>\n",
              "      <td>1.250893e+06</td>\n",
              "    </tr>\n",
              "    <tr>\n",
              "      <th>4</th>\n",
              "      <td>1</td>\n",
              "      <td>rx informe</td>\n",
              "      <td>1.627340e+08</td>\n",
              "      <td>1.627350e+08</td>\n",
              "      <td>NaN</td>\n",
              "      <td>1.034050e+03</td>\n",
              "    </tr>\n",
              "  </tbody>\n",
              "</table>\n",
              "</div>"
            ],
            "text/plain": [
              "   CASE_ID        ACTIVITY  TIMESTAMP_IN  TIMESTAMP_OUT  COLOR    DIFFERENCE\n",
              "0        1        admision  1.614764e+08   1.614772e+08    NaN  8.395566e+02\n",
              "1        1          triaje  1.614772e+08   1.614816e+08    NaN  4.409828e+03\n",
              "2        1    rx solicitud  1.614816e+08   1.614831e+08    NaN  1.452231e+03\n",
              "3        1  rx exploracion  1.614831e+08   1.627340e+08    NaN  1.250893e+06\n",
              "4        1      rx informe  1.627340e+08   1.627350e+08    NaN  1.034050e+03"
            ]
          },
          "metadata": {
            "tags": []
          },
          "execution_count": 15
        }
      ]
    },
    {
      "cell_type": "code",
      "metadata": {
        "id": "z7zQFNa49VuD",
        "colab_type": "code",
        "colab": {
          "base_uri": "https://localhost:8080/",
          "height": 49
        },
        "outputId": "42ad8f7c-43b6-48e2-fa2b-aac0cd2344c8"
      },
      "source": [
        "df_filter[df_filter[\"TIMESTAMP_OUT\"] == 0]"
      ],
      "execution_count": 19,
      "outputs": [
        {
          "output_type": "execute_result",
          "data": {
            "text/html": [
              "<div>\n",
              "<style scoped>\n",
              "    .dataframe tbody tr th:only-of-type {\n",
              "        vertical-align: middle;\n",
              "    }\n",
              "\n",
              "    .dataframe tbody tr th {\n",
              "        vertical-align: top;\n",
              "    }\n",
              "\n",
              "    .dataframe thead th {\n",
              "        text-align: right;\n",
              "    }\n",
              "</style>\n",
              "<table border=\"1\" class=\"dataframe\">\n",
              "  <thead>\n",
              "    <tr style=\"text-align: right;\">\n",
              "      <th></th>\n",
              "      <th>CASE_ID</th>\n",
              "      <th>ACTIVITY</th>\n",
              "      <th>TIMESTAMP_IN</th>\n",
              "      <th>TIMESTAMP_OUT</th>\n",
              "      <th>COLOR</th>\n",
              "      <th>DIFFERENCE</th>\n",
              "    </tr>\n",
              "  </thead>\n",
              "  <tbody>\n",
              "  </tbody>\n",
              "</table>\n",
              "</div>"
            ],
            "text/plain": [
              "Empty DataFrame\n",
              "Columns: [CASE_ID, ACTIVITY, TIMESTAMP_IN, TIMESTAMP_OUT, COLOR, DIFFERENCE]\n",
              "Index: []"
            ]
          },
          "metadata": {
            "tags": []
          },
          "execution_count": 19
        }
      ]
    },
    {
      "cell_type": "markdown",
      "metadata": {
        "id": "-FzUIDUYc2KJ",
        "colab_type": "text"
      },
      "source": [
        "## create minero"
      ]
    },
    {
      "cell_type": "code",
      "metadata": {
        "id": "pcSycEzic17x",
        "colab_type": "code",
        "colab": {}
      },
      "source": [
        "ouput_file= 'input_data_miner_mean_00_extended_time.csv'\n",
        "create_minero_file(df_filter, ouput_file)"
      ],
      "execution_count": 0,
      "outputs": []
    }
  ]
}