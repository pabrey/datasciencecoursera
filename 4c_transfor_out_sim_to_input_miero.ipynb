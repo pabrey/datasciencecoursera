{
  "nbformat": 4,
  "nbformat_minor": 0,
  "metadata": {
    "colab": {
      "name": "4c-transfor-out-sim-to-input-miero.ipynb",
      "version": "0.3.2",
      "provenance": [],
      "toc_visible": true,
      "include_colab_link": true
    },
    "kernelspec": {
      "name": "python3",
      "display_name": "Python 3"
    }
  },
  "cells": [
    {
      "cell_type": "markdown",
      "metadata": {
        "id": "view-in-github",
        "colab_type": "text"
      },
      "source": [
        "<a href=\"https://colab.research.google.com/github/pabrey/datasciencecoursera/blob/master/4c_transfor_out_sim_to_input_miero.ipynb\" target=\"_parent\"><img src=\"https://colab.research.google.com/assets/colab-badge.svg\" alt=\"Open In Colab\"/></a>"
      ]
    },
    {
      "cell_type": "code",
      "metadata": {
        "id": "NYmSmFhyEwiO",
        "colab_type": "code",
        "outputId": "85914dae-34e8-4645-a247-aa6c791917f6",
        "colab": {
          "base_uri": "https://localhost:8080/",
          "height": 34
        }
      },
      "source": [
        "import pandas as pd\n",
        "import io\n",
        "import matplotlib.pyplot as plt\n",
        "import numpy as np\n",
        "import json\n",
        "from google.colab import files\n",
        "import time\n",
        "from datetime import datetime\n",
        "import math\n",
        "\n",
        "from google.colab import drive\n",
        "drive.mount('/content/drive')"
      ],
      "execution_count": 6,
      "outputs": [
        {
          "output_type": "stream",
          "text": [
            "Drive already mounted at /content/drive; to attempt to forcibly remount, call drive.mount(\"/content/drive\", force_remount=True).\n"
          ],
          "name": "stdout"
        }
      ]
    },
    {
      "cell_type": "markdown",
      "metadata": {
        "id": "ikqdGSLZFMxO",
        "colab_type": "text"
      },
      "source": [
        "# create functions for analysys"
      ]
    },
    {
      "cell_type": "markdown",
      "metadata": {
        "id": "uAgTk2rdFQnV",
        "colab_type": "text"
      },
      "source": [
        "## function process data"
      ]
    },
    {
      "cell_type": "code",
      "metadata": {
        "id": "po68xzD_FPie",
        "colab_type": "code",
        "colab": {}
      },
      "source": [
        "\n",
        "\n",
        "def load_data(location):\n",
        "  Separator = ';'\n",
        "  df =  pd.read_csv(location, sep=Separator)\n",
        "  df.columns = [\"CASE_ID\", \"ACTIVITY\",\t\"DATE\"] \n",
        "  df_order = df.sort_values(['CASE_ID', 'DATE'])\n",
        "  df_order[\"TIMESTAMP_IN\"] = (df_order['DATE']).apply(lambda x:  time.mktime( datetime.strptime(str(x.replace(' UTC','')), '%d/%m/%Y %H:%M:%S').timetuple()))\n",
        "  return df_order"
      ],
      "execution_count": 0,
      "outputs": []
    },
    {
      "cell_type": "markdown",
      "metadata": {
        "id": "8FzeKrUkHXZH",
        "colab_type": "text"
      },
      "source": [
        "create difference timesatamps"
      ]
    },
    {
      "cell_type": "code",
      "metadata": {
        "id": "pfvXtEJXHZh4",
        "colab_type": "code",
        "colab": {}
      },
      "source": [
        "\n",
        "def process_times(df_input):\n",
        "\n",
        "  def processDepartureTime(nodes):\n",
        "\n",
        "    temp_time = 0\n",
        "    len_nodes = len(nodes)\n",
        "    sal = []\n",
        "    mi_index = 0\n",
        "    for index, node in nodes.iteritems():\n",
        "      mi_index = mi_index +1\n",
        "\n",
        "      if (mi_index == len_nodes):\n",
        "        sal.append(node)\n",
        "      else:\n",
        "        sal.append((nodes[index+1]))\n",
        "\n",
        "    return sal\n",
        "  data_time = df_input.sort_values([\"CASE_ID\", \"TIMESTAMP_IN\"]).reset_index()\n",
        "  data_time[\"TIMESTAMP_OUT\"] = data_time.groupby(\"CASE_ID\")[\"TIMESTAMP_IN\"].transform(lambda x: processDepartureTime(x))\n",
        "  data_time['DIFFERENCE'] = data_time['TIMESTAMP_OUT'] - data_time['TIMESTAMP_IN']\n",
        "  return data_time"
      ],
      "execution_count": 0,
      "outputs": []
    },
    {
      "cell_type": "markdown",
      "metadata": {
        "id": "Zir-r82PKFUi",
        "colab_type": "text"
      },
      "source": [
        "show data"
      ]
    },
    {
      "cell_type": "code",
      "metadata": {
        "id": "Z5zwmcuKKGS5",
        "colab_type": "code",
        "colab": {}
      },
      "source": [
        "def calculate_average_time(input_df):\n",
        "  def average_time(nodes):\n",
        "      min_date = None\n",
        "      max_date = None\n",
        "\n",
        "      for index, node in nodes.iterrows():      \n",
        "          temp_date = node[\"TIMESTAMP_IN\"] \n",
        "          if ((min_date == None) or min_date>temp_date):\n",
        "            min_date = temp_date\n",
        "          if ((max_date == None) or max_date<temp_date):\n",
        "            max_date = temp_date\n",
        "\n",
        "      return max_date- min_date\n",
        "\n",
        "  data_average = input_df.groupby(\"CASE_ID\")[\"CASE_ID\", \"TIMESTAMP_IN\", \"DIFFERENCE\"].apply(lambda x : average_time(x))\n",
        "  return data_average\n",
        "\n",
        "\n",
        "def show_results(input_df):\n",
        "  print(\"Mean time per nod\")\n",
        "  print(input_df.groupby(\"ACTIVITY\")[\"DIFFERENCE\"].mean())\n",
        "  data_average = calculate_average_time(input_df)\n",
        "  print(\"Mean time per user\")\n",
        "  print(data_average.head(10))\n",
        "  print(\"Mean time of all users\")\n",
        "  print(data_average.mean())\n"
      ],
      "execution_count": 0,
      "outputs": []
    },
    {
      "cell_type": "markdown",
      "metadata": {
        "id": "KFczz5sqIPxo",
        "colab_type": "text"
      },
      "source": [
        "# Data for sinulation_00"
      ]
    },
    {
      "cell_type": "code",
      "metadata": {
        "id": "PaCKZq8EIVLo",
        "colab_type": "code",
        "colab": {
          "base_uri": "https://localhost:8080/",
          "height": 204
        },
        "outputId": "da5c3c32-05c2-4f66-93fe-2ba6ef58f424"
      },
      "source": [
        "Location = 'drive/My Drive/data/prosae/testAllRoutesMean/input_data_miner_mean_00.csv'\n",
        "df_order = load_data(Location)\n",
        "df_times = process_times(df_order)\n",
        "df_times.head()"
      ],
      "execution_count": 29,
      "outputs": [
        {
          "output_type": "execute_result",
          "data": {
            "text/html": [
              "<div>\n",
              "<style scoped>\n",
              "    .dataframe tbody tr th:only-of-type {\n",
              "        vertical-align: middle;\n",
              "    }\n",
              "\n",
              "    .dataframe tbody tr th {\n",
              "        vertical-align: top;\n",
              "    }\n",
              "\n",
              "    .dataframe thead th {\n",
              "        text-align: right;\n",
              "    }\n",
              "</style>\n",
              "<table border=\"1\" class=\"dataframe\">\n",
              "  <thead>\n",
              "    <tr style=\"text-align: right;\">\n",
              "      <th></th>\n",
              "      <th>index</th>\n",
              "      <th>CASE_ID</th>\n",
              "      <th>ACTIVITY</th>\n",
              "      <th>DATE</th>\n",
              "      <th>TIMESTAMP_IN</th>\n",
              "      <th>TIMESTAMP_OUT</th>\n",
              "      <th>DIFFERENCE</th>\n",
              "    </tr>\n",
              "  </thead>\n",
              "  <tbody>\n",
              "    <tr>\n",
              "      <th>0</th>\n",
              "      <td>0</td>\n",
              "      <td>2</td>\n",
              "      <td>admision</td>\n",
              "      <td>12/02/1975 22:47:09 UTC</td>\n",
              "      <td>161477229.0</td>\n",
              "      <td>161477998.0</td>\n",
              "      <td>769.0</td>\n",
              "    </tr>\n",
              "    <tr>\n",
              "      <th>1</th>\n",
              "      <td>1</td>\n",
              "      <td>2</td>\n",
              "      <td>triaje</td>\n",
              "      <td>12/02/1975 22:59:58 UTC</td>\n",
              "      <td>161477998.0</td>\n",
              "      <td>161483768.0</td>\n",
              "      <td>5770.0</td>\n",
              "    </tr>\n",
              "    <tr>\n",
              "      <th>2</th>\n",
              "      <td>2</td>\n",
              "      <td>2</td>\n",
              "      <td>rx solicitud</td>\n",
              "      <td>13/02/1975 00:36:08 UTC</td>\n",
              "      <td>161483768.0</td>\n",
              "      <td>161523340.0</td>\n",
              "      <td>39572.0</td>\n",
              "    </tr>\n",
              "    <tr>\n",
              "      <th>3</th>\n",
              "      <td>3</td>\n",
              "      <td>2</td>\n",
              "      <td>Aalta</td>\n",
              "      <td>13/02/1975 11:35:40 UTC</td>\n",
              "      <td>161523340.0</td>\n",
              "      <td>161523340.0</td>\n",
              "      <td>0.0</td>\n",
              "    </tr>\n",
              "    <tr>\n",
              "      <th>4</th>\n",
              "      <td>4</td>\n",
              "      <td>4</td>\n",
              "      <td>admision</td>\n",
              "      <td>12/02/1975 22:59:58 UTC</td>\n",
              "      <td>161477998.0</td>\n",
              "      <td>161478572.0</td>\n",
              "      <td>574.0</td>\n",
              "    </tr>\n",
              "  </tbody>\n",
              "</table>\n",
              "</div>"
            ],
            "text/plain": [
              "   index  CASE_ID      ACTIVITY  ... TIMESTAMP_IN  TIMESTAMP_OUT  DIFFERENCE\n",
              "0      0        2      admision  ...  161477229.0    161477998.0       769.0\n",
              "1      1        2        triaje  ...  161477998.0    161483768.0      5770.0\n",
              "2      2        2  rx solicitud  ...  161483768.0    161523340.0     39572.0\n",
              "3      3        2         Aalta  ...  161523340.0    161523340.0         0.0\n",
              "4      4        4      admision  ...  161477998.0    161478572.0       574.0\n",
              "\n",
              "[5 rows x 7 columns]"
            ]
          },
          "metadata": {
            "tags": []
          },
          "execution_count": 29
        }
      ]
    },
    {
      "cell_type": "code",
      "metadata": {
        "id": "5nSBs7N-KoGi",
        "colab_type": "code",
        "colab": {
          "base_uri": "https://localhost:8080/",
          "height": 442
        },
        "outputId": "2c28e0c8-dda3-4658-dcf8-219d13a3302e"
      },
      "source": [
        "show_results(df_times)"
      ],
      "execution_count": 35,
      "outputs": [
        {
          "output_type": "stream",
          "text": [
            "Mean time per nod\n",
            "ACTIVITY\n",
            "Aalta                 0.000000\n",
            "admision            742.788294\n",
            "interconsulta     19418.857143\n",
            "respuesta         22345.500000\n",
            "rx informe        12483.500000\n",
            "rx solicitud      12037.818182\n",
            "triaje           332261.823529\n",
            "Name: DIFFERENCE, dtype: float64\n",
            "Mean time per user\n",
            "CASE_ID\n",
            "2      46111.0\n",
            "4      13840.0\n",
            "5      50268.0\n",
            "6     103550.0\n",
            "9     109189.0\n",
            "10    116877.0\n",
            "12    122165.0\n",
            "15    125494.0\n",
            "16    212960.0\n",
            "17    208272.0\n",
            "dtype: float64\n",
            "Mean time of all users\n",
            "23134.845579078457\n"
          ],
          "name": "stdout"
        }
      ]
    },
    {
      "cell_type": "markdown",
      "metadata": {
        "id": "goMOkKCvL5iE",
        "colab_type": "text"
      },
      "source": [
        "Data for sinulation_00_120"
      ]
    },
    {
      "cell_type": "markdown",
      "metadata": {
        "id": "-Y6mE63KK40b",
        "colab_type": "text"
      },
      "source": [
        "# Data for sinulation_00 extended time"
      ]
    },
    {
      "cell_type": "code",
      "metadata": {
        "id": "gdFJqLayK8R7",
        "colab_type": "code",
        "colab": {
          "base_uri": "https://localhost:8080/",
          "height": 204
        },
        "outputId": "83c130a5-664d-40ed-cef2-76d814e3fc74"
      },
      "source": [
        "Location = 'drive/My Drive/data/prosae/testAllRoutesMean/input_data_miner_mean_00_extended_time.csv'\n",
        "df_order = load_data(Location)\n",
        "df_times = process_times(df_order)\n",
        "df_times.head()"
      ],
      "execution_count": 36,
      "outputs": [
        {
          "output_type": "execute_result",
          "data": {
            "text/html": [
              "<div>\n",
              "<style scoped>\n",
              "    .dataframe tbody tr th:only-of-type {\n",
              "        vertical-align: middle;\n",
              "    }\n",
              "\n",
              "    .dataframe tbody tr th {\n",
              "        vertical-align: top;\n",
              "    }\n",
              "\n",
              "    .dataframe thead th {\n",
              "        text-align: right;\n",
              "    }\n",
              "</style>\n",
              "<table border=\"1\" class=\"dataframe\">\n",
              "  <thead>\n",
              "    <tr style=\"text-align: right;\">\n",
              "      <th></th>\n",
              "      <th>index</th>\n",
              "      <th>CASE_ID</th>\n",
              "      <th>ACTIVITY</th>\n",
              "      <th>DATE</th>\n",
              "      <th>TIMESTAMP_IN</th>\n",
              "      <th>TIMESTAMP_OUT</th>\n",
              "      <th>DIFFERENCE</th>\n",
              "    </tr>\n",
              "  </thead>\n",
              "  <tbody>\n",
              "    <tr>\n",
              "      <th>0</th>\n",
              "      <td>0</td>\n",
              "      <td>1</td>\n",
              "      <td>admision</td>\n",
              "      <td>12/02/1975 22:33:10 UTC</td>\n",
              "      <td>161476390.0</td>\n",
              "      <td>161477229.0</td>\n",
              "      <td>839.0</td>\n",
              "    </tr>\n",
              "    <tr>\n",
              "      <th>1</th>\n",
              "      <td>1</td>\n",
              "      <td>1</td>\n",
              "      <td>triaje</td>\n",
              "      <td>12/02/1975 22:47:09 UTC</td>\n",
              "      <td>161477229.0</td>\n",
              "      <td>161481639.0</td>\n",
              "      <td>4410.0</td>\n",
              "    </tr>\n",
              "    <tr>\n",
              "      <th>2</th>\n",
              "      <td>2</td>\n",
              "      <td>1</td>\n",
              "      <td>rx solicitud</td>\n",
              "      <td>13/02/1975 00:00:39 UTC</td>\n",
              "      <td>161481639.0</td>\n",
              "      <td>161483091.0</td>\n",
              "      <td>1452.0</td>\n",
              "    </tr>\n",
              "    <tr>\n",
              "      <th>3</th>\n",
              "      <td>3</td>\n",
              "      <td>1</td>\n",
              "      <td>rx exploracion</td>\n",
              "      <td>13/02/1975 00:24:51 UTC</td>\n",
              "      <td>161483091.0</td>\n",
              "      <td>162733984.0</td>\n",
              "      <td>1250893.0</td>\n",
              "    </tr>\n",
              "    <tr>\n",
              "      <th>4</th>\n",
              "      <td>4</td>\n",
              "      <td>1</td>\n",
              "      <td>rx informe</td>\n",
              "      <td>27/02/1975 11:53:04 UTC</td>\n",
              "      <td>162733984.0</td>\n",
              "      <td>162735018.0</td>\n",
              "      <td>1034.0</td>\n",
              "    </tr>\n",
              "  </tbody>\n",
              "</table>\n",
              "</div>"
            ],
            "text/plain": [
              "   index  CASE_ID        ACTIVITY  ... TIMESTAMP_IN  TIMESTAMP_OUT  DIFFERENCE\n",
              "0      0        1        admision  ...  161476390.0    161477229.0       839.0\n",
              "1      1        1          triaje  ...  161477229.0    161481639.0      4410.0\n",
              "2      2        1    rx solicitud  ...  161481639.0    161483091.0      1452.0\n",
              "3      3        1  rx exploracion  ...  161483091.0    162733984.0   1250893.0\n",
              "4      4        1      rx informe  ...  162733984.0    162735018.0      1034.0\n",
              "\n",
              "[5 rows x 7 columns]"
            ]
          },
          "metadata": {
            "tags": []
          },
          "execution_count": 36
        }
      ]
    },
    {
      "cell_type": "code",
      "metadata": {
        "id": "XoVrTyHoK-ja",
        "colab_type": "code",
        "colab": {
          "base_uri": "https://localhost:8080/",
          "height": 459
        },
        "outputId": "4b43b264-12d8-451f-9336-ab27f525616f"
      },
      "source": [
        "show_results(df_times)"
      ],
      "execution_count": 37,
      "outputs": [
        {
          "output_type": "stream",
          "text": [
            "Mean time per nod\n",
            "ACTIVITY\n",
            "Aalta             1.487905e+01\n",
            "admision          7.475814e+02\n",
            "interconsulta     1.212789e+05\n",
            "respuesta         3.710163e+04\n",
            "rx exploracion    3.103546e+06\n",
            "rx informe        2.154930e+04\n",
            "rx solicitud      3.160094e+04\n",
            "triaje            2.775767e+06\n",
            "Name: DIFFERENCE, dtype: float64\n",
            "Mean time per user\n",
            "CASE_ID\n",
            "1     1258628.0\n",
            "2     3758540.0\n",
            "4     2781771.0\n",
            "5     5035417.0\n",
            "9      109189.0\n",
            "10     116877.0\n",
            "12     122165.0\n",
            "15     125494.0\n",
            "16     212960.0\n",
            "17     208272.0\n",
            "dtype: float64\n",
            "Mean time of all users\n",
            "282186.85049875313\n"
          ],
          "name": "stdout"
        }
      ]
    },
    {
      "cell_type": "markdown",
      "metadata": {
        "id": "0Vkmlf25FFic",
        "colab_type": "text"
      },
      "source": [
        "# Create file for minero directly"
      ]
    },
    {
      "cell_type": "code",
      "metadata": {
        "id": "vna5Bw9NFIBD",
        "colab_type": "code",
        "outputId": "5df7ee38-6876-4732-8629-8bd2734d0e55",
        "colab": {
          "base_uri": "https://localhost:8080/",
          "height": 102
        }
      },
      "source": [
        "Location = 'drive/My Drive/data/prosae/testAllRoutesMean/res_simulacion_means.csv'\n",
        "\n",
        "\n",
        "Separator = ';'\n",
        "df =  pd.read_csv(Location, sep=Separator)\n",
        "\n",
        "df.columns = [\"CASE_ID\", \"ACTIVITY\",\t\"TIMESTAMP_IN\",\t\"TIMESTAMP_OUT\", \"COLOR\"] \n",
        "df_order = df.sort_values(['CASE_ID', 'TIMESTAMP_IN'])\n",
        "\n",
        "df_out = df.copy().sort_values([\"CASE_ID\", \"TIMESTAMP_IN\"])\n",
        "\n",
        "id_filter = df_out[df_out[\"TIMESTAMP_IN\"] == 0][\"CASE_ID\"]\n",
        "df_filter_out = df_out[~df_out[\"CASE_ID\"].isin(id_filter)]\n",
        "id_filter = df_filter_out[df_filter_out[\"TIMESTAMP_OUT\"] == 0][\"CASE_ID\"]\n",
        "df_filter_out = df_filter_out[~df_filter_out[\"CASE_ID\"].isin(id_filter)]\n",
        "\n",
        "df_filter_out[\"DIFFERENCE\"] = df_filter_out[\"TIMESTAMP_OUT\"]-df_filter_out[\"TIMESTAMP_IN\"]\n",
        "df_filter_out[\"DATE_IN\"] = (pd.to_datetime(df_filter_out[\"TIMESTAMP_IN\"]*1000,unit='ms'))\n",
        "\n",
        "\n",
        "df_sal = df_filter_out[[\"CASE_ID\", \"ACTIVITY\", \"DATE_IN\"]]\n",
        "df_sal[\"TIMESTAMP\"] = df_sal[\"DATE_IN\"].dt.strftime('%d/%m/%Y %H:%M:%S')+ \" UTC\"\n",
        "df_sal = df_sal[[\"CASE_ID\", \"ACTIVITY\", \"TIMESTAMP\"]].reset_index()\n",
        "\n",
        "\n",
        "df_sal[[\"CASE_ID\",\"ACTIVITY\",\"TIMESTAMP\"]].sort_values([\"CASE_ID\", \"TIMESTAMP\"]).to_csv(r'input_data_miner_means.csv', index=False, sep = ';')\n",
        "files.download('input_data_miner_means.csv')"
      ],
      "execution_count": 0,
      "outputs": [
        {
          "output_type": "stream",
          "text": [
            "/usr/local/lib/python3.6/dist-packages/ipykernel_launcher.py:22: SettingWithCopyWarning: \n",
            "A value is trying to be set on a copy of a slice from a DataFrame.\n",
            "Try using .loc[row_indexer,col_indexer] = value instead\n",
            "\n",
            "See the caveats in the documentation: http://pandas.pydata.org/pandas-docs/stable/indexing.html#indexing-view-versus-copy\n"
          ],
          "name": "stderr"
        }
      ]
    }
  ]
}