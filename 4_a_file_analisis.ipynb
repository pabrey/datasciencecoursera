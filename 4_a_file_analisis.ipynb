{
  "nbformat": 4,
  "nbformat_minor": 0,
  "metadata": {
    "colab": {
      "name": "4-a file analisis.ipynb",
      "version": "0.3.2",
      "provenance": [],
      "toc_visible": true,
      "include_colab_link": true
    },
    "kernelspec": {
      "name": "python3",
      "display_name": "Python 3"
    }
  },
  "cells": [
    {
      "cell_type": "markdown",
      "metadata": {
        "id": "view-in-github",
        "colab_type": "text"
      },
      "source": [
        "<a href=\"https://colab.research.google.com/github/pabrey/datasciencecoursera/blob/master/4_a_file_analisis.ipynb\" target=\"_parent\"><img src=\"https://colab.research.google.com/assets/colab-badge.svg\" alt=\"Open In Colab\"/></a>"
      ]
    },
    {
      "cell_type": "markdown",
      "metadata": {
        "id": "hFOuGEcYwE16",
        "colab_type": "text"
      },
      "source": [
        "# Previous"
      ]
    },
    {
      "cell_type": "code",
      "metadata": {
        "id": "ZwnJa19twEla",
        "colab_type": "code",
        "colab": {
          "base_uri": "https://localhost:8080/",
          "height": 34
        },
        "outputId": "78b9f6c4-0291-4f89-e7bd-cbb58e022657"
      },
      "source": [
        "import pandas as pd\n",
        "import io\n",
        "import matplotlib.pyplot as plt\n",
        "import numpy as np\n",
        "import json\n",
        "from google.colab import files\n",
        "import time\n",
        "from datetime import datetime\n",
        "import math\n",
        "\n",
        "from google.colab import drive\n",
        "drive.mount('/content/drive')"
      ],
      "execution_count": 1,
      "outputs": [
        {
          "output_type": "stream",
          "text": [
            "Drive already mounted at /content/drive; to attempt to forcibly remount, call drive.mount(\"/content/drive\", force_remount=True).\n"
          ],
          "name": "stdout"
        }
      ]
    },
    {
      "cell_type": "markdown",
      "metadata": {
        "id": "ZI-EBQDLwOQf",
        "colab_type": "text"
      },
      "source": [
        "# Create routes data"
      ]
    },
    {
      "cell_type": "markdown",
      "metadata": {
        "id": "8HzRvoYIw6gR",
        "colab_type": "text"
      },
      "source": [
        "## create routes information"
      ]
    },
    {
      "cell_type": "code",
      "metadata": {
        "id": "MKcOOtRPv9X5",
        "colab_type": "code",
        "colab": {
          "base_uri": "https://localhost:8080/",
          "height": 204
        },
        "outputId": "c54bf347-30ea-422d-def0-7bcf04430f70"
      },
      "source": [
        "Location = 'drive/My Drive/data/prosae/original-log.csv'\n",
        "Separator = ';'\n",
        "df =  pd.read_csv(Location, sep=Separator)\n",
        "df.columns = [\"CASE_ID\", \"ACTIVITY\",\t\"DATE\",\t\"INDEX\",\t\"COLOR\"]\n",
        "df_order = df.sort_values(['CASE_ID', 'INDEX'])\n",
        "df_order.head()"
      ],
      "execution_count": 2,
      "outputs": [
        {
          "output_type": "execute_result",
          "data": {
            "text/html": [
              "<div>\n",
              "<style scoped>\n",
              "    .dataframe tbody tr th:only-of-type {\n",
              "        vertical-align: middle;\n",
              "    }\n",
              "\n",
              "    .dataframe tbody tr th {\n",
              "        vertical-align: top;\n",
              "    }\n",
              "\n",
              "    .dataframe thead th {\n",
              "        text-align: right;\n",
              "    }\n",
              "</style>\n",
              "<table border=\"1\" class=\"dataframe\">\n",
              "  <thead>\n",
              "    <tr style=\"text-align: right;\">\n",
              "      <th></th>\n",
              "      <th>CASE_ID</th>\n",
              "      <th>ACTIVITY</th>\n",
              "      <th>DATE</th>\n",
              "      <th>INDEX</th>\n",
              "      <th>COLOR</th>\n",
              "    </tr>\n",
              "  </thead>\n",
              "  <tbody>\n",
              "    <tr>\n",
              "      <th>0</th>\n",
              "      <td>173000001</td>\n",
              "      <td>ADMISION</td>\n",
              "      <td>01/01/2017 0:06</td>\n",
              "      <td>0</td>\n",
              "      <td>NaN</td>\n",
              "    </tr>\n",
              "    <tr>\n",
              "      <th>3</th>\n",
              "      <td>173000001</td>\n",
              "      <td>TRIAJE</td>\n",
              "      <td>01/01/2017 0:11</td>\n",
              "      <td>1</td>\n",
              "      <td>amarillo</td>\n",
              "    </tr>\n",
              "    <tr>\n",
              "      <th>16</th>\n",
              "      <td>173000001</td>\n",
              "      <td>ALTA</td>\n",
              "      <td>01/01/2017 0:58</td>\n",
              "      <td>2</td>\n",
              "      <td>NaN</td>\n",
              "    </tr>\n",
              "    <tr>\n",
              "      <th>1</th>\n",
              "      <td>173000002</td>\n",
              "      <td>ADMISION</td>\n",
              "      <td>01/01/2017 0:07</td>\n",
              "      <td>0</td>\n",
              "      <td>NaN</td>\n",
              "    </tr>\n",
              "    <tr>\n",
              "      <th>4</th>\n",
              "      <td>173000002</td>\n",
              "      <td>TRIAJE</td>\n",
              "      <td>01/01/2017 0:13</td>\n",
              "      <td>1</td>\n",
              "      <td>verde</td>\n",
              "    </tr>\n",
              "  </tbody>\n",
              "</table>\n",
              "</div>"
            ],
            "text/plain": [
              "      CASE_ID  ACTIVITY             DATE  INDEX     COLOR\n",
              "0   173000001  ADMISION  01/01/2017 0:06      0       NaN\n",
              "3   173000001    TRIAJE  01/01/2017 0:11      1  amarillo\n",
              "16  173000001      ALTA  01/01/2017 0:58      2       NaN\n",
              "1   173000002  ADMISION  01/01/2017 0:07      0       NaN\n",
              "4   173000002    TRIAJE  01/01/2017 0:13      1     verde"
            ]
          },
          "metadata": {
            "tags": []
          },
          "execution_count": 2
        }
      ]
    },
    {
      "cell_type": "code",
      "metadata": {
        "id": "ekWarvphwWPp",
        "colab_type": "code",
        "colab": {
          "base_uri": "https://localhost:8080/",
          "height": 323
        },
        "outputId": "8042c4e9-aa14-4da4-a1f9-e4a1428fd59f"
      },
      "source": [
        "\n",
        "# creamos  las columnas\n",
        "# join function => The join() method takes all items in an iterable and joins them into one string.\n",
        "# reset _index -> Pandas reset_index() is a method to reset index of a Data Frame. reset_index() method sets a list of integer ranging from 0 to length of data as index.\n",
        "df_routes = df_order.groupby('CASE_ID')['ACTIVITY'].agg(lambda x: ','.join(x)).reset_index()\n",
        "df_routes['SIZE'] = df_routes['ACTIVITY'].apply(lambda x: len(x.split(',')))\n",
        "\n",
        "df_routes.columns = ['CASE_ID', 'PATH', 'SIZE_PATH']\n",
        "df_routes['USER_PER_SIZE_PATH'] = df_routes.groupby('SIZE_PATH')[\"CASE_ID\"].transform(len)\n",
        "df_routes['USER_PER_PATH'] = df_routes.groupby('PATH')[\"CASE_ID\"].transform(len)\n",
        "df_routes.reset_index()\n",
        "\n",
        "\n",
        "print(\"min size path: \"+str(min(df_routes[\"SIZE_PATH\"])))\n",
        "print(\"Max size path: \"+str(max(df_routes[\"SIZE_PATH\"])))\n",
        "print(\"Mean size path: \"+str(df_routes[\"SIZE_PATH\"].mean()))\n",
        "print(\"MEdian size path: \"+str(df_routes[\"SIZE_PATH\"].median()))\n",
        "print(\"Num users per route mean: \"+str(df_routes[\"USER_PER_SIZE_PATH\"].mean()))\n",
        "print(\"Num users per route median: \"+str(df_routes[\"USER_PER_SIZE_PATH\"].median()))\n",
        "number_user = df_routes[\"USER_PER_SIZE_PATH\"].drop_duplicates().sum()\n",
        "print(\"Num users : \" + str(number_user))\n",
        "df_routes[\"PERCENTAGE_PER_SIZE\"] = df_routes[\"USER_PER_SIZE_PATH\"]/number_user\n",
        "df_routes[\"PERCENTAGE_PER_PATH\"] = df_routes[\"USER_PER_PATH\"]/number_user\n",
        "df_routes[[\"SIZE_PATH\", \"USER_PER_SIZE_PATH\", \"PERCENTAGE_PER_SIZE\", \"PATH\", \"USER_PER_PATH\", \"PERCENTAGE_PER_PATH\"]].sort_values(\"SIZE_PATH\").drop_duplicates().head()"
      ],
      "execution_count": 4,
      "outputs": [
        {
          "output_type": "stream",
          "text": [
            "min size path: 3\n",
            "Max size path: 17\n",
            "Mean size path: 4.42453417222664\n",
            "MEdian size path: 5.0\n",
            "Num users per route mean: 42443.59784975974\n",
            "Num users per route median: 47810.0\n",
            "Num users : 115708\n"
          ],
          "name": "stdout"
        },
        {
          "output_type": "execute_result",
          "data": {
            "text/html": [
              "<div>\n",
              "<style scoped>\n",
              "    .dataframe tbody tr th:only-of-type {\n",
              "        vertical-align: middle;\n",
              "    }\n",
              "\n",
              "    .dataframe tbody tr th {\n",
              "        vertical-align: top;\n",
              "    }\n",
              "\n",
              "    .dataframe thead th {\n",
              "        text-align: right;\n",
              "    }\n",
              "</style>\n",
              "<table border=\"1\" class=\"dataframe\">\n",
              "  <thead>\n",
              "    <tr style=\"text-align: right;\">\n",
              "      <th></th>\n",
              "      <th>SIZE_PATH</th>\n",
              "      <th>USER_PER_SIZE_PATH</th>\n",
              "      <th>PERCENTAGE_PER_SIZE</th>\n",
              "      <th>PATH</th>\n",
              "      <th>USER_PER_PATH</th>\n",
              "      <th>PERCENTAGE_PER_PATH</th>\n",
              "    </tr>\n",
              "  </thead>\n",
              "  <tbody>\n",
              "    <tr>\n",
              "      <th>0</th>\n",
              "      <td>3</td>\n",
              "      <td>50387</td>\n",
              "      <td>0.435467</td>\n",
              "      <td>ADMISION,TRIAJE,ALTA</td>\n",
              "      <td>50387</td>\n",
              "      <td>0.435467</td>\n",
              "    </tr>\n",
              "    <tr>\n",
              "      <th>37082</th>\n",
              "      <td>4</td>\n",
              "      <td>1011</td>\n",
              "      <td>0.008738</td>\n",
              "      <td>ADMISION,TRIAJE,RX SOLICITUD,ALTA</td>\n",
              "      <td>841</td>\n",
              "      <td>0.007268</td>\n",
              "    </tr>\n",
              "    <tr>\n",
              "      <th>71412</th>\n",
              "      <td>4</td>\n",
              "      <td>1011</td>\n",
              "      <td>0.008738</td>\n",
              "      <td>ADMISION,TRIAJE,INTERCONSULTA,ALTA</td>\n",
              "      <td>170</td>\n",
              "      <td>0.001469</td>\n",
              "    </tr>\n",
              "    <tr>\n",
              "      <th>77339</th>\n",
              "      <td>5</td>\n",
              "      <td>47810</td>\n",
              "      <td>0.413195</td>\n",
              "      <td>ADMISION,TRIAJE,RX SOLICITUD,RX EXPLORACION,ALTA</td>\n",
              "      <td>47530</td>\n",
              "      <td>0.410775</td>\n",
              "    </tr>\n",
              "    <tr>\n",
              "      <th>77171</th>\n",
              "      <td>5</td>\n",
              "      <td>47810</td>\n",
              "      <td>0.413195</td>\n",
              "      <td>ADMISION,TRIAJE,INTERCONSULTA,RESPUESTA,ALTA</td>\n",
              "      <td>273</td>\n",
              "      <td>0.002359</td>\n",
              "    </tr>\n",
              "  </tbody>\n",
              "</table>\n",
              "</div>"
            ],
            "text/plain": [
              "       SIZE_PATH  USER_PER_SIZE_PATH  ...  USER_PER_PATH PERCENTAGE_PER_PATH\n",
              "0              3               50387  ...          50387            0.435467\n",
              "37082          4                1011  ...            841            0.007268\n",
              "71412          4                1011  ...            170            0.001469\n",
              "77339          5               47810  ...          47530            0.410775\n",
              "77171          5               47810  ...            273            0.002359\n",
              "\n",
              "[5 rows x 6 columns]"
            ]
          },
          "metadata": {
            "tags": []
          },
          "execution_count": 4
        }
      ]
    },
    {
      "cell_type": "code",
      "metadata": {
        "id": "7BX5dIk9w4ep",
        "colab_type": "code",
        "colab": {
          "base_uri": "https://localhost:8080/",
          "height": 51
        },
        "outputId": "22d4651d-ecc3-4520-bb88-4c0ddbc01e7b"
      },
      "source": [
        "#check safety, sum must be 1\n",
        "print(sum(df_routes.groupby(\"SIZE_PATH\")[\"PERCENTAGE_PER_SIZE\"].min()))\n",
        "print(sum(df_routes.groupby(\"PATH\")[\"PERCENTAGE_PER_PATH\"].min()))"
      ],
      "execution_count": 5,
      "outputs": [
        {
          "output_type": "stream",
          "text": [
            "1.0\n",
            "1.00000000000001\n"
          ],
          "name": "stdout"
        }
      ]
    },
    {
      "cell_type": "code",
      "metadata": {
        "id": "bIhfllMfxEDL",
        "colab_type": "code",
        "colab": {
          "base_uri": "https://localhost:8080/",
          "height": 204
        },
        "outputId": "04244771-5164-43ca-f7aa-df7ac4470b03"
      },
      "source": [
        "df_join = df.merge(df_routes).sort_values([\"CASE_ID\", \"DATE\"])\n",
        "df_join =  df_join[[\"CASE_ID\", \"ACTIVITY\", \"DATE\", \"INDEX\", \"PATH\", \"SIZE_PATH\", \"USER_PER_SIZE_PATH\", \"PERCENTAGE_PER_SIZE\",  \"USER_PER_PATH\", \"PERCENTAGE_PER_PATH\"]]\n",
        "df_join = df_join.sort_values(['CASE_ID', 'INDEX'])\n",
        "df_join.head()"
      ],
      "execution_count": 6,
      "outputs": [
        {
          "output_type": "execute_result",
          "data": {
            "text/html": [
              "<div>\n",
              "<style scoped>\n",
              "    .dataframe tbody tr th:only-of-type {\n",
              "        vertical-align: middle;\n",
              "    }\n",
              "\n",
              "    .dataframe tbody tr th {\n",
              "        vertical-align: top;\n",
              "    }\n",
              "\n",
              "    .dataframe thead th {\n",
              "        text-align: right;\n",
              "    }\n",
              "</style>\n",
              "<table border=\"1\" class=\"dataframe\">\n",
              "  <thead>\n",
              "    <tr style=\"text-align: right;\">\n",
              "      <th></th>\n",
              "      <th>CASE_ID</th>\n",
              "      <th>ACTIVITY</th>\n",
              "      <th>DATE</th>\n",
              "      <th>INDEX</th>\n",
              "      <th>PATH</th>\n",
              "      <th>SIZE_PATH</th>\n",
              "      <th>USER_PER_SIZE_PATH</th>\n",
              "      <th>PERCENTAGE_PER_SIZE</th>\n",
              "      <th>USER_PER_PATH</th>\n",
              "      <th>PERCENTAGE_PER_PATH</th>\n",
              "    </tr>\n",
              "  </thead>\n",
              "  <tbody>\n",
              "    <tr>\n",
              "      <th>0</th>\n",
              "      <td>173000001</td>\n",
              "      <td>ADMISION</td>\n",
              "      <td>01/01/2017 0:06</td>\n",
              "      <td>0</td>\n",
              "      <td>ADMISION,TRIAJE,ALTA</td>\n",
              "      <td>3</td>\n",
              "      <td>50387</td>\n",
              "      <td>0.435467</td>\n",
              "      <td>50387</td>\n",
              "      <td>0.435467</td>\n",
              "    </tr>\n",
              "    <tr>\n",
              "      <th>1</th>\n",
              "      <td>173000001</td>\n",
              "      <td>TRIAJE</td>\n",
              "      <td>01/01/2017 0:11</td>\n",
              "      <td>1</td>\n",
              "      <td>ADMISION,TRIAJE,ALTA</td>\n",
              "      <td>3</td>\n",
              "      <td>50387</td>\n",
              "      <td>0.435467</td>\n",
              "      <td>50387</td>\n",
              "      <td>0.435467</td>\n",
              "    </tr>\n",
              "    <tr>\n",
              "      <th>2</th>\n",
              "      <td>173000001</td>\n",
              "      <td>ALTA</td>\n",
              "      <td>01/01/2017 0:58</td>\n",
              "      <td>2</td>\n",
              "      <td>ADMISION,TRIAJE,ALTA</td>\n",
              "      <td>3</td>\n",
              "      <td>50387</td>\n",
              "      <td>0.435467</td>\n",
              "      <td>50387</td>\n",
              "      <td>0.435467</td>\n",
              "    </tr>\n",
              "    <tr>\n",
              "      <th>3</th>\n",
              "      <td>173000002</td>\n",
              "      <td>ADMISION</td>\n",
              "      <td>01/01/2017 0:07</td>\n",
              "      <td>0</td>\n",
              "      <td>ADMISION,TRIAJE,RX SOLICITUD,RX EXPLORACION,ALTA</td>\n",
              "      <td>5</td>\n",
              "      <td>47810</td>\n",
              "      <td>0.413195</td>\n",
              "      <td>47530</td>\n",
              "      <td>0.410775</td>\n",
              "    </tr>\n",
              "    <tr>\n",
              "      <th>4</th>\n",
              "      <td>173000002</td>\n",
              "      <td>TRIAJE</td>\n",
              "      <td>01/01/2017 0:13</td>\n",
              "      <td>1</td>\n",
              "      <td>ADMISION,TRIAJE,RX SOLICITUD,RX EXPLORACION,ALTA</td>\n",
              "      <td>5</td>\n",
              "      <td>47810</td>\n",
              "      <td>0.413195</td>\n",
              "      <td>47530</td>\n",
              "      <td>0.410775</td>\n",
              "    </tr>\n",
              "  </tbody>\n",
              "</table>\n",
              "</div>"
            ],
            "text/plain": [
              "     CASE_ID  ACTIVITY  ... USER_PER_PATH  PERCENTAGE_PER_PATH\n",
              "0  173000001  ADMISION  ...         50387             0.435467\n",
              "1  173000001    TRIAJE  ...         50387             0.435467\n",
              "2  173000001      ALTA  ...         50387             0.435467\n",
              "3  173000002  ADMISION  ...         47530             0.410775\n",
              "4  173000002    TRIAJE  ...         47530             0.410775\n",
              "\n",
              "[5 rows x 10 columns]"
            ]
          },
          "metadata": {
            "tags": []
          },
          "execution_count": 6
        }
      ]
    },
    {
      "cell_type": "markdown",
      "metadata": {
        "id": "jIYmoQpew8vh",
        "colab_type": "text"
      },
      "source": [
        "## process times"
      ]
    },
    {
      "cell_type": "code",
      "metadata": {
        "id": "S_FMs1c1xAhi",
        "colab_type": "code",
        "colab": {
          "base_uri": "https://localhost:8080/",
          "height": 343
        },
        "outputId": "d1f9bcb7-a539-45fc-b8e8-731b24c995d4"
      },
      "source": [
        "df_timestamp = df_join.copy()\n",
        "#filter just the first id\n",
        "#df_timestamp['TIMESTAMP'] = (pd.DatetimeIndex(df_timestamp.DATE).asi8)/10000000000\n",
        "df_timestamp[\"TIMESTAMP\"] = (df_timestamp['DATE']).apply(lambda x:  time.mktime( datetime.strptime(str(x), '%d/%m/%Y %H:%M').timetuple()))\n",
        " \n",
        "df_timestamp[\"ArrivalTime\"] = df_timestamp[\"TIMESTAMP\"] \n",
        "df_timestamp[\"ServiceStartTime\"] =  df_timestamp[\"TIMESTAMP\"] \n",
        "df_timestamp[\"DepartureTime\"] = 0\n",
        "\n",
        "#normalize\n",
        "min_value =  df_timestamp[\"ArrivalTime\"].min()-1\n",
        "df_timestamp[\"ArrivalTime\"] = df_timestamp[\"ArrivalTime\"]-min_value\n",
        "df_timestamp[\"ServiceStartTime\"] = df_timestamp[\"ServiceStartTime\"]-min_value\n",
        "df_timestamp.head()"
      ],
      "execution_count": 7,
      "outputs": [
        {
          "output_type": "execute_result",
          "data": {
            "text/html": [
              "<div>\n",
              "<style scoped>\n",
              "    .dataframe tbody tr th:only-of-type {\n",
              "        vertical-align: middle;\n",
              "    }\n",
              "\n",
              "    .dataframe tbody tr th {\n",
              "        vertical-align: top;\n",
              "    }\n",
              "\n",
              "    .dataframe thead th {\n",
              "        text-align: right;\n",
              "    }\n",
              "</style>\n",
              "<table border=\"1\" class=\"dataframe\">\n",
              "  <thead>\n",
              "    <tr style=\"text-align: right;\">\n",
              "      <th></th>\n",
              "      <th>CASE_ID</th>\n",
              "      <th>ACTIVITY</th>\n",
              "      <th>DATE</th>\n",
              "      <th>INDEX</th>\n",
              "      <th>PATH</th>\n",
              "      <th>SIZE_PATH</th>\n",
              "      <th>USER_PER_SIZE_PATH</th>\n",
              "      <th>PERCENTAGE_PER_SIZE</th>\n",
              "      <th>USER_PER_PATH</th>\n",
              "      <th>PERCENTAGE_PER_PATH</th>\n",
              "      <th>TIMESTAMP</th>\n",
              "      <th>ArrivalTime</th>\n",
              "      <th>ServiceStartTime</th>\n",
              "      <th>DepartureTime</th>\n",
              "    </tr>\n",
              "  </thead>\n",
              "  <tbody>\n",
              "    <tr>\n",
              "      <th>0</th>\n",
              "      <td>173000001</td>\n",
              "      <td>ADMISION</td>\n",
              "      <td>01/01/2017 0:06</td>\n",
              "      <td>0</td>\n",
              "      <td>ADMISION,TRIAJE,ALTA</td>\n",
              "      <td>3</td>\n",
              "      <td>50387</td>\n",
              "      <td>0.435467</td>\n",
              "      <td>50387</td>\n",
              "      <td>0.435467</td>\n",
              "      <td>1.483229e+09</td>\n",
              "      <td>1.0</td>\n",
              "      <td>1.0</td>\n",
              "      <td>0</td>\n",
              "    </tr>\n",
              "    <tr>\n",
              "      <th>1</th>\n",
              "      <td>173000001</td>\n",
              "      <td>TRIAJE</td>\n",
              "      <td>01/01/2017 0:11</td>\n",
              "      <td>1</td>\n",
              "      <td>ADMISION,TRIAJE,ALTA</td>\n",
              "      <td>3</td>\n",
              "      <td>50387</td>\n",
              "      <td>0.435467</td>\n",
              "      <td>50387</td>\n",
              "      <td>0.435467</td>\n",
              "      <td>1.483229e+09</td>\n",
              "      <td>301.0</td>\n",
              "      <td>301.0</td>\n",
              "      <td>0</td>\n",
              "    </tr>\n",
              "    <tr>\n",
              "      <th>2</th>\n",
              "      <td>173000001</td>\n",
              "      <td>ALTA</td>\n",
              "      <td>01/01/2017 0:58</td>\n",
              "      <td>2</td>\n",
              "      <td>ADMISION,TRIAJE,ALTA</td>\n",
              "      <td>3</td>\n",
              "      <td>50387</td>\n",
              "      <td>0.435467</td>\n",
              "      <td>50387</td>\n",
              "      <td>0.435467</td>\n",
              "      <td>1.483232e+09</td>\n",
              "      <td>3121.0</td>\n",
              "      <td>3121.0</td>\n",
              "      <td>0</td>\n",
              "    </tr>\n",
              "    <tr>\n",
              "      <th>3</th>\n",
              "      <td>173000002</td>\n",
              "      <td>ADMISION</td>\n",
              "      <td>01/01/2017 0:07</td>\n",
              "      <td>0</td>\n",
              "      <td>ADMISION,TRIAJE,RX SOLICITUD,RX EXPLORACION,ALTA</td>\n",
              "      <td>5</td>\n",
              "      <td>47810</td>\n",
              "      <td>0.413195</td>\n",
              "      <td>47530</td>\n",
              "      <td>0.410775</td>\n",
              "      <td>1.483229e+09</td>\n",
              "      <td>61.0</td>\n",
              "      <td>61.0</td>\n",
              "      <td>0</td>\n",
              "    </tr>\n",
              "    <tr>\n",
              "      <th>4</th>\n",
              "      <td>173000002</td>\n",
              "      <td>TRIAJE</td>\n",
              "      <td>01/01/2017 0:13</td>\n",
              "      <td>1</td>\n",
              "      <td>ADMISION,TRIAJE,RX SOLICITUD,RX EXPLORACION,ALTA</td>\n",
              "      <td>5</td>\n",
              "      <td>47810</td>\n",
              "      <td>0.413195</td>\n",
              "      <td>47530</td>\n",
              "      <td>0.410775</td>\n",
              "      <td>1.483230e+09</td>\n",
              "      <td>421.0</td>\n",
              "      <td>421.0</td>\n",
              "      <td>0</td>\n",
              "    </tr>\n",
              "  </tbody>\n",
              "</table>\n",
              "</div>"
            ],
            "text/plain": [
              "     CASE_ID  ACTIVITY  ... ServiceStartTime  DepartureTime\n",
              "0  173000001  ADMISION  ...              1.0              0\n",
              "1  173000001    TRIAJE  ...            301.0              0\n",
              "2  173000001      ALTA  ...           3121.0              0\n",
              "3  173000002  ADMISION  ...             61.0              0\n",
              "4  173000002    TRIAJE  ...            421.0              0\n",
              "\n",
              "[5 rows x 14 columns]"
            ]
          },
          "metadata": {
            "tags": []
          },
          "execution_count": 7
        }
      ]
    },
    {
      "cell_type": "markdown",
      "metadata": {
        "id": "VHVQee8FxaOr",
        "colab_type": "text"
      },
      "source": [
        "establish departure time"
      ]
    },
    {
      "cell_type": "code",
      "metadata": {
        "id": "QhUmvW-2xanh",
        "colab_type": "code",
        "colab": {
          "base_uri": "https://localhost:8080/",
          "height": 343
        },
        "outputId": "ff2dc082-ecfd-435d-8f3a-281b7a37c6e5"
      },
      "source": [
        "data_time = df_timestamp.sort_values([\"CASE_ID\", \"INDEX\"]).reset_index().copy()\n",
        "\n",
        "\n",
        "def processDepartureTime(nodes):\n",
        "\n",
        "  temp_time = 0\n",
        "  len_nodes = len(nodes)\n",
        "  sal = []\n",
        "  mi_index = 0\n",
        "  for index, node in nodes.iteritems():\n",
        "    mi_index = mi_index +1\n",
        "  \n",
        "    if (mi_index == len_nodes):\n",
        "      sal.append(node)\n",
        "    else:\n",
        "      sal.append((nodes[index+1]))\n",
        "\n",
        "  return sal\n",
        "      \n",
        "\n",
        "data_time[\"DepartureTime\"] = data_time.groupby(\"CASE_ID\")[\"ServiceStartTime\"].transform(lambda x: processDepartureTime(x))\n",
        "data_time['Difference'] = data_time['DepartureTime'] - data_time['ServiceStartTime']\n",
        "data_time.head()\n"
      ],
      "execution_count": 8,
      "outputs": [
        {
          "output_type": "execute_result",
          "data": {
            "text/html": [
              "<div>\n",
              "<style scoped>\n",
              "    .dataframe tbody tr th:only-of-type {\n",
              "        vertical-align: middle;\n",
              "    }\n",
              "\n",
              "    .dataframe tbody tr th {\n",
              "        vertical-align: top;\n",
              "    }\n",
              "\n",
              "    .dataframe thead th {\n",
              "        text-align: right;\n",
              "    }\n",
              "</style>\n",
              "<table border=\"1\" class=\"dataframe\">\n",
              "  <thead>\n",
              "    <tr style=\"text-align: right;\">\n",
              "      <th></th>\n",
              "      <th>index</th>\n",
              "      <th>CASE_ID</th>\n",
              "      <th>ACTIVITY</th>\n",
              "      <th>DATE</th>\n",
              "      <th>INDEX</th>\n",
              "      <th>PATH</th>\n",
              "      <th>SIZE_PATH</th>\n",
              "      <th>USER_PER_SIZE_PATH</th>\n",
              "      <th>PERCENTAGE_PER_SIZE</th>\n",
              "      <th>USER_PER_PATH</th>\n",
              "      <th>PERCENTAGE_PER_PATH</th>\n",
              "      <th>TIMESTAMP</th>\n",
              "      <th>ArrivalTime</th>\n",
              "      <th>ServiceStartTime</th>\n",
              "      <th>DepartureTime</th>\n",
              "      <th>Difference</th>\n",
              "    </tr>\n",
              "  </thead>\n",
              "  <tbody>\n",
              "    <tr>\n",
              "      <th>0</th>\n",
              "      <td>0</td>\n",
              "      <td>173000001</td>\n",
              "      <td>ADMISION</td>\n",
              "      <td>01/01/2017 0:06</td>\n",
              "      <td>0</td>\n",
              "      <td>ADMISION,TRIAJE,ALTA</td>\n",
              "      <td>3</td>\n",
              "      <td>50387</td>\n",
              "      <td>0.435467</td>\n",
              "      <td>50387</td>\n",
              "      <td>0.435467</td>\n",
              "      <td>1.483229e+09</td>\n",
              "      <td>1.0</td>\n",
              "      <td>1.0</td>\n",
              "      <td>301.0</td>\n",
              "      <td>300.0</td>\n",
              "    </tr>\n",
              "    <tr>\n",
              "      <th>1</th>\n",
              "      <td>1</td>\n",
              "      <td>173000001</td>\n",
              "      <td>TRIAJE</td>\n",
              "      <td>01/01/2017 0:11</td>\n",
              "      <td>1</td>\n",
              "      <td>ADMISION,TRIAJE,ALTA</td>\n",
              "      <td>3</td>\n",
              "      <td>50387</td>\n",
              "      <td>0.435467</td>\n",
              "      <td>50387</td>\n",
              "      <td>0.435467</td>\n",
              "      <td>1.483229e+09</td>\n",
              "      <td>301.0</td>\n",
              "      <td>301.0</td>\n",
              "      <td>3121.0</td>\n",
              "      <td>2820.0</td>\n",
              "    </tr>\n",
              "    <tr>\n",
              "      <th>2</th>\n",
              "      <td>2</td>\n",
              "      <td>173000001</td>\n",
              "      <td>ALTA</td>\n",
              "      <td>01/01/2017 0:58</td>\n",
              "      <td>2</td>\n",
              "      <td>ADMISION,TRIAJE,ALTA</td>\n",
              "      <td>3</td>\n",
              "      <td>50387</td>\n",
              "      <td>0.435467</td>\n",
              "      <td>50387</td>\n",
              "      <td>0.435467</td>\n",
              "      <td>1.483232e+09</td>\n",
              "      <td>3121.0</td>\n",
              "      <td>3121.0</td>\n",
              "      <td>3121.0</td>\n",
              "      <td>0.0</td>\n",
              "    </tr>\n",
              "    <tr>\n",
              "      <th>3</th>\n",
              "      <td>3</td>\n",
              "      <td>173000002</td>\n",
              "      <td>ADMISION</td>\n",
              "      <td>01/01/2017 0:07</td>\n",
              "      <td>0</td>\n",
              "      <td>ADMISION,TRIAJE,RX SOLICITUD,RX EXPLORACION,ALTA</td>\n",
              "      <td>5</td>\n",
              "      <td>47810</td>\n",
              "      <td>0.413195</td>\n",
              "      <td>47530</td>\n",
              "      <td>0.410775</td>\n",
              "      <td>1.483229e+09</td>\n",
              "      <td>61.0</td>\n",
              "      <td>61.0</td>\n",
              "      <td>421.0</td>\n",
              "      <td>360.0</td>\n",
              "    </tr>\n",
              "    <tr>\n",
              "      <th>4</th>\n",
              "      <td>4</td>\n",
              "      <td>173000002</td>\n",
              "      <td>TRIAJE</td>\n",
              "      <td>01/01/2017 0:13</td>\n",
              "      <td>1</td>\n",
              "      <td>ADMISION,TRIAJE,RX SOLICITUD,RX EXPLORACION,ALTA</td>\n",
              "      <td>5</td>\n",
              "      <td>47810</td>\n",
              "      <td>0.413195</td>\n",
              "      <td>47530</td>\n",
              "      <td>0.410775</td>\n",
              "      <td>1.483230e+09</td>\n",
              "      <td>421.0</td>\n",
              "      <td>421.0</td>\n",
              "      <td>1081.0</td>\n",
              "      <td>660.0</td>\n",
              "    </tr>\n",
              "  </tbody>\n",
              "</table>\n",
              "</div>"
            ],
            "text/plain": [
              "   index    CASE_ID  ACTIVITY  ... ServiceStartTime  DepartureTime Difference\n",
              "0      0  173000001  ADMISION  ...              1.0          301.0      300.0\n",
              "1      1  173000001    TRIAJE  ...            301.0         3121.0     2820.0\n",
              "2      2  173000001      ALTA  ...           3121.0         3121.0        0.0\n",
              "3      3  173000002  ADMISION  ...             61.0          421.0      360.0\n",
              "4      4  173000002    TRIAJE  ...            421.0         1081.0      660.0\n",
              "\n",
              "[5 rows x 16 columns]"
            ]
          },
          "metadata": {
            "tags": []
          },
          "execution_count": 8
        }
      ]
    },
    {
      "cell_type": "code",
      "metadata": {
        "id": "kp7qu0-Ixkm6",
        "colab_type": "code",
        "colab": {
          "base_uri": "https://localhost:8080/",
          "height": 51
        },
        "outputId": "d34a7f98-568f-4a29-baa7-ba014e8dd117"
      },
      "source": [
        "data_time[\"USER_PER_SIZE_PATH\"].unique()"
      ],
      "execution_count": 9,
      "outputs": [
        {
          "output_type": "execute_result",
          "data": {
            "text/plain": [
              "array([50387, 47810,   761,  7557,  4450,  2746,  1011,   537,    54,\n",
              "          32,   255,    89,    13,     4,     2])"
            ]
          },
          "metadata": {
            "tags": []
          },
          "execution_count": 9
        }
      ]
    },
    {
      "cell_type": "markdown",
      "metadata": {
        "id": "gcuWUu0yxmeZ",
        "colab_type": "text"
      },
      "source": [
        "safety check, check the data, al difference is > 0"
      ]
    },
    {
      "cell_type": "code",
      "metadata": {
        "id": "r7uyIc1Kxnv6",
        "colab_type": "code",
        "colab": {
          "base_uri": "https://localhost:8080/",
          "height": 34
        },
        "outputId": "f3b60f34-6d72-440d-eaa8-1163fcb88b01"
      },
      "source": [
        "id_neg = data_time[data_time[\"Difference\"] < 0][\"CASE_ID\"]\n",
        "len(id_neg)"
      ],
      "execution_count": 10,
      "outputs": [
        {
          "output_type": "execute_result",
          "data": {
            "text/plain": [
              "0"
            ]
          },
          "metadata": {
            "tags": []
          },
          "execution_count": 10
        }
      ]
    },
    {
      "cell_type": "markdown",
      "metadata": {
        "id": "sDGQPJtQzuHz",
        "colab_type": "text"
      },
      "source": [
        "# search for inconstancies"
      ]
    },
    {
      "cell_type": "code",
      "metadata": {
        "id": "T7OSUR-gzvU7",
        "colab_type": "code",
        "colab": {
          "base_uri": "https://localhost:8080/",
          "height": 69
        },
        "outputId": "0fad4004-924d-4613-89c3-8c9ea8126464"
      },
      "source": [
        "#alta difference always must be 0\n",
        "df_filter = data_time.copy().sort_values([\"CASE_ID\", \"INDEX\"])\n",
        "df_filter[(df_filter[\"ACTIVITY\"] == \"ALTA\") & (df_filter[\"Difference\"]>0)]"
      ],
      "execution_count": 12,
      "outputs": [
        {
          "output_type": "execute_result",
          "data": {
            "text/html": [
              "<div>\n",
              "<style scoped>\n",
              "    .dataframe tbody tr th:only-of-type {\n",
              "        vertical-align: middle;\n",
              "    }\n",
              "\n",
              "    .dataframe tbody tr th {\n",
              "        vertical-align: top;\n",
              "    }\n",
              "\n",
              "    .dataframe thead th {\n",
              "        text-align: right;\n",
              "    }\n",
              "</style>\n",
              "<table border=\"1\" class=\"dataframe\">\n",
              "  <thead>\n",
              "    <tr style=\"text-align: right;\">\n",
              "      <th></th>\n",
              "      <th>index</th>\n",
              "      <th>CASE_ID</th>\n",
              "      <th>ACTIVITY</th>\n",
              "      <th>DATE</th>\n",
              "      <th>INDEX</th>\n",
              "      <th>PATH</th>\n",
              "      <th>SIZE_PATH</th>\n",
              "      <th>USER_PER_SIZE_PATH</th>\n",
              "      <th>PERCENTAGE_PER_SIZE</th>\n",
              "      <th>USER_PER_PATH</th>\n",
              "      <th>PERCENTAGE_PER_PATH</th>\n",
              "      <th>TIMESTAMP</th>\n",
              "      <th>ArrivalTime</th>\n",
              "      <th>ServiceStartTime</th>\n",
              "      <th>DepartureTime</th>\n",
              "      <th>Difference</th>\n",
              "    </tr>\n",
              "  </thead>\n",
              "  <tbody>\n",
              "  </tbody>\n",
              "</table>\n",
              "</div>"
            ],
            "text/plain": [
              "Empty DataFrame\n",
              "Columns: [index, CASE_ID, ACTIVITY, DATE, INDEX, PATH, SIZE_PATH, USER_PER_SIZE_PATH, PERCENTAGE_PER_SIZE, USER_PER_PATH, PERCENTAGE_PER_PATH, TIMESTAMP, ArrivalTime, ServiceStartTime, DepartureTime, Difference]\n",
              "Index: []"
            ]
          },
          "metadata": {
            "tags": []
          },
          "execution_count": 12
        }
      ]
    },
    {
      "cell_type": "code",
      "metadata": {
        "id": "2Fb7EItcz-Lb",
        "colab_type": "code",
        "colab": {
          "base_uri": "https://localhost:8080/",
          "height": 117
        },
        "outputId": "216c195f-2607-49e2-dd9c-ae93b3b32cce"
      },
      "source": [
        "#last element must be ALTA\n",
        "df_filter.tail(1)"
      ],
      "execution_count": 13,
      "outputs": [
        {
          "output_type": "execute_result",
          "data": {
            "text/html": [
              "<div>\n",
              "<style scoped>\n",
              "    .dataframe tbody tr th:only-of-type {\n",
              "        vertical-align: middle;\n",
              "    }\n",
              "\n",
              "    .dataframe tbody tr th {\n",
              "        vertical-align: top;\n",
              "    }\n",
              "\n",
              "    .dataframe thead th {\n",
              "        text-align: right;\n",
              "    }\n",
              "</style>\n",
              "<table border=\"1\" class=\"dataframe\">\n",
              "  <thead>\n",
              "    <tr style=\"text-align: right;\">\n",
              "      <th></th>\n",
              "      <th>index</th>\n",
              "      <th>CASE_ID</th>\n",
              "      <th>ACTIVITY</th>\n",
              "      <th>DATE</th>\n",
              "      <th>INDEX</th>\n",
              "      <th>PATH</th>\n",
              "      <th>SIZE_PATH</th>\n",
              "      <th>USER_PER_SIZE_PATH</th>\n",
              "      <th>PERCENTAGE_PER_SIZE</th>\n",
              "      <th>USER_PER_PATH</th>\n",
              "      <th>PERCENTAGE_PER_PATH</th>\n",
              "      <th>TIMESTAMP</th>\n",
              "      <th>ArrivalTime</th>\n",
              "      <th>ServiceStartTime</th>\n",
              "      <th>DepartureTime</th>\n",
              "      <th>Difference</th>\n",
              "    </tr>\n",
              "  </thead>\n",
              "  <tbody>\n",
              "    <tr>\n",
              "      <th>511953</th>\n",
              "      <td>511953</td>\n",
              "      <td>173181031</td>\n",
              "      <td>ALTA</td>\n",
              "      <td>01/01/2018 2:35</td>\n",
              "      <td>2</td>\n",
              "      <td>ADMISION,TRIAJE,ALTA</td>\n",
              "      <td>3</td>\n",
              "      <td>50387</td>\n",
              "      <td>0.435467</td>\n",
              "      <td>50387</td>\n",
              "      <td>0.435467</td>\n",
              "      <td>1.514774e+09</td>\n",
              "      <td>31544941.0</td>\n",
              "      <td>31544941.0</td>\n",
              "      <td>31544941.0</td>\n",
              "      <td>0.0</td>\n",
              "    </tr>\n",
              "  </tbody>\n",
              "</table>\n",
              "</div>"
            ],
            "text/plain": [
              "         index    CASE_ID ACTIVITY  ... ServiceStartTime  DepartureTime Difference\n",
              "511953  511953  173181031     ALTA  ...       31544941.0     31544941.0        0.0\n",
              "\n",
              "[1 rows x 16 columns]"
            ]
          },
          "metadata": {
            "tags": []
          },
          "execution_count": 13
        }
      ]
    },
    {
      "cell_type": "markdown",
      "metadata": {
        "id": "eIyMGkuU0CpC",
        "colab_type": "text"
      },
      "source": [
        "all CASE_ID must have a ADMISION and a ALTA"
      ]
    },
    {
      "cell_type": "code",
      "metadata": {
        "id": "PGq1AHI00DG-",
        "colab_type": "code",
        "colab": {
          "base_uri": "https://localhost:8080/",
          "height": 34
        },
        "outputId": "edff606f-e7bf-455b-9739-eb7abe70a611"
      },
      "source": [
        "df_general = df_filter[\"CASE_ID\"].unique()\n",
        "df_ALTA = df_filter[df_filter[\"ACTIVITY\"] == \"ALTA\"][\"CASE_ID\"].unique()\n",
        "set(df_general) - set(df_ALTA)"
      ],
      "execution_count": 14,
      "outputs": [
        {
          "output_type": "execute_result",
          "data": {
            "text/plain": [
              "set()"
            ]
          },
          "metadata": {
            "tags": []
          },
          "execution_count": 14
        }
      ]
    },
    {
      "cell_type": "code",
      "metadata": {
        "id": "hqyEYRc20E1r",
        "colab_type": "code",
        "colab": {
          "base_uri": "https://localhost:8080/",
          "height": 34
        },
        "outputId": "5a41a9ee-f8ea-4ea7-f1dc-faf14b36c5a8"
      },
      "source": [
        "df_general = df_filter[\"CASE_ID\"].unique()\n",
        "df_ALTA = df_filter[df_filter[\"ACTIVITY\"] == \"ADMISION\"][\"CASE_ID\"].unique()\n",
        "set(df_general) - set(df_ALTA)"
      ],
      "execution_count": 15,
      "outputs": [
        {
          "output_type": "execute_result",
          "data": {
            "text/plain": [
              "set()"
            ]
          },
          "metadata": {
            "tags": []
          },
          "execution_count": 15
        }
      ]
    }
  ]
}